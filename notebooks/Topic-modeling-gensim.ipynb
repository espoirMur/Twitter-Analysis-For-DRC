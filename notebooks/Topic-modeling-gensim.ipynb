{
 "cells": [
  {
   "cell_type": "markdown",
   "metadata": {},
   "source": [
    "### Topic Modeling for Twitter"
   ]
  },
  {
   "cell_type": "markdown",
   "metadata": {},
   "source": [
    "In this notebook I will apply topic modeling on the twitter data I cleaned in a separate notebook.\n",
    "I will use LDA algorithm to model topic, \n",
    "Here are some usefuls ressources I used to learn the intuition behind topic modeling :\n",
    "    [AV introduction to topic Modeling](https://www.analyticsvidhya.com/blog/2016/08/beginners-guide-to-topic-modeling-in-python/) \n",
    "    [LDA Video](https://www.youtube.com/watch?v=3mHy4OSyRf0) \n",
    "    [Topic Modeling With Gesim](https://www.machinelearningplus.com/nlp/topic-modeling-gensim-python/)\n",
    "For the first start I will use pyhon sklearn library and gensim library"
   ]
  },
  {
   "cell_type": "code",
   "execution_count": 91,
   "metadata": {
    "scrolled": false
   },
   "outputs": [
    {
     "name": "stdout",
     "output_type": "stream",
     "text": [
      "Collecting pyLDAvis\n",
      "\u001b[?25l  Downloading https://files.pythonhosted.org/packages/a5/3a/af82e070a8a96e13217c8f362f9a73e82d61ac8fff3a2561946a97f96266/pyLDAvis-2.1.2.tar.gz (1.6MB)\n",
      "\u001b[K     |████████████████████████████████| 1.6MB 359kB/s eta 0:00:01\n",
      "\u001b[?25hRequirement already satisfied: wheel>=0.23.0 in /Users/espoir-mur/Projects/Personnal/twitter-analysis/.venv3/lib/python3.6/site-packages (from pyLDAvis) (0.33.4)\n",
      "Requirement already satisfied: numpy>=1.9.2 in /Users/espoir-mur/Projects/Personnal/twitter-analysis/.venv3/lib/python3.6/site-packages (from pyLDAvis) (1.16.4)\n",
      "Requirement already satisfied: scipy>=0.18.0 in /Users/espoir-mur/Projects/Personnal/twitter-analysis/.venv3/lib/python3.6/site-packages (from pyLDAvis) (1.3.0)\n",
      "Requirement already satisfied: pandas>=0.17.0 in /Users/espoir-mur/Projects/Personnal/twitter-analysis/.venv3/lib/python3.6/site-packages (from pyLDAvis) (0.24.2)\n",
      "Requirement already satisfied: joblib>=0.8.4 in /Users/espoir-mur/Projects/Personnal/twitter-analysis/.venv3/lib/python3.6/site-packages (from pyLDAvis) (0.13.2)\n",
      "Requirement already satisfied: jinja2>=2.7.2 in /Users/espoir-mur/Projects/Personnal/twitter-analysis/.venv3/lib/python3.6/site-packages (from pyLDAvis) (2.10.1)\n",
      "Collecting numexpr (from pyLDAvis)\n",
      "\u001b[?25l  Downloading https://files.pythonhosted.org/packages/a4/2c/71676625624fe67b8ea2236455ceaed634bcef995bbe250f014c5d9508fd/numexpr-2.6.9-cp36-cp36m-macosx_10_6_intel.macosx_10_9_intel.macosx_10_9_x86_64.macosx_10_10_intel.macosx_10_10_x86_64.whl (182kB)\n",
      "\u001b[K     |████████████████████████████████| 184kB 5.4MB/s eta 0:00:01\n",
      "\u001b[?25hCollecting pytest (from pyLDAvis)\n",
      "\u001b[?25l  Downloading https://files.pythonhosted.org/packages/56/53/0ae37ab12c457945ae0152c6571d6d40eecccddf25f71fe328f9aefe90ca/pytest-4.5.0-py2.py3-none-any.whl (227kB)\n",
      "\u001b[K     |████████████████████████████████| 235kB 15.4MB/s eta 0:00:01\n",
      "\u001b[?25hCollecting future (from pyLDAvis)\n",
      "\u001b[?25l  Downloading https://files.pythonhosted.org/packages/90/52/e20466b85000a181e1e144fd8305caf2cf475e2f9674e797b222f8105f5f/future-0.17.1.tar.gz (829kB)\n",
      "\u001b[K     |████████████████████████████████| 829kB 10.4MB/s eta 0:00:01    |██▊                             | 71kB 10.6MB/s eta 0:00:01\n",
      "\u001b[?25hCollecting funcy (from pyLDAvis)\n",
      "  Downloading https://files.pythonhosted.org/packages/b3/23/d1f90f4e2af5f9d4921ab3797e33cf0503e3f130dd390a812f3bf59ce9ea/funcy-1.12-py2.py3-none-any.whl\n",
      "Requirement already satisfied: pytz>=2011k in /Users/espoir-mur/Projects/Personnal/twitter-analysis/.venv3/lib/python3.6/site-packages (from pandas>=0.17.0->pyLDAvis) (2019.1)\n",
      "Requirement already satisfied: python-dateutil>=2.5.0 in /Users/espoir-mur/Projects/Personnal/twitter-analysis/.venv3/lib/python3.6/site-packages (from pandas>=0.17.0->pyLDAvis) (2.8.0)\n",
      "Requirement already satisfied: MarkupSafe>=0.23 in /Users/espoir-mur/Projects/Personnal/twitter-analysis/.venv3/lib/python3.6/site-packages (from jinja2>=2.7.2->pyLDAvis) (1.1.1)\n",
      "Requirement already satisfied: attrs>=17.4.0 in /Users/espoir-mur/Projects/Personnal/twitter-analysis/.venv3/lib/python3.6/site-packages (from pytest->pyLDAvis) (19.1.0)\n",
      "Collecting atomicwrites>=1.0 (from pytest->pyLDAvis)\n",
      "  Downloading https://files.pythonhosted.org/packages/52/90/6155aa926f43f2b2a22b01be7241be3bfd1ceaf7d0b3267213e8127d41f4/atomicwrites-1.3.0-py2.py3-none-any.whl\n",
      "Requirement already satisfied: setuptools in /Users/espoir-mur/Projects/Personnal/twitter-analysis/.venv3/lib/python3.6/site-packages (from pytest->pyLDAvis) (41.0.1)\n",
      "Collecting more-itertools>=4.0.0; python_version > \"2.7\" (from pytest->pyLDAvis)\n",
      "\u001b[?25l  Downloading https://files.pythonhosted.org/packages/b3/73/64fb5922b745fc1daee8a2880d907d2a70d9c7bb71eea86fcb9445daab5e/more_itertools-7.0.0-py3-none-any.whl (53kB)\n",
      "\u001b[K     |████████████████████████████████| 61kB 7.0MB/s eta 0:00:011\n",
      "\u001b[?25hRequirement already satisfied: six>=1.10.0 in /Users/espoir-mur/Projects/Personnal/twitter-analysis/.venv3/lib/python3.6/site-packages (from pytest->pyLDAvis) (1.12.0)\n",
      "Requirement already satisfied: wcwidth in /Users/espoir-mur/Projects/Personnal/twitter-analysis/.venv3/lib/python3.6/site-packages (from pytest->pyLDAvis) (0.1.7)\n",
      "Collecting py>=1.5.0 (from pytest->pyLDAvis)\n",
      "\u001b[?25l  Downloading https://files.pythonhosted.org/packages/76/bc/394ad449851729244a97857ee14d7cba61ddb268dce3db538ba2f2ba1f0f/py-1.8.0-py2.py3-none-any.whl (83kB)\n",
      "\u001b[K     |████████████████████████████████| 92kB 6.2MB/s eta 0:00:011\n",
      "\u001b[?25hCollecting pluggy!=0.10,<1.0,>=0.9 (from pytest->pyLDAvis)\n",
      "  Downloading https://files.pythonhosted.org/packages/06/ee/de89e0582276e3551df3110088bf20844de2b0e7df2748406876cc78e021/pluggy-0.12.0-py2.py3-none-any.whl\n",
      "Collecting importlib-metadata>=0.12 (from pluggy!=0.10,<1.0,>=0.9->pytest->pyLDAvis)\n",
      "  Downloading https://files.pythonhosted.org/packages/7f/72/5e13a37e989bdb54ac3f52808e122cbd9b878ac980f932dc237ff64f8a00/importlib_metadata-0.17-py2.py3-none-any.whl\n",
      "Collecting zipp>=0.5 (from importlib-metadata>=0.12->pluggy!=0.10,<1.0,>=0.9->pytest->pyLDAvis)\n",
      "  Downloading https://files.pythonhosted.org/packages/a0/0f/9bf71d438d2e9d5fd0e4569ea4d1a2b6f5a524c234c6d221b494298bb4d1/zipp-0.5.1-py2.py3-none-any.whl\n",
      "Building wheels for collected packages: pyLDAvis, future\n",
      "  Building wheel for pyLDAvis (setup.py) ... \u001b[?25ldone\n",
      "\u001b[?25h  Stored in directory: /Users/espoir-mur/Library/Caches/pip/wheels/98/71/24/513a99e58bb6b8465bae4d2d5e9dba8f0bef8179e3051ac414\n",
      "  Building wheel for future (setup.py) ... \u001b[?25ldone\n",
      "\u001b[?25h  Stored in directory: /Users/espoir-mur/Library/Caches/pip/wheels/0c/61/d2/d6b7317325828fbb39ee6ad559dbe4664d0896da4721bf379e\n",
      "Successfully built pyLDAvis future\n",
      "Installing collected packages: numexpr, atomicwrites, more-itertools, py, zipp, importlib-metadata, pluggy, pytest, future, funcy, pyLDAvis\n",
      "Successfully installed atomicwrites-1.3.0 funcy-1.12 future-0.17.1 importlib-metadata-0.17 more-itertools-7.0.0 numexpr-2.6.9 pluggy-0.12.0 py-1.8.0 pyLDAvis-2.1.2 pytest-4.5.0 zipp-0.5.1\n"
     ]
    }
   ],
   "source": [
    "# uncoment the next line to install gensim\n",
    "!pip install pyLDAvis"
   ]
  },
  {
   "cell_type": "code",
   "execution_count": 92,
   "metadata": {},
   "outputs": [],
   "source": [
    "import pandas as pd\n",
    "import gensim as gs\n",
    "import gensim.corpora as corpora\n",
    "from gensim.utils import simple_preprocess\n",
    "from gensim.models import CoherenceModel\n",
    "from pprint import pprint\n",
    "import pyLDAvis"
   ]
  },
  {
   "cell_type": "code",
   "execution_count": 45,
   "metadata": {},
   "outputs": [],
   "source": [
    "cleanned_tweets = pd.read_csv('../data/cleanned_tweets.csv', index_col='Unnamed: 0')"
   ]
  },
  {
   "cell_type": "code",
   "execution_count": 46,
   "metadata": {},
   "outputs": [],
   "source": [
    "cleanned_tweets.dropna(inplace=True)"
   ]
  },
  {
   "cell_type": "code",
   "execution_count": 47,
   "metadata": {},
   "outputs": [],
   "source": [
    "tweets_array = cleanned_tweets.get('cleanned_tweet').values"
   ]
  },
  {
   "cell_type": "code",
   "execution_count": 48,
   "metadata": {
    "scrolled": true
   },
   "outputs": [],
   "source": [
    "tweets_array = [tweet.split(' ') for tweet in tweets_array]"
   ]
  },
  {
   "cell_type": "code",
   "execution_count": 49,
   "metadata": {
    "scrolled": true
   },
   "outputs": [],
   "source": [
    "# Create Dictionary\n",
    "\n",
    "id2word = corpora.Dictionary(tweets_array)"
   ]
  },
  {
   "cell_type": "code",
   "execution_count": 50,
   "metadata": {},
   "outputs": [],
   "source": [
    "# Create Corpus\n",
    "texts = tweets_array"
   ]
  },
  {
   "cell_type": "code",
   "execution_count": 51,
   "metadata": {
    "scrolled": true
   },
   "outputs": [
    {
     "name": "stdout",
     "output_type": "stream",
     "text": [
      "[[(0, 1), (1, 1), (2, 1), (3, 1), (4, 1), (5, 1), (6, 1), (7, 1), (8, 1), (9, 1), (10, 1), (11, 1), (12, 1), (13, 1), (14, 1)]]\n"
     ]
    }
   ],
   "source": [
    "# Term Document Frequency\n",
    "corpus = [id2word.doc2bow(text) for text in texts]\n",
    "\n",
    "# View\n",
    "print(corpus[:1])"
   ]
  },
  {
   "cell_type": "code",
   "execution_count": 99,
   "metadata": {
    "scrolled": true
   },
   "outputs": [],
   "source": [
    "lda_model = gs.models.ldamodel.LdaModel(corpus=corpus,\n",
    "                                           id2word=id2word,\n",
    "                                           num_topics=10, \n",
    "                                           random_state=100,\n",
    "                                           update_every=1,\n",
    "                                           chunksize=100,\n",
    "                                           passes=100,\n",
    "                                           alpha='auto',\n",
    "                                           per_word_topics=True)"
   ]
  },
  {
   "cell_type": "code",
   "execution_count": 101,
   "metadata": {
    "scrolled": true
   },
   "outputs": [
    {
     "name": "stdout",
     "output_type": "stream",
     "text": [
      "==================\n",
      "topic label  0  =>word  0.017*\"come\" + 0.017*\"mort\" + 0.013*\"@fcc_rdc\" + 0.013*\"@sindika_dokolo\" + 0.011*\"tshimboj\" + 0.011*\"devoir\" + 0.011*\"discussion\" + 0.011*\"outbreak\" + 0.010*\"@elogemwandwe\" + 0.010*\"news\"\n",
      "==================\n",
      "topic label  1  =>word  0.013*\"@actualitecd\" + 0.010*\"around\" + 0.010*\"@martinfayulu\" + 0.010*\"décider\" + 0.009*\"population\" + 0.009*\"drcongo\" + 0.009*\"petit\" + 0.009*\"enfant\" + 0.009*\"kalemie\" + 0.008*\"cependant\"\n",
      "==================\n",
      "topic label  2  =>word  0.040*\"@presidence_rdc\" + 0.035*\"tshisekedi\" + 0.026*\"de\" + 0.021*\"etienne\" + 0.019*\"national\" + 0.017*\"@topcongo\" + 0.017*\"@fatshi13\" + 0.016*\"jeudi\" + 0.016*\"mai\" + 0.015*\"rdcongo\"\n",
      "==================\n",
      "topic label  3  =>word  0.040*\"le\" + 0.033*\"de\" + 0.030*\"-\" + 0.020*\"président\" + 0.019*\"non\" + 0.018*\"tshisekedi\" + 0.015*\"mai\" + 0.015*\"kabila\" + 0.014*\"étienne\" + 0.013*\"dépouill\"\n",
      "==================\n",
      "topic label  4  =>word  0.030*\"être\" + 0.028*\"@moise_katumbi\" + 0.022*\"@fatshi13\" + 0.021*\"@vitalkamerhe1\" + 0.021*\"ce\" + 0.017*\"@abelamundala\" + 0.013*\"pays\" + 0.013*\"@mwema_y\" + 0.013*\"begin\" + 0.012*\"brain\"\n",
      "==================\n",
      "topic label  5  =>word  0.017*\"héro\" + 0.016*\"ministériel\" + 0.016*\"poste\" + 0.012*\"communiquer\" + 0.011*\"@drc_2nd\" + 0.011*\"premier\" + 0.010*\"travers\" + 0.010*\"réserver\" + 0.009*\"engager\" + 0.008*\"@olongobasil\"\n",
      "==================\n",
      "topic label  6  =>word  0.025*\"tshisekedi\" + 0.020*\"futur\" + 0.013*\"exemple\" + 0.012*\"prendre\" + 0.011*\"million\" + 0.011*\"polémique\" + 0.010*\"étienne\" + 0.010*\"spécial\" + 0.010*\"part\" + 0.010*\"katanga\"\n",
      "==================\n",
      "topic label  7  =>word  0.019*\"dei\" + 0.018*\"di\" + 0.018*\"conti\" + 0.014*\"quota\" + 0.014*\"cort\" + 0.013*\"le\" + 0.013*\"lualaba\" + 0.012*\"justice\" + 0.010*\"propos\" + 0.009*\"mettre\"\n",
      "==================\n",
      "topic label  8  =>word  0.024*\"il\" + 0.022*\"se\" + 0.018*\"ch\" + 0.018*\"que\" + 0.017*\"savoir\" + 0.014*\"mobutu\" + 0.014*\"@jeanclaudekat2\" + 0.012*\"htt\" + 0.012*\"pouvoir\" + 0.010*\"le\"\n",
      "==================\n",
      "topic label  9  =>word  0.031*\"e\" + 0.023*\"ebola\" + 0.021*\"-\" + 0.020*\"obsèque\" + 0.015*\"naufrage\" + 0.013*\"new\" + 0.012*\"na\" + 0.010*\"tshisekedi\" + 0.008*\"kagame\" + 0.008*\"dire\"\n"
     ]
    }
   ],
   "source": [
    "for label, words in lda_model.print_topics():\n",
    "    print('==================')\n",
    "    print(\"topic label \", label, ' =>word ',  words)"
   ]
  },
  {
   "cell_type": "markdown",
   "metadata": {},
   "source": [
    "From the first impression the model is not that accurate , there are some with word which has no sense, the only topic I can identify from those tweet are the holy day on thurday due to Tshisekedi death ."
   ]
  },
  {
   "cell_type": "markdown",
   "metadata": {},
   "source": [
    "From now , if we remove mentions and english word and article we can have better accuracy, we need to improve the model\n",
    "on that side"
   ]
  },
  {
   "cell_type": "markdown",
   "metadata": {},
   "source": [
    "The step to improve the model will be to remove mention, remove english word, and some useless word."
   ]
  },
  {
   "cell_type": "code",
   "execution_count": 102,
   "metadata": {},
   "outputs": [
    {
     "name": "stdout",
     "output_type": "stream",
     "text": [
      "\n",
      "Perplexity:  -7.954524536656986\n"
     ]
    }
   ],
   "source": [
    "print('\\nPerplexity: ', lda_model.log_perplexity(corpus))"
   ]
  },
  {
   "cell_type": "code",
   "execution_count": 103,
   "metadata": {},
   "outputs": [
    {
     "name": "stdout",
     "output_type": "stream",
     "text": [
      "\n",
      "Coherence Score:  0.4338861927091099\n"
     ]
    }
   ],
   "source": [
    "# Compute Coherence Score\n",
    "coherence_model_lda = CoherenceModel(model=lda_model, texts=texts, dictionary=id2word, coherence='c_v')\n",
    "coherence_lda = coherence_model_lda.get_coherence()\n",
    "print('\\nCoherence Score: ', coherence_lda)"
   ]
  },
  {
   "cell_type": "code",
   "execution_count": 104,
   "metadata": {},
   "outputs": [],
   "source": [
    "import pyLDAvis.gensim"
   ]
  },
  {
   "cell_type": "code",
   "execution_count": 105,
   "metadata": {
    "scrolled": true
   },
   "outputs": [
    {
     "name": "stderr",
     "output_type": "stream",
     "text": [
      "/Users/espoir-mur/Projects/Personnal/twitter-analysis/.venv3/lib/python3.6/site-packages/pyLDAvis/_prepare.py:257: FutureWarning: Sorting because non-concatenation axis is not aligned. A future version\n",
      "of pandas will change to not sort by default.\n",
      "\n",
      "To accept the future behavior, pass 'sort=False'.\n",
      "\n",
      "To retain the current behavior and silence the warning, pass 'sort=True'.\n",
      "\n",
      "  return pd.concat([default_term_info] + list(topic_dfs))\n"
     ]
    },
    {
     "data": {
      "text/html": [
       "\n",
       "<link rel=\"stylesheet\" type=\"text/css\" href=\"https://cdn.rawgit.com/bmabey/pyLDAvis/files/ldavis.v1.0.0.css\">\n",
       "\n",
       "\n",
       "<div id=\"ldavis_el4165149760642164034813279\"></div>\n",
       "<script type=\"text/javascript\">\n",
       "\n",
       "var ldavis_el4165149760642164034813279_data = {\"mdsDat\": {\"x\": [0.29740686382996406, 0.008862373989619256, -0.08219000228485261, 0.18538451009105653, -0.10783914861334219, -0.06826838399557751, -0.07076256163757894, -0.007221816891022083, -0.07970697112816166, -0.07566486336010493], \"y\": [-0.04867178816343269, 0.21985538795089613, -0.280250360105765, -0.012118454490329368, 0.037006351952562036, 0.020337991589839656, -0.004555308667052415, 0.030084002921349783, 0.02160852567508639, 0.01670365133684521], \"topics\": [1, 2, 3, 4, 5, 6, 7, 8, 9, 10], \"cluster\": [1, 1, 1, 1, 1, 1, 1, 1, 1, 1], \"Freq\": [19.828216552734375, 14.180862426757812, 13.563923835754395, 11.749594688415527, 9.287237167358398, 7.684615135192871, 6.946168899536133, 6.192646026611328, 6.139990329742432, 4.426743030548096]}, \"tinfo\": {\"Category\": [\"Default\", \"Default\", \"Default\", \"Default\", \"Default\", \"Default\", \"Default\", \"Default\", \"Default\", \"Default\", \"Default\", \"Default\", \"Default\", \"Default\", \"Default\", \"Default\", \"Default\", \"Default\", \"Default\", \"Default\", \"Default\", \"Default\", \"Default\", \"Default\", \"Default\", \"Default\", \"Default\", \"Default\", \"Default\", \"Default\", \"Topic1\", \"Topic1\", \"Topic1\", \"Topic1\", \"Topic1\", \"Topic1\", \"Topic1\", \"Topic1\", \"Topic1\", \"Topic1\", \"Topic1\", \"Topic1\", \"Topic1\", \"Topic1\", \"Topic1\", \"Topic1\", \"Topic1\", \"Topic1\", \"Topic1\", \"Topic1\", \"Topic1\", \"Topic1\", \"Topic1\", \"Topic1\", \"Topic1\", \"Topic1\", \"Topic1\", \"Topic1\", \"Topic1\", \"Topic1\", \"Topic1\", \"Topic1\", \"Topic1\", \"Topic1\", \"Topic1\", \"Topic1\", \"Topic1\", \"Topic1\", \"Topic1\", \"Topic1\", \"Topic1\", \"Topic1\", \"Topic2\", \"Topic2\", \"Topic2\", \"Topic2\", \"Topic2\", \"Topic2\", \"Topic2\", \"Topic2\", \"Topic2\", \"Topic2\", \"Topic2\", \"Topic2\", \"Topic2\", \"Topic2\", \"Topic2\", \"Topic2\", \"Topic2\", \"Topic2\", \"Topic2\", \"Topic2\", \"Topic2\", \"Topic2\", \"Topic2\", \"Topic2\", \"Topic2\", \"Topic2\", \"Topic2\", \"Topic2\", \"Topic2\", \"Topic2\", \"Topic2\", \"Topic2\", \"Topic2\", \"Topic2\", \"Topic2\", \"Topic3\", \"Topic3\", \"Topic3\", \"Topic3\", \"Topic3\", \"Topic3\", \"Topic3\", \"Topic3\", \"Topic3\", \"Topic3\", \"Topic3\", \"Topic3\", \"Topic3\", \"Topic3\", \"Topic3\", \"Topic3\", \"Topic3\", \"Topic3\", \"Topic3\", \"Topic3\", \"Topic3\", \"Topic3\", \"Topic3\", \"Topic3\", \"Topic3\", \"Topic3\", \"Topic3\", \"Topic3\", \"Topic3\", \"Topic3\", \"Topic3\", \"Topic4\", \"Topic4\", \"Topic4\", \"Topic4\", \"Topic4\", \"Topic4\", \"Topic4\", \"Topic4\", \"Topic4\", \"Topic4\", \"Topic4\", \"Topic4\", \"Topic4\", \"Topic4\", \"Topic4\", \"Topic4\", \"Topic4\", \"Topic4\", \"Topic4\", \"Topic4\", \"Topic4\", \"Topic4\", \"Topic4\", \"Topic4\", \"Topic4\", \"Topic4\", \"Topic4\", \"Topic4\", \"Topic4\", \"Topic4\", \"Topic4\", \"Topic4\", \"Topic4\", \"Topic4\", \"Topic4\", \"Topic4\", \"Topic4\", \"Topic4\", \"Topic4\", \"Topic5\", \"Topic5\", \"Topic5\", \"Topic5\", \"Topic5\", \"Topic5\", \"Topic5\", \"Topic5\", \"Topic5\", \"Topic5\", \"Topic5\", \"Topic5\", \"Topic5\", \"Topic5\", \"Topic5\", \"Topic5\", \"Topic5\", \"Topic5\", \"Topic5\", \"Topic5\", \"Topic5\", \"Topic5\", \"Topic5\", \"Topic5\", \"Topic5\", \"Topic5\", \"Topic5\", \"Topic5\", \"Topic5\", \"Topic5\", \"Topic6\", \"Topic6\", \"Topic6\", \"Topic6\", \"Topic6\", \"Topic6\", \"Topic6\", \"Topic6\", \"Topic6\", \"Topic6\", \"Topic6\", \"Topic6\", \"Topic6\", \"Topic6\", \"Topic6\", \"Topic6\", \"Topic6\", \"Topic6\", \"Topic6\", \"Topic6\", \"Topic6\", \"Topic6\", \"Topic6\", \"Topic6\", \"Topic6\", \"Topic6\", \"Topic6\", \"Topic6\", \"Topic6\", \"Topic6\", \"Topic6\", \"Topic7\", \"Topic7\", \"Topic7\", \"Topic7\", \"Topic7\", \"Topic7\", \"Topic7\", \"Topic7\", \"Topic7\", \"Topic7\", \"Topic7\", \"Topic7\", \"Topic7\", \"Topic7\", \"Topic7\", \"Topic7\", \"Topic7\", \"Topic7\", \"Topic7\", \"Topic7\", \"Topic7\", \"Topic7\", \"Topic7\", \"Topic7\", \"Topic7\", \"Topic7\", \"Topic7\", \"Topic7\", \"Topic7\", \"Topic7\", \"Topic7\", \"Topic7\", \"Topic8\", \"Topic8\", \"Topic8\", \"Topic8\", \"Topic8\", \"Topic8\", \"Topic8\", \"Topic8\", \"Topic8\", \"Topic8\", \"Topic8\", \"Topic8\", \"Topic8\", \"Topic8\", \"Topic8\", \"Topic8\", \"Topic8\", \"Topic8\", \"Topic8\", \"Topic8\", \"Topic8\", \"Topic8\", \"Topic8\", \"Topic8\", \"Topic8\", \"Topic8\", \"Topic8\", \"Topic8\", \"Topic8\", \"Topic8\", \"Topic8\", \"Topic8\", \"Topic9\", \"Topic9\", \"Topic9\", \"Topic9\", \"Topic9\", \"Topic9\", \"Topic9\", \"Topic9\", \"Topic9\", \"Topic9\", \"Topic9\", \"Topic9\", \"Topic9\", \"Topic9\", \"Topic9\", \"Topic9\", \"Topic9\", \"Topic9\", \"Topic9\", \"Topic9\", \"Topic9\", \"Topic9\", \"Topic9\", \"Topic9\", \"Topic9\", \"Topic9\", \"Topic9\", \"Topic9\", \"Topic9\", \"Topic9\", \"Topic9\", \"Topic10\", \"Topic10\", \"Topic10\", \"Topic10\", \"Topic10\", \"Topic10\", \"Topic10\", \"Topic10\", \"Topic10\", \"Topic10\", \"Topic10\", \"Topic10\", \"Topic10\", \"Topic10\", \"Topic10\", \"Topic10\", \"Topic10\", \"Topic10\", \"Topic10\", \"Topic10\", \"Topic10\", \"Topic10\", \"Topic10\", \"Topic10\", \"Topic10\", \"Topic10\", \"Topic10\", \"Topic10\", \"Topic10\", \"Topic10\"], \"Freq\": [178.0, 182.0, 245.0, 132.0, 187.0, 88.0, 101.0, 65.0, 46.0, 88.0, 101.0, 44.0, 82.0, 57.0, 70.0, 53.0, 50.0, 54.0, 49.0, 44.0, 61.0, 60.0, 33.0, 78.0, 57.0, 33.0, 32.0, 33.0, 42.0, 46.0, 69.64982604980469, 60.626216888427734, 59.614112854003906, 57.1838493347168, 44.371402740478516, 44.33481979370117, 43.377777099609375, 41.287845611572266, 41.12053298950195, 40.969661712646484, 36.29777908325195, 32.56300354003906, 29.969104766845703, 29.721784591674805, 26.05348014831543, 25.251981735229492, 25.216535568237305, 24.82599639892578, 24.434877395629883, 22.915401458740234, 22.55049705505371, 21.396507263183594, 21.29141616821289, 20.86613655090332, 20.048274993896484, 19.187042236328125, 19.013607025146484, 18.5113525390625, 18.282682418823242, 18.083932876586914, 77.9024658203125, 82.54847717285156, 161.19638061523438, 64.32865905761719, 51.57253646850586, 141.33522033691406, 103.79251861572266, 66.27450561523438, 41.982295989990234, 64.0622329711914, 36.08779525756836, 42.209102630615234, 87.88765716552734, 64.43795013427734, 57.272396087646484, 42.08925247192383, 38.420440673828125, 35.367366790771484, 21.956796646118164, 21.888015747070312, 21.536067962646484, 21.12591552734375, 20.913787841796875, 20.88689613342285, 20.388629913330078, 20.35228157043457, 19.583059310913086, 19.432979583740234, 18.030759811401367, 17.477617263793945, 17.008636474609375, 16.778884887695312, 16.700969696044922, 15.00586223602295, 14.570226669311523, 14.00224781036377, 13.8683500289917, 13.395257949829102, 13.382024765014648, 13.292647361755371, 12.594396591186523, 12.499484062194824, 19.35654067993164, 60.88264465332031, 17.509262084960938, 29.81979751586914, 16.997562408447266, 52.362464904785156, 49.564151763916016, 48.36342239379883, 38.10746383666992, 37.732177734375, 35.703956604003906, 32.60894775390625, 28.286069869995117, 25.325586318969727, 23.316431045532227, 21.291553497314453, 21.1828670501709, 20.41001319885254, 19.672481536865234, 19.067485809326172, 18.511077880859375, 17.405719757080078, 17.328460693359375, 17.141437530517578, 17.109638214111328, 14.83944320678711, 14.675240516662598, 13.687817573547363, 13.261913299560547, 13.223746299743652, 11.948030471801758, 11.793404579162598, 11.732596397399902, 11.497397422790527, 11.471639633178711, 35.99033737182617, 44.22279739379883, 34.45972442626953, 30.415319442749023, 27.45906639099121, 25.688688278198242, 25.315099716186523, 24.235021591186523, 23.779319763183594, 21.507755279541016, 20.5079402923584, 18.561832427978516, 18.354703903198242, 18.285551071166992, 17.071413040161133, 14.65832233428955, 14.164765357971191, 14.095427513122559, 13.944872856140137, 13.650219917297363, 12.774129867553711, 12.614176750183105, 12.030900001525879, 11.938094139099121, 11.86390495300293, 11.809724807739258, 10.640458106994629, 10.549657821655273, 10.520079612731934, 10.391183853149414, 10.336820602416992, 46.979251861572266, 32.66476058959961, 94.8726577758789, 70.79644775390625, 78.60491943359375, 36.5967903137207, 42.19478225708008, 13.124056816101074, 13.332572937011719, 24.59664535522461, 19.184785842895508, 18.277814865112305, 18.241899490356445, 17.694782257080078, 17.22700309753418, 16.46336555480957, 16.194366455078125, 16.10317039489746, 15.018144607543945, 14.616838455200195, 14.23833179473877, 14.13485050201416, 14.102165222167969, 14.042587280273438, 13.778831481933594, 13.778831481933594, 13.778831481933594, 13.778831481933594, 13.778831481933594, 13.778831481933594, 13.071510314941406, 12.31008529663086, 12.280035972595215, 12.085132598876953, 11.971495628356934, 11.762613296508789, 11.46347427368164, 10.368473052978516, 10.333597183227539, 46.19744110107422, 44.06439208984375, 33.17579650878906, 32.423519134521484, 26.79936981201172, 20.647842407226562, 20.206453323364258, 20.135866165161133, 19.319095611572266, 18.449430465698242, 16.78474998474121, 16.06581687927246, 14.889219284057617, 13.297138214111328, 13.094673156738281, 12.044395446777344, 11.940776824951172, 11.861851692199707, 10.267552375793457, 9.694805145263672, 9.694805145263672, 9.694805145263672, 9.610150337219238, 8.772589683532715, 8.010235786437988, 7.79927921295166, 7.593969821929932, 7.025473594665527, 6.938208103179932, 6.865890026092529, 34.57109069824219, 33.11727523803711, 31.347393035888672, 25.479658126831055, 25.009807586669922, 23.479183197021484, 19.76148796081543, 18.950416564941406, 16.556800842285156, 16.33099365234375, 13.087529182434082, 10.777815818786621, 9.623425483703613, 9.227764129638672, 8.9299898147583, 8.9299898147583, 8.9299898147583, 8.862186431884766, 8.711441993713379, 8.566474914550781, 8.204510688781738, 7.333115100860596, 7.095545768737793, 6.87371826171875, 6.712307453155518, 6.5259833335876465, 6.454236030578613, 6.454236030578613, 6.454236030578613, 6.454236030578613, 6.454236030578613, 11.140243530273438, 13.542198181152344, 24.770448684692383, 15.970002174377441, 14.988397598266602, 14.298483848571777, 13.854806900024414, 12.762770652770996, 12.545536041259766, 12.392414093017578, 11.537476539611816, 11.034346580505371, 10.815035820007324, 10.604613304138184, 10.312423706054688, 10.271098136901855, 10.271098136901855, 10.271098136901855, 10.248574256896973, 9.738654136657715, 9.5306396484375, 9.339242935180664, 8.66843032836914, 8.66843032836914, 8.66843032836914, 8.66843032836914, 7.950552463531494, 7.910717964172363, 7.2977423667907715, 6.7605509757995605, 6.7605509757995605, 6.561420440673828, 31.467636108398438, 13.034622192382812, 21.290998458862305, 20.45008087158203, 16.408584594726562, 16.050445556640625, 14.080795288085938, 13.783209800720215, 13.727422714233398, 13.234293937683105, 12.07007122039795, 11.848616600036621, 10.899965286254883, 10.79207706451416, 9.94798755645752, 9.634797096252441, 9.634797096252441, 7.130854606628418, 7.130854606628418, 7.130854606628418, 7.130854606628418, 7.130854606628418, 7.130854606628418, 7.130854606628418, 7.130854606628418, 7.130854606628418, 6.854098796844482, 6.854098796844482, 6.792887210845947, 6.6629228591918945, 6.419150352478027, 6.224053859710693, 7.111274719238281, 15.352538108825684, 14.71859073638916, 14.084078788757324, 10.45972728729248, 10.02696704864502, 9.852066993713379, 9.043313980102539, 8.514159202575684, 7.961675643920898, 7.3652496337890625, 7.359841346740723, 6.888562202453613, 6.620796203613281, 6.620796203613281, 6.620796203613281, 6.620796203613281, 6.436561107635498, 5.858164310455322, 5.520486354827881, 5.1366705894470215, 4.950386047363281, 4.9150238037109375, 4.763303756713867, 4.746800899505615, 4.7353081703186035, 4.206606864929199, 3.9470767974853516, 3.811180353164673, 3.7752010822296143, 3.680483341217041], \"Term\": [\"@presidence_rdc\", \"de\", \"tshisekedi\", \"-\", \"le\", \"e\", \"@fatshi13\", \"ebola\", \"\\u00eatre\", \"etienne\", \"mai\", \"@moise_katumbi\", \"national\", \"obs\\u00e8que\", \"@topcongo\", \"dei\", \"di\", \"pr\\u00e9sident\", \"conti\", \"non\", \"rdcongo\", \"kinshaser\", \"il\", \"jeudi\", \"journ\\u00e9e\", \"@vitalkamerhe1\", \"se\", \"ce\", \"naufrage\", \"\\u00e9tienne\", \"@topcongo\", \"rdcongo\", \"kinshaser\", \"journ\\u00e9e\", \"kinshasa\", \"\\u00ab\", \"tout\", \"h\\u00e9ros\", \"heure\", \"del\", \"\\u00bb\", \"_\", \"ville\", \"an\", \"\\u00e9tendu\", \"ministre\", \"un\", \"indiscutablement\", \"dr\", \"los\", \"combat\", \"officiel\", \"\\u00e9bola\", \"probable\", \"fun\\u00e9raille\", \"muerto\", \"ya\", \"@msf_espana\", \"toujours\", \"m\\u00e1\", \"national\", \"etienne\", \"@presidence_rdc\", \"jeudi\", \"payer\", \"tshisekedi\", \"de\", \"@fatshi13\", \"\\u00e9tienn\", \"mai\", \"ch\\u00f4m\\u00e9\", \"le\", \"e\", \"ebola\", \"obs\\u00e8que\", \"naufrage\", \"new\", \"na\", \"kagame\", \"dire\", \"may\", \"ndombe\", \"paul\", \"great\", \"antoin\", \"salvador\", \"etat\", \"@luchardc\", \"world\", \"thanks\", \"afrique\", \"femme\", \"sud\", \"rapport\", \"compassion\", \"ma\\u00ef\", \"nouveau\", \"message\", \"@politicocd\", \"tshilombo\", \"mourir\", \"surv\", \"f\\u00e9li\", \"-\", \"chef\", \"tshisekedi\", \"@presidence_rdc\", \"dei\", \"di\", \"conti\", \"quota\", \"cort\", \"lualaba\", \"justice\", \"propos\", \"mettre\", \"aller\", \"che\", \"@scode_rdc\", \"per\", \"@muyambokyassa\", \"d\\u00e9put\\u00e9\", \"\\u00e8\", \"tutto\", \"Monsieur\", \"boccia\", \"accuser\", \"ha\", \"@ensemble_mk\", \"total\", \"dal\", \"@ilfoglio_it\", \"@muyambokyasser\", \"governo\", \"ouganda\", \"@ii_papy\", \"al\", \"le\", \"non\", \"kabila\", \"d\\u00e9pouill\", \"wa\", \"@stanysbujakerer\", \"fcc\", \"gouvernement\", \"joseph\", \"rdc\", \"journer\", \"r\\u00e9publiqu\", \"homme\", \"histoire\", \"@7sur7_cd\", \"cach\", \"rester\", \"jeune\", \"politique\", \"urgent\", \"me\", \"rapatriement\", \"drame\", \"kabiler\", \"saluer\", \"@africatoptweet\", \"civil\", \"grand\", \"f\\u00e9lix\", \"@magazinenation\", \"toucher\", \"pr\\u00e9sident\", \"\\u00e9tienne\", \"le\", \"-\", \"de\", \"mai\", \"tshisekedi\", \"\\u00e9tienn\", \"jeudi\", \"@actualitecd\", \"around\", \"@martinfayulu\", \"d\\u00e9cider\", \"population\", \"drcongo\", \"petit\", \"enfant\", \"kalemie\", \"cependant\", \"body\", \"people\", \"ann\\u00e9e\", \"par\", \"@lusengej\", \"fourniture\", \"scolaire\", \"offrir\", \"@nissybtk\", \"cel\", \"salut\", \"s\", \"w\", \"p\", \"d\\u00e9mocratie\", \"communaut\\u00e9\", \"@ffcrdc\", \"@juantedbelka\", \"@2010leehurst\", \"da\", \"\\u00eatre\", \"@moise_katumbi\", \"@vitalkamerhe1\", \"ce\", \"@abelamundala\", \"pays\", \"@mwema_y\", \"begin\", \"brain\", \"@rkitsita\", \"ne\", \"peuple\", \"@billykambale1\", \"d\\u00e9mocratique\", \"vouloir\", \"day\", \"cancer\", \"hommage\", \"avoir\", \"braintumors\", \"primary\", \"tumor\", \"spread\", \"@mayoclinic\", \"voir\", \"rwanda\", \"je\", \"faire\", \"@ngalulape\", \"chairman\", \"@fatshi13\", \"il\", \"se\", \"ch\", \"que\", \"savoir\", \"mobutu\", \"@jeanclaudekat2\", \"htt\", \"pouvoir\", \"penser\", \"assembl\\u00e9e\", \"fil\", \"prov\", \"lever\", \"immuniter\", \"interpeller\", \"@habarirdc\", \"falloir\", \"conna\\u00eetre\", \"exclure\", \"cas\", \"faite\", \"r\\u00e9ponse\", \"face\", \"tshisekedi.le\", \"allusion\", \"@benkabongo6\", \"\\u00e9viton\", \"@elietaberuke\", \"contradiction\", \"devenir\", \"le\", \"futur\", \"exemple\", \"prendre\", \"million\", \"pol\\u00e9mique\", \"sp\\u00e9cial\", \"part\", \"katanga\", \"g\\u00e9n\\u00e9ration\", \"one\", \"paix\", \"seul\", \"annoncer\", \"reculer\", \"je\\u00fbne\", \"insurrectio\", \"@rfi\", \"gen\", \"felix\", \"co\\u00fbt\", \"option\", \"m\\u00eame\", \"utiliser\", \"contredir\", \"obs\\u00e8quer\", \"lorsque\", \"retour\", \"m\\u00ea\", \"@teamcongo\", \"latest\", \"tshisekedi\", \"\\u00e9tienne\", \"come\", \"mort\", \"@fcc_rdc\", \"@sindika_dokolo\", \"tshimboj\", \"devoir\", \"discussion\", \"outbreak\", \"@elogemwandwe\", \"news\", \"stay\", \"@lwarhibam\", \"merci\", \"@tvietor08\", \"@ronaldklain\", \"@agnesbuzyn\", \"r\\u00e9tention\", \"mesnil-amelot\", \"gravemen\", \"eulsion\", \"enferm\\u00e9\", \"cra\", \"@lacimade\", \"@ccastaner\", \"charger\", \"r\\u00e9union\", \"venir\", \"participer\", \"@johnmurton\", \"president\", \"pr\\u00e9sident\", \"h\\u00e9ro\", \"minist\\u00e9riel\", \"poste\", \"communiquer\", \"@drc_2nd\", \"premier\", \"travers\", \"r\\u00e9server\", \"engager\", \"@olongobasil\", \"\\u00e9lev\\u00e9\", \"front\", \"souten\", \"causer\", \"@guyloando\", \"@fondationwidal\", \"statut\", \"naus\\u00e9abond\", \"chaleureux\", \"titre\", \"afriqu\", \"@erumeruta\", \"path\\u00e9tique\", \"video\", \"leader\", \"effort\", \"dan\", \"mois\", \"famille\", \"f\\u00e9licitation\"], \"Total\": [178.0, 182.0, 245.0, 132.0, 187.0, 88.0, 101.0, 65.0, 46.0, 88.0, 101.0, 44.0, 82.0, 57.0, 70.0, 53.0, 50.0, 54.0, 49.0, 44.0, 61.0, 60.0, 33.0, 78.0, 57.0, 33.0, 32.0, 33.0, 42.0, 46.0, 70.29808807373047, 61.2745361328125, 60.26244354248047, 57.83209991455078, 45.01968002319336, 44.983154296875, 44.02607345581055, 41.936187744140625, 41.76884460449219, 41.6181526184082, 36.94607925415039, 33.211875915527344, 30.61737060546875, 30.370285034179688, 26.701723098754883, 25.900272369384766, 25.86494255065918, 25.474254608154297, 25.083232879638672, 23.563690185546875, 23.1988582611084, 22.0447998046875, 21.939661026000977, 21.514446258544922, 20.6965389251709, 19.83528709411621, 19.662315368652344, 19.159597396850586, 18.93112564086914, 18.732181549072266, 82.55044555664062, 88.37860107421875, 178.7587890625, 78.228271484375, 64.6236343383789, 245.2345733642578, 182.96453857421875, 101.42292022705078, 55.673439025878906, 101.22612762451172, 47.823612213134766, 187.0396728515625, 88.55094909667969, 65.10108947753906, 57.93558883666992, 42.752288818359375, 39.08354187011719, 36.03052520751953, 22.61982536315918, 22.551494598388672, 22.199113845825195, 21.78898811340332, 21.57682991027832, 21.55002212524414, 21.051652908325195, 21.015277862548828, 20.246122360229492, 20.09626579284668, 18.69383430480957, 18.140708923339844, 17.671733856201172, 17.442012786865234, 17.364166259765625, 15.668871879577637, 15.233255386352539, 14.665342330932617, 14.531585693359375, 14.058259010314941, 14.045182228088379, 13.955658912658691, 13.257657051086426, 13.162481307983398, 22.207273483276367, 132.26101684570312, 26.094144821166992, 245.2345733642578, 178.7587890625, 53.03313064575195, 50.23481750488281, 49.03408432006836, 38.77812957763672, 38.40283966064453, 36.37470626831055, 33.27970504760742, 28.956892013549805, 25.996328353881836, 23.987380981445312, 21.962217330932617, 21.85365104675293, 21.080678939819336, 20.34331512451172, 19.738262176513672, 19.18174171447754, 18.076379776000977, 17.999263763427734, 17.812097549438477, 17.78049659729004, 15.510109901428223, 15.345915794372559, 14.358524322509766, 13.932570457458496, 13.89440631866455, 12.618707656860352, 12.464066505432129, 12.403261184692383, 12.168072700500488, 12.142372131347656, 187.0396728515625, 44.88838577270508, 35.12507629394531, 31.08066749572754, 28.124492645263672, 26.35411262512207, 25.980451583862305, 24.900413513183594, 24.444623947143555, 22.173070907592773, 21.173269271850586, 19.227378845214844, 19.0202693939209, 18.95091438293457, 17.736732482910156, 15.323660850524902, 14.830573081970215, 14.760762214660645, 14.610276222229004, 14.315520286560059, 13.439570426940918, 13.279488563537598, 12.696362495422363, 12.60343074798584, 12.529204368591309, 12.475179672241211, 11.305985450744629, 11.215107917785645, 11.185392379760742, 11.056517601013184, 11.002334594726562, 54.68960189819336, 46.29832077026367, 187.0396728515625, 132.26101684570312, 182.96453857421875, 101.22612762451172, 245.2345733642578, 55.673439025878906, 78.228271484375, 25.264652252197266, 19.852935791015625, 18.945728302001953, 18.909757614135742, 18.362712860107422, 17.89493179321289, 17.131175994873047, 16.862192153930664, 16.77096939086914, 15.685954093933105, 15.285035133361816, 14.90644359588623, 14.802635192871094, 14.769957542419434, 14.710515975952148, 14.446616172790527, 14.446616172790527, 14.446616172790527, 14.446616172790527, 14.446616172790527, 14.446616172790527, 13.739355087280273, 12.977954864501953, 12.948163986206055, 12.753046035766602, 12.63944149017334, 12.430474281311035, 12.131624221801758, 11.036259651184082, 11.0015869140625, 46.873085021972656, 44.7402229309082, 33.85139465332031, 33.0991096496582, 27.474950790405273, 21.323442459106445, 20.88201141357422, 20.811424255371094, 19.994653701782227, 19.1251277923584, 17.46031951904297, 16.741416931152344, 15.564776420593262, 13.972947120666504, 13.770511627197266, 12.72024154663086, 12.616393089294434, 12.537548065185547, 10.94315242767334, 10.370365142822266, 10.370365142822266, 10.370365142822266, 10.285735130310059, 9.448148727416992, 8.685881614685059, 8.475299835205078, 8.269622802734375, 7.701086044311523, 7.613825798034668, 7.541512489318848, 101.42292022705078, 33.79798126220703, 32.02818298339844, 26.160560607910156, 25.690521240234375, 24.160064697265625, 20.442224502563477, 19.63112449645996, 17.237815856933594, 17.011735916137695, 13.76832389831543, 11.458484649658203, 10.304126739501953, 9.908434867858887, 9.610657691955566, 9.610657691955566, 9.610657691955566, 9.542908668518066, 9.392148971557617, 9.247437477111816, 8.885208129882812, 8.013914108276367, 7.776265621185303, 7.554385662078857, 7.3931779861450195, 7.206660270690918, 7.134901523590088, 7.134901523590088, 7.134901523590088, 7.134901523590088, 7.134901523590088, 14.504962921142578, 187.0396728515625, 25.4506778717041, 16.650184631347656, 15.668623924255371, 14.978713035583496, 14.535037994384766, 13.44318962097168, 13.226115226745605, 13.072583198547363, 12.217620849609375, 11.7146635055542, 11.495240211486816, 11.284902572631836, 10.992643356323242, 10.951241493225098, 10.951241493225098, 10.951241493225098, 10.928730964660645, 10.418803215026855, 10.210816383361816, 10.019387245178223, 9.348567962646484, 9.348567962646484, 9.348567962646484, 9.348567962646484, 8.630751609802246, 8.590886116027832, 7.977909088134766, 7.440688610076904, 7.440688610076904, 7.241562366485596, 245.2345733642578, 46.29832077026367, 21.971309661865234, 21.13038444519043, 17.088871002197266, 16.730844497680664, 14.761224746704102, 14.463608741760254, 14.407671928405762, 13.91458511352539, 12.750310897827148, 12.528839111328125, 11.580187797546387, 11.472529411315918, 10.628434181213379, 10.315018653869629, 10.315018653869629, 7.811061382293701, 7.811061382293701, 7.811061382293701, 7.811061382293701, 7.811061382293701, 7.811061382293701, 7.811061382293701, 7.811061382293701, 7.811061382293701, 7.534341335296631, 7.534341335296631, 7.473219871520996, 7.343412399291992, 7.099422931671143, 6.9043073654174805, 54.68960189819336, 16.039796829223633, 15.405806541442871, 14.771272659301758, 11.147001266479492, 10.714134216308594, 10.539511680603027, 9.730525016784668, 9.201356887817383, 8.648870468139648, 8.052474975585938, 8.047030448913574, 7.575837135314941, 7.308022499084473, 7.308022499084473, 7.308022499084473, 7.308022499084473, 7.123746871948242, 6.545352458953857, 6.207659721374512, 5.823853492736816, 5.637731552124023, 5.60219144821167, 5.450499057769775, 5.433996677398682, 5.422560691833496, 4.893921375274658, 4.634470462799072, 4.49839973449707, 4.462493896484375, 4.367650508880615], \"loglift\": [30.0, 29.0, 28.0, 27.0, 26.0, 25.0, 24.0, 23.0, 22.0, 21.0, 20.0, 19.0, 18.0, 17.0, 16.0, 15.0, 14.0, 13.0, 12.0, 11.0, 10.0, 9.0, 8.0, 7.0, 6.0, 5.0, 4.0, 3.0, 2.0, 1.0, 1.6088000535964966, 1.6073999404907227, 1.607200026512146, 1.6067999601364136, 1.603600025177002, 1.6035000085830688, 1.6031999588012695, 1.6024999618530273, 1.6023999452590942, 1.6023999452590942, 1.6003999710083008, 1.5982999801635742, 1.5966999530792236, 1.596500039100647, 1.593500018119812, 1.5927000045776367, 1.5927000045776367, 1.5923000574111938, 1.5918999910354614, 1.5901999473571777, 1.5896999835968018, 1.5881999731063843, 1.5880999565124512, 1.587499976158142, 1.5861999988555908, 1.5848000049591064, 1.5844999551773071, 1.5836000442504883, 1.5831999778747559, 1.582800030708313, 1.5600999593734741, 1.5498000383377075, 1.5147000551223755, 1.4223999977111816, 1.3925000429153442, 1.0670000314712524, 1.051200032234192, 1.1926000118255615, 1.335800051689148, 1.160599946975708, 1.3365000486373901, 0.12939999997615814, 1.9457999467849731, 1.9429999589920044, 1.9417999982833862, 1.937600016593933, 1.9362000226974487, 1.9347000122070312, 1.9234999418258667, 1.9234000444412231, 1.9229999780654907, 1.9223999977111816, 1.9220999479293823, 1.9220000505447388, 1.9213000535964966, 1.9212000370025635, 1.9199999570846558, 1.919700026512146, 1.917199969291687, 1.9160000085830688, 1.9149999618530273, 1.9144999980926514, 1.9142999649047852, 1.909999966621399, 1.9088000059127808, 1.906999945640564, 1.906599998474121, 1.9049999713897705, 1.9048999547958374, 1.9046000242233276, 1.9019999504089355, 1.9016000032424927, 1.8158999681472778, 1.17739999294281, 1.5542999505996704, -0.15379999577999115, -0.39969998598098755, 1.9850000143051147, 1.9843000173568726, 1.9839999675750732, 1.980299949645996, 1.9801000356674194, 1.979099988937378, 1.9773999452590942, 1.9743000268936157, 1.97160005569458, 1.9694000482559204, 1.9666999578475952, 1.966599941253662, 1.965399980545044, 1.9642000198364258, 1.9631999731063843, 1.9622000455856323, 1.9599000215530396, 1.9598000049591064, 1.9594000577926636, 1.9593000411987305, 1.9536000490188599, 1.9530999660491943, 1.9499000310897827, 1.9484000205993652, 1.9483000040054321, 1.9430999755859375, 1.9423999786376953, 1.942199945449829, 1.941100001335144, 1.9408999681472778, 0.349700003862381, 2.1263999938964844, 2.1222000122070312, 2.1196999549865723, 2.1173999309539795, 2.115799903869629, 2.1154000759124756, 2.114300012588501, 2.113800048828125, 2.1108999252319336, 2.1094000339508057, 2.106100082397461, 2.1057000160217285, 2.105600118637085, 2.103100061416626, 2.0969998836517334, 2.095400094985962, 2.0952000617980957, 2.0947000980377197, 2.0938000679016113, 2.09060001373291, 2.0899999141693115, 2.0875000953674316, 2.087100028991699, 2.0868000984191895, 2.0864999294281006, 2.080699920654297, 2.080199956893921, 2.0799999237060547, 2.0792999267578125, 2.0789999961853027, 1.989400029182434, 1.7925000190734863, 1.4625999927520752, 1.5163999795913696, 1.2964999675750732, 1.1239999532699585, 0.3813999891281128, 0.6963000297546387, 0.3718999922275543, 2.3496999740600586, 2.3422999382019043, 2.34060001373291, 2.34060001373291, 2.3394999504089355, 2.3385000228881836, 2.3368000984191895, 2.3361001014709473, 2.335900068283081, 2.3329999446868896, 2.3317999839782715, 2.330699920654297, 2.330399990081787, 2.3303000926971436, 2.3301000595092773, 2.329200029373169, 2.329200029373169, 2.329200029373169, 2.329200029373169, 2.329200029373169, 2.329200029373169, 2.32669997215271, 2.323699951171875, 2.3236000537872314, 2.322700023651123, 2.322200059890747, 2.3213000297546387, 2.3199000358581543, 2.3141000270843506, 2.3138999938964844, 2.5513999462127686, 2.5506999492645264, 2.545799970626831, 2.545300006866455, 2.541100025177002, 2.533799886703491, 2.533099889755249, 2.5329999923706055, 2.531599998474121, 2.5299999713897705, 2.5264999866485596, 2.5248000621795654, 2.5216000080108643, 2.516400098800659, 2.5155999660491943, 2.511399984359741, 2.5109000205993652, 2.510499954223633, 2.50219988822937, 2.4986000061035156, 2.4986000061035156, 2.4986000061035156, 2.497999906539917, 2.49180006980896, 2.484999895095825, 2.482800006866455, 2.4807000160217285, 2.474100112915039, 2.4730000495910645, 2.472100019454956, 1.4896999597549438, 2.6466000080108643, 2.6454999446868896, 2.6405999660491943, 2.6401000022888184, 2.638400077819824, 2.6331000328063965, 2.631700038909912, 2.626699924468994, 2.6261000633239746, 2.616300106048584, 2.6057000160217285, 2.598599910736084, 2.5957999229431152, 2.5934998989105225, 2.5934998989105225, 2.5934998989105225, 2.5929999351501465, 2.5917000770568848, 2.5905001163482666, 2.5873000621795654, 2.578200101852417, 2.5754001140594482, 2.5725998878479004, 2.5703999996185303, 2.5678000450134277, 2.566699981689453, 2.566699981689453, 2.566699981689453, 2.566699981689453, 2.566699981689453, 2.40310001373291, 0.04149999842047691, 2.754699945449829, 2.7400999069213867, 2.7374000549316406, 2.735300064086914, 2.7339000701904297, 2.7298998832702637, 2.7290000915527344, 2.7283999919891357, 2.7244999408721924, 2.7219998836517334, 2.7207999229431152, 2.719599962234497, 2.717900037765503, 2.7177000045776367, 2.7177000045776367, 2.7177000045776367, 2.717600107192993, 2.7142999172210693, 2.712899923324585, 2.7114999294281006, 2.7063000202178955, 2.7063000202178955, 2.7063000202178955, 2.7063000202178955, 2.699700117111206, 2.6993000507354736, 2.692699909210205, 2.6858999729156494, 2.6858999729156494, 2.683199882507324, 0.728600025177002, 1.514299988746643, 2.7588999271392822, 2.7576000690460205, 2.7497000694274902, 2.748800039291382, 2.7432000637054443, 2.7421998977661133, 2.742000102996826, 2.7402000427246094, 2.7355000972747803, 2.734499931335449, 2.72979998588562, 2.7291998863220215, 2.7242000102996826, 2.722100019454956, 2.722100019454956, 2.699199914932251, 2.699199914932251, 2.699199914932251, 2.699199914932251, 2.699199914932251, 2.699199914932251, 2.699199914932251, 2.699199914932251, 2.699199914932251, 2.69569993019104, 2.69569993019104, 2.6949000358581543, 2.6930999755859375, 2.6895999908447266, 2.6865999698638916, 0.7504000067710876, 3.073699951171875, 3.071899890899658, 3.0699000358581543, 3.0539000034332275, 3.0511999130249023, 3.050100088119507, 3.044300079345703, 3.039900064468384, 3.0346999168395996, 3.0283000469207764, 3.0281999111175537, 3.02239990234375, 3.018699884414673, 3.018699884414673, 3.018699884414673, 3.018699884414673, 3.0160999298095703, 3.0065999031066895, 3.000200033187866, 2.9918999671936035, 2.987499952316284, 2.986599922180176, 2.9827001094818115, 2.982300043106079, 2.9820001125335693, 2.966200113296509, 2.9570000171661377, 2.95169997215271, 2.9502999782562256, 2.9463000297546387], \"logprob\": [30.0, 29.0, 28.0, 27.0, 26.0, 25.0, 24.0, 23.0, 22.0, 21.0, 20.0, 19.0, 18.0, 17.0, 16.0, 15.0, 14.0, 13.0, 12.0, 11.0, 10.0, 9.0, 8.0, 7.0, 6.0, 5.0, 4.0, 3.0, 2.0, 1.0, -4.049799919128418, -4.188499927520752, -4.205399990081787, -4.247000217437744, -4.5005998611450195, -4.501500129699707, -4.5233001708984375, -4.572700023651123, -4.576700210571289, -4.580399990081787, -4.701499938964844, -4.810100078582764, -4.893099784851074, -4.901400089263916, -5.033100128173828, -5.064300060272217, -5.065700054168701, -5.081399917602539, -5.0971999168396, -5.161399841308594, -5.177499771118164, -5.230000019073486, -5.234899997711182, -5.255099773406982, -5.295100212097168, -5.339000225067139, -5.348100185394287, -5.374899864196777, -5.38730001449585, -5.398200035095215, -3.9377999305725098, -3.8798999786376953, -3.210599899291992, -4.129199981689453, -4.350299835205078, -3.342099905014038, -3.6507999897003174, -4.099400043487549, -4.556000232696533, -4.133399963378906, -4.707300186157227, -4.550600051879883, -3.4820001125335693, -3.79229998588562, -3.9102001190185547, -4.218200206756592, -4.3094000816345215, -4.392199993133545, -4.86899995803833, -4.872099876403809, -4.888299942016602, -4.90749979019165, -4.917600154876709, -4.918900012969971, -4.9430999755859375, -4.944799900054932, -4.983399868011475, -4.991099834442139, -5.065999984741211, -5.097099781036377, -5.124300003051758, -5.137899875640869, -5.142600059509277, -5.249599933624268, -5.279099941253662, -5.31879997253418, -5.328400135040283, -5.363100051879883, -5.364099979400635, -5.370800018310547, -5.424799919128418, -5.432300090789795, -4.994999885559082, -3.849100112915039, -5.095300197601318, -4.562900066375732, -5.125, -3.955399990081787, -4.010300159454346, -4.034800052642822, -4.273099899291992, -4.2829999923706055, -4.3383002281188965, -4.428999900817871, -4.571199893951416, -4.681700229644775, -4.764400005340576, -4.855199813842773, -4.860400199890137, -4.897500038146973, -4.934299945831299, -4.96560001373291, -4.995200157165527, -5.05679988861084, -5.061200141906738, -5.0721001625061035, -5.07390022277832, -5.216300010681152, -5.227399826049805, -5.296999931335449, -5.328700065612793, -5.331500053405762, -5.433000087738037, -5.446000099182129, -5.451200008392334, -5.471399784088135, -5.473700046539307, -4.3302998542785645, -3.9807000160217285, -4.230199813842773, -4.355000019073486, -4.457300186157227, -4.523900032043457, -4.538599967956543, -4.582200050354004, -4.601099967956543, -4.701499938964844, -4.749100208282471, -4.848800182342529, -4.860099792480469, -4.863800048828125, -4.932600021362305, -5.08489990234375, -5.119200229644775, -5.124100208282471, -5.134799957275391, -5.156199932098389, -5.222499847412109, -5.235099792480469, -5.28249979019165, -5.290200233459473, -5.296500205993652, -5.301000118255615, -5.405300140380859, -5.413899898529053, -5.4166998863220215, -5.428999900817871, -5.434199810028076, -3.9202001094818115, -4.283699989318848, -3.217400074005127, -3.5100998878479004, -3.4054999351501465, -4.170000076293945, -4.027699947357178, -5.195499897003174, -5.179699897766113, -4.332200050354004, -4.580699920654297, -4.6290998458862305, -4.631100177764893, -4.661499977111816, -4.688300132751465, -4.73360013961792, -4.750100135803223, -4.755799770355225, -4.825500011444092, -4.85260009765625, -4.878799915313721, -4.886099815368652, -4.888400077819824, -4.8927001953125, -4.911600112915039, -4.911600112915039, -4.911600112915039, -4.911600112915039, -4.911600112915039, -4.911600112915039, -4.964300155639648, -5.024400234222412, -5.026800155639648, -5.042799949645996, -5.052199840545654, -5.069900035858154, -5.095600128173828, -5.196000099182129, -5.199399948120117, -3.512399911880493, -3.5597000122070312, -3.8434998989105225, -3.866499900817871, -4.057000160217285, -4.317699909210205, -4.339399814605713, -4.342899799346924, -4.384300231933594, -4.430300235748291, -4.524899959564209, -4.568699836730957, -4.644700050354004, -4.757800102233887, -4.773200035095215, -4.856800079345703, -4.8653998374938965, -4.872000217437744, -5.01639986038208, -5.073800086975098, -5.073800086975098, -5.073800086975098, -5.082499980926514, -5.173699855804443, -5.264599800109863, -5.291299819946289, -5.317999839782715, -5.3958001136779785, -5.408299922943115, -5.418799877166748, -3.802299976348877, -3.74429988861084, -3.7992000579833984, -4.006400108337402, -4.025100231170654, -4.088200092315674, -4.2606000900268555, -4.302499771118164, -4.4375, -4.451300144195557, -4.672699928283691, -4.866799831390381, -4.980100154876709, -5.02209997177124, -5.054900169372559, -5.054900169372559, -5.054900169372559, -5.0625, -5.079699993133545, -5.096499919891357, -5.139599800109863, -5.2519001960754395, -5.284900188446045, -5.3165998458862305, -5.340400218963623, -5.368500232696533, -5.3796000480651855, -5.3796000480651855, -5.3796000480651855, -5.3796000480651855, -5.3796000480651855, -4.833799839019775, -4.638500213623047, -3.919800043106079, -4.358799934387207, -4.4222002029418945, -4.469299793243408, -4.500899791717529, -4.583000183105469, -4.600100040435791, -4.612400054931641, -4.683899879455566, -4.728499889373779, -4.748600006103516, -4.768199920654297, -4.796199798583984, -4.80019998550415, -4.80019998550415, -4.80019998550415, -4.8024001121521, -4.853400230407715, -4.875, -4.895299911499023, -4.969799995422363, -4.969799995422363, -4.969799995422363, -4.969799995422363, -5.056300163269043, -5.061299800872803, -5.141900062561035, -5.218400001525879, -5.218400001525879, -5.248300075531006, -3.680500030517578, -4.5619001388549805, -4.062699794769287, -4.103000164031982, -4.323200225830078, -4.345200061798096, -4.476099967956543, -4.497499942779541, -4.5015997886657715, -4.538099765777588, -4.630199909210205, -4.64870023727417, -4.7322001457214355, -4.742099761962891, -4.823599815368652, -4.855599880218506, -4.855599880218506, -5.156499862670898, -5.156499862670898, -5.156499862670898, -5.156499862670898, -5.156499862670898, -5.156499862670898, -5.156499862670898, -5.156499862670898, -5.156499862670898, -5.196100234985352, -5.196100234985352, -5.205100059509277, -5.224400043487549, -5.26170015335083, -5.292500019073486, -5.159299850463867, -4.0625, -4.104700088500977, -4.148799896240234, -4.446300029754639, -4.488500118255615, -4.506100177764893, -4.591800212860107, -4.652100086212158, -4.719200134277344, -4.796999931335449, -4.797800064086914, -4.863900184631348, -4.903600215911865, -4.903600215911865, -4.903600215911865, -4.903600215911865, -4.93179988861084, -5.026000022888184, -5.085299968719482, -5.157400131225586, -5.194300174713135, -5.201499938964844, -5.232900142669678, -5.236299991607666, -5.238800048828125, -5.357100009918213, -5.42080020904541, -5.455900192260742, -5.4653000831604, -5.490799903869629]}, \"token.table\": {\"Topic\": [2, 4, 5, 4, 6, 5, 4, 9, 7, 6, 9, 10, 7, 9, 3, 10, 1, 6, 9, 5, 10, 10, 7, 3, 3, 7, 9, 5, 9, 2, 5, 9, 4, 5, 6, 6, 1, 3, 3, 6, 6, 5, 10, 2, 1, 2, 8, 6, 9, 3, 9, 4, 8, 1, 9, 6, 3, 1, 3, 10, 2, 3, 3, 7, 1, 8, 5, 2, 5, 7, 6, 6, 3, 5, 6, 6, 4, 6, 7, 10, 6, 5, 5, 7, 6, 10, 9, 3, 2, 3, 1, 4, 4, 1, 9, 5, 10, 2, 7, 3, 7, 8, 3, 8, 9, 5, 3, 10, 6, 1, 4, 3, 1, 5, 7, 9, 3, 2, 9, 1, 4, 5, 5, 5, 6, 4, 3, 2, 2, 10, 5, 9, 10, 2, 1, 8, 9, 7, 8, 7, 6, 7, 7, 10, 4, 8, 2, 7, 5, 10, 1, 8, 2, 4, 10, 4, 8, 4, 3, 4, 9, 2, 8, 3, 1, 4, 6, 4, 7, 10, 1, 7, 7, 1, 8, 7, 6, 1, 4, 4, 8, 4, 4, 1, 3, 4, 4, 2, 5, 8, 1, 1, 8, 1, 3, 4, 7, 10, 7, 8, 1, 3, 1, 4, 2, 2, 4, 9, 9, 2, 3, 8, 1, 10, 7, 10, 9, 2, 1, 1, 8, 8, 2, 1, 3, 2, 10, 2, 6, 2, 9, 4, 2, 2, 8, 1, 5, 8, 8, 3, 9, 5, 8, 5, 8, 9, 10, 2, 1, 4, 6, 7, 5, 3, 5, 6, 4, 8, 5, 10, 7, 10, 8, 9, 6, 1, 3, 7, 4, 9, 7, 3, 4, 2, 4, 1, 8, 4, 8, 6, 7, 4, 10, 9, 9, 5, 4, 5, 2, 7, 5, 7, 8, 10, 6, 8, 10, 9, 2, 2, 2, 10, 3, 4, 1, 1, 10, 2, 9, 1, 2, 4, 8, 7, 6, 3, 1, 4, 8, 9, 10, 1, 6, 6, 5, 4, 2, 1, 1, 1, 3, 1, 10, 1, 1, 4, 4, 8, 7, 6], \"Freq\": [0.4612092077732086, 0.5368173122406006, 0.9061040878295898, 0.9584628939628601, 0.9827133417129517, 0.989524781703949, 0.9619100093841553, 0.8961650133132935, 0.8409366011619568, 0.9637144804000854, 0.8961650133132935, 0.9333465099334717, 0.8409366011619568, 0.9411535263061523, 0.9774587750434875, 0.8925078511238098, 0.6507405042648315, 0.3450896441936493, 0.9362818598747253, 0.965369462966919, 0.9578514695167542, 0.9578514695167542, 0.9431086778640747, 0.9040051102638245, 0.9356282949447632, 0.9678508043289185, 0.8451390862464905, 0.9067211151123047, 0.8961650133132935, 0.9454492926597595, 0.9517001509666443, 0.9588121175765991, 0.9044439196586609, 0.9500822424888611, 0.9525675773620605, 0.9834550619125366, 0.9916701316833496, 0.9831239581108093, 0.9509690403938293, 0.9577621221542358, 0.9193801283836365, 0.9690850377082825, 0.8692979216575623, 0.9255843162536621, 0.9006550312042236, 0.09510021656751633, 0.9150193333625793, 0.9411701560020447, 0.9694601893424988, 0.9609378576278687, 0.9563175439834595, 0.9865632653236389, 0.9407731294631958, 0.9957596659660339, 0.9694601893424988, 0.9748490452766418, 0.9444831013679504, 0.9936204552650452, 0.9561038017272949, 0.8868815302848816, 0.9619882106781006, 0.905918538570404, 0.9588375091552734, 0.8409366011619568, 0.9878076314926147, 0.9096993207931519, 0.9457775354385376, 0.9500441551208496, 0.9570372700691223, 0.9599873423576355, 0.9138134717941284, 0.9610106348991394, 0.9544075131416321, 0.9813520312309265, 0.9502540230751038, 0.964286208152771, 0.978878378868103, 0.9511435031890869, 0.8734807968139648, 0.9578514695167542, 0.9667933583259583, 0.9690850377082825, 0.9562695622444153, 0.9556370377540588, 0.9281957745552063, 0.9665478467941284, 0.9290792346000671, 0.9561876058578491, 0.6898099184036255, 0.30658218264579773, 0.7527662515640259, 0.23001189529895782, 0.9729359745979309, 0.9914280772209167, 0.9557918906211853, 0.9494090676307678, 0.8971022367477417, 0.9846877455711365, 0.9732425808906555, 0.9789109230041504, 0.8409366011619568, 0.9627143144607544, 0.989510178565979, 0.8982585072517395, 0.8961650133132935, 0.9089598059654236, 0.9330654144287109, 0.8630975484848022, 0.9433783292770386, 0.568416178226471, 0.4317776560783386, 0.98051917552948, 0.9851470589637756, 0.20682576298713684, 0.7583611011505127, 0.9679465293884277, 0.9953256249427795, 0.9755451083183289, 0.9717045426368713, 0.9568144679069519, 0.9451525807380676, 0.9499896764755249, 0.9518895149230957, 0.9409516453742981, 0.9303691983222961, 0.9652302265167236, 0.9625974297523499, 0.9937781691551208, 0.9830864667892456, 0.8173404932022095, 0.9488683342933655, 0.8961650133132935, 0.9249762892723083, 0.9878434538841248, 0.9391413927078247, 0.056574780493974686, 0.8961650133132935, 0.9003728032112122, 0.9609503149986267, 0.9468188285827637, 0.9089627265930176, 0.9001750349998474, 0.9582471251487732, 0.8963597416877747, 0.962261974811554, 0.9793536067008972, 0.9746581315994263, 0.9704849720001221, 0.9690850377082825, 0.9239903092384338, 0.9663451313972473, 0.982292115688324, 0.8555755615234375, 0.09006058424711227, 0.9158241748809814, 0.983425498008728, 0.9598031640052795, 0.9638394117355347, 0.9627676606178284, 0.980819821357727, 0.8961650133132935, 0.9744769334793091, 0.9821879267692566, 0.9671111106872559, 0.9815928936004639, 0.9498222470283508, 0.9571249485015869, 0.946358859539032, 0.9862038493156433, 0.9351739287376404, 0.9776759147644043, 0.9763897061347961, 0.9364603757858276, 0.9813829660415649, 0.9131384491920471, 0.9364603757858276, 0.9673960208892822, 0.8181185722351074, 0.1661803275346756, 0.9484605193138123, 0.9131384491920471, 0.981810986995697, 0.9918165802955627, 0.9856117963790894, 0.9915953278541565, 0.9679694175720215, 0.9521217346191406, 0.972598135471344, 0.9540295004844666, 0.9179517030715942, 0.9773503541946411, 0.9956449866294861, 0.9666422009468079, 0.22455129027366638, 0.19247253239154816, 0.5079136490821838, 0.07485043257474899, 0.9220736026763916, 0.9364603757858276, 0.9312193989753723, 0.9760780334472656, 0.9896987080574036, 0.632247805595398, 0.3655182719230652, 0.9910305738449097, 0.9546316266059875, 0.967292845249176, 0.9408723711967468, 0.8961650133132935, 0.9247233271598816, 0.9616742730140686, 0.9346597194671631, 0.9652408361434937, 0.9736588597297668, 0.9783670902252197, 0.8892050981521606, 0.9465042948722839, 0.9805654287338257, 0.9578888416290283, 0.9609131813049316, 0.9407731294631958, 0.9627143144607544, 0.9713985323905945, 0.9448767900466919, 0.048455219715833664, 0.9824035167694092, 0.9166809916496277, 0.9637895822525024, 0.973636269569397, 0.9722762703895569, 0.9577902555465698, 0.9802089929580688, 0.9634186029434204, 0.9838511943817139, 0.926918089389801, 0.9526056051254272, 0.9690850377082825, 0.9389941096305847, 0.9627143144607544, 0.9674875140190125, 0.9342714548110962, 0.9267722964286804, 0.9569178223609924, 0.9478700160980225, 0.9829038977622986, 0.9532353281974792, 0.9173471927642822, 0.9732662439346313, 0.8046591877937317, 0.18569058179855347, 0.9848316311836243, 0.9441962838172913, 0.9391911625862122, 0.9487360715866089, 0.9339697360992432, 0.9557136297225952, 0.958229660987854, 0.9631897807121277, 0.9802473187446594, 0.9477856159210205, 0.9405272006988525, 0.9488105773925781, 0.9573271870613098, 0.8690227270126343, 0.964286208152771, 0.9760883450508118, 0.9669545888900757, 0.9083170294761658, 0.8593955636024475, 0.1279950737953186, 0.9731215834617615, 0.9799337983131409, 0.9789533615112305, 0.9573120474815369, 0.9921945333480835, 0.9955195784568787, 0.9131384491920471, 0.9439958930015564, 0.8774228692054749, 0.9439194202423096, 0.9266140460968018, 0.9881742000579834, 0.9781166315078735, 0.8961650133132935, 0.9290792346000671, 0.9461870789527893, 0.9577623605728149, 0.9690850377082825, 0.9516885876655579, 0.9519842267036438, 0.9690850377082825, 0.9678975343704224, 0.9747536778450012, 0.9578514695167542, 0.972220242023468, 0.9670324325561523, 0.8422533869743347, 0.9498982429504395, 0.9790276885032654, 0.9116821885108948, 0.9371188282966614, 0.8585380911827087, 0.9750305414199829, 0.9088979959487915, 0.9508150815963745, 0.9766939878463745, 0.924924373626709, 0.9315217733383179, 0.9484307765960693, 0.5749596953392029, 0.12233185023069382, 0.17126458883285522, 0.12640957534313202, 0.9713237285614014, 0.964286208152771, 0.9404537677764893, 0.9665592908859253, 0.9779595732688904, 0.9627143144607544, 0.9366779327392578, 0.9201330542564392, 0.9798359274864197, 0.9210348725318909, 0.9440462589263916, 0.9246448874473572, 0.9600173234939575, 0.9628843069076538, 0.966315507888794, 0.9781439304351807, 0.9743929505348206, 0.9905253052711487, 0.9571706652641296, 0.8698861002922058, 0.9737199544906616, 0.7543992400169373, 0.233504518866539, 0.7127688527107239, 0.28078773617744446, 0.8409366011619568, 0.9813734292984009], \"Term\": [\"-\", \"-\", \"@2010leehurst\", \"@7sur7_cd\", \"@abelamundala\", \"@actualitecd\", \"@africatoptweet\", \"@agnesbuzyn\", \"@benkabongo6\", \"@billykambale1\", \"@ccastaner\", \"@drc_2nd\", \"@elietaberuke\", \"@elogemwandwe\", \"@ensemble_mk\", \"@erumeruta\", \"@fatshi13\", \"@fatshi13\", \"@fcc_rdc\", \"@ffcrdc\", \"@fondationwidal\", \"@guyloando\", \"@habarirdc\", \"@ii_papy\", \"@ilfoglio_it\", \"@jeanclaudekat2\", \"@johnmurton\", \"@juantedbelka\", \"@lacimade\", \"@luchardc\", \"@lusengej\", \"@lwarhibam\", \"@magazinenation\", \"@martinfayulu\", \"@mayoclinic\", \"@moise_katumbi\", \"@msf_espana\", \"@muyambokyassa\", \"@muyambokyasser\", \"@mwema_y\", \"@ngalulape\", \"@nissybtk\", \"@olongobasil\", \"@politicocd\", \"@presidence_rdc\", \"@presidence_rdc\", \"@rfi\", \"@rkitsita\", \"@ronaldklain\", \"@scode_rdc\", \"@sindika_dokolo\", \"@stanysbujakerer\", \"@teamcongo\", \"@topcongo\", \"@tvietor08\", \"@vitalkamerhe1\", \"Monsieur\", \"_\", \"accuser\", \"afriqu\", \"afrique\", \"al\", \"aller\", \"allusion\", \"an\", \"annoncer\", \"ann\\u00e9e\", \"antoin\", \"around\", \"assembl\\u00e9e\", \"avoir\", \"begin\", \"boccia\", \"body\", \"brain\", \"braintumors\", \"cach\", \"cancer\", \"cas\", \"causer\", \"ce\", \"cel\", \"cependant\", \"ch\", \"chairman\", \"chaleureux\", \"charger\", \"che\", \"chef\", \"chef\", \"ch\\u00f4m\\u00e9\", \"ch\\u00f4m\\u00e9\", \"civil\", \"combat\", \"come\", \"communaut\\u00e9\", \"communiquer\", \"compassion\", \"conna\\u00eetre\", \"conti\", \"contradiction\", \"contredir\", \"cort\", \"co\\u00fbt\", \"cra\", \"da\", \"dal\", \"dan\", \"day\", \"de\", \"de\", \"dei\", \"del\", \"devenir\", \"devenir\", \"devoir\", \"di\", \"dire\", \"discussion\", \"dr\", \"drame\", \"drcongo\", \"d\\u00e9cider\", \"d\\u00e9mocratie\", \"d\\u00e9mocratique\", \"d\\u00e9pouill\", \"d\\u00e9put\\u00e9\", \"e\", \"ebola\", \"effort\", \"enfant\", \"enferm\\u00e9\", \"engager\", \"etat\", \"etienne\", \"etienne\", \"eulsion\", \"exclure\", \"exemple\", \"face\", \"faire\", \"faite\", \"falloir\", \"famille\", \"fcc\", \"felix\", \"femme\", \"fil\", \"fourniture\", \"front\", \"fun\\u00e9raille\", \"futur\", \"f\\u00e9li\", \"f\\u00e9li\", \"f\\u00e9licitation\", \"f\\u00e9lix\", \"gen\", \"gouvernement\", \"governo\", \"grand\", \"gravemen\", \"great\", \"g\\u00e9n\\u00e9ration\", \"ha\", \"heure\", \"histoire\", \"hommage\", \"homme\", \"htt\", \"h\\u00e9ro\", \"h\\u00e9ros\", \"il\", \"immuniter\", \"indiscutablement\", \"insurrectio\", \"interpeller\", \"je\", \"jeudi\", \"jeudi\", \"jeune\", \"je\\u00fbne\", \"joseph\", \"journer\", \"journ\\u00e9e\", \"justice\", \"kabila\", \"kabiler\", \"kagame\", \"kalemie\", \"katanga\", \"kinshasa\", \"kinshaser\", \"latest\", \"le\", \"le\", \"le\", \"le\", \"leader\", \"lever\", \"lorsque\", \"los\", \"lualaba\", \"mai\", \"mai\", \"may\", \"ma\\u00ef\", \"me\", \"merci\", \"mesnil-amelot\", \"message\", \"mettre\", \"million\", \"ministre\", \"minist\\u00e9riel\", \"mobutu\", \"mois\", \"mort\", \"mourir\", \"muerto\", \"m\\u00e1\", \"m\\u00ea\", \"m\\u00eame\", \"na\", \"national\", \"national\", \"naufrage\", \"naus\\u00e9abond\", \"ndombe\", \"ne\", \"new\", \"news\", \"non\", \"nouveau\", \"obs\\u00e8que\", \"obs\\u00e8quer\", \"officiel\", \"offrir\", \"one\", \"option\", \"ouganda\", \"outbreak\", \"p\", \"paix\", \"par\", \"part\", \"participer\", \"path\\u00e9tique\", \"paul\", \"payer\", \"payer\", \"pays\", \"penser\", \"people\", \"per\", \"petit\", \"peuple\", \"politique\", \"pol\\u00e9mique\", \"population\", \"poste\", \"pouvoir\", \"premier\", \"prendre\", \"president\", \"primary\", \"probable\", \"propos\", \"prov\", \"pr\\u00e9sident\", \"pr\\u00e9sident\", \"que\", \"quota\", \"rapatriement\", \"rapport\", \"rdc\", \"rdcongo\", \"reculer\", \"rester\", \"retour\", \"rwanda\", \"r\\u00e9ponse\", \"r\\u00e9publiqu\", \"r\\u00e9server\", \"r\\u00e9tention\", \"r\\u00e9union\", \"s\", \"saluer\", \"salut\", \"salvador\", \"savoir\", \"scolaire\", \"se\", \"seul\", \"souten\", \"spread\", \"sp\\u00e9cial\", \"statut\", \"stay\", \"sud\", \"surv\", \"thanks\", \"titre\", \"total\", \"toucher\", \"toujours\", \"tout\", \"travers\", \"tshilombo\", \"tshimboj\", \"tshisekedi\", \"tshisekedi\", \"tshisekedi\", \"tshisekedi\", \"tshisekedi.le\", \"tumor\", \"tutto\", \"un\", \"urgent\", \"utiliser\", \"venir\", \"video\", \"ville\", \"voir\", \"vouloir\", \"w\", \"wa\", \"world\", \"ya\", \"\\u00ab\", \"\\u00bb\", \"\\u00e8\", \"\\u00e9bola\", \"\\u00e9lev\\u00e9\", \"\\u00e9tendu\", \"\\u00e9tienn\", \"\\u00e9tienn\", \"\\u00e9tienne\", \"\\u00e9tienne\", \"\\u00e9viton\", \"\\u00eatre\"]}, \"R\": 30, \"lambda.step\": 0.01, \"plot.opts\": {\"xlab\": \"PC1\", \"ylab\": \"PC2\"}, \"topic.order\": [3, 10, 8, 4, 2, 5, 9, 7, 1, 6]};\n",
       "\n",
       "function LDAvis_load_lib(url, callback){\n",
       "  var s = document.createElement('script');\n",
       "  s.src = url;\n",
       "  s.async = true;\n",
       "  s.onreadystatechange = s.onload = callback;\n",
       "  s.onerror = function(){console.warn(\"failed to load library \" + url);};\n",
       "  document.getElementsByTagName(\"head\")[0].appendChild(s);\n",
       "}\n",
       "\n",
       "if(typeof(LDAvis) !== \"undefined\"){\n",
       "   // already loaded: just create the visualization\n",
       "   !function(LDAvis){\n",
       "       new LDAvis(\"#\" + \"ldavis_el4165149760642164034813279\", ldavis_el4165149760642164034813279_data);\n",
       "   }(LDAvis);\n",
       "}else if(typeof define === \"function\" && define.amd){\n",
       "   // require.js is available: use it to load d3/LDAvis\n",
       "   require.config({paths: {d3: \"https://cdnjs.cloudflare.com/ajax/libs/d3/3.5.5/d3.min\"}});\n",
       "   require([\"d3\"], function(d3){\n",
       "      window.d3 = d3;\n",
       "      LDAvis_load_lib(\"https://cdn.rawgit.com/bmabey/pyLDAvis/files/ldavis.v1.0.0.js\", function(){\n",
       "        new LDAvis(\"#\" + \"ldavis_el4165149760642164034813279\", ldavis_el4165149760642164034813279_data);\n",
       "      });\n",
       "    });\n",
       "}else{\n",
       "    // require.js not available: dynamically load d3 & LDAvis\n",
       "    LDAvis_load_lib(\"https://cdnjs.cloudflare.com/ajax/libs/d3/3.5.5/d3.min.js\", function(){\n",
       "         LDAvis_load_lib(\"https://cdn.rawgit.com/bmabey/pyLDAvis/files/ldavis.v1.0.0.js\", function(){\n",
       "                 new LDAvis(\"#\" + \"ldavis_el4165149760642164034813279\", ldavis_el4165149760642164034813279_data);\n",
       "            })\n",
       "         });\n",
       "}\n",
       "</script>"
      ],
      "text/plain": [
       "PreparedData(topic_coordinates=              x         y  topics  cluster       Freq\n",
       "topic                                                \n",
       "2      0.297407 -0.048672       1        1  19.828217\n",
       "9      0.008862  0.219855       2        1  14.180862\n",
       "7     -0.082190 -0.280250       3        1  13.563924\n",
       "3      0.185385 -0.012118       4        1  11.749595\n",
       "1     -0.107839  0.037006       5        1   9.287237\n",
       "4     -0.068268  0.020338       6        1   7.684615\n",
       "8     -0.070763 -0.004555       7        1   6.946169\n",
       "6     -0.007222  0.030084       8        1   6.192646\n",
       "0     -0.079707  0.021609       9        1   6.139990\n",
       "5     -0.075665  0.016704      10        1   4.426743, topic_info=     Category        Freq             Term       Total  loglift  logprob\n",
       "88    Default  178.000000  @presidence_rdc  178.000000  30.0000  30.0000\n",
       "5     Default  182.000000               de  182.000000  29.0000  29.0000\n",
       "49    Default  245.000000       tshisekedi  245.000000  28.0000  28.0000\n",
       "15    Default  132.000000                -  132.000000  27.0000  27.0000\n",
       "8     Default  187.000000               le  187.000000  26.0000  26.0000\n",
       "146   Default   88.000000                e   88.000000  25.0000  25.0000\n",
       "86    Default  101.000000        @fatshi13  101.000000  24.0000  24.0000\n",
       "323   Default   65.000000            ebola   65.000000  23.0000  23.0000\n",
       "59    Default   46.000000             être   46.000000  22.0000  22.0000\n",
       "70    Default   88.000000          etienne   88.000000  21.0000  21.0000\n",
       "196   Default  101.000000              mai  101.000000  20.0000  20.0000\n",
       "264   Default   44.000000   @moise_katumbi   44.000000  19.0000  19.0000\n",
       "234   Default   82.000000         national   82.000000  18.0000  18.0000\n",
       "200   Default   57.000000          obsèque   57.000000  17.0000  17.0000\n",
       "89    Default   70.000000        @topcongo   70.000000  16.0000  16.0000\n",
       "207   Default   53.000000              dei   53.000000  15.0000  15.0000\n",
       "209   Default   50.000000               di   50.000000  14.0000  14.0000\n",
       "57    Default   54.000000        président   54.000000  13.0000  13.0000\n",
       "205   Default   49.000000            conti   49.000000  12.0000  12.0000\n",
       "614   Default   44.000000              non   44.000000  11.0000  11.0000\n",
       "477   Default   61.000000          rdcongo   61.000000  10.0000  10.0000\n",
       "104   Default   60.000000        kinshaser   60.000000   9.0000   9.0000\n",
       "81    Default   33.000000               il   33.000000   8.0000   8.0000\n",
       "102   Default   78.000000            jeudi   78.000000   7.0000   7.0000\n",
       "195   Default   57.000000          journée   57.000000   6.0000   6.0000\n",
       "757   Default   33.000000   @vitalkamerhe1   33.000000   5.0000   5.0000\n",
       "686   Default   32.000000               se   32.000000   4.0000   4.0000\n",
       "52    Default   33.000000               ce   33.000000   3.0000   3.0000\n",
       "149   Default   42.000000         naufrage   42.000000   2.0000   2.0000\n",
       "247   Default   46.000000          étienne   46.000000   1.0000   1.0000\n",
       "...       ...         ...              ...         ...      ...      ...\n",
       "93    Topic10   15.352538             héro   16.039797   3.0737  -4.0625\n",
       "1203  Topic10   14.718591      ministériel   15.405807   3.0719  -4.1047\n",
       "1204  Topic10   14.084079            poste   14.771273   3.0699  -4.1488\n",
       "338   Topic10   10.459727      communiquer   11.147001   3.0539  -4.4463\n",
       "455   Topic10   10.026967         @drc_2nd   10.714134   3.0512  -4.4885\n",
       "1226  Topic10    9.852067          premier   10.539512   3.0501  -4.5061\n",
       "2718  Topic10    9.043314          travers    9.730525   3.0443  -4.5918\n",
       "2118  Topic10    8.514159         réserver    9.201357   3.0399  -4.6521\n",
       "1483  Topic10    7.961676          engager    8.648870   3.0347  -4.7192\n",
       "87    Topic10    7.365250     @olongobasil    8.052475   3.0283  -4.7970\n",
       "97    Topic10    7.359841            élevé    8.047030   3.0282  -4.7978\n",
       "1606  Topic10    6.888562            front    7.575837   3.0224  -4.8639\n",
       "5525  Topic10    6.620796           souten    7.308022   3.0187  -4.9036\n",
       "5524  Topic10    6.620796           causer    7.308022   3.0187  -4.9036\n",
       "5523  Topic10    6.620796       @guyloando    7.308022   3.0187  -4.9036\n",
       "5522  Topic10    6.620796  @fondationwidal    7.308022   3.0187  -4.9036\n",
       "2760  Topic10    6.436561           statut    7.123747   3.0161  -4.9318\n",
       "2758  Topic10    5.858164       nauséabond    6.545352   3.0066  -5.0260\n",
       "2878  Topic10    5.520486       chaleureux    6.207660   3.0002  -5.0853\n",
       "96    Topic10    5.136671            titre    5.823853   2.9919  -5.1574\n",
       "2950  Topic10    4.950386           afriqu    5.637732   2.9875  -5.1943\n",
       "1514  Topic10    4.915024       @erumeruta    5.602191   2.9866  -5.2015\n",
       "3926  Topic10    4.763304       pathétique    5.450499   2.9827  -5.2329\n",
       "1893  Topic10    4.746801            video    5.433997   2.9823  -5.2363\n",
       "177   Topic10    4.735308           leader    5.422561   2.9820  -5.2388\n",
       "1482  Topic10    4.206607           effort    4.893921   2.9662  -5.3571\n",
       "891   Topic10    3.947077              dan    4.634470   2.9570  -5.4208\n",
       "446   Topic10    3.811180             mois    4.498400   2.9517  -5.4559\n",
       "1202  Topic10    3.775201          famille    4.462494   2.9503  -5.4653\n",
       "835   Topic10    3.680483     félicitation    4.367651   2.9463  -5.4908\n",
       "\n",
       "[363 rows x 6 columns], token_table=      Topic      Freq             Term\n",
       "term                                  \n",
       "15        2  0.461209                -\n",
       "15        4  0.536817                -\n",
       "1882      5  0.906104    @2010leehurst\n",
       "921       4  0.958463        @7sur7_cd\n",
       "719       6  0.982713    @abelamundala\n",
       "434       5  0.989525     @actualitecd\n",
       "0         4  0.961910  @africatoptweet\n",
       "1402      9  0.896165      @agnesbuzyn\n",
       "3594      7  0.840937     @benkabongo6\n",
       "755       6  0.963714   @billykambale1\n",
       "1403      9  0.896165       @ccastaner\n",
       "455      10  0.933347         @drc_2nd\n",
       "3595      7  0.840937    @elietaberuke\n",
       "5666      9  0.941154    @elogemwandwe\n",
       "261       3  0.977459     @ensemble_mk\n",
       "1514     10  0.892508       @erumeruta\n",
       "86        1  0.650741        @fatshi13\n",
       "86        6  0.345090        @fatshi13\n",
       "108       9  0.936282         @fcc_rdc\n",
       "1762      5  0.965369          @ffcrdc\n",
       "5522     10  0.957851  @fondationwidal\n",
       "5523     10  0.957851       @guyloando\n",
       "882       7  0.943109       @habarirdc\n",
       "263       3  0.904005         @ii_papy\n",
       "789       3  0.935628     @ilfoglio_it\n",
       "774       7  0.967851  @jeanclaudekat2\n",
       "1086      9  0.845139      @johnmurton\n",
       "1241      5  0.906721    @juantedbelka\n",
       "1404      9  0.896165        @lacimade\n",
       "935       2  0.945449        @luchardc\n",
       "...     ...       ...              ...\n",
       "49        2  0.122332       tshisekedi\n",
       "49        4  0.171265       tshisekedi\n",
       "49        8  0.126410       tshisekedi\n",
       "1596      7  0.971324    tshisekedi.le\n",
       "3438      6  0.964286            tumor\n",
       "1388      3  0.940454            tutto\n",
       "239       1  0.966559               un\n",
       "641       4  0.977960           urgent\n",
       "920       8  0.962714         utiliser\n",
       "160       9  0.936678            venir\n",
       "1893     10  0.920133            video\n",
       "511       1  0.979836            ville\n",
       "2734      6  0.921035             voir\n",
       "670       6  0.944046          vouloir\n",
       "1632      5  0.924645                w\n",
       "1644      4  0.960017               wa\n",
       "638       2  0.962884            world\n",
       "1649      1  0.966316               ya\n",
       "279       1  0.978144                «\n",
       "280       1  0.974393                »\n",
       "700       3  0.990525                è\n",
       "478       1  0.957171            ébola\n",
       "97       10  0.869886            élevé\n",
       "512       1  0.973720           étendu\n",
       "50        1  0.754399           étienn\n",
       "50        4  0.233505           étienn\n",
       "247       4  0.712769          étienne\n",
       "247       8  0.280788          étienne\n",
       "3601      7  0.840937           éviton\n",
       "59        6  0.981373             être\n",
       "\n",
       "[340 rows x 3 columns], R=30, lambda_step=0.01, plot_opts={'xlab': 'PC1', 'ylab': 'PC2'}, topic_order=[3, 10, 8, 4, 2, 5, 9, 7, 1, 6])"
      ]
     },
     "execution_count": 105,
     "metadata": {},
     "output_type": "execute_result"
    }
   ],
   "source": [
    "\n",
    "vis = pyLDAvis.gensim.prepare(lda_model, corpus, id2word)\n",
    "vis"
   ]
  },
  {
   "cell_type": "markdown",
   "metadata": {},
   "source": [
    "### II. trying Mallet Model"
   ]
  },
  {
   "cell_type": "markdown",
   "metadata": {},
   "source": [
    "Let first download the model!!"
   ]
  },
  {
   "cell_type": "code",
   "execution_count": 117,
   "metadata": {
    "scrolled": true
   },
   "outputs": [
    {
     "name": "stdout",
     "output_type": "stream",
     "text": [
      "--2019-05-30 20:17:45--  http://mallet.cs.umass.edu/dist/mallet-2.0.8.zip\n",
      "Resolving mallet.cs.umass.edu (mallet.cs.umass.edu)... 128.119.246.70\n",
      "Connecting to mallet.cs.umass.edu (mallet.cs.umass.edu)|128.119.246.70|:80... connected.\n",
      "HTTP request sent, awaiting response... 200 OK\n",
      "Length: 16184794 (15M) [application/zip]\n",
      "Saving to: ‘../.venv3/models/mallet.zip’\n",
      "\n",
      "../.venv3/models/ma 100%[===================>]  15.43M  1.58MB/s    in 12s     \n",
      "\n",
      "2019-05-30 20:17:58 (1.24 MB/s) - ‘../.venv3/models/mallet.zip’ saved [16184794/16184794]\n",
      "\n"
     ]
    }
   ],
   "source": [
    "#Uncomment to download the model\n",
    "!wget http://mallet.cs.umass.edu/dist/mallet-2.0.8.zip -O ../.venv3/models/mallet.zip"
   ]
  },
  {
   "cell_type": "code",
   "execution_count": 120,
   "metadata": {
    "scrolled": true
   },
   "outputs": [],
   "source": [
    "mallet_path = '../.venv3/models/mallet.zip' # update this path\n",
    "#ldamallet = gs.models.wrappers.LdaMallet(mallet_path, corpus=corpus, num_topics=20, id2word=id2word)"
   ]
  },
  {
   "cell_type": "code",
   "execution_count": null,
   "metadata": {},
   "outputs": [],
   "source": []
  },
  {
   "cell_type": "code",
   "execution_count": null,
   "metadata": {},
   "outputs": [],
   "source": []
  }
 ],
 "metadata": {
  "kernelspec": {
   "display_name": "Python 3",
   "language": "python",
   "name": "python3"
  },
  "language_info": {
   "codemirror_mode": {
    "name": "ipython",
    "version": 3
   },
   "file_extension": ".py",
   "mimetype": "text/x-python",
   "name": "python",
   "nbconvert_exporter": "python",
   "pygments_lexer": "ipython3",
   "version": "3.6.5"
  }
 },
 "nbformat": 4,
 "nbformat_minor": 2
}
