{
 "cells": [
  {
   "attachments": {},
   "cell_type": "markdown",
   "metadata": {},
   "source": [
    "### Topic Modeling with WordEmbedding\n",
    "\n",
    "\n",
    "In this notebook, I will try to train topic modeling using word embedding on tweets and see what it leads to.\n",
    "\n",
    "I will be using this tutorial as a reference: https://towardsdatascience.com/topic-modeling-with-bert-779f7db187e6"
   ]
  },
  {
   "attachments": {},
   "cell_type": "markdown",
   "metadata": {},
   "source": [
    "##### 1. The Data"
   ]
  },
  {
   "cell_type": "code",
   "execution_count": 1,
   "metadata": {},
   "outputs": [],
   "source": [
    "import pandas as pd"
   ]
  },
  {
   "cell_type": "code",
   "execution_count": 2,
   "metadata": {},
   "outputs": [],
   "source": [
    "news_data = pd.read_csv(\"data/congo-news.csv\", index_col=0, parse_dates=['posted_at'])"
   ]
  },
  {
   "cell_type": "code",
   "execution_count": 3,
   "metadata": {},
   "outputs": [
    {
     "data": {
      "text/html": [
       "<div>\n",
       "<style scoped>\n",
       "    .dataframe tbody tr th:only-of-type {\n",
       "        vertical-align: middle;\n",
       "    }\n",
       "\n",
       "    .dataframe tbody tr th {\n",
       "        vertical-align: top;\n",
       "    }\n",
       "\n",
       "    .dataframe thead th {\n",
       "        text-align: right;\n",
       "    }\n",
       "</style>\n",
       "<table border=\"1\" class=\"dataframe\">\n",
       "  <thead>\n",
       "    <tr style=\"text-align: right;\">\n",
       "      <th></th>\n",
       "      <th>title</th>\n",
       "      <th>content</th>\n",
       "      <th>summary</th>\n",
       "      <th>posted_at</th>\n",
       "      <th>website_origin</th>\n",
       "    </tr>\n",
       "  </thead>\n",
       "  <tbody>\n",
       "    <tr>\n",
       "      <th>0</th>\n",
       "      <td>RDC : Les Jeux de la Francophonie ont stimulé ...</td>\n",
       "      <td>« En plus des résultats plus que satisfaisants...</td>\n",
       "      <td>NaN</td>\n",
       "      <td>NaT</td>\n",
       "      <td>https://www.7sur7.cd</td>\n",
       "    </tr>\n",
       "    <tr>\n",
       "      <th>1</th>\n",
       "      <td>Ituri : 3 civils tués par des miliciens CODECO...</td>\n",
       "      <td>Trois (3) civils ont été tués et 2 autres griè...</td>\n",
       "      <td>NaN</td>\n",
       "      <td>NaT</td>\n",
       "      <td>https://www.7sur7.cd</td>\n",
       "    </tr>\n",
       "    <tr>\n",
       "      <th>2</th>\n",
       "      <td>RDC : Le succès des Jeux de la Francophonie pr...</td>\n",
       "      <td>Cette Organisation de la société civile félici...</td>\n",
       "      <td>NaN</td>\n",
       "      <td>NaT</td>\n",
       "      <td>https://www.7sur7.cd</td>\n",
       "    </tr>\n",
       "    <tr>\n",
       "      <th>3</th>\n",
       "      <td>Beni : 2 ADF de nationalité ougandaise tués pa...</td>\n",
       "      <td>Selon le porte-parole du secteur opérationnel ...</td>\n",
       "      <td>NaN</td>\n",
       "      <td>NaT</td>\n",
       "      <td>https://www.7sur7.cd</td>\n",
       "    </tr>\n",
       "    <tr>\n",
       "      <th>4</th>\n",
       "      <td>Kinshasa : 5 morts dans l’incendie provoqué pa...</td>\n",
       "      <td>C'est ce qu'a affirmé le vice-gouverneur de la...</td>\n",
       "      <td>NaN</td>\n",
       "      <td>NaT</td>\n",
       "      <td>https://www.7sur7.cd</td>\n",
       "    </tr>\n",
       "  </tbody>\n",
       "</table>\n",
       "</div>"
      ],
      "text/plain": [
       "                                               title  \\\n",
       "0  RDC : Les Jeux de la Francophonie ont stimulé ...   \n",
       "1  Ituri : 3 civils tués par des miliciens CODECO...   \n",
       "2  RDC : Le succès des Jeux de la Francophonie pr...   \n",
       "3  Beni : 2 ADF de nationalité ougandaise tués pa...   \n",
       "4  Kinshasa : 5 morts dans l’incendie provoqué pa...   \n",
       "\n",
       "                                             content  summary posted_at  \\\n",
       "0  « En plus des résultats plus que satisfaisants...      NaN       NaT   \n",
       "1  Trois (3) civils ont été tués et 2 autres griè...      NaN       NaT   \n",
       "2  Cette Organisation de la société civile félici...      NaN       NaT   \n",
       "3  Selon le porte-parole du secteur opérationnel ...      NaN       NaT   \n",
       "4  C'est ce qu'a affirmé le vice-gouverneur de la...      NaN       NaT   \n",
       "\n",
       "         website_origin  \n",
       "0  https://www.7sur7.cd  \n",
       "1  https://www.7sur7.cd  \n",
       "2  https://www.7sur7.cd  \n",
       "3  https://www.7sur7.cd  \n",
       "4  https://www.7sur7.cd  "
      ]
     },
     "execution_count": 3,
     "metadata": {},
     "output_type": "execute_result"
    }
   ],
   "source": [
    "news_data.head()"
   ]
  },
  {
   "cell_type": "code",
   "execution_count": 4,
   "metadata": {},
   "outputs": [],
   "source": [
    "news_data = news_data.sort_values(by='posted_at', ascending=False)"
   ]
  },
  {
   "cell_type": "code",
   "execution_count": 5,
   "metadata": {},
   "outputs": [
    {
     "data": {
      "text/html": [
       "<div>\n",
       "<style scoped>\n",
       "    .dataframe tbody tr th:only-of-type {\n",
       "        vertical-align: middle;\n",
       "    }\n",
       "\n",
       "    .dataframe tbody tr th {\n",
       "        vertical-align: top;\n",
       "    }\n",
       "\n",
       "    .dataframe thead th {\n",
       "        text-align: right;\n",
       "    }\n",
       "</style>\n",
       "<table border=\"1\" class=\"dataframe\">\n",
       "  <thead>\n",
       "    <tr style=\"text-align: right;\">\n",
       "      <th></th>\n",
       "      <th>title</th>\n",
       "      <th>content</th>\n",
       "      <th>summary</th>\n",
       "      <th>posted_at</th>\n",
       "      <th>website_origin</th>\n",
       "    </tr>\n",
       "  </thead>\n",
       "  <tbody>\n",
       "    <tr>\n",
       "      <th>623</th>\n",
       "      <td>Silence, le Président s’auto-évalue !</td>\n",
       "      <td>De l’ancien premier ministre socialiste frança...</td>\n",
       "      <td>NaN</td>\n",
       "      <td>2023-12-07</td>\n",
       "      <td>https://forumdesas.net</td>\n",
       "    </tr>\n",
       "    <tr>\n",
       "      <th>420</th>\n",
       "      <td>Le Secrétaire exécutif du Copirep exhorte le p...</td>\n",
       "      <td>Le Secrétaire exécutif du Comité de pilotage d...</td>\n",
       "      <td>NaN</td>\n",
       "      <td>2023-12-06</td>\n",
       "      <td>https://forumdesas.net</td>\n",
       "    </tr>\n",
       "    <tr>\n",
       "      <th>501</th>\n",
       "      <td>Mgr Fulgence Muteba « fustige le fossé criant ...</td>\n",
       "      <td>Mgr Fulgence Muteba, archevêque métropolitain ...</td>\n",
       "      <td>NaN</td>\n",
       "      <td>2023-12-06</td>\n",
       "      <td>https://forumdesas.net</td>\n",
       "    </tr>\n",
       "    <tr>\n",
       "      <th>399</th>\n",
       "      <td>« Seul Muzito a élevé à 2000 USD le salaire de...</td>\n",
       "      <td>Dans une interview accordée à la RTGA, samedi ...</td>\n",
       "      <td>NaN</td>\n",
       "      <td>2023-12-06</td>\n",
       "      <td>https://forumdesas.net</td>\n",
       "    </tr>\n",
       "    <tr>\n",
       "      <th>522</th>\n",
       "      <td>Magistrature : voici les 2.500 nouveaux magist...</td>\n",
       "      <td>Au terme des ordonnances lues hier dimanche 11...</td>\n",
       "      <td>NaN</td>\n",
       "      <td>2023-12-06</td>\n",
       "      <td>https://forumdesas.net</td>\n",
       "    </tr>\n",
       "  </tbody>\n",
       "</table>\n",
       "</div>"
      ],
      "text/plain": [
       "                                                 title  \\\n",
       "623              Silence, le Président s’auto-évalue !   \n",
       "420  Le Secrétaire exécutif du Copirep exhorte le p...   \n",
       "501  Mgr Fulgence Muteba « fustige le fossé criant ...   \n",
       "399  « Seul Muzito a élevé à 2000 USD le salaire de...   \n",
       "522  Magistrature : voici les 2.500 nouveaux magist...   \n",
       "\n",
       "                                               content  summary  posted_at  \\\n",
       "623  De l’ancien premier ministre socialiste frança...      NaN 2023-12-07   \n",
       "420  Le Secrétaire exécutif du Comité de pilotage d...      NaN 2023-12-06   \n",
       "501  Mgr Fulgence Muteba, archevêque métropolitain ...      NaN 2023-12-06   \n",
       "399  Dans une interview accordée à la RTGA, samedi ...      NaN 2023-12-06   \n",
       "522  Au terme des ordonnances lues hier dimanche 11...      NaN 2023-12-06   \n",
       "\n",
       "             website_origin  \n",
       "623  https://forumdesas.net  \n",
       "420  https://forumdesas.net  \n",
       "501  https://forumdesas.net  \n",
       "399  https://forumdesas.net  \n",
       "522  https://forumdesas.net  "
      ]
     },
     "execution_count": 5,
     "metadata": {},
     "output_type": "execute_result"
    }
   ],
   "source": [
    "news_data.head()"
   ]
  },
  {
   "cell_type": "markdown",
   "metadata": {},
   "source": [
    "### Data Cleaning\n",
    "\n",
    "With the clustering I realized that the data has many empty contents and  some articles have duplicate contents. I will remove the empty contents and the duplicate contents.\n"
   ]
  },
  {
   "cell_type": "code",
   "execution_count": 10,
   "metadata": {},
   "outputs": [],
   "source": [
    "news_data = news_data.loc[news_data.content.str.strip().str.len() > 0, :]"
   ]
  },
  {
   "cell_type": "markdown",
   "metadata": {},
   "source": [
    "Pandas find duplicates values in a column"
   ]
  },
  {
   "cell_type": "code",
   "execution_count": 14,
   "metadata": {},
   "outputs": [],
   "source": [
    "# drop duplicates content\n",
    "news_data = news_data.drop_duplicates(subset=['content'])"
   ]
  },
  {
   "cell_type": "code",
   "execution_count": 15,
   "metadata": {},
   "outputs": [
    {
     "data": {
      "text/plain": [
       "(66062, 5)"
      ]
     },
     "execution_count": 15,
     "metadata": {},
     "output_type": "execute_result"
    }
   ],
   "source": [
    "news_data.shape"
   ]
  },
  {
   "attachments": {},
   "cell_type": "markdown",
   "metadata": {},
   "source": [
    "### Encoding.\n",
    "\n",
    "To learn the vector representation of our tweets we will be using the BERT model, but instead of using the main bert model, we will be using the bert model that was trained on a corpus of french tweets since most of our target tweets are from French. `Yanzhu/bertweetfr-base`. is the model we will be using."
   ]
  },
  {
   "cell_type": "code",
   "execution_count": 16,
   "metadata": {},
   "outputs": [],
   "source": [
    "from sentence_transformers import SentenceTransformer"
   ]
  },
  {
   "cell_type": "code",
   "execution_count": 17,
   "metadata": {},
   "outputs": [],
   "source": [
    "from pathlib import Path"
   ]
  },
  {
   "cell_type": "code",
   "execution_count": 18,
   "metadata": {},
   "outputs": [],
   "source": [
    "trained_model_path = Path.cwd().joinpath(\"trained_models\", \"congo-news-masked-language-model\")"
   ]
  },
  {
   "cell_type": "code",
   "execution_count": 19,
   "metadata": {},
   "outputs": [
    {
     "name": "stderr",
     "output_type": "stream",
     "text": [
      "No sentence-transformers model found with name /Users/esp.py/Projects/Personal/balobi_nini/trained_models/congo-news-masked-language-model. Creating a new one with MEAN pooling.\n",
      "Some weights of CamembertModel were not initialized from the model checkpoint at /Users/esp.py/Projects/Personal/balobi_nini/trained_models/congo-news-masked-language-model and are newly initialized: ['roberta.pooler.dense.weight', 'roberta.pooler.dense.bias']\n",
      "You should probably TRAIN this model on a down-stream task to be able to use it for predictions and inference.\n"
     ]
    }
   ],
   "source": [
    "model = SentenceTransformer(trained_model_path)"
   ]
  },
  {
   "cell_type": "code",
   "execution_count": 90,
   "metadata": {},
   "outputs": [
    {
     "data": {
      "text/html": [
       "<div>\n",
       "<style scoped>\n",
       "    .dataframe tbody tr th:only-of-type {\n",
       "        vertical-align: middle;\n",
       "    }\n",
       "\n",
       "    .dataframe tbody tr th {\n",
       "        vertical-align: top;\n",
       "    }\n",
       "\n",
       "    .dataframe thead th {\n",
       "        text-align: right;\n",
       "    }\n",
       "</style>\n",
       "<table border=\"1\" class=\"dataframe\">\n",
       "  <thead>\n",
       "    <tr style=\"text-align: right;\">\n",
       "      <th></th>\n",
       "      <th>title</th>\n",
       "      <th>content</th>\n",
       "      <th>summary</th>\n",
       "      <th>website_origin</th>\n",
       "    </tr>\n",
       "    <tr>\n",
       "      <th>posted_at</th>\n",
       "      <th></th>\n",
       "      <th></th>\n",
       "      <th></th>\n",
       "      <th></th>\n",
       "    </tr>\n",
       "  </thead>\n",
       "  <tbody>\n",
       "    <tr>\n",
       "      <th>2023-12-07 00:00:00</th>\n",
       "      <td>1</td>\n",
       "      <td>1</td>\n",
       "      <td>0</td>\n",
       "      <td>1</td>\n",
       "    </tr>\n",
       "    <tr>\n",
       "      <th>2023-12-06 00:00:00</th>\n",
       "      <td>11</td>\n",
       "      <td>11</td>\n",
       "      <td>0</td>\n",
       "      <td>11</td>\n",
       "    </tr>\n",
       "    <tr>\n",
       "      <th>2023-12-05 00:00:00</th>\n",
       "      <td>1</td>\n",
       "      <td>1</td>\n",
       "      <td>0</td>\n",
       "      <td>1</td>\n",
       "    </tr>\n",
       "    <tr>\n",
       "      <th>2023-11-07 00:00:00</th>\n",
       "      <td>1</td>\n",
       "      <td>1</td>\n",
       "      <td>0</td>\n",
       "      <td>1</td>\n",
       "    </tr>\n",
       "    <tr>\n",
       "      <th>2023-11-05 00:00:00</th>\n",
       "      <td>20</td>\n",
       "      <td>20</td>\n",
       "      <td>0</td>\n",
       "      <td>20</td>\n",
       "    </tr>\n",
       "    <tr>\n",
       "      <th>2023-10-07 00:00:00</th>\n",
       "      <td>11</td>\n",
       "      <td>11</td>\n",
       "      <td>0</td>\n",
       "      <td>11</td>\n",
       "    </tr>\n",
       "    <tr>\n",
       "      <th>2023-09-06 00:00:00</th>\n",
       "      <td>2</td>\n",
       "      <td>2</td>\n",
       "      <td>0</td>\n",
       "      <td>2</td>\n",
       "    </tr>\n",
       "    <tr>\n",
       "      <th>2023-08-08 15:19:36</th>\n",
       "      <td>1</td>\n",
       "      <td>1</td>\n",
       "      <td>0</td>\n",
       "      <td>1</td>\n",
       "    </tr>\n",
       "    <tr>\n",
       "      <th>2023-08-08 12:13:12</th>\n",
       "      <td>1</td>\n",
       "      <td>1</td>\n",
       "      <td>0</td>\n",
       "      <td>1</td>\n",
       "    </tr>\n",
       "    <tr>\n",
       "      <th>2023-08-08 11:41:25</th>\n",
       "      <td>1</td>\n",
       "      <td>1</td>\n",
       "      <td>0</td>\n",
       "      <td>1</td>\n",
       "    </tr>\n",
       "  </tbody>\n",
       "</table>\n",
       "</div>"
      ],
      "text/plain": [
       "                     title  content  summary  website_origin\n",
       "posted_at                                                   \n",
       "2023-12-07 00:00:00      1        1        0               1\n",
       "2023-12-06 00:00:00     11       11        0              11\n",
       "2023-12-05 00:00:00      1        1        0               1\n",
       "2023-11-07 00:00:00      1        1        0               1\n",
       "2023-11-05 00:00:00     20       20        0              20\n",
       "2023-10-07 00:00:00     11       11        0              11\n",
       "2023-09-06 00:00:00      2        2        0               2\n",
       "2023-08-08 15:19:36      1        1        0               1\n",
       "2023-08-08 12:13:12      1        1        0               1\n",
       "2023-08-08 11:41:25      1        1        0               1"
      ]
     },
     "execution_count": 90,
     "metadata": {},
     "output_type": "execute_result"
    }
   ],
   "source": [
    "news_data.loc[news_data.posted_at.notna()].groupby('posted_at').count().sort_values('title', ascending=False).sort_index(ascending=False).head(10)"
   ]
  },
  {
   "attachments": {},
   "cell_type": "markdown",
   "metadata": {},
   "source": [
    "Use the model to learn embedding for the documents"
   ]
  },
  {
   "cell_type": "markdown",
   "metadata": {},
   "source": [
    "### simulate today news\n",
    "\n"
   ]
  },
  {
   "cell_type": "markdown",
   "metadata": {},
   "source": [
    "simulate today news by samplign only 1000 news from the whole dataset"
   ]
  },
  {
   "cell_type": "code",
   "execution_count": 20,
   "metadata": {},
   "outputs": [],
   "source": [
    "today_news = news_data.content.sample(10000)"
   ]
  },
  {
   "cell_type": "code",
   "execution_count": 21,
   "metadata": {},
   "outputs": [
    {
     "data": {
      "application/vnd.jupyter.widget-view+json": {
       "model_id": "522c73e573dc49c39b73bfae5e317569",
       "version_major": 2,
       "version_minor": 0
      },
      "text/plain": [
       "Batches:   0%|          | 0/313 [00:00<?, ?it/s]"
      ]
     },
     "metadata": {},
     "output_type": "display_data"
    }
   ],
   "source": [
    "today_news_embeddings = model.encode(today_news.values, show_progress_bar=True)"
   ]
  },
  {
   "cell_type": "code",
   "execution_count": 22,
   "metadata": {},
   "outputs": [
    {
     "data": {
      "text/plain": [
       "(10000, 768)"
      ]
     },
     "execution_count": 22,
     "metadata": {},
     "output_type": "execute_result"
    }
   ],
   "source": [
    "today_news_embeddings.shape"
   ]
  },
  {
   "attachments": {},
   "cell_type": "markdown",
   "metadata": {},
   "source": [
    "with the encoding done, we can move to the next step which is the clustering."
   ]
  },
  {
   "attachments": {},
   "cell_type": "markdown",
   "metadata": {},
   "source": [
    "Before applying the clustering, we will use the umap-learn algorithm."
   ]
  },
  {
   "cell_type": "code",
   "execution_count": 23,
   "metadata": {},
   "outputs": [],
   "source": [
    "import numpy as np"
   ]
  },
  {
   "cell_type": "code",
   "execution_count": 24,
   "metadata": {},
   "outputs": [
    {
     "data": {
      "text/plain": [
       "'1.24.0'"
      ]
     },
     "execution_count": 24,
     "metadata": {},
     "output_type": "execute_result"
    }
   ],
   "source": [
    "np.__version__"
   ]
  },
  {
   "cell_type": "code",
   "execution_count": 25,
   "metadata": {},
   "outputs": [
    {
     "name": "stderr",
     "output_type": "stream",
     "text": [
      "/Users/esp.py/Projects/Personal/balobi_nini/.venv/lib/python3.10/site-packages/umap/distances.py:1063: NumbaDeprecationWarning: The 'nopython' keyword argument was not supplied to the 'numba.jit' decorator. The implicit default value for this argument is currently False, but it will be changed to True in Numba 0.59.0. See https://numba.readthedocs.io/en/stable/reference/deprecation.html#deprecation-of-object-mode-fall-back-behaviour-when-using-jit for details.\n",
      "  @numba.jit()\n",
      "/Users/esp.py/Projects/Personal/balobi_nini/.venv/lib/python3.10/site-packages/umap/distances.py:1071: NumbaDeprecationWarning: The 'nopython' keyword argument was not supplied to the 'numba.jit' decorator. The implicit default value for this argument is currently False, but it will be changed to True in Numba 0.59.0. See https://numba.readthedocs.io/en/stable/reference/deprecation.html#deprecation-of-object-mode-fall-back-behaviour-when-using-jit for details.\n",
      "  @numba.jit()\n",
      "/Users/esp.py/Projects/Personal/balobi_nini/.venv/lib/python3.10/site-packages/umap/distances.py:1086: NumbaDeprecationWarning: The 'nopython' keyword argument was not supplied to the 'numba.jit' decorator. The implicit default value for this argument is currently False, but it will be changed to True in Numba 0.59.0. See https://numba.readthedocs.io/en/stable/reference/deprecation.html#deprecation-of-object-mode-fall-back-behaviour-when-using-jit for details.\n",
      "  @numba.jit()\n",
      "/Users/esp.py/Projects/Personal/balobi_nini/.venv/lib/python3.10/site-packages/umap/umap_.py:660: NumbaDeprecationWarning: The 'nopython' keyword argument was not supplied to the 'numba.jit' decorator. The implicit default value for this argument is currently False, but it will be changed to True in Numba 0.59.0. See https://numba.readthedocs.io/en/stable/reference/deprecation.html#deprecation-of-object-mode-fall-back-behaviour-when-using-jit for details.\n",
      "  @numba.jit()\n"
     ]
    }
   ],
   "source": [
    "import umap"
   ]
  },
  {
   "attachments": {},
   "cell_type": "markdown",
   "metadata": {},
   "source": [
    "We used umap dimensionality reduction algorithm to reduce the dimension of our data to 5 this will help us to visualize the data."
   ]
  },
  {
   "cell_type": "code",
   "execution_count": 75,
   "metadata": {},
   "outputs": [],
   "source": [
    "umap_embeddings = umap.UMAP(n_neighbors=15, \n",
    "                            n_components=5, \n",
    "                            metric='cosine').fit_transform(today_news_embeddings)"
   ]
  },
  {
   "cell_type": "code",
   "execution_count": 76,
   "metadata": {},
   "outputs": [
    {
     "data": {
      "text/plain": [
       "(10000, 5)"
      ]
     },
     "execution_count": 76,
     "metadata": {},
     "output_type": "execute_result"
    }
   ],
   "source": [
    "umap_embeddings.shape"
   ]
  },
  {
   "cell_type": "code",
   "execution_count": 77,
   "metadata": {},
   "outputs": [],
   "source": [
    "from hdbscan import HDBSCAN"
   ]
  },
  {
   "cell_type": "code",
   "execution_count": 78,
   "metadata": {},
   "outputs": [],
   "source": [
    "cluster = HDBSCAN(min_cluster_size=10,\n",
    "                  metric='euclidean',                      \n",
    "                  cluster_selection_method='eom').fit(umap_embeddings)"
   ]
  },
  {
   "attachments": {},
   "cell_type": "markdown",
   "metadata": {},
   "source": []
  },
  {
   "cell_type": "code",
   "execution_count": null,
   "metadata": {},
   "outputs": [],
   "source": []
  },
  {
   "cell_type": "code",
   "execution_count": 79,
   "metadata": {},
   "outputs": [
    {
     "data": {
      "text/plain": [
       "(10000,)"
      ]
     },
     "execution_count": 79,
     "metadata": {},
     "output_type": "execute_result"
    }
   ],
   "source": [
    "cluster.labels_.shape"
   ]
  },
  {
   "cell_type": "code",
   "execution_count": 80,
   "metadata": {},
   "outputs": [
    {
     "data": {
      "text/plain": [
       "array([0, 1])"
      ]
     },
     "execution_count": 80,
     "metadata": {},
     "output_type": "execute_result"
    }
   ],
   "source": [
    "### find unique elments in the cluster labels\n",
    "np.unique(cluster.labels_)"
   ]
  },
  {
   "cell_type": "code",
   "execution_count": 33,
   "metadata": {},
   "outputs": [
    {
     "data": {
      "text/plain": [
       "(array([0, 1]), array([ 314, 9686]))"
      ]
     },
     "execution_count": 33,
     "metadata": {},
     "output_type": "execute_result"
    }
   ],
   "source": [
    "# values counts of each element in the numpy array of clusters\n",
    "\n",
    "np.unique(cluster.labels_, return_counts=True)\n"
   ]
  },
  {
   "cell_type": "code",
   "execution_count": 34,
   "metadata": {},
   "outputs": [
    {
     "data": {
      "text/plain": [
       "(array([  74,  107,  111,  194,  207,  292,  311,  330,  362,  363,  368,\n",
       "         394,  411,  456,  498,  500,  503,  505,  528,  565,  645,  718,\n",
       "         723,  727,  828,  840,  878,  930,  970, 1035, 1053, 1186, 1206,\n",
       "        1215, 1302, 1306, 1312, 1337, 1348, 1421, 1460, 1468, 1476, 1519,\n",
       "        1533, 1539, 1584, 1598, 1637, 1674, 1693, 1767, 1815, 1831, 1879,\n",
       "        1882, 1886, 1894, 1896, 1915, 1936, 1948, 1954, 2001, 2039, 2041,\n",
       "        2045, 2118, 2172, 2234, 2328, 2381, 2392, 2442, 2485, 2513, 2515,\n",
       "        2525, 2614, 2685, 2686, 2689, 2721, 2750, 2784, 2808, 2813, 2820,\n",
       "        2858, 2879, 2902, 2930, 2937, 2938, 3099, 3122, 3215, 3218, 3220,\n",
       "        3249, 3251, 3273, 3278, 3289, 3359, 3360, 3370, 3388, 3439, 3479,\n",
       "        3518, 3538, 3572, 3588, 3690, 3748, 3759, 3772, 3777, 3810, 3817,\n",
       "        3846, 4018, 4038, 4082, 4113, 4116, 4142, 4246, 4247, 4269, 4270,\n",
       "        4287, 4352, 4372, 4420, 4473, 4508, 4520, 4527, 4578, 4658, 4660,\n",
       "        4709, 4739, 4749, 4764, 4796, 4826, 4836, 4971, 5028, 5053, 5095,\n",
       "        5164, 5190, 5200, 5210, 5216, 5234, 5238, 5242, 5254, 5266, 5317,\n",
       "        5367, 5405, 5455, 5468, 5532, 5550, 5556, 5567, 5586, 5621, 5653,\n",
       "        5659, 5663, 5739, 5789, 5800, 5809, 5819, 5864, 5917, 5940, 5953,\n",
       "        5989, 5994, 6068, 6113, 6167, 6205, 6242, 6262, 6342, 6350, 6383,\n",
       "        6424, 6484, 6493, 6533, 6536, 6548, 6549, 6570, 6605, 6630, 6643,\n",
       "        6646, 6745, 6760, 6784, 6900, 6910, 6974, 6982, 7002, 7061, 7063,\n",
       "        7069, 7077, 7105, 7184, 7202, 7212, 7217, 7232, 7241, 7245, 7302,\n",
       "        7323, 7407, 7443, 7447, 7465, 7472, 7494, 7515, 7524, 7586, 7593,\n",
       "        7656, 7747, 7768, 7773, 7799, 7835, 7854, 7883, 7919, 7996, 8019,\n",
       "        8024, 8049, 8093, 8101, 8139, 8172, 8183, 8191, 8216, 8224, 8244,\n",
       "        8250, 8288, 8303, 8329, 8429, 8514, 8544, 8567, 8617, 8637, 8660,\n",
       "        8662, 8736, 8840, 8875, 8921, 8978, 9066, 9123, 9165, 9175, 9177,\n",
       "        9304, 9331, 9377, 9383, 9407, 9434, 9465, 9527, 9545, 9546, 9587,\n",
       "        9618, 9670, 9677, 9698, 9726, 9730, 9754, 9773, 9781, 9790, 9799,\n",
       "        9847, 9853, 9923, 9927, 9967, 9971]),)"
      ]
     },
     "execution_count": 34,
     "metadata": {},
     "output_type": "execute_result"
    }
   ],
   "source": [
    "# get the index of label 1 in the cluster\n",
    "\n",
    "np.where(cluster.labels_ == 0)"
   ]
  },
  {
   "cell_type": "code",
   "execution_count": 35,
   "metadata": {},
   "outputs": [],
   "source": [
    "today_news = today_news.reset_index(drop=True)"
   ]
  },
  {
   "cell_type": "code",
   "execution_count": 37,
   "metadata": {},
   "outputs": [
    {
     "data": {
      "text/plain": [
       "0       \\nLe joueur du TP Mazembe, Trésor Mputu n'a pa...\n",
       "1       Le coordonnateur du Comité Stratégique du Fron...\n",
       "2       La classe politique congolaise rend ses dernie...\n",
       "3       Par CAS-INFOSes 17 passagers et les membres de...\n",
       "4       Boutiques, magasins, banques et autres édifice...\n",
       "                              ...                        \n",
       "9995    L’artiste musicien, percussionniste et auteur-...\n",
       "9996    Le président intérimaire de l'Union pour la Dé...\n",
       "9997    Le caucus des députés nationaux de la province...\n",
       "9998    Dans une déclaration lue devant la presse ce j...\n",
       "9999    Une année après la promulgation de la loi d’am...\n",
       "Name: content, Length: 9686, dtype: object"
      ]
     },
     "execution_count": 37,
     "metadata": {},
     "output_type": "execute_result"
    }
   ],
   "source": [
    "today_news.loc[np.where(cluster.labels_ == 1)[0]]"
   ]
  },
  {
   "cell_type": "markdown",
   "metadata": {},
   "source": [
    "from what I can see, there is a need for more cleaning."
   ]
  },
  {
   "cell_type": "code",
   "execution_count": 38,
   "metadata": {},
   "outputs": [
    {
     "data": {
      "text/plain": [
       "<matplotlib.colorbar.Colorbar at 0x2cbf080a0>"
      ]
     },
     "execution_count": 38,
     "metadata": {},
     "output_type": "execute_result"
    },
    {
     "data": {
      "image/png": "[encoded data removed]",
      "text/plain": [
       "<Figure size 1000x500 with 2 Axes>"
      ]
     },
     "metadata": {},
     "output_type": "display_data"
    }
   ],
   "source": [
    "import matplotlib.pyplot as plt\n",
    "\n",
    "# Prepare data\n",
    "umap_data = umap.UMAP(n_neighbors=15, n_components=2, min_dist=0.0, metric='cosine').fit_transform(umap_embeddings)\n",
    "result = pd.DataFrame(umap_data, columns=['x', 'y'])\n",
    "result['labels'] = cluster.labels_\n",
    "\n",
    "# Visualize clusters\n",
    "fig, ax = plt.subplots(figsize=(10, 5))\n",
    "outliers = result.loc[result.labels == -1, :]\n",
    "clustered = result.loc[result.labels != -1, :]\n",
    "plt.scatter(outliers.x, outliers.y, color='#BDBDBD', s=0.05)\n",
    "plt.scatter(clustered.x, clustered.y, c=clustered.labels, s=0.05, cmap='hsv_r')\n",
    "plt.colorbar()"
   ]
  },
  {
   "cell_type": "code",
   "execution_count": null,
   "metadata": {},
   "outputs": [],
   "source": [
    "result.la"
   ]
  },
  {
   "cell_type": "markdown",
   "metadata": {},
   "source": [
    "This is the represenntation of our cluster if we use only two dimension to represent the data."
   ]
  },
  {
   "cell_type": "code",
   "execution_count": 56,
   "metadata": {},
   "outputs": [],
   "source": [
    "today_news = today_news.drop([\"Topic\", \"Doc_ID\"], axis='rows')"
   ]
  },
  {
   "cell_type": "code",
   "execution_count": 57,
   "metadata": {},
   "outputs": [],
   "source": [
    "docs_df = pd.DataFrame(today_news)\n",
    "docs_df['Topic'] = cluster.labels_\n",
    "docs_df['Doc_ID'] = range(len(docs_df))\n",
    "docs_per_topic = docs_df.groupby(['Topic'], as_index = False).agg({'content': ' '.join})"
   ]
  },
  {
   "cell_type": "code",
   "execution_count": 60,
   "metadata": {},
   "outputs": [
    {
     "data": {
      "text/html": [
       "<div>\n",
       "<style scoped>\n",
       "    .dataframe tbody tr th:only-of-type {\n",
       "        vertical-align: middle;\n",
       "    }\n",
       "\n",
       "    .dataframe tbody tr th {\n",
       "        vertical-align: top;\n",
       "    }\n",
       "\n",
       "    .dataframe thead th {\n",
       "        text-align: right;\n",
       "    }\n",
       "</style>\n",
       "<table border=\"1\" class=\"dataframe\">\n",
       "  <thead>\n",
       "    <tr style=\"text-align: right;\">\n",
       "      <th></th>\n",
       "      <th>Topic</th>\n",
       "      <th>content</th>\n",
       "    </tr>\n",
       "  </thead>\n",
       "  <tbody>\n",
       "    <tr>\n",
       "      <th>0</th>\n",
       "      <td>0</td>\n",
       "      <td>Le Football Club Renaissance du Congo a offici...</td>\n",
       "    </tr>\n",
       "    <tr>\n",
       "      <th>1</th>\n",
       "      <td>1</td>\n",
       "      <td>\\nLe joueur du TP Mazembe, Trésor Mputu n'a pa...</td>\n",
       "    </tr>\n",
       "  </tbody>\n",
       "</table>\n",
       "</div>"
      ],
      "text/plain": [
       "   Topic                                            content\n",
       "0      0  Le Football Club Renaissance du Congo a offici...\n",
       "1      1  \\nLe joueur du TP Mazembe, Trésor Mputu n'a pa..."
      ]
     },
     "execution_count": 60,
     "metadata": {},
     "output_type": "execute_result"
    }
   ],
   "source": [
    "docs_per_topic"
   ]
  },
  {
   "cell_type": "code",
   "execution_count": 67,
   "metadata": {},
   "outputs": [],
   "source": [
    "from nltk.corpus import stopwords"
   ]
  },
  {
   "cell_type": "code",
   "execution_count": 68,
   "metadata": {},
   "outputs": [],
   "source": [
    "french_stopwords = stopwords.words('french')"
   ]
  },
  {
   "cell_type": "code",
   "execution_count": 69,
   "metadata": {},
   "outputs": [],
   "source": [
    "import numpy as np\n",
    "from sklearn.feature_extraction.text import CountVectorizer\n",
    "\n",
    "def c_tf_idf(documents, m, ngram_range=(1, 2)):\n",
    "    count = CountVectorizer(ngram_range=ngram_range, stop_words=french_stopwords).fit(documents)\n",
    "    t = count.transform(documents).toarray()\n",
    "    w = t.sum(axis=1)\n",
    "    tf = np.divide(t.T, w)\n",
    "    sum_t = t.sum(axis=0)\n",
    "    idf = np.log(np.divide(m, sum_t)).reshape(-1, 1)\n",
    "    tf_idf = np.multiply(tf, idf)\n",
    "\n",
    "    return tf_idf, count\n",
    "  \n",
    "tf_idf, count = c_tf_idf(docs_per_topic.content.values, m=today_news.shape[0])"
   ]
  },
  {
   "cell_type": "code",
   "execution_count": 70,
   "metadata": {},
   "outputs": [
    {
     "data": {
      "text/html": [
       "<div>\n",
       "<style scoped>\n",
       "    .dataframe tbody tr th:only-of-type {\n",
       "        vertical-align: middle;\n",
       "    }\n",
       "\n",
       "    .dataframe tbody tr th {\n",
       "        vertical-align: top;\n",
       "    }\n",
       "\n",
       "    .dataframe thead th {\n",
       "        text-align: right;\n",
       "    }\n",
       "</style>\n",
       "<table border=\"1\" class=\"dataframe\">\n",
       "  <thead>\n",
       "    <tr style=\"text-align: right;\">\n",
       "      <th></th>\n",
       "      <th>Topic</th>\n",
       "      <th>Size</th>\n",
       "    </tr>\n",
       "  </thead>\n",
       "  <tbody>\n",
       "    <tr>\n",
       "      <th>1</th>\n",
       "      <td>1</td>\n",
       "      <td>9686</td>\n",
       "    </tr>\n",
       "    <tr>\n",
       "      <th>0</th>\n",
       "      <td>0</td>\n",
       "      <td>314</td>\n",
       "    </tr>\n",
       "  </tbody>\n",
       "</table>\n",
       "</div>"
      ],
      "text/plain": [
       "   Topic  Size\n",
       "1      1  9686\n",
       "0      0   314"
      ]
     },
     "execution_count": 70,
     "metadata": {},
     "output_type": "execute_result"
    }
   ],
   "source": [
    "def extract_top_n_words_per_topic(tf_idf, count, docs_per_topic, n=20):\n",
    "    words = count.get_feature_names_out()\n",
    "    labels = list(docs_per_topic.Topic)\n",
    "    tf_idf_transposed = tf_idf.T\n",
    "    indices = tf_idf_transposed.argsort()[:, -n:]\n",
    "    top_n_words = {label: [(words[j], tf_idf_transposed[i][j]) for j in indices[i]][::-1] for i, label in enumerate(labels)}\n",
    "    return top_n_words\n",
    "\n",
    "def extract_topic_sizes(df):\n",
    "    topic_sizes = (df.groupby(['Topic'])\n",
    "                     .content\n",
    "                     .count()\n",
    "                     .reset_index()\n",
    "                     .rename({\"Topic\": \"Topic\", \"content\": \"Size\"}, axis='columns')\n",
    "                     .sort_values(\"Size\", ascending=False))\n",
    "    return topic_sizes\n",
    "\n",
    "top_n_words = extract_top_n_words_per_topic(tf_idf, count, docs_per_topic, n=20)\n",
    "topic_sizes = extract_topic_sizes(docs_df); topic_sizes.head(10)"
   ]
  },
  {
   "cell_type": "code",
   "execution_count": 71,
   "metadata": {},
   "outputs": [
    {
     "data": {
      "text/plain": [
       "{0: [('club', 0.014004717649397131),\n",
       "  ('match', 0.013115080322956515),\n",
       "  ('mazembe', 0.00970076053257946),\n",
       "  ('léopards', 0.008844241468535588),\n",
       "  ('football', 0.0088307068768695),\n",
       "  ('score', 0.008029169672857788),\n",
       "  ('championnat', 0.007512125214685487),\n",
       "  ('finale', 0.007370898379014657),\n",
       "  ('coupe', 0.0072912027967079055),\n",
       "  ('ligue', 0.007053199823862238),\n",
       "  ('stade', 0.006983284999683813),\n",
       "  ('buts', 0.006262496574786641),\n",
       "  ('joueurs', 0.006140013347303906),\n",
       "  ('points', 0.006071771215072964),\n",
       "  ('équipe', 0.005880894657694624),\n",
       "  ('dcmp', 0.005435970495403887),\n",
       "  ('ibenge', 0.0052629652753464345),\n",
       "  ('caf', 0.004958643661378382),\n",
       "  ('tp mazembe', 0.004939865704107734),\n",
       "  ('tp', 0.004849775583706124)],\n",
       " 1: [('province', 0.000968526590988659),\n",
       "  ('général', 0.0009676225210576064),\n",
       "  ('etat', 0.0009667006698885949),\n",
       "  ('selon', 0.0009650480002209461),\n",
       "  ('élections', 0.0009623017711960226),\n",
       "  ('cas', 0.0009617875074460151),\n",
       "  ('démocratique', 0.0009596002710945023),\n",
       "  ('kabila', 0.0009586453454546247),\n",
       "  ('leurs', 0.0009586332436116677),\n",
       "  ('dont', 0.0009561606531354559),\n",
       "  ('tshisekedi', 0.0009552828168073812),\n",
       "  ('plusieurs', 0.0009545063681676323),\n",
       "  ('sans', 0.0009534607272305639),\n",
       "  ('ainsi', 0.0009530535486915807),\n",
       "  ('faire', 0.0009530318181696199),\n",
       "  ('où', 0.0009528424082921067),\n",
       "  ('premier', 0.0009495017416377757),\n",
       "  ('parti', 0.00094881894173799),\n",
       "  ('depuis', 0.000948534439600962),\n",
       "  ('dit', 0.0009474585602240359)]}"
      ]
     },
     "execution_count": 71,
     "metadata": {},
     "output_type": "execute_result"
    }
   ],
   "source": [
    "top_n_words"
   ]
  },
  {
   "attachments": {},
   "cell_type": "markdown",
   "metadata": {},
   "source": [
    "We can see that we don't get the results we were expecting at the first try we can do better."
   ]
  },
  {
   "attachments": {},
   "cell_type": "markdown",
   "metadata": {},
   "source": [
    "We need to improve our cleaning and understand the algorithm we are using better."
   ]
  },
  {
   "attachments": {},
   "cell_type": "markdown",
   "metadata": {},
   "source": [
    "-  Giving up on this, let me finsish the other project on machine translation and come back to this later.\n",
    "\n",
    "When I come back the main work will be to finetune distilbert on the tweets embedding to learn contextualized embedding related to my data."
   ]
  },
  {
   "attachments": {},
   "cell_type": "markdown",
   "metadata": {},
   "source": [
    "### Results on First Approach"
   ]
  },
  {
   "cell_type": "markdown",
   "metadata": {},
   "source": [
    "As we can see, the first approach seems to not be working, we need to find a best algorithm that will works better, The first one was only able to generalize two topics sports and plotics, We would like to keep on improving the model and use a more general hiereachical approach that will classify the news."
   ]
  },
  {
   "cell_type": "code",
   "execution_count": 91,
   "metadata": {},
   "outputs": [
    {
     "data": {
      "text/plain": [
       "(10000, 768)"
      ]
     },
     "execution_count": 91,
     "metadata": {},
     "output_type": "execute_result"
    }
   ],
   "source": [
    "today_news_embeddings.shape"
   ]
  },
  {
   "cell_type": "markdown",
   "metadata": {},
   "source": [
    "#### MiniBatch KMeans Clustering\n",
    "\n",
    "In this section we will try the mini batch kmean clustering algorithm."
   ]
  },
  {
   "cell_type": "code",
   "execution_count": 160,
   "metadata": {},
   "outputs": [],
   "source": [
    "from sklearn.cluster import MiniBatchKMeans, KMeans\n",
    "from sklearn.metrics import silhouette_samples, silhouette_score"
   ]
  },
  {
   "cell_type": "code",
   "execution_count": 92,
   "metadata": {},
   "outputs": [],
   "source": []
  },
  {
   "cell_type": "code",
   "execution_count": 95,
   "metadata": {},
   "outputs": [],
   "source": [
    "def print_silhouette_values(data, k_means):\n",
    "    sample_silhouette_values = silhouette_samples(data, k_means.labels_)\n",
    "    print(\"the silhouette values are :\")\n",
    "    silhouette_values = []\n",
    "    for i in range(len(k_means.labels_)):\n",
    "        ith_cluster_silhouette_values = sample_silhouette_values[k_means.labels_ == i]\n",
    "        silhouette_values.append((i, ith_cluster_silhouette_values.mean()))\n",
    "        silhouette_values.append(\n",
    "            (\n",
    "                i,\n",
    "                ith_cluster_silhouette_values.shape[0],\n",
    "                ith_cluster_silhouette_values.mean(),\n",
    "                ith_cluster_silhouette_values.min(),\n",
    "                ith_cluster_silhouette_values.max(),\n",
    "            )\n",
    "        )\n",
    "    silhouette_values = sorted(silhouette_values, key=lambda x: x[2], reverse=True)\n",
    "\n",
    "    for s in silhouette_values:\n",
    "        print(\n",
    "                f\"    Cluster {s[0]}: Size:{s[1]} | Avg:{s[2]:.2f} | Min:{s[3]:.2f} | Max: {s[4]:.2f}\"\n",
    "            )"
   ]
  },
  {
   "cell_type": "code",
   "execution_count": 161,
   "metadata": {},
   "outputs": [],
   "source": [
    "def mini_batch_k_means_clusters(data, number_clusters, should_print_silhouette_values=True):\n",
    "    \"\"\"\n",
    "    generate clusters using mini batch k-means algorithm\n",
    "\n",
    "    Args:\n",
    "        data (_type_): the dataset to be clustered\n",
    "        number_clusters (_type_): the number of clusters to generate\n",
    "        mini_batch_size (_type_): the size of the mini batch\n",
    "        print_silhouette_values (bool, optional): _description_. Defaults to True.\n",
    "    \"\"\"\n",
    "    k_means = KMeans(n_clusters=number_clusters, random_state=42).fit(data)\n",
    "    print(f\"for n cluster ={number_clusters}\")\n",
    "    print(f\"silhouette score is {silhouette_score(data, k_means.labels_)}\")\n",
    "    print(f\"the inertia is {k_means.inertia_}\")\n",
    "\n",
    "    if should_print_silhouette_values:\n",
    "        print_silhouette_values(data, k_means=k_means)\n",
    "    return k_means\n"
   ]
  },
  {
   "cell_type": "markdown",
   "metadata": {},
   "source": [
    "### Dimensions Reduction\n",
    "\n",
    "Before applying clustering we need to reduce the dimension of our dataset because, researchers have proved that most of similarity measures does not work in higher dimension spaces. https://stats.stackexchange.com/a/99191/154672\n",
    "\n",
    "Let us use the PCA implementation from sklearn to reduce the dimension of our dataset to 50, let us hope that with that dimension we will not use to much information."
   ]
  },
  {
   "cell_type": "code",
   "execution_count": 102,
   "metadata": {},
   "outputs": [],
   "source": [
    "from sklearn.decomposition import PCA"
   ]
  },
  {
   "cell_type": "code",
   "execution_count": 109,
   "metadata": {},
   "outputs": [],
   "source": [
    "pca  = PCA(n_components=20)\n",
    "today_news_embeddings_transformed = pca.fit_transform(today_news_embeddings)"
   ]
  },
  {
   "cell_type": "code",
   "execution_count": 110,
   "metadata": {},
   "outputs": [
    {
     "data": {
      "text/plain": [
       "array([31.89,  9.11,  7.11,  4.61,  3.72,  2.92,  2.73,  2.27,  2.16,\n",
       "        1.64,  1.61,  1.44,  1.24,  1.05,  0.96,  0.93,  0.86,  0.79,\n",
       "        0.77,  0.76], dtype=float32)"
      ]
     },
     "execution_count": 110,
     "metadata": {},
     "output_type": "execute_result"
    }
   ],
   "source": [
    "(pca.explained_variance_ratio_ * 100).round(2)"
   ]
  },
  {
   "cell_type": "code",
   "execution_count": 111,
   "metadata": {},
   "outputs": [
    {
     "data": {
      "text/plain": [
       "(10000, 20)"
      ]
     },
     "execution_count": 111,
     "metadata": {},
     "output_type": "execute_result"
    }
   ],
   "source": [
    "today_news_embeddings_transformed.shape"
   ]
  },
  {
   "cell_type": "markdown",
   "metadata": {},
   "source": [
    "Once we have reduced the dimension of our dataset we can apply the K mean algorithm to the created dataset to learn the embedding."
   ]
  },
  {
   "cell_type": "markdown",
   "metadata": {},
   "source": []
  },
  {
   "cell_type": "code",
   "execution_count": 166,
   "metadata": {},
   "outputs": [
    {
     "name": "stderr",
     "output_type": "stream",
     "text": [
      "/Users/esp.py/Projects/Personal/balobi_nini/.venv/lib/python3.10/site-packages/sklearn/cluster/_kmeans.py:870: FutureWarning: The default value of `n_init` will change from 10 to 'auto' in 1.4. Set the value of `n_init` explicitly to suppress the warning\n",
      "  warnings.warn(\n"
     ]
    },
    {
     "name": "stdout",
     "output_type": "stream",
     "text": [
      "for n cluster =5\n",
      "silhouette score is 0.11919175833463669\n",
      "the inertia is 71591.4453125\n"
     ]
    }
   ],
   "source": [
    "clusters = mini_batch_k_means_clusters(today_news_embeddings_transformed, number_clusters=5, should_print_silhouette_values=False)"
   ]
  },
  {
   "cell_type": "markdown",
   "metadata": {},
   "source": [
    "Before diving into the cluster analysis, we need to visualize how  our prediction are done."
   ]
  },
  {
   "cell_type": "code",
   "execution_count": 210,
   "metadata": {},
   "outputs": [],
   "source": [
    "today_news_df = pd.DataFrame({\"content\": today_news, \"Topic\": clusters.labels_})"
   ]
  },
  {
   "cell_type": "code",
   "execution_count": 211,
   "metadata": {},
   "outputs": [
    {
     "data": {
      "text/html": [
       "<div>\n",
       "<style scoped>\n",
       "    .dataframe tbody tr th:only-of-type {\n",
       "        vertical-align: middle;\n",
       "    }\n",
       "\n",
       "    .dataframe tbody tr th {\n",
       "        vertical-align: top;\n",
       "    }\n",
       "\n",
       "    .dataframe thead th {\n",
       "        text-align: right;\n",
       "    }\n",
       "</style>\n",
       "<table border=\"1\" class=\"dataframe\">\n",
       "  <thead>\n",
       "    <tr style=\"text-align: right;\">\n",
       "      <th></th>\n",
       "      <th>content</th>\n",
       "      <th>Topic</th>\n",
       "    </tr>\n",
       "  </thead>\n",
       "  <tbody>\n",
       "    <tr>\n",
       "      <th>0</th>\n",
       "      <td>\\nLe joueur du TP Mazembe, Trésor Mputu n'a pa...</td>\n",
       "      <td>4</td>\n",
       "    </tr>\n",
       "    <tr>\n",
       "      <th>1</th>\n",
       "      <td>Le coordonnateur du Comité Stratégique du Fron...</td>\n",
       "      <td>3</td>\n",
       "    </tr>\n",
       "    <tr>\n",
       "      <th>2</th>\n",
       "      <td>La classe politique congolaise rend ses dernie...</td>\n",
       "      <td>4</td>\n",
       "    </tr>\n",
       "    <tr>\n",
       "      <th>3</th>\n",
       "      <td>Par CAS-INFOSes 17 passagers et les membres de...</td>\n",
       "      <td>2</td>\n",
       "    </tr>\n",
       "    <tr>\n",
       "      <th>4</th>\n",
       "      <td>Boutiques, magasins, banques et autres édifice...</td>\n",
       "      <td>4</td>\n",
       "    </tr>\n",
       "  </tbody>\n",
       "</table>\n",
       "</div>"
      ],
      "text/plain": [
       "                                             content  Topic\n",
       "0  \\nLe joueur du TP Mazembe, Trésor Mputu n'a pa...      4\n",
       "1  Le coordonnateur du Comité Stratégique du Fron...      3\n",
       "2  La classe politique congolaise rend ses dernie...      4\n",
       "3  Par CAS-INFOSes 17 passagers et les membres de...      2\n",
       "4  Boutiques, magasins, banques et autres édifice...      4"
      ]
     },
     "execution_count": 211,
     "metadata": {},
     "output_type": "execute_result"
    }
   ],
   "source": [
    "today_news_df.head()"
   ]
  },
  {
   "cell_type": "code",
   "execution_count": 171,
   "metadata": {},
   "outputs": [
    {
     "data": {
      "text/plain": [
       "cluster\n",
       "0    2606\n",
       "1    2089\n",
       "4    2087\n",
       "3    1744\n",
       "2    1474\n",
       "Name: count, dtype: int64"
      ]
     },
     "execution_count": 171,
     "metadata": {},
     "output_type": "execute_result"
    }
   ],
   "source": [
    "today_news_df.cluster.value_counts()"
   ]
  },
  {
   "cell_type": "code",
   "execution_count": 212,
   "metadata": {},
   "outputs": [
    {
     "data": {
      "text/html": [
       "<div>\n",
       "<style scoped>\n",
       "    .dataframe tbody tr th:only-of-type {\n",
       "        vertical-align: middle;\n",
       "    }\n",
       "\n",
       "    .dataframe tbody tr th {\n",
       "        vertical-align: top;\n",
       "    }\n",
       "\n",
       "    .dataframe thead th {\n",
       "        text-align: right;\n",
       "    }\n",
       "</style>\n",
       "<table border=\"1\" class=\"dataframe\">\n",
       "  <thead>\n",
       "    <tr style=\"text-align: right;\">\n",
       "      <th></th>\n",
       "      <th>content</th>\n",
       "      <th>Topic</th>\n",
       "    </tr>\n",
       "  </thead>\n",
       "  <tbody>\n",
       "    <tr>\n",
       "      <th>8</th>\n",
       "      <td>Hier Jeudi 6 août 2015 à la Prison Centrale de...</td>\n",
       "      <td>1</td>\n",
       "    </tr>\n",
       "    <tr>\n",
       "      <th>10</th>\n",
       "      <td>La Société Civile, quant à elle, a positionné ...</td>\n",
       "      <td>1</td>\n",
       "    </tr>\n",
       "    <tr>\n",
       "      <th>18</th>\n",
       "      <td>Le dialogue politique est loin de faire l’unan...</td>\n",
       "      <td>1</td>\n",
       "    </tr>\n",
       "    <tr>\n",
       "      <th>21</th>\n",
       "      <td>Par siméon IsakoAnnoncé la semaine dernière pa...</td>\n",
       "      <td>1</td>\n",
       "    </tr>\n",
       "    <tr>\n",
       "      <th>30</th>\n",
       "      <td>Le parti au pouvoir en Tanzanie, Chama Cha Map...</td>\n",
       "      <td>1</td>\n",
       "    </tr>\n",
       "    <tr>\n",
       "      <th>...</th>\n",
       "      <td>...</td>\n",
       "      <td>...</td>\n",
       "    </tr>\n",
       "    <tr>\n",
       "      <th>9988</th>\n",
       "      <td>Implanté à la 16ème rue, en plein quartier ind...</td>\n",
       "      <td>1</td>\n",
       "    </tr>\n",
       "    <tr>\n",
       "      <th>9989</th>\n",
       "      <td>Partant de leurs actions ou réalisations à tra...</td>\n",
       "      <td>1</td>\n",
       "    </tr>\n",
       "    <tr>\n",
       "      <th>9993</th>\n",
       "      <td>Le sénat et l’assemblée nationale du Rwanda vi...</td>\n",
       "      <td>1</td>\n",
       "    </tr>\n",
       "    <tr>\n",
       "      <th>9995</th>\n",
       "      <td>L’artiste musicien, percussionniste et auteur-...</td>\n",
       "      <td>1</td>\n",
       "    </tr>\n",
       "    <tr>\n",
       "      <th>9999</th>\n",
       "      <td>Une année après la promulgation de la loi d’am...</td>\n",
       "      <td>1</td>\n",
       "    </tr>\n",
       "  </tbody>\n",
       "</table>\n",
       "<p>2089 rows × 2 columns</p>\n",
       "</div>"
      ],
      "text/plain": [
       "                                                content  Topic\n",
       "8     Hier Jeudi 6 août 2015 à la Prison Centrale de...      1\n",
       "10    La Société Civile, quant à elle, a positionné ...      1\n",
       "18    Le dialogue politique est loin de faire l’unan...      1\n",
       "21    Par siméon IsakoAnnoncé la semaine dernière pa...      1\n",
       "30    Le parti au pouvoir en Tanzanie, Chama Cha Map...      1\n",
       "...                                                 ...    ...\n",
       "9988  Implanté à la 16ème rue, en plein quartier ind...      1\n",
       "9989  Partant de leurs actions ou réalisations à tra...      1\n",
       "9993  Le sénat et l’assemblée nationale du Rwanda vi...      1\n",
       "9995  L’artiste musicien, percussionniste et auteur-...      1\n",
       "9999  Une année après la promulgation de la loi d’am...      1\n",
       "\n",
       "[2089 rows x 2 columns]"
      ]
     },
     "execution_count": 212,
     "metadata": {},
     "output_type": "execute_result"
    }
   ],
   "source": [
    "today_news_df.query('Topic ==1')"
   ]
  },
  {
   "cell_type": "code",
   "execution_count": 157,
   "metadata": {},
   "outputs": [],
   "source": [
    "from scipy.spatial import distance"
   ]
  },
  {
   "cell_type": "code",
   "execution_count": 187,
   "metadata": {},
   "outputs": [],
   "source": [
    "def compute_cosine_distance(a, b):\n",
    "    \"\"\"given two vectors a and b, compute the cosine distance between them\n",
    "\n",
    "    Args:\n",
    "        a (_type_): \n",
    "        b (_type_): _description_\n",
    "    \"\"\"\n",
    "    return distance.euclidean(a, b)\n"
   ]
  },
  {
   "cell_type": "code",
   "execution_count": 202,
   "metadata": {},
   "outputs": [
    {
     "data": {
      "text/plain": [
       "3.8475351333618164"
      ]
     },
     "execution_count": 202,
     "metadata": {},
     "output_type": "execute_result"
    }
   ],
   "source": [
    "compute_cosine_distance(today_news_embeddings[12],  today_news_embeddings[3])\n",
    "\n",
    "# The closer to zero the ecludin distance is, the more similar the two vectors are."
   ]
  },
  {
   "cell_type": "code",
   "execution_count": 184,
   "metadata": {},
   "outputs": [],
   "source": [
    "from pprint import pprint"
   ]
  },
  {
   "cell_type": "code",
   "execution_count": 185,
   "metadata": {},
   "outputs": [
    {
     "name": "stdout",
     "output_type": "stream",
     "text": [
      "('Dans une déclaration faite le dimanche 20 novembre 2022 et dont une copie '\n",
      " 'est parvenue à 7SUR7.CD, cette formation politique estime que la levée de '\n",
      " \"cette mesure va à coup sûr permettre à l'armée congolaise de faire face \"\n",
      " 'notamment à l\\'agression rwandaise sous couvert du M23. \\xa0\"La FRPI/C '\n",
      " \"appelle l'ONU à lever l'embargo voilé à travers son fameux régime de \"\n",
      " \"notification pour permettre à l'Etat congolais de doter son armée des moyens \"\n",
      " \"de sa défense. La FRPI dénonce la complaisance et l'hypocrisie de la \"\n",
      " \"communauté internationale, qui dans sa politique d'autruche légendaire, joue \"\n",
      " \"un double jeu en faveur de l'ennemi. D'un côté, elle s'avoue ne pas être \"\n",
      " 'capable de faire quelque chose devant le M23 sous prétexte que ses armes '\n",
      " 'sont sophistiquées mais ne dénonce pas les pays derrière ces armements. Dans '\n",
      " \"l'entretemps, elle exclut à une armée nationale de se procurer les moyens \"\n",
      " 'nécessaires pour sa protection par un embargo injustifié\", peut-on lire dans '\n",
      " 'cette déclaration. \\xa0 \\xa0Par ailleurs, cette formation politique chère à '\n",
      " 'Mbodina Iribi Pierre-Célestin, condamne avec fermeté l\\'agression du \"Rwanda '\n",
      " \"et de l'Ouganda contre notre pays et appelle le peuple congolais à se lever \"\n",
      " 'comme un seul homme derrière son commandant suprême pour barrer la route à '\n",
      " 'toute tentative de balkanisation de notre pays\". \\xa0 \\xa0C\\'est depuis le '\n",
      " 'mois de juin dernier que le Rwanda sous couvert du M23 a agressé la '\n",
      " 'République démocratique du Congo, en occupant la cité frontalière de '\n",
      " 'Bunagana au Nord-Kivu. Il y a quelques semaines, ces rebelles du M23 appuyés '\n",
      " \"par l'armée rwandaise se sont aussi emparés de Rutshuru centre et Kiwanja \"\n",
      " 'dans la même province.\\xa0')\n"
     ]
    }
   ],
   "source": [
    "pprint(today_news_df.loc[12, 'content'])"
   ]
  },
  {
   "cell_type": "code",
   "execution_count": 186,
   "metadata": {},
   "outputs": [
    {
     "name": "stdout",
     "output_type": "stream",
     "text": [
      "('Par CAS-INFOSes 17 passagers et les membres de l’équipage resteront à bord '\n",
      " 'pendant au moins deux semaines. Le bateau Lengwe en provenance de la '\n",
      " 'Tanzanie n’a pas été autorisé à accoster et décharger ses marchandises à '\n",
      " 'Kalemie.Les autorités locales qui ont décidé de placer ce navire de la SNCC '\n",
      " 'en quarantaine estiment qu’il a violé la mesure de fermeture des frontières '\n",
      " 'décrétée par le chef de l’État.Selon Radio Okapi, une équipe de contrôle '\n",
      " 'médical a été dépêchée à bord de ce navire pour s’enquérir de l’état de '\n",
      " 'santé des passagers.Il faut rappeler que la RDC qui fait face depuis un mois '\n",
      " 'à l’épidémie de coronavirus a décidé de fermer les frontières avec ses '\n",
      " 'voisins et d’isoler la ville de Kinshasa, considérée comme épicentre de la '\n",
      " 'maladie. Dans la capitale, les autorités ont également décidé de confiner la '\n",
      " 'commune de la Gombe, qui regorge plus de cas que les autres municipalités.')\n"
     ]
    }
   ],
   "source": [
    "pprint(today_news_df.loc[3, 'content'])"
   ]
  },
  {
   "cell_type": "markdown",
   "metadata": {},
   "source": [
    "Seems like my embedding are not working properly. I will try to use the embedding from the bert model."
   ]
  },
  {
   "cell_type": "markdown",
   "metadata": {},
   "source": [
    " Let us analyze the cluster by plotting the most common world in a cluster."
   ]
  },
  {
   "cell_type": "markdown",
   "metadata": {},
   "source": []
  },
  {
   "cell_type": "code",
   "execution_count": 213,
   "metadata": {},
   "outputs": [],
   "source": [
    "docs_per_topic = today_news_df.groupby(['Topic'], as_index = False).agg({'content': ' '.join})"
   ]
  },
  {
   "cell_type": "code",
   "execution_count": 215,
   "metadata": {},
   "outputs": [
    {
     "data": {
      "text/html": [
       "<div>\n",
       "<style scoped>\n",
       "    .dataframe tbody tr th:only-of-type {\n",
       "        vertical-align: middle;\n",
       "    }\n",
       "\n",
       "    .dataframe tbody tr th {\n",
       "        vertical-align: top;\n",
       "    }\n",
       "\n",
       "    .dataframe thead th {\n",
       "        text-align: right;\n",
       "    }\n",
       "</style>\n",
       "<table border=\"1\" class=\"dataframe\">\n",
       "  <thead>\n",
       "    <tr style=\"text-align: right;\">\n",
       "      <th></th>\n",
       "      <th>Topic</th>\n",
       "      <th>content</th>\n",
       "    </tr>\n",
       "  </thead>\n",
       "  <tbody>\n",
       "    <tr>\n",
       "      <th>0</th>\n",
       "      <td>0</td>\n",
       "      <td>Le gouverneur Alex Kande a posé, le 12 août, l...</td>\n",
       "    </tr>\n",
       "    <tr>\n",
       "      <th>1</th>\n",
       "      <td>1</td>\n",
       "      <td>Hier Jeudi 6 août 2015 à la Prison Centrale de...</td>\n",
       "    </tr>\n",
       "    <tr>\n",
       "      <th>2</th>\n",
       "      <td>2</td>\n",
       "      <td>Par CAS-INFOSes 17 passagers et les membres de...</td>\n",
       "    </tr>\n",
       "    <tr>\n",
       "      <th>3</th>\n",
       "      <td>3</td>\n",
       "      <td>Le coordonnateur du Comité Stratégique du Fron...</td>\n",
       "    </tr>\n",
       "    <tr>\n",
       "      <th>4</th>\n",
       "      <td>4</td>\n",
       "      <td>\\nLe joueur du TP Mazembe, Trésor Mputu n'a pa...</td>\n",
       "    </tr>\n",
       "  </tbody>\n",
       "</table>\n",
       "</div>"
      ],
      "text/plain": [
       "   Topic                                            content\n",
       "0      0  Le gouverneur Alex Kande a posé, le 12 août, l...\n",
       "1      1  Hier Jeudi 6 août 2015 à la Prison Centrale de...\n",
       "2      2  Par CAS-INFOSes 17 passagers et les membres de...\n",
       "3      3  Le coordonnateur du Comité Stratégique du Fron...\n",
       "4      4  \\nLe joueur du TP Mazembe, Trésor Mputu n'a pa..."
      ]
     },
     "execution_count": 215,
     "metadata": {},
     "output_type": "execute_result"
    }
   ],
   "source": [
    "docs_per_topic"
   ]
  },
  {
   "cell_type": "code",
   "execution_count": 216,
   "metadata": {},
   "outputs": [],
   "source": [
    "  \n",
    "tf_idf, count = c_tf_idf(docs_per_topic.content.values, m=today_news.shape[0])"
   ]
  },
  {
   "cell_type": "code",
   "execution_count": 218,
   "metadata": {},
   "outputs": [
    {
     "data": {
      "text/html": [
       "<style>#sk-container-id-1 {color: black;background-color: white;}#sk-container-id-1 pre{padding: 0;}#sk-container-id-1 div.sk-toggleable {background-color: white;}#sk-container-id-1 label.sk-toggleable__label {cursor: pointer;display: block;width: 100%;margin-bottom: 0;padding: 0.3em;box-sizing: border-box;text-align: center;}#sk-container-id-1 label.sk-toggleable__label-arrow:before {content: \"▸\";float: left;margin-right: 0.25em;color: #696969;}#sk-container-id-1 label.sk-toggleable__label-arrow:hover:before {color: black;}#sk-container-id-1 div.sk-estimator:hover label.sk-toggleable__label-arrow:before {color: black;}#sk-container-id-1 div.sk-toggleable__content {max-height: 0;max-width: 0;overflow: hidden;text-align: left;background-color: #f0f8ff;}#sk-container-id-1 div.sk-toggleable__content pre {margin: 0.2em;color: black;border-radius: 0.25em;background-color: #f0f8ff;}#sk-container-id-1 input.sk-toggleable__control:checked~div.sk-toggleable__content {max-height: 200px;max-width: 100%;overflow: auto;}#sk-container-id-1 input.sk-toggleable__control:checked~label.sk-toggleable__label-arrow:before {content: \"▾\";}#sk-container-id-1 div.sk-estimator input.sk-toggleable__control:checked~label.sk-toggleable__label {background-color: #d4ebff;}#sk-container-id-1 div.sk-label input.sk-toggleable__control:checked~label.sk-toggleable__label {background-color: #d4ebff;}#sk-container-id-1 input.sk-hidden--visually {border: 0;clip: rect(1px 1px 1px 1px);clip: rect(1px, 1px, 1px, 1px);height: 1px;margin: -1px;overflow: hidden;padding: 0;position: absolute;width: 1px;}#sk-container-id-1 div.sk-estimator {font-family: monospace;background-color: #f0f8ff;border: 1px dotted black;border-radius: 0.25em;box-sizing: border-box;margin-bottom: 0.5em;}#sk-container-id-1 div.sk-estimator:hover {background-color: #d4ebff;}#sk-container-id-1 div.sk-parallel-item::after {content: \"\";width: 100%;border-bottom: 1px solid gray;flex-grow: 1;}#sk-container-id-1 div.sk-label:hover label.sk-toggleable__label {background-color: #d4ebff;}#sk-container-id-1 div.sk-serial::before {content: \"\";position: absolute;border-left: 1px solid gray;box-sizing: border-box;top: 0;bottom: 0;left: 50%;z-index: 0;}#sk-container-id-1 div.sk-serial {display: flex;flex-direction: column;align-items: center;background-color: white;padding-right: 0.2em;padding-left: 0.2em;position: relative;}#sk-container-id-1 div.sk-item {position: relative;z-index: 1;}#sk-container-id-1 div.sk-parallel {display: flex;align-items: stretch;justify-content: center;background-color: white;position: relative;}#sk-container-id-1 div.sk-item::before, #sk-container-id-1 div.sk-parallel-item::before {content: \"\";position: absolute;border-left: 1px solid gray;box-sizing: border-box;top: 0;bottom: 0;left: 50%;z-index: -1;}#sk-container-id-1 div.sk-parallel-item {display: flex;flex-direction: column;z-index: 1;position: relative;background-color: white;}#sk-container-id-1 div.sk-parallel-item:first-child::after {align-self: flex-end;width: 50%;}#sk-container-id-1 div.sk-parallel-item:last-child::after {align-self: flex-start;width: 50%;}#sk-container-id-1 div.sk-parallel-item:only-child::after {width: 0;}#sk-container-id-1 div.sk-dashed-wrapped {border: 1px dashed gray;margin: 0 0.4em 0.5em 0.4em;box-sizing: border-box;padding-bottom: 0.4em;background-color: white;}#sk-container-id-1 div.sk-label label {font-family: monospace;font-weight: bold;display: inline-block;line-height: 1.2em;}#sk-container-id-1 div.sk-label-container {text-align: center;}#sk-container-id-1 div.sk-container {/* jupyter's `normalize.less` sets `[hidden] { display: none; }` but bootstrap.min.css set `[hidden] { display: none !important; }` so we also need the `!important` here to be able to override the default hidden behavior on the sphinx rendered scikit-learn.org. See: https://github.com/scikit-learn/scikit-learn/issues/21755 */display: inline-block !important;position: relative;}#sk-container-id-1 div.sk-text-repr-fallback {display: none;}</style><div id=\"sk-container-id-1\" class=\"sk-top-container\"><div class=\"sk-text-repr-fallback\"><pre>CountVectorizer(ngram_range=(1, 2),\n",
       "                stop_words=[&#x27;au&#x27;, &#x27;aux&#x27;, &#x27;avec&#x27;, &#x27;ce&#x27;, &#x27;ces&#x27;, &#x27;dans&#x27;, &#x27;de&#x27;,\n",
       "                            &#x27;des&#x27;, &#x27;du&#x27;, &#x27;elle&#x27;, &#x27;en&#x27;, &#x27;et&#x27;, &#x27;eux&#x27;, &#x27;il&#x27;, &#x27;ils&#x27;,\n",
       "                            &#x27;je&#x27;, &#x27;la&#x27;, &#x27;le&#x27;, &#x27;les&#x27;, &#x27;leur&#x27;, &#x27;lui&#x27;, &#x27;ma&#x27;,\n",
       "                            &#x27;mais&#x27;, &#x27;me&#x27;, &#x27;même&#x27;, &#x27;mes&#x27;, &#x27;moi&#x27;, &#x27;mon&#x27;, &#x27;ne&#x27;,\n",
       "                            &#x27;nos&#x27;, ...])</pre><b>In a Jupyter environment, please rerun this cell to show the HTML representation or trust the notebook. <br />On GitHub, the HTML representation is unable to render, please try loading this page with nbviewer.org.</b></div><div class=\"sk-container\" hidden><div class=\"sk-item\"><div class=\"sk-estimator sk-toggleable\"><input class=\"sk-toggleable__control sk-hidden--visually\" id=\"sk-estimator-id-1\" type=\"checkbox\" checked><label for=\"sk-estimator-id-1\" class=\"sk-toggleable__label sk-toggleable__label-arrow\">CountVectorizer</label><div class=\"sk-toggleable__content\"><pre>CountVectorizer(ngram_range=(1, 2),\n",
       "                stop_words=[&#x27;au&#x27;, &#x27;aux&#x27;, &#x27;avec&#x27;, &#x27;ce&#x27;, &#x27;ces&#x27;, &#x27;dans&#x27;, &#x27;de&#x27;,\n",
       "                            &#x27;des&#x27;, &#x27;du&#x27;, &#x27;elle&#x27;, &#x27;en&#x27;, &#x27;et&#x27;, &#x27;eux&#x27;, &#x27;il&#x27;, &#x27;ils&#x27;,\n",
       "                            &#x27;je&#x27;, &#x27;la&#x27;, &#x27;le&#x27;, &#x27;les&#x27;, &#x27;leur&#x27;, &#x27;lui&#x27;, &#x27;ma&#x27;,\n",
       "                            &#x27;mais&#x27;, &#x27;me&#x27;, &#x27;même&#x27;, &#x27;mes&#x27;, &#x27;moi&#x27;, &#x27;mon&#x27;, &#x27;ne&#x27;,\n",
       "                            &#x27;nos&#x27;, ...])</pre></div></div></div></div></div>"
      ],
      "text/plain": [
       "CountVectorizer(ngram_range=(1, 2),\n",
       "                stop_words=['au', 'aux', 'avec', 'ce', 'ces', 'dans', 'de',\n",
       "                            'des', 'du', 'elle', 'en', 'et', 'eux', 'il', 'ils',\n",
       "                            'je', 'la', 'le', 'les', 'leur', 'lui', 'ma',\n",
       "                            'mais', 'me', 'même', 'mes', 'moi', 'mon', 'ne',\n",
       "                            'nos', ...])"
      ]
     },
     "execution_count": 218,
     "metadata": {},
     "output_type": "execute_result"
    }
   ],
   "source": [
    "count"
   ]
  },
  {
   "cell_type": "code",
   "execution_count": 219,
   "metadata": {},
   "outputs": [
    {
     "data": {
      "text/html": [
       "<div>\n",
       "<style scoped>\n",
       "    .dataframe tbody tr th:only-of-type {\n",
       "        vertical-align: middle;\n",
       "    }\n",
       "\n",
       "    .dataframe tbody tr th {\n",
       "        vertical-align: top;\n",
       "    }\n",
       "\n",
       "    .dataframe thead th {\n",
       "        text-align: right;\n",
       "    }\n",
       "</style>\n",
       "<table border=\"1\" class=\"dataframe\">\n",
       "  <thead>\n",
       "    <tr style=\"text-align: right;\">\n",
       "      <th></th>\n",
       "      <th>Topic</th>\n",
       "      <th>Size</th>\n",
       "    </tr>\n",
       "  </thead>\n",
       "  <tbody>\n",
       "    <tr>\n",
       "      <th>0</th>\n",
       "      <td>0</td>\n",
       "      <td>2606</td>\n",
       "    </tr>\n",
       "    <tr>\n",
       "      <th>1</th>\n",
       "      <td>1</td>\n",
       "      <td>2089</td>\n",
       "    </tr>\n",
       "    <tr>\n",
       "      <th>4</th>\n",
       "      <td>4</td>\n",
       "      <td>2087</td>\n",
       "    </tr>\n",
       "    <tr>\n",
       "      <th>3</th>\n",
       "      <td>3</td>\n",
       "      <td>1744</td>\n",
       "    </tr>\n",
       "    <tr>\n",
       "      <th>2</th>\n",
       "      <td>2</td>\n",
       "      <td>1474</td>\n",
       "    </tr>\n",
       "  </tbody>\n",
       "</table>\n",
       "</div>"
      ],
      "text/plain": [
       "   Topic  Size\n",
       "0      0  2606\n",
       "1      1  2089\n",
       "4      4  2087\n",
       "3      3  1744\n",
       "2      2  1474"
      ]
     },
     "execution_count": 219,
     "metadata": {},
     "output_type": "execute_result"
    }
   ],
   "source": [
    "top_n_words = extract_top_n_words_per_topic(tf_idf, count, docs_per_topic, n=20)\n",
    "topic_sizes = extract_topic_sizes(today_news_df); \n",
    "\n",
    "topic_sizes.head(10)"
   ]
  },
  {
   "cell_type": "code",
   "execution_count": 220,
   "metadata": {},
   "outputs": [
    {
     "data": {
      "text/plain": [
       "{0: [('dialogue', 0.0014233313591061776),\n",
       "  ('électoral', 0.0013889365670278204),\n",
       "  ('développement', 0.001381423604978657),\n",
       "  ('élections', 0.0013783753805731826),\n",
       "  ('loi', 0.0012924335864543876),\n",
       "  ('constitution', 0.0012780850975193671),\n",
       "  ('processus', 0.0012443373908264676),\n",
       "  ('ceni', 0.0012202990177083925),\n",
       "  ('etat', 0.0012034700562277303),\n",
       "  ('politiques', 0.0011970473258575462),\n",
       "  ('cadre', 0.0011795051010292897),\n",
       "  ('projet', 0.0011768601668368569),\n",
       "  ('mise', 0.0011566957105367632),\n",
       "  ('droits', 0.0011553828856384427),\n",
       "  ('national', 0.0011271755284478003),\n",
       "  ('ainsi', 0.0011262262308341315),\n",
       "  ('2016', 0.0011148670472702668),\n",
       "  ('organisation', 0.0011125619633522259),\n",
       "  ('notamment', 0.0011114767040782516),\n",
       "  ('afin', 0.001109149510335859)],\n",
       " 1: [('sans', 0.0013294185216148598),\n",
       "  ('bien', 0.0013056298176800615),\n",
       "  ('si', 0.0012754882559831543),\n",
       "  ('comme', 0.0012575032235877354),\n",
       "  ('tout', 0.001190669217825575),\n",
       "  ('non', 0.0011402568430580854),\n",
       "  ('où', 0.001116418466108086),\n",
       "  ('alors', 0.001105777754720816),\n",
       "  ('peut', 0.0011054299300910931),\n",
       "  ('encore', 0.0011002913509735649),\n",
       "  ('pouvoir', 0.0010898402960812562),\n",
       "  ('faire', 0.0010877262680425216),\n",
       "  ('être', 0.0010793481780298976),\n",
       "  ('etat', 0.0010750042167172425),\n",
       "  ('tous', 0.0010678727227329127),\n",
       "  ('ceux', 0.0010674669272745735),\n",
       "  ('leurs', 0.0010668734946317224),\n",
       "  ('monde', 0.0010629184874434584),\n",
       "  ('sous', 0.0010476807821308963),\n",
       "  ('car', 0.001045268211433282)],\n",
       " 2: [('beni', 0.003767462334558244),\n",
       "  ('territoire', 0.0037442555166428875),\n",
       "  ('rebelles', 0.003478363958924787),\n",
       "  ('kivu', 0.0033381279156046587),\n",
       "  ('nord', 0.0032580253301148564),\n",
       "  ('adf', 0.0031420683434923635),\n",
       "  ('nord kivu', 0.0029968236197776723),\n",
       "  ('fardc', 0.0029412720680508575),\n",
       "  ('ville', 0.0028923794662402353),\n",
       "  ('armée', 0.002784018547105839),\n",
       "  ('civils', 0.002754287239131778),\n",
       "  ('personnes', 0.002667616633151781),\n",
       "  ('maï', 0.002578891794152874),\n",
       "  ('7sur7', 0.002576840769209185),\n",
       "  ('7sur7 cd', 0.002547769016051437),\n",
       "  ('police', 0.0025145893719713095),\n",
       "  ('cd', 0.002506855348462357),\n",
       "  ('militaires', 0.0022950379849171706),\n",
       "  ('habitants', 0.002273742559756486),\n",
       "  ('miliciens', 0.0022454329902939643)],\n",
       " 3: [('félix', 0.0030555702784713502),\n",
       "  ('tshisekedi', 0.00290543065778587),\n",
       "  ('chef état', 0.0027889752178786344),\n",
       "  ('république démocratique', 0.0025668017778610456),\n",
       "  ('démocratique congo', 0.0025566735653965935),\n",
       "  ('félix tshisekedi', 0.002498669461491391),\n",
       "  ('démocratique', 0.0023407081323582927),\n",
       "  ('antoine tshisekedi', 0.0023173908277953352),\n",
       "  ('antoine', 0.002315279148527624),\n",
       "  ('félix antoine', 0.0022694061443030307),\n",
       "  ('tshilombo', 0.00224355660897694),\n",
       "  ('tshisekedi tshilombo', 0.0022299013019399377),\n",
       "  ('état', 0.0021303937559304068),\n",
       "  ('président république', 0.002104831785815791),\n",
       "  ('union', 0.002056193332162927),\n",
       "  ('kivu', 0.002044270694323016),\n",
       "  ('2020', 0.001983535923468614),\n",
       "  ('matricule', 0.0018986413703619568),\n",
       "  ('udps', 0.0017963437380264407),\n",
       "  ('nord', 0.0017725078859691982)],\n",
       " 4: [('jean', 0.0014936561982829663),\n",
       "  ('assemblée', 0.0014884639842192204),\n",
       "  ('cour', 0.0014694241075918196),\n",
       "  ('siméon', 0.0013929017984696712),\n",
       "  ('félix tshisekedi', 0.0013857204163122217),\n",
       "  ('gouverneur', 0.0013852205758359964),\n",
       "  ('général', 0.0013525602788691865),\n",
       "  ('parti', 0.0013391747734137905),\n",
       "  ('ancien', 0.0013331599664578148),\n",
       "  ('députés', 0.0013211603342831268),\n",
       "  ('tshisekedi', 0.00130650718626823),\n",
       "  ('félix', 0.0013007691001684454),\n",
       "  ('premier', 0.0012904923369746254),\n",
       "  ('opposition', 0.0012615618676337385),\n",
       "  ('décembre', 0.001261450476450364),\n",
       "  ('lundi', 0.0012554459930195062),\n",
       "  ('avant', 0.0012517295364942512),\n",
       "  ('kabila', 0.0012510239061886913),\n",
       "  ('bureau', 0.0012494018037870272),\n",
       "  ('mercredi', 0.0012485681139152308)]}"
      ]
     },
     "execution_count": 220,
     "metadata": {},
     "output_type": "execute_result"
    }
   ],
   "source": [
    "top_n_words"
   ]
  },
  {
   "cell_type": "markdown",
   "metadata": {},
   "source": [
    "We are progressing and learning a lot of values form the clustering. Few things to do, investigate the quality of the embedding we are using, and peform more pre processing."
   ]
  },
  {
   "cell_type": "markdown",
   "metadata": {},
   "source": []
  },
  {
   "cell_type": "code",
   "execution_count": 230,
   "metadata": {},
   "outputs": [
    {
     "data": {
      "text/plain": [
       "website_origin\n",
       "https://www.7sur7.cd      51540\n",
       "https://cas-info.ca       12213\n",
       "https://scooprdc.net        941\n",
       "https://actu30.cd           916\n",
       "https://lepotentiel.cd      275\n",
       "https://forumdesas.net      177\n",
       "Name: count, dtype: int64"
      ]
     },
     "execution_count": 230,
     "metadata": {},
     "output_type": "execute_result"
    }
   ],
   "source": [
    "news_data.website_origin.value_counts()"
   ]
  },
  {
   "cell_type": "code",
   "execution_count": 228,
   "metadata": {},
   "outputs": [
    {
     "data": {
      "text/plain": [
       "9980    Le PG Firmin Mvonde a, par ailleurs, décidé de...\n",
       "9981    Les armateurs de la République Démocratique du...\n",
       "9982    Le chef de l'État Félix Antoine Tshisekedi Tsh...\n",
       "9983    D'après certains travailleurs de l'ex Onatra (...\n",
       "9984    Un décryptage de la révolution numérique s’imp...\n",
       "9985    Mercredi 22 mai dernier, un groupe de députés ...\n",
       "9986    .À la presse, le chef de la délégation a décla...\n",
       "9987    La nuit de dimanche à lundi a été calme à Beni...\n",
       "9988    Implanté à la 16ème rue, en plein quartier ind...\n",
       "9989    Partant de leurs actions ou réalisations à tra...\n",
       "9990    Les ex-M23 constituent l'un des facteurs qui e...\n",
       "9991    Le plus vieux parti de la RD-Congo en activité...\n",
       "9992    Par CAS-INFOEn sa qualité de président en exer...\n",
       "9993    Le sénat et l’assemblée nationale du Rwanda vi...\n",
       "9994    Soixante-quatre cas de diarrhées sont constaté...\n",
       "9995    L’artiste musicien, percussionniste et auteur-...\n",
       "9996    Le président intérimaire de l'Union pour la Dé...\n",
       "9997    Le caucus des députés nationaux de la province...\n",
       "9998    Dans une déclaration lue devant la presse ce j...\n",
       "9999    Une année après la promulgation de la loi d’am...\n",
       "Name: content, dtype: object"
      ]
     },
     "execution_count": 228,
     "metadata": {},
     "output_type": "execute_result"
    }
   ],
   "source": [
    "today_news.tail(20)"
   ]
  },
  {
   "cell_type": "markdown",
   "metadata": {},
   "source": [
    "### Testing if the embedding are working."
   ]
  },
  {
   "cell_type": "code",
   "execution_count": 231,
   "metadata": {},
   "outputs": [],
   "source": [
    "article_one = [\n",
    "    \"\"\"\n",
    "    Les Léopards sont arrivés ce lundi 11 septembre en fin d’après-midi à Johannesburg en Afrique du Sud sans Arthur Masuaku, Vital Nsimba, Théo Bongonda et William Balikwisha qui ont regagné leurs clubs respectifs au lendemain de la victoire (2-0) de la RDC face au Soudan, le samedi 9 septembre au stade des Martyrs de la Pentecôte de Kinshasa.\n",
    "\n",
    "L’affiche RDC-Afrique du Sud sera une rencontre passionnante entre deux nations africaines qui chercheront à se préparer pour leurs prochains défis. Ce match amical suscite beaucoup d’attentes de la part des supporters des deux équipes. Il s’agit d’une occasion pour les joueurs de montrer leur talent. Les supporters espèrent voir un match compétitif et spectaculaire, avec de belles actions et des buts. Les entraîneurs des deux équipes auront également l’occasion d’évaluer leurs joueurs et de tester différentes stratégies.\n",
    "\n",
    "Les Léopards qui comptent de nombreux joueurs talentueux évoluant dans des clubs européens vont naturellement miser sur la force physique, la vitesse et la technique avec des joueurs clés tels que Cédric Bakambu et Chancel Mbemba. C’est une équipe qui a le moral haut après la victoire devant le Soudan. Theo Bongonda (8′) et Fiston Kalala Mayele (87′) ont inscrit les deux buts victorieux. Un soulagement pour le peuple congolais, qui n’avait pas eu le plaisir de voir son équipe y participer lors de la dernière édition ! Les Léopards finissent ainsi en tête de leur poule I avec 12 points. Du côté de l’Afrique du Sud, les talents sont également à jour dans cette équipe connue pour son jeu offensif et son style de jeu rapide. Après avoir frappé fort en juin face au Maroc (2-1), l’Afrique du Sud a concédé un match nul décevant (0-0) samedi face à la Namibie. Un résultat pour le moins mitigé puisque malgré une nette domination (71 vs 29 %) et de nombreuses occasions (6 tirs cadrés contre 1), les Bafana Bafana n’ont pu trouver la faille. Ils espèreront se rassurer en l’emportant devant la RDC, qui a de son côté assuré sa qualification pour la CAN devant le Soudan (2-0).\"\"\"\n",
    "]"
   ]
  },
  {
   "cell_type": "code",
   "execution_count": 232,
   "metadata": {},
   "outputs": [],
   "source": [
    "article_two = [\n",
    "    \"\"\"\n",
    "    Une délégation, composée de joueurs et membres du staff technique de l’équipe nationale de football de la République démocratique du Congo, s’est envolée, ce lundi 11 septembre 2023, via à l’aéroport international de N’djili pour la ville de Johannesburg, en Afrique du Sud, où ils affronteront les Bafana Bafana ce mardi 12 septembre.\n",
    "\n",
    "Cette rencontre amicale, qui entre dans le cadre de la trêve internationale, va se jouer au stade Orlando sous le coup de 16 heures locales.\n",
    "\n",
    "Ce match sera une occasion, avait souligné le sélectionneur de la RDC, de donner du temps de jeu à d’autres joueurs de l’équipe nationale de la RDC.\n",
    "\n",
    "À noter les Léopards de la RDC seront de nouveau sur la pelouse 48 heures après leur qualification pour la 34ème édition de la Coupe d’Afrique des Nations prévue au mois de janvier 2024 en Côte d’Ivoire.\n",
    "\n",
    "Mechack Wabeno\n",
    "    \"\"\"\n",
    "]"
   ]
  },
  {
   "cell_type": "code",
   "execution_count": 269,
   "metadata": {},
   "outputs": [],
   "source": [
    "article_three = \"\"\"\n",
    "Après le carnage survenu dans la ville de Goma, le 30 août dernier, le barza intercommunautaire du Nord-Kivu appelle la population à ne plus participer aux manipulations de tout genre.\n",
    "\n",
    "Dans une déclaration lue devant la presse, lundi 11 septembre, au sortir d’une réunion de sécurité élargie aux présidents et représentants des communautés autour du gouverneur intérimaire, le Barza a signifié que ce n’est plus le moment d’inciter la population aux actions qui aboutissent aux dérapages.\n",
    "\n",
    "« Ce n’est plus le moment d’appeler la population à l’observance des villes mortes, car ces dernières se transforment en des dérapages conduisant à des pertes en vies humaines et des biens matériels des populations déjà meurtries », rapporte cette déclaration.\n",
    "\n",
    "Ces représentants des communautés du Nord-Kivu rappellent que le gouvernement s’est déjà porté garant pour un enterrement digne des victimes du carnage et a promis d’accélérer le processus du retrait de la MONUSCO.\n",
    "\n",
    "Entre-temps, des messages d’appel à une journée ville morte, ce mercredi, à Goma, lancés par les mouvements citoyens circulent déjà sur les réseaux sociaux.\n",
    "\n",
    "Plus de 50 personnes ont perdu la vie dans les manifestations du 30 août de l’année en cours à Goma.\n",
    "\n",
    "\"\"\""
   ]
  },
  {
   "cell_type": "code",
   "execution_count": 250,
   "metadata": {},
   "outputs": [],
   "source": [
    "article_one_embeddings = model.encode(article_one)\n",
    "article_two_embeddings = model.encode(article_two)"
   ]
  },
  {
   "cell_type": "code",
   "execution_count": 270,
   "metadata": {},
   "outputs": [],
   "source": [
    "article_three_embeddings = model.encode(article_three)"
   ]
  },
  {
   "cell_type": "code",
   "execution_count": 271,
   "metadata": {},
   "outputs": [
    {
     "data": {
      "text/plain": [
       "array([ 1.25896439e-01,  3.13706338e-01,  1.64171055e-01,  5.93610168e-01,\n",
       "        1.28246501e-01, -1.59435123e-01,  7.94281960e-02,  4.07503575e-01,\n",
       "       -6.95991293e-02,  8.32009137e-01, -3.21829915e-01,  4.41460609e-02,\n",
       "       -7.10797384e-02,  6.32890642e-01,  6.40203357e-01, -3.06100339e-01,\n",
       "        5.95003545e-01, -2.21239775e-01,  3.00597519e-01,  6.53308723e-03,\n",
       "        8.98121074e-02, -1.95849225e-01,  3.34434777e-01, -3.62295121e-01,\n",
       "       -1.29972613e+00, -1.01091838e+00, -2.40245938e-01, -1.49136633e-01,\n",
       "        2.18590647e-01, -2.91955769e-01,  3.30381244e-01,  3.07319522e-01,\n",
       "        7.76172817e-01,  1.65125340e-01, -2.59996414e-01,  2.27667481e-01,\n",
       "        5.51775157e-01,  1.27791852e-01,  3.93910795e-01, -8.81829739e-01,\n",
       "       -4.93037933e-03,  1.13380782e-01, -7.51591250e-02,  4.20408361e-02,\n",
       "       -1.74595058e-01,  6.35977924e-01,  2.13874951e-01,  1.58005878e-01,\n",
       "        2.84139246e-01, -4.94659543e-02, -9.63094011e-02, -1.55158490e-01,\n",
       "       -4.21614379e-01, -4.97273773e-01,  1.25233814e-01,  4.87091206e-02,\n",
       "       -7.38684982e-02,  1.81023657e+00, -2.27060854e-01,  2.29489103e-01,\n",
       "       -4.35661785e-02, -4.86762151e-02,  2.50392735e-01, -3.22270602e-01,\n",
       "       -9.20318961e-02,  4.24305111e-01, -1.96704850e-01,  4.55503196e-01,\n",
       "        1.43927678e-01, -5.40567875e-01,  9.47351754e-02,  4.47698325e-01,\n",
       "        1.28579095e-01,  8.42903778e-02, -2.54481852e-01,  3.38999182e-02,\n",
       "       -5.83498478e-02, -3.37190092e-01, -1.96211457e-01, -1.48072109e-01,\n",
       "        6.32035971e-01,  2.05777317e-01,  2.69444231e-02,  6.51910827e-02,\n",
       "       -3.01902384e-01,  5.23221612e-01,  8.50550979e-02,  6.64785922e-01,\n",
       "        1.03028201e-01,  8.75469595e-02, -2.76416272e-01, -3.32848653e-02,\n",
       "        2.24779591e-01,  2.03776106e-01, -8.37014019e-01,  2.76416630e-01,\n",
       "       -2.85923313e-02,  1.48214117e-01,  3.86391282e-01,  4.81768221e-01,\n",
       "        4.25967872e-01,  7.02188164e-02, -7.00247586e-01,  2.95697987e-01,\n",
       "       -1.12610169e-01,  2.19192445e-01, -2.43125916e-01,  7.30167851e-02,\n",
       "       -4.01908487e-01, -2.59003997e-01,  5.46192639e-02, -7.31612518e-02,\n",
       "        5.93466640e-01,  4.46654648e-01,  6.46197081e-01,  4.44318593e-01,\n",
       "        4.99891400e-01, -1.33878902e-01, -2.54553020e-01,  4.76526953e-02,\n",
       "        2.07476765e-01, -9.11836792e-03, -6.26699090e-01,  4.22050580e-02,\n",
       "        2.71124899e-01, -3.46298486e-01, -5.15438735e-01,  8.63208055e-01,\n",
       "       -2.04795137e-01,  7.48691797e-01, -4.68429588e-02, -5.47682405e-01,\n",
       "        6.11131549e-01,  7.41099238e-01,  2.07810104e-03,  9.50470567e-03,\n",
       "        3.18853378e-01, -4.93215233e-01,  5.62406719e-01, -3.21794689e-01,\n",
       "        8.03244650e-01,  3.98218453e-01,  1.72058627e-01,  8.56899172e-02,\n",
       "        1.09773509e-01,  4.35992330e-01,  4.14070129e-01,  1.50523990e-01,\n",
       "        2.03069314e-01,  3.95812601e-01, -2.23168194e-01,  2.18860209e-01,\n",
       "       -2.17380479e-01, -7.09256753e-02, -2.46509060e-01, -3.46817821e-01,\n",
       "       -2.39493281e-01,  1.58612597e+00,  1.32447407e-01, -2.99735606e-01,\n",
       "       -3.04400027e-01, -2.43445110e+00,  2.74537563e-01,  5.25772393e-01,\n",
       "        5.89437544e-01,  3.02191079e-01, -2.31020406e-01, -4.15161178e-02,\n",
       "        9.26923156e-02,  1.08981155e-01,  2.56955385e-01,  3.70184809e-01,\n",
       "       -3.76035661e-01, -3.12757194e-02,  5.63967563e-02, -7.07539544e-02,\n",
       "        5.71855009e-01,  4.96381998e-01,  1.97451606e-01,  4.01331306e-01,\n",
       "        2.48623788e-01, -1.16602793e-01,  3.34183395e-01, -3.28069657e-01,\n",
       "        2.40534246e-01,  7.72692338e-02,  8.66080299e-02,  1.82585642e-01,\n",
       "        3.88025671e-01,  2.68845022e-01,  4.32647884e-01, -1.74689516e-01,\n",
       "       -1.30517229e-01, -2.93666273e-01,  1.85663864e-01,  2.40664884e-01,\n",
       "        3.08951795e-01,  1.56422183e-01, -4.13132429e-01, -2.40555763e-01,\n",
       "       -1.39063388e-01, -8.28393921e-02,  3.94984543e-01, -1.36083454e-01,\n",
       "       -1.77702472e-01,  9.15094912e-02,  6.90434594e-03,  5.81836067e-02,\n",
       "       -1.86041579e-01,  1.90319881e-01,  3.55287284e-01, -1.23198561e-01,\n",
       "        4.94973272e-01, -5.09075522e-01,  3.21313478e-02, -3.47205728e-01,\n",
       "        3.04013342e-01, -1.43604547e-01, -3.47406417e-01,  3.42874825e-01,\n",
       "       -2.16573745e-01, -2.98723042e-01, -3.22740972e-01, -2.40722090e-01,\n",
       "       -5.02297245e-02, -8.63955468e-02,  3.01863551e-01,  2.61268407e-01,\n",
       "       -4.21023101e-01, -4.25377429e-01,  3.83045405e-01, -4.40227658e-01,\n",
       "        5.76531980e-03,  4.30892676e-01, -1.88255310e-02,  2.69655764e-01,\n",
       "        1.84219584e-01,  4.94095296e-01,  5.70768595e-01, -2.10258782e-01,\n",
       "       -1.39002904e-01,  1.01235557e+00,  4.50740337e-01,  4.21283215e-01,\n",
       "        1.72180369e-01,  4.82942499e-02,  1.56302676e-01,  3.98765728e-02,\n",
       "       -1.07799970e-01,  7.84360051e-01, -2.79779702e-01,  1.48353487e-01,\n",
       "        6.13782704e-01,  1.44196704e-01,  3.48447800e-01,  3.81016638e-03,\n",
       "        3.69350553e-01, -7.78222084e-02,  3.77855992e+00,  3.96041542e-01,\n",
       "       -2.39394885e-02, -2.49771401e-01,  2.66128242e-01, -3.51787508e-01,\n",
       "       -3.58702503e-02, -1.70297548e-01,  4.27207984e-02,  8.93163085e-02,\n",
       "       -2.02817872e-01,  1.76167384e-01, -6.33201078e-02,  8.80070105e-02,\n",
       "        1.50268292e+00,  1.12223327e-01,  1.35188122e+01, -1.24406042e-02,\n",
       "       -1.91006470e+00,  2.79054721e-03,  3.44503075e-01,  1.91754043e-01,\n",
       "        1.18802115e-01,  5.03665984e-01,  3.15122217e-01,  2.91088760e-01,\n",
       "        1.41032189e-01,  5.22741616e-01,  2.26400232e+00,  3.80802423e-01,\n",
       "       -9.90342647e-02,  2.65072323e-02, -6.25461876e-01,  5.45213759e-01,\n",
       "       -1.92118413e-03,  9.14710201e-03,  1.92971408e-01,  5.62341273e-01,\n",
       "       -4.09751646e-02,  1.07360467e-01,  5.73775887e-01,  9.34908763e-02,\n",
       "        3.34719926e-01,  1.04295626e-01,  7.05812156e-01, -7.29142651e-02,\n",
       "        2.76250448e-02,  4.56755787e-01, -3.00092727e-01, -2.88106780e-02,\n",
       "        2.09936053e-01,  7.09137821e+00,  4.60367590e-01, -2.32026398e-01,\n",
       "        8.63892585e-02,  2.46552631e-01,  3.28611076e-01,  4.81114656e-01,\n",
       "        1.10090688e-01,  2.33780906e-01,  7.69629657e-01, -1.84536785e-01,\n",
       "        1.35347307e-01,  7.17986345e-01, -1.72328815e-01,  3.54285091e-01,\n",
       "        4.00541782e-01, -4.35095318e-02, -2.48568773e-01, -2.91423321e-01,\n",
       "        3.59923542e-01,  5.14949024e-01,  3.72366399e-01,  2.28452563e-01,\n",
       "        4.22036439e-01,  1.76547140e-01, -2.23692879e-01,  1.67441834e-02,\n",
       "        9.01906252e-01,  2.81111330e-01,  3.14007290e-02, -1.25698313e-01,\n",
       "        6.06994629e-01, -3.65806371e-01,  2.59678662e-01,  2.69064158e-01,\n",
       "       -3.15986484e-01, -2.26850197e-01,  2.25413799e-01, -2.49403104e-01,\n",
       "       -6.71238750e-02, -5.42210996e-01,  2.00158328e-01,  4.16964799e-01,\n",
       "       -1.77122951e-02,  1.84455246e-01,  1.48470655e-01, -7.72385746e-02,\n",
       "       -9.15280730e-02, -3.96166801e-01, -2.06574634e-01,  3.84295732e-01,\n",
       "       -1.93544835e-01,  6.60760552e-02, -2.89501250e-01,  2.27035373e-01,\n",
       "        1.47973716e-01,  1.60807699e-01, -4.32270586e-01, -7.58357197e-02,\n",
       "       -1.97051674e-01, -2.55611628e-01,  6.91082329e-02, -2.94774830e-01,\n",
       "        1.60452545e-01,  2.75509179e-01,  4.44835782e-01,  7.02170730e-01,\n",
       "       -5.46730794e-02, -1.08799018e-01, -4.12896901e-01,  2.09769472e-01,\n",
       "       -1.13431847e+00,  1.28722697e-01, -1.10400328e-02,  2.98979729e-01,\n",
       "        4.17795926e-01, -7.87590325e-01, -3.83271091e-03,  5.25485501e-02,\n",
       "       -7.10950375e-01,  1.36538386e-01, -1.96917564e-01,  2.32744381e-01,\n",
       "       -7.72169903e-02, -2.44925275e-01,  1.54207665e-02, -3.98250520e-01,\n",
       "        2.02321142e-01, -3.23168784e-01, -1.28620669e-01,  4.50261652e-01,\n",
       "        5.76816738e-01,  1.44629836e-01,  8.07921495e-03,  5.67586362e-01,\n",
       "        9.47678536e-02,  8.44213292e-02, -3.94672537e+00,  1.96959615e-01,\n",
       "       -8.63202214e-01,  3.81502688e-01,  2.09723279e-01,  3.40305269e-01,\n",
       "        8.54216933e-01,  9.79327932e-02, -1.71139687e-01,  1.25905916e-01,\n",
       "       -7.39073977e-02,  1.79474831e-01,  6.97523296e-01,  3.02861243e-01,\n",
       "        3.28470588e-01, -2.61522293e-01, -2.42406607e-01,  2.47437179e-01,\n",
       "       -2.91010160e-02, -1.34870753e-01,  1.17795326e-01, -7.00660229e-01,\n",
       "        1.17999926e-01,  7.31753334e-02,  6.88911378e-02,  2.74866194e-01,\n",
       "        8.45981836e-02, -2.98755914e-01,  7.26449013e-01,  6.75875068e-01,\n",
       "       -4.52516451e-02,  1.74266230e-02,  2.04938397e-01,  2.49472052e-01,\n",
       "        1.41943350e-01,  2.34569926e-02,  3.51825058e-01,  4.44208197e-02,\n",
       "        1.96618021e-01, -3.73951912e-01, -5.76831341e-01, -1.26779586e-01,\n",
       "        2.63116479e-01, -3.70110363e-01,  3.87975097e-01, -1.33123379e-02,\n",
       "        6.39479607e-03,  8.83177221e-02,  2.18731478e-01,  5.17830908e-01,\n",
       "       -6.70473576e-02,  7.28913665e-01,  9.69438814e-03, -1.81958771e+00,\n",
       "       -7.01978326e-01, -2.62342125e-01,  1.43804252e-01,  1.33283697e-02,\n",
       "       -2.31894895e-01, -2.00719738e+00, -3.30256432e-01, -3.75214010e-01,\n",
       "        1.88799649e-02,  2.15092123e-01,  9.65142921e-02,  1.07850999e-01,\n",
       "        6.34357870e-01,  7.35111833e-01,  2.74189264e-01,  5.98573461e-02,\n",
       "       -4.99763548e-01,  2.86653519e-01,  1.72153383e-01, -5.50756752e-01,\n",
       "        7.35069811e-02,  2.43698835e-01,  6.15529835e-01,  3.96037400e-01,\n",
       "        4.38046753e-01, -5.11891581e-02, -3.48477112e-03,  4.52631772e-01,\n",
       "        3.95718962e-01, -8.56276989e-01, -3.30710672e-02, -1.51038468e-01,\n",
       "       -2.57359684e-01, -3.20450356e-03,  8.68019238e-02, -4.20480035e-02,\n",
       "        1.25584394e-01,  1.87243104e-01, -9.36954319e-02,  3.51476401e-01,\n",
       "       -2.01588511e-01,  2.07307115e-01,  2.41378099e-01, -1.34743243e-01,\n",
       "       -3.29111278e-01,  8.15942436e-02,  9.34525579e-02, -4.16721046e-01,\n",
       "       -1.02637865e-01,  3.61326694e-01, -2.74791233e-02,  3.54304940e-01,\n",
       "       -3.21547359e-01,  5.78512192e-01,  7.14016706e-02,  2.15618446e-01,\n",
       "        1.68854922e-01, -1.74535349e-01, -2.92778999e-01,  4.81056720e-01,\n",
       "       -4.30687815e-01, -4.58052903e-01,  3.54900271e-01,  1.94019258e-01,\n",
       "        5.77128172e-01,  6.23377860e-01,  1.25854686e-01,  6.86124325e-01,\n",
       "       -4.40353841e-01, -1.92873001e-01,  2.40701139e-01, -2.11098045e-03,\n",
       "       -1.17171690e-01,  1.43114984e-01,  5.74783325e-01,  1.02820419e-01,\n",
       "       -1.65247405e+00,  6.94719315e-01, -9.08364654e-02,  4.96049635e-02,\n",
       "        2.30906785e-01, -3.52511406e-01,  2.36679822e-01,  1.02563334e+00,\n",
       "        2.32032686e-01,  3.65643948e-01, -1.51818931e-01, -1.59650281e-01,\n",
       "        3.91479760e-01,  5.53111196e-01, -1.63515937e+00,  4.14445877e-01,\n",
       "       -3.47163379e-01, -8.99900589e-03,  1.92453444e-01,  3.33253890e-01,\n",
       "       -1.90271929e-01,  4.67932254e-01, -4.50948834e-01,  8.77113581e-01,\n",
       "       -1.47122825e-02,  6.99736476e-02,  3.71282518e-01, -2.83300698e-01,\n",
       "       -3.54831852e-02, -2.29917504e-02,  5.89024164e-02,  6.45480976e-02,\n",
       "        6.47617400e-01,  3.13825339e-01, -1.85578868e-01,  1.68449208e-01,\n",
       "        6.35426939e-01,  2.85991400e-01,  1.50264382e-01, -3.02946061e-01,\n",
       "       -2.64677033e-02,  7.37134293e-02, -1.02090269e-01, -3.22839618e-01,\n",
       "        4.63274151e-01, -2.29662269e-01, -9.46450979e-02,  2.83821553e-01,\n",
       "        6.02798164e-01,  5.10749519e-01, -2.01728716e-01,  1.14593871e-01,\n",
       "        3.01779091e-01, -5.79541743e-01, -9.33093354e-02,  2.22968072e-01,\n",
       "        2.92461235e-02, -7.90468231e-02,  2.02156290e-01, -1.80091992e-01,\n",
       "       -9.37964618e-02, -2.66224265e-01,  5.37246428e-02, -3.95433187e-01,\n",
       "       -5.28256357e-01, -4.08908784e-01, -2.12368444e-01,  2.44056880e-01,\n",
       "       -3.73291820e-02,  4.63606030e-01,  1.19368039e-01, -3.19755286e-01,\n",
       "        3.59928310e-01, -4.07120679e-03,  1.53513864e-01,  4.99599203e-02,\n",
       "       -3.04797530e-01,  8.60037804e-01,  3.99354190e-01, -4.41197343e-02,\n",
       "        1.04546674e-01, -1.38158047e+00,  1.61721677e-01,  6.58648089e-02,\n",
       "        1.54061988e-01, -7.95643702e-02, -2.51936376e-01,  2.13790219e-02,\n",
       "       -3.46768349e-01,  4.64490563e-01,  5.38774073e-01, -3.35780203e-01,\n",
       "       -2.42161542e-01,  1.38487384e-01, -7.89759681e-03,  2.53665000e-01,\n",
       "        7.70904601e-01,  1.01035714e+00,  5.41381836e-02, -1.88134667e-02,\n",
       "        1.24895170e-01, -5.52801117e-02, -2.22906083e-01,  1.97521336e-02,\n",
       "       -1.46836251e-01,  8.15278172e-01, -3.93760838e-02,  1.08708769e-01,\n",
       "        2.93443680e-01, -1.39904395e-02,  6.66494668e-01, -8.50753188e-02,\n",
       "       -3.98150831e-01, -6.82333931e-02,  6.38210893e-01,  7.55394220e-01,\n",
       "       -4.26487513e-02,  1.99339882e-01, -9.16067734e-02,  3.35950196e-01,\n",
       "       -6.80164918e-02,  2.88400710e-01,  3.85197908e-01,  1.70635179e-01,\n",
       "        6.72595799e-02, -1.08343475e-01,  3.87605220e-01,  2.09398614e-03,\n",
       "       -9.53186825e-02, -7.35459179e-02, -2.28176787e-01,  6.39177859e-02,\n",
       "        1.27971815e-02, -1.22371934e-01, -8.10085163e-02,  2.91186184e-01,\n",
       "        4.19202587e-03,  3.15602064e-01, -5.83334446e-01,  5.36202639e-02,\n",
       "        4.95508879e-01,  6.51263669e-02, -5.56814820e-02,  1.66993365e-01,\n",
       "        5.44749975e-01,  4.37792130e-02,  4.29154724e-01, -1.51912022e+00,\n",
       "       -4.42788750e-01,  2.05922246e-01,  5.76779209e-02,  2.61266381e-01,\n",
       "        6.91417551e+00,  4.81962055e-01,  3.35358262e-01, -3.54110092e-01,\n",
       "        1.66576609e-01, -1.72664368e+00,  3.66470456e-01, -2.21667320e-01,\n",
       "       -2.26453245e-01, -1.83780640e-01, -2.37839177e-01,  4.04317886e-01,\n",
       "        6.25485599e-01, -3.63048524e-01, -5.83873153e-01,  1.50204524e-01,\n",
       "       -4.25179839e-01,  4.32544231e-01,  2.74790168e-01, -1.51911914e-01,\n",
       "       -1.34053737e-01, -4.42829430e-01,  3.32243413e-01, -5.58076859e-01,\n",
       "        1.08503498e-01,  1.26282483e-01, -9.37637568e-01,  1.63266480e-01,\n",
       "        7.50943050e-02, -5.48456647e-02,  6.77303851e-01,  5.32951728e-02,\n",
       "        7.50729665e-02, -1.09558471e-01, -5.54688752e-01, -3.54183614e-01,\n",
       "       -2.78581858e-01,  8.39931071e-02,  2.62821406e-01,  2.54157688e-02,\n",
       "       -2.33530208e-01,  8.76063332e-02,  1.52169898e-01,  7.19424665e-01,\n",
       "        4.54679430e-01, -5.47446609e-01, -1.17486872e-01,  1.73677012e-01,\n",
       "       -1.75758004e-01,  1.67394102e-01,  2.65781790e-01,  5.50657399e-02,\n",
       "        8.07680935e-02,  7.26057291e-01,  3.55072975e-01, -1.19181879e-01,\n",
       "        7.04161450e-03, -1.17255002e-01, -1.43456176e-01, -1.83661625e-01,\n",
       "       -2.11581662e-01, -2.45888948e+00,  1.26082659e-01, -5.30278623e-01,\n",
       "       -4.89384294e-01, -1.75891206e-01,  2.36250430e-01, -3.26515853e-01,\n",
       "       -1.60918728e-01,  2.33176693e-01,  1.90250218e-01,  2.55264819e-01,\n",
       "        3.07761043e-01, -2.10165843e-01,  5.81654131e-01, -1.94382980e-01,\n",
       "       -8.67988616e-02, -2.76101738e-01,  2.51652271e-01, -9.61583406e-02],\n",
       "      dtype=float32)"
      ]
     },
     "execution_count": 271,
     "metadata": {},
     "output_type": "execute_result"
    }
   ],
   "source": [
    "article_three_embeddings"
   ]
  },
  {
   "cell_type": "code",
   "execution_count": 273,
   "metadata": {},
   "outputs": [],
   "source": [
    "from scipy.spatial.distance import cosine, euclidean"
   ]
  },
  {
   "cell_type": "code",
   "execution_count": 275,
   "metadata": {},
   "outputs": [],
   "source": [
    "# compute cosine similarity between the two embeddings using scipy\n",
    "# input: two embeddings\n",
    "# output: cosine similarity\n",
    "def cosine_similarity(embedding1, embedding2):\n",
    "    return 1 - cosine(embedding1, embedding2)"
   ]
  },
  {
   "cell_type": "code",
   "execution_count": 259,
   "metadata": {},
   "outputs": [
    {
     "data": {
      "text/plain": [
       "0.9861726760864258"
      ]
     },
     "execution_count": 259,
     "metadata": {},
     "output_type": "execute_result"
    }
   ],
   "source": [
    "cosine_similarity(article_one_embeddings.ravel(), article_two_embeddings.ravel())"
   ]
  },
  {
   "cell_type": "markdown",
   "metadata": {},
   "source": [
    "The two articles are similar because of their  content is almost the same, they are both talking about football."
   ]
  },
  {
   "cell_type": "code",
   "execution_count": 272,
   "metadata": {},
   "outputs": [
    {
     "data": {
      "text/plain": [
       "0.9749183058738708"
      ]
     },
     "execution_count": 272,
     "metadata": {},
     "output_type": "execute_result"
    }
   ],
   "source": [
    "cosine_similarity(article_three_embeddings.ravel(), article_two_embeddings.ravel())"
   ]
  },
  {
   "cell_type": "code",
   "execution_count": 277,
   "metadata": {},
   "outputs": [
    {
     "data": {
      "text/plain": [
       "0.0"
      ]
     },
     "execution_count": 277,
     "metadata": {},
     "output_type": "execute_result"
    }
   ],
   "source": [
    "cosine_similarity(np.array([0, 1]), np.array([-1, 0 ]))"
   ]
  },
  {
   "cell_type": "markdown",
   "metadata": {},
   "source": [
    "Need to improve the quality of the word embeddings."
   ]
  },
  {
   "cell_type": "markdown",
   "metadata": {},
   "source": [
    "New Approaches to try:\n",
    "\n",
    " - https://colab.research.google.com/drive/1bfWUYEypULFk_4Tfff-Pb_n7-tSjEe9v?usp=sharing\n",
    " - https://github.com/ddangelov/Top2Vec\n",
    " "
   ]
  }
 ],
 "metadata": {
  "kernelspec": {
   "display_name": ".venv",
   "language": "python",
   "name": "python3"
  },
  "language_info": {
   "codemirror_mode": {
    "name": "ipython",
    "version": 3
   },
   "file_extension": ".py",
   "mimetype": "text/x-python",
   "name": "python",
   "nbconvert_exporter": "python",
   "pygments_lexer": "ipython3",
   "version": "3.10.4"
  },
  "orig_nbformat": 4
 },
 "nbformat": 4,
 "nbformat_minor": 2
}
