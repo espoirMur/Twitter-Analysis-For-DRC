{
 "cells": [
  {
   "attachments": {},
   "cell_type": "markdown",
   "metadata": {},
   "source": [
    "### Topic Modeling with WordEmbedding\n",
    "\n",
    "\n",
    "In this notebook, I will try to train topic modeling using word embedding on tweets and see what it leads to.\n",
    "\n",
    "I will be using this tutorial as a reference: https://towardsdatascience.com/topic-modeling-with-bert-779f7db187e6"
   ]
  },
  {
   "attachments": {},
   "cell_type": "markdown",
   "metadata": {},
   "source": [
    "##### 1. The Data"
   ]
  },
  {
   "cell_type": "code",
   "execution_count": 1,
   "metadata": {},
   "outputs": [],
   "source": [
    "import pandas as pd"
   ]
  },
  {
   "cell_type": "code",
   "execution_count": 2,
   "metadata": {},
   "outputs": [],
   "source": [
    "tweets_data = pd.read_parquet('data/tweets.parquet', dtype_backend='pyarrow')"
   ]
  },
  {
   "cell_type": "code",
   "execution_count": 3,
   "metadata": {},
   "outputs": [
    {
     "data": {
      "text/html": [
       "<div>\n",
       "<style scoped>\n",
       "    .dataframe tbody tr th:only-of-type {\n",
       "        vertical-align: middle;\n",
       "    }\n",
       "\n",
       "    .dataframe tbody tr th {\n",
       "        vertical-align: top;\n",
       "    }\n",
       "\n",
       "    .dataframe thead th {\n",
       "        text-align: right;\n",
       "    }\n",
       "</style>\n",
       "<table border=\"1\" class=\"dataframe\">\n",
       "  <thead>\n",
       "    <tr style=\"text-align: right;\">\n",
       "      <th></th>\n",
       "      <th>text</th>\n",
       "      <th>created_at</th>\n",
       "      <th>raw_json</th>\n",
       "    </tr>\n",
       "  </thead>\n",
       "  <tbody>\n",
       "    <tr>\n",
       "      <th>0</th>\n",
       "      <td>size gdp economier member stater east african ...</td>\n",
       "      <td>2023-02-21 14:04:56</td>\n",
       "      <td>{'created_at': 1676988296.0, 'id': 16280330288...</td>\n",
       "    </tr>\n",
       "    <tr>\n",
       "      <th>1</th>\n",
       "      <td>execution convention apparent colonisation eco...</td>\n",
       "      <td>2023-02-21 14:04:49</td>\n",
       "      <td>{'created_at': 1676988289.0, 'id': 16280330020...</td>\n",
       "    </tr>\n",
       "    <tr>\n",
       "      <th>2</th>\n",
       "      <td></td>\n",
       "      <td>2023-02-21 14:04:42</td>\n",
       "      <td>{'created_at': 1676988282.0, 'id': 16280329704...</td>\n",
       "    </tr>\n",
       "    <tr>\n",
       "      <th>3</th>\n",
       "      <td>today addi heads stater eac icglr reaffirmed s...</td>\n",
       "      <td>2023-02-21 14:04:40</td>\n",
       "      <td>{'created_at': 1676988280.0, 'id': 16280329619...</td>\n",
       "    </tr>\n",
       "    <tr>\n",
       "      <th>4</th>\n",
       "      <td></td>\n",
       "      <td>2023-02-21 14:04:33</td>\n",
       "      <td>{'created_at': 1676988273.0, 'id': 16280329338...</td>\n",
       "    </tr>\n",
       "  </tbody>\n",
       "</table>\n",
       "</div>"
      ],
      "text/plain": [
       "                                                text           created_at  \\\n",
       "0  size gdp economier member stater east african ...  2023-02-21 14:04:56   \n",
       "1  execution convention apparent colonisation eco...  2023-02-21 14:04:49   \n",
       "2                                                     2023-02-21 14:04:42   \n",
       "3  today addi heads stater eac icglr reaffirmed s...  2023-02-21 14:04:40   \n",
       "4                                                     2023-02-21 14:04:33   \n",
       "\n",
       "                                            raw_json  \n",
       "0  {'created_at': 1676988296.0, 'id': 16280330288...  \n",
       "1  {'created_at': 1676988289.0, 'id': 16280330020...  \n",
       "2  {'created_at': 1676988282.0, 'id': 16280329704...  \n",
       "3  {'created_at': 1676988280.0, 'id': 16280329619...  \n",
       "4  {'created_at': 1676988273.0, 'id': 16280329338...  "
      ]
     },
     "execution_count": 3,
     "metadata": {},
     "output_type": "execute_result"
    }
   ],
   "source": [
    "tweets_data.head()"
   ]
  },
  {
   "cell_type": "code",
   "execution_count": 4,
   "metadata": {},
   "outputs": [],
   "source": [
    "tweets_data = tweets_data.sort_values(by='created_at', ascending=False)"
   ]
  },
  {
   "cell_type": "code",
   "execution_count": 6,
   "metadata": {},
   "outputs": [
    {
     "data": {
      "text/html": [
       "<div>\n",
       "<style scoped>\n",
       "    .dataframe tbody tr th:only-of-type {\n",
       "        vertical-align: middle;\n",
       "    }\n",
       "\n",
       "    .dataframe tbody tr th {\n",
       "        vertical-align: top;\n",
       "    }\n",
       "\n",
       "    .dataframe thead th {\n",
       "        text-align: right;\n",
       "    }\n",
       "</style>\n",
       "<table border=\"1\" class=\"dataframe\">\n",
       "  <thead>\n",
       "    <tr style=\"text-align: right;\">\n",
       "      <th></th>\n",
       "      <th>text</th>\n",
       "      <th>created_at</th>\n",
       "      <th>raw_json</th>\n",
       "    </tr>\n",
       "  </thead>\n",
       "  <tbody>\n",
       "    <tr>\n",
       "      <th>2657980</th>\n",
       "      <td>lumumba kabila simon kimbangu retournent tombe...</td>\n",
       "      <td>2023-06-26 05:00:47</td>\n",
       "      <td>{'created_at': 1687755647.0, 'id': 16731945755...</td>\n",
       "    </tr>\n",
       "    <tr>\n",
       "      <th>2657981</th>\n",
       "      <td>jules alingete invite devenir denonciateur cri...</td>\n",
       "      <td>2023-06-26 05:00:33</td>\n",
       "      <td>{'created_at': 1687755633.0, 'id': 16731945140...</td>\n",
       "    </tr>\n",
       "    <tr>\n",
       "      <th>2657982</th>\n",
       "      <td>aucun derive autoritaire lorsqu respecter auto...</td>\n",
       "      <td>2023-06-26 05:00:32</td>\n",
       "      <td>{'created_at': 1687755632.0, 'id': 16731945092...</td>\n",
       "    </tr>\n",
       "    <tr>\n",
       "      <th>2657983</th>\n",
       "      <td>law chair meeting constitutionally mandate</td>\n",
       "      <td>2023-06-26 05:00:26</td>\n",
       "      <td>{'created_at': 1687755626.0, 'id': 16731944859...</td>\n",
       "    </tr>\n",
       "    <tr>\n",
       "      <th>2657984</th>\n",
       "      <td>an professeur universite convaincus science</td>\n",
       "      <td>2023-06-26 05:00:17</td>\n",
       "      <td>{'created_at': 1687755617.0, 'id': 16731944471...</td>\n",
       "    </tr>\n",
       "    <tr>\n",
       "      <th>2657985</th>\n",
       "      <td>lutte antivaleurs gestion public cheval batail...</td>\n",
       "      <td>2023-06-26 05:00:14</td>\n",
       "      <td>{'created_at': 1687755614.0, 'id': 16731944374...</td>\n",
       "    </tr>\n",
       "    <tr>\n",
       "      <th>2657986</th>\n",
       "      <td>non propriete privee eglis catholique</td>\n",
       "      <td>2023-06-26 05:00:08</td>\n",
       "      <td>{'created_at': 1687755608.0, 'id': 16731944089...</td>\n",
       "    </tr>\n",
       "    <tr>\n",
       "      <th>2657987</th>\n",
       "      <td>regarder audela beaut femme decouvrez apporte ...</td>\n",
       "      <td>2023-06-26 05:00:01</td>\n",
       "      <td>{'created_at': 1687755601.0, 'id': 16731943813...</td>\n",
       "    </tr>\n",
       "    <tr>\n",
       "      <th>2657988</th>\n",
       "      <td>ricordate quando daniela santanch offese morti...</td>\n",
       "      <td>2023-06-26 04:59:42</td>\n",
       "      <td>{'created_at': 1687755582.0, 'id': 16731943022...</td>\n",
       "    </tr>\n",
       "    <tr>\n",
       "      <th>2657989</th>\n",
       "      <td>finaliste travail</td>\n",
       "      <td>2023-06-26 04:59:39</td>\n",
       "      <td>{'created_at': 1687755579.0, 'id': 16731942893...</td>\n",
       "    </tr>\n",
       "    <tr>\n",
       "      <th>2657990</th>\n",
       "      <td>important factor determining persons future bo...</td>\n",
       "      <td>2023-06-26 04:59:31</td>\n",
       "      <td>{'created_at': 1687755571.0, 'id': 16731942538...</td>\n",
       "    </tr>\n",
       "    <tr>\n",
       "      <th>2657991</th>\n",
       "      <td>sentir rapport propos acte democratie dictature</td>\n",
       "      <td>2023-06-26 04:59:14</td>\n",
       "      <td>{'created_at': 1687755554.0, 'id': 16731941834...</td>\n",
       "    </tr>\n",
       "    <tr>\n",
       "      <th>2657992</th>\n",
       "      <td></td>\n",
       "      <td>2023-06-26 04:59:04</td>\n",
       "      <td>{'created_at': 1687755544.0, 'id': 16731941426...</td>\n",
       "    </tr>\n",
       "    <tr>\n",
       "      <th>2657993</th>\n",
       "      <td>rdconu esperon auteur trafic enfant punir seve...</td>\n",
       "      <td>2023-06-26 04:58:49</td>\n",
       "      <td>{'created_at': 1687755529.0, 'id': 16731940797...</td>\n",
       "    </tr>\n",
       "    <tr>\n",
       "      <th>2657994</th>\n",
       "      <td>expert leak genocid denial dangerous narrative...</td>\n",
       "      <td>2023-06-26 04:58:29</td>\n",
       "      <td>{'created_at': 1687755509.0, 'id': 16731939939...</td>\n",
       "    </tr>\n",
       "    <tr>\n",
       "      <th>2657995</th>\n",
       "      <td>poranek moda polsker joanna bancerowsker rzecz...</td>\n",
       "      <td>2023-06-26 04:58:20</td>\n",
       "      <td>{'created_at': 1687755500.0, 'id': 16731939553...</td>\n",
       "    </tr>\n",
       "    <tr>\n",
       "      <th>2657996</th>\n",
       "      <td>take wagner africa years causing bloodshed lootin</td>\n",
       "      <td>2023-06-26 04:58:15</td>\n",
       "      <td>{'created_at': 1687755495.0, 'id': 16731939377...</td>\n",
       "    </tr>\n",
       "    <tr>\n",
       "      <th>2657997</th>\n",
       "      <td>isnt involuntary electroconvulsiv therapy ect ...</td>\n",
       "      <td>2023-06-26 04:58:11</td>\n",
       "      <td>{'created_at': 1687755491.0, 'id': 16731939204...</td>\n",
       "    </tr>\n",
       "    <tr>\n",
       "      <th>2657998</th>\n",
       "      <td></td>\n",
       "      <td>2023-06-26 04:58:11</td>\n",
       "      <td>{'created_at': 1687755491.0, 'id': 16731939189...</td>\n",
       "    </tr>\n",
       "    <tr>\n",
       "      <th>2657999</th>\n",
       "      <td></td>\n",
       "      <td>2023-06-26 04:58:08</td>\n",
       "      <td>{'created_at': 1687755488.0, 'id': 16731939068...</td>\n",
       "    </tr>\n",
       "  </tbody>\n",
       "</table>\n",
       "</div>"
      ],
      "text/plain": [
       "                                                      text  \\\n",
       "2657980  lumumba kabila simon kimbangu retournent tombe...   \n",
       "2657981  jules alingete invite devenir denonciateur cri...   \n",
       "2657982  aucun derive autoritaire lorsqu respecter auto...   \n",
       "2657983         law chair meeting constitutionally mandate   \n",
       "2657984        an professeur universite convaincus science   \n",
       "2657985  lutte antivaleurs gestion public cheval batail...   \n",
       "2657986              non propriete privee eglis catholique   \n",
       "2657987  regarder audela beaut femme decouvrez apporte ...   \n",
       "2657988  ricordate quando daniela santanch offese morti...   \n",
       "2657989                                  finaliste travail   \n",
       "2657990  important factor determining persons future bo...   \n",
       "2657991    sentir rapport propos acte democratie dictature   \n",
       "2657992                                                      \n",
       "2657993  rdconu esperon auteur trafic enfant punir seve...   \n",
       "2657994  expert leak genocid denial dangerous narrative...   \n",
       "2657995  poranek moda polsker joanna bancerowsker rzecz...   \n",
       "2657996  take wagner africa years causing bloodshed lootin   \n",
       "2657997  isnt involuntary electroconvulsiv therapy ect ...   \n",
       "2657998                                                      \n",
       "2657999                                                      \n",
       "\n",
       "                  created_at  \\\n",
       "2657980  2023-06-26 05:00:47   \n",
       "2657981  2023-06-26 05:00:33   \n",
       "2657982  2023-06-26 05:00:32   \n",
       "2657983  2023-06-26 05:00:26   \n",
       "2657984  2023-06-26 05:00:17   \n",
       "2657985  2023-06-26 05:00:14   \n",
       "2657986  2023-06-26 05:00:08   \n",
       "2657987  2023-06-26 05:00:01   \n",
       "2657988  2023-06-26 04:59:42   \n",
       "2657989  2023-06-26 04:59:39   \n",
       "2657990  2023-06-26 04:59:31   \n",
       "2657991  2023-06-26 04:59:14   \n",
       "2657992  2023-06-26 04:59:04   \n",
       "2657993  2023-06-26 04:58:49   \n",
       "2657994  2023-06-26 04:58:29   \n",
       "2657995  2023-06-26 04:58:20   \n",
       "2657996  2023-06-26 04:58:15   \n",
       "2657997  2023-06-26 04:58:11   \n",
       "2657998  2023-06-26 04:58:11   \n",
       "2657999  2023-06-26 04:58:08   \n",
       "\n",
       "                                                  raw_json  \n",
       "2657980  {'created_at': 1687755647.0, 'id': 16731945755...  \n",
       "2657981  {'created_at': 1687755633.0, 'id': 16731945140...  \n",
       "2657982  {'created_at': 1687755632.0, 'id': 16731945092...  \n",
       "2657983  {'created_at': 1687755626.0, 'id': 16731944859...  \n",
       "2657984  {'created_at': 1687755617.0, 'id': 16731944471...  \n",
       "2657985  {'created_at': 1687755614.0, 'id': 16731944374...  \n",
       "2657986  {'created_at': 1687755608.0, 'id': 16731944089...  \n",
       "2657987  {'created_at': 1687755601.0, 'id': 16731943813...  \n",
       "2657988  {'created_at': 1687755582.0, 'id': 16731943022...  \n",
       "2657989  {'created_at': 1687755579.0, 'id': 16731942893...  \n",
       "2657990  {'created_at': 1687755571.0, 'id': 16731942538...  \n",
       "2657991  {'created_at': 1687755554.0, 'id': 16731941834...  \n",
       "2657992  {'created_at': 1687755544.0, 'id': 16731941426...  \n",
       "2657993  {'created_at': 1687755529.0, 'id': 16731940797...  \n",
       "2657994  {'created_at': 1687755509.0, 'id': 16731939939...  \n",
       "2657995  {'created_at': 1687755500.0, 'id': 16731939553...  \n",
       "2657996  {'created_at': 1687755495.0, 'id': 16731939377...  \n",
       "2657997  {'created_at': 1687755491.0, 'id': 16731939204...  \n",
       "2657998  {'created_at': 1687755491.0, 'id': 16731939189...  \n",
       "2657999  {'created_at': 1687755488.0, 'id': 16731939068...  "
      ]
     },
     "execution_count": 6,
     "metadata": {},
     "output_type": "execute_result"
    }
   ],
   "source": [
    "tweets_data.head(20)"
   ]
  },
  {
   "cell_type": "code",
   "execution_count": 7,
   "metadata": {},
   "outputs": [],
   "source": [
    "full_tweets = pd.json_normalize(tweets_data.raw_json)"
   ]
  },
  {
   "cell_type": "code",
   "execution_count": 8,
   "metadata": {},
   "outputs": [
    {
     "data": {
      "text/plain": [
       "'RT @wembi_steve: #RDC: KASAÏ | 4 personnes sont mortes lors d’un accident de circulation ce Lundi 20 Février 2023 sur la RN1 à Malundju à 1…'"
      ]
     },
     "execution_count": 8,
     "metadata": {},
     "output_type": "execute_result"
    }
   ],
   "source": [
    "full_tweets.loc[2657980, 'text']"
   ]
  },
  {
   "cell_type": "code",
   "execution_count": 9,
   "metadata": {},
   "outputs": [
    {
     "data": {
      "text/plain": [
       "{'created_at': 1676983569.0,\n",
       " 'id': 1628013202108809216,\n",
       " 'text': 'RT @KipayEnergy: @KipayEnergy développe une centrale solaire à Fungurume, la plus importante en #RDC actuellement.  D’ici avril 2023, elle…'}"
      ]
     },
     "execution_count": 9,
     "metadata": {},
     "output_type": "execute_result"
    }
   ],
   "source": [
    "tweets_data.loc[2075, 'raw_json']"
   ]
  },
  {
   "cell_type": "code",
   "execution_count": 10,
   "metadata": {},
   "outputs": [
    {
     "data": {
      "text/plain": [
       "'tragedie humain joue lest etre expliquee seul presence dun groupe arm cest'"
      ]
     },
     "execution_count": 10,
     "metadata": {},
     "output_type": "execute_result"
    }
   ],
   "source": [
    "tweets_data.loc[2074, 'text']"
   ]
  },
  {
   "cell_type": "code",
   "execution_count": 11,
   "metadata": {},
   "outputs": [
    {
     "data": {
      "text/html": [
       "<div>\n",
       "<style scoped>\n",
       "    .dataframe tbody tr th:only-of-type {\n",
       "        vertical-align: middle;\n",
       "    }\n",
       "\n",
       "    .dataframe tbody tr th {\n",
       "        vertical-align: top;\n",
       "    }\n",
       "\n",
       "    .dataframe thead th {\n",
       "        text-align: right;\n",
       "    }\n",
       "</style>\n",
       "<table border=\"1\" class=\"dataframe\">\n",
       "  <thead>\n",
       "    <tr style=\"text-align: right;\">\n",
       "      <th></th>\n",
       "      <th>created_at</th>\n",
       "      <th>id</th>\n",
       "      <th>text</th>\n",
       "    </tr>\n",
       "  </thead>\n",
       "  <tbody>\n",
       "    <tr>\n",
       "      <th>0</th>\n",
       "      <td>1.687756e+09</td>\n",
       "      <td>1673194575509303296</td>\n",
       "      <td>@wembi_steve @MartinFayulu Lumumba ,Kabila et ...</td>\n",
       "    </tr>\n",
       "    <tr>\n",
       "      <th>1</th>\n",
       "      <td>1.687756e+09</td>\n",
       "      <td>1673194514092023809</td>\n",
       "      <td>RT @radiookapi: RDC : Jules Alingete invite le...</td>\n",
       "    </tr>\n",
       "    <tr>\n",
       "      <th>2</th>\n",
       "      <td>1.687756e+09</td>\n",
       "      <td>1673194509293715456</td>\n",
       "      <td>RT @StanysBujakera: #RDC: « Il y a aucune déri...</td>\n",
       "    </tr>\n",
       "    <tr>\n",
       "      <th>3</th>\n",
       "      <td>1.687756e+09</td>\n",
       "      <td>1673194485998649346</td>\n",
       "      <td>@jkmuhwezi @UPDFspokespersn Under what law did...</td>\n",
       "    </tr>\n",
       "    <tr>\n",
       "      <th>4</th>\n",
       "      <td>1.687756e+09</td>\n",
       "      <td>1673194447138422786</td>\n",
       "      <td>RT @PatrickMuyaya: #RDC : Ils ont tous moins d...</td>\n",
       "    </tr>\n",
       "  </tbody>\n",
       "</table>\n",
       "</div>"
      ],
      "text/plain": [
       "     created_at                   id  \\\n",
       "0  1.687756e+09  1673194575509303296   \n",
       "1  1.687756e+09  1673194514092023809   \n",
       "2  1.687756e+09  1673194509293715456   \n",
       "3  1.687756e+09  1673194485998649346   \n",
       "4  1.687756e+09  1673194447138422786   \n",
       "\n",
       "                                                text  \n",
       "0  @wembi_steve @MartinFayulu Lumumba ,Kabila et ...  \n",
       "1  RT @radiookapi: RDC : Jules Alingete invite le...  \n",
       "2  RT @StanysBujakera: #RDC: « Il y a aucune déri...  \n",
       "3  @jkmuhwezi @UPDFspokespersn Under what law did...  \n",
       "4  RT @PatrickMuyaya: #RDC : Ils ont tous moins d...  "
      ]
     },
     "execution_count": 11,
     "metadata": {},
     "output_type": "execute_result"
    }
   ],
   "source": [
    "full_tweets.head()"
   ]
  },
  {
   "attachments": {},
   "cell_type": "markdown",
   "metadata": {},
   "source": [
    "The tweets are not cleanned proprely, before continuing we need to find a better way to clean to clean the tweets before passing it to the bert model, the best option will be to use the little preprocessing because the tweet are being passed to a bert model."
   ]
  },
  {
   "cell_type": "code",
   "execution_count": 12,
   "metadata": {},
   "outputs": [
    {
     "data": {
      "text/plain": [
       "'#RDC🇨🇩: le pays compte mtnant sur la SADC \"Ns sommes ds la  phase de renforcer nos relations au niveau régional ave… https://t.co/UFjAgx7pxz'"
      ]
     },
     "execution_count": 12,
     "metadata": {},
     "output_type": "execute_result"
    }
   ],
   "source": [
    "full_tweets.loc[2657985, 'text']"
   ]
  },
  {
   "attachments": {},
   "cell_type": "markdown",
   "metadata": {},
   "source": [
    "### Cleaning the tweets"
   ]
  },
  {
   "attachments": {},
   "cell_type": "markdown",
   "metadata": {},
   "source": [
    "For the normalization, since we are using a language model, we will adopt some basics normalization techniques which evolves removing emojis, replacing URL by URL  and USER mentions by @user. Next we will use the BERT model to tokenize the tweets."
   ]
  },
  {
   "cell_type": "code",
   "execution_count": 13,
   "metadata": {},
   "outputs": [],
   "source": [
    "from emoji import demojize\n",
    "from nltk.tokenize import TweetTokenizer\n",
    "\n",
    "\n",
    "tokenizer = TweetTokenizer()\n",
    "\n",
    "\n",
    "def normalize_token(token):\n",
    "    lowercased_token = token.lower()\n",
    "    if token.startswith(\"@\"):\n",
    "        return \"@USER\"\n",
    "    elif lowercased_token.startswith(\"http\") or lowercased_token.startswith(\"www\"):\n",
    "        return \"HTTPURL\"\n",
    "    elif len(token) == 1:\n",
    "        return demojize(token)\n",
    "    else:\n",
    "        if token == \"’\":\n",
    "            return \"'\"\n",
    "        elif token == \"…\":\n",
    "            return \"...\"\n",
    "        else:\n",
    "            return token\n",
    "\n",
    "\n",
    "def normalize_tweet(tweet):\n",
    "    tokens = tokenizer.tokenize(tweet.replace(\"’\", \"'\").replace(\"…\", \"...\"))\n",
    "    normalized_tweets = \" \".join([normalize_token(token) for token in tokens])\n",
    "\n",
    "    normalized_tweets = (\n",
    "        normalized_tweets.replace(\"cannot \", \"can not \")\n",
    "        .replace(\"n't \", \" n't \")\n",
    "        .replace(\"n 't \", \" n't \")\n",
    "        .replace(\"ca n't\", \"can't\")\n",
    "        .replace(\"ai n't\", \"ain't\")\n",
    "    )\n",
    "    normalized_tweets = (\n",
    "        normalized_tweets.replace(\"'m \", \" 'm \")\n",
    "        .replace(\"'re \", \" 're \")\n",
    "        .replace(\"'s \", \" 's \")\n",
    "        .replace(\"'ll \", \" 'll \")\n",
    "        .replace(\"'d \", \" 'd \")\n",
    "        .replace(\"'ve \", \" 've \")\n",
    "    )\n",
    "    normalized_tweets = (\n",
    "        normalized_tweets.replace(\" p . m .\", \"  p.m.\")\n",
    "        .replace(\" p . m \", \" p.m \")\n",
    "        .replace(\" a . m .\", \" a.m.\")\n",
    "        .replace(\" a . m \", \" a.m \")\n",
    "    )\n",
    "    normalized_tweets = (normalized_tweets\n",
    "                         .lower()\n",
    "                         .replace(\"drc\", \"\")\n",
    "                         .replace(\"rdc\", \"\")\n",
    "                         .replace(\"rdcongo\", \"\")\n",
    "                        .replace(\"drcongo\", \"\"))\n",
    "\n",
    "    return \" \".join(normalized_tweets.split())"
   ]
  },
  {
   "cell_type": "code",
   "execution_count": 14,
   "metadata": {},
   "outputs": [
    {
     "data": {
      "text/plain": [
       "'rt @user : # : #kinshasa . recrudescence du phénomène kuluna à kitambo hôpital . httpurl'"
      ]
     },
     "execution_count": 14,
     "metadata": {},
     "output_type": "execute_result"
    }
   ],
   "source": [
    "normalize_tweet(full_tweets.loc[2657986, 'text'])"
   ]
  },
  {
   "cell_type": "code",
   "execution_count": 15,
   "metadata": {},
   "outputs": [
    {
     "data": {
      "text/plain": [
       "'RT @ebalemozindo: #RDC: #KINSHASA. \\nRecrudescence du phénomène Kuluna à  Kitambo Hôpital. https://t.co/e0A5bnXkLJ'"
      ]
     },
     "execution_count": 15,
     "metadata": {},
     "output_type": "execute_result"
    }
   ],
   "source": [
    "full_tweets.loc[2657986, 'text']"
   ]
  },
  {
   "attachments": {},
   "cell_type": "markdown",
   "metadata": {},
   "source": [
    "### Encoding.\n",
    "\n",
    "To learn the vector representation of our tweets we will be using the BERT model, but instead of using the main bert model, we will be using the bert model that was trained on a corpus of french tweets since most of our target tweets are from French. `Yanzhu/bertweetfr-base`. is the model we will be using."
   ]
  },
  {
   "cell_type": "code",
   "execution_count": 16,
   "metadata": {},
   "outputs": [],
   "source": [
    "from sentence_transformers import SentenceTransformer"
   ]
  },
  {
   "cell_type": "code",
   "execution_count": 17,
   "metadata": {},
   "outputs": [
    {
     "name": "stderr",
     "output_type": "stream",
     "text": [
      "No sentence-transformers model found with name /Users/esp.py/.cache/torch/sentence_transformers/Yanzhu_bertweetfr-base. Creating a new one with MEAN pooling.\n",
      "Some weights of the model checkpoint at /Users/esp.py/.cache/torch/sentence_transformers/Yanzhu_bertweetfr-base were not used when initializing CamembertModel: ['lm_head.decoder.bias', 'lm_head.decoder.weight', 'lm_head.dense.weight', 'lm_head.bias', 'lm_head.layer_norm.bias', 'lm_head.layer_norm.weight', 'lm_head.dense.bias']\n",
      "- This IS expected if you are initializing CamembertModel from the checkpoint of a model trained on another task or with another architecture (e.g. initializing a BertForSequenceClassification model from a BertForPreTraining model).\n",
      "- This IS NOT expected if you are initializing CamembertModel from the checkpoint of a model that you expect to be exactly identical (initializing a BertForSequenceClassification model from a BertForSequenceClassification model).\n",
      "Some weights of CamembertModel were not initialized from the model checkpoint at /Users/esp.py/.cache/torch/sentence_transformers/Yanzhu_bertweetfr-base and are newly initialized: ['roberta.pooler.dense.bias', 'roberta.pooler.dense.weight']\n",
      "You should probably TRAIN this model on a down-stream task to be able to use it for predictions and inference.\n"
     ]
    }
   ],
   "source": [
    "model = SentenceTransformer('Yanzhu/bertweetfr-base')"
   ]
  },
  {
   "attachments": {},
   "cell_type": "markdown",
   "metadata": {},
   "source": []
  },
  {
   "cell_type": "code",
   "execution_count": 68,
   "metadata": {},
   "outputs": [],
   "source": [
    "full_tweets['created_at'] = pd.to_datetime(full_tweets['created_at'], unit='s')"
   ]
  },
  {
   "cell_type": "code",
   "execution_count": 79,
   "metadata": {},
   "outputs": [],
   "source": [
    "### collecting tweets from the max day in the dataframe\n",
    "from datetime import datetime, timedelta\n",
    "\n",
    "last_day_tweets = full_tweets[full_tweets.created_at.dt.date == (full_tweets.created_at.dt.date.max())]\n"
   ]
  },
  {
   "cell_type": "code",
   "execution_count": 81,
   "metadata": {},
   "outputs": [
    {
     "data": {
      "text/plain": [
       "(1547, 3)"
      ]
     },
     "execution_count": 81,
     "metadata": {},
     "output_type": "execute_result"
    }
   ],
   "source": [
    "last_day_tweets.shape"
   ]
  },
  {
   "cell_type": "code",
   "execution_count": 82,
   "metadata": {},
   "outputs": [
    {
     "name": "stderr",
     "output_type": "stream",
     "text": [
      "/var/folders/ds/0g69mdw97cq_0bt80x0f_s240000gn/T/ipykernel_10563/3118379516.py:1: SettingWithCopyWarning: \n",
      "A value is trying to be set on a copy of a slice from a DataFrame.\n",
      "Try using .loc[row_indexer,col_indexer] = value instead\n",
      "\n",
      "See the caveats in the documentation: https://pandas.pydata.org/pandas-docs/stable/user_guide/indexing.html#returning-a-view-versus-a-copy\n",
      "  last_day_tweets['cleaned_text'] = last_day_tweets['text'].apply(normalize_tweet)\n"
     ]
    }
   ],
   "source": [
    "last_day_tweets['cleaned_text'] = last_day_tweets['text'].apply(normalize_tweet)"
   ]
  },
  {
   "cell_type": "code",
   "execution_count": 83,
   "metadata": {},
   "outputs": [
    {
     "data": {
      "text/html": [
       "<div>\n",
       "<style scoped>\n",
       "    .dataframe tbody tr th:only-of-type {\n",
       "        vertical-align: middle;\n",
       "    }\n",
       "\n",
       "    .dataframe tbody tr th {\n",
       "        vertical-align: top;\n",
       "    }\n",
       "\n",
       "    .dataframe thead th {\n",
       "        text-align: right;\n",
       "    }\n",
       "</style>\n",
       "<table border=\"1\" class=\"dataframe\">\n",
       "  <thead>\n",
       "    <tr style=\"text-align: right;\">\n",
       "      <th></th>\n",
       "      <th>created_at</th>\n",
       "      <th>id</th>\n",
       "      <th>text</th>\n",
       "      <th>cleaned_text</th>\n",
       "    </tr>\n",
       "  </thead>\n",
       "  <tbody>\n",
       "    <tr>\n",
       "      <th>0</th>\n",
       "      <td>2023-06-26 05:00:47</td>\n",
       "      <td>1673194575509303296</td>\n",
       "      <td>@wembi_steve @MartinFayulu Lumumba ,Kabila et ...</td>\n",
       "      <td>@USER @USER Lumumba , Kabila et Simon kimbangu...</td>\n",
       "    </tr>\n",
       "    <tr>\n",
       "      <th>1</th>\n",
       "      <td>2023-06-26 05:00:33</td>\n",
       "      <td>1673194514092023809</td>\n",
       "      <td>RT @radiookapi: RDC : Jules Alingete invite le...</td>\n",
       "      <td>RT @USER : RDC : Jules Alingete invite les Con...</td>\n",
       "    </tr>\n",
       "    <tr>\n",
       "      <th>2</th>\n",
       "      <td>2023-06-26 05:00:32</td>\n",
       "      <td>1673194509293715456</td>\n",
       "      <td>RT @StanysBujakera: #RDC: « Il y a aucune déri...</td>\n",
       "      <td>RT @USER : #RDC : « Il y a aucune dérive autor...</td>\n",
       "    </tr>\n",
       "    <tr>\n",
       "      <th>3</th>\n",
       "      <td>2023-06-26 05:00:26</td>\n",
       "      <td>1673194485998649346</td>\n",
       "      <td>@jkmuhwezi @UPDFspokespersn Under what law did...</td>\n",
       "      <td>@USER @USER Under what law did you chair that ...</td>\n",
       "    </tr>\n",
       "    <tr>\n",
       "      <th>4</th>\n",
       "      <td>2023-06-26 05:00:17</td>\n",
       "      <td>1673194447138422786</td>\n",
       "      <td>RT @PatrickMuyaya: #RDC : Ils ont tous moins d...</td>\n",
       "      <td>RT @USER : #RDC : Ils ont tous moins de 35 ans...</td>\n",
       "    </tr>\n",
       "    <tr>\n",
       "      <th>...</th>\n",
       "      <td>...</td>\n",
       "      <td>...</td>\n",
       "      <td>...</td>\n",
       "      <td>...</td>\n",
       "    </tr>\n",
       "    <tr>\n",
       "      <th>1542</th>\n",
       "      <td>2023-06-26 00:00:30</td>\n",
       "      <td>1673119005521879040</td>\n",
       "      <td>RT @Presidence_RDC: #RDC 25.06.2023|#MbujiMayi...</td>\n",
       "      <td>RT @USER : #RDC 25.06 . 2023 | #MbujiMayi Voic...</td>\n",
       "    </tr>\n",
       "    <tr>\n",
       "      <th>1543</th>\n",
       "      <td>2023-06-26 00:00:30</td>\n",
       "      <td>1673119005488340995</td>\n",
       "      <td>RT @Presidence_RDC: #RDC 25.06.2023|#MbujiMayi...</td>\n",
       "      <td>RT @USER : #RDC 25.06 . 2023 | #MbujiMayi Voic...</td>\n",
       "    </tr>\n",
       "    <tr>\n",
       "      <th>1544</th>\n",
       "      <td>2023-06-26 00:00:28</td>\n",
       "      <td>1673118998022569984</td>\n",
       "      <td>RT @Presidence_RDC: #RDC 25.06.2023|#MbujiMayi...</td>\n",
       "      <td>RT @USER : #RDC 25.06 . 2023 | #MbujiMayi Voic...</td>\n",
       "    </tr>\n",
       "    <tr>\n",
       "      <th>1545</th>\n",
       "      <td>2023-06-26 00:00:21</td>\n",
       "      <td>1673118966099726336</td>\n",
       "      <td>@Gaston_Ndjulu @BenitaNtumba @Alix_rdc @August...</td>\n",
       "      <td>@USER @USER @USER @USER @USER @USER L'église a...</td>\n",
       "    </tr>\n",
       "    <tr>\n",
       "      <th>1546</th>\n",
       "      <td>2023-06-26 00:00:07</td>\n",
       "      <td>1673118908910563328</td>\n",
       "      <td>RT @michombero: #RDC🇨🇩: « quand nous sommes ar...</td>\n",
       "      <td>RT @USER : #RDC :regional_indicator_symbol_let...</td>\n",
       "    </tr>\n",
       "  </tbody>\n",
       "</table>\n",
       "<p>1547 rows × 4 columns</p>\n",
       "</div>"
      ],
      "text/plain": [
       "              created_at                   id  \\\n",
       "0    2023-06-26 05:00:47  1673194575509303296   \n",
       "1    2023-06-26 05:00:33  1673194514092023809   \n",
       "2    2023-06-26 05:00:32  1673194509293715456   \n",
       "3    2023-06-26 05:00:26  1673194485998649346   \n",
       "4    2023-06-26 05:00:17  1673194447138422786   \n",
       "...                  ...                  ...   \n",
       "1542 2023-06-26 00:00:30  1673119005521879040   \n",
       "1543 2023-06-26 00:00:30  1673119005488340995   \n",
       "1544 2023-06-26 00:00:28  1673118998022569984   \n",
       "1545 2023-06-26 00:00:21  1673118966099726336   \n",
       "1546 2023-06-26 00:00:07  1673118908910563328   \n",
       "\n",
       "                                                   text  \\\n",
       "0     @wembi_steve @MartinFayulu Lumumba ,Kabila et ...   \n",
       "1     RT @radiookapi: RDC : Jules Alingete invite le...   \n",
       "2     RT @StanysBujakera: #RDC: « Il y a aucune déri...   \n",
       "3     @jkmuhwezi @UPDFspokespersn Under what law did...   \n",
       "4     RT @PatrickMuyaya: #RDC : Ils ont tous moins d...   \n",
       "...                                                 ...   \n",
       "1542  RT @Presidence_RDC: #RDC 25.06.2023|#MbujiMayi...   \n",
       "1543  RT @Presidence_RDC: #RDC 25.06.2023|#MbujiMayi...   \n",
       "1544  RT @Presidence_RDC: #RDC 25.06.2023|#MbujiMayi...   \n",
       "1545  @Gaston_Ndjulu @BenitaNtumba @Alix_rdc @August...   \n",
       "1546  RT @michombero: #RDC🇨🇩: « quand nous sommes ar...   \n",
       "\n",
       "                                           cleaned_text  \n",
       "0     @USER @USER Lumumba , Kabila et Simon kimbangu...  \n",
       "1     RT @USER : RDC : Jules Alingete invite les Con...  \n",
       "2     RT @USER : #RDC : « Il y a aucune dérive autor...  \n",
       "3     @USER @USER Under what law did you chair that ...  \n",
       "4     RT @USER : #RDC : Ils ont tous moins de 35 ans...  \n",
       "...                                                 ...  \n",
       "1542  RT @USER : #RDC 25.06 . 2023 | #MbujiMayi Voic...  \n",
       "1543  RT @USER : #RDC 25.06 . 2023 | #MbujiMayi Voic...  \n",
       "1544  RT @USER : #RDC 25.06 . 2023 | #MbujiMayi Voic...  \n",
       "1545  @USER @USER @USER @USER @USER @USER L'église a...  \n",
       "1546  RT @USER : #RDC :regional_indicator_symbol_let...  \n",
       "\n",
       "[1547 rows x 4 columns]"
      ]
     },
     "execution_count": 83,
     "metadata": {},
     "output_type": "execute_result"
    }
   ],
   "source": [
    "last_day_tweets"
   ]
  },
  {
   "cell_type": "code",
   "execution_count": 84,
   "metadata": {},
   "outputs": [
    {
     "data": {
      "application/vnd.jupyter.widget-view+json": {
       "model_id": "0447d1687f534a2d85733f664d3d7905",
       "version_major": 2,
       "version_minor": 0
      },
      "text/plain": [
       "Batches:   0%|          | 0/49 [00:00<?, ?it/s]"
      ]
     },
     "metadata": {},
     "output_type": "display_data"
    }
   ],
   "source": [
    "today_tweets_embeddings = model.encode(last_day_tweets['cleaned_text'], show_progress_bar=True)"
   ]
  },
  {
   "cell_type": "code",
   "execution_count": 85,
   "metadata": {},
   "outputs": [
    {
     "data": {
      "text/plain": [
       "(1547, 768)"
      ]
     },
     "execution_count": 85,
     "metadata": {},
     "output_type": "execute_result"
    }
   ],
   "source": [
    "today_tweets_embeddings.shape"
   ]
  },
  {
   "attachments": {},
   "cell_type": "markdown",
   "metadata": {},
   "source": [
    "with the encoding done, we can move to the next step which is the clustering."
   ]
  },
  {
   "attachments": {},
   "cell_type": "markdown",
   "metadata": {},
   "source": [
    "Before applying the clustering, we will use the umap-learn algorithm."
   ]
  },
  {
   "cell_type": "code",
   "execution_count": 93,
   "metadata": {},
   "outputs": [],
   "source": [
    "import umap\n",
    "umap_embeddings = umap.UMAP(n_neighbors=15, \n",
    "                            n_components=10, \n",
    "                            metric='cosine').fit_transform(today_tweets_embeddings)"
   ]
  },
  {
   "cell_type": "code",
   "execution_count": 92,
   "metadata": {},
   "outputs": [
    {
     "data": {
      "text/plain": [
       "(1547, 5)"
      ]
     },
     "execution_count": 92,
     "metadata": {},
     "output_type": "execute_result"
    }
   ],
   "source": [
    "umap_embeddings.shape"
   ]
  },
  {
   "attachments": {},
   "cell_type": "markdown",
   "metadata": {},
   "source": [
    "We used umap dimensionality reduction algorithm to reduce the dimension of our data to 5 this will help us to visualize the data."
   ]
  },
  {
   "cell_type": "code",
   "execution_count": 99,
   "metadata": {},
   "outputs": [],
   "source": [
    "import hdbscan\n",
    "cluster = hdbscan.HDBSCAN(min_cluster_size=5,\n",
    "                          metric='euclidean',                      \n",
    "                          cluster_selection_method='eom').fit(umap_embeddings)"
   ]
  },
  {
   "attachments": {},
   "cell_type": "markdown",
   "metadata": {},
   "source": []
  },
  {
   "cell_type": "code",
   "execution_count": 100,
   "metadata": {},
   "outputs": [
    {
     "data": {
      "text/html": [
       "<style>#sk-container-id-2 {color: black;background-color: white;}#sk-container-id-2 pre{padding: 0;}#sk-container-id-2 div.sk-toggleable {background-color: white;}#sk-container-id-2 label.sk-toggleable__label {cursor: pointer;display: block;width: 100%;margin-bottom: 0;padding: 0.3em;box-sizing: border-box;text-align: center;}#sk-container-id-2 label.sk-toggleable__label-arrow:before {content: \"▸\";float: left;margin-right: 0.25em;color: #696969;}#sk-container-id-2 label.sk-toggleable__label-arrow:hover:before {color: black;}#sk-container-id-2 div.sk-estimator:hover label.sk-toggleable__label-arrow:before {color: black;}#sk-container-id-2 div.sk-toggleable__content {max-height: 0;max-width: 0;overflow: hidden;text-align: left;background-color: #f0f8ff;}#sk-container-id-2 div.sk-toggleable__content pre {margin: 0.2em;color: black;border-radius: 0.25em;background-color: #f0f8ff;}#sk-container-id-2 input.sk-toggleable__control:checked~div.sk-toggleable__content {max-height: 200px;max-width: 100%;overflow: auto;}#sk-container-id-2 input.sk-toggleable__control:checked~label.sk-toggleable__label-arrow:before {content: \"▾\";}#sk-container-id-2 div.sk-estimator input.sk-toggleable__control:checked~label.sk-toggleable__label {background-color: #d4ebff;}#sk-container-id-2 div.sk-label input.sk-toggleable__control:checked~label.sk-toggleable__label {background-color: #d4ebff;}#sk-container-id-2 input.sk-hidden--visually {border: 0;clip: rect(1px 1px 1px 1px);clip: rect(1px, 1px, 1px, 1px);height: 1px;margin: -1px;overflow: hidden;padding: 0;position: absolute;width: 1px;}#sk-container-id-2 div.sk-estimator {font-family: monospace;background-color: #f0f8ff;border: 1px dotted black;border-radius: 0.25em;box-sizing: border-box;margin-bottom: 0.5em;}#sk-container-id-2 div.sk-estimator:hover {background-color: #d4ebff;}#sk-container-id-2 div.sk-parallel-item::after {content: \"\";width: 100%;border-bottom: 1px solid gray;flex-grow: 1;}#sk-container-id-2 div.sk-label:hover label.sk-toggleable__label {background-color: #d4ebff;}#sk-container-id-2 div.sk-serial::before {content: \"\";position: absolute;border-left: 1px solid gray;box-sizing: border-box;top: 0;bottom: 0;left: 50%;z-index: 0;}#sk-container-id-2 div.sk-serial {display: flex;flex-direction: column;align-items: center;background-color: white;padding-right: 0.2em;padding-left: 0.2em;position: relative;}#sk-container-id-2 div.sk-item {position: relative;z-index: 1;}#sk-container-id-2 div.sk-parallel {display: flex;align-items: stretch;justify-content: center;background-color: white;position: relative;}#sk-container-id-2 div.sk-item::before, #sk-container-id-2 div.sk-parallel-item::before {content: \"\";position: absolute;border-left: 1px solid gray;box-sizing: border-box;top: 0;bottom: 0;left: 50%;z-index: -1;}#sk-container-id-2 div.sk-parallel-item {display: flex;flex-direction: column;z-index: 1;position: relative;background-color: white;}#sk-container-id-2 div.sk-parallel-item:first-child::after {align-self: flex-end;width: 50%;}#sk-container-id-2 div.sk-parallel-item:last-child::after {align-self: flex-start;width: 50%;}#sk-container-id-2 div.sk-parallel-item:only-child::after {width: 0;}#sk-container-id-2 div.sk-dashed-wrapped {border: 1px dashed gray;margin: 0 0.4em 0.5em 0.4em;box-sizing: border-box;padding-bottom: 0.4em;background-color: white;}#sk-container-id-2 div.sk-label label {font-family: monospace;font-weight: bold;display: inline-block;line-height: 1.2em;}#sk-container-id-2 div.sk-label-container {text-align: center;}#sk-container-id-2 div.sk-container {/* jupyter's `normalize.less` sets `[hidden] { display: none; }` but bootstrap.min.css set `[hidden] { display: none !important; }` so we also need the `!important` here to be able to override the default hidden behavior on the sphinx rendered scikit-learn.org. See: https://github.com/scikit-learn/scikit-learn/issues/21755 */display: inline-block !important;position: relative;}#sk-container-id-2 div.sk-text-repr-fallback {display: none;}</style><div id=\"sk-container-id-2\" class=\"sk-top-container\"><div class=\"sk-text-repr-fallback\"><pre>HDBSCAN()</pre><b>In a Jupyter environment, please rerun this cell to show the HTML representation or trust the notebook. <br />On GitHub, the HTML representation is unable to render, please try loading this page with nbviewer.org.</b></div><div class=\"sk-container\" hidden><div class=\"sk-item\"><div class=\"sk-estimator sk-toggleable\"><input class=\"sk-toggleable__control sk-hidden--visually\" id=\"sk-estimator-id-2\" type=\"checkbox\" checked><label for=\"sk-estimator-id-2\" class=\"sk-toggleable__label sk-toggleable__label-arrow\">HDBSCAN</label><div class=\"sk-toggleable__content\"><pre>HDBSCAN()</pre></div></div></div></div></div>"
      ],
      "text/plain": [
       "HDBSCAN()"
      ]
     },
     "execution_count": 100,
     "metadata": {},
     "output_type": "execute_result"
    }
   ],
   "source": [
    "cluster"
   ]
  },
  {
   "cell_type": "code",
   "execution_count": 102,
   "metadata": {},
   "outputs": [
    {
     "data": {
      "text/plain": [
       "<matplotlib.colorbar.Colorbar at 0x362f13640>"
      ]
     },
     "execution_count": 102,
     "metadata": {},
     "output_type": "execute_result"
    },
    {
     "data": {
      "image/png": "[encoded data removed]",
      "text/plain": [
       "<Figure size 1000x500 with 2 Axes>"
      ]
     },
     "metadata": {},
     "output_type": "display_data"
    }
   ],
   "source": [
    "import matplotlib.pyplot as plt\n",
    "\n",
    "# Prepare data\n",
    "umap_data = umap.UMAP(n_neighbors=15, n_components=2, min_dist=0.0, metric='cosine').fit_transform(umap_embeddings)\n",
    "result = pd.DataFrame(umap_data, columns=['x', 'y'])\n",
    "result['labels'] = cluster.labels_\n",
    "\n",
    "# Visualize clusters\n",
    "fig, ax = plt.subplots(figsize=(10, 5))\n",
    "outliers = result.loc[result.labels == -1, :]\n",
    "clustered = result.loc[result.labels != -1, :]\n",
    "plt.scatter(outliers.x, outliers.y, color='#BDBDBD', s=0.05)\n",
    "plt.scatter(clustered.x, clustered.y, c=clustered.labels, s=0.05, cmap='hsv_r')\n",
    "plt.colorbar()"
   ]
  },
  {
   "cell_type": "code",
   "execution_count": 103,
   "metadata": {},
   "outputs": [
    {
     "data": {
      "text/html": [
       "<div>\n",
       "<style scoped>\n",
       "    .dataframe tbody tr th:only-of-type {\n",
       "        vertical-align: middle;\n",
       "    }\n",
       "\n",
       "    .dataframe tbody tr th {\n",
       "        vertical-align: top;\n",
       "    }\n",
       "\n",
       "    .dataframe thead th {\n",
       "        text-align: right;\n",
       "    }\n",
       "</style>\n",
       "<table border=\"1\" class=\"dataframe\">\n",
       "  <thead>\n",
       "    <tr style=\"text-align: right;\">\n",
       "      <th></th>\n",
       "      <th>x</th>\n",
       "      <th>y</th>\n",
       "      <th>labels</th>\n",
       "    </tr>\n",
       "  </thead>\n",
       "  <tbody>\n",
       "    <tr>\n",
       "      <th>0</th>\n",
       "      <td>-1.104626</td>\n",
       "      <td>0.426130</td>\n",
       "      <td>66</td>\n",
       "    </tr>\n",
       "    <tr>\n",
       "      <th>1</th>\n",
       "      <td>-7.443626</td>\n",
       "      <td>1.891957</td>\n",
       "      <td>58</td>\n",
       "    </tr>\n",
       "    <tr>\n",
       "      <th>2</th>\n",
       "      <td>5.863286</td>\n",
       "      <td>-9.352063</td>\n",
       "      <td>44</td>\n",
       "    </tr>\n",
       "    <tr>\n",
       "      <th>3</th>\n",
       "      <td>10.017583</td>\n",
       "      <td>19.110346</td>\n",
       "      <td>53</td>\n",
       "    </tr>\n",
       "    <tr>\n",
       "      <th>4</th>\n",
       "      <td>-2.217064</td>\n",
       "      <td>-4.357670</td>\n",
       "      <td>67</td>\n",
       "    </tr>\n",
       "    <tr>\n",
       "      <th>...</th>\n",
       "      <td>...</td>\n",
       "      <td>...</td>\n",
       "      <td>...</td>\n",
       "    </tr>\n",
       "    <tr>\n",
       "      <th>1542</th>\n",
       "      <td>-9.566066</td>\n",
       "      <td>14.233283</td>\n",
       "      <td>11</td>\n",
       "    </tr>\n",
       "    <tr>\n",
       "      <th>1543</th>\n",
       "      <td>-9.566220</td>\n",
       "      <td>14.231546</td>\n",
       "      <td>11</td>\n",
       "    </tr>\n",
       "    <tr>\n",
       "      <th>1544</th>\n",
       "      <td>-9.545110</td>\n",
       "      <td>14.218253</td>\n",
       "      <td>11</td>\n",
       "    </tr>\n",
       "    <tr>\n",
       "      <th>1545</th>\n",
       "      <td>-6.505422</td>\n",
       "      <td>-1.636243</td>\n",
       "      <td>71</td>\n",
       "    </tr>\n",
       "    <tr>\n",
       "      <th>1546</th>\n",
       "      <td>5.461649</td>\n",
       "      <td>9.591083</td>\n",
       "      <td>31</td>\n",
       "    </tr>\n",
       "  </tbody>\n",
       "</table>\n",
       "<p>1547 rows × 3 columns</p>\n",
       "</div>"
      ],
      "text/plain": [
       "              x          y  labels\n",
       "0     -1.104626   0.426130      66\n",
       "1     -7.443626   1.891957      58\n",
       "2      5.863286  -9.352063      44\n",
       "3     10.017583  19.110346      53\n",
       "4     -2.217064  -4.357670      67\n",
       "...         ...        ...     ...\n",
       "1542  -9.566066  14.233283      11\n",
       "1543  -9.566220  14.231546      11\n",
       "1544  -9.545110  14.218253      11\n",
       "1545  -6.505422  -1.636243      71\n",
       "1546   5.461649   9.591083      31\n",
       "\n",
       "[1547 rows x 3 columns]"
      ]
     },
     "execution_count": 103,
     "metadata": {},
     "output_type": "execute_result"
    }
   ],
   "source": [
    "result"
   ]
  },
  {
   "cell_type": "code",
   "execution_count": 105,
   "metadata": {},
   "outputs": [],
   "source": [
    "docs_df = pd.DataFrame(last_day_tweets, columns=[\"cleaned_text\"])\n",
    "docs_df['Topic'] = cluster.labels_\n",
    "docs_df['Doc_ID'] = range(len(docs_df))\n",
    "docs_per_topic = docs_df.groupby(['Topic'], as_index = False).agg({'cleaned_text': ' '.join})"
   ]
  },
  {
   "cell_type": "code",
   "execution_count": 106,
   "metadata": {},
   "outputs": [
    {
     "data": {
      "text/html": [
       "<div>\n",
       "<style scoped>\n",
       "    .dataframe tbody tr th:only-of-type {\n",
       "        vertical-align: middle;\n",
       "    }\n",
       "\n",
       "    .dataframe tbody tr th {\n",
       "        vertical-align: top;\n",
       "    }\n",
       "\n",
       "    .dataframe thead th {\n",
       "        text-align: right;\n",
       "    }\n",
       "</style>\n",
       "<table border=\"1\" class=\"dataframe\">\n",
       "  <thead>\n",
       "    <tr style=\"text-align: right;\">\n",
       "      <th></th>\n",
       "      <th>Topic</th>\n",
       "      <th>cleaned_text</th>\n",
       "    </tr>\n",
       "  </thead>\n",
       "  <tbody>\n",
       "    <tr>\n",
       "      <th>0</th>\n",
       "      <td>-1</td>\n",
       "      <td>RT @USER : La lutte contre les antivaleurs dan...</td>\n",
       "    </tr>\n",
       "    <tr>\n",
       "      <th>1</th>\n",
       "      <td>0</td>\n",
       "      <td>RT @USER : :police_car_light: NEW AIRDROP ALER...</td>\n",
       "    </tr>\n",
       "    <tr>\n",
       "      <th>2</th>\n",
       "      <td>1</td>\n",
       "      <td>RT @USER : @USER @USER @USER @USER @USER @USER...</td>\n",
       "    </tr>\n",
       "    <tr>\n",
       "      <th>3</th>\n",
       "      <td>2</td>\n",
       "      <td>@USER @USER @USER @USER @USER @USER @USER @USE...</td>\n",
       "    </tr>\n",
       "    <tr>\n",
       "      <th>4</th>\n",
       "      <td>3</td>\n",
       "      <td>RT @USER : :police_car_light: NEW AIRDROP ALER...</td>\n",
       "    </tr>\n",
       "    <tr>\n",
       "      <th>...</th>\n",
       "      <td>...</td>\n",
       "      <td>...</td>\n",
       "    </tr>\n",
       "    <tr>\n",
       "      <th>74</th>\n",
       "      <td>73</td>\n",
       "      <td>@USER @USER Ce n'est pas moi l'auteur de la ph...</td>\n",
       "    </tr>\n",
       "    <tr>\n",
       "      <th>75</th>\n",
       "      <td>74</td>\n",
       "      <td>RT @USER : #RDC Qu'on se disent la vérité . Pl...</td>\n",
       "    </tr>\n",
       "    <tr>\n",
       "      <th>76</th>\n",
       "      <td>75</td>\n",
       "      <td>@USER @USER On est concerné mais , cela nous c...</td>\n",
       "    </tr>\n",
       "    <tr>\n",
       "      <th>77</th>\n",
       "      <td>76</td>\n",
       "      <td>@USER Il est trop émotifs et sentimentale , un...</td>\n",
       "    </tr>\n",
       "    <tr>\n",
       "      <th>78</th>\n",
       "      <td>77</td>\n",
       "      <td>@USER @USER La RDC n'est pas non plus une prop...</td>\n",
       "    </tr>\n",
       "  </tbody>\n",
       "</table>\n",
       "<p>79 rows × 2 columns</p>\n",
       "</div>"
      ],
      "text/plain": [
       "    Topic                                       cleaned_text\n",
       "0      -1  RT @USER : La lutte contre les antivaleurs dan...\n",
       "1       0  RT @USER : :police_car_light: NEW AIRDROP ALER...\n",
       "2       1  RT @USER : @USER @USER @USER @USER @USER @USER...\n",
       "3       2  @USER @USER @USER @USER @USER @USER @USER @USE...\n",
       "4       3  RT @USER : :police_car_light: NEW AIRDROP ALER...\n",
       "..    ...                                                ...\n",
       "74     73  @USER @USER Ce n'est pas moi l'auteur de la ph...\n",
       "75     74  RT @USER : #RDC Qu'on se disent la vérité . Pl...\n",
       "76     75  @USER @USER On est concerné mais , cela nous c...\n",
       "77     76  @USER Il est trop émotifs et sentimentale , un...\n",
       "78     77  @USER @USER La RDC n'est pas non plus une prop...\n",
       "\n",
       "[79 rows x 2 columns]"
      ]
     },
     "execution_count": 106,
     "metadata": {},
     "output_type": "execute_result"
    }
   ],
   "source": [
    "docs_per_topic"
   ]
  },
  {
   "cell_type": "code",
   "execution_count": 109,
   "metadata": {},
   "outputs": [],
   "source": [
    "import numpy as np\n",
    "from sklearn.feature_extraction.text import CountVectorizer\n",
    "\n",
    "def c_tf_idf(documents, m, ngram_range=(1, 1)):\n",
    "    count = CountVectorizer(ngram_range=ngram_range, stop_words=\"english\").fit(documents)\n",
    "    t = count.transform(documents).toarray()\n",
    "    w = t.sum(axis=1)\n",
    "    tf = np.divide(t.T, w)\n",
    "    sum_t = t.sum(axis=0)\n",
    "    idf = np.log(np.divide(m, sum_t)).reshape(-1, 1)\n",
    "    tf_idf = np.multiply(tf, idf)\n",
    "\n",
    "    return tf_idf, count\n",
    "  \n",
    "tf_idf, count = c_tf_idf(docs_per_topic.cleaned_text.values, m=len(last_day_tweets))"
   ]
  },
  {
   "cell_type": "code",
   "execution_count": 113,
   "metadata": {},
   "outputs": [
    {
     "data": {
      "text/html": [
       "<div>\n",
       "<style scoped>\n",
       "    .dataframe tbody tr th:only-of-type {\n",
       "        vertical-align: middle;\n",
       "    }\n",
       "\n",
       "    .dataframe tbody tr th {\n",
       "        vertical-align: top;\n",
       "    }\n",
       "\n",
       "    .dataframe thead th {\n",
       "        text-align: right;\n",
       "    }\n",
       "</style>\n",
       "<table border=\"1\" class=\"dataframe\">\n",
       "  <thead>\n",
       "    <tr style=\"text-align: right;\">\n",
       "      <th></th>\n",
       "      <th>Topic</th>\n",
       "      <th>Size</th>\n",
       "    </tr>\n",
       "  </thead>\n",
       "  <tbody>\n",
       "    <tr>\n",
       "      <th>0</th>\n",
       "      <td>-1</td>\n",
       "      <td>169</td>\n",
       "    </tr>\n",
       "    <tr>\n",
       "      <th>54</th>\n",
       "      <td>53</td>\n",
       "      <td>133</td>\n",
       "    </tr>\n",
       "    <tr>\n",
       "      <th>19</th>\n",
       "      <td>18</td>\n",
       "      <td>94</td>\n",
       "    </tr>\n",
       "    <tr>\n",
       "      <th>34</th>\n",
       "      <td>33</td>\n",
       "      <td>74</td>\n",
       "    </tr>\n",
       "    <tr>\n",
       "      <th>3</th>\n",
       "      <td>2</td>\n",
       "      <td>43</td>\n",
       "    </tr>\n",
       "    <tr>\n",
       "      <th>75</th>\n",
       "      <td>74</td>\n",
       "      <td>34</td>\n",
       "    </tr>\n",
       "    <tr>\n",
       "      <th>32</th>\n",
       "      <td>31</td>\n",
       "      <td>30</td>\n",
       "    </tr>\n",
       "    <tr>\n",
       "      <th>23</th>\n",
       "      <td>22</td>\n",
       "      <td>29</td>\n",
       "    </tr>\n",
       "    <tr>\n",
       "      <th>52</th>\n",
       "      <td>51</td>\n",
       "      <td>28</td>\n",
       "    </tr>\n",
       "    <tr>\n",
       "      <th>27</th>\n",
       "      <td>26</td>\n",
       "      <td>28</td>\n",
       "    </tr>\n",
       "  </tbody>\n",
       "</table>\n",
       "</div>"
      ],
      "text/plain": [
       "    Topic  Size\n",
       "0      -1   169\n",
       "54     53   133\n",
       "19     18    94\n",
       "34     33    74\n",
       "3       2    43\n",
       "75     74    34\n",
       "32     31    30\n",
       "23     22    29\n",
       "52     51    28\n",
       "27     26    28"
      ]
     },
     "execution_count": 113,
     "metadata": {},
     "output_type": "execute_result"
    }
   ],
   "source": [
    "def extract_top_n_words_per_topic(tf_idf, count, docs_per_topic, n=20):\n",
    "    words = count.get_feature_names_out()\n",
    "    labels = list(docs_per_topic.Topic)\n",
    "    tf_idf_transposed = tf_idf.T\n",
    "    indices = tf_idf_transposed.argsort()[:, -n:]\n",
    "    top_n_words = {label: [(words[j], tf_idf_transposed[i][j]) for j in indices[i]][::-1] for i, label in enumerate(labels)}\n",
    "    return top_n_words\n",
    "\n",
    "def extract_topic_sizes(df):\n",
    "    topic_sizes = (df.groupby(['Topic'])\n",
    "                     .cleaned_text\n",
    "                     .count()\n",
    "                     .reset_index()\n",
    "                     .rename({\"Topic\": \"Topic\", \"cleaned_text\": \"Size\"}, axis='columns')\n",
    "                     .sort_values(\"Size\", ascending=False))\n",
    "    return topic_sizes\n",
    "\n",
    "top_n_words = extract_top_n_words_per_topic(tf_idf, count, docs_per_topic, n=20)\n",
    "topic_sizes = extract_topic_sizes(docs_df); topic_sizes.head(10)"
   ]
  },
  {
   "cell_type": "code",
   "execution_count": 121,
   "metadata": {},
   "outputs": [
    {
     "data": {
      "text/plain": [
       "[('httpurl', 0.10521642329235549),\n",
       " ('jajajajaja', 0.020231605648961613),\n",
       " ('drcfailedstate', 0.020231605648961613),\n",
       " ('mmmmmmm', 0.020231605648961613),\n",
       " ('tout', 0.009400130076718293),\n",
       " ('et', 0.004870864317980028),\n",
       " ('fdlr_foca', 0.0),\n",
       " ('fbi', 0.0),\n",
       " ('fcc', 0.0),\n",
       " ('fcci', 0.0)]"
      ]
     },
     "execution_count": 121,
     "metadata": {},
     "output_type": "execute_result"
    }
   ],
   "source": [
    "top_n_words[2][:10]"
   ]
  },
  {
   "attachments": {},
   "cell_type": "markdown",
   "metadata": {},
   "source": [
    "We can see that we don't get the results we were expecting at the first try we can do better."
   ]
  },
  {
   "attachments": {},
   "cell_type": "markdown",
   "metadata": {},
   "source": [
    "We need to improve our cleaning and understand the algorithm we are using better."
   ]
  },
  {
   "attachments": {},
   "cell_type": "markdown",
   "metadata": {},
   "source": [
    "-  Giving up on this, let me finsish the other project on machine translation and come back to this later.\n",
    "\n",
    "When I come back the main work will be to finetune distilbert on the tweets embedding to learn contextualized embedding related to my data."
   ]
  },
  {
   "attachments": {},
   "cell_type": "markdown",
   "metadata": {},
   "source": []
  }
 ],
 "metadata": {
  "kernelspec": {
   "display_name": ".venv",
   "language": "python",
   "name": "python3"
  },
  "language_info": {
   "codemirror_mode": {
    "name": "ipython",
    "version": 3
   },
   "file_extension": ".py",
   "mimetype": "text/x-python",
   "name": "python",
   "nbconvert_exporter": "python",
   "pygments_lexer": "ipython3",
   "version": "3.10.4"
  },
  "orig_nbformat": 4
 },
 "nbformat": 4,
 "nbformat_minor": 2
}
