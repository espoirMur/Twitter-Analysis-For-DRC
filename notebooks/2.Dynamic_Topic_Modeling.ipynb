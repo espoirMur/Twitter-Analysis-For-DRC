{
 "cells": [
  {
   "cell_type": "markdown",
   "metadata": {},
   "source": [
    "<div class=\"cite2c-biblio\"></div><div class=\"cite2c-biblio\"></div># Topic Modeling "
   ]
  },
  {
   "cell_type": "markdown",
   "metadata": {},
   "source": [
    "In this notebook we wiil texplain what we first understand by topic modelling, what are the most used methods for topic modelling and I will conclude with dynamic topic modeling."
   ]
  },
  {
   "cell_type": "markdown",
   "metadata": {},
   "source": [
    "### Topic Modelling Definition"
   ]
  },
  {
   "cell_type": "markdown",
   "metadata": {},
   "source": [
    "### Topic Modelling Methods"
   ]
  },
  {
   "cell_type": "markdown",
   "metadata": {},
   "source": [
    "### Dynamic Topic Modelling"
   ]
  },
  {
   "cell_type": "markdown",
   "metadata": {},
   "source": [
    "In standard topic modelling we assume the order of document does not matter and therfore this approach is not suitable for time-stamped data. \n",
    "Dynamic topic modelling on the other end approach to track how languages and topic changes in a time-stamped corpus.\n",
    "\n",
    "_cite this paper from Derek Greene here_"
   ]
  },
  {
   "cell_type": "markdown",
   "metadata": {},
   "source": [
    "### Approach for the topic modelling "
   ]
  },
  {
   "cell_type": "markdown",
   "metadata": {},
   "source": [
    "The proposed approach is a two level one "
   ]
  },
  {
   "cell_type": "markdown",
   "metadata": {},
   "source": [
    "the first step is to divide the corpus into n time windows of equals durations for example days, hours, and any other time windows we want "
   ]
  },
  {
   "cell_type": "markdown",
   "metadata": {},
   "source": [
    "- On the first we apply the topic modelling techic to the document in each time windows to produce windows topics. As per the topic modelling definition the result of this step generate n windowfs topics matrix and each windows we have 2 differents matrix one is the document term matrix $W$ and the other one is the topic term matrix $H$.\n",
    "\n",
    "\n",
    "- On the second  level  we apply another MNF to all topic from step one to find dynamic topic which span multiple times windows. In this step we bacically take the most important topic in each $H$ matrix form step one and stack them row wise to have another topic per time windows and term matrix which we consider as an input matrix after another NMF decomposition of this matrix we have the time topic matrix and another topic term matrix."
   ]
  },
  {
   "cell_type": "markdown",
   "metadata": {},
   "source": [
    "The dynaminc algorithm can be represented in the fololwing steps : "
   ]
  },
  {
   "cell_type": "markdown",
   "metadata": {},
   "source": [
    "- we start with an empty matrix $B$ \n",
    "- for each windows topic model $M_t$: \n",
    "    - for each row in the $M_t$ matrix select $n$ top - ranked topic term and fill the other row with zeroes\n",
    "    - add the vector as a new vector of $B$\n",
    "- Once all the row have been added removed all the colums with zeros everywhere"
   ]
  },
  {
   "cell_type": "markdown",
   "metadata": {},
   "source": [
    "The $B$ resulted from this operation is an $i$ x $m'$ matrix where  i is the number of all the topic documents and m' is the number of most used terms in those topics . from the last step of our algo we can see that $m' <<< m $ with this we can see that we have removed all the terms which are not most used in our timeline"
   ]
  },
  {
   "cell_type": "markdown",
   "metadata": {},
   "source": [
    "#### Analysis of the B matrix "
   ]
  },
  {
   "cell_type": "markdown",
   "metadata": {},
   "source": [
    "We all know that the row of the $B$ matrix are the time windows topic and the columns are the top terms in each time windows topic."
   ]
  },
  {
   "cell_type": "markdown",
   "metadata": {},
   "source": [
    "Having the new $B$ matrix we can now apply another $NMF$  factorization to get the evolution of the dynamic topic over the time. \n",
    "\n",
    "He factorization will of B will yield the following result $B = UV$ , in this decompozition we have 2 matrixes $U$ and $V$.\n",
    "\n",
    "What do we have in those matrixes ? \n",
    "\n",
    "$U$ : the row of this matrix are the time windows topic, and the colums we have the weight of the of each dynamic topic.\n",
    "\n",
    "$V$ : the values in the row are the dynamic topic themselves and the colums are the terms describing the dynamic topics and their weights "
   ]
  },
  {
   "cell_type": "markdown",
   "metadata": {},
   "source": [
    "We can use the weight of the dynamics topic in $U$ to track the evolution of topic over time in our document we can find when it appear and when it when it disapear in the corpus "
   ]
  },
  {
   "cell_type": "markdown",
   "metadata": {},
   "source": [
    "Now let move to the application of those methods and see what result we will get ."
   ]
  },
  {
   "cell_type": "markdown",
   "metadata": {},
   "source": [
    "##### Coding the dynamic topic modelling"
   ]
  },
  {
   "cell_type": "markdown",
   "metadata": {},
   "source": [
    "#### Loading the data"
   ]
  },
  {
   "cell_type": "markdown",
   "metadata": {},
   "source": [
    "In the previous notebook about data cleanning we saved our cleanned dataset under `../data/cleanned_tweets_2021.csv`\n",
    "\n",
    "Here we will just load it and apply a tfid vectorizer to it to get our documend term matrix that we will split into the different time windows "
   ]
  },
  {
   "cell_type": "code",
   "execution_count": 1,
   "metadata": {},
   "outputs": [
    {
     "name": "stderr",
     "output_type": "stream",
     "text": [
      "/Users/es.py/Projects/Personal/nlp_course_coursera_russia_uni/.venv/lib/python3.6/site-packages/pandas/compat/__init__.py:120: UserWarning: Could not import the lzma module. Your installed Python is incomplete. Attempting to use lzma compression will result in a RuntimeError.\n",
      "  warnings.warn(msg)\n"
     ]
    }
   ],
   "source": [
    "import pandas as pd \n",
    "import numpy as np "
   ]
  },
  {
   "cell_type": "code",
   "execution_count": 2,
   "metadata": {},
   "outputs": [
    {
     "name": "stderr",
     "output_type": "stream",
     "text": [
      "/Users/es.py/Projects/Personal/nlp_course_coursera_russia_uni/.venv/lib/python3.6/site-packages/numpy/lib/arraysetops.py:569: FutureWarning: elementwise comparison failed; returning scalar instead, but in the future will perform elementwise comparison\n",
      "  mask |= (ar1 == a)\n"
     ]
    }
   ],
   "source": [
    "data = pd.read_csv('../data/cleanned_tweets_2021.csv', index_col='id', parse_dates=['created_at'])[['created_at', 'cleanned_text']]"
   ]
  },
  {
   "cell_type": "markdown",
   "metadata": {},
   "source": [
    "Step one split the data into time windows "
   ]
  },
  {
   "cell_type": "code",
   "execution_count": 3,
   "metadata": {},
   "outputs": [],
   "source": [
    "min_date = data.created_at.min().strftime('%d-%b-%Y')"
   ]
  },
  {
   "cell_type": "code",
   "execution_count": 4,
   "metadata": {},
   "outputs": [],
   "source": [
    "max_date = data.created_at.max().strftime('%d-%b-%Y')"
   ]
  },
  {
   "cell_type": "markdown",
   "metadata": {
    "variables": {
     "max_date": "19-Dec-2020",
     "min_date": "13-May-2020"
    }
   },
   "source": [
    "From this we can see that our data where collected from {{min_date}} to {{max_date}}"
   ]
  },
  {
   "cell_type": "code",
   "execution_count": 5,
   "metadata": {},
   "outputs": [
    {
     "data": {
      "text/plain": [
       "(1214425, 2)"
      ]
     },
     "execution_count": 5,
     "metadata": {},
     "output_type": "execute_result"
    }
   ],
   "source": [
    "data.shape"
   ]
  },
  {
   "cell_type": "markdown",
   "metadata": {},
   "source": [
    "let us now split it into differend time windows of different using the week as the time measurement "
   ]
  },
  {
   "cell_type": "code",
   "execution_count": 6,
   "metadata": {},
   "outputs": [],
   "source": [
    "windows_groups = data.groupby(pd.Grouper(key=\"created_at\", freq=\"1W\"))"
   ]
  },
  {
   "cell_type": "code",
   "execution_count": 7,
   "metadata": {},
   "outputs": [],
   "source": [
    "windows_data = [df for time, df in windows_groups if not df.empty]"
   ]
  },
  {
   "cell_type": "code",
   "execution_count": 8,
   "metadata": {},
   "outputs": [
    {
     "data": {
      "text/plain": [
       "15"
      ]
     },
     "execution_count": 8,
     "metadata": {},
     "output_type": "execute_result"
    }
   ],
   "source": [
    "len(windows_data)"
   ]
  },
  {
   "cell_type": "code",
   "execution_count": 9,
   "metadata": {},
   "outputs": [
    {
     "data": {
      "text/html": [
       "<div>\n",
       "<style scoped>\n",
       "    .dataframe tbody tr th:only-of-type {\n",
       "        vertical-align: middle;\n",
       "    }\n",
       "\n",
       "    .dataframe tbody tr th {\n",
       "        vertical-align: top;\n",
       "    }\n",
       "\n",
       "    .dataframe thead th {\n",
       "        text-align: right;\n",
       "    }\n",
       "</style>\n",
       "<table border=\"1\" class=\"dataframe\">\n",
       "  <thead>\n",
       "    <tr style=\"text-align: right;\">\n",
       "      <th></th>\n",
       "      <th>created_at</th>\n",
       "      <th>cleanned_text</th>\n",
       "    </tr>\n",
       "    <tr>\n",
       "      <th>id</th>\n",
       "      <th></th>\n",
       "      <th></th>\n",
       "    </tr>\n",
       "  </thead>\n",
       "  <tbody>\n",
       "    <tr>\n",
       "      <th>1305295242875330560</th>\n",
       "      <td>2020-09-14 00:00:11</td>\n",
       "      <td>viemo pra</td>\n",
       "    </tr>\n",
       "    <tr>\n",
       "      <th>1305295372999421953</th>\n",
       "      <td>2020-09-14 00:00:42</td>\n",
       "      <td>qeum esser</td>\n",
       "    </tr>\n",
       "    <tr>\n",
       "      <th>1305295388610568193</th>\n",
       "      <td>2020-09-14 00:00:46</td>\n",
       "      <td>politique senser transformer positivemer vie p...</td>\n",
       "    </tr>\n",
       "    <tr>\n",
       "      <th>1305295468507934721</th>\n",
       "      <td>2020-09-14 00:01:05</td>\n",
       "      <td>NaN</td>\n",
       "    </tr>\n",
       "    <tr>\n",
       "      <th>1305295505937829889</th>\n",
       "      <td>2020-09-14 00:01:14</td>\n",
       "      <td>girl</td>\n",
       "    </tr>\n",
       "    <tr>\n",
       "      <th>...</th>\n",
       "      <td>...</td>\n",
       "      <td>...</td>\n",
       "    </tr>\n",
       "    <tr>\n",
       "      <th>1307831680040755200</th>\n",
       "      <td>2020-09-20 23:59:05</td>\n",
       "      <td>NaN</td>\n",
       "    </tr>\n",
       "    <tr>\n",
       "      <th>1307831730024390657</th>\n",
       "      <td>2020-09-20 23:59:17</td>\n",
       "      <td>found banking secret politician public figure ...</td>\n",
       "    </tr>\n",
       "    <tr>\n",
       "      <th>1307831752946315270</th>\n",
       "      <td>2020-09-20 23:59:22</td>\n",
       "      <td>retrouvonsnou lundi préparer marche eulsezvinc...</td>\n",
       "    </tr>\n",
       "    <tr>\n",
       "      <th>1307831791919730688</th>\n",
       "      <td>2020-09-20 23:59:32</td>\n",
       "      <td>ndeko rivièr kalamu motuna eza boy bakonzi mbo...</td>\n",
       "    </tr>\n",
       "    <tr>\n",
       "      <th>1307831816452177922</th>\n",
       "      <td>2020-09-20 23:59:38</td>\n",
       "      <td>moteur avion transporter équipe avanc partance...</td>\n",
       "    </tr>\n",
       "  </tbody>\n",
       "</table>\n",
       "<p>115086 rows × 2 columns</p>\n",
       "</div>"
      ],
      "text/plain": [
       "                             created_at  \\\n",
       "id                                        \n",
       "1305295242875330560 2020-09-14 00:00:11   \n",
       "1305295372999421953 2020-09-14 00:00:42   \n",
       "1305295388610568193 2020-09-14 00:00:46   \n",
       "1305295468507934721 2020-09-14 00:01:05   \n",
       "1305295505937829889 2020-09-14 00:01:14   \n",
       "...                                 ...   \n",
       "1307831680040755200 2020-09-20 23:59:05   \n",
       "1307831730024390657 2020-09-20 23:59:17   \n",
       "1307831752946315270 2020-09-20 23:59:22   \n",
       "1307831791919730688 2020-09-20 23:59:32   \n",
       "1307831816452177922 2020-09-20 23:59:38   \n",
       "\n",
       "                                                         cleanned_text  \n",
       "id                                                                      \n",
       "1305295242875330560                                          viemo pra  \n",
       "1305295372999421953                                         qeum esser  \n",
       "1305295388610568193  politique senser transformer positivemer vie p...  \n",
       "1305295468507934721                                                NaN  \n",
       "1305295505937829889                                               girl  \n",
       "...                                                                ...  \n",
       "1307831680040755200                                                NaN  \n",
       "1307831730024390657  found banking secret politician public figure ...  \n",
       "1307831752946315270  retrouvonsnou lundi préparer marche eulsezvinc...  \n",
       "1307831791919730688  ndeko rivièr kalamu motuna eza boy bakonzi mbo...  \n",
       "1307831816452177922  moteur avion transporter équipe avanc partance...  \n",
       "\n",
       "[115086 rows x 2 columns]"
      ]
     },
     "execution_count": 9,
     "metadata": {},
     "output_type": "execute_result"
    }
   ],
   "source": [
    "windows_data[-10]"
   ]
  },
  {
   "cell_type": "markdown",
   "metadata": {
    "variables": {
     "len(windows_data)": "15"
    }
   },
   "source": [
    "After splitting we can find that our dataset is splited in time windows of {{len(windows_data)}} weeks , with the splitting done we can continue with the topic modelling"
   ]
  },
  {
   "cell_type": "markdown",
   "metadata": {},
   "source": [
    "Okay what is next is to start analyzing the topic in each time windows and build a pipeline to cobine the results"
   ]
  },
  {
   "cell_type": "markdown",
   "metadata": {},
   "source": [
    "Should I build the vectorizer for all the topic or for each time windows I need to build  a tokenizer ? "
   ]
  },
  {
   "cell_type": "markdown",
   "metadata": {},
   "source": [
    "Dereek suggest to apply the preproccessing for each time windows , we are going to build the documend term matrix for every timewindows and return the document term matrix for each time windows."
   ]
  },
  {
   "cell_type": "code",
   "execution_count": 10,
   "metadata": {},
   "outputs": [],
   "source": [
    "from sklearn.feature_extraction.text import TfidfVectorizer"
   ]
  },
  {
   "cell_type": "code",
   "execution_count": 11,
   "metadata": {},
   "outputs": [],
   "source": [
    "vectorizer = TfidfVectorizer(lowercase=True, \n",
    "                             strip_accents=\"unicode\", \n",
    "                             ngram_range = (1, 2)) "
   ]
  },
  {
   "cell_type": "code",
   "execution_count": 34,
   "metadata": {},
   "outputs": [
    {
     "data": {
      "text/html": [
       "<div>\n",
       "<style scoped>\n",
       "    .dataframe tbody tr th:only-of-type {\n",
       "        vertical-align: middle;\n",
       "    }\n",
       "\n",
       "    .dataframe tbody tr th {\n",
       "        vertical-align: top;\n",
       "    }\n",
       "\n",
       "    .dataframe thead th {\n",
       "        text-align: right;\n",
       "    }\n",
       "</style>\n",
       "<table border=\"1\" class=\"dataframe\">\n",
       "  <thead>\n",
       "    <tr style=\"text-align: right;\">\n",
       "      <th></th>\n",
       "      <th>created_at</th>\n",
       "      <th>cleanned_text</th>\n",
       "    </tr>\n",
       "    <tr>\n",
       "      <th>id</th>\n",
       "      <th></th>\n",
       "      <th></th>\n",
       "    </tr>\n",
       "  </thead>\n",
       "  <tbody>\n",
       "    <tr>\n",
       "      <th>1260595377423757313</th>\n",
       "      <td>2020-05-13 15:38:53</td>\n",
       "      <td>rapatriement prévoir bloquer afrique sud</td>\n",
       "    </tr>\n",
       "    <tr>\n",
       "      <th>1260595422575329281</th>\n",
       "      <td>2020-05-13 15:39:04</td>\n",
       "      <td>sommesnous lausanne madèr normandie vienn mala...</td>\n",
       "    </tr>\n",
       "    <tr>\n",
       "      <th>1260595441261043714</th>\n",
       "      <td>2020-05-13 15:39:08</td>\n",
       "      <td>passeport côté confirm nonrenouvellement contr...</td>\n",
       "    </tr>\n",
       "    <tr>\n",
       "      <th>1260595455920082945</th>\n",
       "      <td>2020-05-13 15:39:12</td>\n",
       "      <td>occasion mai molendo sakombi engager mettre pl...</td>\n",
       "    </tr>\n",
       "    <tr>\n",
       "      <th>1260595465374097408</th>\n",
       "      <td>2020-05-13 15:39:14</td>\n",
       "      <td>passeport côté assurer contrat semlex renouvel...</td>\n",
       "    </tr>\n",
       "    <tr>\n",
       "      <th>...</th>\n",
       "      <td>...</td>\n",
       "      <td>...</td>\n",
       "    </tr>\n",
       "    <tr>\n",
       "      <th>1262095175238721536</th>\n",
       "      <td>2020-05-17 18:58:33</td>\n",
       "      <td>women children among least civilians murdered ...</td>\n",
       "    </tr>\n",
       "    <tr>\n",
       "      <th>1262095188530466816</th>\n",
       "      <td>2020-05-17 18:58:36</td>\n",
       "      <td>mort blesser nouveau attaque adf kokola nordkivu</td>\n",
       "    </tr>\n",
       "    <tr>\n",
       "      <th>1262095195375652864</th>\n",
       "      <td>2020-05-17 18:58:37</td>\n",
       "      <td>butembo motocycliste abattre inconnu</td>\n",
       "    </tr>\n",
       "    <tr>\n",
       "      <th>1262095201604173824</th>\n",
       "      <td>2020-05-17 18:58:39</td>\n",
       "      <td>green spray ball malachite katanger malachit m...</td>\n",
       "    </tr>\n",
       "    <tr>\n",
       "      <th>1262095206868017152</th>\n",
       "      <td>2020-05-17 18:58:40</td>\n",
       "      <td>nordkivu fardc déjouer attaquer rugari</td>\n",
       "    </tr>\n",
       "  </tbody>\n",
       "</table>\n",
       "<p>16633 rows × 2 columns</p>\n",
       "</div>"
      ],
      "text/plain": [
       "                             created_at  \\\n",
       "id                                        \n",
       "1260595377423757313 2020-05-13 15:38:53   \n",
       "1260595422575329281 2020-05-13 15:39:04   \n",
       "1260595441261043714 2020-05-13 15:39:08   \n",
       "1260595455920082945 2020-05-13 15:39:12   \n",
       "1260595465374097408 2020-05-13 15:39:14   \n",
       "...                                 ...   \n",
       "1262095175238721536 2020-05-17 18:58:33   \n",
       "1262095188530466816 2020-05-17 18:58:36   \n",
       "1262095195375652864 2020-05-17 18:58:37   \n",
       "1262095201604173824 2020-05-17 18:58:39   \n",
       "1262095206868017152 2020-05-17 18:58:40   \n",
       "\n",
       "                                                         cleanned_text  \n",
       "id                                                                      \n",
       "1260595377423757313           rapatriement prévoir bloquer afrique sud  \n",
       "1260595422575329281  sommesnous lausanne madèr normandie vienn mala...  \n",
       "1260595441261043714  passeport côté confirm nonrenouvellement contr...  \n",
       "1260595455920082945  occasion mai molendo sakombi engager mettre pl...  \n",
       "1260595465374097408  passeport côté assurer contrat semlex renouvel...  \n",
       "...                                                                ...  \n",
       "1262095175238721536  women children among least civilians murdered ...  \n",
       "1262095188530466816   mort blesser nouveau attaque adf kokola nordkivu  \n",
       "1262095195375652864               butembo motocycliste abattre inconnu  \n",
       "1262095201604173824  green spray ball malachite katanger malachit m...  \n",
       "1262095206868017152             nordkivu fardc déjouer attaquer rugari  \n",
       "\n",
       "[16633 rows x 2 columns]"
      ]
     },
     "execution_count": 34,
     "metadata": {},
     "output_type": "execute_result"
    }
   ],
   "source": [
    "windows_data[0]"
   ]
  },
  {
   "cell_type": "code",
   "execution_count": 13,
   "metadata": {},
   "outputs": [],
   "source": [
    "windows_data = list(filter( lambda x: not x.empty, windows_data))"
   ]
  },
  {
   "cell_type": "code",
   "execution_count": 14,
   "metadata": {},
   "outputs": [
    {
     "data": {
      "text/plain": [
       "15"
      ]
     },
     "execution_count": 14,
     "metadata": {},
     "output_type": "execute_result"
    }
   ],
   "source": [
    "len(windows_data)"
   ]
  },
  {
   "cell_type": "code",
   "execution_count": 15,
   "metadata": {},
   "outputs": [
    {
     "data": {
      "text/plain": [
       "'présidence cabinet chef cabinet conseiller spécial chef etat matir'"
      ]
     },
     "execution_count": 15,
     "metadata": {},
     "output_type": "execute_result"
    }
   ],
   "source": [
    "windows_data[2].head(49).iloc[1].cleanned_text"
   ]
  },
  {
   "cell_type": "code",
   "execution_count": 13,
   "metadata": {
    "scrolled": true
   },
   "outputs": [],
   "source": [
    "vectorizer = TfidfVectorizer(lowercase=True, \n",
    "                             strip_accents=\"unicode\", \n",
    "                             ngram_range = (1, 2)) \n",
    "doc_term_matrix = vectorizer.fit_transform(windows_data[0].cleanned_text.dropna())"
   ]
  },
  {
   "cell_type": "code",
   "execution_count": 14,
   "metadata": {
    "scrolled": false
   },
   "outputs": [
    {
     "data": {
      "text/plain": [
       "(14561, 53641)"
      ]
     },
     "execution_count": 14,
     "metadata": {},
     "output_type": "execute_result"
    }
   ],
   "source": [
    "doc_term_matrix.shape"
   ]
  },
  {
   "cell_type": "code",
   "execution_count": 17,
   "metadata": {},
   "outputs": [],
   "source": [
    "terms = vectorizer.get_feature_names()"
   ]
  },
  {
   "cell_type": "markdown",
   "metadata": {
    "variables": {
     "doc_term_matrix.shape[0]": "14561",
     "doc_term_matrix.shape[1]": "53641"
    }
   },
   "source": [
    "we have the for the first time windows the a tdifdf matrix of {{doc_term_matrix.shape[0]}} rows and {{doc_term_matrix.shape[1]}} colunms, those columns are the number of words and bi_grams we have in our corpus"
   ]
  },
  {
   "cell_type": "markdown",
   "metadata": {},
   "source": [
    "We can do futher preprocessing by looking into the most common ngrams we have in our corpus by using the following function "
   ]
  },
  {
   "cell_type": "code",
   "execution_count": 18,
   "metadata": {},
   "outputs": [],
   "source": [
    "from operator import itemgetter\n",
    "def rank_terms( doc_term_matrix, terms ):\n",
    "    # get the sums over each column\n",
    "    sums = doc_term_matrix.sum(axis=0)\n",
    "    # map weights to the terms\n",
    "    weights = {}\n",
    "    for col, term in enumerate(terms):\n",
    "        weights[term] = sums[0,col]\n",
    "    # rank the terms by their weight over all documents\n",
    "    return sorted(weights.items(), key=itemgetter(1), reverse=True)"
   ]
  },
  {
   "cell_type": "code",
   "execution_count": 19,
   "metadata": {},
   "outputs": [
    {
     "data": {
      "text/plain": [
       "[('thread', 218.83351691982568),\n",
       " ('zair', 217.28855207461424),\n",
       " ('anecdote', 214.5299626363258),\n",
       " ('anecdote zair', 214.5299626363258),\n",
       " ('thread anecdote', 214.5299626363258),\n",
       " ('covid', 96.90122318562476),\n",
       " ('mai', 91.11460570791263),\n",
       " ('pays', 81.31555017712598),\n",
       " ('jour', 72.42982024090871),\n",
       " ('ministre', 61.22501661962492),\n",
       " ('cas', 60.341136153752345),\n",
       " ('tshisekedi', 59.57607977234457),\n",
       " ('kabila', 56.10635901834737),\n",
       " ('kinshasa', 55.67061650966388),\n",
       " ('general', 54.4249999633158),\n",
       " ('president', 54.33813823016058),\n",
       " ('dire', 48.45230863613515),\n",
       " ('felix', 47.58595614377553),\n",
       " ('national', 46.989097460364775),\n",
       " ('demande', 46.66212030084455),\n",
       " ('passeport', 46.48247484132089),\n",
       " ('arreter', 46.340508559153186),\n",
       " ('felix tshisekedi', 45.19220772334301),\n",
       " ('justice', 44.06933342729221),\n",
       " ('creer', 43.74798354294154),\n",
       " ('pouvoir', 43.652306778435666),\n",
       " ('passer', 41.289866489392864),\n",
       " ('nouveau', 40.89890882983724),\n",
       " ('monde', 40.14428955122549),\n",
       " ('jeune', 39.82796088655963)]"
      ]
     },
     "execution_count": 19,
     "metadata": {},
     "output_type": "execute_result"
    }
   ],
   "source": [
    "rank_terms(doc_term_matrix, terms)[:30]"
   ]
  },
  {
   "cell_type": "markdown",
   "metadata": {},
   "source": [
    "Here we have the twenty most recent terms in the first time windows , let us know apply the topic modelling to it to see how what will result from it"
   ]
  },
  {
   "cell_type": "code",
   "execution_count": 20,
   "metadata": {},
   "outputs": [],
   "source": [
    "k = 15"
   ]
  },
  {
   "cell_type": "markdown",
   "metadata": {
    "variables": {
     "k": "15"
    }
   },
   "source": [
    "let us start with a k = {{k}} and then we will incorporate modele selection and performance measurenment metrics later "
   ]
  },
  {
   "cell_type": "markdown",
   "metadata": {},
   "source": [
    "Non svd is recomend to because it provide more reliable results (cite: https://www.sciencedirect.com/science/article/abs/pii/S0031320307004359?via%3Dihub)\n"
   ]
  },
  {
   "cell_type": "code",
   "execution_count": 21,
   "metadata": {},
   "outputs": [],
   "source": [
    "from sklearn.decomposition import NMF\n",
    "model = NMF(n_components=k, init=\"nndsvd\", random_state=0)"
   ]
  },
  {
   "cell_type": "code",
   "execution_count": 22,
   "metadata": {},
   "outputs": [],
   "source": [
    "model = NMF(n_components=k, init=\"nndsvd\", random_state=0)\n",
    "W = model.fit_transform(doc_term_matrix)\n",
    "H = model.components_"
   ]
  },
  {
   "cell_type": "code",
   "execution_count": 23,
   "metadata": {},
   "outputs": [
    {
     "data": {
      "text/plain": [
       "(14561, 15)"
      ]
     },
     "execution_count": 23,
     "metadata": {},
     "output_type": "execute_result"
    }
   ],
   "source": [
    "W.shape"
   ]
  },
  {
   "cell_type": "code",
   "execution_count": 24,
   "metadata": {},
   "outputs": [
    {
     "data": {
      "text/plain": [
       "array([0.   , 0.   , 0.   , 0.   , 0.   , 0.   , 0.   , 0.014, 0.015,\n",
       "       0.   , 0.   , 0.   , 0.003, 0.   , 0.001])"
      ]
     },
     "execution_count": 24,
     "metadata": {},
     "output_type": "execute_result"
    }
   ],
   "source": [
    "W[3,:].round(3)"
   ]
  },
  {
   "cell_type": "code",
   "execution_count": 25,
   "metadata": {},
   "outputs": [
    {
     "data": {
      "text/plain": [
       "(15, 53641)"
      ]
     },
     "execution_count": 25,
     "metadata": {},
     "output_type": "execute_result"
    }
   ],
   "source": [
    "H.shape"
   ]
  },
  {
   "cell_type": "markdown",
   "metadata": {},
   "source": [
    "H contains the term weight for all topic and in from that we can pick one term and check how it is weigthed in each topic "
   ]
  },
  {
   "cell_type": "code",
   "execution_count": 26,
   "metadata": {},
   "outputs": [
    {
     "data": {
      "text/plain": [
       "array([0.   , 0.   , 0.005, 0.002, 0.   , 0.006, 0.   , 0.   , 0.   ,\n",
       "       0.   , 0.002, 0.   , 0.026, 0.306, 0.   ])"
      ]
     },
     "execution_count": 26,
     "metadata": {},
     "output_type": "execute_result"
    }
   ],
   "source": [
    "term_index = terms.index('passeport')\n",
    "H[:, term_index].round(3)"
   ]
  },
  {
   "cell_type": "markdown",
   "metadata": {},
   "source": [
    "In this we can find that the term passeport is highly linked with approximately 3 topics"
   ]
  },
  {
   "cell_type": "markdown",
   "metadata": {},
   "source": [
    "Let see if now our topic make senses , we will use a functin called topic descriptor , for each topic it will return the top most ranked term in it."
   ]
  },
  {
   "cell_type": "code",
   "execution_count": null,
   "metadata": {},
   "outputs": [],
   "source": []
  },
  {
   "cell_type": "code",
   "execution_count": 27,
   "metadata": {},
   "outputs": [],
   "source": [
    "def get_descriptor( terms, H, topic_index, top ):\n",
    "    # reverse sort the values to sort the indices\n",
    "    top_indices = np.argsort( H[topic_index,:] )[::-1]\n",
    "    # now get the terms corresponding to the top-ranked indices\n",
    "    top_terms = []\n",
    "    for term_index in top_indices[0:top]:\n",
    "        top_terms.append( (terms[term_index], H[topic_index, term_index].round(2)) )\n",
    "    return top_terms"
   ]
  },
  {
   "cell_type": "code",
   "execution_count": 31,
   "metadata": {},
   "outputs": [],
   "source": [
    "def print_topic_descriptor(H, terms):\n",
    "    '''\n",
    "    given the H term print the topic descriptor\n",
    "    '''\n",
    "    descriptors = []\n",
    "    for topic_index in range(H.shape[0]):\n",
    "        descriptor = get_descriptor( terms, H, topic_index, 10 ) \n",
    "        descriptor = [x[0] for x in descriptor] #[f\"{x[0]}=:{x[1]}\" for x in descriptor]\n",
    "        descriptor = ', '.join(descriptor)\n",
    "        current_topic = topic_index+1\n",
    "        print(f\"Topic {current_topic:.1f} === describe by : {descriptor}\")\n",
    "        print('=:'*20)"
   ]
  },
  {
   "cell_type": "code",
   "execution_count": 32,
   "metadata": {},
   "outputs": [
    {
     "data": {
      "text/plain": [
       "(15, 53641)"
      ]
     },
     "execution_count": 32,
     "metadata": {},
     "output_type": "execute_result"
    }
   ],
   "source": [
    "H.shape"
   ]
  },
  {
   "cell_type": "code",
   "execution_count": 33,
   "metadata": {
    "scrolled": true
   },
   "outputs": [
    {
     "name": "stdout",
     "output_type": "stream",
     "text": [
      "Topic 1.0 === describe by : thread, anecdote zair, anecdote, thread anecdote, zair, malheur boot, zair malheur, jour symboliser, boot, boot puant\n",
      "=:=:=:=:=:=:=:=:=:=:=:=:=:=:=:=:=:=:=:=:\n",
      "Topic 2.0 === describe by : leav villag, african pygmie, world shortest, never leav, pygmie world, shortest set, shortest, people friendly, friendly, friendly never\n",
      "=:=:=:=:=:=:=:=:=:=:=:=:=:=:=:=:=:=:=:=:\n",
      "Topic 3.0 === describe by : rappeur damso, creer fondation, damso creer, lutter vol, vol ressource, rappeur, fondation afin, afin lutter, damso, ressource naturel\n",
      "=:=:=:=:=:=:=:=:=:=:=:=:=:=:=:=:=:=:=:=:\n",
      "Topic 4.0 === describe by : felix tshisekedi, felix, dossier jour, tshisekedi demande, general financ, demande audit, audit inspection, inspection, financ ministre, inspection general\n",
      "=:=:=:=:=:=:=:=:=:=:=:=:=:=:=:=:=:=:=:=:\n",
      "Topic 5.0 === describe by : zinc, composer cuivre, soussol richess, richess composer, cobalt zinc, cuivre, cuivre cobalt, richesse soussol, fer coltan, soussol\n",
      "=:=:=:=:=:=:=:=:=:=:=:=:=:=:=:=:=:=:=:=:\n",
      "Topic 6.0 === describe by : revolte, passer france, election miss, europe derouler, derouler kinshasa, derouler, france cause, kinshasa lieu, cause revolte, lieu passer\n",
      "=:=:=:=:=:=:=:=:=:=:=:=:=:=:=:=:=:=:=:=:\n",
      "Topic 7.0 === describe by : enquete judiciaire, jouer dilatoire, dilatoire, dilatoire enquete, soupconner, soupconner ministre, justice jouer, acaj soupconner, enquete, judiciaire\n",
      "=:=:=:=:=:=:=:=:=:=:=:=:=:=:=:=:=:=:=:=:\n",
      "Topic 8.0 === describe by : pari, pari mettre, france atteri, quarantain pouvonsnou, mettre quarantain, hier provenance, atteri, passager avion, pouvonsnou, atteri hier\n",
      "=:=:=:=:=:=:=:=:=:=:=:=:=:=:=:=:=:=:=:=:\n",
      "Topic 9.0 === describe by : mai, mai jour, pose souvent, jour ferie, ferie pose, constat mai, ferie, souvent savoir, constat, pose\n",
      "=:=:=:=:=:=:=:=:=:=:=:=:=:=:=:=:=:=:=:=:\n",
      "Topic 10.0 === describe by : ministere, defense demande, obsequ, obsequ general, defense, demande ministere, ministere financ, financ obsequ, ministere defense, general\n",
      "=:=:=:=:=:=:=:=:=:=:=:=:=:=:=:=:=:=:=:=:\n",
      "Topic 11.0 === describe by : pays, terre, monde, monde qualifier, mega octet, compte pays, qualifier mega, octet, octet biodiversite, pays monde\n",
      "=:=:=:=:=:=:=:=:=:=:=:=:=:=:=:=:=:=:=:=:\n",
      "Topic 12.0 === describe by : avatar, avatar asap, get hood, hood, asap, avatar netflix, asap street, hood avatar, everyone get, street hungr\n",
      "=:=:=:=:=:=:=:=:=:=:=:=:=:=:=:=:=:=:=:=:\n",
      "Topic 13.0 === describe by : cas, confirmer, cas confirmer, covid, total, samedi, confirmer samedi, kongocentral, covid cas, kinshasa\n",
      "=:=:=:=:=:=:=:=:=:=:=:=:=:=:=:=:=:=:=:=:\n",
      "Topic 14.0 === describe by : decision, confrontation, bruit, decision prise, diffuser, bruit diffuser, contrairement bruit, aucun decision, diffuser aucun, contrairement\n",
      "=:=:=:=:=:=:=:=:=:=:=:=:=:=:=:=:=:=:=:=:\n",
      "Topic 15.0 === describe by : soutien, udp, soutien udp, menacer petition, prison apport, apport soutien, apport, udp menacer, petition, menacer\n",
      "=:=:=:=:=:=:=:=:=:=:=:=:=:=:=:=:=:=:=:=:\n"
     ]
    }
   ],
   "source": [
    "print_topic_descriptor(H, terms)"
   ]
  },
  {
   "cell_type": "markdown",
   "metadata": {},
   "source": [
    "From a human evaluation percepective the topic and the description make sense we can now see how the. enmbedding train in our corpus make sense in for those"
   ]
  },
  {
   "cell_type": "markdown",
   "metadata": {},
   "source": [
    "### Evaluation of our models and parameter selection "
   ]
  },
  {
   "cell_type": "markdown",
   "metadata": {},
   "source": [
    "In this we will use coherence measures using embeddings to detects how good are our generated topics. \n",
    "\n",
    "what are those coherence measures? \n",
    "\n",
    "Here we will define the topice coherence which the sum of pair wise similaries of words that describes a topic? _why not weigthed it by topic weigth?_\n",
    "\n",
    "Basically it is define as \n",
    "\n",
    "\n",
    "For each topic we can do :\n",
    "\n",
    "$TC =  \\sum_{j=2}^{N}\\sum_{i=2}^{j-1}{similarity(w_i, w_j)}$\n",
    "\n",
    "\n",
    "For all the topics we define it as : \n",
    "\n",
    "it is the mean of TC for all the topic in the $H$ matrix "
   ]
  },
  {
   "cell_type": "markdown",
   "metadata": {},
   "source": [
    "The similarity measure we use is the cosine distance between the enmbeddings of words we have in our corpus. We can use any enmbedding techinc but here we suggest to learn embedding for our corpus since we have many term specific to the congolese context which are not in the well know enmbeddings "
   ]
  },
  {
   "cell_type": "markdown",
   "metadata": {},
   "source": [
    "#### Learning words embeddings"
   ]
  },
  {
   "cell_type": "markdown",
   "metadata": {},
   "source": [
    "We are planning to use pmi mutual information to train our word embeddings , and we evaluate the results and how they perform for mostly misspeled words if they are not performing well we will try to train a custom character level embeddings"
   ]
  },
  {
   "cell_type": "markdown",
   "metadata": {},
   "source": [
    "We need to check [this](https://towardsdatascience.com/embedding-for-spelling-correction-92c93f835d79) to check how we can improve our embeddings to take into consideration misspled words "
   ]
  },
  {
   "cell_type": "markdown",
   "metadata": {},
   "source": [
    "Cite the facebook paper where they build a model to check for misspled charactere\n",
    "\n",
    "This one : __*arXiv:1905.09755v1 [cs.CL] 23 May 2019*__"
   ]
  },
  {
   "cell_type": "markdown",
   "metadata": {},
   "source": [
    "continue wih this research to complete the embedding trainning \n",
    "\n",
    "https://www.kaggle.com/alexklibisz/simple-word-vectors-with-co-occurrence-pmi-and-svd"
   ]
  },
  {
   "cell_type": "markdown",
   "metadata": {},
   "source": [
    "We are planning to use to train the charactere n-gram embedding"
   ]
  },
  {
   "cell_type": "markdown",
   "metadata": {},
   "source": [
    "@article{bojanowski2017enriching,\n",
    "  title={Enriching Word Vectors with Subword Information},\n",
    "  author={Bojanowski, Piotr and Grave, Edouard and Joulin, Armand and Mikolov, Tomas},\n",
    "  journal={Transactions of the Association for Computational Linguistics},\n",
    "  volume={5},\n",
    "  year={2017},\n",
    "  issn={2307-387X},\n",
    "  pages={135--146}\n",
    "}"
   ]
  },
  {
   "cell_type": "markdown",
   "metadata": {},
   "source": [
    "#### Creating The Topics "
   ]
  },
  {
   "cell_type": "markdown",
   "metadata": {},
   "source": [
    "First let us create a number of differents topics models with differents k as the number of topics"
   ]
  },
  {
   "cell_type": "code",
   "execution_count": null,
   "metadata": {},
   "outputs": [],
   "source": [
    "k_min = 4\n",
    "k_max = 20\n",
    "topic_models = []\n",
    "# try each value of k\n",
    "for k in range(k_min, k_max):\n",
    "    model = NMF(n_components=k, init=\"nndsvd\", random_state=0)\n",
    "    W = model.fit_transform(doc_term_matrix)\n",
    "    H = model.components_\n",
    "    topic_models.append( (k,W,H) )"
   ]
  },
  {
   "cell_type": "markdown",
   "metadata": {},
   "source": [
    "#### Loading words Embeddings"
   ]
  },
  {
   "cell_type": "markdown",
   "metadata": {},
   "source": [
    "In the previous notebook we trained a words embedding on our corpus of tweets, let us load the emdedding model we trained and use it to calculate word similarity."
   ]
  },
  {
   "cell_type": "code",
   "execution_count": null,
   "metadata": {},
   "outputs": [],
   "source": [
    "from gensim.models.fasttext import FastText as FT_gensim\n",
    "from gensim.test.utils import datapath\n",
    "from pathlib import Path"
   ]
  },
  {
   "cell_type": "code",
   "execution_count": null,
   "metadata": {},
   "outputs": [],
   "source": [
    "model_path = Path.cwd().parent.joinpath('models', 'embeddings_one_gram_fast_tweets_only').__str__()\n",
    "model_gensim = FT_gensim.load(model_path)"
   ]
  },
  {
   "cell_type": "markdown",
   "metadata": {},
   "source": [
    "to evaluate word embeding for our words we will be using the model.wv function that return the words vector as a numpy array."
   ]
  },
  {
   "cell_type": "markdown",
   "metadata": {},
   "source": [
    "let also build a function that return the vector enmbdding for a bigram as an average of the two words it is build with "
   ]
  },
  {
   "cell_type": "code",
   "execution_count": null,
   "metadata": {},
   "outputs": [],
   "source": [
    "'thisisanunigram'.split(' ')"
   ]
  },
  {
   "cell_type": "code",
   "execution_count": null,
   "metadata": {},
   "outputs": [],
   "source": [
    "def check_bigram(word):\n",
    "    '''\n",
    "    check if the given word passed in parameter is a bigram or not\n",
    "    '''\n",
    "    if len(word.split(' ')) == 2:\n",
    "        return True\n",
    "    return False"
   ]
  },
  {
   "cell_type": "code",
   "execution_count": null,
   "metadata": {},
   "outputs": [],
   "source": [
    "def get_bi_grams_vector(string):\n",
    "    word1, words2 = string.split(' ')\n",
    "    bigram_vector = np.mean([model_gensim.wv.get_vector(word1),  model_gensim.wv.get_vector(words2)], axis=0)\n",
    "    return bigram_vector"
   ]
  },
  {
   "cell_type": "code",
   "execution_count": null,
   "metadata": {
    "scrolled": true
   },
   "outputs": [],
   "source": [
    "model_gensim.wv.get_vector('president')"
   ]
  },
  {
   "cell_type": "code",
   "execution_count": null,
   "metadata": {
    "scrolled": true
   },
   "outputs": [],
   "source": [
    "get_bi_grams_vector('felix tshisekedi').reshape(-1, 1).shape"
   ]
  },
  {
   "cell_type": "code",
   "execution_count": null,
   "metadata": {},
   "outputs": [],
   "source": [
    "w"
   ]
  },
  {
   "cell_type": "code",
   "execution_count": null,
   "metadata": {},
   "outputs": [],
   "source": [
    "compute_cosine_similarity(get_bi_grams_vector('felix tshisekedi'), model_gensim.wv.get_vector('president'))"
   ]
  },
  {
   "cell_type": "code",
   "execution_count": null,
   "metadata": {},
   "outputs": [],
   "source": [
    "def get_word_vector(word):\n",
    "    \"\"\"\n",
    "    chef if a word is a bigram and return the correponding enmbeddings\n",
    "    \"\"\"\n",
    "    if check_bigram(word):\n",
    "        return get_bi_grams_vector(word)\n",
    "    return model_gensim.wv.get_vector(word)"
   ]
  },
  {
   "cell_type": "code",
   "execution_count": null,
   "metadata": {},
   "outputs": [],
   "source": [
    "### Todos : all those function should be put in a class topic descriptor"
   ]
  },
  {
   "cell_type": "code",
   "execution_count": null,
   "metadata": {},
   "outputs": [],
   "source": [
    "from itertools import combinations"
   ]
  },
  {
   "cell_type": "code",
   "execution_count": null,
   "metadata": {},
   "outputs": [],
   "source": [
    "topic_descriptor = get_descriptor( terms, H, topic_index, 15) "
   ]
  },
  {
   "cell_type": "code",
   "execution_count": null,
   "metadata": {},
   "outputs": [],
   "source": [
    "def calculate_topic_coherence(topic_descriptor):\n",
    "    \"\"\"\n",
    "    take the term ranking and compute the corherence between the term\n",
    "    \"\"\"\n",
    "    topics_terms = [x[0] for x in topic_descriptor]\n",
    "    pairs_array = np.array(list(combinations(topics_terms, 2)))\n",
    "    pairs_vectors = np.apply_along_axis(compute_cosine_similarity, 1, pairs_array)\n",
    "    return pairs_vectors.mean()"
   ]
  },
  {
   "cell_type": "code",
   "execution_count": null,
   "metadata": {},
   "outputs": [],
   "source": [
    "def compute_overhall_topic_coherence(H):\n",
    "    '''\n",
    "    compute the overhall topic cohence for a topic model\n",
    "    H is the topic term matrix\n",
    "    '''\n",
    "    overhall_coherence = []\n",
    "    for topic_index in range(H.shape[0]):\n",
    "        topic_descriptor = get_descriptor(terms, H, topic_index, 10)\n",
    "        coherence = calculate_topic_coherence(topic_descriptor)\n",
    "        overhall_coherence.append(coherence)\n",
    "    return np.array(overhall_coherence).mean()\n",
    "        \n",
    "    "
   ]
  },
  {
   "cell_type": "code",
   "execution_count": null,
   "metadata": {},
   "outputs": [],
   "source": [
    "def get_best_coherence(topic_models):\n",
    "    \"\"\"\n",
    "    return a dict of the k and the coresponding topic for ploting purpose\n",
    "    \"\"\"\n",
    "    coherences_k = dict()\n",
    "    for (k,W,H) in topic_models:\n",
    "        coherence = compute_overhall_topic_coherence(H)\n",
    "        coherences_k[k] = coherence\n",
    "        print(\"for k = {} the coherence is {:.2f}\".format(k, coherence))\n",
    "    return coherences_k"
   ]
  },
  {
   "cell_type": "code",
   "execution_count": null,
   "metadata": {},
   "outputs": [],
   "source": [
    "%matplotlib inline\n",
    "import matplotlib\n",
    "import matplotlib.pyplot as plt\n",
    "plt.style.use(\"ggplot\")\n",
    "matplotlib.rcParams.update({\"font.size\": 14})"
   ]
  },
  {
   "cell_type": "code",
   "execution_count": null,
   "metadata": {},
   "outputs": [],
   "source": [
    "def plot_topic_coherence(coherences_k):\n",
    "    '''\n",
    "    plot the coherence for each k in the topic model\n",
    "    '''\n",
    "    fig = plt.figure(figsize=(13,7))\n",
    "    # create the line plot\n",
    "    ax = plt.plot(coherences_k.keys(), coherences_k.values() )\n",
    "    plt.xticks(list(coherences_k.keys()))\n",
    "    plt.xlabel(\"Number of Topics\")\n",
    "    plt.ylabel(\"Mean Coherence\")\n",
    "    # add the points\n",
    "    plt.scatter(coherences_k.keys(), coherences_k.values(), s=120)\n",
    "    # find and annotate the maximum point on the plot\n",
    "    ymax = max(coherences_k.values())\n",
    "    best_k =  max(coherences_k, key=coherences_k.get)\n",
    "    plt.annotate( \"k={}\".format(best_k), xy=(best_k, ymax), xytext=(best_k, ymax), textcoords=\"offset points\", fontsize=16)\n",
    "    # show the plot\n",
    "    plt.show()"
   ]
  },
  {
   "cell_type": "code",
   "execution_count": null,
   "metadata": {},
   "outputs": [],
   "source": [
    "coherences_k = get_best_coherence(topic_models)"
   ]
  },
  {
   "cell_type": "code",
   "execution_count": null,
   "metadata": {},
   "outputs": [],
   "source": [
    "coherences_k"
   ]
  },
  {
   "cell_type": "code",
   "execution_count": null,
   "metadata": {
    "scrolled": true
   },
   "outputs": [],
   "source": [
    "plot_topic_coherence(coherences_k)"
   ]
  },
  {
   "cell_type": "markdown",
   "metadata": {},
   "source": [
    "- Here we are done with the coherence measure for the topic porject , \n",
    "\n",
    "Here are the questions that arises,\n",
    "\n",
    "Why not combining the weigthed correlation to get the coherences in topics \n",
    "- combine also with the choice of topics by the number of words in the topic terms or take all and calculate "
   ]
  },
  {
   "cell_type": "code",
   "execution_count": null,
   "metadata": {},
   "outputs": [],
   "source": [
    "def create_topic_model(windows_doc):\n",
    "    \"\"\"\n",
    "    given a a dataframe of time windows generate an array of topic models\n",
    "    return the list of all terms and the list of different topics models for different k\n",
    "    \"\"\"\n",
    "    vectorizer = TfidfVectorizer(lowercase=True, \n",
    "                                 strip_accents=\"unicode\", \n",
    "                                 ngram_range = (1, 2)) \n",
    "    doc_term_matrix = vectorizer.fit_transform(windows_doc.cleanned_text.dropna())\n",
    "    terms = vectorizer.get_feature_names()\n",
    "    k_min = 4\n",
    "    k_max = 20\n",
    "    topic_models = []\n",
    "    # try each value of k\n",
    "    for k in range(k_min, k_max):\n",
    "        model = NMF(n_components=k, init=\"nndsvd\", random_state=0)\n",
    "        W = model.fit_transform(doc_term_matrix)\n",
    "        H = model.components_\n",
    "        topic_models.append( (k,W,H) )\n",
    "    return topic_models, terms"
   ]
  },
  {
   "cell_type": "code",
   "execution_count": 4,
   "metadata": {},
   "outputs": [],
   "source": [
    "# %load ../topic_modeling/word_embedings_utils.py\n",
    "import numpy as np\n",
    "from pathlib import Path\n",
    "from gensim.models.fasttext import FastText as FT_gensim\n",
    "from gensim.test.utils import datapath\n",
    "\n",
    "\n",
    "class WordEmbeddingUtils:\n",
    "    \"\"\"\n",
    "    This contains utilities to manage words embeddings.\n",
    "    \"\"\"\n",
    "    def __init__(self):\n",
    "        super().__init__()\n",
    "        self.read_wv_model()\n",
    "\n",
    "    def read_wv_model(self, model_name='embeddings_one_gram_fast_tweets_only'):\n",
    "        \"\"\"\n",
    "        read the word to vv embedding model passed in parameter\n",
    "\n",
    "        Args:\n",
    "            path ([type]): [description]\n",
    "        \"\"\"\n",
    "        model_path = Path.cwd().joinpath('..', 'models', model_name).__str__()\n",
    "        self.model_gensim = FT_gensim.load(model_path)\n",
    "\n",
    "    def check_bigram(self, word):\n",
    "        \"\"\"\n",
    "        check if the given word passed in parameter is a bigram or not\n",
    "        \"\"\"\n",
    "        if len(word.split(' ')) == 2:\n",
    "            return True\n",
    "        return False\n",
    "    \n",
    "    def get_bi_grams_vector(self, string):\n",
    "        \"\"\"\n",
    "        get the vector of the bigram passed in parameter,\n",
    "        this is done by using the average of the two words building the vector\n",
    "\n",
    "        Args:\n",
    "            string ([type]): [description]\n",
    "\n",
    "        Returns:\n",
    "            [type]: [description]\n",
    "        \"\"\"\n",
    "        word1, words2 = string.split(' ')\n",
    "        bigram_vector = np.mean([self.model_gensim.wv.get_vector(word1),\n",
    "                                 self.model_gensim.wv.get_vector(words2)],\n",
    "                                axis=0)\n",
    "        return bigram_vector\n",
    "\n",
    "    def compute_cosine_similarity(self, words):\n",
    "        \"\"\"\n",
    "        This code use numpy to compute the\n",
    "        cosine similarity between two given vectors\n",
    "        params:\n",
    "        words : a 2 d array with 2 words we are calculating the similarity for\n",
    "        \"\"\"\n",
    "        word_1, word_2 = words[0], words[1]\n",
    "        vector_1 = self.get_word_vector(word_1)\n",
    "        vector_2 = self.get_word_vector(word_2)\n",
    "        ma = np.linalg.norm(vector_1)\n",
    "        mb = np.linalg.norm(vector_2)\n",
    "        cosine_distance = (np.matmul(vector_1, vector_2))/(ma*mb)\n",
    "        return cosine_distance\n",
    "\n",
    "    def get_word_vector(self, word):\n",
    "        \"\"\"\n",
    "        return the word vector for the corresponding word or bigram\n",
    "\n",
    "        Args:\n",
    "            word ([type]): [description]\n",
    "        \"\"\"\n",
    "        if self.check_bigram(word):\n",
    "            return self.get_bi_grams_vector(word)\n",
    "        return self.model_gensim.wv.get_vector(word)\n",
    "\n"
   ]
  },
  {
   "cell_type": "markdown",
   "metadata": {},
   "source": [
    "### Putting everything together "
   ]
  },
  {
   "cell_type": "code",
   "execution_count": 5,
   "metadata": {},
   "outputs": [],
   "source": [
    "# %load ../topic_modeling/topic_modeling.py\n",
    "\"\"\"\n",
    "this package hold the code for the dynamic topic modeling with the nmf\n",
    "\"\"\"\n",
    "import pandas as pd\n",
    "import numpy as np\n",
    "from pathlib import Path\n",
    "from gensim.models.fasttext import FastText as FT_gensim\n",
    "from gensim.test.utils import datapath\n",
    "from sklearn.feature_extraction.text import TfidfVectorizer\n",
    "from sklearn.decomposition import NMF\n",
    "from itertools import combinations\n",
    "import matplotlib\n",
    "import matplotlib.pyplot as plt\n",
    "plt.style.use(\"ggplot\")\n",
    "matplotlib.rcParams.update({\"font.size\": 14})\n",
    "\n",
    "\n",
    "class TopicModelNMF:\n",
    "    def __init__(self, corpus_dataframe, vectorize=True):\n",
    "        self.corpus_dataframe = corpus_dataframe\n",
    "        self.word_embeddings = WordEmbeddingUtils()\n",
    "        self.vectorize = vectorize\n",
    "        super().__init__()\n",
    "    \n",
    "    def create_topic_model(self, ngram_range=(1, 2)):\n",
    "        \"\"\"\n",
    "        given a a dataframe of time windows generate an array of topic models\n",
    "        return the list of all terms and the list of different topics models\n",
    "        for different k\n",
    "        \"\"\"\n",
    "        if self.vectorize:\n",
    "            vectorizer = TfidfVectorizer(lowercase=True,\n",
    "                                     strip_accents=\"unicode\",\n",
    "                                     ngram_range=ngram_range)\n",
    "            doc_term_matrix = vectorizer.fit_transform(self.corpus_dataframe.cleanned_text.dropna())\n",
    "            terms = vectorizer.get_feature_names()\n",
    "        else:\n",
    "            doc_term_matrix = self.corpus_dataframe.values\n",
    "            terms = self.corpus_dataframe.columns\n",
    "        k_min = 4\n",
    "        k_max = 20\n",
    "        topic_models = []\n",
    "        # try each value of k\n",
    "        for k in range(k_min, k_max):\n",
    "            model = NMF(n_components=k, init=\"nndsvd\", random_state=0)\n",
    "            W = model.fit_transform(doc_term_matrix)\n",
    "            H = model.components_\n",
    "            topic_models.append((k, W, H))\n",
    "        self.topic_models = topic_models\n",
    "        self.terms = terms\n",
    "    \n",
    "    def get_descriptor(self, terms, H, topic_index, top):\n",
    "        \"\"\"\n",
    "        get the topic descriptor for the given term\n",
    "\n",
    "        Args:\n",
    "            terms ([type]): [description]\n",
    "            H ([type]): [description]\n",
    "            topic_index ([type]): [description]\n",
    "            top ([type]): [description]\n",
    "\n",
    "        Returns:\n",
    "            [type]: [description]\n",
    "        \"\"\"\n",
    "        # reverse sort the values to sort the indices\n",
    "        top_indices = np.argsort(H[topic_index, :])[::-1]\n",
    "        # now get the terms corresponding to the top-ranked indices\n",
    "        \n",
    "        for term_index in top_indices[0:top]:\n",
    "            yield (terms[term_index], H[topic_index, term_index].round(2))\n",
    "\n",
    "    def calculate_topic_coherence(self, topic_descriptor):\n",
    "        \"\"\"\n",
    "        take the term ranking and compute the coherence between the term\n",
    "        \"\"\"\n",
    "        topics_terms = [x[0] for x in topic_descriptor]\n",
    "        pairs_array = np.array(list(combinations(topics_terms, 2)))\n",
    "        pairs_vectors = np.apply_along_axis(self.word_embeddings.compute_cosine_similarity, \n",
    "                                            1,\n",
    "                                            pairs_array)\n",
    "        return pairs_vectors.mean()\n",
    "\n",
    "    def compute_overhall_topic_coherence(self, H, terms):\n",
    "        '''\n",
    "        compute the overhall topic coherence for a topic model\n",
    "        H is the topic term matrix\n",
    "        '''\n",
    "        overhall_coherence = []\n",
    "        for topic_index in range(H.shape[0]):\n",
    "            topic_descriptor = self.get_descriptor(terms,\n",
    "                                                   H,\n",
    "                                                   topic_index, 10)\n",
    "            coherence = self.calculate_topic_coherence(topic_descriptor)\n",
    "            overhall_coherence.append(coherence)\n",
    "        return np.array(overhall_coherence).mean()\n",
    "    \n",
    "    def plot_topic_coherence(self, coherences_k, axe):\n",
    "        \"\"\"\n",
    "        plot the coherence for each k in the topic model\n",
    "        \"\"\"\n",
    "        axe.plot(coherences_k.keys(), coherences_k.values())\n",
    "        axe.set_xlabel(\"Number of Topics\")\n",
    "        axe.set_ylabel(\"Mean Coherence\")\n",
    "        # add the points\n",
    "        axe.scatter(coherences_k.keys(), coherences_k.values(), s=120)\n",
    "        # find and annotate the maximum point on the plot\n",
    "        ymax = max(coherences_k.values())\n",
    "        best_k = max(coherences_k, key=coherences_k.get)\n",
    "        axe.annotate(\"k={}\".format(best_k),\n",
    "                     xy=(best_k, ymax),\n",
    "                     xytext=(best_k, ymax),\n",
    "                     textcoords=\"offset points\", fontsize=16)\n",
    "\n",
    "    def get_best_coherence(self):\n",
    "        \"\"\"\n",
    "        return a dict of the k\n",
    "        and the coresponding topic for ploting purpose\n",
    "        \"\"\"\n",
    "        coherences_k = dict()\n",
    "        for (k, W, H) in self.topic_models:\n",
    "            coherence = self.compute_overhall_topic_coherence(H, self.terms)\n",
    "            coherences_k[k] = coherence\n",
    "        best_coherence = max(coherences_k, key=coherences_k.get)\n",
    "        self.best_k = best_coherence\n",
    "        self.coherence_k = coherences_k\n",
    "    \n",
    "    def get_best_model(self):\n",
    "        \"\"\"\n",
    "        loop trough all the topic models and return the\n",
    "        best one with the coresponding terms\n",
    "        \"\"\"\n",
    "        best_k = self.best_k\n",
    "        best_model = self.topic_models[best_k-4]\n",
    "        assert best_model[0] == best_k\n",
    "        self.H = best_model[2]\n",
    "        self.W = best_model[1]\n",
    "    \n",
    "    def get_top_terms_per_model(self, top_terms=15):\n",
    "        '''\n",
    "        return the top term per matrix\n",
    "        '''\n",
    "        top_indices = np.flip(np.argsort(self.H))\n",
    "        terms_array = np.array(self.terms, dtype=np.str)\n",
    "        top_terms = np.take(terms_array, top_indices)[::-1, :top_terms]\n",
    "        self.top_terms = top_terms\n",
    "    \n",
    "    def get_top_terms_per_model(self, top_terms=15):\n",
    "        '''\n",
    "        for each row in H keep the n top terms and fill the rest with 0\n",
    "        check this question, https://stackoverflow.com/a/61268350/4683950\n",
    "        '''\n",
    "        top_terms =  self.H  * (self.H >= np.sort(self.H, axis=1)[:, [-top_terms]]).astype(int)\n",
    "        return pd.DataFrame(columns=self.terms, data=top_terms.round(4))\n",
    "    \n",
    "    def print_topic_descriptor(self, top_terms=10):\n",
    "        '''\n",
    "        given the H term print the topic descriptor\n",
    "        '''\n",
    "        for topic_index in range(self.H.shape[0]):\n",
    "            descriptor = self.get_descriptor( self.terms, self.H, topic_index, top_terms) \n",
    "            descriptor = [f\"{x[0]}=:{x[1]}\" for x in descriptor]\n",
    "            descriptor = ', '.join(descriptor)\n",
    "            current_topic = topic_index+1\n",
    "            print(f\"Topic {current_topic:.1f} === describe by : {descriptor}\")\n",
    "            print('=:'*20)\n",
    "\n"
   ]
  },
  {
   "cell_type": "code",
   "execution_count": 6,
   "metadata": {},
   "outputs": [],
   "source": [
    "# %load ../topic_modeling/dynamic_nmf.py\n",
    "\"\"\"\n",
    "this package hold the code for the dynamic topic modeling with the nmf\n",
    "\"\"\"\n",
    "import pandas as pd\n",
    "import numpy as np\n",
    "import pickle\n",
    "from pathlib import Path\n",
    "from gensim.models.fasttext import FastText as FT_gensim\n",
    "from gensim.test.utils import datapath\n",
    "from sklearn.feature_extraction.text import TfidfVectorizer\n",
    "from sklearn.decomposition import NMF\n",
    "from itertools import combinations\n",
    "from multiprocessing import Pool, cpu_count\n",
    "\n",
    "import matplotlib\n",
    "import matplotlib.pyplot as plt\n",
    "plt.style.use(\"ggplot\")\n",
    "matplotlib.rcParams.update({\"font.size\": 14})\n",
    "\n",
    "\n",
    "class DynamicNMF:\n",
    "    def __init__(self):\n",
    "        self.read_data()\n",
    "        self.min_date = self.data.created_at.min().strftime('%d-%b-%Y')\n",
    "        self.max_date = self.data.created_at.max().strftime('%d-%b-%Y')\n",
    "        self.split_into_windows_docs()\n",
    "\n",
    "    def read_data(self, dataset_name='cleanned_tweets_2021.csv'):\n",
    "        \"\"\"\n",
    "        read the dataset and return it in a pandas dataframe\n",
    "\n",
    "        Args:\n",
    "            dataset_name (str, optional): [description]. Defaults to\n",
    "            'cleanned_tweets_2021.csv'.\n",
    "        \"\"\"\n",
    "        self.data_path = Path.cwd().joinpath('..', 'data', dataset_name)\n",
    "        self.data = pd.read_csv(self.data_path, index_col='id',\n",
    "                                parse_dates=['created_at'])\n",
    "        self.data = self.data[['created_at', 'cleanned_text']]\n",
    "    \n",
    "    def split_into_windows_docs(self, freq='1W'):\n",
    "        \"\"\"\n",
    "        split the data into different windows document of the given length\n",
    "\n",
    "        Args:\n",
    "            freq (str, optional): [description]. Defaults to '1W'.\n",
    "        \"\"\"\n",
    "        self.windows_groups = self.data.groupby(pd.Grouper(key=\"created_at\",\n",
    "                                                           freq=freq))\n",
    "        self.windows_data = [df for time, df in self.windows_groups if not df.empty]\n",
    "\n",
    "    def plot_all_coherence(self):\n",
    "        \"\"\"\n",
    "        plot for all windows topic model the evolution of coherence measure\n",
    "        \"\"\"\n",
    "        fig, axes = plt.subplots(nrows=3, ncols=5, figsize=(25, 12.5))\n",
    "        axes = axes.flatten()\n",
    "        for coherence_k, axe, topic_model in zip(self.all_coherence, axes, self.all_topic_models):\n",
    "            topic_model.plot_topic_coherence(coherence_k, axe)\n",
    "    \n",
    "    def train_topic_models(self, window_data):\n",
    "        \"\"\"\n",
    "        train one topic model\n",
    "        \"\"\"\n",
    "        topic_model = TopicModelNMF(window_data)\n",
    "        topic_model.create_topic_model()\n",
    "        topic_model.get_best_coherence()\n",
    "        topic_model.get_best_model()\n",
    "        terms = topic_model.terms\n",
    "        coherence_k = topic_model.coherence_k\n",
    "        best_coherence = topic_model.best_k\n",
    "        return topic_model, coherence_k\n",
    "        \n",
    "        \n",
    "    \n",
    "    def generate_all_topic_models(self):\n",
    "        \"\"\"\n",
    "        compute topic modeling for all the time windows in the dataframe,s\n",
    "        \"\"\"\n",
    "\n",
    "        all_coherence = []\n",
    "        all_topic_models = list()\n",
    "        \"\"\"with Pool(cpu_count()) as pool:\n",
    "            results = pool.map(self.train_topic_models, self.windows_data[:2])\n",
    "        self.all_coherence = [coherence for _, coherence in results]\n",
    "        self.all_topic_models = [topic_model for topic_model, _ in results]\"\"\"\n",
    "        for window_data in self.windows_data:\n",
    "            results = self.train_topic_models(window_data)\n",
    "            all_coherence.append(results[1])\n",
    "            all_topic_models.append(results[0])\n",
    "        self.all_coherence = all_coherence\n",
    "        self.all_topic_models = all_topic_models\n",
    "\n",
    "    def build_time_windows_matrix(model):\n",
    "        \"\"\"\n",
    "        this build the $B$ matrix for the dynamic topic modelling\n",
    "        \"\"\"\n",
    "        all_topic_matrix = list()\n",
    "        for topic_model in model.all_topic_models:\n",
    "            H = topic_model.H\n",
    "            terms = topic_model.terms\n",
    "            topic_model.get_top_terms_per_model()\n",
    "            top_terms = topic_model.top_terms\n",
    "            all_topic_matrix.append(top_terms)\n",
    "            model.B_matrix = np.concatenate(all_topic_matrix, axis=0)\n",
    "    \n",
    "    def save_model(self):\n",
    "        \"\"\"\n",
    "        use the pickle module to save the model objectsms\n",
    "        \"\"\"\n",
    "        with open(Path().cwd().parent.joinpath('models', f\"dynamic_topic_model_{datetime.now()}\"), 'wb') as file:\n",
    "            pickle.dump(self, file)\n",
    "\n",
    "    def load_model(self, path):\n",
    "        \"\"\"\n",
    "        loads the saved model\n",
    "        \"\"\"\n",
    "        with open(Path().cwd().parent.joinpath('data', 'model', \"path\")) as file:\n",
    "            pickle.load(file)\n"
   ]
  },
  {
   "cell_type": "markdown",
   "metadata": {},
   "source": [
    "with all the function in one machine, we can now use it to create a new topic modeling and apply the suggested method to generate the dynamic NMF"
   ]
  },
  {
   "cell_type": "markdown",
   "metadata": {},
   "source": [
    "### next step is the analysis of the dynamic topics"
   ]
  },
  {
   "cell_type": "markdown",
   "metadata": {},
   "source": [
    "In this step we will analyse the topic generated by applying the topic modeling to the $B$"
   ]
  },
  {
   "cell_type": "markdown",
   "metadata": {},
   "source": [
    "Let us plot the topics per timewindows documents matrixes"
   ]
  },
  {
   "cell_type": "code",
   "execution_count": null,
   "metadata": {
    "scrolled": true
   },
   "outputs": [
    {
     "name": "stderr",
     "output_type": "stream",
     "text": [
      "/Users/es.py/Projects/Personal/nlp_course_coursera_russia_uni/.venv/lib/python3.6/site-packages/numpy/lib/arraysetops.py:569: FutureWarning: elementwise comparison failed; returning scalar instead, but in the future will perform elementwise comparison\n",
      "  mask |= (ar1 == a)\n"
     ]
    }
   ],
   "source": [
    "dynamic_nmf = DynamicNMF()\n",
    "dynamic_nmf.generate_all_topic_models()"
   ]
  },
  {
   "cell_type": "code",
   "execution_count": 10,
   "metadata": {},
   "outputs": [],
   "source": [
    " def plot_all_coherence(self):\n",
    "    \"\"\"\n",
    "    plot for all windows topic model the evolution of coherence measure\n",
    "    \"\"\"\n",
    "    fig, axes = plt.subplots(nrows=3, ncols=5, figsize=(25, 12.5))\n",
    "    axes = axes.flatten()\n",
    "    for coherence_k, axe, topic_model in zip(self.all_coherence, axes, self.all_topic_models):\n",
    "        topic_model.plot_topic_coherence(coherence_k, axe)"
   ]
  },
  {
   "cell_type": "code",
   "execution_count": 11,
   "metadata": {},
   "outputs": [
    {
     "data": {
      "image/png": "[encoded data removed]",
      "text/plain": [
       "<Figure size 1800x900 with 15 Axes>"
      ]
     },
     "metadata": {},
     "output_type": "display_data"
    }
   ],
   "source": [
    "plot_all_coherence(dynamic_nmf)"
   ]
  },
  {
   "cell_type": "code",
   "execution_count": 10,
   "metadata": {},
   "outputs": [],
   "source": [
    "from datetime import datetime\n",
    "import json"
   ]
  },
  {
   "cell_type": "code",
   "execution_count": 14,
   "metadata": {},
   "outputs": [],
   "source": [
    "def build_time_windows_matrix(model):\n",
    "    \"\"\"\n",
    "    this build the $B$ matrix for the dynamic topic modelling\n",
    "    \"\"\"\n",
    "    all_topic_matrix = list()\n",
    "    for topic_model in model.all_topic_models:\n",
    "        H = topic_model.H\n",
    "        terms = topic_model.terms\n",
    "        topic_model.get_top_terms_per_model()\n",
    "        top_terms = topic_model.top_terms\n",
    "        all_topic_matrix.append(top_terms)\n",
    "        model.B_matrix = np.concatenate(all_topic_matrix, axis=0)"
   ]
  },
  {
   "cell_type": "code",
   "execution_count": 15,
   "metadata": {
    "scrolled": true
   },
   "outputs": [],
   "source": [
    "build_time_windows_matrix(dynamic_nmf)"
   ]
  },
  {
   "cell_type": "code",
   "execution_count": 16,
   "metadata": {},
   "outputs": [
    {
     "data": {
      "text/plain": [
       "array([['thread', 'anecdote zair', 'anecdote', ..., 'envahissement zair',\n",
       "        'puant', 'envahissement'],\n",
       "       ['leav villag', 'african pygmie', 'world shortest', ..., 'leav',\n",
       "        'set', 'villag'],\n",
       "       ['rappeur damso', 'creer fondation', 'damso creer', ..., 'lutter',\n",
       "        'naturel', 'afin'],\n",
       "       ...,\n",
       "       ['retweet', 'jeune pilote', 'retweet encourager', ..., 'massacre',\n",
       "        'yumbi', 'massacre yumbi'],\n",
       "       ['corruption', 'lutte', 'lutte corruption', ..., 'maladie', 'usa',\n",
       "        'paix declarer'],\n",
       "       ['page tourner', 'vouloir rendre', 'rendre annee', ...,\n",
       "        'annee voler', 'tourner', 'voler']], dtype='<U120')"
      ]
     },
     "execution_count": 16,
     "metadata": {},
     "output_type": "execute_result"
    }
   ],
   "source": [
    "dynamic_nmf.B_matrix"
   ]
  },
  {
   "cell_type": "code",
   "execution_count": 17,
   "metadata": {},
   "outputs": [],
   "source": [
    "def get_top_terms_per_model(model, top_terms=15):\n",
    "    '''\n",
    "    for each row in H keep the n top terms and fill the rest with 0\n",
    "    check this question, https://stackoverflow.com/a/61268350/4683950\n",
    "    '''\n",
    "    top_terms =  model.H  * (model.H >= np.sort(model.H, axis=1)[:, [-top_terms]]).astype(int)\n",
    "    return pd.DataFrame(columns=model.terms, data=top_terms.round(4))"
   ]
  },
  {
   "cell_type": "code",
   "execution_count": 18,
   "metadata": {},
   "outputs": [],
   "source": [
    "test_model = dynamic_nmf.all_topic_models[0]"
   ]
  },
  {
   "cell_type": "code",
   "execution_count": 19,
   "metadata": {},
   "outputs": [],
   "source": [
    "all_data = pd.concat([get_top_terms_per_model(topic_model, 30) for topic_model in dynamic_nmf.all_topic_models])"
   ]
  },
  {
   "cell_type": "code",
   "execution_count": 20,
   "metadata": {
    "scrolled": true
   },
   "outputs": [
    {
     "data": {
      "text/plain": [
       "(148, 1784046)"
      ]
     },
     "execution_count": 20,
     "metadata": {},
     "output_type": "execute_result"
    }
   ],
   "source": [
    "all_data.shape"
   ]
  },
  {
   "cell_type": "code",
   "execution_count": 21,
   "metadata": {},
   "outputs": [],
   "source": [
    "all_data = all_data.fillna(0.0).reset_index(drop=True)"
   ]
  },
  {
   "cell_type": "code",
   "execution_count": 22,
   "metadata": {},
   "outputs": [
    {
     "data": {
      "text/html": [
       "<div>\n",
       "<style scoped>\n",
       "    .dataframe tbody tr th:only-of-type {\n",
       "        vertical-align: middle;\n",
       "    }\n",
       "\n",
       "    .dataframe tbody tr th {\n",
       "        vertical-align: top;\n",
       "    }\n",
       "\n",
       "    .dataframe thead th {\n",
       "        text-align: right;\n",
       "    }\n",
       "</style>\n",
       "<table border=\"1\" class=\"dataframe\">\n",
       "  <thead>\n",
       "    <tr style=\"text-align: right;\">\n",
       "      <th></th>\n",
       "      <th>000</th>\n",
       "      <th>000 000</th>\n",
       "      <th>000 600</th>\n",
       "      <th>000 bonus</th>\n",
       "      <th>000 disbursed</th>\n",
       "      <th>000 displaced</th>\n",
       "      <th>000 ffbe</th>\n",
       "      <th>000 oyshushu</th>\n",
       "      <th>000 per</th>\n",
       "      <th>000usd</th>\n",
       "      <th>...</th>\n",
       "      <th>œuvre reta</th>\n",
       "      <th>œuvre retabl</th>\n",
       "      <th>œuvre retablir</th>\n",
       "      <th>œuvre sortie</th>\n",
       "      <th>œuvre talibanie</th>\n",
       "      <th>œuvre tenebr</th>\n",
       "      <th>œuvre tenebre</th>\n",
       "      <th>œuvre tshisekedi</th>\n",
       "      <th>œuvrer bonheur</th>\n",
       "      <th>œuvrer long</th>\n",
       "    </tr>\n",
       "  </thead>\n",
       "  <tbody>\n",
       "    <tr>\n",
       "      <th>0</th>\n",
       "      <td>0.0</td>\n",
       "      <td>0.0</td>\n",
       "      <td>0.0</td>\n",
       "      <td>0.0</td>\n",
       "      <td>0.0</td>\n",
       "      <td>0.0</td>\n",
       "      <td>0.0</td>\n",
       "      <td>0.0</td>\n",
       "      <td>0.0</td>\n",
       "      <td>0.0</td>\n",
       "      <td>...</td>\n",
       "      <td>0.0</td>\n",
       "      <td>0.0</td>\n",
       "      <td>0.0</td>\n",
       "      <td>0.0</td>\n",
       "      <td>0.0</td>\n",
       "      <td>0.0</td>\n",
       "      <td>0.0</td>\n",
       "      <td>0.0</td>\n",
       "      <td>0.0</td>\n",
       "      <td>0.0</td>\n",
       "    </tr>\n",
       "    <tr>\n",
       "      <th>1</th>\n",
       "      <td>0.0</td>\n",
       "      <td>0.0</td>\n",
       "      <td>0.0</td>\n",
       "      <td>0.0</td>\n",
       "      <td>0.0</td>\n",
       "      <td>0.0</td>\n",
       "      <td>0.0</td>\n",
       "      <td>0.0</td>\n",
       "      <td>0.0</td>\n",
       "      <td>0.0</td>\n",
       "      <td>...</td>\n",
       "      <td>0.0</td>\n",
       "      <td>0.0</td>\n",
       "      <td>0.0</td>\n",
       "      <td>0.0</td>\n",
       "      <td>0.0</td>\n",
       "      <td>0.0</td>\n",
       "      <td>0.0</td>\n",
       "      <td>0.0</td>\n",
       "      <td>0.0</td>\n",
       "      <td>0.0</td>\n",
       "    </tr>\n",
       "    <tr>\n",
       "      <th>2</th>\n",
       "      <td>0.0</td>\n",
       "      <td>0.0</td>\n",
       "      <td>0.0</td>\n",
       "      <td>0.0</td>\n",
       "      <td>0.0</td>\n",
       "      <td>0.0</td>\n",
       "      <td>0.0</td>\n",
       "      <td>0.0</td>\n",
       "      <td>0.0</td>\n",
       "      <td>0.0</td>\n",
       "      <td>...</td>\n",
       "      <td>0.0</td>\n",
       "      <td>0.0</td>\n",
       "      <td>0.0</td>\n",
       "      <td>0.0</td>\n",
       "      <td>0.0</td>\n",
       "      <td>0.0</td>\n",
       "      <td>0.0</td>\n",
       "      <td>0.0</td>\n",
       "      <td>0.0</td>\n",
       "      <td>0.0</td>\n",
       "    </tr>\n",
       "  </tbody>\n",
       "</table>\n",
       "<p>3 rows × 1784046 columns</p>\n",
       "</div>"
      ],
      "text/plain": [
       "   000  000 000  000 600  000 bonus  000 disbursed  000 displaced  000 ffbe  \\\n",
       "0  0.0      0.0      0.0        0.0            0.0            0.0       0.0   \n",
       "1  0.0      0.0      0.0        0.0            0.0            0.0       0.0   \n",
       "2  0.0      0.0      0.0        0.0            0.0            0.0       0.0   \n",
       "\n",
       "   000 oyshushu  000 per  000usd  ...  œuvre reta  œuvre retabl  \\\n",
       "0           0.0      0.0     0.0  ...         0.0           0.0   \n",
       "1           0.0      0.0     0.0  ...         0.0           0.0   \n",
       "2           0.0      0.0     0.0  ...         0.0           0.0   \n",
       "\n",
       "   œuvre retablir  œuvre sortie  œuvre talibanie  œuvre tenebr  œuvre tenebre  \\\n",
       "0             0.0           0.0              0.0           0.0            0.0   \n",
       "1             0.0           0.0              0.0           0.0            0.0   \n",
       "2             0.0           0.0              0.0           0.0            0.0   \n",
       "\n",
       "   œuvre tshisekedi  œuvrer bonheur  œuvrer long  \n",
       "0               0.0             0.0          0.0  \n",
       "1               0.0             0.0          0.0  \n",
       "2               0.0             0.0          0.0  \n",
       "\n",
       "[3 rows x 1784046 columns]"
      ]
     },
     "execution_count": 22,
     "metadata": {},
     "output_type": "execute_result"
    }
   ],
   "source": [
    "all_data.head(3)"
   ]
  },
  {
   "cell_type": "code",
   "execution_count": 23,
   "metadata": {},
   "outputs": [],
   "source": [
    "boolean_index_null  = all_data != 0"
   ]
  },
  {
   "cell_type": "code",
   "execution_count": 24,
   "metadata": {},
   "outputs": [],
   "source": [
    "boolean_index_null = boolean_index_null.any(axis=\"rows\")"
   ]
  },
  {
   "cell_type": "code",
   "execution_count": 25,
   "metadata": {},
   "outputs": [
    {
     "data": {
      "text/plain": [
       "(1784046,)"
      ]
     },
     "execution_count": 25,
     "metadata": {},
     "output_type": "execute_result"
    }
   ],
   "source": [
    "boolean_index_null.shape"
   ]
  },
  {
   "cell_type": "code",
   "execution_count": 26,
   "metadata": {},
   "outputs": [],
   "source": [
    "non_zero_per_columns = np.count_nonzero(all_data, axis=0)"
   ]
  },
  {
   "cell_type": "code",
   "execution_count": 28,
   "metadata": {},
   "outputs": [
    {
     "data": {
      "text/plain": [
       "3687"
      ]
     },
     "execution_count": 28,
     "metadata": {},
     "output_type": "execute_result"
    }
   ],
   "source": [
    "np.count_nonzero(non_zero_per_columns)"
   ]
  },
  {
   "cell_type": "code",
   "execution_count": 29,
   "metadata": {
    "scrolled": true
   },
   "outputs": [],
   "source": [
    "all_data = all_data.loc[:, boolean_index_null]"
   ]
  },
  {
   "cell_type": "code",
   "execution_count": 30,
   "metadata": {},
   "outputs": [],
   "source": [
    "assert all_data.shape[1] == np.count_nonzero(non_zero_per_columns)"
   ]
  },
  {
   "cell_type": "markdown",
   "metadata": {},
   "source": [
    "let get the columns which have have 2 zeros zeros and delete them and then analyse and see what will be the reults"
   ]
  },
  {
   "cell_type": "code",
   "execution_count": 31,
   "metadata": {},
   "outputs": [
    {
     "data": {
      "text/plain": [
       "(148, 3687)"
      ]
     },
     "execution_count": 31,
     "metadata": {},
     "output_type": "execute_result"
    }
   ],
   "source": [
    "all_data.shape"
   ]
  },
  {
   "cell_type": "code",
   "execution_count": 32,
   "metadata": {},
   "outputs": [
    {
     "data": {
      "text/plain": [
       "0.0"
      ]
     },
     "execution_count": 32,
     "metadata": {},
     "output_type": "execute_result"
    }
   ],
   "source": [
    "all_data.iloc[0, 1355]"
   ]
  },
  {
   "cell_type": "code",
   "execution_count": 33,
   "metadata": {},
   "outputs": [
    {
     "data": {
      "text/plain": [
       "(148, 3687)"
      ]
     },
     "execution_count": 33,
     "metadata": {},
     "output_type": "execute_result"
    }
   ],
   "source": [
    "all_data.shape"
   ]
  },
  {
   "cell_type": "markdown",
   "metadata": {},
   "source": [
    "Here before doing the dynamic topic model let get the top terms matrix for the dynamic topic modeling"
   ]
  },
  {
   "cell_type": "code",
   "execution_count": 148,
   "metadata": {},
   "outputs": [
    {
     "data": {
      "text/plain": [
       "array([[1365, 1366,   72, ...,   67,  279, 1315],\n",
       "       [ 769,   34, 1058, ..., 1189,  297,  925],\n",
       "       [1461,  309, 1182, ..., 1460,  206,  643],\n",
       "       ...,\n",
       "       [1224, 2743, 2652, ..., 3655,  250, 2032],\n",
       "       [ 289,  794,  795, ..., 1075,  821, 1852],\n",
       "       [1001, 2250, 3677, ...,  883, 3638, 2851]])"
      ]
     },
     "execution_count": 148,
     "metadata": {},
     "output_type": "execute_result"
    }
   ],
   "source": [
    "all_data.values.argsort()[:, ::-1][:, :30]"
   ]
  },
  {
   "cell_type": "code",
   "execution_count": 150,
   "metadata": {},
   "outputs": [
    {
     "ename": "AttributeError",
     "evalue": "'DataFrame' object has no attribute 'apply_along_axis'",
     "output_type": "error",
     "traceback": [
      "\u001b[0;31m------------\u001b[0m",
      "\u001b[0;31mAttributeError\u001b[0mTraceback (most recent call last)",
      "\u001b[0;32m<ipython-input-150-f24fc1129f39>\u001b[0m in \u001b[0;36m<module>\u001b[0;34m\u001b[0m\n\u001b[0;32m----> 1\u001b[0;31m \u001b[0mall_data\u001b[0m\u001b[0;34m.\u001b[0m\u001b[0mapply_along_axis\u001b[0m\u001b[0;34m(\u001b[0m\u001b[0mnumpy_array_to_sentence\u001b[0m\u001b[0;34m,\u001b[0m \u001b[0marr\u001b[0m\u001b[0;34m=\u001b[0m\u001b[0mdynamic_doc_term_matrix\u001b[0m\u001b[0;34m,\u001b[0m \u001b[0maxis\u001b[0m\u001b[0;34m=\u001b[0m\u001b[0;36m1\u001b[0m\u001b[0;34m)\u001b[0m\u001b[0;34m[\u001b[0m\u001b[0;34m:\u001b[0m\u001b[0;34m,\u001b[0m \u001b[0;34m:\u001b[0m\u001b[0;36m30\u001b[0m\u001b[0;34m]\u001b[0m\u001b[0;34m\u001b[0m\u001b[0m\n\u001b[0m",
      "\u001b[0;32m~/Projects/Personal/nlp_course_coursera_russia_uni/.venv/lib/python3.6/site-packages/pandas/core/generic.py\u001b[0m in \u001b[0;36m__getattr__\u001b[0;34m(self, name)\u001b[0m\n\u001b[1;32m   5137\u001b[0m             \u001b[0;32mif\u001b[0m \u001b[0mself\u001b[0m\u001b[0;34m.\u001b[0m\u001b[0m_info_axis\u001b[0m\u001b[0;34m.\u001b[0m\u001b[0m_can_hold_identifiers_and_holds_name\u001b[0m\u001b[0;34m(\u001b[0m\u001b[0mname\u001b[0m\u001b[0;34m)\u001b[0m\u001b[0;34m:\u001b[0m\u001b[0;34m\u001b[0m\u001b[0m\n\u001b[1;32m   5138\u001b[0m                 \u001b[0;32mreturn\u001b[0m \u001b[0mself\u001b[0m\u001b[0;34m[\u001b[0m\u001b[0mname\u001b[0m\u001b[0;34m]\u001b[0m\u001b[0;34m\u001b[0m\u001b[0m\n\u001b[0;32m-> 5139\u001b[0;31m             \u001b[0;32mreturn\u001b[0m \u001b[0mobject\u001b[0m\u001b[0;34m.\u001b[0m\u001b[0m__getattribute__\u001b[0m\u001b[0;34m(\u001b[0m\u001b[0mself\u001b[0m\u001b[0;34m,\u001b[0m \u001b[0mname\u001b[0m\u001b[0;34m)\u001b[0m\u001b[0;34m\u001b[0m\u001b[0m\n\u001b[0m\u001b[1;32m   5140\u001b[0m \u001b[0;34m\u001b[0m\u001b[0m\n\u001b[1;32m   5141\u001b[0m     \u001b[0;32mdef\u001b[0m \u001b[0m__setattr__\u001b[0m\u001b[0;34m(\u001b[0m\u001b[0mself\u001b[0m\u001b[0;34m,\u001b[0m \u001b[0mname\u001b[0m\u001b[0;34m:\u001b[0m \u001b[0mstr\u001b[0m\u001b[0;34m,\u001b[0m \u001b[0mvalue\u001b[0m\u001b[0;34m)\u001b[0m \u001b[0;34m->\u001b[0m \u001b[0;32mNone\u001b[0m\u001b[0;34m:\u001b[0m\u001b[0;34m\u001b[0m\u001b[0m\n",
      "\u001b[0;31mAttributeError\u001b[0m: 'DataFrame' object has no attribute 'apply_along_axis'"
     ]
    }
   ],
   "source": [
    "all_data.apply_along_axis(numpy_array_to_sentence, arr=dynamic_doc_term_matrix, axis=1)[:, :30]"
   ]
  },
  {
   "cell_type": "markdown",
   "metadata": {},
   "source": [
    "sort the array to get the top largest element and get only the 30 largest elements in the matrix"
   ]
  },
  {
   "cell_type": "code",
   "execution_count": 154,
   "metadata": {},
   "outputs": [],
   "source": [
    "dynamic_doc_term_matrix = np.take(all_data.columns.values, all_data.values.argsort()[:, ::-1])[:, :25]"
   ]
  },
  {
   "cell_type": "code",
   "execution_count": 155,
   "metadata": {},
   "outputs": [
    {
     "data": {
      "text/plain": [
       "array(['thread thread_anecdote anecdote_zair anecdote zair boot puant envahissement_zair envahissement symboliser symboliser_envahissement boot_puant zair_malheur jour_symboliser malheur_boot malheur mai_jour jour mai thread_special histoire_image allon_retracer celebration_an celebration retracer_histoire',\n",
       "       'leav_villag african_pygmie people_friendly set_people shortest pygmie_world friendly_never friendly shortest_set world_shortest never_leav pygmie leav set villag never world people african country areer_genocidaire sadc_free free_movement fellow_african fellow',\n",
       "       'vol_ressource creer_fondation rappeur_damso rappeur afin_lutter lutter_vol damso_creer damso fondation_afin ressource_naturel fondation ressource lutter naturel afin vol creer monde_creer aimer_monde creer_merveille dieu_aimer cher merveille aimer dieu',\n",
       "       'felix_tshisekedi felix dossier_jour jour_felix inspection inspection_general demande_audit general_financ audit_inspection financ_ministre tshisekedi_demande audit tshisekedi ministre_justic dossier justic financ demande ministre jour general coiffeur_felix coiffeur dement tshisekedi_trouver',\n",
       "       'zinc composer_cuivre soussol_richess richess_composer zinc_fer richesse_soussol soussol cobalt_zinc cuivre fer_coltan cuivre_cobalt coltan richesse richess fer diamer_petro coltan_diamer petro diamer composer cobalt projet suivre_culte forfait_losambo culte_dimanche',\n",
       "       'derouler_kinshasa lieu_passer passer_france miss_europe derouler europe_derouler france_cause election_miss revolte kinshasa_lieu cause_revolte miss revolte_estudiantin estudiantin europe election cause passer lieu france kinshasa passer_enfer aid_personn personn_coronavirus coronavirus_passer',\n",
       "       'enquete_judiciaire dilatoire dilatoire_enquete jouer_dilatoire soupconner justice_jouer soupconner_ministre acaj_soupconner enquete judiciaire ministre_justice jouer acaj justice ministre judiciaire_demander urgent_acaj urgent demander judiciaire_prescrire prescrire magistrat gopa flashflash_presid',\n",
       "       'pari passager_avion quarantain pari_mettre hier_provenance mettre_quarantain atteri atteri_hier france_atteri quarantain_pouvonsnou pouvonsnou avion_air provenance_pari air_france passager provenance air avion hier mettre france belgium_united fact_mastermind genocid_tutsi tutsi_france',\n",
       "       'mai mai_jour constat_mai jour_ferie souvent_savoir ferie_pose ferie pose_souvent constat pose souvent jour savoir symboliser_envahissement malheur_boot envahissement_zair boot_puant symboliser boot jour_symboliser zair_malheur puant envahissement malheur mai_mai',\n",
       "       'ministere defense_demande obsequ obsequ_general defense demande_ministere ministere_financ financ_obsequ ministere_defense general delphi general_delphi demande financ minister general_delphin delphin kahimbi delphin_kahimbi parquet_general parquet general_pres cour pres_cour agent_saisir',\n",
       "       'pays terre monde compte_pays qualifier_mega octet monde_qualifier octet_biodiversite mega_octet pays_monde qualifier mega biodiversite compte grand_pays convoiter_grand goma_merveill mille terre_identite terre_mille mille_raison raison_convoiter pays_terre merveill_terre identite',\n",
       "       'avatar avatar_asap asap need_everyone everyone_get get_hood asap_street avatar_netflix hungr hood_avatar hood street_hungr netflix_need netflix street everyone need get help help_get medical get_medical think think_everyone need_talk',\n",
       "       'cas confirmer cas_confirmer covid total samedi confirmer_samedi kongocentral covid_cas kinshasa hautkatanga kongocentral_hautkatanga kinshasa_kongocentral samedi_kinshasa rdccovid hautkatanga_total case deces guerir cumul test cumul_cas worker transmission covid_case',\n",
       "       'decision confrontation bruit decision_prise aucun_decision diffuser_aucun diffuser bruit_diffuser contrairement_bruit contrairement prise_eveque eveque mukuna eveque_mukuna prise mukuna_confrontation aucun independance_congolais considerer_hero homme_patric lumumba_considerer patric_lumumba figure_',\n",
       "       'soutien udp soutien_udp menacer_petition apport_soutien prison_apport apport udp_menacer petition menacer prison petition_pre pre apporter_soutien depute apporter kamerh vital kamerh_apporter vital_kamerh unc kabund depute_unc encourager_sortie unc_encourager'],\n",
       "      dtype='<U299')"
      ]
     },
     "execution_count": 155,
     "metadata": {},
     "output_type": "execute_result"
    }
   ],
   "source": [
    "np.apply_along_axis(numpy_array_to_sentence, arr=dynamic_doc_term_matrix, axis=1)[:15]"
   ]
  },
  {
   "cell_type": "code",
   "execution_count": 156,
   "metadata": {},
   "outputs": [
    {
     "data": {
      "text/plain": [
       "(148, 25)"
      ]
     },
     "execution_count": 156,
     "metadata": {},
     "output_type": "execute_result"
    }
   ],
   "source": [
    "dynamic_doc_term_matrix.shape"
   ]
  },
  {
   "cell_type": "code",
   "execution_count": 157,
   "metadata": {},
   "outputs": [],
   "source": [
    "all_best_k = [model.best_k for model in dynamic_nmf.all_topic_models]"
   ]
  },
  {
   "cell_type": "code",
   "execution_count": 158,
   "metadata": {},
   "outputs": [],
   "source": [
    "from itertools import accumulate"
   ]
  },
  {
   "cell_type": "code",
   "execution_count": 159,
   "metadata": {},
   "outputs": [],
   "source": [
    "assert sum(all_best_k) == all_data.shape[0]"
   ]
  },
  {
   "cell_type": "code",
   "execution_count": 160,
   "metadata": {
    "scrolled": true
   },
   "outputs": [],
   "source": [
    "cumm_best_k = list(accumulate(all_best_k))"
   ]
  },
  {
   "cell_type": "code",
   "execution_count": 161,
   "metadata": {},
   "outputs": [
    {
     "data": {
      "text/plain": [
       "[15, 34, 40, 53, 58, 62, 69, 73, 81, 90, 106, 115, 134, 141, 148]"
      ]
     },
     "execution_count": 161,
     "metadata": {},
     "output_type": "execute_result"
    }
   ],
   "source": [
    "cumm_best_k"
   ]
  },
  {
   "cell_type": "code",
   "execution_count": 162,
   "metadata": {},
   "outputs": [],
   "source": [
    "def numpy_array_to_sentence(array):\n",
    "    \"\"\"\n",
    "    take a numpy array with bigram and unigrams and convert it to a sentece with\n",
    "    \"\"\"\n",
    "    array = [\"_\".join(x.split(\" \")) for x in array]\n",
    "    return \" \".join(array)"
   ]
  },
  {
   "cell_type": "code",
   "execution_count": 163,
   "metadata": {},
   "outputs": [],
   "source": [
    "dynamic_doc_term_matrix = np.apply_along_axis(numpy_array_to_sentence, arr=dynamic_doc_term_matrix, axis=1)"
   ]
  },
  {
   "cell_type": "code",
   "execution_count": 164,
   "metadata": {},
   "outputs": [],
   "source": [
    "dynamic_doc_term_matrix = pd.DataFrame(data=dynamic_doc_term_matrix, columns=['cleanned_text'])"
   ]
  },
  {
   "cell_type": "markdown",
   "metadata": {},
   "source": [
    "from this stage we have our document term for the dynamic topic modeling , each row is a time windows topic and the columns are the weight of those terms in the time windows.. "
   ]
  },
  {
   "cell_type": "markdown",
   "metadata": {},
   "source": [
    "we can againg apply another layer of topic modeling to this document term matrix, whic is the second layer."
   ]
  },
  {
   "cell_type": "code",
   "execution_count": 22,
   "metadata": {},
   "outputs": [
    {
     "ename": "NameError",
     "evalue": "name 'TopicModelNMF' is not defined",
     "output_type": "error",
     "traceback": [
      "\u001b[0;31m------------\u001b[0m",
      "\u001b[0;31mNameError\u001b[0mTraceback (most recent call last)",
      "\u001b[0;32m<ipython-input-22-4ac6aed6bf66>\u001b[0m in \u001b[0;36m<module>\u001b[0;34m\u001b[0m\n\u001b[0;32m----> 1\u001b[0;31m \u001b[0msecond_layer_dynamic_topic_model\u001b[0m \u001b[0;34m=\u001b[0m \u001b[0mTopicModelNMF\u001b[0m\u001b[0;34m(\u001b[0m\u001b[0mdynamic_doc_term_matrix\u001b[0m\u001b[0;34m,\u001b[0m \u001b[0mvectorize\u001b[0m\u001b[0;34m=\u001b[0m\u001b[0;32mTrue\u001b[0m\u001b[0;34m)\u001b[0m\u001b[0;34m\u001b[0m\u001b[0m\n\u001b[0m",
      "\u001b[0;31mNameError\u001b[0m: name 'TopicModelNMF' is not defined"
     ]
    }
   ],
   "source": [
    "second_layer_dynamic_topic_model = TopicModelNMF(dynamic_doc_term_matrix, vectorize=True)"
   ]
  },
  {
   "cell_type": "code",
   "execution_count": 166,
   "metadata": {},
   "outputs": [],
   "source": [
    "second_layer_dynamic_topic_model.create_topic_model(ngram_range=(1,1))"
   ]
  },
  {
   "cell_type": "code",
   "execution_count": 167,
   "metadata": {},
   "outputs": [],
   "source": [
    "second_layer_dynamic_topic_model.get_best_coherence()\n",
    "second_layer_dynamic_topic_model.get_best_model()"
   ]
  },
  {
   "cell_type": "code",
   "execution_count": 168,
   "metadata": {},
   "outputs": [],
   "source": [
    "def plot_topic_coherence(coherences_k):\n",
    "    \"\"\"\n",
    "    plot the coherence for each k in the topic model\n",
    "    \"\"\"\n",
    "    fig, axe = plt.subplots(nrows=1, ncols=1, figsize=(5, 2.5))\n",
    "    axe.plot(coherences_k.keys(), coherences_k.values())\n",
    "    axe.set_xlabel(\"Number of Topics\")\n",
    "    axe.set_ylabel(\"Mean Coherence\")\n",
    "        # add the points\n",
    "    axe.scatter(coherences_k.keys(), coherences_k.values(), s=120)\n",
    "        # find and annotate the maximum point on the plot\n",
    "    ymax = max(coherences_k.values())\n",
    "    best_k = max(coherences_k, key=coherences_k.get)\n",
    "    axe.annotate(\"k={}\".format(best_k),\n",
    "                 xy=(best_k, ymax),\n",
    "                 xytext=(best_k, ymax),\n",
    "                 textcoords=\"offset points\", fontsize=16)\n",
    "    fig.show()"
   ]
  },
  {
   "cell_type": "code",
   "execution_count": 169,
   "metadata": {},
   "outputs": [
    {
     "name": "stderr",
     "output_type": "stream",
     "text": [
      "/Users/es.py/Projects/Personal/nlp_course_coursera_russia_uni/.venv/lib/python3.6/site-packages/ipykernel_launcher.py:18: UserWarning: Matplotlib is currently using module://ipykernel.pylab.backend_inline, which is a non-GUI backend, so cannot show the figure.\n"
     ]
    },
    {
     "data": {
      "image/png": "[encoded data removed]",
      "text/plain": [
       "<Figure size 360x180 with 1 Axes>"
      ]
     },
     "metadata": {},
     "output_type": "display_data"
    }
   ],
   "source": [
    "plot_topic_coherence(second_layer_dynamic_topic_model.coherence_k)"
   ]
  },
  {
   "cell_type": "code",
   "execution_count": 170,
   "metadata": {},
   "outputs": [
    {
     "name": "stdout",
     "output_type": "stream",
     "text": [
      "Topic 1.0 === describe by : tshisekedi=:0.37, chef=:0.33, felix_tshisekedi=:0.32, felix=:0.32, tshilombo=:0.31, tshisekedi_tshilombo=:0.31, felixantoin=:0.31, chef_felixantoin=:0.26, felixantoin_tshisekedi=:0.26, president=:0.26\n",
      "=:=:=:=:=:=:=:=:=:=:=:=:=:=:=:=:=:=:=:=:\n",
      "Topic 2.0 === describe by : rtvonlin_breakingnew=:0.27, rtv_new=:0.27, rtvonlin=:0.27, rtvnews_rtvonlin=:0.27, rtvnews=:0.27, breakingnews_newsupdat=:0.27, breakingnews=:0.27, rtv_news=:0.27, breakingnew=:0.27, new_rtvnews=:0.27\n",
      "=:=:=:=:=:=:=:=:=:=:=:=:=:=:=:=:=:=:=:=:\n",
      "Topic 3.0 === describe by : richesse=:0.28, richesse_soussol=:0.28, richess_composer=:0.28, richess=:0.28, reunir=:0.26, reunion=:0.26, revolte_estudiantin=:0.26, revolte=:0.26, retrouver=:0.26, retracer=:0.26\n",
      "=:=:=:=:=:=:=:=:=:=:=:=:=:=:=:=:=:=:=:=:\n",
      "Topic 4.0 === describe by : zimbabwe=:0.28, endsar_namibi=:0.27, enough_zimbabwe=:0.27, suffered=:0.27, endsar=:0.27, enough=:0.27, nigerier_endsar=:0.27, endsar_namibia=:0.27, nami=:0.27, suffered_enough=:0.27\n",
      "=:=:=:=:=:=:=:=:=:=:=:=:=:=:=:=:=:=:=:=:\n",
      "Topic 5.0 === describe by : genocid=:0.4, mort=:0.31, million=:0.25, million_mort=:0.25, genocid_genocid=:0.24, bonjour=:0.23, bon_journee=:0.23, continuer_toujours=:0.23, bonjour_genocid=:0.23, genocid_continuer=:0.23\n",
      "=:=:=:=:=:=:=:=:=:=:=:=:=:=:=:=:=:=:=:=:\n",
      "Topic 6.0 === describe by : national=:0.36, assemblee=:0.33, assemblee_national=:0.33, depute=:0.29, petition=:0.27, bureau=:0.24, depute_national=:0.21, mabunder=:0.19, mabunda=:0.19, jeanin=:0.19\n",
      "=:=:=:=:=:=:=:=:=:=:=:=:=:=:=:=:=:=:=:=:\n",
      "Topic 7.0 === describe by : sorcier_pretre=:0.23, accuser=:0.23, demon_kinshaser=:0.23, combattre_demon=:0.23, demon=:0.23, pretendre_combattre=:0.23, evangeliste_pretendre=:0.23, evangeliste=:0.23, pretre=:0.23, enfant_sorcier=:0.23\n",
      "=:=:=:=:=:=:=:=:=:=:=:=:=:=:=:=:=:=:=:=:\n",
      "Topic 8.0 === describe by : happening=:0.26, thread=:0.19, thing=:0.18, acknowledging_thread=:0.18, thing_happening=:0.18, acknowledging=:0.18, one_acknowledging=:0.18, happening_one=:0.18, siler=:0.18, talking_hold=:0.18\n",
      "=:=:=:=:=:=:=:=:=:=:=:=:=:=:=:=:=:=:=:=:\n"
     ]
    }
   ],
   "source": [
    "second_layer_dynamic_topic_model.print_topic_descriptor()"
   ]
  },
  {
   "cell_type": "code",
   "execution_count": 171,
   "metadata": {},
   "outputs": [
    {
     "data": {
      "text/plain": [
       "array([[5.73383037e-04, 5.73383037e-04, 5.73383037e-04, ...,\n",
       "        0.00000000e+00, 0.00000000e+00, 0.00000000e+00],\n",
       "       [0.00000000e+00, 0.00000000e+00, 0.00000000e+00, ...,\n",
       "        0.00000000e+00, 0.00000000e+00, 0.00000000e+00],\n",
       "       [0.00000000e+00, 0.00000000e+00, 0.00000000e+00, ...,\n",
       "        0.00000000e+00, 3.85618647e-02, 3.85618647e-02],\n",
       "       ...,\n",
       "       [1.30507446e-04, 1.30507446e-04, 1.30507446e-04, ...,\n",
       "        0.00000000e+00, 0.00000000e+00, 0.00000000e+00],\n",
       "       [0.00000000e+00, 0.00000000e+00, 0.00000000e+00, ...,\n",
       "        0.00000000e+00, 0.00000000e+00, 0.00000000e+00],\n",
       "       [5.80031969e-06, 5.80031969e-06, 5.80031969e-06, ...,\n",
       "        0.00000000e+00, 0.00000000e+00, 0.00000000e+00]])"
      ]
     },
     "execution_count": 171,
     "metadata": {},
     "output_type": "execute_result"
    }
   ],
   "source": [
    "second_layer_dynamic_topic_model.H"
   ]
  },
  {
   "cell_type": "code",
   "execution_count": 21,
   "metadata": {},
   "outputs": [
    {
     "ename": "NameError",
     "evalue": "name 'second_layer_dynamic_topic_model' is not defined",
     "output_type": "error",
     "traceback": [
      "\u001b[0;31m------------\u001b[0m",
      "\u001b[0;31mNameError\u001b[0mTraceback (most recent call last)",
      "\u001b[0;32m<ipython-input-21-92563b1a0207>\u001b[0m in \u001b[0;36m<module>\u001b[0;34m\u001b[0m\n\u001b[0;32m----> 1\u001b[0;31m \u001b[0msecond_layer_dynamic_topic_model\u001b[0m\u001b[0;34m.\u001b[0m\u001b[0mW\u001b[0m\u001b[0;34m.\u001b[0m\u001b[0mshape\u001b[0m\u001b[0;34m\u001b[0m\u001b[0m\n\u001b[0m",
      "\u001b[0;31mNameError\u001b[0m: name 'second_layer_dynamic_topic_model' is not defined"
     ]
    }
   ],
   "source": [
    "second_layer_dynamic_topic_model.W.shape"
   ]
  },
  {
   "cell_type": "code",
   "execution_count": 173,
   "metadata": {},
   "outputs": [],
   "source": [
    "time_windows_doc_topics = pd.DataFrame(columns=[f\"topic_{i+1}\" for i in range(second_layer_dynamic_topic_model.W.shape[1])], data=second_layer_dynamic_topic_model.W)"
   ]
  },
  {
   "cell_type": "code",
   "execution_count": 174,
   "metadata": {},
   "outputs": [
    {
     "data": {
      "text/html": [
       "<div>\n",
       "<style scoped>\n",
       "    .dataframe tbody tr th:only-of-type {\n",
       "        vertical-align: middle;\n",
       "    }\n",
       "\n",
       "    .dataframe tbody tr th {\n",
       "        vertical-align: top;\n",
       "    }\n",
       "\n",
       "    .dataframe thead th {\n",
       "        text-align: right;\n",
       "    }\n",
       "</style>\n",
       "<table border=\"1\" class=\"dataframe\">\n",
       "  <thead>\n",
       "    <tr style=\"text-align: right;\">\n",
       "      <th></th>\n",
       "      <th>topic_1</th>\n",
       "      <th>topic_2</th>\n",
       "      <th>topic_3</th>\n",
       "      <th>topic_4</th>\n",
       "      <th>topic_5</th>\n",
       "      <th>topic_6</th>\n",
       "      <th>topic_7</th>\n",
       "      <th>topic_8</th>\n",
       "    </tr>\n",
       "  </thead>\n",
       "  <tbody>\n",
       "    <tr>\n",
       "      <th>0</th>\n",
       "      <td>0.013053</td>\n",
       "      <td>0.000000</td>\n",
       "      <td>0.057628</td>\n",
       "      <td>0.000000</td>\n",
       "      <td>0.000000</td>\n",
       "      <td>0.000000e+00</td>\n",
       "      <td>0.000000</td>\n",
       "      <td>0.154040</td>\n",
       "    </tr>\n",
       "    <tr>\n",
       "      <th>1</th>\n",
       "      <td>0.000088</td>\n",
       "      <td>0.003248</td>\n",
       "      <td>0.006560</td>\n",
       "      <td>0.034155</td>\n",
       "      <td>0.000377</td>\n",
       "      <td>4.775818e-07</td>\n",
       "      <td>0.000463</td>\n",
       "      <td>0.003442</td>\n",
       "    </tr>\n",
       "    <tr>\n",
       "      <th>2</th>\n",
       "      <td>0.000270</td>\n",
       "      <td>0.000000</td>\n",
       "      <td>0.082717</td>\n",
       "      <td>0.000000</td>\n",
       "      <td>0.000000</td>\n",
       "      <td>0.000000e+00</td>\n",
       "      <td>0.001570</td>\n",
       "      <td>0.000000</td>\n",
       "    </tr>\n",
       "    <tr>\n",
       "      <th>3</th>\n",
       "      <td>0.170545</td>\n",
       "      <td>0.000000</td>\n",
       "      <td>0.000000</td>\n",
       "      <td>0.000000</td>\n",
       "      <td>0.004705</td>\n",
       "      <td>1.143606e-02</td>\n",
       "      <td>0.000000</td>\n",
       "      <td>0.004931</td>\n",
       "    </tr>\n",
       "    <tr>\n",
       "      <th>4</th>\n",
       "      <td>0.000000</td>\n",
       "      <td>0.000000</td>\n",
       "      <td>0.221198</td>\n",
       "      <td>0.000000</td>\n",
       "      <td>0.000000</td>\n",
       "      <td>0.000000e+00</td>\n",
       "      <td>0.000000</td>\n",
       "      <td>0.000000</td>\n",
       "    </tr>\n",
       "    <tr>\n",
       "      <th>...</th>\n",
       "      <td>...</td>\n",
       "      <td>...</td>\n",
       "      <td>...</td>\n",
       "      <td>...</td>\n",
       "      <td>...</td>\n",
       "      <td>...</td>\n",
       "      <td>...</td>\n",
       "      <td>...</td>\n",
       "    </tr>\n",
       "    <tr>\n",
       "      <th>143</th>\n",
       "      <td>0.000000</td>\n",
       "      <td>0.676406</td>\n",
       "      <td>0.009028</td>\n",
       "      <td>0.000000</td>\n",
       "      <td>0.000000</td>\n",
       "      <td>0.000000e+00</td>\n",
       "      <td>0.000000</td>\n",
       "      <td>0.000000</td>\n",
       "    </tr>\n",
       "    <tr>\n",
       "      <th>144</th>\n",
       "      <td>0.479553</td>\n",
       "      <td>0.000000</td>\n",
       "      <td>0.000000</td>\n",
       "      <td>0.000000</td>\n",
       "      <td>0.000000</td>\n",
       "      <td>2.254908e-02</td>\n",
       "      <td>0.000000</td>\n",
       "      <td>0.000000</td>\n",
       "    </tr>\n",
       "    <tr>\n",
       "      <th>145</th>\n",
       "      <td>0.000000</td>\n",
       "      <td>0.000000</td>\n",
       "      <td>0.052346</td>\n",
       "      <td>0.000000</td>\n",
       "      <td>0.039792</td>\n",
       "      <td>0.000000e+00</td>\n",
       "      <td>0.000000</td>\n",
       "      <td>0.000000</td>\n",
       "    </tr>\n",
       "    <tr>\n",
       "      <th>146</th>\n",
       "      <td>0.001333</td>\n",
       "      <td>0.000000</td>\n",
       "      <td>0.000000</td>\n",
       "      <td>0.000000</td>\n",
       "      <td>0.003477</td>\n",
       "      <td>0.000000e+00</td>\n",
       "      <td>0.000000</td>\n",
       "      <td>0.000000</td>\n",
       "    </tr>\n",
       "    <tr>\n",
       "      <th>147</th>\n",
       "      <td>0.003532</td>\n",
       "      <td>0.000000</td>\n",
       "      <td>0.039386</td>\n",
       "      <td>0.000000</td>\n",
       "      <td>0.000000</td>\n",
       "      <td>3.537019e-04</td>\n",
       "      <td>0.000000</td>\n",
       "      <td>0.000000</td>\n",
       "    </tr>\n",
       "  </tbody>\n",
       "</table>\n",
       "<p>148 rows × 8 columns</p>\n",
       "</div>"
      ],
      "text/plain": [
       "      topic_1   topic_2   topic_3   topic_4   topic_5       topic_6   topic_7  \\\n",
       "0    0.013053  0.000000  0.057628  0.000000  0.000000  0.000000e+00  0.000000   \n",
       "1    0.000088  0.003248  0.006560  0.034155  0.000377  4.775818e-07  0.000463   \n",
       "2    0.000270  0.000000  0.082717  0.000000  0.000000  0.000000e+00  0.001570   \n",
       "3    0.170545  0.000000  0.000000  0.000000  0.004705  1.143606e-02  0.000000   \n",
       "4    0.000000  0.000000  0.221198  0.000000  0.000000  0.000000e+00  0.000000   \n",
       "..        ...       ...       ...       ...       ...           ...       ...   \n",
       "143  0.000000  0.676406  0.009028  0.000000  0.000000  0.000000e+00  0.000000   \n",
       "144  0.479553  0.000000  0.000000  0.000000  0.000000  2.254908e-02  0.000000   \n",
       "145  0.000000  0.000000  0.052346  0.000000  0.039792  0.000000e+00  0.000000   \n",
       "146  0.001333  0.000000  0.000000  0.000000  0.003477  0.000000e+00  0.000000   \n",
       "147  0.003532  0.000000  0.039386  0.000000  0.000000  3.537019e-04  0.000000   \n",
       "\n",
       "      topic_8  \n",
       "0    0.154040  \n",
       "1    0.003442  \n",
       "2    0.000000  \n",
       "3    0.004931  \n",
       "4    0.000000  \n",
       "..        ...  \n",
       "143  0.000000  \n",
       "144  0.000000  \n",
       "145  0.000000  \n",
       "146  0.000000  \n",
       "147  0.000000  \n",
       "\n",
       "[148 rows x 8 columns]"
      ]
     },
     "execution_count": 174,
     "metadata": {},
     "output_type": "execute_result"
    }
   ],
   "source": [
    "time_windows_doc_topics"
   ]
  },
  {
   "cell_type": "code",
   "execution_count": 175,
   "metadata": {
    "scrolled": true
   },
   "outputs": [],
   "source": [
    "time_windows_doc_topics.loc[:, 'time_windows'] = pd.cut(time_windows_doc_topics.index, bins=cumm_best_k, labels=[f\"time_windows_{i+2}\" for i in range(len(all_best_k)-1)])"
   ]
  },
  {
   "cell_type": "code",
   "execution_count": 176,
   "metadata": {},
   "outputs": [
    {
     "data": {
      "text/html": [
       "<div>\n",
       "<style scoped>\n",
       "    .dataframe tbody tr th:only-of-type {\n",
       "        vertical-align: middle;\n",
       "    }\n",
       "\n",
       "    .dataframe tbody tr th {\n",
       "        vertical-align: top;\n",
       "    }\n",
       "\n",
       "    .dataframe thead th {\n",
       "        text-align: right;\n",
       "    }\n",
       "</style>\n",
       "<table border=\"1\" class=\"dataframe\">\n",
       "  <thead>\n",
       "    <tr style=\"text-align: right;\">\n",
       "      <th></th>\n",
       "      <th>topic_1</th>\n",
       "      <th>topic_2</th>\n",
       "      <th>topic_3</th>\n",
       "      <th>topic_4</th>\n",
       "      <th>topic_5</th>\n",
       "      <th>topic_6</th>\n",
       "      <th>topic_7</th>\n",
       "      <th>topic_8</th>\n",
       "      <th>time_windows</th>\n",
       "    </tr>\n",
       "  </thead>\n",
       "  <tbody>\n",
       "    <tr>\n",
       "      <th>0</th>\n",
       "      <td>0.013053</td>\n",
       "      <td>0.000000</td>\n",
       "      <td>0.057628</td>\n",
       "      <td>0.000000</td>\n",
       "      <td>0.000000</td>\n",
       "      <td>0.000000e+00</td>\n",
       "      <td>0.000000</td>\n",
       "      <td>0.154040</td>\n",
       "      <td>NaN</td>\n",
       "    </tr>\n",
       "    <tr>\n",
       "      <th>1</th>\n",
       "      <td>0.000088</td>\n",
       "      <td>0.003248</td>\n",
       "      <td>0.006560</td>\n",
       "      <td>0.034155</td>\n",
       "      <td>0.000377</td>\n",
       "      <td>4.775818e-07</td>\n",
       "      <td>0.000463</td>\n",
       "      <td>0.003442</td>\n",
       "      <td>NaN</td>\n",
       "    </tr>\n",
       "    <tr>\n",
       "      <th>2</th>\n",
       "      <td>0.000270</td>\n",
       "      <td>0.000000</td>\n",
       "      <td>0.082717</td>\n",
       "      <td>0.000000</td>\n",
       "      <td>0.000000</td>\n",
       "      <td>0.000000e+00</td>\n",
       "      <td>0.001570</td>\n",
       "      <td>0.000000</td>\n",
       "      <td>NaN</td>\n",
       "    </tr>\n",
       "    <tr>\n",
       "      <th>3</th>\n",
       "      <td>0.170545</td>\n",
       "      <td>0.000000</td>\n",
       "      <td>0.000000</td>\n",
       "      <td>0.000000</td>\n",
       "      <td>0.004705</td>\n",
       "      <td>1.143606e-02</td>\n",
       "      <td>0.000000</td>\n",
       "      <td>0.004931</td>\n",
       "      <td>NaN</td>\n",
       "    </tr>\n",
       "    <tr>\n",
       "      <th>4</th>\n",
       "      <td>0.000000</td>\n",
       "      <td>0.000000</td>\n",
       "      <td>0.221198</td>\n",
       "      <td>0.000000</td>\n",
       "      <td>0.000000</td>\n",
       "      <td>0.000000e+00</td>\n",
       "      <td>0.000000</td>\n",
       "      <td>0.000000</td>\n",
       "      <td>NaN</td>\n",
       "    </tr>\n",
       "    <tr>\n",
       "      <th>...</th>\n",
       "      <td>...</td>\n",
       "      <td>...</td>\n",
       "      <td>...</td>\n",
       "      <td>...</td>\n",
       "      <td>...</td>\n",
       "      <td>...</td>\n",
       "      <td>...</td>\n",
       "      <td>...</td>\n",
       "      <td>...</td>\n",
       "    </tr>\n",
       "    <tr>\n",
       "      <th>143</th>\n",
       "      <td>0.000000</td>\n",
       "      <td>0.676406</td>\n",
       "      <td>0.009028</td>\n",
       "      <td>0.000000</td>\n",
       "      <td>0.000000</td>\n",
       "      <td>0.000000e+00</td>\n",
       "      <td>0.000000</td>\n",
       "      <td>0.000000</td>\n",
       "      <td>time_windows_15</td>\n",
       "    </tr>\n",
       "    <tr>\n",
       "      <th>144</th>\n",
       "      <td>0.479553</td>\n",
       "      <td>0.000000</td>\n",
       "      <td>0.000000</td>\n",
       "      <td>0.000000</td>\n",
       "      <td>0.000000</td>\n",
       "      <td>2.254908e-02</td>\n",
       "      <td>0.000000</td>\n",
       "      <td>0.000000</td>\n",
       "      <td>time_windows_15</td>\n",
       "    </tr>\n",
       "    <tr>\n",
       "      <th>145</th>\n",
       "      <td>0.000000</td>\n",
       "      <td>0.000000</td>\n",
       "      <td>0.052346</td>\n",
       "      <td>0.000000</td>\n",
       "      <td>0.039792</td>\n",
       "      <td>0.000000e+00</td>\n",
       "      <td>0.000000</td>\n",
       "      <td>0.000000</td>\n",
       "      <td>time_windows_15</td>\n",
       "    </tr>\n",
       "    <tr>\n",
       "      <th>146</th>\n",
       "      <td>0.001333</td>\n",
       "      <td>0.000000</td>\n",
       "      <td>0.000000</td>\n",
       "      <td>0.000000</td>\n",
       "      <td>0.003477</td>\n",
       "      <td>0.000000e+00</td>\n",
       "      <td>0.000000</td>\n",
       "      <td>0.000000</td>\n",
       "      <td>time_windows_15</td>\n",
       "    </tr>\n",
       "    <tr>\n",
       "      <th>147</th>\n",
       "      <td>0.003532</td>\n",
       "      <td>0.000000</td>\n",
       "      <td>0.039386</td>\n",
       "      <td>0.000000</td>\n",
       "      <td>0.000000</td>\n",
       "      <td>3.537019e-04</td>\n",
       "      <td>0.000000</td>\n",
       "      <td>0.000000</td>\n",
       "      <td>time_windows_15</td>\n",
       "    </tr>\n",
       "  </tbody>\n",
       "</table>\n",
       "<p>148 rows × 9 columns</p>\n",
       "</div>"
      ],
      "text/plain": [
       "      topic_1   topic_2   topic_3   topic_4   topic_5       topic_6   topic_7  \\\n",
       "0    0.013053  0.000000  0.057628  0.000000  0.000000  0.000000e+00  0.000000   \n",
       "1    0.000088  0.003248  0.006560  0.034155  0.000377  4.775818e-07  0.000463   \n",
       "2    0.000270  0.000000  0.082717  0.000000  0.000000  0.000000e+00  0.001570   \n",
       "3    0.170545  0.000000  0.000000  0.000000  0.004705  1.143606e-02  0.000000   \n",
       "4    0.000000  0.000000  0.221198  0.000000  0.000000  0.000000e+00  0.000000   \n",
       "..        ...       ...       ...       ...       ...           ...       ...   \n",
       "143  0.000000  0.676406  0.009028  0.000000  0.000000  0.000000e+00  0.000000   \n",
       "144  0.479553  0.000000  0.000000  0.000000  0.000000  2.254908e-02  0.000000   \n",
       "145  0.000000  0.000000  0.052346  0.000000  0.039792  0.000000e+00  0.000000   \n",
       "146  0.001333  0.000000  0.000000  0.000000  0.003477  0.000000e+00  0.000000   \n",
       "147  0.003532  0.000000  0.039386  0.000000  0.000000  3.537019e-04  0.000000   \n",
       "\n",
       "      topic_8     time_windows  \n",
       "0    0.154040              NaN  \n",
       "1    0.003442              NaN  \n",
       "2    0.000000              NaN  \n",
       "3    0.004931              NaN  \n",
       "4    0.000000              NaN  \n",
       "..        ...              ...  \n",
       "143  0.000000  time_windows_15  \n",
       "144  0.000000  time_windows_15  \n",
       "145  0.000000  time_windows_15  \n",
       "146  0.000000  time_windows_15  \n",
       "147  0.000000  time_windows_15  \n",
       "\n",
       "[148 rows x 9 columns]"
      ]
     },
     "execution_count": 176,
     "metadata": {},
     "output_type": "execute_result"
    }
   ],
   "source": [
    "time_windows_doc_topics"
   ]
  },
  {
   "cell_type": "code",
   "execution_count": 177,
   "metadata": {},
   "outputs": [],
   "source": [
    "time_windows_doc_topics['time_windows'] = time_windows_doc_topics['time_windows'].astype(str).replace({\"nan\": f\"time_windows_{1}\"})"
   ]
  },
  {
   "cell_type": "code",
   "execution_count": 178,
   "metadata": {},
   "outputs": [
    {
     "data": {
      "text/html": [
       "<div>\n",
       "<style scoped>\n",
       "    .dataframe tbody tr th:only-of-type {\n",
       "        vertical-align: middle;\n",
       "    }\n",
       "\n",
       "    .dataframe tbody tr th {\n",
       "        vertical-align: top;\n",
       "    }\n",
       "\n",
       "    .dataframe thead th {\n",
       "        text-align: right;\n",
       "    }\n",
       "</style>\n",
       "<table border=\"1\" class=\"dataframe\">\n",
       "  <thead>\n",
       "    <tr style=\"text-align: right;\">\n",
       "      <th></th>\n",
       "      <th>topic_1</th>\n",
       "      <th>topic_2</th>\n",
       "      <th>topic_3</th>\n",
       "      <th>topic_4</th>\n",
       "      <th>topic_5</th>\n",
       "      <th>topic_6</th>\n",
       "      <th>topic_7</th>\n",
       "      <th>topic_8</th>\n",
       "      <th>time_windows</th>\n",
       "    </tr>\n",
       "  </thead>\n",
       "  <tbody>\n",
       "    <tr>\n",
       "      <th>0</th>\n",
       "      <td>0.013053</td>\n",
       "      <td>0.000000</td>\n",
       "      <td>0.057628</td>\n",
       "      <td>0.000000</td>\n",
       "      <td>0.000000</td>\n",
       "      <td>0.000000e+00</td>\n",
       "      <td>0.000000</td>\n",
       "      <td>0.154040</td>\n",
       "      <td>time_windows_1</td>\n",
       "    </tr>\n",
       "    <tr>\n",
       "      <th>1</th>\n",
       "      <td>0.000088</td>\n",
       "      <td>0.003248</td>\n",
       "      <td>0.006560</td>\n",
       "      <td>0.034155</td>\n",
       "      <td>0.000377</td>\n",
       "      <td>4.775818e-07</td>\n",
       "      <td>0.000463</td>\n",
       "      <td>0.003442</td>\n",
       "      <td>time_windows_1</td>\n",
       "    </tr>\n",
       "    <tr>\n",
       "      <th>2</th>\n",
       "      <td>0.000270</td>\n",
       "      <td>0.000000</td>\n",
       "      <td>0.082717</td>\n",
       "      <td>0.000000</td>\n",
       "      <td>0.000000</td>\n",
       "      <td>0.000000e+00</td>\n",
       "      <td>0.001570</td>\n",
       "      <td>0.000000</td>\n",
       "      <td>time_windows_1</td>\n",
       "    </tr>\n",
       "    <tr>\n",
       "      <th>3</th>\n",
       "      <td>0.170545</td>\n",
       "      <td>0.000000</td>\n",
       "      <td>0.000000</td>\n",
       "      <td>0.000000</td>\n",
       "      <td>0.004705</td>\n",
       "      <td>1.143606e-02</td>\n",
       "      <td>0.000000</td>\n",
       "      <td>0.004931</td>\n",
       "      <td>time_windows_1</td>\n",
       "    </tr>\n",
       "    <tr>\n",
       "      <th>4</th>\n",
       "      <td>0.000000</td>\n",
       "      <td>0.000000</td>\n",
       "      <td>0.221198</td>\n",
       "      <td>0.000000</td>\n",
       "      <td>0.000000</td>\n",
       "      <td>0.000000e+00</td>\n",
       "      <td>0.000000</td>\n",
       "      <td>0.000000</td>\n",
       "      <td>time_windows_1</td>\n",
       "    </tr>\n",
       "    <tr>\n",
       "      <th>5</th>\n",
       "      <td>0.000600</td>\n",
       "      <td>0.000000</td>\n",
       "      <td>0.112948</td>\n",
       "      <td>0.000000</td>\n",
       "      <td>0.024144</td>\n",
       "      <td>0.000000e+00</td>\n",
       "      <td>0.000000</td>\n",
       "      <td>0.000000</td>\n",
       "      <td>time_windows_1</td>\n",
       "    </tr>\n",
       "    <tr>\n",
       "      <th>6</th>\n",
       "      <td>0.022670</td>\n",
       "      <td>0.000000</td>\n",
       "      <td>0.000000</td>\n",
       "      <td>0.000000</td>\n",
       "      <td>0.025457</td>\n",
       "      <td>0.000000e+00</td>\n",
       "      <td>0.000259</td>\n",
       "      <td>0.000000</td>\n",
       "      <td>time_windows_1</td>\n",
       "    </tr>\n",
       "    <tr>\n",
       "      <th>7</th>\n",
       "      <td>0.000000</td>\n",
       "      <td>0.000000</td>\n",
       "      <td>0.004120</td>\n",
       "      <td>0.000000</td>\n",
       "      <td>0.000172</td>\n",
       "      <td>1.197918e-02</td>\n",
       "      <td>0.000000</td>\n",
       "      <td>0.000000</td>\n",
       "      <td>time_windows_1</td>\n",
       "    </tr>\n",
       "    <tr>\n",
       "      <th>8</th>\n",
       "      <td>0.018468</td>\n",
       "      <td>0.000000</td>\n",
       "      <td>0.023263</td>\n",
       "      <td>0.000000</td>\n",
       "      <td>0.000000</td>\n",
       "      <td>0.000000e+00</td>\n",
       "      <td>0.000000</td>\n",
       "      <td>0.112070</td>\n",
       "      <td>time_windows_1</td>\n",
       "    </tr>\n",
       "    <tr>\n",
       "      <th>9</th>\n",
       "      <td>0.020115</td>\n",
       "      <td>0.000000</td>\n",
       "      <td>0.000000</td>\n",
       "      <td>0.000000</td>\n",
       "      <td>0.000018</td>\n",
       "      <td>3.977670e-02</td>\n",
       "      <td>0.000000</td>\n",
       "      <td>0.000032</td>\n",
       "      <td>time_windows_1</td>\n",
       "    </tr>\n",
       "    <tr>\n",
       "      <th>10</th>\n",
       "      <td>0.000000</td>\n",
       "      <td>0.000000</td>\n",
       "      <td>0.000847</td>\n",
       "      <td>0.000000</td>\n",
       "      <td>0.006785</td>\n",
       "      <td>0.000000e+00</td>\n",
       "      <td>0.000223</td>\n",
       "      <td>0.000000</td>\n",
       "      <td>time_windows_1</td>\n",
       "    </tr>\n",
       "    <tr>\n",
       "      <th>11</th>\n",
       "      <td>0.000000</td>\n",
       "      <td>0.000000</td>\n",
       "      <td>0.000000</td>\n",
       "      <td>0.007197</td>\n",
       "      <td>0.000000</td>\n",
       "      <td>0.000000e+00</td>\n",
       "      <td>0.000002</td>\n",
       "      <td>0.012033</td>\n",
       "      <td>time_windows_1</td>\n",
       "    </tr>\n",
       "    <tr>\n",
       "      <th>12</th>\n",
       "      <td>0.000000</td>\n",
       "      <td>0.000000</td>\n",
       "      <td>0.003942</td>\n",
       "      <td>0.000000</td>\n",
       "      <td>0.004961</td>\n",
       "      <td>3.649531e-03</td>\n",
       "      <td>0.000000</td>\n",
       "      <td>0.000000</td>\n",
       "      <td>time_windows_1</td>\n",
       "    </tr>\n",
       "    <tr>\n",
       "      <th>13</th>\n",
       "      <td>0.000533</td>\n",
       "      <td>0.000000</td>\n",
       "      <td>0.000000</td>\n",
       "      <td>0.000000</td>\n",
       "      <td>0.000000</td>\n",
       "      <td>1.618640e-03</td>\n",
       "      <td>0.000000</td>\n",
       "      <td>0.000000</td>\n",
       "      <td>time_windows_1</td>\n",
       "    </tr>\n",
       "    <tr>\n",
       "      <th>14</th>\n",
       "      <td>0.000000</td>\n",
       "      <td>0.000000</td>\n",
       "      <td>0.000000</td>\n",
       "      <td>0.000000</td>\n",
       "      <td>0.000000</td>\n",
       "      <td>1.694586e-01</td>\n",
       "      <td>0.021573</td>\n",
       "      <td>0.000000</td>\n",
       "      <td>time_windows_1</td>\n",
       "    </tr>\n",
       "  </tbody>\n",
       "</table>\n",
       "</div>"
      ],
      "text/plain": [
       "     topic_1   topic_2   topic_3   topic_4   topic_5       topic_6   topic_7  \\\n",
       "0   0.013053  0.000000  0.057628  0.000000  0.000000  0.000000e+00  0.000000   \n",
       "1   0.000088  0.003248  0.006560  0.034155  0.000377  4.775818e-07  0.000463   \n",
       "2   0.000270  0.000000  0.082717  0.000000  0.000000  0.000000e+00  0.001570   \n",
       "3   0.170545  0.000000  0.000000  0.000000  0.004705  1.143606e-02  0.000000   \n",
       "4   0.000000  0.000000  0.221198  0.000000  0.000000  0.000000e+00  0.000000   \n",
       "5   0.000600  0.000000  0.112948  0.000000  0.024144  0.000000e+00  0.000000   \n",
       "6   0.022670  0.000000  0.000000  0.000000  0.025457  0.000000e+00  0.000259   \n",
       "7   0.000000  0.000000  0.004120  0.000000  0.000172  1.197918e-02  0.000000   \n",
       "8   0.018468  0.000000  0.023263  0.000000  0.000000  0.000000e+00  0.000000   \n",
       "9   0.020115  0.000000  0.000000  0.000000  0.000018  3.977670e-02  0.000000   \n",
       "10  0.000000  0.000000  0.000847  0.000000  0.006785  0.000000e+00  0.000223   \n",
       "11  0.000000  0.000000  0.000000  0.007197  0.000000  0.000000e+00  0.000002   \n",
       "12  0.000000  0.000000  0.003942  0.000000  0.004961  3.649531e-03  0.000000   \n",
       "13  0.000533  0.000000  0.000000  0.000000  0.000000  1.618640e-03  0.000000   \n",
       "14  0.000000  0.000000  0.000000  0.000000  0.000000  1.694586e-01  0.021573   \n",
       "\n",
       "     topic_8    time_windows  \n",
       "0   0.154040  time_windows_1  \n",
       "1   0.003442  time_windows_1  \n",
       "2   0.000000  time_windows_1  \n",
       "3   0.004931  time_windows_1  \n",
       "4   0.000000  time_windows_1  \n",
       "5   0.000000  time_windows_1  \n",
       "6   0.000000  time_windows_1  \n",
       "7   0.000000  time_windows_1  \n",
       "8   0.112070  time_windows_1  \n",
       "9   0.000032  time_windows_1  \n",
       "10  0.000000  time_windows_1  \n",
       "11  0.012033  time_windows_1  \n",
       "12  0.000000  time_windows_1  \n",
       "13  0.000000  time_windows_1  \n",
       "14  0.000000  time_windows_1  "
      ]
     },
     "execution_count": 178,
     "metadata": {},
     "output_type": "execute_result"
    }
   ],
   "source": [
    "time_windows_doc_topics.head(cumm_best_k[0])"
   ]
  },
  {
   "cell_type": "code",
   "execution_count": 179,
   "metadata": {},
   "outputs": [],
   "source": [
    "time_windows_doc_topic = time_windows_doc_topics.groupby(\"time_windows\").agg(sum)"
   ]
  },
  {
   "cell_type": "code",
   "execution_count": 180,
   "metadata": {},
   "outputs": [],
   "source": [
    "time_windows_doc_topics = time_windows_doc_topic"
   ]
  },
  {
   "cell_type": "code",
   "execution_count": 20,
   "metadata": {},
   "outputs": [
    {
     "ename": "NameError",
     "evalue": "name 'time_windows_doc_topics' is not defined",
     "output_type": "error",
     "traceback": [
      "\u001b[0;31m------------\u001b[0m",
      "\u001b[0;31mNameError\u001b[0mTraceback (most recent call last)",
      "\u001b[0;32m<ipython-input-20-d84156ad4a71>\u001b[0m in \u001b[0;36m<module>\u001b[0;34m\u001b[0m\n\u001b[0;32m----> 1\u001b[0;31m \u001b[0mtime_windows_doc_topics\u001b[0m\u001b[0;34m\u001b[0m\u001b[0m\n\u001b[0m",
      "\u001b[0;31mNameError\u001b[0m: name 'time_windows_doc_topics' is not defined"
     ]
    }
   ],
   "source": [
    "time_windows_doc_topics"
   ]
  },
  {
   "cell_type": "code",
   "execution_count": 188,
   "metadata": {},
   "outputs": [
    {
     "data": {
      "image/png": "[encoded data removed]",
      "text/plain": [
       "<Figure size 2160x1080 with 1 Axes>"
      ]
     },
     "metadata": {},
     "output_type": "display_data"
    }
   ],
   "source": [
    "fig, ax = plt.subplots(figsize=(30, 15))\n",
    "im = ax.imshow(time_windows_doc_topics.values)\n",
    "ax.set_xticks(np.arange(time_windows_doc_topics.shape[1]))\n",
    "ax.set_yticks(np.arange(time_windows_doc_topics.shape[0]))\n",
    "ax.set_xticklabels(time_windows_doc_topics.columns)\n",
    "ax.set_yticklabels(time_windows_doc_topics.index)\n",
    "plt.setp(ax.get_xticklabels(), rotation=45, ha=\"right\",\n",
    "         rotation_mode=\"anchor\")\n",
    "# Loop over data dimensions and create text annotations.\n",
    "for i in range(time_windows_doc_topics.shape[0]):\n",
    "    for j in range(time_windows_doc_topics.shape[1]):\n",
    "        text = ax.text(j, i, time_windows_doc_topics.values[i, j].round(2),\n",
    "                       ha=\"center\", va=\"center\", color=\"w\")\n",
    "ax.set_title(\"topic weight per time windows\")\n",
    "fig.tight_layout()\n",
    "fig = ax.get_figure()\n",
    "plt.show()\n",
    "fig.savefig(Path.cwd().parent.joinpath(\"images\", \"dynamic_topic_weigths.jpg\"))"
   ]
  },
  {
   "cell_type": "code",
   "execution_count": 19,
   "metadata": {},
   "outputs": [
    {
     "ename": "NameError",
     "evalue": "name 'second_layer_dynamic_topic_model' is not defined",
     "output_type": "error",
     "traceback": [
      "\u001b[0;31m------------\u001b[0m",
      "\u001b[0;31mNameError\u001b[0mTraceback (most recent call last)",
      "\u001b[0;32m<ipython-input-19-d33bb7f7f5de>\u001b[0m in \u001b[0;36m<module>\u001b[0;34m\u001b[0m\n\u001b[0;32m----> 1\u001b[0;31m \u001b[0msecond_layer_dynamic_topic_model\u001b[0m\u001b[0;34m.\u001b[0m\u001b[0mprint_topic_descriptor\u001b[0m\u001b[0;34m(\u001b[0m\u001b[0;34m)\u001b[0m\u001b[0;34m\u001b[0m\u001b[0m\n\u001b[0m",
      "\u001b[0;31mNameError\u001b[0m: name 'second_layer_dynamic_topic_model' is not defined"
     ]
    }
   ],
   "source": [
    "second_layer_dynamic_topic_model.print_topic_descriptor()"
   ]
  },
  {
   "cell_type": "code",
   "execution_count": 201,
   "metadata": {},
   "outputs": [
    {
     "data": {
      "text/plain": [
       "(8, 2940)"
      ]
     },
     "execution_count": 201,
     "metadata": {},
     "output_type": "execute_result"
    }
   ],
   "source": [
    "second_layer_dynamic_topic_model.H.shape"
   ]
  },
  {
   "cell_type": "code",
   "execution_count": 202,
   "metadata": {},
   "outputs": [
    {
     "data": {
      "text/plain": [
       "2940"
      ]
     },
     "execution_count": 202,
     "metadata": {},
     "output_type": "execute_result"
    }
   ],
   "source": []
  },
  {
   "cell_type": "code",
   "execution_count": 18,
   "metadata": {},
   "outputs": [
    {
     "ename": "NameError",
     "evalue": "name 'second_layer_dynamic_topic_model' is not defined",
     "output_type": "error",
     "traceback": [
      "\u001b[0;31m------------\u001b[0m",
      "\u001b[0;31mNameError\u001b[0mTraceback (most recent call last)",
      "\u001b[0;32m<ipython-input-18-e07fef84ce02>\u001b[0m in \u001b[0;36m<module>\u001b[0;34m\u001b[0m\n\u001b[0;32m----> 1\u001b[0;31m top_terms = np.take(np.array(second_layer_dynamic_topic_model.terms), \n\u001b[0m\u001b[1;32m      2\u001b[0m                     second_layer_dynamic_topic_model.H.argsort()[:, ::-1])[:, :10]\n",
      "\u001b[0;31mNameError\u001b[0m: name 'second_layer_dynamic_topic_model' is not defined"
     ]
    }
   ],
   "source": [
    "top_terms = np.take(np.array(second_layer_dynamic_topic_model.terms), \n",
    "                    second_layer_dynamic_topic_model.H.argsort()[:, ::-1])[:, :10]"
   ]
  },
  {
   "cell_type": "code",
   "execution_count": 17,
   "metadata": {},
   "outputs": [
    {
     "ename": "NameError",
     "evalue": "name 'top_terms' is not defined",
     "output_type": "error",
     "traceback": [
      "\u001b[0;31m------------\u001b[0m",
      "\u001b[0;31mNameError\u001b[0mTraceback (most recent call last)",
      "\u001b[0;32m<ipython-input-17-b83f700305eb>\u001b[0m in \u001b[0;36m<module>\u001b[0;34m\u001b[0m\n\u001b[0;32m----> 1\u001b[0;31m \u001b[0mtopic_descriptor\u001b[0m \u001b[0;34m=\u001b[0m \u001b[0mpd\u001b[0m\u001b[0;34m.\u001b[0m\u001b[0mDataFrame\u001b[0m\u001b[0;34m(\u001b[0m\u001b[0mdata\u001b[0m\u001b[0;34m=\u001b[0m\u001b[0mtop_terms\u001b[0m\u001b[0;34m.\u001b[0m\u001b[0mT\u001b[0m\u001b[0;34m,\u001b[0m \u001b[0mcolumns\u001b[0m\u001b[0;34m=\u001b[0m\u001b[0;34m[\u001b[0m\u001b[0;34mf\"topic_{i+1}\"\u001b[0m \u001b[0;32mfor\u001b[0m \u001b[0mi\u001b[0m \u001b[0;32min\u001b[0m \u001b[0mrange\u001b[0m\u001b[0;34m(\u001b[0m\u001b[0msecond_layer_dynamic_topic_model\u001b[0m\u001b[0;34m.\u001b[0m\u001b[0mbest_k\u001b[0m\u001b[0;34m)\u001b[0m\u001b[0;34m]\u001b[0m\u001b[0;34m)\u001b[0m\u001b[0;34m\u001b[0m\u001b[0m\n\u001b[0m",
      "\u001b[0;31mNameError\u001b[0m: name 'top_terms' is not defined"
     ]
    }
   ],
   "source": [
    "topic_descriptor = pd.DataFrame(data=top_terms.T, columns=[f\"topic_{i+1}\" for i in range(second_layer_dynamic_topic_model.best_k)])"
   ]
  },
  {
   "cell_type": "code",
   "execution_count": 16,
   "metadata": {},
   "outputs": [
    {
     "ename": "NameError",
     "evalue": "name 'topic_descriptor' is not defined",
     "output_type": "error",
     "traceback": [
      "\u001b[0;31m------------\u001b[0m",
      "\u001b[0;31mNameError\u001b[0mTraceback (most recent call last)",
      "\u001b[0;32m<ipython-input-16-879b3f3eeb10>\u001b[0m in \u001b[0;36m<module>\u001b[0;34m\u001b[0m\n\u001b[0;32m----> 1\u001b[0;31m \u001b[0mprint\u001b[0m\u001b[0;34m(\u001b[0m\u001b[0mtopic_descriptor\u001b[0m\u001b[0;34m[\u001b[0m\u001b[0;34m:\u001b[0m\u001b[0;34m,\u001b[0m \u001b[0;34m:\u001b[0m\u001b[0;36m4\u001b[0m\u001b[0;34m]\u001b[0m\u001b[0;34m.\u001b[0m\u001b[0mto_latex\u001b[0m\u001b[0;34m(\u001b[0m\u001b[0mindex\u001b[0m\u001b[0;34m=\u001b[0m\u001b[0;32mFalse\u001b[0m\u001b[0;34m,\u001b[0m \u001b[0mfloat_format\u001b[0m\u001b[0;34m=\u001b[0m\u001b[0;34m\"{:0.0f}\"\u001b[0m\u001b[0;34m.\u001b[0m\u001b[0mformat\u001b[0m\u001b[0;34m)\u001b[0m\u001b[0;34m)\u001b[0m\u001b[0;34m\u001b[0m\u001b[0m\n\u001b[0m",
      "\u001b[0;31mNameError\u001b[0m: name 'topic_descriptor' is not defined"
     ]
    }
   ],
   "source": [
    "print(topic_descriptor[:, :4].to_latex(index=False, float_format=\"{:0.0f}\".format))"
   ]
  },
  {
   "cell_type": "code",
   "execution_count": 199,
   "metadata": {},
   "outputs": [
    {
     "data": {
      "text/plain": [
       "2940"
      ]
     },
     "execution_count": 199,
     "metadata": {},
     "output_type": "execute_result"
    }
   ],
   "source": [
    "len(second_layer_dynamic_topic_model.terms)"
   ]
  },
  {
   "cell_type": "code",
   "execution_count": 426,
   "metadata": {},
   "outputs": [],
   "source": [
    "### This code is for generating the data for the latex report "
   ]
  },
  {
   "cell_type": "code",
   "execution_count": 9,
   "metadata": {},
   "outputs": [],
   "source": [
    "from collections import Counter\n",
    "words_counter = set()"
   ]
  },
  {
   "cell_type": "code",
   "execution_count": 10,
   "metadata": {},
   "outputs": [],
   "source": [
    "data_summary = windows_groups.agg({'created_at': lambda x : f\"{x.min().strftime('%d')} - {x.max().strftime('%d/%m/%Y')}\" if not x.empty else 0, \n",
    "                                   'cleanned_text': [lambda x: x.shape[0], lambda x: x.str.split().explode().nunique()]})"
   ]
  },
  {
   "cell_type": "code",
   "execution_count": 11,
   "metadata": {},
   "outputs": [
    {
     "data": {
      "text/html": [
       "<div>\n",
       "<style scoped>\n",
       "    .dataframe tbody tr th:only-of-type {\n",
       "        vertical-align: middle;\n",
       "    }\n",
       "\n",
       "    .dataframe tbody tr th {\n",
       "        vertical-align: top;\n",
       "    }\n",
       "\n",
       "    .dataframe thead tr th {\n",
       "        text-align: left;\n",
       "    }\n",
       "\n",
       "    .dataframe thead tr:last-of-type th {\n",
       "        text-align: right;\n",
       "    }\n",
       "</style>\n",
       "<table border=\"1\" class=\"dataframe\">\n",
       "  <thead>\n",
       "    <tr>\n",
       "      <th></th>\n",
       "      <th>created_at</th>\n",
       "      <th colspan=\"2\" halign=\"left\">cleanned_text</th>\n",
       "    </tr>\n",
       "    <tr>\n",
       "      <th></th>\n",
       "      <th>&lt;lambda&gt;</th>\n",
       "      <th>&lt;lambda_0&gt;</th>\n",
       "      <th>&lt;lambda_1&gt;</th>\n",
       "    </tr>\n",
       "    <tr>\n",
       "      <th>created_at</th>\n",
       "      <th></th>\n",
       "      <th></th>\n",
       "      <th></th>\n",
       "    </tr>\n",
       "  </thead>\n",
       "  <tbody>\n",
       "    <tr>\n",
       "      <th>2020-05-17</th>\n",
       "      <td>13 - 17/05/2020</td>\n",
       "      <td>16633</td>\n",
       "      <td>16848</td>\n",
       "    </tr>\n",
       "    <tr>\n",
       "      <th>2020-05-24</th>\n",
       "      <td>0</td>\n",
       "      <td>0</td>\n",
       "      <td>0</td>\n",
       "    </tr>\n",
       "    <tr>\n",
       "      <th>2020-05-31</th>\n",
       "      <td>28 - 28/05/2020</td>\n",
       "      <td>2000</td>\n",
       "      <td>3911</td>\n",
       "    </tr>\n",
       "    <tr>\n",
       "      <th>2020-06-07</th>\n",
       "      <td>0</td>\n",
       "      <td>0</td>\n",
       "      <td>0</td>\n",
       "    </tr>\n",
       "    <tr>\n",
       "      <th>2020-06-14</th>\n",
       "      <td>0</td>\n",
       "      <td>0</td>\n",
       "      <td>0</td>\n",
       "    </tr>\n",
       "    <tr>\n",
       "      <th>2020-06-21</th>\n",
       "      <td>0</td>\n",
       "      <td>0</td>\n",
       "      <td>0</td>\n",
       "    </tr>\n",
       "    <tr>\n",
       "      <th>2020-06-28</th>\n",
       "      <td>0</td>\n",
       "      <td>0</td>\n",
       "      <td>0</td>\n",
       "    </tr>\n",
       "    <tr>\n",
       "      <th>2020-07-05</th>\n",
       "      <td>0</td>\n",
       "      <td>0</td>\n",
       "      <td>0</td>\n",
       "    </tr>\n",
       "    <tr>\n",
       "      <th>2020-07-12</th>\n",
       "      <td>0</td>\n",
       "      <td>0</td>\n",
       "      <td>0</td>\n",
       "    </tr>\n",
       "    <tr>\n",
       "      <th>2020-07-19</th>\n",
       "      <td>0</td>\n",
       "      <td>0</td>\n",
       "      <td>0</td>\n",
       "    </tr>\n",
       "    <tr>\n",
       "      <th>2020-07-26</th>\n",
       "      <td>0</td>\n",
       "      <td>0</td>\n",
       "      <td>0</td>\n",
       "    </tr>\n",
       "    <tr>\n",
       "      <th>2020-08-02</th>\n",
       "      <td>0</td>\n",
       "      <td>0</td>\n",
       "      <td>0</td>\n",
       "    </tr>\n",
       "    <tr>\n",
       "      <th>2020-08-09</th>\n",
       "      <td>0</td>\n",
       "      <td>0</td>\n",
       "      <td>0</td>\n",
       "    </tr>\n",
       "    <tr>\n",
       "      <th>2020-08-16</th>\n",
       "      <td>0</td>\n",
       "      <td>0</td>\n",
       "      <td>0</td>\n",
       "    </tr>\n",
       "    <tr>\n",
       "      <th>2020-08-23</th>\n",
       "      <td>0</td>\n",
       "      <td>0</td>\n",
       "      <td>0</td>\n",
       "    </tr>\n",
       "    <tr>\n",
       "      <th>2020-08-30</th>\n",
       "      <td>26 - 30/08/2020</td>\n",
       "      <td>63794</td>\n",
       "      <td>36293</td>\n",
       "    </tr>\n",
       "    <tr>\n",
       "      <th>2020-09-06</th>\n",
       "      <td>31 - 31/08/2020</td>\n",
       "      <td>637</td>\n",
       "      <td>2247</td>\n",
       "    </tr>\n",
       "    <tr>\n",
       "      <th>2020-09-13</th>\n",
       "      <td>08 - 13/09/2020</td>\n",
       "      <td>81171</td>\n",
       "      <td>43738</td>\n",
       "    </tr>\n",
       "    <tr>\n",
       "      <th>2020-09-20</th>\n",
       "      <td>14 - 20/09/2020</td>\n",
       "      <td>115086</td>\n",
       "      <td>56887</td>\n",
       "    </tr>\n",
       "    <tr>\n",
       "      <th>2020-09-27</th>\n",
       "      <td>21 - 27/09/2020</td>\n",
       "      <td>98984</td>\n",
       "      <td>51623</td>\n",
       "    </tr>\n",
       "    <tr>\n",
       "      <th>2020-10-04</th>\n",
       "      <td>28 - 04/10/2020</td>\n",
       "      <td>114615</td>\n",
       "      <td>56671</td>\n",
       "    </tr>\n",
       "    <tr>\n",
       "      <th>2020-10-11</th>\n",
       "      <td>05 - 11/10/2020</td>\n",
       "      <td>109191</td>\n",
       "      <td>51339</td>\n",
       "    </tr>\n",
       "    <tr>\n",
       "      <th>2020-10-18</th>\n",
       "      <td>12 - 18/10/2020</td>\n",
       "      <td>170758</td>\n",
       "      <td>53706</td>\n",
       "    </tr>\n",
       "    <tr>\n",
       "      <th>2020-10-25</th>\n",
       "      <td>19 - 25/10/2020</td>\n",
       "      <td>181669</td>\n",
       "      <td>57449</td>\n",
       "    </tr>\n",
       "    <tr>\n",
       "      <th>2020-11-01</th>\n",
       "      <td>26 - 27/10/2020</td>\n",
       "      <td>18523</td>\n",
       "      <td>15648</td>\n",
       "    </tr>\n",
       "    <tr>\n",
       "      <th>2020-11-08</th>\n",
       "      <td>0</td>\n",
       "      <td>0</td>\n",
       "      <td>0</td>\n",
       "    </tr>\n",
       "    <tr>\n",
       "      <th>2020-11-15</th>\n",
       "      <td>0</td>\n",
       "      <td>0</td>\n",
       "      <td>0</td>\n",
       "    </tr>\n",
       "    <tr>\n",
       "      <th>2020-11-22</th>\n",
       "      <td>0</td>\n",
       "      <td>0</td>\n",
       "      <td>0</td>\n",
       "    </tr>\n",
       "    <tr>\n",
       "      <th>2020-11-29</th>\n",
       "      <td>0</td>\n",
       "      <td>0</td>\n",
       "      <td>0</td>\n",
       "    </tr>\n",
       "    <tr>\n",
       "      <th>2020-12-06</th>\n",
       "      <td>05 - 06/12/2020</td>\n",
       "      <td>26914</td>\n",
       "      <td>19853</td>\n",
       "    </tr>\n",
       "    <tr>\n",
       "      <th>2020-12-13</th>\n",
       "      <td>07 - 13/12/2020</td>\n",
       "      <td>135438</td>\n",
       "      <td>53708</td>\n",
       "    </tr>\n",
       "    <tr>\n",
       "      <th>2020-12-20</th>\n",
       "      <td>14 - 19/12/2020</td>\n",
       "      <td>79012</td>\n",
       "      <td>43112</td>\n",
       "    </tr>\n",
       "  </tbody>\n",
       "</table>\n",
       "</div>"
      ],
      "text/plain": [
       "                 created_at cleanned_text           \n",
       "                   <lambda>    <lambda_0> <lambda_1>\n",
       "created_at                                          \n",
       "2020-05-17  13 - 17/05/2020         16633      16848\n",
       "2020-05-24                0             0          0\n",
       "2020-05-31  28 - 28/05/2020          2000       3911\n",
       "2020-06-07                0             0          0\n",
       "2020-06-14                0             0          0\n",
       "2020-06-21                0             0          0\n",
       "2020-06-28                0             0          0\n",
       "2020-07-05                0             0          0\n",
       "2020-07-12                0             0          0\n",
       "2020-07-19                0             0          0\n",
       "2020-07-26                0             0          0\n",
       "2020-08-02                0             0          0\n",
       "2020-08-09                0             0          0\n",
       "2020-08-16                0             0          0\n",
       "2020-08-23                0             0          0\n",
       "2020-08-30  26 - 30/08/2020         63794      36293\n",
       "2020-09-06  31 - 31/08/2020           637       2247\n",
       "2020-09-13  08 - 13/09/2020         81171      43738\n",
       "2020-09-20  14 - 20/09/2020        115086      56887\n",
       "2020-09-27  21 - 27/09/2020         98984      51623\n",
       "2020-10-04  28 - 04/10/2020        114615      56671\n",
       "2020-10-11  05 - 11/10/2020        109191      51339\n",
       "2020-10-18  12 - 18/10/2020        170758      53706\n",
       "2020-10-25  19 - 25/10/2020        181669      57449\n",
       "2020-11-01  26 - 27/10/2020         18523      15648\n",
       "2020-11-08                0             0          0\n",
       "2020-11-15                0             0          0\n",
       "2020-11-22                0             0          0\n",
       "2020-11-29                0             0          0\n",
       "2020-12-06  05 - 06/12/2020         26914      19853\n",
       "2020-12-13  07 - 13/12/2020        135438      53708\n",
       "2020-12-20  14 - 19/12/2020         79012      43112"
      ]
     },
     "execution_count": 11,
     "metadata": {},
     "output_type": "execute_result"
    }
   ],
   "source": [
    "data_summary"
   ]
  },
  {
   "cell_type": "code",
   "execution_count": 12,
   "metadata": {},
   "outputs": [],
   "source": [
    "data_summary.columns = ['timeframe', 'number of tweets', 'vocabulary size']"
   ]
  },
  {
   "cell_type": "code",
   "execution_count": 13,
   "metadata": {},
   "outputs": [],
   "source": [
    "data_summary = data_summary.reset_index(drop=True)"
   ]
  },
  {
   "cell_type": "code",
   "execution_count": null,
   "metadata": {},
   "outputs": [],
   "source": [
    "data_summary.to_latex(index=False)"
   ]
  },
  {
   "cell_type": "code",
   "execution_count": 15,
   "metadata": {},
   "outputs": [
    {
     "name": "stdout",
     "output_type": "stream",
     "text": [
      "\\begin{tabular}{lrr}\n",
      "\\toprule\n",
      "       timeframe &  number of tweets &  vocabulary size \\\\\n",
      "\\midrule\n",
      " 13 - 17/05/2020 &             16633 &            16848 \\\\\n",
      " 28 - 28/05/2020 &              2000 &             3911 \\\\\n",
      " 26 - 30/08/2020 &             63794 &            36293 \\\\\n",
      " 31 - 31/08/2020 &               637 &             2247 \\\\\n",
      " 08 - 13/09/2020 &             81171 &            43738 \\\\\n",
      " 14 - 20/09/2020 &            115086 &            56887 \\\\\n",
      " 21 - 27/09/2020 &             98984 &            51623 \\\\\n",
      " 28 - 04/10/2020 &            114615 &            56671 \\\\\n",
      " 05 - 11/10/2020 &            109191 &            51339 \\\\\n",
      " 12 - 18/10/2020 &            170758 &            53706 \\\\\n",
      " 19 - 25/10/2020 &            181669 &            57449 \\\\\n",
      " 26 - 27/10/2020 &             18523 &            15648 \\\\\n",
      " 05 - 06/12/2020 &             26914 &            19853 \\\\\n",
      " 07 - 13/12/2020 &            135438 &            53708 \\\\\n",
      " 14 - 19/12/2020 &             79012 &            43112 \\\\\n",
      "\\bottomrule\n",
      "\\end{tabular}\n",
      "\n"
     ]
    }
   ],
   "source": [
    "print(data_summary.replace(0, np.nan).dropna(axis=\"rows\").to_latex(index=False, float_format=\"{:0.0f}\".format))"
   ]
  },
  {
   "cell_type": "code",
   "execution_count": null,
   "metadata": {},
   "outputs": [],
   "source": [
    "data_summary.head()"
   ]
  },
  {
   "cell_type": "code",
   "execution_count": 25,
   "metadata": {},
   "outputs": [],
   "source": [
    "data.cleanned_text.to_csv(\"../data/cleanned_tweets_2021_text_only.txt\", index=False, header=False)"
   ]
  },
  {
   "cell_type": "code",
   "execution_count": 27,
   "metadata": {},
   "outputs": [],
   "source": [
    "from sklearn.feature_extraction.text import TfidfVectorizer"
   ]
  },
  {
   "cell_type": "code",
   "execution_count": 28,
   "metadata": {},
   "outputs": [],
   "source": [
    "vectorizer = TfidfVectorizer(lowercase=True, \n",
    "                             strip_accents=\"unicode\", \n",
    "                             ngram_range = (1, 2)) "
   ]
  },
  {
   "cell_type": "code",
   "execution_count": 29,
   "metadata": {},
   "outputs": [],
   "source": [
    "doc_term_matrix = vectorizer.fit_transform(data.cleanned_text.dropna())"
   ]
  },
  {
   "cell_type": "code",
   "execution_count": 36,
   "metadata": {},
   "outputs": [
    {
     "data": {
      "text/plain": [
       "1784046"
      ]
     },
     "execution_count": 36,
     "metadata": {},
     "output_type": "execute_result"
    }
   ],
   "source": [
    "len(vectorizer.vocabulary_)"
   ]
  },
  {
   "cell_type": "code",
   "execution_count": 37,
   "metadata": {},
   "outputs": [
    {
     "data": {
      "text/plain": [
       "(1117953, 1784046)"
      ]
     },
     "execution_count": 37,
     "metadata": {},
     "output_type": "execute_result"
    }
   ],
   "source": [
    "doc_term_matrix.shape"
   ]
  },
  {
   "cell_type": "code",
   "execution_count": 40,
   "metadata": {},
   "outputs": [
    {
     "data": {
      "text/plain": [
       "(1117953,)"
      ]
     },
     "execution_count": 40,
     "metadata": {},
     "output_type": "execute_result"
    }
   ],
   "source": [
    "data.cleanned_text.dropna().shape"
   ]
  },
  {
   "cell_type": "code",
   "execution_count": 44,
   "metadata": {},
   "outputs": [],
   "source": [
    "vocab_dict = vectorizer.vocabulary_"
   ]
  },
  {
   "cell_type": "code",
   "execution_count": 43,
   "metadata": {},
   "outputs": [],
   "source": [
    "vocabulary = vectorizer.get_feature_names()"
   ]
  },
  {
   "cell_type": "code",
   "execution_count": 47,
   "metadata": {},
   "outputs": [
    {
     "data": {
      "text/plain": [
       "'zambie'"
      ]
     },
     "execution_count": 47,
     "metadata": {},
     "output_type": "execute_result"
    }
   ],
   "source": [
    "vocabulary[1778073]"
   ]
  },
  {
   "cell_type": "code",
   "execution_count": 48,
   "metadata": {},
   "outputs": [],
   "source": [
    "x = np.array([[[0], [1], [2]]])"
   ]
  },
  {
   "cell_type": "code",
   "execution_count": 49,
   "metadata": {},
   "outputs": [
    {
     "data": {
      "text/plain": [
       "array([0, 1, 2])"
      ]
     },
     "execution_count": 49,
     "metadata": {},
     "output_type": "execute_result"
    }
   ],
   "source": [
    "x.squeeze()"
   ]
  },
  {
   "cell_type": "code",
   "execution_count": 51,
   "metadata": {},
   "outputs": [
    {
     "data": {
      "text/plain": [
       "(3, 1784046)"
      ]
     },
     "execution_count": 51,
     "metadata": {},
     "output_type": "execute_result"
    }
   ],
   "source": [
    "doc_term_matrix[[1, 2, 3], :].shape"
   ]
  },
  {
   "cell_type": "code",
   "execution_count": null,
   "metadata": {},
   "outputs": [],
   "source": [
    "Current status , we need to work on the read doc term matrix function... \n",
    "and then move back to the back to the trainning phase and read about variationnal inference."
   ]
  }
 ],
 "metadata": {
  "kernelspec": {
   "display_name": "nlp-course-venv-v2",
   "language": "python",
   "name": "nlp-course-venv-v2"
  },
  "language_info": {
   "codemirror_mode": {
    "name": "ipython",
    "version": 3
   },
   "file_extension": ".py",
   "mimetype": "text/x-python",
   "name": "python",
   "nbconvert_exporter": "python",
   "pygments_lexer": "ipython3",
   "version": "3.6.5"
  }
 },
 "nbformat": 4,
 "nbformat_minor": 4
}
