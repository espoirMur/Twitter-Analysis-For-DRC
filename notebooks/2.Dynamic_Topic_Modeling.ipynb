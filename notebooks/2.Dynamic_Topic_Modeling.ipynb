{
 "cells": [
  {
   "cell_type": "markdown",
   "metadata": {},
   "source": [
    "<div class=\"cite2c-biblio\"></div><div class=\"cite2c-biblio\"></div># Topic Modeling "
   ]
  },
  {
   "cell_type": "markdown",
   "metadata": {},
   "source": [
    "In this notebook we wiil texplain what we first understand by topic modelling, what are the most used methods for topic modelling and I will conclude with dynamic topic modeling."
   ]
  },
  {
   "cell_type": "markdown",
   "metadata": {},
   "source": [
    "### Topic Modelling Definition"
   ]
  },
  {
   "cell_type": "markdown",
   "metadata": {},
   "source": [
    "### Topic Modelling Methods"
   ]
  },
  {
   "cell_type": "markdown",
   "metadata": {},
   "source": [
    "### Dynamic Topic Modelling"
   ]
  },
  {
   "cell_type": "markdown",
   "metadata": {},
   "source": [
    "In standard topic modelling we assume the order of document does not matter and therfore this approach is not suitable for time-stamped data. \n",
    "Dynamic topic modelling on the other end approach to track how languages and topic changes in a time-stamped corpus.\n",
    "\n",
    "_cite this paper from Derek Greene here_"
   ]
  },
  {
   "cell_type": "markdown",
   "metadata": {},
   "source": [
    "### Approach for the topic modelling "
   ]
  },
  {
   "cell_type": "markdown",
   "metadata": {},
   "source": [
    "The proposed approach is a two level one "
   ]
  },
  {
   "cell_type": "markdown",
   "metadata": {},
   "source": [
    "the first step is to divide the corpus into n time windows of equals durations for example days, hours, and any other time windows we want "
   ]
  },
  {
   "cell_type": "markdown",
   "metadata": {},
   "source": [
    "- On the first we apply the topic modelling techic to the document in each time windows to produce windows topics. As per the topic modelling definition the result of this step generate n windowfs topics matrix and each windows we have 2 differents matrix one is the document term matrix $W$ and the other one is the topic term matrix $H$.\n",
    "\n",
    "\n",
    "- On the second  level  we apply another MNF to all topic from step one to find dynamic topic which span multiple times windows. In this step we bacically take the most important topic in each $H$ matrix form step one and stack them row wise to have another topic per time windows and term matrix which we consider as an input matrix after another NMF decomposition of this matrix we have the time topic matrix and another topic term matrix."
   ]
  },
  {
   "cell_type": "markdown",
   "metadata": {},
   "source": [
    "The dynaminc algorithm can be represented in the fololwing steps : "
   ]
  },
  {
   "cell_type": "markdown",
   "metadata": {},
   "source": [
    "- we start with an empty matrix $B$ \n",
    "- for each windows topic model $M_t$: \n",
    "    - for each row in the $M_t$ matrix select $n$ top - ranked topic term and fill the other row with zeroes\n",
    "    - add the vector as a new vector of $B$\n",
    "- Once all the row have been added removed all the colums with zeros everywhere"
   ]
  },
  {
   "cell_type": "markdown",
   "metadata": {},
   "source": [
    "The $B$ resulted from this operation is an $i$ x $m'$ matrix where  i is the number of all the topic documents and m' is the number of most used terms in those topics . from the last step of our algo we can see that $m' <<< m $ with this we can see that we have removed all the terms which are not most used in our timeline"
   ]
  },
  {
   "cell_type": "markdown",
   "metadata": {},
   "source": [
    "#### Analysis of the B matrix "
   ]
  },
  {
   "cell_type": "markdown",
   "metadata": {},
   "source": [
    "We all know that the row of the $B$ matrix are the time windows topic and the columns are the top terms in each time windows topic."
   ]
  },
  {
   "cell_type": "markdown",
   "metadata": {},
   "source": [
    "Having the new $B$ matrix we can now apply another $NMF$  factorization to get the evolution of the dynamic topic over the time. \n",
    "\n",
    "He factorization will of B will yield the following result $B = UV$ , in this decompozition we have 2 matrixes $U$ and $V$.\n",
    "\n",
    "What do we have in those matrixes ? \n",
    "\n",
    "$U$ : the row of this matrix are the time windows topic, and the colums we have the weight of the of each dynamic topic.\n",
    "\n",
    "$V$ : the values in the row are the dynamic topic themselves and the colums are the terms describing the dynamic topics and their weights "
   ]
  },
  {
   "cell_type": "markdown",
   "metadata": {},
   "source": [
    "We can use the weight of the dynamics topic in $U$ to track the evolution of topic over time in our document we can find when it appear and when it when it disapear in the corpus "
   ]
  },
  {
   "cell_type": "markdown",
   "metadata": {},
   "source": [
    "Now let move to the application of those methods and see what result we will get ."
   ]
  },
  {
   "cell_type": "markdown",
   "metadata": {},
   "source": [
    "##### Coding the dynamic topic modelling"
   ]
  },
  {
   "cell_type": "markdown",
   "metadata": {},
   "source": [
    "#### Loading the data"
   ]
  },
  {
   "cell_type": "markdown",
   "metadata": {},
   "source": [
    "In the previous notebook about data cleanning we saved our cleanned dataset under `../data/cleanned_tweets_2021.csv`\n",
    "\n",
    "Here we will just load it and apply a tfid vectorizer to it to get our documend term matrix that we will split into the different time windows "
   ]
  },
  {
   "cell_type": "code",
   "execution_count": 1,
   "metadata": {},
   "outputs": [
    {
     "name": "stderr",
     "output_type": "stream",
     "text": [
      "/Users/es.py/Projects/Personal/nlp_course_coursera_russia_uni/.venv/lib/python3.6/site-packages/pandas/compat/__init__.py:120: UserWarning: Could not import the lzma module. Your installed Python is incomplete. Attempting to use lzma compression will result in a RuntimeError.\n",
      "  warnings.warn(msg)\n"
     ]
    }
   ],
   "source": [
    "import pandas as pd \n",
    "import numpy as np "
   ]
  },
  {
   "cell_type": "code",
   "execution_count": 2,
   "metadata": {},
   "outputs": [
    {
     "name": "stderr",
     "output_type": "stream",
     "text": [
      "/Users/es.py/Projects/Personal/nlp_course_coursera_russia_uni/.venv/lib/python3.6/site-packages/numpy/lib/arraysetops.py:569: FutureWarning: elementwise comparison failed; returning scalar instead, but in the future will perform elementwise comparison\n",
      "  mask |= (ar1 == a)\n"
     ]
    }
   ],
   "source": [
    "data = pd.read_csv('../data/cleanned_tweets_2021.csv', index_col='id', parse_dates=['created_at'])[['created_at', 'cleanned_text']]"
   ]
  },
  {
   "cell_type": "markdown",
   "metadata": {},
   "source": [
    "Step one split the data into time windows "
   ]
  },
  {
   "cell_type": "code",
   "execution_count": 3,
   "metadata": {},
   "outputs": [],
   "source": [
    "min_date = data.created_at.min().strftime('%d-%b-%Y')"
   ]
  },
  {
   "cell_type": "code",
   "execution_count": 4,
   "metadata": {},
   "outputs": [],
   "source": [
    "max_date = data.created_at.max().strftime('%d-%b-%Y')"
   ]
  },
  {
   "cell_type": "markdown",
   "metadata": {
    "variables": {
     "max_date": "19-Dec-2020",
     "min_date": "13-May-2020"
    }
   },
   "source": [
    "From this we can see that our data where collected from {{min_date}} to {{max_date}}"
   ]
  },
  {
   "cell_type": "code",
   "execution_count": 5,
   "metadata": {},
   "outputs": [
    {
     "data": {
      "text/plain": [
       "(1214425, 2)"
      ]
     },
     "execution_count": 5,
     "metadata": {},
     "output_type": "execute_result"
    }
   ],
   "source": [
    "data.shape"
   ]
  },
  {
   "cell_type": "markdown",
   "metadata": {},
   "source": [
    "let us now split it into differend time windows of different using the week as the time measurement "
   ]
  },
  {
   "cell_type": "code",
   "execution_count": 6,
   "metadata": {},
   "outputs": [],
   "source": [
    "windows_groups = data.groupby(pd.Grouper(key=\"created_at\", freq=\"1W\"))"
   ]
  },
  {
   "cell_type": "code",
   "execution_count": 7,
   "metadata": {},
   "outputs": [],
   "source": [
    "windows_data = [df for time, df in windows_groups if not df.empty]"
   ]
  },
  {
   "cell_type": "code",
   "execution_count": 8,
   "metadata": {},
   "outputs": [
    {
     "data": {
      "text/plain": [
       "15"
      ]
     },
     "execution_count": 8,
     "metadata": {},
     "output_type": "execute_result"
    }
   ],
   "source": [
    "len(windows_data)"
   ]
  },
  {
   "cell_type": "code",
   "execution_count": 9,
   "metadata": {},
   "outputs": [
    {
     "data": {
      "text/html": [
       "<div>\n",
       "<style scoped>\n",
       "    .dataframe tbody tr th:only-of-type {\n",
       "        vertical-align: middle;\n",
       "    }\n",
       "\n",
       "    .dataframe tbody tr th {\n",
       "        vertical-align: top;\n",
       "    }\n",
       "\n",
       "    .dataframe thead th {\n",
       "        text-align: right;\n",
       "    }\n",
       "</style>\n",
       "<table border=\"1\" class=\"dataframe\">\n",
       "  <thead>\n",
       "    <tr style=\"text-align: right;\">\n",
       "      <th></th>\n",
       "      <th>created_at</th>\n",
       "      <th>cleanned_text</th>\n",
       "    </tr>\n",
       "    <tr>\n",
       "      <th>id</th>\n",
       "      <th></th>\n",
       "      <th></th>\n",
       "    </tr>\n",
       "  </thead>\n",
       "  <tbody>\n",
       "    <tr>\n",
       "      <th>1305295242875330560</th>\n",
       "      <td>2020-09-14 00:00:11</td>\n",
       "      <td>viemo pra</td>\n",
       "    </tr>\n",
       "    <tr>\n",
       "      <th>1305295372999421953</th>\n",
       "      <td>2020-09-14 00:00:42</td>\n",
       "      <td>qeum esser</td>\n",
       "    </tr>\n",
       "    <tr>\n",
       "      <th>1305295388610568193</th>\n",
       "      <td>2020-09-14 00:00:46</td>\n",
       "      <td>politique senser transformer positivemer vie p...</td>\n",
       "    </tr>\n",
       "    <tr>\n",
       "      <th>1305295468507934721</th>\n",
       "      <td>2020-09-14 00:01:05</td>\n",
       "      <td>NaN</td>\n",
       "    </tr>\n",
       "    <tr>\n",
       "      <th>1305295505937829889</th>\n",
       "      <td>2020-09-14 00:01:14</td>\n",
       "      <td>girl</td>\n",
       "    </tr>\n",
       "    <tr>\n",
       "      <th>...</th>\n",
       "      <td>...</td>\n",
       "      <td>...</td>\n",
       "    </tr>\n",
       "    <tr>\n",
       "      <th>1307831680040755200</th>\n",
       "      <td>2020-09-20 23:59:05</td>\n",
       "      <td>NaN</td>\n",
       "    </tr>\n",
       "    <tr>\n",
       "      <th>1307831730024390657</th>\n",
       "      <td>2020-09-20 23:59:17</td>\n",
       "      <td>found banking secret politician public figure ...</td>\n",
       "    </tr>\n",
       "    <tr>\n",
       "      <th>1307831752946315270</th>\n",
       "      <td>2020-09-20 23:59:22</td>\n",
       "      <td>retrouvonsnou lundi préparer marche eulsezvinc...</td>\n",
       "    </tr>\n",
       "    <tr>\n",
       "      <th>1307831791919730688</th>\n",
       "      <td>2020-09-20 23:59:32</td>\n",
       "      <td>ndeko rivièr kalamu motuna eza boy bakonzi mbo...</td>\n",
       "    </tr>\n",
       "    <tr>\n",
       "      <th>1307831816452177922</th>\n",
       "      <td>2020-09-20 23:59:38</td>\n",
       "      <td>moteur avion transporter équipe avanc partance...</td>\n",
       "    </tr>\n",
       "  </tbody>\n",
       "</table>\n",
       "<p>115086 rows × 2 columns</p>\n",
       "</div>"
      ],
      "text/plain": [
       "                             created_at  \\\n",
       "id                                        \n",
       "1305295242875330560 2020-09-14 00:00:11   \n",
       "1305295372999421953 2020-09-14 00:00:42   \n",
       "1305295388610568193 2020-09-14 00:00:46   \n",
       "1305295468507934721 2020-09-14 00:01:05   \n",
       "1305295505937829889 2020-09-14 00:01:14   \n",
       "...                                 ...   \n",
       "1307831680040755200 2020-09-20 23:59:05   \n",
       "1307831730024390657 2020-09-20 23:59:17   \n",
       "1307831752946315270 2020-09-20 23:59:22   \n",
       "1307831791919730688 2020-09-20 23:59:32   \n",
       "1307831816452177922 2020-09-20 23:59:38   \n",
       "\n",
       "                                                         cleanned_text  \n",
       "id                                                                      \n",
       "1305295242875330560                                          viemo pra  \n",
       "1305295372999421953                                         qeum esser  \n",
       "1305295388610568193  politique senser transformer positivemer vie p...  \n",
       "1305295468507934721                                                NaN  \n",
       "1305295505937829889                                               girl  \n",
       "...                                                                ...  \n",
       "1307831680040755200                                                NaN  \n",
       "1307831730024390657  found banking secret politician public figure ...  \n",
       "1307831752946315270  retrouvonsnou lundi préparer marche eulsezvinc...  \n",
       "1307831791919730688  ndeko rivièr kalamu motuna eza boy bakonzi mbo...  \n",
       "1307831816452177922  moteur avion transporter équipe avanc partance...  \n",
       "\n",
       "[115086 rows x 2 columns]"
      ]
     },
     "execution_count": 9,
     "metadata": {},
     "output_type": "execute_result"
    }
   ],
   "source": [
    "windows_data[-10]"
   ]
  },
  {
   "cell_type": "markdown",
   "metadata": {
    "variables": {
     "len(windows_data)": "15"
    }
   },
   "source": [
    "After splitting we can find that our dataset is splited in time windows of {{len(windows_data)}} weeks , with the splitting done we can continue with the topic modelling"
   ]
  },
  {
   "cell_type": "markdown",
   "metadata": {},
   "source": [
    "Okay what is next is to start analyzing the topic in each time windows and build a pipeline to cobine the results"
   ]
  },
  {
   "cell_type": "markdown",
   "metadata": {},
   "source": [
    "Should I build the vectorizer for all the topic or for each time windows I need to build  a tokenizer ? "
   ]
  },
  {
   "cell_type": "markdown",
   "metadata": {},
   "source": [
    "Dereek suggest to apply the preproccessing for each time windows , we are going to build the documend term matrix for every timewindows and return the document term matrix for each time windows."
   ]
  },
  {
   "cell_type": "code",
   "execution_count": 10,
   "metadata": {},
   "outputs": [],
   "source": [
    "from sklearn.feature_extraction.text import TfidfVectorizer"
   ]
  },
  {
   "cell_type": "code",
   "execution_count": 11,
   "metadata": {},
   "outputs": [],
   "source": [
    "vectorizer = TfidfVectorizer(lowercase=True, \n",
    "                             strip_accents=\"unicode\", \n",
    "                             ngram_range = (1, 2)) "
   ]
  },
  {
   "cell_type": "code",
   "execution_count": 12,
   "metadata": {},
   "outputs": [
    {
     "data": {
      "text/html": [
       "<div>\n",
       "<style scoped>\n",
       "    .dataframe tbody tr th:only-of-type {\n",
       "        vertical-align: middle;\n",
       "    }\n",
       "\n",
       "    .dataframe tbody tr th {\n",
       "        vertical-align: top;\n",
       "    }\n",
       "\n",
       "    .dataframe thead th {\n",
       "        text-align: right;\n",
       "    }\n",
       "</style>\n",
       "<table border=\"1\" class=\"dataframe\">\n",
       "  <thead>\n",
       "    <tr style=\"text-align: right;\">\n",
       "      <th></th>\n",
       "      <th>created_at</th>\n",
       "      <th>cleanned_text</th>\n",
       "    </tr>\n",
       "    <tr>\n",
       "      <th>id</th>\n",
       "      <th></th>\n",
       "      <th></th>\n",
       "    </tr>\n",
       "  </thead>\n",
       "  <tbody>\n",
       "    <tr>\n",
       "      <th>1266062762716905473</th>\n",
       "      <td>2020-05-28 17:44:19</td>\n",
       "      <td>rwander delegation agreed continuer bilateral ...</td>\n",
       "    </tr>\n",
       "    <tr>\n",
       "      <th>1266062761462767618</th>\n",
       "      <td>2020-05-28 17:44:19</td>\n",
       "      <td>jacquemain shabani appeler jeanmarc kabund tir...</td>\n",
       "    </tr>\n",
       "    <tr>\n",
       "      <th>1266062772405747714</th>\n",
       "      <td>2020-05-28 17:44:21</td>\n",
       "      <td>udps refuser designer candidat remplacer poste...</td>\n",
       "    </tr>\n",
       "    <tr>\n",
       "      <th>1266062774578413568</th>\n",
       "      <td>2020-05-28 17:44:22</td>\n",
       "      <td>jacquemain shabani appeler jeanmarc kabund tir...</td>\n",
       "    </tr>\n",
       "    <tr>\n",
       "      <th>1266062782581047296</th>\n",
       "      <td>2020-05-28 17:44:24</td>\n",
       "      <td>today delegations rwanda meet enhance transbor...</td>\n",
       "    </tr>\n",
       "    <tr>\n",
       "      <th>...</th>\n",
       "      <td>...</td>\n",
       "      <td>...</td>\n",
       "    </tr>\n",
       "    <tr>\n",
       "      <th>1266095024183410693</th>\n",
       "      <td>2020-05-28 19:52:31</td>\n",
       "      <td>quotidien kinshasa chance</td>\n",
       "    </tr>\n",
       "    <tr>\n",
       "      <th>1266095048493498369</th>\n",
       "      <td>2020-05-28 19:52:37</td>\n",
       "      <td>che frega loro hanno tasca nessuno che obbliga...</td>\n",
       "    </tr>\n",
       "    <tr>\n",
       "      <th>1266095057628585984</th>\n",
       "      <td>2020-05-28 19:52:39</td>\n",
       "      <td>chauffeur kényan positif covid rechercher auto...</td>\n",
       "    </tr>\n",
       "    <tr>\n",
       "      <th>1266095082991685632</th>\n",
       "      <td>2020-05-28 19:52:45</td>\n",
       "      <td>grazie vito uno strumento per dignità ogni sin...</td>\n",
       "    </tr>\n",
       "    <tr>\n",
       "      <th>1266095113337528327</th>\n",
       "      <td>2020-05-28 19:52:52</td>\n",
       "      <td>NaN</td>\n",
       "    </tr>\n",
       "  </tbody>\n",
       "</table>\n",
       "<p>2000 rows × 2 columns</p>\n",
       "</div>"
      ],
      "text/plain": [
       "                             created_at  \\\n",
       "id                                        \n",
       "1266062762716905473 2020-05-28 17:44:19   \n",
       "1266062761462767618 2020-05-28 17:44:19   \n",
       "1266062772405747714 2020-05-28 17:44:21   \n",
       "1266062774578413568 2020-05-28 17:44:22   \n",
       "1266062782581047296 2020-05-28 17:44:24   \n",
       "...                                 ...   \n",
       "1266095024183410693 2020-05-28 19:52:31   \n",
       "1266095048493498369 2020-05-28 19:52:37   \n",
       "1266095057628585984 2020-05-28 19:52:39   \n",
       "1266095082991685632 2020-05-28 19:52:45   \n",
       "1266095113337528327 2020-05-28 19:52:52   \n",
       "\n",
       "                                                         cleanned_text  \n",
       "id                                                                      \n",
       "1266062762716905473  rwander delegation agreed continuer bilateral ...  \n",
       "1266062761462767618  jacquemain shabani appeler jeanmarc kabund tir...  \n",
       "1266062772405747714  udps refuser designer candidat remplacer poste...  \n",
       "1266062774578413568  jacquemain shabani appeler jeanmarc kabund tir...  \n",
       "1266062782581047296  today delegations rwanda meet enhance transbor...  \n",
       "...                                                                ...  \n",
       "1266095024183410693                          quotidien kinshasa chance  \n",
       "1266095048493498369  che frega loro hanno tasca nessuno che obbliga...  \n",
       "1266095057628585984  chauffeur kényan positif covid rechercher auto...  \n",
       "1266095082991685632  grazie vito uno strumento per dignità ogni sin...  \n",
       "1266095113337528327                                                NaN  \n",
       "\n",
       "[2000 rows x 2 columns]"
      ]
     },
     "execution_count": 12,
     "metadata": {},
     "output_type": "execute_result"
    }
   ],
   "source": [
    "windows_data[1]"
   ]
  },
  {
   "cell_type": "code",
   "execution_count": 13,
   "metadata": {},
   "outputs": [],
   "source": [
    "windows_data = list(filter( lambda x: not x.empty, windows_data))"
   ]
  },
  {
   "cell_type": "code",
   "execution_count": 14,
   "metadata": {},
   "outputs": [
    {
     "data": {
      "text/plain": [
       "15"
      ]
     },
     "execution_count": 14,
     "metadata": {},
     "output_type": "execute_result"
    }
   ],
   "source": [
    "len(windows_data)"
   ]
  },
  {
   "cell_type": "code",
   "execution_count": 15,
   "metadata": {},
   "outputs": [
    {
     "data": {
      "text/plain": [
       "'présidence cabinet chef cabinet conseiller spécial chef etat matir'"
      ]
     },
     "execution_count": 15,
     "metadata": {},
     "output_type": "execute_result"
    }
   ],
   "source": [
    "windows_data[2].head(49).iloc[1].cleanned_text"
   ]
  },
  {
   "cell_type": "code",
   "execution_count": 16,
   "metadata": {
    "scrolled": true
   },
   "outputs": [],
   "source": [
    "vectorizer = TfidfVectorizer(lowercase=True, \n",
    "                             strip_accents=\"unicode\", \n",
    "                             ngram_range = (1, 2)) \n",
    "doc_term_matrix = vectorizer.fit_transform(windows_data[0].cleanned_text.dropna())"
   ]
  },
  {
   "cell_type": "code",
   "execution_count": 17,
   "metadata": {
    "scrolled": false
   },
   "outputs": [
    {
     "data": {
      "text/plain": [
       "(14561, 53641)"
      ]
     },
     "execution_count": 17,
     "metadata": {},
     "output_type": "execute_result"
    }
   ],
   "source": [
    "doc_term_matrix.shape"
   ]
  },
  {
   "cell_type": "code",
   "execution_count": 18,
   "metadata": {},
   "outputs": [],
   "source": [
    "terms = vectorizer.get_feature_names()"
   ]
  },
  {
   "cell_type": "markdown",
   "metadata": {
    "variables": {
     "doc_term_matrix.shape[0]": "14561",
     "doc_term_matrix.shape[1]": "53641"
    }
   },
   "source": [
    "we have the for the first time windows the a tdifdf matrix of {{doc_term_matrix.shape[0]}} rows and {{doc_term_matrix.shape[1]}} colunms, those columns are the number of words and bi_grams we have in our corpus"
   ]
  },
  {
   "cell_type": "markdown",
   "metadata": {},
   "source": [
    "We can do futher preprocessing by looking into the most common ngrams we have in our corpus by using the following function "
   ]
  },
  {
   "cell_type": "code",
   "execution_count": 19,
   "metadata": {},
   "outputs": [],
   "source": [
    "from operator import itemgetter\n",
    "def rank_terms( doc_term_matrix, terms ):\n",
    "    # get the sums over each column\n",
    "    sums = doc_term_matrix.sum(axis=0)\n",
    "    # map weights to the terms\n",
    "    weights = {}\n",
    "    for col, term in enumerate(terms):\n",
    "        weights[term] = sums[0,col]\n",
    "    # rank the terms by their weight over all documents\n",
    "    return sorted(weights.items(), key=itemgetter(1), reverse=True)"
   ]
  },
  {
   "cell_type": "code",
   "execution_count": 20,
   "metadata": {},
   "outputs": [
    {
     "data": {
      "text/plain": [
       "[('thread', 218.83351691982568),\n",
       " ('zair', 217.28855207461424),\n",
       " ('anecdote', 214.5299626363258),\n",
       " ('anecdote zair', 214.5299626363258),\n",
       " ('thread anecdote', 214.5299626363258),\n",
       " ('covid', 96.90122318562476),\n",
       " ('mai', 91.11460570791263),\n",
       " ('pays', 81.31555017712598),\n",
       " ('jour', 72.42982024090871),\n",
       " ('ministre', 61.22501661962492),\n",
       " ('cas', 60.341136153752345),\n",
       " ('tshisekedi', 59.57607977234457),\n",
       " ('kabila', 56.10635901834737),\n",
       " ('kinshasa', 55.67061650966388),\n",
       " ('general', 54.4249999633158),\n",
       " ('president', 54.33813823016058),\n",
       " ('dire', 48.45230863613515),\n",
       " ('felix', 47.58595614377553),\n",
       " ('national', 46.989097460364775),\n",
       " ('demande', 46.66212030084455),\n",
       " ('passeport', 46.48247484132089),\n",
       " ('arreter', 46.340508559153186),\n",
       " ('felix tshisekedi', 45.19220772334301),\n",
       " ('justice', 44.06933342729221),\n",
       " ('creer', 43.74798354294154),\n",
       " ('pouvoir', 43.652306778435666),\n",
       " ('passer', 41.289866489392864),\n",
       " ('nouveau', 40.89890882983724),\n",
       " ('monde', 40.14428955122549),\n",
       " ('jeune', 39.82796088655963)]"
      ]
     },
     "execution_count": 20,
     "metadata": {},
     "output_type": "execute_result"
    }
   ],
   "source": [
    "rank_terms(doc_term_matrix, terms)[:30]"
   ]
  },
  {
   "cell_type": "markdown",
   "metadata": {},
   "source": [
    "Here we have the twenty most recent terms in the first time windows , let us know apply the topic modelling to it to see how what will result from it"
   ]
  },
  {
   "cell_type": "code",
   "execution_count": 21,
   "metadata": {},
   "outputs": [],
   "source": [
    "k = 15"
   ]
  },
  {
   "cell_type": "markdown",
   "metadata": {
    "variables": {
     "k": "15"
    }
   },
   "source": [
    "let us start with a k = {{k}} and then we will incorporate modele selection and performance measurenment metrics later "
   ]
  },
  {
   "cell_type": "markdown",
   "metadata": {},
   "source": [
    "Non svd is recomend to because it provide more reliable results (cite: https://www.sciencedirect.com/science/article/abs/pii/S0031320307004359?via%3Dihub)\n"
   ]
  },
  {
   "cell_type": "code",
   "execution_count": 22,
   "metadata": {},
   "outputs": [],
   "source": [
    "from sklearn.decomposition import NMF\n",
    "model = NMF(n_components=k, init=\"nndsvd\", random_state=0)"
   ]
  },
  {
   "cell_type": "code",
   "execution_count": 23,
   "metadata": {},
   "outputs": [],
   "source": [
    "model = NMF(n_components=k, init=\"nndsvd\", random_state=0)\n",
    "W = model.fit_transform(doc_term_matrix)\n",
    "H = model.components_"
   ]
  },
  {
   "cell_type": "code",
   "execution_count": 24,
   "metadata": {},
   "outputs": [
    {
     "data": {
      "text/plain": [
       "(14561, 15)"
      ]
     },
     "execution_count": 24,
     "metadata": {},
     "output_type": "execute_result"
    }
   ],
   "source": [
    "W.shape"
   ]
  },
  {
   "cell_type": "code",
   "execution_count": null,
   "metadata": {},
   "outputs": [],
   "source": [
    "W[3,:].round(3)"
   ]
  },
  {
   "cell_type": "code",
   "execution_count": null,
   "metadata": {},
   "outputs": [],
   "source": [
    "H.shape"
   ]
  },
  {
   "cell_type": "markdown",
   "metadata": {},
   "source": [
    "H contains the term weight for all topic and in from that we can pick one term and check how it is weigthed in each topic "
   ]
  },
  {
   "cell_type": "code",
   "execution_count": null,
   "metadata": {},
   "outputs": [],
   "source": [
    "term_index = terms.index('passeport')\n",
    "H[:, term_index].round(3)"
   ]
  },
  {
   "cell_type": "markdown",
   "metadata": {},
   "source": [
    "In this we can find that the term passeport is highly linked with approximately 3 topics"
   ]
  },
  {
   "cell_type": "markdown",
   "metadata": {},
   "source": [
    "Let see if now our topic make senses , we will use a functin called topic descriptor , for each topic it will return the top most ranked term in it."
   ]
  },
  {
   "cell_type": "code",
   "execution_count": null,
   "metadata": {},
   "outputs": [],
   "source": []
  },
  {
   "cell_type": "code",
   "execution_count": null,
   "metadata": {},
   "outputs": [],
   "source": [
    "def get_descriptor( terms, H, topic_index, top ):\n",
    "    # reverse sort the values to sort the indices\n",
    "    top_indices = np.argsort( H[topic_index,:] )[::-1]\n",
    "    # now get the terms corresponding to the top-ranked indices\n",
    "    top_terms = []\n",
    "    for term_index in top_indices[0:top]:\n",
    "        top_terms.append( (terms[term_index], H[topic_index, term_index].round(2)) )\n",
    "    return top_terms"
   ]
  },
  {
   "cell_type": "code",
   "execution_count": null,
   "metadata": {},
   "outputs": [],
   "source": [
    "def print_topic_descriptor(H, terms):\n",
    "    '''\n",
    "    given the H term print the topic descriptor\n",
    "    '''\n",
    "    descriptors = []\n",
    "    for topic_index in range(H.shape[0]):\n",
    "        descriptor = get_descriptor( terms, H, topic_index, 10 ) \n",
    "        descriptor = [f\"{x[0]}=:{x[1]}\" for x in descriptor]\n",
    "        descriptor = ', '.join(descriptor)\n",
    "        current_topic = topic_index+1\n",
    "        print(f\"Topic {current_topic:.1f} === describe by : {descriptor}\")\n",
    "        print('=:'*20)"
   ]
  },
  {
   "cell_type": "code",
   "execution_count": null,
   "metadata": {},
   "outputs": [],
   "source": [
    "H.shape"
   ]
  },
  {
   "cell_type": "code",
   "execution_count": null,
   "metadata": {
    "scrolled": true
   },
   "outputs": [],
   "source": [
    "print_topic_descriptor(H, terms)"
   ]
  },
  {
   "cell_type": "markdown",
   "metadata": {},
   "source": [
    "From a human evaluation percepective the topic and the description make sense we can now see how the. enmbedding train in our corpus make sense in for those"
   ]
  },
  {
   "cell_type": "markdown",
   "metadata": {},
   "source": [
    "### Evaluation of our models and parameter selection "
   ]
  },
  {
   "cell_type": "markdown",
   "metadata": {},
   "source": [
    "In this we will use coherence measures using embeddings to detects how good are our generated topics. \n",
    "\n",
    "what are those coherence measures? \n",
    "\n",
    "Here we will define the topice coherence which the sum of pair wise similaries of words that describes a topic? _why not weigthed it by topic weigth?_\n",
    "\n",
    "Basically it is define as \n",
    "\n",
    "\n",
    "For each topic we can do :\n",
    "\n",
    "$TC =  \\sum_{j=2}^{N}\\sum_{i=2}^{j-1}{similarity(w_i, w_j)}$\n",
    "\n",
    "\n",
    "For all the topics we define it as : \n",
    "\n",
    "it is the mean of TC for all the topic in the $H$ matrix "
   ]
  },
  {
   "cell_type": "markdown",
   "metadata": {},
   "source": [
    "The similarity measure we use is the cosine distance between the enmbeddings of words we have in our corpus. We can use any enmbedding techinc but here we suggest to learn embedding for our corpus since we have many term specific to the congolese context which are not in the well know enmbeddings "
   ]
  },
  {
   "cell_type": "markdown",
   "metadata": {},
   "source": [
    "#### Learning words embeddings"
   ]
  },
  {
   "cell_type": "markdown",
   "metadata": {},
   "source": [
    "We are planning to use pmi mutual information to train our word embeddings , and we evaluate the results and how they perform for mostly misspeled words if they are not performing well we will try to train a custom character level embeddings"
   ]
  },
  {
   "cell_type": "markdown",
   "metadata": {},
   "source": [
    "We need to check [this](https://towardsdatascience.com/embedding-for-spelling-correction-92c93f835d79) to check how we can improve our embeddings to take into consideration misspled words "
   ]
  },
  {
   "cell_type": "markdown",
   "metadata": {},
   "source": [
    "Cite the facebook paper where they build a model to check for misspled charactere\n",
    "\n",
    "This one : __*arXiv:1905.09755v1 [cs.CL] 23 May 2019*__"
   ]
  },
  {
   "cell_type": "markdown",
   "metadata": {},
   "source": [
    "continue wih this research to complete the embedding trainning \n",
    "\n",
    "https://www.kaggle.com/alexklibisz/simple-word-vectors-with-co-occurrence-pmi-and-svd"
   ]
  },
  {
   "cell_type": "markdown",
   "metadata": {},
   "source": [
    "We are planning to use to train the charactere n-gram embedding"
   ]
  },
  {
   "cell_type": "markdown",
   "metadata": {},
   "source": [
    "@article{bojanowski2017enriching,\n",
    "  title={Enriching Word Vectors with Subword Information},\n",
    "  author={Bojanowski, Piotr and Grave, Edouard and Joulin, Armand and Mikolov, Tomas},\n",
    "  journal={Transactions of the Association for Computational Linguistics},\n",
    "  volume={5},\n",
    "  year={2017},\n",
    "  issn={2307-387X},\n",
    "  pages={135--146}\n",
    "}"
   ]
  },
  {
   "cell_type": "markdown",
   "metadata": {},
   "source": [
    "#### Creating The Topics "
   ]
  },
  {
   "cell_type": "markdown",
   "metadata": {},
   "source": [
    "First let us create a number of differents topics models with differents k as the number of topics"
   ]
  },
  {
   "cell_type": "code",
   "execution_count": null,
   "metadata": {},
   "outputs": [],
   "source": [
    "k_min = 4\n",
    "k_max = 20\n",
    "topic_models = []\n",
    "# try each value of k\n",
    "for k in range(k_min, k_max):\n",
    "    model = NMF(n_components=k, init=\"nndsvd\", random_state=0)\n",
    "    W = model.fit_transform(doc_term_matrix)\n",
    "    H = model.components_\n",
    "    topic_models.append( (k,W,H) )"
   ]
  },
  {
   "cell_type": "markdown",
   "metadata": {},
   "source": [
    "#### Loading words Embeddings"
   ]
  },
  {
   "cell_type": "markdown",
   "metadata": {},
   "source": [
    "In the previous notebook we trained a words embedding on our corpus of tweets, let us load the emdedding model we trained and use it to calculate word similarity."
   ]
  },
  {
   "cell_type": "code",
   "execution_count": null,
   "metadata": {},
   "outputs": [],
   "source": [
    "from gensim.models.fasttext import FastText as FT_gensim\n",
    "from gensim.test.utils import datapath\n",
    "from pathlib import Path"
   ]
  },
  {
   "cell_type": "code",
   "execution_count": null,
   "metadata": {},
   "outputs": [],
   "source": [
    "model_path = Path.cwd().parent.joinpath('models', 'embeddings_one_gram_fast_tweets_only').__str__()\n",
    "model_gensim = FT_gensim.load(model_path)"
   ]
  },
  {
   "cell_type": "markdown",
   "metadata": {},
   "source": [
    "to evaluate word embeding for our words we will be using the model.wv function that return the words vector as a numpy array."
   ]
  },
  {
   "cell_type": "markdown",
   "metadata": {},
   "source": [
    "let also build a function that return the vector enmbdding for a bigram as an average of the two words it is build with "
   ]
  },
  {
   "cell_type": "code",
   "execution_count": null,
   "metadata": {},
   "outputs": [],
   "source": [
    "'thisisanunigram'.split(' ')"
   ]
  },
  {
   "cell_type": "code",
   "execution_count": null,
   "metadata": {},
   "outputs": [],
   "source": [
    "def check_bigram(word):\n",
    "    '''\n",
    "    check if the given word passed in parameter is a bigram or not\n",
    "    '''\n",
    "    if len(word.split(' ')) == 2:\n",
    "        return True\n",
    "    return False"
   ]
  },
  {
   "cell_type": "code",
   "execution_count": null,
   "metadata": {},
   "outputs": [],
   "source": [
    "def get_bi_grams_vector(string):\n",
    "    word1, words2 = string.split(' ')\n",
    "    bigram_vector = np.mean([model_gensim.wv.get_vector(word1),  model_gensim.wv.get_vector(words2)], axis=0)\n",
    "    return bigram_vector"
   ]
  },
  {
   "cell_type": "code",
   "execution_count": null,
   "metadata": {
    "scrolled": true
   },
   "outputs": [],
   "source": [
    "model_gensim.wv.get_vector('president')"
   ]
  },
  {
   "cell_type": "code",
   "execution_count": null,
   "metadata": {
    "scrolled": true
   },
   "outputs": [],
   "source": [
    "get_bi_grams_vector('felix tshisekedi').reshape(-1, 1).shape"
   ]
  },
  {
   "cell_type": "code",
   "execution_count": null,
   "metadata": {},
   "outputs": [],
   "source": [
    "w"
   ]
  },
  {
   "cell_type": "code",
   "execution_count": null,
   "metadata": {},
   "outputs": [],
   "source": [
    "compute_cosine_similarity(get_bi_grams_vector('felix tshisekedi'), model_gensim.wv.get_vector('president'))"
   ]
  },
  {
   "cell_type": "code",
   "execution_count": null,
   "metadata": {},
   "outputs": [],
   "source": [
    "def get_word_vector(word):\n",
    "    \"\"\"\n",
    "    chef if a word is a bigram and return the correponding enmbeddings\n",
    "    \"\"\"\n",
    "    if check_bigram(word):\n",
    "        return get_bi_grams_vector(word)\n",
    "    return model_gensim.wv.get_vector(word)"
   ]
  },
  {
   "cell_type": "code",
   "execution_count": null,
   "metadata": {},
   "outputs": [],
   "source": [
    "### Todos : all those function should be put in a class topic descriptor"
   ]
  },
  {
   "cell_type": "code",
   "execution_count": null,
   "metadata": {},
   "outputs": [],
   "source": [
    "from itertools import combinations"
   ]
  },
  {
   "cell_type": "code",
   "execution_count": null,
   "metadata": {},
   "outputs": [],
   "source": [
    "topic_descriptor = get_descriptor( terms, H, topic_index, 15) "
   ]
  },
  {
   "cell_type": "code",
   "execution_count": null,
   "metadata": {},
   "outputs": [],
   "source": [
    "def calculate_topic_coherence(topic_descriptor):\n",
    "    \"\"\"\n",
    "    take the term ranking and compute the corherence between the term\n",
    "    \"\"\"\n",
    "    topics_terms = [x[0] for x in topic_descriptor]\n",
    "    pairs_array = np.array(list(combinations(topics_terms, 2)))\n",
    "    pairs_vectors = np.apply_along_axis(compute_cosine_similarity, 1, pairs_array)\n",
    "    return pairs_vectors.mean()"
   ]
  },
  {
   "cell_type": "code",
   "execution_count": null,
   "metadata": {},
   "outputs": [],
   "source": [
    "def compute_overhall_topic_coherence(H):\n",
    "    '''\n",
    "    compute the overhall topic cohence for a topic model\n",
    "    H is the topic term matrix\n",
    "    '''\n",
    "    overhall_coherence = []\n",
    "    for topic_index in range(H.shape[0]):\n",
    "        topic_descriptor = get_descriptor(terms, H, topic_index, 10)\n",
    "        coherence = calculate_topic_coherence(topic_descriptor)\n",
    "        overhall_coherence.append(coherence)\n",
    "    return np.array(overhall_coherence).mean()\n",
    "        \n",
    "    "
   ]
  },
  {
   "cell_type": "code",
   "execution_count": null,
   "metadata": {},
   "outputs": [],
   "source": [
    "def get_best_coherence(topic_models):\n",
    "    \"\"\"\n",
    "    return a dict of the k and the coresponding topic for ploting purpose\n",
    "    \"\"\"\n",
    "    coherences_k = dict()\n",
    "    for (k,W,H) in topic_models:\n",
    "        coherence = compute_overhall_topic_coherence(H)\n",
    "        coherences_k[k] = coherence\n",
    "        print(\"for k = {} the coherence is {:.2f}\".format(k, coherence))\n",
    "    return coherences_k"
   ]
  },
  {
   "cell_type": "code",
   "execution_count": null,
   "metadata": {},
   "outputs": [],
   "source": [
    "%matplotlib inline\n",
    "import matplotlib\n",
    "import matplotlib.pyplot as plt\n",
    "plt.style.use(\"ggplot\")\n",
    "matplotlib.rcParams.update({\"font.size\": 14})"
   ]
  },
  {
   "cell_type": "code",
   "execution_count": null,
   "metadata": {},
   "outputs": [],
   "source": [
    "def plot_topic_coherence(coherences_k):\n",
    "    '''\n",
    "    plot the coherence for each k in the topic model\n",
    "    '''\n",
    "    fig = plt.figure(figsize=(13,7))\n",
    "    # create the line plot\n",
    "    ax = plt.plot(coherences_k.keys(), coherences_k.values() )\n",
    "    plt.xticks(list(coherences_k.keys()))\n",
    "    plt.xlabel(\"Number of Topics\")\n",
    "    plt.ylabel(\"Mean Coherence\")\n",
    "    # add the points\n",
    "    plt.scatter(coherences_k.keys(), coherences_k.values(), s=120)\n",
    "    # find and annotate the maximum point on the plot\n",
    "    ymax = max(coherences_k.values())\n",
    "    best_k =  max(coherences_k, key=coherences_k.get)\n",
    "    plt.annotate( \"k={}\".format(best_k), xy=(best_k, ymax), xytext=(best_k, ymax), textcoords=\"offset points\", fontsize=16)\n",
    "    # show the plot\n",
    "    plt.show()"
   ]
  },
  {
   "cell_type": "code",
   "execution_count": null,
   "metadata": {},
   "outputs": [],
   "source": [
    "coherences_k = get_best_coherence(topic_models)"
   ]
  },
  {
   "cell_type": "code",
   "execution_count": null,
   "metadata": {},
   "outputs": [],
   "source": [
    "coherences_k"
   ]
  },
  {
   "cell_type": "code",
   "execution_count": null,
   "metadata": {
    "scrolled": true
   },
   "outputs": [],
   "source": [
    "plot_topic_coherence(coherences_k)"
   ]
  },
  {
   "cell_type": "markdown",
   "metadata": {},
   "source": [
    "- Here we are done with the coherence measure for the topic porject , \n",
    "\n",
    "Here are the questions that arises,\n",
    "\n",
    "Why not combining the weigthed correlation to get the coherences in topics \n",
    "- combine also with the choice of topics by the number of words in the topic terms or take all and calculate "
   ]
  },
  {
   "cell_type": "code",
   "execution_count": null,
   "metadata": {},
   "outputs": [],
   "source": [
    "def create_topic_model(windows_doc):\n",
    "    \"\"\"\n",
    "    given a a dataframe of time windows generate an array of topic models\n",
    "    return the list of all terms and the list of different topics models for different k\n",
    "    \"\"\"\n",
    "    vectorizer = TfidfVectorizer(lowercase=True, \n",
    "                                 strip_accents=\"unicode\", \n",
    "                                 ngram_range = (1, 2)) \n",
    "    doc_term_matrix = vectorizer.fit_transform(windows_doc.cleanned_text.dropna())\n",
    "    terms = vectorizer.get_feature_names()\n",
    "    k_min = 4\n",
    "    k_max = 20\n",
    "    topic_models = []\n",
    "    # try each value of k\n",
    "    for k in range(k_min, k_max):\n",
    "        model = NMF(n_components=k, init=\"nndsvd\", random_state=0)\n",
    "        W = model.fit_transform(doc_term_matrix)\n",
    "        H = model.components_\n",
    "        topic_models.append( (k,W,H) )\n",
    "    return topic_models, terms"
   ]
  },
  {
   "cell_type": "code",
   "execution_count": 1,
   "metadata": {},
   "outputs": [],
   "source": [
    "# %load ../topic_modeling/word_embedings_utils.py\n",
    "import numpy as np\n",
    "from pathlib import Path\n",
    "from gensim.models.fasttext import FastText as FT_gensim\n",
    "from gensim.test.utils import datapath\n",
    "\n",
    "\n",
    "class WordEmbeddingUtils:\n",
    "    \"\"\"\n",
    "    This contains utilities to manage words embeddings.\n",
    "    \"\"\"\n",
    "    def __init__(self):\n",
    "        super().__init__()\n",
    "        self.read_wv_model()\n",
    "\n",
    "    def read_wv_model(self, model_name='embeddings_one_gram_fast_tweets_only'):\n",
    "        \"\"\"\n",
    "        read the word to vv embedding model passed in parameter\n",
    "\n",
    "        Args:\n",
    "            path ([type]): [description]\n",
    "        \"\"\"\n",
    "        model_path = Path.cwd().joinpath('..', 'models', model_name).__str__()\n",
    "        self.model_gensim = FT_gensim.load(model_path)\n",
    "\n",
    "    def check_bigram(self, word):\n",
    "        \"\"\"\n",
    "        check if the given word passed in parameter is a bigram or not\n",
    "        \"\"\"\n",
    "        if len(word.split(' ')) == 2:\n",
    "            return True\n",
    "        return False\n",
    "    \n",
    "    def get_bi_grams_vector(self, string):\n",
    "        \"\"\"\n",
    "        get the vector of the bigram passed in parameter,\n",
    "        this is done by using the average of the two words building the vector\n",
    "\n",
    "        Args:\n",
    "            string ([type]): [description]\n",
    "\n",
    "        Returns:\n",
    "            [type]: [description]\n",
    "        \"\"\"\n",
    "        word1, words2 = string.split(' ')\n",
    "        bigram_vector = np.mean([self.model_gensim.wv.get_vector(word1),\n",
    "                                 self.model_gensim.wv.get_vector(words2)],\n",
    "                                axis=0)\n",
    "        return bigram_vector\n",
    "\n",
    "    def compute_cosine_similarity(self, words):\n",
    "        \"\"\"\n",
    "        This code use numpy to compute the\n",
    "        cosine similarity between two given vectors\n",
    "        params:\n",
    "        words : a 2 d array with 2 words we are calculating the similarity for\n",
    "        \"\"\"\n",
    "        word_1, word_2 = words[0], words[1]\n",
    "        vector_1 = self.get_word_vector(word_1)\n",
    "        vector_2 = self.get_word_vector(word_2)\n",
    "        ma = np.linalg.norm(vector_1)\n",
    "        mb = np.linalg.norm(vector_2)\n",
    "        cosine_distance = (np.matmul(vector_1, vector_2))/(ma*mb)\n",
    "        return cosine_distance\n",
    "\n",
    "    def get_word_vector(self, word):\n",
    "        \"\"\"\n",
    "        return the word vector for the corresponding word or bigram\n",
    "\n",
    "        Args:\n",
    "            word ([type]): [description]\n",
    "        \"\"\"\n",
    "        if self.check_bigram(word):\n",
    "            return self.get_bi_grams_vector(word)\n",
    "        return self.model_gensim.wv.get_vector(word)\n",
    "\n"
   ]
  },
  {
   "cell_type": "markdown",
   "metadata": {},
   "source": [
    "### Putting everything together "
   ]
  },
  {
   "cell_type": "code",
   "execution_count": 250,
   "metadata": {},
   "outputs": [],
   "source": [
    "# %load ../topic_modeling/topic_modeling.py\n",
    "\"\"\"\n",
    "this package hold the code for the dynamic topic modeling with the nmf\n",
    "\"\"\"\n",
    "import pandas as pd\n",
    "import numpy as np\n",
    "from pathlib import Path\n",
    "from gensim.models.fasttext import FastText as FT_gensim\n",
    "from gensim.test.utils import datapath\n",
    "from sklearn.feature_extraction.text import TfidfVectorizer\n",
    "from sklearn.decomposition import NMF\n",
    "from itertools import combinations\n",
    "import matplotlib\n",
    "import matplotlib.pyplot as plt\n",
    "plt.style.use(\"ggplot\")\n",
    "matplotlib.rcParams.update({\"font.size\": 14})\n",
    "\n",
    "\n",
    "class TopicModelNMF:\n",
    "    def __init__(self, corpus_dataframe, vectorize=True):\n",
    "        self.corpus_dataframe = corpus_dataframe\n",
    "        self.word_embeddings = WordEmbeddingUtils()\n",
    "        self.vectorize = vectorize\n",
    "        super().__init__()\n",
    "    \n",
    "    def create_topic_model(self, ngram_range=(1, 2)):\n",
    "        \"\"\"\n",
    "        given a a dataframe of time windows generate an array of topic models\n",
    "        return the list of all terms and the list of different topics models\n",
    "        for different k\n",
    "        \"\"\"\n",
    "        if self.vectorize:\n",
    "            vectorizer = TfidfVectorizer(lowercase=True,\n",
    "                                     strip_accents=\"unicode\",\n",
    "                                     ngram_range=ngram_range)\n",
    "            doc_term_matrix = vectorizer.fit_transform(self.corpus_dataframe.cleanned_text.dropna())\n",
    "            terms = vectorizer.get_feature_names()\n",
    "        else:\n",
    "            doc_term_matrix = self.corpus_dataframe.values\n",
    "            terms = self.corpus_dataframe.columns\n",
    "        k_min = 4\n",
    "        k_max = 20\n",
    "        topic_models = []\n",
    "        # try each value of k\n",
    "        for k in range(k_min, k_max):\n",
    "            model = NMF(n_components=k, init=\"nndsvd\", random_state=0)\n",
    "            W = model.fit_transform(doc_term_matrix)\n",
    "            H = model.components_\n",
    "            topic_models.append((k, W, H))\n",
    "        self.topic_models = topic_models\n",
    "        self.terms = terms\n",
    "    \n",
    "    def get_descriptor(self, terms, H, topic_index, top):\n",
    "        \"\"\"\n",
    "        get the topic descriptor for the given term\n",
    "\n",
    "        Args:\n",
    "            terms ([type]): [description]\n",
    "            H ([type]): [description]\n",
    "            topic_index ([type]): [description]\n",
    "            top ([type]): [description]\n",
    "\n",
    "        Returns:\n",
    "            [type]: [description]\n",
    "        \"\"\"\n",
    "        # reverse sort the values to sort the indices\n",
    "        top_indices = np.argsort(H[topic_index, :])[::-1]\n",
    "        # now get the terms corresponding to the top-ranked indices\n",
    "        \n",
    "        for term_index in top_indices[0:top]:\n",
    "            yield (terms[term_index], H[topic_index, term_index].round(2))\n",
    "\n",
    "    def calculate_topic_coherence(self, topic_descriptor):\n",
    "        \"\"\"\n",
    "        take the term ranking and compute the coherence between the term\n",
    "        \"\"\"\n",
    "        topics_terms = [x[0] for x in topic_descriptor]\n",
    "        pairs_array = np.array(list(combinations(topics_terms, 2)))\n",
    "        pairs_vectors = np.apply_along_axis(self.word_embeddings.compute_cosine_similarity, \n",
    "                                            1,\n",
    "                                            pairs_array)\n",
    "        return pairs_vectors.mean()\n",
    "\n",
    "    def compute_overhall_topic_coherence(self, H, terms):\n",
    "        '''\n",
    "        compute the overhall topic coherence for a topic model\n",
    "        H is the topic term matrix\n",
    "        '''\n",
    "        overhall_coherence = []\n",
    "        for topic_index in range(H.shape[0]):\n",
    "            topic_descriptor = self.get_descriptor(terms,\n",
    "                                                   H,\n",
    "                                                   topic_index, 10)\n",
    "            coherence = self.calculate_topic_coherence(topic_descriptor)\n",
    "            overhall_coherence.append(coherence)\n",
    "        return np.array(overhall_coherence).mean()\n",
    "    \n",
    "    def plot_topic_coherence(self, coherences_k, axe):\n",
    "        \"\"\"\n",
    "        plot the coherence for each k in the topic model\n",
    "        \"\"\"\n",
    "        axe.plot(coherences_k.keys(), coherences_k.values())\n",
    "        axe.set_xlabel(\"Number of Topics\")\n",
    "        axe.set_ylabel(\"Mean Coherence\")\n",
    "        # add the points\n",
    "        axe.scatter(coherences_k.keys(), coherences_k.values(), s=120)\n",
    "        # find and annotate the maximum point on the plot\n",
    "        ymax = max(coherences_k.values())\n",
    "        best_k = max(coherences_k, key=coherences_k.get)\n",
    "        axe.annotate(\"k={}\".format(best_k),\n",
    "                     xy=(best_k, ymax),\n",
    "                     xytext=(best_k, ymax),\n",
    "                     textcoords=\"offset points\", fontsize=16)\n",
    "\n",
    "    def get_best_coherence(self):\n",
    "        \"\"\"\n",
    "        return a dict of the k\n",
    "        and the coresponding topic for ploting purpose\n",
    "        \"\"\"\n",
    "        coherences_k = dict()\n",
    "        for (k, W, H) in self.topic_models:\n",
    "            coherence = self.compute_overhall_topic_coherence(H, self.terms)\n",
    "            coherences_k[k] = coherence\n",
    "        best_coherence = max(coherences_k, key=coherences_k.get)\n",
    "        self.best_k = best_coherence\n",
    "        self.coherence_k = coherences_k\n",
    "    \n",
    "    def get_best_model(self):\n",
    "        \"\"\"\n",
    "        loop trough all the topic models and return the\n",
    "        best one with the coresponding terms\n",
    "        \"\"\"\n",
    "        best_k = self.best_k\n",
    "        best_model = self.topic_models[best_k-4]\n",
    "        assert best_model[0] == best_k\n",
    "        H = best_model[2]\n",
    "        self.H = H\n",
    "    \n",
    "    def get_top_terms_per_model(self, top_terms=15):\n",
    "        '''\n",
    "        return the top term per matrix\n",
    "        '''\n",
    "        top_indices = np.flip(np.argsort(self.H))\n",
    "        terms_array = np.array(self.terms, dtype=np.str)\n",
    "        top_terms = np.take(terms_array, top_indices)[::-1, :top_terms]\n",
    "        self.top_terms = top_terms\n",
    "    \n",
    "    def print_topic_descriptor(self, top_terms=10):\n",
    "        '''\n",
    "        given the H term print the topic descriptor\n",
    "        '''\n",
    "        for topic_index in range(self.H.shape[0]):\n",
    "            descriptor = self.get_descriptor( self.terms, self.H, topic_index, top_terms) \n",
    "            descriptor = [f\"{x[0]}=:{x[1]}\" for x in descriptor]\n",
    "            descriptor = ', '.join(descriptor)\n",
    "            current_topic = topic_index+1\n",
    "            print(f\"Topic {current_topic:.1f} === describe by : {descriptor}\")\n",
    "            print('=:'*20)\n",
    "\n"
   ]
  },
  {
   "cell_type": "code",
   "execution_count": 223,
   "metadata": {},
   "outputs": [],
   "source": [
    "# %load ../topic_modeling/dynamic_nmf.py\n",
    "\"\"\"\n",
    "this package hold the code for the dynamic topic modeling with the nmf\n",
    "\"\"\"\n",
    "import pandas as pd\n",
    "import numpy as np\n",
    "import pickle\n",
    "from pathlib import Path\n",
    "from gensim.models.fasttext import FastText as FT_gensim\n",
    "from gensim.test.utils import datapath\n",
    "from sklearn.feature_extraction.text import TfidfVectorizer\n",
    "from sklearn.decomposition import NMF\n",
    "from itertools import combinations\n",
    "from multiprocessing import Pool, cpu_count\n",
    "\n",
    "import matplotlib\n",
    "import matplotlib.pyplot as plt\n",
    "plt.style.use(\"ggplot\")\n",
    "matplotlib.rcParams.update({\"font.size\": 14})\n",
    "\n",
    "\n",
    "class DynamicNMF:\n",
    "    def __init__(self):\n",
    "        self.read_data()\n",
    "        self.min_date = self.data.created_at.min().strftime('%d-%b-%Y')\n",
    "        self.max_date = self.data.created_at.max().strftime('%d-%b-%Y')\n",
    "        self.split_into_windows_docs()\n",
    "\n",
    "    def read_data(self, dataset_name='cleanned_tweets_2021.csv'):\n",
    "        \"\"\"\n",
    "        read the dataset and return it in a pandas dataframe\n",
    "\n",
    "        Args:\n",
    "            dataset_name (str, optional): [description]. Defaults to\n",
    "            'cleanned_tweets_2021.csv'.\n",
    "        \"\"\"\n",
    "        self.data_path = Path.cwd().joinpath('..', 'data', dataset_name)\n",
    "        self.data = pd.read_csv(self.data_path, index_col='id',\n",
    "                                parse_dates=['created_at'])\n",
    "        self.data = self.data[['created_at', 'cleanned_text']]\n",
    "    \n",
    "    def split_into_windows_docs(self, freq='1W'):\n",
    "        \"\"\"\n",
    "        split the data into different windows document of the given length\n",
    "\n",
    "        Args:\n",
    "            freq (str, optional): [description]. Defaults to '1W'.\n",
    "        \"\"\"\n",
    "        self.windows_groups = self.data.groupby(pd.Grouper(key=\"created_at\",\n",
    "                                                           freq=freq))\n",
    "        self.windows_data = [df for time, df in self.windows_groups if not df.empty]\n",
    "\n",
    "    def plot_all_coherence(self):\n",
    "        \"\"\"\n",
    "        plot for all windows topic model the evolution of coherence measure\n",
    "        \"\"\"\n",
    "        fig, axes = plt.subplots(nrows=3, ncols=5, figsize=(25, 12.5))\n",
    "        axes = axes.flatten()\n",
    "        for coherence_k, axe, topic_model in zip(self.all_coherence, axes, self.all_topic_models):\n",
    "            topic_model.get('topic_model').plot_topic_coherence(coherence_k, axe)\n",
    "    \n",
    "    def train_topic_models(self, window_data):\n",
    "        \"\"\"\n",
    "        train one topic model\n",
    "        \"\"\"\n",
    "        topic_model = TopicModelNMF(window_data)\n",
    "        topic_model.create_topic_model()\n",
    "        topic_model.get_best_coherence()\n",
    "        topic_model.get_best_model()\n",
    "        terms = topic_model.terms\n",
    "        coherence_k = topic_model.coherence_k\n",
    "        best_coherence = topic_model.best_k\n",
    "        return topic_model, coherence_k\n",
    "        \n",
    "        \n",
    "    \n",
    "    def generate_all_topic_models(self):\n",
    "        \"\"\"\n",
    "        compute topic modeling for all the time windows in the dataframe,s\n",
    "        \"\"\"\n",
    "\n",
    "        all_coherence = []\n",
    "        all_topic_models = list()\n",
    "        \"\"\"with Pool(cpu_count()) as pool:\n",
    "            results = pool.map(self.train_topic_models, self.windows_data[:2])\n",
    "        self.all_coherence = [coherence for _, coherence in results]\n",
    "        self.all_topic_models = [topic_model for topic_model, _ in results]\"\"\"\n",
    "        for window_data in self.windows_data:\n",
    "            results = self.train_topic_models(window_data)\n",
    "            all_coherence.append(results[1])\n",
    "            all_topic_models.append(results[0])\n",
    "        self.all_coherence = all_coherence\n",
    "        self.all_topic_models = all_topic_models\n",
    "\n",
    "    def build_time_windows_matrix(self):\n",
    "        \"\"\"\n",
    "        this build the $B$ matrix for the dynamic topic modelling\n",
    "        \"\"\"\n",
    "        all_topic_matrix = list()\n",
    "        for topic_model in self.all_topic_models:\n",
    "            H = topic_model.H\n",
    "            terms = topic_model.terms\n",
    "            topic_model.get_top_terms_per_model\n",
    "            top_terms = topic_model.top_terms\n",
    "            all_topic_matrix.append(top_terms)\n",
    "        self.B_matrix = np.concatenate(all_topic_matrix, axis=0)\n",
    "\n",
    "    def save_model(self):\n",
    "        \"\"\"\n",
    "        use the pickle module to save the model objectsms\n",
    "        \"\"\"\n",
    "        with open(Path().cwd().parent.joinpath('models', f\"dynamic_topic_model_{datetime.now()}\"), 'wb') as file:\n",
    "            pickle.dump(self, file)\n",
    "\n",
    "    def load_model(self, path):\n",
    "        \"\"\"\n",
    "        loads the saved model\n",
    "        \"\"\"\n",
    "        with open(Path().cwd().parent.joinpath('data', 'model', \"path\")) as file:\n",
    "            pickle.load(file)\n"
   ]
  },
  {
   "cell_type": "markdown",
   "metadata": {},
   "source": [
    "with all the function in one machine, we can now use it to create a new topic modeling and apply the suggested method to generate the dynamic NMF"
   ]
  },
  {
   "cell_type": "markdown",
   "metadata": {},
   "source": [
    "### next step is the analysis of the dynamic topics"
   ]
  },
  {
   "cell_type": "markdown",
   "metadata": {},
   "source": [
    "In this step we will analyse the topic generated by applying the topic modeling to the $B$"
   ]
  },
  {
   "cell_type": "markdown",
   "metadata": {},
   "source": [
    "Let us plot the topics per timewindows documents matrixes"
   ]
  },
  {
   "cell_type": "code",
   "execution_count": 13,
   "metadata": {
    "scrolled": true
   },
   "outputs": [
    {
     "name": "stderr",
     "output_type": "stream",
     "text": [
      "/Users/es.py/Projects/Personal/nlp_course_coursera_russia_uni/.venv/lib/python3.6/site-packages/numpy/lib/arraysetops.py:569: FutureWarning: elementwise comparison failed; returning scalar instead, but in the future will perform elementwise comparison\n",
      "  mask |= (ar1 == a)\n"
     ]
    },
    {
     "name": "stdout",
     "output_type": "stream",
     "text": [
      " I am staring \n",
      " I am in the middle of the process\n",
      " I am done \n",
      " I am staring \n",
      " I am in the middle of the process\n",
      " I am done \n",
      " I am staring \n",
      " I am in the middle of the process\n",
      " I am done \n",
      " I am staring \n",
      " I am in the middle of the process\n",
      " I am done \n",
      " I am staring \n",
      " I am in the middle of the process\n",
      " I am done \n",
      " I am staring \n",
      " I am in the middle of the process\n",
      " I am done \n",
      " I am staring \n",
      " I am in the middle of the process\n",
      " I am done \n",
      " I am staring \n",
      " I am in the middle of the process\n",
      " I am done \n",
      " I am staring \n",
      " I am in the middle of the process\n",
      " I am done \n",
      " I am staring \n",
      " I am in the middle of the process\n",
      " I am done \n",
      " I am staring \n",
      " I am in the middle of the process\n",
      " I am done \n",
      " I am staring \n",
      " I am in the middle of the process\n",
      " I am done \n",
      " I am staring \n",
      " I am in the middle of the process\n",
      " I am done \n",
      " I am staring \n",
      " I am in the middle of the process\n",
      " I am done \n",
      " I am staring \n",
      " I am in the middle of the process\n",
      " I am done \n"
     ]
    }
   ],
   "source": [
    "dynamic_nmf = DynamicNMF()\n",
    "dynamic_nmf.generate_all_topic_models()"
   ]
  },
  {
   "cell_type": "code",
   "execution_count": 14,
   "metadata": {},
   "outputs": [
    {
     "data": {
      "image/png": "[encoded data removed]",
      "text/plain": [
       "<Figure size 1800x900 with 15 Axes>"
      ]
     },
     "metadata": {},
     "output_type": "display_data"
    }
   ],
   "source": [
    "dynamic_nmf.plot_all_coherence()"
   ]
  },
  {
   "cell_type": "code",
   "execution_count": 10,
   "metadata": {},
   "outputs": [],
   "source": [
    "from datetime import datetime\n",
    "import json"
   ]
  },
  {
   "cell_type": "code",
   "execution_count": 42,
   "metadata": {},
   "outputs": [],
   "source": [
    "def build_time_windows_matrix(model):\n",
    "    \"\"\"\n",
    "    this build the $B$ matrix for the dynamic topic modelling\n",
    "    \"\"\"\n",
    "    all_topic_matrix = list()\n",
    "    for topic_model in model.all_topic_models:\n",
    "        topic_model = topic_model.get('topic_model')\n",
    "        H = topic_model.H\n",
    "        terms = topic_model.terms\n",
    "        topic_model.get_top_terms_per_model()\n",
    "        top_terms = topic_model.top_terms\n",
    "        all_topic_matrix.append(top_terms)\n",
    "        model.B_matrix = np.concatenate(all_topic_matrix, axis=0)"
   ]
  },
  {
   "cell_type": "code",
   "execution_count": 43,
   "metadata": {
    "scrolled": true
   },
   "outputs": [
    {
     "name": "stdout",
     "output_type": "stream",
     "text": [
      "dict_keys(['terms', 'topic_model', 'best_k'])\n",
      "dict_keys(['terms', 'topic_model', 'best_k'])\n",
      "dict_keys(['terms', 'topic_model', 'best_k'])\n",
      "dict_keys(['terms', 'topic_model', 'best_k'])\n",
      "dict_keys(['terms', 'topic_model', 'best_k'])\n",
      "dict_keys(['terms', 'topic_model', 'best_k'])\n",
      "dict_keys(['terms', 'topic_model', 'best_k'])\n",
      "dict_keys(['terms', 'topic_model', 'best_k'])\n",
      "dict_keys(['terms', 'topic_model', 'best_k'])\n",
      "dict_keys(['terms', 'topic_model', 'best_k'])\n",
      "dict_keys(['terms', 'topic_model', 'best_k'])\n",
      "dict_keys(['terms', 'topic_model', 'best_k'])\n",
      "dict_keys(['terms', 'topic_model', 'best_k'])\n",
      "dict_keys(['terms', 'topic_model', 'best_k'])\n",
      "dict_keys(['terms', 'topic_model', 'best_k'])\n"
     ]
    }
   ],
   "source": [
    "build_time_windows_matrix(dynamic_nmf)"
   ]
  },
  {
   "cell_type": "code",
   "execution_count": 44,
   "metadata": {},
   "outputs": [
    {
     "data": {
      "text/plain": [
       "array([['thread', 'anecdote zair', 'anecdote', ..., 'envahissement zair',\n",
       "        'puant', 'envahissement'],\n",
       "       ['leav villag', 'african pygmie', 'world shortest', ..., 'leav',\n",
       "        'set', 'villag'],\n",
       "       ['rappeur damso', 'creer fondation', 'damso creer', ..., 'lutter',\n",
       "        'naturel', 'afin'],\n",
       "       ...,\n",
       "       ['retweet', 'jeune pilote', 'retweet encourager', ..., 'massacre',\n",
       "        'yumbi', 'massacre yumbi'],\n",
       "       ['corruption', 'lutte', 'lutte corruption', ..., 'maladie', 'usa',\n",
       "        'paix declarer'],\n",
       "       ['page tourner', 'vouloir rendre', 'rendre annee', ...,\n",
       "        'annee voler', 'tourner', 'voler']], dtype='<U120')"
      ]
     },
     "execution_count": 44,
     "metadata": {},
     "output_type": "execute_result"
    }
   ],
   "source": [
    "dynamic_nmf.B_matrix"
   ]
  },
  {
   "cell_type": "code",
   "execution_count": 171,
   "metadata": {},
   "outputs": [],
   "source": [
    "def get_top_terms_per_model(model, top_terms=15):\n",
    "    '''\n",
    "    for each row in H keep the n top terms and fill the rest with 0\n",
    "    check this question, https://stackoverflow.com/a/61268350/4683950\n",
    "    '''\n",
    "    top_terms =  model.H  * (model.H >= np.sort(model.H, axis=1)[:, [-top_terms]]).astype(int)\n",
    "    return pd.DataFrame(columns=model.terms, data=top_terms.round(4))"
   ]
  },
  {
   "cell_type": "code",
   "execution_count": 172,
   "metadata": {},
   "outputs": [],
   "source": [
    "test_model = dynamic_nmf.all_topic_models[0].get('topic_model')"
   ]
  },
  {
   "cell_type": "code",
   "execution_count": 173,
   "metadata": {},
   "outputs": [
    {
     "name": "stdout",
     "output_type": "stream",
     "text": [
      "(15, 53641)\n",
      "(19, 9302)\n",
      "(6, 145109)\n",
      "(13, 4858)\n",
      "(5, 186416)\n",
      "(4, 267976)\n",
      "(7, 227146)\n",
      "(4, 263129)\n",
      "(8, 238453)\n",
      "(9, 252946)\n",
      "(16, 294087)\n",
      "(9, 47847)\n",
      "(19, 71273)\n",
      "(7, 277519)\n",
      "(7, 191025)\n"
     ]
    }
   ],
   "source": [
    "all_data = pd.concat([get_top_terms_per_model(topic_model.get('topic_model')) for topic_model in dynamic_nmf.all_topic_models])"
   ]
  },
  {
   "cell_type": "code",
   "execution_count": 174,
   "metadata": {
    "scrolled": true
   },
   "outputs": [
    {
     "data": {
      "text/plain": [
       "(148, 1784046)"
      ]
     },
     "execution_count": 174,
     "metadata": {},
     "output_type": "execute_result"
    }
   ],
   "source": [
    "all_data.shape"
   ]
  },
  {
   "cell_type": "code",
   "execution_count": 179,
   "metadata": {},
   "outputs": [],
   "source": [
    "all_data = all_data.fillna(0.0).reset_index(drop=True)"
   ]
  },
  {
   "cell_type": "code",
   "execution_count": 182,
   "metadata": {},
   "outputs": [
    {
     "data": {
      "text/html": [
       "<div>\n",
       "<style scoped>\n",
       "    .dataframe tbody tr th:only-of-type {\n",
       "        vertical-align: middle;\n",
       "    }\n",
       "\n",
       "    .dataframe tbody tr th {\n",
       "        vertical-align: top;\n",
       "    }\n",
       "\n",
       "    .dataframe thead th {\n",
       "        text-align: right;\n",
       "    }\n",
       "</style>\n",
       "<table border=\"1\" class=\"dataframe\">\n",
       "  <thead>\n",
       "    <tr style=\"text-align: right;\">\n",
       "      <th></th>\n",
       "      <th>000</th>\n",
       "      <th>000 000</th>\n",
       "      <th>000 600</th>\n",
       "      <th>000 bonus</th>\n",
       "      <th>000 disbursed</th>\n",
       "      <th>000 displaced</th>\n",
       "      <th>000 ffbe</th>\n",
       "      <th>000 oyshushu</th>\n",
       "      <th>000 per</th>\n",
       "      <th>000usd</th>\n",
       "      <th>...</th>\n",
       "      <th>œuvre reta</th>\n",
       "      <th>œuvre retabl</th>\n",
       "      <th>œuvre retablir</th>\n",
       "      <th>œuvre sortie</th>\n",
       "      <th>œuvre talibanie</th>\n",
       "      <th>œuvre tenebr</th>\n",
       "      <th>œuvre tenebre</th>\n",
       "      <th>œuvre tshisekedi</th>\n",
       "      <th>œuvrer bonheur</th>\n",
       "      <th>œuvrer long</th>\n",
       "    </tr>\n",
       "  </thead>\n",
       "  <tbody>\n",
       "    <tr>\n",
       "      <th>0</th>\n",
       "      <td>0.0</td>\n",
       "      <td>0.0</td>\n",
       "      <td>0.0</td>\n",
       "      <td>0.0</td>\n",
       "      <td>0.0</td>\n",
       "      <td>0.0</td>\n",
       "      <td>0.0</td>\n",
       "      <td>0.0</td>\n",
       "      <td>0.0</td>\n",
       "      <td>0.0</td>\n",
       "      <td>...</td>\n",
       "      <td>0.0</td>\n",
       "      <td>0.0</td>\n",
       "      <td>0.0</td>\n",
       "      <td>0.0</td>\n",
       "      <td>0.0</td>\n",
       "      <td>0.0</td>\n",
       "      <td>0.0</td>\n",
       "      <td>0.0</td>\n",
       "      <td>0.0</td>\n",
       "      <td>0.0</td>\n",
       "    </tr>\n",
       "    <tr>\n",
       "      <th>1</th>\n",
       "      <td>0.0</td>\n",
       "      <td>0.0</td>\n",
       "      <td>0.0</td>\n",
       "      <td>0.0</td>\n",
       "      <td>0.0</td>\n",
       "      <td>0.0</td>\n",
       "      <td>0.0</td>\n",
       "      <td>0.0</td>\n",
       "      <td>0.0</td>\n",
       "      <td>0.0</td>\n",
       "      <td>...</td>\n",
       "      <td>0.0</td>\n",
       "      <td>0.0</td>\n",
       "      <td>0.0</td>\n",
       "      <td>0.0</td>\n",
       "      <td>0.0</td>\n",
       "      <td>0.0</td>\n",
       "      <td>0.0</td>\n",
       "      <td>0.0</td>\n",
       "      <td>0.0</td>\n",
       "      <td>0.0</td>\n",
       "    </tr>\n",
       "    <tr>\n",
       "      <th>2</th>\n",
       "      <td>0.0</td>\n",
       "      <td>0.0</td>\n",
       "      <td>0.0</td>\n",
       "      <td>0.0</td>\n",
       "      <td>0.0</td>\n",
       "      <td>0.0</td>\n",
       "      <td>0.0</td>\n",
       "      <td>0.0</td>\n",
       "      <td>0.0</td>\n",
       "      <td>0.0</td>\n",
       "      <td>...</td>\n",
       "      <td>0.0</td>\n",
       "      <td>0.0</td>\n",
       "      <td>0.0</td>\n",
       "      <td>0.0</td>\n",
       "      <td>0.0</td>\n",
       "      <td>0.0</td>\n",
       "      <td>0.0</td>\n",
       "      <td>0.0</td>\n",
       "      <td>0.0</td>\n",
       "      <td>0.0</td>\n",
       "    </tr>\n",
       "  </tbody>\n",
       "</table>\n",
       "<p>3 rows × 1784046 columns</p>\n",
       "</div>"
      ],
      "text/plain": [
       "   000  000 000  000 600  000 bonus  000 disbursed  000 displaced  000 ffbe  \\\n",
       "0  0.0      0.0      0.0        0.0            0.0            0.0       0.0   \n",
       "1  0.0      0.0      0.0        0.0            0.0            0.0       0.0   \n",
       "2  0.0      0.0      0.0        0.0            0.0            0.0       0.0   \n",
       "\n",
       "   000 oyshushu  000 per  000usd  ...  œuvre reta  œuvre retabl  \\\n",
       "0           0.0      0.0     0.0  ...         0.0           0.0   \n",
       "1           0.0      0.0     0.0  ...         0.0           0.0   \n",
       "2           0.0      0.0     0.0  ...         0.0           0.0   \n",
       "\n",
       "   œuvre retablir  œuvre sortie  œuvre talibanie  œuvre tenebr  œuvre tenebre  \\\n",
       "0             0.0           0.0              0.0           0.0            0.0   \n",
       "1             0.0           0.0              0.0           0.0            0.0   \n",
       "2             0.0           0.0              0.0           0.0            0.0   \n",
       "\n",
       "   œuvre tshisekedi  œuvrer bonheur  œuvrer long  \n",
       "0               0.0             0.0          0.0  \n",
       "1               0.0             0.0          0.0  \n",
       "2               0.0             0.0          0.0  \n",
       "\n",
       "[3 rows x 1784046 columns]"
      ]
     },
     "execution_count": 182,
     "metadata": {},
     "output_type": "execute_result"
    }
   ],
   "source": [
    "all_data.head(3)"
   ]
  },
  {
   "cell_type": "code",
   "execution_count": 195,
   "metadata": {},
   "outputs": [],
   "source": [
    "boolean_index_null  = all_data != 0"
   ]
  },
  {
   "cell_type": "code",
   "execution_count": 196,
   "metadata": {},
   "outputs": [],
   "source": [
    "boolean_index_null = boolean_index_null.any(axis=\"rows\")"
   ]
  },
  {
   "cell_type": "code",
   "execution_count": 198,
   "metadata": {},
   "outputs": [
    {
     "data": {
      "text/plain": [
       "000                  True\n",
       "000 000              True\n",
       "000 600             False\n",
       "000 bonus           False\n",
       "000 disbursed       False\n",
       "                    ...  \n",
       "œuvre tenebr        False\n",
       "œuvre tenebre       False\n",
       "œuvre tshisekedi    False\n",
       "œuvrer bonheur      False\n",
       "œuvrer long         False\n",
       "Length: 1784046, dtype: bool"
      ]
     },
     "execution_count": 198,
     "metadata": {},
     "output_type": "execute_result"
    }
   ],
   "source": [
    "boolean_index_null"
   ]
  },
  {
   "cell_type": "code",
   "execution_count": 199,
   "metadata": {
    "scrolled": true
   },
   "outputs": [],
   "source": [
    "all_data = all_data.loc[:, boolean_index_null]"
   ]
  },
  {
   "cell_type": "code",
   "execution_count": 200,
   "metadata": {},
   "outputs": [
    {
     "data": {
      "text/plain": [
       "(148, 1954)"
      ]
     },
     "execution_count": 200,
     "metadata": {},
     "output_type": "execute_result"
    }
   ],
   "source": [
    "all_data.shape"
   ]
  },
  {
   "cell_type": "code",
   "execution_count": 202,
   "metadata": {},
   "outputs": [
    {
     "data": {
      "text/plain": [
       "Index(['000', '000 000', '12', '400', 'acaj', 'acaj soupconner', 'accord',\n",
       "       'according', 'accus', 'accuser',\n",
       "       ...\n",
       "       'parle dubai', 'partenair solide', 'politique nombriliste', 'pres ciel',\n",
       "       'provinc trois', 'rendre annee', 'solide lutte', 'tourner celui',\n",
       "       'trois foi', 'usa partenair'],\n",
       "      dtype='object', length=1954)"
      ]
     },
     "execution_count": 202,
     "metadata": {},
     "output_type": "execute_result"
    }
   ],
   "source": [
    "all_data.columns"
   ]
  },
  {
   "cell_type": "code",
   "execution_count": 203,
   "metadata": {},
   "outputs": [],
   "source": [
    "all_best_k = [model.get('best_k') for model in dynamic_nmf.all_topic_models]"
   ]
  },
  {
   "cell_type": "code",
   "execution_count": 204,
   "metadata": {},
   "outputs": [],
   "source": [
    "from itertools import accumulate"
   ]
  },
  {
   "cell_type": "code",
   "execution_count": 206,
   "metadata": {},
   "outputs": [],
   "source": [
    "assert sum(all_best_k) == all_data.shape[0]"
   ]
  },
  {
   "cell_type": "code",
   "execution_count": 207,
   "metadata": {
    "scrolled": true
   },
   "outputs": [],
   "source": [
    "cumm_best_k = list(accumulate(all_best_k))"
   ]
  },
  {
   "cell_type": "code",
   "execution_count": 208,
   "metadata": {},
   "outputs": [
    {
     "data": {
      "text/plain": [
       "[15, 34, 40, 53, 58, 62, 69, 73, 81, 90, 106, 115, 134, 141, 148]"
      ]
     },
     "execution_count": 208,
     "metadata": {},
     "output_type": "execute_result"
    }
   ],
   "source": [
    "cumm_best_k"
   ]
  },
  {
   "cell_type": "code",
   "execution_count": 209,
   "metadata": {},
   "outputs": [
    {
     "data": {
      "text/html": [
       "<div>\n",
       "<style scoped>\n",
       "    .dataframe tbody tr th:only-of-type {\n",
       "        vertical-align: middle;\n",
       "    }\n",
       "\n",
       "    .dataframe tbody tr th {\n",
       "        vertical-align: top;\n",
       "    }\n",
       "\n",
       "    .dataframe thead th {\n",
       "        text-align: right;\n",
       "    }\n",
       "</style>\n",
       "<table border=\"1\" class=\"dataframe\">\n",
       "  <thead>\n",
       "    <tr style=\"text-align: right;\">\n",
       "      <th></th>\n",
       "      <th>000</th>\n",
       "      <th>000 000</th>\n",
       "      <th>12</th>\n",
       "      <th>400</th>\n",
       "      <th>acaj</th>\n",
       "      <th>acaj soupconner</th>\n",
       "      <th>accord</th>\n",
       "      <th>according</th>\n",
       "      <th>accus</th>\n",
       "      <th>accuser</th>\n",
       "      <th>...</th>\n",
       "      <th>parle dubai</th>\n",
       "      <th>partenair solide</th>\n",
       "      <th>politique nombriliste</th>\n",
       "      <th>pres ciel</th>\n",
       "      <th>provinc trois</th>\n",
       "      <th>rendre annee</th>\n",
       "      <th>solide lutte</th>\n",
       "      <th>tourner celui</th>\n",
       "      <th>trois foi</th>\n",
       "      <th>usa partenair</th>\n",
       "    </tr>\n",
       "  </thead>\n",
       "  <tbody>\n",
       "    <tr>\n",
       "      <th>0</th>\n",
       "      <td>0.0</td>\n",
       "      <td>0.0</td>\n",
       "      <td>0.0</td>\n",
       "      <td>0.0</td>\n",
       "      <td>0.0</td>\n",
       "      <td>0.0</td>\n",
       "      <td>0.0</td>\n",
       "      <td>0.0</td>\n",
       "      <td>0.0</td>\n",
       "      <td>0.0</td>\n",
       "      <td>...</td>\n",
       "      <td>0.0</td>\n",
       "      <td>0.000</td>\n",
       "      <td>0.00</td>\n",
       "      <td>0.0</td>\n",
       "      <td>0.0</td>\n",
       "      <td>0.000</td>\n",
       "      <td>0.000</td>\n",
       "      <td>0.000</td>\n",
       "      <td>0.0</td>\n",
       "      <td>0.000</td>\n",
       "    </tr>\n",
       "    <tr>\n",
       "      <th>1</th>\n",
       "      <td>0.0</td>\n",
       "      <td>0.0</td>\n",
       "      <td>0.0</td>\n",
       "      <td>0.0</td>\n",
       "      <td>0.0</td>\n",
       "      <td>0.0</td>\n",
       "      <td>0.0</td>\n",
       "      <td>0.0</td>\n",
       "      <td>0.0</td>\n",
       "      <td>0.0</td>\n",
       "      <td>...</td>\n",
       "      <td>0.0</td>\n",
       "      <td>0.000</td>\n",
       "      <td>0.00</td>\n",
       "      <td>0.0</td>\n",
       "      <td>0.0</td>\n",
       "      <td>0.000</td>\n",
       "      <td>0.000</td>\n",
       "      <td>0.000</td>\n",
       "      <td>0.0</td>\n",
       "      <td>0.000</td>\n",
       "    </tr>\n",
       "    <tr>\n",
       "      <th>2</th>\n",
       "      <td>0.0</td>\n",
       "      <td>0.0</td>\n",
       "      <td>0.0</td>\n",
       "      <td>0.0</td>\n",
       "      <td>0.0</td>\n",
       "      <td>0.0</td>\n",
       "      <td>0.0</td>\n",
       "      <td>0.0</td>\n",
       "      <td>0.0</td>\n",
       "      <td>0.0</td>\n",
       "      <td>...</td>\n",
       "      <td>0.0</td>\n",
       "      <td>0.000</td>\n",
       "      <td>0.00</td>\n",
       "      <td>0.0</td>\n",
       "      <td>0.0</td>\n",
       "      <td>0.000</td>\n",
       "      <td>0.000</td>\n",
       "      <td>0.000</td>\n",
       "      <td>0.0</td>\n",
       "      <td>0.000</td>\n",
       "    </tr>\n",
       "    <tr>\n",
       "      <th>3</th>\n",
       "      <td>0.0</td>\n",
       "      <td>0.0</td>\n",
       "      <td>0.0</td>\n",
       "      <td>0.0</td>\n",
       "      <td>0.0</td>\n",
       "      <td>0.0</td>\n",
       "      <td>0.0</td>\n",
       "      <td>0.0</td>\n",
       "      <td>0.0</td>\n",
       "      <td>0.0</td>\n",
       "      <td>...</td>\n",
       "      <td>0.0</td>\n",
       "      <td>0.000</td>\n",
       "      <td>0.00</td>\n",
       "      <td>0.0</td>\n",
       "      <td>0.0</td>\n",
       "      <td>0.000</td>\n",
       "      <td>0.000</td>\n",
       "      <td>0.000</td>\n",
       "      <td>0.0</td>\n",
       "      <td>0.000</td>\n",
       "    </tr>\n",
       "    <tr>\n",
       "      <th>4</th>\n",
       "      <td>0.0</td>\n",
       "      <td>0.0</td>\n",
       "      <td>0.0</td>\n",
       "      <td>0.0</td>\n",
       "      <td>0.0</td>\n",
       "      <td>0.0</td>\n",
       "      <td>0.0</td>\n",
       "      <td>0.0</td>\n",
       "      <td>0.0</td>\n",
       "      <td>0.0</td>\n",
       "      <td>...</td>\n",
       "      <td>0.0</td>\n",
       "      <td>0.000</td>\n",
       "      <td>0.00</td>\n",
       "      <td>0.0</td>\n",
       "      <td>0.0</td>\n",
       "      <td>0.000</td>\n",
       "      <td>0.000</td>\n",
       "      <td>0.000</td>\n",
       "      <td>0.0</td>\n",
       "      <td>0.000</td>\n",
       "    </tr>\n",
       "    <tr>\n",
       "      <th>...</th>\n",
       "      <td>...</td>\n",
       "      <td>...</td>\n",
       "      <td>...</td>\n",
       "      <td>...</td>\n",
       "      <td>...</td>\n",
       "      <td>...</td>\n",
       "      <td>...</td>\n",
       "      <td>...</td>\n",
       "      <td>...</td>\n",
       "      <td>...</td>\n",
       "      <td>...</td>\n",
       "      <td>...</td>\n",
       "      <td>...</td>\n",
       "      <td>...</td>\n",
       "      <td>...</td>\n",
       "      <td>...</td>\n",
       "      <td>...</td>\n",
       "      <td>...</td>\n",
       "      <td>...</td>\n",
       "      <td>...</td>\n",
       "      <td>...</td>\n",
       "    </tr>\n",
       "    <tr>\n",
       "      <th>143</th>\n",
       "      <td>0.0</td>\n",
       "      <td>0.0</td>\n",
       "      <td>0.0</td>\n",
       "      <td>0.0</td>\n",
       "      <td>0.0</td>\n",
       "      <td>0.0</td>\n",
       "      <td>0.0</td>\n",
       "      <td>0.0</td>\n",
       "      <td>0.0</td>\n",
       "      <td>0.0</td>\n",
       "      <td>...</td>\n",
       "      <td>0.0</td>\n",
       "      <td>0.000</td>\n",
       "      <td>0.00</td>\n",
       "      <td>0.0</td>\n",
       "      <td>0.0</td>\n",
       "      <td>0.000</td>\n",
       "      <td>0.000</td>\n",
       "      <td>0.000</td>\n",
       "      <td>0.0</td>\n",
       "      <td>0.000</td>\n",
       "    </tr>\n",
       "    <tr>\n",
       "      <th>144</th>\n",
       "      <td>0.0</td>\n",
       "      <td>0.0</td>\n",
       "      <td>0.0</td>\n",
       "      <td>0.0</td>\n",
       "      <td>0.0</td>\n",
       "      <td>0.0</td>\n",
       "      <td>0.0</td>\n",
       "      <td>0.0</td>\n",
       "      <td>0.0</td>\n",
       "      <td>0.0</td>\n",
       "      <td>...</td>\n",
       "      <td>0.0</td>\n",
       "      <td>0.000</td>\n",
       "      <td>0.00</td>\n",
       "      <td>0.0</td>\n",
       "      <td>0.0</td>\n",
       "      <td>0.000</td>\n",
       "      <td>0.000</td>\n",
       "      <td>0.000</td>\n",
       "      <td>0.0</td>\n",
       "      <td>0.000</td>\n",
       "    </tr>\n",
       "    <tr>\n",
       "      <th>145</th>\n",
       "      <td>0.0</td>\n",
       "      <td>0.0</td>\n",
       "      <td>0.0</td>\n",
       "      <td>0.0</td>\n",
       "      <td>0.0</td>\n",
       "      <td>0.0</td>\n",
       "      <td>0.0</td>\n",
       "      <td>0.0</td>\n",
       "      <td>0.0</td>\n",
       "      <td>0.0</td>\n",
       "      <td>...</td>\n",
       "      <td>0.0</td>\n",
       "      <td>0.000</td>\n",
       "      <td>0.00</td>\n",
       "      <td>0.0</td>\n",
       "      <td>0.0</td>\n",
       "      <td>0.000</td>\n",
       "      <td>0.000</td>\n",
       "      <td>0.000</td>\n",
       "      <td>0.0</td>\n",
       "      <td>0.000</td>\n",
       "    </tr>\n",
       "    <tr>\n",
       "      <th>146</th>\n",
       "      <td>0.0</td>\n",
       "      <td>0.0</td>\n",
       "      <td>0.0</td>\n",
       "      <td>0.0</td>\n",
       "      <td>0.0</td>\n",
       "      <td>0.0</td>\n",
       "      <td>0.0</td>\n",
       "      <td>0.0</td>\n",
       "      <td>0.0</td>\n",
       "      <td>0.0</td>\n",
       "      <td>...</td>\n",
       "      <td>0.0</td>\n",
       "      <td>0.506</td>\n",
       "      <td>0.00</td>\n",
       "      <td>0.0</td>\n",
       "      <td>0.0</td>\n",
       "      <td>0.000</td>\n",
       "      <td>0.506</td>\n",
       "      <td>0.000</td>\n",
       "      <td>0.0</td>\n",
       "      <td>0.505</td>\n",
       "    </tr>\n",
       "    <tr>\n",
       "      <th>147</th>\n",
       "      <td>0.0</td>\n",
       "      <td>0.0</td>\n",
       "      <td>0.0</td>\n",
       "      <td>0.0</td>\n",
       "      <td>0.0</td>\n",
       "      <td>0.0</td>\n",
       "      <td>0.0</td>\n",
       "      <td>0.0</td>\n",
       "      <td>0.0</td>\n",
       "      <td>0.0</td>\n",
       "      <td>...</td>\n",
       "      <td>0.0</td>\n",
       "      <td>0.000</td>\n",
       "      <td>0.81</td>\n",
       "      <td>0.0</td>\n",
       "      <td>0.0</td>\n",
       "      <td>0.811</td>\n",
       "      <td>0.000</td>\n",
       "      <td>0.808</td>\n",
       "      <td>0.0</td>\n",
       "      <td>0.000</td>\n",
       "    </tr>\n",
       "  </tbody>\n",
       "</table>\n",
       "<p>148 rows × 1954 columns</p>\n",
       "</div>"
      ],
      "text/plain": [
       "     000  000 000   12  400  acaj  acaj soupconner  accord  according  accus  \\\n",
       "0    0.0      0.0  0.0  0.0   0.0              0.0     0.0        0.0    0.0   \n",
       "1    0.0      0.0  0.0  0.0   0.0              0.0     0.0        0.0    0.0   \n",
       "2    0.0      0.0  0.0  0.0   0.0              0.0     0.0        0.0    0.0   \n",
       "3    0.0      0.0  0.0  0.0   0.0              0.0     0.0        0.0    0.0   \n",
       "4    0.0      0.0  0.0  0.0   0.0              0.0     0.0        0.0    0.0   \n",
       "..   ...      ...  ...  ...   ...              ...     ...        ...    ...   \n",
       "143  0.0      0.0  0.0  0.0   0.0              0.0     0.0        0.0    0.0   \n",
       "144  0.0      0.0  0.0  0.0   0.0              0.0     0.0        0.0    0.0   \n",
       "145  0.0      0.0  0.0  0.0   0.0              0.0     0.0        0.0    0.0   \n",
       "146  0.0      0.0  0.0  0.0   0.0              0.0     0.0        0.0    0.0   \n",
       "147  0.0      0.0  0.0  0.0   0.0              0.0     0.0        0.0    0.0   \n",
       "\n",
       "     accuser  ...  parle dubai  partenair solide  politique nombriliste  \\\n",
       "0        0.0  ...          0.0             0.000                   0.00   \n",
       "1        0.0  ...          0.0             0.000                   0.00   \n",
       "2        0.0  ...          0.0             0.000                   0.00   \n",
       "3        0.0  ...          0.0             0.000                   0.00   \n",
       "4        0.0  ...          0.0             0.000                   0.00   \n",
       "..       ...  ...          ...               ...                    ...   \n",
       "143      0.0  ...          0.0             0.000                   0.00   \n",
       "144      0.0  ...          0.0             0.000                   0.00   \n",
       "145      0.0  ...          0.0             0.000                   0.00   \n",
       "146      0.0  ...          0.0             0.506                   0.00   \n",
       "147      0.0  ...          0.0             0.000                   0.81   \n",
       "\n",
       "     pres ciel  provinc trois  rendre annee  solide lutte  tourner celui  \\\n",
       "0          0.0            0.0         0.000         0.000          0.000   \n",
       "1          0.0            0.0         0.000         0.000          0.000   \n",
       "2          0.0            0.0         0.000         0.000          0.000   \n",
       "3          0.0            0.0         0.000         0.000          0.000   \n",
       "4          0.0            0.0         0.000         0.000          0.000   \n",
       "..         ...            ...           ...           ...            ...   \n",
       "143        0.0            0.0         0.000         0.000          0.000   \n",
       "144        0.0            0.0         0.000         0.000          0.000   \n",
       "145        0.0            0.0         0.000         0.000          0.000   \n",
       "146        0.0            0.0         0.000         0.506          0.000   \n",
       "147        0.0            0.0         0.811         0.000          0.808   \n",
       "\n",
       "     trois foi  usa partenair  \n",
       "0          0.0          0.000  \n",
       "1          0.0          0.000  \n",
       "2          0.0          0.000  \n",
       "3          0.0          0.000  \n",
       "4          0.0          0.000  \n",
       "..         ...            ...  \n",
       "143        0.0          0.000  \n",
       "144        0.0          0.000  \n",
       "145        0.0          0.000  \n",
       "146        0.0          0.505  \n",
       "147        0.0          0.000  \n",
       "\n",
       "[148 rows x 1954 columns]"
      ]
     },
     "execution_count": 209,
     "metadata": {},
     "output_type": "execute_result"
    }
   ],
   "source": [
    "all_data"
   ]
  },
  {
   "cell_type": "markdown",
   "metadata": {},
   "source": [
    "from this stage we have our document term for the dynamic topic modeling , each row is a time windows topic and the columns are the weight of those terms in the time windows.. "
   ]
  },
  {
   "cell_type": "markdown",
   "metadata": {},
   "source": [
    "we can againg apply another layer of topic modeling to this document term matrix, whic is the second layer."
   ]
  },
  {
   "cell_type": "code",
   "execution_count": 232,
   "metadata": {},
   "outputs": [],
   "source": [
    "all_data = all_data.drop(\"time_windows\", axis=\"columns\")"
   ]
  },
  {
   "cell_type": "code",
   "execution_count": 251,
   "metadata": {},
   "outputs": [],
   "source": [
    "second_layer_dynamic_topic_model = TopicModelNMF(all_data, vectorize=False)"
   ]
  },
  {
   "cell_type": "code",
   "execution_count": 252,
   "metadata": {},
   "outputs": [],
   "source": [
    "second_layer_dynamic_topic_model.create_topic_model()"
   ]
  },
  {
   "cell_type": "code",
   "execution_count": 253,
   "metadata": {},
   "outputs": [],
   "source": [
    "second_layer_dynamic_topic_model.get_best_coherence()\n",
    "second_layer_dynamic_topic_model.get_best_model()"
   ]
  },
  {
   "cell_type": "code",
   "execution_count": 254,
   "metadata": {},
   "outputs": [],
   "source": [
    "def plot_topic_coherence(coherences_k):\n",
    "    \"\"\"\n",
    "    plot the coherence for each k in the topic model\n",
    "    \"\"\"\n",
    "    fig, axe = plt.subplots(nrows=1, ncols=1, figsize=(5, 2.5))\n",
    "    axe.plot(coherences_k.keys(), coherences_k.values())\n",
    "    axe.set_xlabel(\"Number of Topics\")\n",
    "    axe.set_ylabel(\"Mean Coherence\")\n",
    "        # add the points\n",
    "    axe.scatter(coherences_k.keys(), coherences_k.values(), s=120)\n",
    "        # find and annotate the maximum point on the plot\n",
    "    ymax = max(coherences_k.values())\n",
    "    best_k = max(coherences_k, key=coherences_k.get)\n",
    "    axe.annotate(\"k={}\".format(best_k),\n",
    "                 xy=(best_k, ymax),\n",
    "                 xytext=(best_k, ymax),\n",
    "                 textcoords=\"offset points\", fontsize=16)\n",
    "    fig.show()"
   ]
  },
  {
   "cell_type": "code",
   "execution_count": 255,
   "metadata": {},
   "outputs": [
    {
     "name": "stderr",
     "output_type": "stream",
     "text": [
      "/Users/es.py/Projects/Personal/nlp_course_coursera_russia_uni/.venv/lib/python3.6/site-packages/ipykernel_launcher.py:18: UserWarning: Matplotlib is currently using module://ipykernel.pylab.backend_inline, which is a non-GUI backend, so cannot show the figure.\n"
     ]
    },
    {
     "data": {
      "image/png": "[encoded data removed]",
      "text/plain": [
       "<Figure size 360x180 with 1 Axes>"
      ]
     },
     "metadata": {},
     "output_type": "display_data"
    }
   ],
   "source": [
    "plot_topic_coherence(second_layer_dynamic_topic_model.coherence_k)"
   ]
  },
  {
   "cell_type": "code",
   "execution_count": 256,
   "metadata": {},
   "outputs": [
    {
     "name": "stdout",
     "output_type": "stream",
     "text": [
      "Topic 1.0 === describe by : talking=:1.05, nigerier siler=:1.05, talking hold=:1.05, siler holocaust=:1.05, one talking=:1.05, holocaust happening=:1.05, holocaust=:1.05, hold=:1.05, happening one=:1.05, siler=:1.04\n",
      "=:=:=:=:=:=:=:=:=:=:=:=:=:=:=:=:=:=:=:=:\n",
      "Topic 2.0 === describe by : retweet=:1.1, propos voyon=:1.1, voyon nigeria=:1.1, retweet propos=:1.1, nigeria namibie=:1.1, sensibilison retweet=:1.1, sensibilison=:1.1, voyon=:1.1, propos=:1.09, namibie=:1.09\n",
      "=:=:=:=:=:=:=:=:=:=:=:=:=:=:=:=:=:=:=:=:\n",
      "Topic 3.0 === describe by : genocid=:2.71, genocid genocid=:2.21, genocide genocid=:0.45, genocide=:0.45, genocid passer=:0.05, denoncon genocid=:0.03, pays souffr=:0.03, mediatique congoisbleeding=:0.03, silence mediatique=:0.03, souffr silence=:0.03\n",
      "=:=:=:=:=:=:=:=:=:=:=:=:=:=:=:=:=:=:=:=:\n",
      "Topic 4.0 === describe by : happening congoisbleeding=:1.55, congoisbleeding congogenocid=:1.55, congogenocid=:1.54, congoisbleeding=:1.32, happening=:1.1, whatishappeningincongo congoisbleeding=:0.05, whatishappeningincongo=:0.05, genocidecongo=:0.05, genocidecongo whatishappeningincongo=:0.05, denoncon genocid=:0.02\n",
      "=:=:=:=:=:=:=:=:=:=:=:=:=:=:=:=:=:=:=:=:\n",
      "Topic 5.0 === describe by : street=:0.91, algeria sudan=:0.9, sudan togo=:0.9, street algeria=:0.9, togo zimbabwe=:0.9, youths street=:0.9, youths=:0.9, algeria=:0.9, togo=:0.9, sudan=:0.9\n",
      "=:=:=:=:=:=:=:=:=:=:=:=:=:=:=:=:=:=:=:=:\n",
      "Topic 6.0 === describe by : burning=:0.73, retweet spread=:0.73, burning aliv=:0.73, please retweet=:0.73, patient burning=:0.73, set ablaz=:0.73, spread awareness=:0.73, aliv please=:0.73, ablaz=:0.73, ablaz patient=:0.73\n",
      "=:=:=:=:=:=:=:=:=:=:=:=:=:=:=:=:=:=:=:=:\n",
      "Topic 7.0 === describe by : pretendre=:0.74, accuser enfant=:0.74, pretendre combattre=:0.74, evangeliste pretendre=:0.74, sorcier pretre=:0.73, pretre evangeliste=:0.73, combattre demon=:0.73, evangeliste=:0.73, demon kinshaser=:0.73, pretre=:0.73\n",
      "=:=:=:=:=:=:=:=:=:=:=:=:=:=:=:=:=:=:=:=:\n",
      "Topic 8.0 === describe by : enerver=:0.73, communaute inter=:0.72, homme triste=:0.72, triste passer=:0.72, mechanceter homme=:0.72, actuellement enerver=:0.72, voir communaute=:0.72, enerver voir=:0.72, mechanceter=:0.72, passer actuellement=:0.72\n",
      "=:=:=:=:=:=:=:=:=:=:=:=:=:=:=:=:=:=:=:=:\n",
      "Topic 9.0 === describe by : message clair=:1.12, clair genocid=:1.12, genocid congoisbleeding=:1.12, clair=:1.11, message=:1.06, congoisbleeding=:0.95, genocid=:0.83, genocid passer=:0.06, denoncon genocid=:0.06, pays souffr=:0.06\n",
      "=:=:=:=:=:=:=:=:=:=:=:=:=:=:=:=:=:=:=:=:\n",
      "Topic 10.0 === describe by : zimbabwe zimbabweanlivesmatter=:0.73, zimbabweanlivesmatter=:0.73, enough zimbabwe=:0.73, suffered enough=:0.73, suffered=:0.73, enough=:0.72, zimbabwe=:0.71, zimbabweanlivesmatter nigerier=:0.7, nigerier endsar=:0.67, endsar=:0.67\n",
      "=:=:=:=:=:=:=:=:=:=:=:=:=:=:=:=:=:=:=:=:\n",
      "Topic 11.0 === describe by : pays=:1.38, reel=:0.73, central delivrance=:0.71, sai pays=:0.71, pays reel=:0.71, pays afriq=:0.71, reel central=:0.71, delivrance pays=:0.71, afriq=:0.71, delivrance=:0.71\n",
      "=:=:=:=:=:=:=:=:=:=:=:=:=:=:=:=:=:=:=:=:\n",
      "Topic 12.0 === describe by : tshisekedi=:1.47, felix=:0.93, felix tshisekedi=:0.91, chef=:0.72, tshisekedi tshilombo=:0.69, tshilombo=:0.68, felixantoin=:0.51, felixantoin tshisekedi=:0.51, chef felixantoin=:0.51, goma=:0.24\n",
      "=:=:=:=:=:=:=:=:=:=:=:=:=:=:=:=:=:=:=:=:\n",
      "Topic 13.0 === describe by : white settler=:0.69, ripped congolese=:0.69, children white=:0.69, belgium ripped=:0.69, mother children=:0.69, congolese mother=:0.69, ripped=:0.69, horror belgium=:0.69, heartbreaking horror=:0.69, settler=:0.69\n",
      "=:=:=:=:=:=:=:=:=:=:=:=:=:=:=:=:=:=:=:=:\n",
      "Topic 14.0 === describe by : parl=:0.91, profiter parl=:0.83, parl passer=:0.83, passer auteur=:0.83, auteur manga=:0.83, manga=:0.83, auteur=:0.83, profiter=:0.82, passer=:0.81, genocid passer=:0.13\n",
      "=:=:=:=:=:=:=:=:=:=:=:=:=:=:=:=:=:=:=:=:\n",
      "Topic 15.0 === describe by : rtv=:0.94, rtvnews=:0.92, rtvonlin=:0.91, rtvnews rtvonlin=:0.91, rtv new=:0.9, new rtvnews=:0.9, new=:0.83, breakingnew=:0.51, rtvonlin breakingnew=:0.51, newsupdat=:0.21\n",
      "=:=:=:=:=:=:=:=:=:=:=:=:=:=:=:=:=:=:=:=:\n"
     ]
    }
   ],
   "source": [
    "second_layer_dynamic_topic_model.print_topic_descriptor()"
   ]
  },
  {
   "cell_type": "code",
   "execution_count": 210,
   "metadata": {},
   "outputs": [],
   "source": [
    "time_windows_doc_topics = all_data"
   ]
  },
  {
   "cell_type": "code",
   "execution_count": 212,
   "metadata": {
    "scrolled": true
   },
   "outputs": [
    {
     "name": "stderr",
     "output_type": "stream",
     "text": [
      "/Users/es.py/Projects/Personal/nlp_course_coursera_russia_uni/.venv/lib/python3.6/site-packages/pandas/core/indexing.py:1743: SettingWithCopyWarning: \n",
      "A value is trying to be set on a copy of a slice from a DataFrame.\n",
      "Try using .loc[row_indexer,col_indexer] = value instead\n",
      "\n",
      "See the caveats in the documentation: https://pandas.pydata.org/pandas-docs/stable/user_guide/indexing.html#returning-a-view-versus-a-copy\n",
      "  isetter(ilocs[0], value)\n"
     ]
    }
   ],
   "source": [
    "time_windows_doc_topics.loc[:, 'time_windows'] = pd.cut(all_data.index, bins=cumm_best_k, labels=[f\"time_windows_{i+2}\" for i in range(len(all_best_k)-1)])"
   ]
  },
  {
   "cell_type": "code",
   "execution_count": 213,
   "metadata": {},
   "outputs": [
    {
     "data": {
      "text/html": [
       "<div>\n",
       "<style scoped>\n",
       "    .dataframe tbody tr th:only-of-type {\n",
       "        vertical-align: middle;\n",
       "    }\n",
       "\n",
       "    .dataframe tbody tr th {\n",
       "        vertical-align: top;\n",
       "    }\n",
       "\n",
       "    .dataframe thead th {\n",
       "        text-align: right;\n",
       "    }\n",
       "</style>\n",
       "<table border=\"1\" class=\"dataframe\">\n",
       "  <thead>\n",
       "    <tr style=\"text-align: right;\">\n",
       "      <th></th>\n",
       "      <th>000</th>\n",
       "      <th>000 000</th>\n",
       "      <th>12</th>\n",
       "      <th>400</th>\n",
       "      <th>acaj</th>\n",
       "      <th>acaj soupconner</th>\n",
       "      <th>accord</th>\n",
       "      <th>according</th>\n",
       "      <th>accus</th>\n",
       "      <th>accuser</th>\n",
       "      <th>...</th>\n",
       "      <th>partenair solide</th>\n",
       "      <th>politique nombriliste</th>\n",
       "      <th>pres ciel</th>\n",
       "      <th>provinc trois</th>\n",
       "      <th>rendre annee</th>\n",
       "      <th>solide lutte</th>\n",
       "      <th>tourner celui</th>\n",
       "      <th>trois foi</th>\n",
       "      <th>usa partenair</th>\n",
       "      <th>time_windows</th>\n",
       "    </tr>\n",
       "  </thead>\n",
       "  <tbody>\n",
       "    <tr>\n",
       "      <th>0</th>\n",
       "      <td>0.0</td>\n",
       "      <td>0.0</td>\n",
       "      <td>0.0</td>\n",
       "      <td>0.0</td>\n",
       "      <td>0.0</td>\n",
       "      <td>0.0</td>\n",
       "      <td>0.0</td>\n",
       "      <td>0.0</td>\n",
       "      <td>0.0</td>\n",
       "      <td>0.0</td>\n",
       "      <td>...</td>\n",
       "      <td>0.000</td>\n",
       "      <td>0.00</td>\n",
       "      <td>0.0</td>\n",
       "      <td>0.0</td>\n",
       "      <td>0.000</td>\n",
       "      <td>0.000</td>\n",
       "      <td>0.000</td>\n",
       "      <td>0.0</td>\n",
       "      <td>0.000</td>\n",
       "      <td>NaN</td>\n",
       "    </tr>\n",
       "    <tr>\n",
       "      <th>1</th>\n",
       "      <td>0.0</td>\n",
       "      <td>0.0</td>\n",
       "      <td>0.0</td>\n",
       "      <td>0.0</td>\n",
       "      <td>0.0</td>\n",
       "      <td>0.0</td>\n",
       "      <td>0.0</td>\n",
       "      <td>0.0</td>\n",
       "      <td>0.0</td>\n",
       "      <td>0.0</td>\n",
       "      <td>...</td>\n",
       "      <td>0.000</td>\n",
       "      <td>0.00</td>\n",
       "      <td>0.0</td>\n",
       "      <td>0.0</td>\n",
       "      <td>0.000</td>\n",
       "      <td>0.000</td>\n",
       "      <td>0.000</td>\n",
       "      <td>0.0</td>\n",
       "      <td>0.000</td>\n",
       "      <td>NaN</td>\n",
       "    </tr>\n",
       "    <tr>\n",
       "      <th>2</th>\n",
       "      <td>0.0</td>\n",
       "      <td>0.0</td>\n",
       "      <td>0.0</td>\n",
       "      <td>0.0</td>\n",
       "      <td>0.0</td>\n",
       "      <td>0.0</td>\n",
       "      <td>0.0</td>\n",
       "      <td>0.0</td>\n",
       "      <td>0.0</td>\n",
       "      <td>0.0</td>\n",
       "      <td>...</td>\n",
       "      <td>0.000</td>\n",
       "      <td>0.00</td>\n",
       "      <td>0.0</td>\n",
       "      <td>0.0</td>\n",
       "      <td>0.000</td>\n",
       "      <td>0.000</td>\n",
       "      <td>0.000</td>\n",
       "      <td>0.0</td>\n",
       "      <td>0.000</td>\n",
       "      <td>NaN</td>\n",
       "    </tr>\n",
       "    <tr>\n",
       "      <th>3</th>\n",
       "      <td>0.0</td>\n",
       "      <td>0.0</td>\n",
       "      <td>0.0</td>\n",
       "      <td>0.0</td>\n",
       "      <td>0.0</td>\n",
       "      <td>0.0</td>\n",
       "      <td>0.0</td>\n",
       "      <td>0.0</td>\n",
       "      <td>0.0</td>\n",
       "      <td>0.0</td>\n",
       "      <td>...</td>\n",
       "      <td>0.000</td>\n",
       "      <td>0.00</td>\n",
       "      <td>0.0</td>\n",
       "      <td>0.0</td>\n",
       "      <td>0.000</td>\n",
       "      <td>0.000</td>\n",
       "      <td>0.000</td>\n",
       "      <td>0.0</td>\n",
       "      <td>0.000</td>\n",
       "      <td>NaN</td>\n",
       "    </tr>\n",
       "    <tr>\n",
       "      <th>4</th>\n",
       "      <td>0.0</td>\n",
       "      <td>0.0</td>\n",
       "      <td>0.0</td>\n",
       "      <td>0.0</td>\n",
       "      <td>0.0</td>\n",
       "      <td>0.0</td>\n",
       "      <td>0.0</td>\n",
       "      <td>0.0</td>\n",
       "      <td>0.0</td>\n",
       "      <td>0.0</td>\n",
       "      <td>...</td>\n",
       "      <td>0.000</td>\n",
       "      <td>0.00</td>\n",
       "      <td>0.0</td>\n",
       "      <td>0.0</td>\n",
       "      <td>0.000</td>\n",
       "      <td>0.000</td>\n",
       "      <td>0.000</td>\n",
       "      <td>0.0</td>\n",
       "      <td>0.000</td>\n",
       "      <td>NaN</td>\n",
       "    </tr>\n",
       "    <tr>\n",
       "      <th>...</th>\n",
       "      <td>...</td>\n",
       "      <td>...</td>\n",
       "      <td>...</td>\n",
       "      <td>...</td>\n",
       "      <td>...</td>\n",
       "      <td>...</td>\n",
       "      <td>...</td>\n",
       "      <td>...</td>\n",
       "      <td>...</td>\n",
       "      <td>...</td>\n",
       "      <td>...</td>\n",
       "      <td>...</td>\n",
       "      <td>...</td>\n",
       "      <td>...</td>\n",
       "      <td>...</td>\n",
       "      <td>...</td>\n",
       "      <td>...</td>\n",
       "      <td>...</td>\n",
       "      <td>...</td>\n",
       "      <td>...</td>\n",
       "      <td>...</td>\n",
       "    </tr>\n",
       "    <tr>\n",
       "      <th>143</th>\n",
       "      <td>0.0</td>\n",
       "      <td>0.0</td>\n",
       "      <td>0.0</td>\n",
       "      <td>0.0</td>\n",
       "      <td>0.0</td>\n",
       "      <td>0.0</td>\n",
       "      <td>0.0</td>\n",
       "      <td>0.0</td>\n",
       "      <td>0.0</td>\n",
       "      <td>0.0</td>\n",
       "      <td>...</td>\n",
       "      <td>0.000</td>\n",
       "      <td>0.00</td>\n",
       "      <td>0.0</td>\n",
       "      <td>0.0</td>\n",
       "      <td>0.000</td>\n",
       "      <td>0.000</td>\n",
       "      <td>0.000</td>\n",
       "      <td>0.0</td>\n",
       "      <td>0.000</td>\n",
       "      <td>time_windows_15</td>\n",
       "    </tr>\n",
       "    <tr>\n",
       "      <th>144</th>\n",
       "      <td>0.0</td>\n",
       "      <td>0.0</td>\n",
       "      <td>0.0</td>\n",
       "      <td>0.0</td>\n",
       "      <td>0.0</td>\n",
       "      <td>0.0</td>\n",
       "      <td>0.0</td>\n",
       "      <td>0.0</td>\n",
       "      <td>0.0</td>\n",
       "      <td>0.0</td>\n",
       "      <td>...</td>\n",
       "      <td>0.000</td>\n",
       "      <td>0.00</td>\n",
       "      <td>0.0</td>\n",
       "      <td>0.0</td>\n",
       "      <td>0.000</td>\n",
       "      <td>0.000</td>\n",
       "      <td>0.000</td>\n",
       "      <td>0.0</td>\n",
       "      <td>0.000</td>\n",
       "      <td>time_windows_15</td>\n",
       "    </tr>\n",
       "    <tr>\n",
       "      <th>145</th>\n",
       "      <td>0.0</td>\n",
       "      <td>0.0</td>\n",
       "      <td>0.0</td>\n",
       "      <td>0.0</td>\n",
       "      <td>0.0</td>\n",
       "      <td>0.0</td>\n",
       "      <td>0.0</td>\n",
       "      <td>0.0</td>\n",
       "      <td>0.0</td>\n",
       "      <td>0.0</td>\n",
       "      <td>...</td>\n",
       "      <td>0.000</td>\n",
       "      <td>0.00</td>\n",
       "      <td>0.0</td>\n",
       "      <td>0.0</td>\n",
       "      <td>0.000</td>\n",
       "      <td>0.000</td>\n",
       "      <td>0.000</td>\n",
       "      <td>0.0</td>\n",
       "      <td>0.000</td>\n",
       "      <td>time_windows_15</td>\n",
       "    </tr>\n",
       "    <tr>\n",
       "      <th>146</th>\n",
       "      <td>0.0</td>\n",
       "      <td>0.0</td>\n",
       "      <td>0.0</td>\n",
       "      <td>0.0</td>\n",
       "      <td>0.0</td>\n",
       "      <td>0.0</td>\n",
       "      <td>0.0</td>\n",
       "      <td>0.0</td>\n",
       "      <td>0.0</td>\n",
       "      <td>0.0</td>\n",
       "      <td>...</td>\n",
       "      <td>0.506</td>\n",
       "      <td>0.00</td>\n",
       "      <td>0.0</td>\n",
       "      <td>0.0</td>\n",
       "      <td>0.000</td>\n",
       "      <td>0.506</td>\n",
       "      <td>0.000</td>\n",
       "      <td>0.0</td>\n",
       "      <td>0.505</td>\n",
       "      <td>time_windows_15</td>\n",
       "    </tr>\n",
       "    <tr>\n",
       "      <th>147</th>\n",
       "      <td>0.0</td>\n",
       "      <td>0.0</td>\n",
       "      <td>0.0</td>\n",
       "      <td>0.0</td>\n",
       "      <td>0.0</td>\n",
       "      <td>0.0</td>\n",
       "      <td>0.0</td>\n",
       "      <td>0.0</td>\n",
       "      <td>0.0</td>\n",
       "      <td>0.0</td>\n",
       "      <td>...</td>\n",
       "      <td>0.000</td>\n",
       "      <td>0.81</td>\n",
       "      <td>0.0</td>\n",
       "      <td>0.0</td>\n",
       "      <td>0.811</td>\n",
       "      <td>0.000</td>\n",
       "      <td>0.808</td>\n",
       "      <td>0.0</td>\n",
       "      <td>0.000</td>\n",
       "      <td>time_windows_15</td>\n",
       "    </tr>\n",
       "  </tbody>\n",
       "</table>\n",
       "<p>148 rows × 1955 columns</p>\n",
       "</div>"
      ],
      "text/plain": [
       "     000  000 000   12  400  acaj  acaj soupconner  accord  according  accus  \\\n",
       "0    0.0      0.0  0.0  0.0   0.0              0.0     0.0        0.0    0.0   \n",
       "1    0.0      0.0  0.0  0.0   0.0              0.0     0.0        0.0    0.0   \n",
       "2    0.0      0.0  0.0  0.0   0.0              0.0     0.0        0.0    0.0   \n",
       "3    0.0      0.0  0.0  0.0   0.0              0.0     0.0        0.0    0.0   \n",
       "4    0.0      0.0  0.0  0.0   0.0              0.0     0.0        0.0    0.0   \n",
       "..   ...      ...  ...  ...   ...              ...     ...        ...    ...   \n",
       "143  0.0      0.0  0.0  0.0   0.0              0.0     0.0        0.0    0.0   \n",
       "144  0.0      0.0  0.0  0.0   0.0              0.0     0.0        0.0    0.0   \n",
       "145  0.0      0.0  0.0  0.0   0.0              0.0     0.0        0.0    0.0   \n",
       "146  0.0      0.0  0.0  0.0   0.0              0.0     0.0        0.0    0.0   \n",
       "147  0.0      0.0  0.0  0.0   0.0              0.0     0.0        0.0    0.0   \n",
       "\n",
       "     accuser  ...  partenair solide  politique nombriliste  pres ciel  \\\n",
       "0        0.0  ...             0.000                   0.00        0.0   \n",
       "1        0.0  ...             0.000                   0.00        0.0   \n",
       "2        0.0  ...             0.000                   0.00        0.0   \n",
       "3        0.0  ...             0.000                   0.00        0.0   \n",
       "4        0.0  ...             0.000                   0.00        0.0   \n",
       "..       ...  ...               ...                    ...        ...   \n",
       "143      0.0  ...             0.000                   0.00        0.0   \n",
       "144      0.0  ...             0.000                   0.00        0.0   \n",
       "145      0.0  ...             0.000                   0.00        0.0   \n",
       "146      0.0  ...             0.506                   0.00        0.0   \n",
       "147      0.0  ...             0.000                   0.81        0.0   \n",
       "\n",
       "     provinc trois  rendre annee  solide lutte  tourner celui  trois foi  \\\n",
       "0              0.0         0.000         0.000          0.000        0.0   \n",
       "1              0.0         0.000         0.000          0.000        0.0   \n",
       "2              0.0         0.000         0.000          0.000        0.0   \n",
       "3              0.0         0.000         0.000          0.000        0.0   \n",
       "4              0.0         0.000         0.000          0.000        0.0   \n",
       "..             ...           ...           ...            ...        ...   \n",
       "143            0.0         0.000         0.000          0.000        0.0   \n",
       "144            0.0         0.000         0.000          0.000        0.0   \n",
       "145            0.0         0.000         0.000          0.000        0.0   \n",
       "146            0.0         0.000         0.506          0.000        0.0   \n",
       "147            0.0         0.811         0.000          0.808        0.0   \n",
       "\n",
       "     usa partenair     time_windows  \n",
       "0            0.000              NaN  \n",
       "1            0.000              NaN  \n",
       "2            0.000              NaN  \n",
       "3            0.000              NaN  \n",
       "4            0.000              NaN  \n",
       "..             ...              ...  \n",
       "143          0.000  time_windows_15  \n",
       "144          0.000  time_windows_15  \n",
       "145          0.000  time_windows_15  \n",
       "146          0.505  time_windows_15  \n",
       "147          0.000  time_windows_15  \n",
       "\n",
       "[148 rows x 1955 columns]"
      ]
     },
     "execution_count": 213,
     "metadata": {},
     "output_type": "execute_result"
    }
   ],
   "source": [
    "time_windows_doc_topics"
   ]
  },
  {
   "cell_type": "code",
   "execution_count": 214,
   "metadata": {},
   "outputs": [
    {
     "name": "stderr",
     "output_type": "stream",
     "text": [
      "/Users/es.py/Projects/Personal/nlp_course_coursera_russia_uni/.venv/lib/python3.6/site-packages/ipykernel_launcher.py:1: SettingWithCopyWarning: \n",
      "A value is trying to be set on a copy of a slice from a DataFrame.\n",
      "Try using .loc[row_indexer,col_indexer] = value instead\n",
      "\n",
      "See the caveats in the documentation: https://pandas.pydata.org/pandas-docs/stable/user_guide/indexing.html#returning-a-view-versus-a-copy\n",
      "  \"\"\"Entry point for launching an IPython kernel.\n"
     ]
    }
   ],
   "source": [
    "time_windows_doc_topics['time_windows'] = time_windows_doc_topics['time_windows'].astype(str).replace({\"nan\": f\"time_windows_{1}\"})"
   ]
  },
  {
   "cell_type": "code",
   "execution_count": 215,
   "metadata": {},
   "outputs": [
    {
     "data": {
      "text/html": [
       "<div>\n",
       "<style scoped>\n",
       "    .dataframe tbody tr th:only-of-type {\n",
       "        vertical-align: middle;\n",
       "    }\n",
       "\n",
       "    .dataframe tbody tr th {\n",
       "        vertical-align: top;\n",
       "    }\n",
       "\n",
       "    .dataframe thead th {\n",
       "        text-align: right;\n",
       "    }\n",
       "</style>\n",
       "<table border=\"1\" class=\"dataframe\">\n",
       "  <thead>\n",
       "    <tr style=\"text-align: right;\">\n",
       "      <th></th>\n",
       "      <th>000</th>\n",
       "      <th>000 000</th>\n",
       "      <th>12</th>\n",
       "      <th>400</th>\n",
       "      <th>acaj</th>\n",
       "      <th>acaj soupconner</th>\n",
       "      <th>accord</th>\n",
       "      <th>according</th>\n",
       "      <th>accus</th>\n",
       "      <th>accuser</th>\n",
       "      <th>...</th>\n",
       "      <th>partenair solide</th>\n",
       "      <th>politique nombriliste</th>\n",
       "      <th>pres ciel</th>\n",
       "      <th>provinc trois</th>\n",
       "      <th>rendre annee</th>\n",
       "      <th>solide lutte</th>\n",
       "      <th>tourner celui</th>\n",
       "      <th>trois foi</th>\n",
       "      <th>usa partenair</th>\n",
       "      <th>time_windows</th>\n",
       "    </tr>\n",
       "  </thead>\n",
       "  <tbody>\n",
       "    <tr>\n",
       "      <th>0</th>\n",
       "      <td>0.0</td>\n",
       "      <td>0.0</td>\n",
       "      <td>0.0</td>\n",
       "      <td>0.0</td>\n",
       "      <td>0.000</td>\n",
       "      <td>0.000</td>\n",
       "      <td>0.0</td>\n",
       "      <td>0.0</td>\n",
       "      <td>0.0</td>\n",
       "      <td>0.0</td>\n",
       "      <td>...</td>\n",
       "      <td>0.0</td>\n",
       "      <td>0.0</td>\n",
       "      <td>0.0</td>\n",
       "      <td>0.0</td>\n",
       "      <td>0.0</td>\n",
       "      <td>0.0</td>\n",
       "      <td>0.0</td>\n",
       "      <td>0.0</td>\n",
       "      <td>0.0</td>\n",
       "      <td>time_windows_1</td>\n",
       "    </tr>\n",
       "    <tr>\n",
       "      <th>1</th>\n",
       "      <td>0.0</td>\n",
       "      <td>0.0</td>\n",
       "      <td>0.0</td>\n",
       "      <td>0.0</td>\n",
       "      <td>0.000</td>\n",
       "      <td>0.000</td>\n",
       "      <td>0.0</td>\n",
       "      <td>0.0</td>\n",
       "      <td>0.0</td>\n",
       "      <td>0.0</td>\n",
       "      <td>...</td>\n",
       "      <td>0.0</td>\n",
       "      <td>0.0</td>\n",
       "      <td>0.0</td>\n",
       "      <td>0.0</td>\n",
       "      <td>0.0</td>\n",
       "      <td>0.0</td>\n",
       "      <td>0.0</td>\n",
       "      <td>0.0</td>\n",
       "      <td>0.0</td>\n",
       "      <td>time_windows_1</td>\n",
       "    </tr>\n",
       "    <tr>\n",
       "      <th>2</th>\n",
       "      <td>0.0</td>\n",
       "      <td>0.0</td>\n",
       "      <td>0.0</td>\n",
       "      <td>0.0</td>\n",
       "      <td>0.000</td>\n",
       "      <td>0.000</td>\n",
       "      <td>0.0</td>\n",
       "      <td>0.0</td>\n",
       "      <td>0.0</td>\n",
       "      <td>0.0</td>\n",
       "      <td>...</td>\n",
       "      <td>0.0</td>\n",
       "      <td>0.0</td>\n",
       "      <td>0.0</td>\n",
       "      <td>0.0</td>\n",
       "      <td>0.0</td>\n",
       "      <td>0.0</td>\n",
       "      <td>0.0</td>\n",
       "      <td>0.0</td>\n",
       "      <td>0.0</td>\n",
       "      <td>time_windows_1</td>\n",
       "    </tr>\n",
       "    <tr>\n",
       "      <th>3</th>\n",
       "      <td>0.0</td>\n",
       "      <td>0.0</td>\n",
       "      <td>0.0</td>\n",
       "      <td>0.0</td>\n",
       "      <td>0.000</td>\n",
       "      <td>0.000</td>\n",
       "      <td>0.0</td>\n",
       "      <td>0.0</td>\n",
       "      <td>0.0</td>\n",
       "      <td>0.0</td>\n",
       "      <td>...</td>\n",
       "      <td>0.0</td>\n",
       "      <td>0.0</td>\n",
       "      <td>0.0</td>\n",
       "      <td>0.0</td>\n",
       "      <td>0.0</td>\n",
       "      <td>0.0</td>\n",
       "      <td>0.0</td>\n",
       "      <td>0.0</td>\n",
       "      <td>0.0</td>\n",
       "      <td>time_windows_1</td>\n",
       "    </tr>\n",
       "    <tr>\n",
       "      <th>4</th>\n",
       "      <td>0.0</td>\n",
       "      <td>0.0</td>\n",
       "      <td>0.0</td>\n",
       "      <td>0.0</td>\n",
       "      <td>0.000</td>\n",
       "      <td>0.000</td>\n",
       "      <td>0.0</td>\n",
       "      <td>0.0</td>\n",
       "      <td>0.0</td>\n",
       "      <td>0.0</td>\n",
       "      <td>...</td>\n",
       "      <td>0.0</td>\n",
       "      <td>0.0</td>\n",
       "      <td>0.0</td>\n",
       "      <td>0.0</td>\n",
       "      <td>0.0</td>\n",
       "      <td>0.0</td>\n",
       "      <td>0.0</td>\n",
       "      <td>0.0</td>\n",
       "      <td>0.0</td>\n",
       "      <td>time_windows_1</td>\n",
       "    </tr>\n",
       "    <tr>\n",
       "      <th>5</th>\n",
       "      <td>0.0</td>\n",
       "      <td>0.0</td>\n",
       "      <td>0.0</td>\n",
       "      <td>0.0</td>\n",
       "      <td>0.000</td>\n",
       "      <td>0.000</td>\n",
       "      <td>0.0</td>\n",
       "      <td>0.0</td>\n",
       "      <td>0.0</td>\n",
       "      <td>0.0</td>\n",
       "      <td>...</td>\n",
       "      <td>0.0</td>\n",
       "      <td>0.0</td>\n",
       "      <td>0.0</td>\n",
       "      <td>0.0</td>\n",
       "      <td>0.0</td>\n",
       "      <td>0.0</td>\n",
       "      <td>0.0</td>\n",
       "      <td>0.0</td>\n",
       "      <td>0.0</td>\n",
       "      <td>time_windows_1</td>\n",
       "    </tr>\n",
       "    <tr>\n",
       "      <th>6</th>\n",
       "      <td>0.0</td>\n",
       "      <td>0.0</td>\n",
       "      <td>0.0</td>\n",
       "      <td>0.0</td>\n",
       "      <td>0.669</td>\n",
       "      <td>0.675</td>\n",
       "      <td>0.0</td>\n",
       "      <td>0.0</td>\n",
       "      <td>0.0</td>\n",
       "      <td>0.0</td>\n",
       "      <td>...</td>\n",
       "      <td>0.0</td>\n",
       "      <td>0.0</td>\n",
       "      <td>0.0</td>\n",
       "      <td>0.0</td>\n",
       "      <td>0.0</td>\n",
       "      <td>0.0</td>\n",
       "      <td>0.0</td>\n",
       "      <td>0.0</td>\n",
       "      <td>0.0</td>\n",
       "      <td>time_windows_1</td>\n",
       "    </tr>\n",
       "    <tr>\n",
       "      <th>7</th>\n",
       "      <td>0.0</td>\n",
       "      <td>0.0</td>\n",
       "      <td>0.0</td>\n",
       "      <td>0.0</td>\n",
       "      <td>0.000</td>\n",
       "      <td>0.000</td>\n",
       "      <td>0.0</td>\n",
       "      <td>0.0</td>\n",
       "      <td>0.0</td>\n",
       "      <td>0.0</td>\n",
       "      <td>...</td>\n",
       "      <td>0.0</td>\n",
       "      <td>0.0</td>\n",
       "      <td>0.0</td>\n",
       "      <td>0.0</td>\n",
       "      <td>0.0</td>\n",
       "      <td>0.0</td>\n",
       "      <td>0.0</td>\n",
       "      <td>0.0</td>\n",
       "      <td>0.0</td>\n",
       "      <td>time_windows_1</td>\n",
       "    </tr>\n",
       "    <tr>\n",
       "      <th>8</th>\n",
       "      <td>0.0</td>\n",
       "      <td>0.0</td>\n",
       "      <td>0.0</td>\n",
       "      <td>0.0</td>\n",
       "      <td>0.000</td>\n",
       "      <td>0.000</td>\n",
       "      <td>0.0</td>\n",
       "      <td>0.0</td>\n",
       "      <td>0.0</td>\n",
       "      <td>0.0</td>\n",
       "      <td>...</td>\n",
       "      <td>0.0</td>\n",
       "      <td>0.0</td>\n",
       "      <td>0.0</td>\n",
       "      <td>0.0</td>\n",
       "      <td>0.0</td>\n",
       "      <td>0.0</td>\n",
       "      <td>0.0</td>\n",
       "      <td>0.0</td>\n",
       "      <td>0.0</td>\n",
       "      <td>time_windows_1</td>\n",
       "    </tr>\n",
       "    <tr>\n",
       "      <th>9</th>\n",
       "      <td>0.0</td>\n",
       "      <td>0.0</td>\n",
       "      <td>0.0</td>\n",
       "      <td>0.0</td>\n",
       "      <td>0.000</td>\n",
       "      <td>0.000</td>\n",
       "      <td>0.0</td>\n",
       "      <td>0.0</td>\n",
       "      <td>0.0</td>\n",
       "      <td>0.0</td>\n",
       "      <td>...</td>\n",
       "      <td>0.0</td>\n",
       "      <td>0.0</td>\n",
       "      <td>0.0</td>\n",
       "      <td>0.0</td>\n",
       "      <td>0.0</td>\n",
       "      <td>0.0</td>\n",
       "      <td>0.0</td>\n",
       "      <td>0.0</td>\n",
       "      <td>0.0</td>\n",
       "      <td>time_windows_1</td>\n",
       "    </tr>\n",
       "    <tr>\n",
       "      <th>10</th>\n",
       "      <td>0.0</td>\n",
       "      <td>0.0</td>\n",
       "      <td>0.0</td>\n",
       "      <td>0.0</td>\n",
       "      <td>0.000</td>\n",
       "      <td>0.000</td>\n",
       "      <td>0.0</td>\n",
       "      <td>0.0</td>\n",
       "      <td>0.0</td>\n",
       "      <td>0.0</td>\n",
       "      <td>...</td>\n",
       "      <td>0.0</td>\n",
       "      <td>0.0</td>\n",
       "      <td>0.0</td>\n",
       "      <td>0.0</td>\n",
       "      <td>0.0</td>\n",
       "      <td>0.0</td>\n",
       "      <td>0.0</td>\n",
       "      <td>0.0</td>\n",
       "      <td>0.0</td>\n",
       "      <td>time_windows_1</td>\n",
       "    </tr>\n",
       "    <tr>\n",
       "      <th>11</th>\n",
       "      <td>0.0</td>\n",
       "      <td>0.0</td>\n",
       "      <td>0.0</td>\n",
       "      <td>0.0</td>\n",
       "      <td>0.000</td>\n",
       "      <td>0.000</td>\n",
       "      <td>0.0</td>\n",
       "      <td>0.0</td>\n",
       "      <td>0.0</td>\n",
       "      <td>0.0</td>\n",
       "      <td>...</td>\n",
       "      <td>0.0</td>\n",
       "      <td>0.0</td>\n",
       "      <td>0.0</td>\n",
       "      <td>0.0</td>\n",
       "      <td>0.0</td>\n",
       "      <td>0.0</td>\n",
       "      <td>0.0</td>\n",
       "      <td>0.0</td>\n",
       "      <td>0.0</td>\n",
       "      <td>time_windows_1</td>\n",
       "    </tr>\n",
       "    <tr>\n",
       "      <th>12</th>\n",
       "      <td>0.0</td>\n",
       "      <td>0.0</td>\n",
       "      <td>0.0</td>\n",
       "      <td>0.0</td>\n",
       "      <td>0.000</td>\n",
       "      <td>0.000</td>\n",
       "      <td>0.0</td>\n",
       "      <td>0.0</td>\n",
       "      <td>0.0</td>\n",
       "      <td>0.0</td>\n",
       "      <td>...</td>\n",
       "      <td>0.0</td>\n",
       "      <td>0.0</td>\n",
       "      <td>0.0</td>\n",
       "      <td>0.0</td>\n",
       "      <td>0.0</td>\n",
       "      <td>0.0</td>\n",
       "      <td>0.0</td>\n",
       "      <td>0.0</td>\n",
       "      <td>0.0</td>\n",
       "      <td>time_windows_1</td>\n",
       "    </tr>\n",
       "    <tr>\n",
       "      <th>13</th>\n",
       "      <td>0.0</td>\n",
       "      <td>0.0</td>\n",
       "      <td>0.0</td>\n",
       "      <td>0.0</td>\n",
       "      <td>0.000</td>\n",
       "      <td>0.000</td>\n",
       "      <td>0.0</td>\n",
       "      <td>0.0</td>\n",
       "      <td>0.0</td>\n",
       "      <td>0.0</td>\n",
       "      <td>...</td>\n",
       "      <td>0.0</td>\n",
       "      <td>0.0</td>\n",
       "      <td>0.0</td>\n",
       "      <td>0.0</td>\n",
       "      <td>0.0</td>\n",
       "      <td>0.0</td>\n",
       "      <td>0.0</td>\n",
       "      <td>0.0</td>\n",
       "      <td>0.0</td>\n",
       "      <td>time_windows_1</td>\n",
       "    </tr>\n",
       "    <tr>\n",
       "      <th>14</th>\n",
       "      <td>0.0</td>\n",
       "      <td>0.0</td>\n",
       "      <td>0.0</td>\n",
       "      <td>0.0</td>\n",
       "      <td>0.000</td>\n",
       "      <td>0.000</td>\n",
       "      <td>0.0</td>\n",
       "      <td>0.0</td>\n",
       "      <td>0.0</td>\n",
       "      <td>0.0</td>\n",
       "      <td>...</td>\n",
       "      <td>0.0</td>\n",
       "      <td>0.0</td>\n",
       "      <td>0.0</td>\n",
       "      <td>0.0</td>\n",
       "      <td>0.0</td>\n",
       "      <td>0.0</td>\n",
       "      <td>0.0</td>\n",
       "      <td>0.0</td>\n",
       "      <td>0.0</td>\n",
       "      <td>time_windows_1</td>\n",
       "    </tr>\n",
       "  </tbody>\n",
       "</table>\n",
       "<p>15 rows × 1955 columns</p>\n",
       "</div>"
      ],
      "text/plain": [
       "    000  000 000   12  400   acaj  acaj soupconner  accord  according  accus  \\\n",
       "0   0.0      0.0  0.0  0.0  0.000            0.000     0.0        0.0    0.0   \n",
       "1   0.0      0.0  0.0  0.0  0.000            0.000     0.0        0.0    0.0   \n",
       "2   0.0      0.0  0.0  0.0  0.000            0.000     0.0        0.0    0.0   \n",
       "3   0.0      0.0  0.0  0.0  0.000            0.000     0.0        0.0    0.0   \n",
       "4   0.0      0.0  0.0  0.0  0.000            0.000     0.0        0.0    0.0   \n",
       "5   0.0      0.0  0.0  0.0  0.000            0.000     0.0        0.0    0.0   \n",
       "6   0.0      0.0  0.0  0.0  0.669            0.675     0.0        0.0    0.0   \n",
       "7   0.0      0.0  0.0  0.0  0.000            0.000     0.0        0.0    0.0   \n",
       "8   0.0      0.0  0.0  0.0  0.000            0.000     0.0        0.0    0.0   \n",
       "9   0.0      0.0  0.0  0.0  0.000            0.000     0.0        0.0    0.0   \n",
       "10  0.0      0.0  0.0  0.0  0.000            0.000     0.0        0.0    0.0   \n",
       "11  0.0      0.0  0.0  0.0  0.000            0.000     0.0        0.0    0.0   \n",
       "12  0.0      0.0  0.0  0.0  0.000            0.000     0.0        0.0    0.0   \n",
       "13  0.0      0.0  0.0  0.0  0.000            0.000     0.0        0.0    0.0   \n",
       "14  0.0      0.0  0.0  0.0  0.000            0.000     0.0        0.0    0.0   \n",
       "\n",
       "    accuser  ...  partenair solide  politique nombriliste  pres ciel  \\\n",
       "0       0.0  ...               0.0                    0.0        0.0   \n",
       "1       0.0  ...               0.0                    0.0        0.0   \n",
       "2       0.0  ...               0.0                    0.0        0.0   \n",
       "3       0.0  ...               0.0                    0.0        0.0   \n",
       "4       0.0  ...               0.0                    0.0        0.0   \n",
       "5       0.0  ...               0.0                    0.0        0.0   \n",
       "6       0.0  ...               0.0                    0.0        0.0   \n",
       "7       0.0  ...               0.0                    0.0        0.0   \n",
       "8       0.0  ...               0.0                    0.0        0.0   \n",
       "9       0.0  ...               0.0                    0.0        0.0   \n",
       "10      0.0  ...               0.0                    0.0        0.0   \n",
       "11      0.0  ...               0.0                    0.0        0.0   \n",
       "12      0.0  ...               0.0                    0.0        0.0   \n",
       "13      0.0  ...               0.0                    0.0        0.0   \n",
       "14      0.0  ...               0.0                    0.0        0.0   \n",
       "\n",
       "    provinc trois  rendre annee  solide lutte  tourner celui  trois foi  \\\n",
       "0             0.0           0.0           0.0            0.0        0.0   \n",
       "1             0.0           0.0           0.0            0.0        0.0   \n",
       "2             0.0           0.0           0.0            0.0        0.0   \n",
       "3             0.0           0.0           0.0            0.0        0.0   \n",
       "4             0.0           0.0           0.0            0.0        0.0   \n",
       "5             0.0           0.0           0.0            0.0        0.0   \n",
       "6             0.0           0.0           0.0            0.0        0.0   \n",
       "7             0.0           0.0           0.0            0.0        0.0   \n",
       "8             0.0           0.0           0.0            0.0        0.0   \n",
       "9             0.0           0.0           0.0            0.0        0.0   \n",
       "10            0.0           0.0           0.0            0.0        0.0   \n",
       "11            0.0           0.0           0.0            0.0        0.0   \n",
       "12            0.0           0.0           0.0            0.0        0.0   \n",
       "13            0.0           0.0           0.0            0.0        0.0   \n",
       "14            0.0           0.0           0.0            0.0        0.0   \n",
       "\n",
       "    usa partenair    time_windows  \n",
       "0             0.0  time_windows_1  \n",
       "1             0.0  time_windows_1  \n",
       "2             0.0  time_windows_1  \n",
       "3             0.0  time_windows_1  \n",
       "4             0.0  time_windows_1  \n",
       "5             0.0  time_windows_1  \n",
       "6             0.0  time_windows_1  \n",
       "7             0.0  time_windows_1  \n",
       "8             0.0  time_windows_1  \n",
       "9             0.0  time_windows_1  \n",
       "10            0.0  time_windows_1  \n",
       "11            0.0  time_windows_1  \n",
       "12            0.0  time_windows_1  \n",
       "13            0.0  time_windows_1  \n",
       "14            0.0  time_windows_1  \n",
       "\n",
       "[15 rows x 1955 columns]"
      ]
     },
     "execution_count": 215,
     "metadata": {},
     "output_type": "execute_result"
    }
   ],
   "source": [
    "time_windows_doc_topics.head(cumm_best_k[0])"
   ]
  },
  {
   "cell_type": "code",
   "execution_count": 216,
   "metadata": {},
   "outputs": [
    {
     "data": {
      "text/html": [
       "<div>\n",
       "<style scoped>\n",
       "    .dataframe tbody tr th:only-of-type {\n",
       "        vertical-align: middle;\n",
       "    }\n",
       "\n",
       "    .dataframe tbody tr th {\n",
       "        vertical-align: top;\n",
       "    }\n",
       "\n",
       "    .dataframe thead th {\n",
       "        text-align: right;\n",
       "    }\n",
       "</style>\n",
       "<table border=\"1\" class=\"dataframe\">\n",
       "  <thead>\n",
       "    <tr style=\"text-align: right;\">\n",
       "      <th></th>\n",
       "      <th>000</th>\n",
       "      <th>000 000</th>\n",
       "      <th>12</th>\n",
       "      <th>400</th>\n",
       "      <th>acaj</th>\n",
       "      <th>acaj soupconner</th>\n",
       "      <th>accord</th>\n",
       "      <th>according</th>\n",
       "      <th>accus</th>\n",
       "      <th>accuser</th>\n",
       "      <th>...</th>\n",
       "      <th>parle dubai</th>\n",
       "      <th>partenair solide</th>\n",
       "      <th>politique nombriliste</th>\n",
       "      <th>pres ciel</th>\n",
       "      <th>provinc trois</th>\n",
       "      <th>rendre annee</th>\n",
       "      <th>solide lutte</th>\n",
       "      <th>tourner celui</th>\n",
       "      <th>trois foi</th>\n",
       "      <th>usa partenair</th>\n",
       "    </tr>\n",
       "    <tr>\n",
       "      <th>time_windows</th>\n",
       "      <th></th>\n",
       "      <th></th>\n",
       "      <th></th>\n",
       "      <th></th>\n",
       "      <th></th>\n",
       "      <th></th>\n",
       "      <th></th>\n",
       "      <th></th>\n",
       "      <th></th>\n",
       "      <th></th>\n",
       "      <th></th>\n",
       "      <th></th>\n",
       "      <th></th>\n",
       "      <th></th>\n",
       "      <th></th>\n",
       "      <th></th>\n",
       "      <th></th>\n",
       "      <th></th>\n",
       "      <th></th>\n",
       "      <th></th>\n",
       "      <th></th>\n",
       "    </tr>\n",
       "  </thead>\n",
       "  <tbody>\n",
       "    <tr>\n",
       "      <th>time_windows_1</th>\n",
       "      <td>0.000</td>\n",
       "      <td>0.0</td>\n",
       "      <td>0.000</td>\n",
       "      <td>0.000</td>\n",
       "      <td>0.669</td>\n",
       "      <td>0.675</td>\n",
       "      <td>0.000</td>\n",
       "      <td>0.00</td>\n",
       "      <td>0.000</td>\n",
       "      <td>0.000</td>\n",
       "      <td>...</td>\n",
       "      <td>0.000</td>\n",
       "      <td>0.000</td>\n",
       "      <td>0.00</td>\n",
       "      <td>0.000</td>\n",
       "      <td>0.000</td>\n",
       "      <td>0.000</td>\n",
       "      <td>0.000</td>\n",
       "      <td>0.000</td>\n",
       "      <td>0.000</td>\n",
       "      <td>0.000</td>\n",
       "    </tr>\n",
       "    <tr>\n",
       "      <th>time_windows_10</th>\n",
       "      <td>0.000</td>\n",
       "      <td>0.0</td>\n",
       "      <td>0.000</td>\n",
       "      <td>0.000</td>\n",
       "      <td>0.000</td>\n",
       "      <td>0.000</td>\n",
       "      <td>0.000</td>\n",
       "      <td>0.00</td>\n",
       "      <td>0.000</td>\n",
       "      <td>0.000</td>\n",
       "      <td>...</td>\n",
       "      <td>0.000</td>\n",
       "      <td>0.000</td>\n",
       "      <td>0.00</td>\n",
       "      <td>0.000</td>\n",
       "      <td>0.000</td>\n",
       "      <td>0.000</td>\n",
       "      <td>0.000</td>\n",
       "      <td>0.000</td>\n",
       "      <td>0.000</td>\n",
       "      <td>0.000</td>\n",
       "    </tr>\n",
       "    <tr>\n",
       "      <th>time_windows_11</th>\n",
       "      <td>0.000</td>\n",
       "      <td>0.0</td>\n",
       "      <td>0.000</td>\n",
       "      <td>0.000</td>\n",
       "      <td>0.000</td>\n",
       "      <td>0.000</td>\n",
       "      <td>0.000</td>\n",
       "      <td>0.00</td>\n",
       "      <td>0.000</td>\n",
       "      <td>0.000</td>\n",
       "      <td>...</td>\n",
       "      <td>0.000</td>\n",
       "      <td>0.000</td>\n",
       "      <td>0.00</td>\n",
       "      <td>0.000</td>\n",
       "      <td>0.000</td>\n",
       "      <td>0.000</td>\n",
       "      <td>0.000</td>\n",
       "      <td>0.000</td>\n",
       "      <td>0.000</td>\n",
       "      <td>0.000</td>\n",
       "    </tr>\n",
       "    <tr>\n",
       "      <th>time_windows_12</th>\n",
       "      <td>0.000</td>\n",
       "      <td>0.0</td>\n",
       "      <td>0.000</td>\n",
       "      <td>0.000</td>\n",
       "      <td>0.000</td>\n",
       "      <td>0.000</td>\n",
       "      <td>0.000</td>\n",
       "      <td>0.00</td>\n",
       "      <td>0.000</td>\n",
       "      <td>0.000</td>\n",
       "      <td>...</td>\n",
       "      <td>0.000</td>\n",
       "      <td>0.000</td>\n",
       "      <td>0.00</td>\n",
       "      <td>0.000</td>\n",
       "      <td>0.000</td>\n",
       "      <td>0.000</td>\n",
       "      <td>0.000</td>\n",
       "      <td>0.000</td>\n",
       "      <td>0.000</td>\n",
       "      <td>0.000</td>\n",
       "    </tr>\n",
       "    <tr>\n",
       "      <th>time_windows_13</th>\n",
       "      <td>0.000</td>\n",
       "      <td>0.0</td>\n",
       "      <td>2.965</td>\n",
       "      <td>0.000</td>\n",
       "      <td>0.000</td>\n",
       "      <td>0.000</td>\n",
       "      <td>1.127</td>\n",
       "      <td>0.00</td>\n",
       "      <td>0.000</td>\n",
       "      <td>0.000</td>\n",
       "      <td>...</td>\n",
       "      <td>0.000</td>\n",
       "      <td>0.000</td>\n",
       "      <td>0.00</td>\n",
       "      <td>0.000</td>\n",
       "      <td>0.000</td>\n",
       "      <td>0.000</td>\n",
       "      <td>0.000</td>\n",
       "      <td>0.000</td>\n",
       "      <td>0.000</td>\n",
       "      <td>0.000</td>\n",
       "    </tr>\n",
       "    <tr>\n",
       "      <th>time_windows_14</th>\n",
       "      <td>0.000</td>\n",
       "      <td>0.0</td>\n",
       "      <td>0.000</td>\n",
       "      <td>0.000</td>\n",
       "      <td>0.000</td>\n",
       "      <td>0.000</td>\n",
       "      <td>0.000</td>\n",
       "      <td>0.00</td>\n",
       "      <td>0.000</td>\n",
       "      <td>0.000</td>\n",
       "      <td>...</td>\n",
       "      <td>0.000</td>\n",
       "      <td>0.000</td>\n",
       "      <td>0.00</td>\n",
       "      <td>0.000</td>\n",
       "      <td>1.266</td>\n",
       "      <td>0.000</td>\n",
       "      <td>0.000</td>\n",
       "      <td>0.000</td>\n",
       "      <td>1.265</td>\n",
       "      <td>0.000</td>\n",
       "    </tr>\n",
       "    <tr>\n",
       "      <th>time_windows_15</th>\n",
       "      <td>0.000</td>\n",
       "      <td>0.0</td>\n",
       "      <td>0.000</td>\n",
       "      <td>0.000</td>\n",
       "      <td>0.000</td>\n",
       "      <td>0.000</td>\n",
       "      <td>0.000</td>\n",
       "      <td>0.00</td>\n",
       "      <td>0.000</td>\n",
       "      <td>0.000</td>\n",
       "      <td>...</td>\n",
       "      <td>1.227</td>\n",
       "      <td>0.506</td>\n",
       "      <td>0.81</td>\n",
       "      <td>1.227</td>\n",
       "      <td>0.000</td>\n",
       "      <td>0.811</td>\n",
       "      <td>0.506</td>\n",
       "      <td>0.808</td>\n",
       "      <td>0.000</td>\n",
       "      <td>0.505</td>\n",
       "    </tr>\n",
       "    <tr>\n",
       "      <th>time_windows_2</th>\n",
       "      <td>0.000</td>\n",
       "      <td>0.0</td>\n",
       "      <td>0.000</td>\n",
       "      <td>0.000</td>\n",
       "      <td>0.000</td>\n",
       "      <td>0.000</td>\n",
       "      <td>0.000</td>\n",
       "      <td>0.00</td>\n",
       "      <td>0.511</td>\n",
       "      <td>0.000</td>\n",
       "      <td>...</td>\n",
       "      <td>0.000</td>\n",
       "      <td>0.000</td>\n",
       "      <td>0.00</td>\n",
       "      <td>0.000</td>\n",
       "      <td>0.000</td>\n",
       "      <td>0.000</td>\n",
       "      <td>0.000</td>\n",
       "      <td>0.000</td>\n",
       "      <td>0.000</td>\n",
       "      <td>0.000</td>\n",
       "    </tr>\n",
       "    <tr>\n",
       "      <th>time_windows_3</th>\n",
       "      <td>0.000</td>\n",
       "      <td>0.0</td>\n",
       "      <td>0.000</td>\n",
       "      <td>0.000</td>\n",
       "      <td>0.000</td>\n",
       "      <td>0.000</td>\n",
       "      <td>0.000</td>\n",
       "      <td>0.00</td>\n",
       "      <td>0.000</td>\n",
       "      <td>0.000</td>\n",
       "      <td>...</td>\n",
       "      <td>0.000</td>\n",
       "      <td>0.000</td>\n",
       "      <td>0.00</td>\n",
       "      <td>0.000</td>\n",
       "      <td>0.000</td>\n",
       "      <td>0.000</td>\n",
       "      <td>0.000</td>\n",
       "      <td>0.000</td>\n",
       "      <td>0.000</td>\n",
       "      <td>0.000</td>\n",
       "    </tr>\n",
       "    <tr>\n",
       "      <th>time_windows_4</th>\n",
       "      <td>0.000</td>\n",
       "      <td>0.0</td>\n",
       "      <td>0.000</td>\n",
       "      <td>0.000</td>\n",
       "      <td>0.000</td>\n",
       "      <td>0.000</td>\n",
       "      <td>0.000</td>\n",
       "      <td>0.38</td>\n",
       "      <td>0.000</td>\n",
       "      <td>0.000</td>\n",
       "      <td>...</td>\n",
       "      <td>0.000</td>\n",
       "      <td>0.000</td>\n",
       "      <td>0.00</td>\n",
       "      <td>0.000</td>\n",
       "      <td>0.000</td>\n",
       "      <td>0.000</td>\n",
       "      <td>0.000</td>\n",
       "      <td>0.000</td>\n",
       "      <td>0.000</td>\n",
       "      <td>0.000</td>\n",
       "    </tr>\n",
       "    <tr>\n",
       "      <th>time_windows_5</th>\n",
       "      <td>0.000</td>\n",
       "      <td>0.0</td>\n",
       "      <td>0.000</td>\n",
       "      <td>0.000</td>\n",
       "      <td>0.000</td>\n",
       "      <td>0.000</td>\n",
       "      <td>0.000</td>\n",
       "      <td>0.00</td>\n",
       "      <td>0.000</td>\n",
       "      <td>0.000</td>\n",
       "      <td>...</td>\n",
       "      <td>0.000</td>\n",
       "      <td>0.000</td>\n",
       "      <td>0.00</td>\n",
       "      <td>0.000</td>\n",
       "      <td>0.000</td>\n",
       "      <td>0.000</td>\n",
       "      <td>0.000</td>\n",
       "      <td>0.000</td>\n",
       "      <td>0.000</td>\n",
       "      <td>0.000</td>\n",
       "    </tr>\n",
       "    <tr>\n",
       "      <th>time_windows_6</th>\n",
       "      <td>0.000</td>\n",
       "      <td>0.0</td>\n",
       "      <td>0.000</td>\n",
       "      <td>0.000</td>\n",
       "      <td>0.000</td>\n",
       "      <td>0.000</td>\n",
       "      <td>0.000</td>\n",
       "      <td>0.00</td>\n",
       "      <td>0.000</td>\n",
       "      <td>1.527</td>\n",
       "      <td>...</td>\n",
       "      <td>0.000</td>\n",
       "      <td>0.000</td>\n",
       "      <td>0.00</td>\n",
       "      <td>0.000</td>\n",
       "      <td>0.000</td>\n",
       "      <td>0.000</td>\n",
       "      <td>0.000</td>\n",
       "      <td>0.000</td>\n",
       "      <td>0.000</td>\n",
       "      <td>0.000</td>\n",
       "    </tr>\n",
       "    <tr>\n",
       "      <th>time_windows_7</th>\n",
       "      <td>0.000</td>\n",
       "      <td>0.0</td>\n",
       "      <td>0.000</td>\n",
       "      <td>0.000</td>\n",
       "      <td>0.000</td>\n",
       "      <td>0.000</td>\n",
       "      <td>0.000</td>\n",
       "      <td>0.00</td>\n",
       "      <td>0.000</td>\n",
       "      <td>0.000</td>\n",
       "      <td>...</td>\n",
       "      <td>0.000</td>\n",
       "      <td>0.000</td>\n",
       "      <td>0.00</td>\n",
       "      <td>0.000</td>\n",
       "      <td>0.000</td>\n",
       "      <td>0.000</td>\n",
       "      <td>0.000</td>\n",
       "      <td>0.000</td>\n",
       "      <td>0.000</td>\n",
       "      <td>0.000</td>\n",
       "    </tr>\n",
       "    <tr>\n",
       "      <th>time_windows_8</th>\n",
       "      <td>0.000</td>\n",
       "      <td>0.0</td>\n",
       "      <td>0.000</td>\n",
       "      <td>0.000</td>\n",
       "      <td>0.000</td>\n",
       "      <td>0.000</td>\n",
       "      <td>0.000</td>\n",
       "      <td>0.00</td>\n",
       "      <td>0.000</td>\n",
       "      <td>0.000</td>\n",
       "      <td>...</td>\n",
       "      <td>0.000</td>\n",
       "      <td>0.000</td>\n",
       "      <td>0.00</td>\n",
       "      <td>0.000</td>\n",
       "      <td>0.000</td>\n",
       "      <td>0.000</td>\n",
       "      <td>0.000</td>\n",
       "      <td>0.000</td>\n",
       "      <td>0.000</td>\n",
       "      <td>0.000</td>\n",
       "    </tr>\n",
       "    <tr>\n",
       "      <th>time_windows_9</th>\n",
       "      <td>4.558</td>\n",
       "      <td>0.2</td>\n",
       "      <td>0.000</td>\n",
       "      <td>0.098</td>\n",
       "      <td>0.000</td>\n",
       "      <td>0.000</td>\n",
       "      <td>0.000</td>\n",
       "      <td>0.00</td>\n",
       "      <td>0.000</td>\n",
       "      <td>0.000</td>\n",
       "      <td>...</td>\n",
       "      <td>0.000</td>\n",
       "      <td>0.000</td>\n",
       "      <td>0.00</td>\n",
       "      <td>0.000</td>\n",
       "      <td>0.000</td>\n",
       "      <td>0.000</td>\n",
       "      <td>0.000</td>\n",
       "      <td>0.000</td>\n",
       "      <td>0.000</td>\n",
       "      <td>0.000</td>\n",
       "    </tr>\n",
       "  </tbody>\n",
       "</table>\n",
       "<p>15 rows × 1954 columns</p>\n",
       "</div>"
      ],
      "text/plain": [
       "                   000  000 000     12    400   acaj  acaj soupconner  accord  \\\n",
       "time_windows                                                                    \n",
       "time_windows_1   0.000      0.0  0.000  0.000  0.669            0.675   0.000   \n",
       "time_windows_10  0.000      0.0  0.000  0.000  0.000            0.000   0.000   \n",
       "time_windows_11  0.000      0.0  0.000  0.000  0.000            0.000   0.000   \n",
       "time_windows_12  0.000      0.0  0.000  0.000  0.000            0.000   0.000   \n",
       "time_windows_13  0.000      0.0  2.965  0.000  0.000            0.000   1.127   \n",
       "time_windows_14  0.000      0.0  0.000  0.000  0.000            0.000   0.000   \n",
       "time_windows_15  0.000      0.0  0.000  0.000  0.000            0.000   0.000   \n",
       "time_windows_2   0.000      0.0  0.000  0.000  0.000            0.000   0.000   \n",
       "time_windows_3   0.000      0.0  0.000  0.000  0.000            0.000   0.000   \n",
       "time_windows_4   0.000      0.0  0.000  0.000  0.000            0.000   0.000   \n",
       "time_windows_5   0.000      0.0  0.000  0.000  0.000            0.000   0.000   \n",
       "time_windows_6   0.000      0.0  0.000  0.000  0.000            0.000   0.000   \n",
       "time_windows_7   0.000      0.0  0.000  0.000  0.000            0.000   0.000   \n",
       "time_windows_8   0.000      0.0  0.000  0.000  0.000            0.000   0.000   \n",
       "time_windows_9   4.558      0.2  0.000  0.098  0.000            0.000   0.000   \n",
       "\n",
       "                 according  accus  accuser  ...  parle dubai  \\\n",
       "time_windows                                ...                \n",
       "time_windows_1        0.00  0.000    0.000  ...        0.000   \n",
       "time_windows_10       0.00  0.000    0.000  ...        0.000   \n",
       "time_windows_11       0.00  0.000    0.000  ...        0.000   \n",
       "time_windows_12       0.00  0.000    0.000  ...        0.000   \n",
       "time_windows_13       0.00  0.000    0.000  ...        0.000   \n",
       "time_windows_14       0.00  0.000    0.000  ...        0.000   \n",
       "time_windows_15       0.00  0.000    0.000  ...        1.227   \n",
       "time_windows_2        0.00  0.511    0.000  ...        0.000   \n",
       "time_windows_3        0.00  0.000    0.000  ...        0.000   \n",
       "time_windows_4        0.38  0.000    0.000  ...        0.000   \n",
       "time_windows_5        0.00  0.000    0.000  ...        0.000   \n",
       "time_windows_6        0.00  0.000    1.527  ...        0.000   \n",
       "time_windows_7        0.00  0.000    0.000  ...        0.000   \n",
       "time_windows_8        0.00  0.000    0.000  ...        0.000   \n",
       "time_windows_9        0.00  0.000    0.000  ...        0.000   \n",
       "\n",
       "                 partenair solide  politique nombriliste  pres ciel  \\\n",
       "time_windows                                                          \n",
       "time_windows_1              0.000                   0.00      0.000   \n",
       "time_windows_10             0.000                   0.00      0.000   \n",
       "time_windows_11             0.000                   0.00      0.000   \n",
       "time_windows_12             0.000                   0.00      0.000   \n",
       "time_windows_13             0.000                   0.00      0.000   \n",
       "time_windows_14             0.000                   0.00      0.000   \n",
       "time_windows_15             0.506                   0.81      1.227   \n",
       "time_windows_2              0.000                   0.00      0.000   \n",
       "time_windows_3              0.000                   0.00      0.000   \n",
       "time_windows_4              0.000                   0.00      0.000   \n",
       "time_windows_5              0.000                   0.00      0.000   \n",
       "time_windows_6              0.000                   0.00      0.000   \n",
       "time_windows_7              0.000                   0.00      0.000   \n",
       "time_windows_8              0.000                   0.00      0.000   \n",
       "time_windows_9              0.000                   0.00      0.000   \n",
       "\n",
       "                 provinc trois  rendre annee  solide lutte  tourner celui  \\\n",
       "time_windows                                                                \n",
       "time_windows_1           0.000         0.000         0.000          0.000   \n",
       "time_windows_10          0.000         0.000         0.000          0.000   \n",
       "time_windows_11          0.000         0.000         0.000          0.000   \n",
       "time_windows_12          0.000         0.000         0.000          0.000   \n",
       "time_windows_13          0.000         0.000         0.000          0.000   \n",
       "time_windows_14          1.266         0.000         0.000          0.000   \n",
       "time_windows_15          0.000         0.811         0.506          0.808   \n",
       "time_windows_2           0.000         0.000         0.000          0.000   \n",
       "time_windows_3           0.000         0.000         0.000          0.000   \n",
       "time_windows_4           0.000         0.000         0.000          0.000   \n",
       "time_windows_5           0.000         0.000         0.000          0.000   \n",
       "time_windows_6           0.000         0.000         0.000          0.000   \n",
       "time_windows_7           0.000         0.000         0.000          0.000   \n",
       "time_windows_8           0.000         0.000         0.000          0.000   \n",
       "time_windows_9           0.000         0.000         0.000          0.000   \n",
       "\n",
       "                 trois foi  usa partenair  \n",
       "time_windows                               \n",
       "time_windows_1       0.000          0.000  \n",
       "time_windows_10      0.000          0.000  \n",
       "time_windows_11      0.000          0.000  \n",
       "time_windows_12      0.000          0.000  \n",
       "time_windows_13      0.000          0.000  \n",
       "time_windows_14      1.265          0.000  \n",
       "time_windows_15      0.000          0.505  \n",
       "time_windows_2       0.000          0.000  \n",
       "time_windows_3       0.000          0.000  \n",
       "time_windows_4       0.000          0.000  \n",
       "time_windows_5       0.000          0.000  \n",
       "time_windows_6       0.000          0.000  \n",
       "time_windows_7       0.000          0.000  \n",
       "time_windows_8       0.000          0.000  \n",
       "time_windows_9       0.000          0.000  \n",
       "\n",
       "[15 rows x 1954 columns]"
      ]
     },
     "execution_count": 216,
     "metadata": {},
     "output_type": "execute_result"
    }
   ],
   "source": [
    "time_windows_doc_topics.groupby(\"time_windows\").agg(sum)"
   ]
  },
  {
   "cell_type": "code",
   "execution_count": null,
   "metadata": {},
   "outputs": [],
   "source": [
    "time_windows_doc_topics = time_windows_doc_topics.groupby(\"time_windows\").agg(sum)"
   ]
  },
  {
   "cell_type": "code",
   "execution_count": null,
   "metadata": {},
   "outputs": [],
   "source": [
    "time_windows_doc_topics['index'] = time_windows_doc_topics.index.map(lambda x: x.split('_')[2]).astype(int)"
   ]
  },
  {
   "cell_type": "code",
   "execution_count": null,
   "metadata": {},
   "outputs": [],
   "source": [
    "time_windows_doc_topics = time_windows_doc_topics.sort_values(\"index\").drop('index', axis=\"columns\")"
   ]
  },
  {
   "cell_type": "code",
   "execution_count": null,
   "metadata": {},
   "outputs": [],
   "source": [
    "time_windows_doc_topics[\"most_commont\"]  = time_windows_doc_topics.idxmax(axis='columns', skipna=True)"
   ]
  },
  {
   "cell_type": "code",
   "execution_count": null,
   "metadata": {},
   "outputs": [],
   "source": [
    "time_windows_doc_topics"
   ]
  },
  {
   "cell_type": "code",
   "execution_count": null,
   "metadata": {},
   "outputs": [],
   "source": [
    "print_topic_descriptor(V, dynamic_terms)"
   ]
  },
  {
   "cell_type": "markdown",
   "metadata": {},
   "source": [
    "let us build the datframe for our topic windows document "
   ]
  },
  {
   "cell_type": "code",
   "execution_count": null,
   "metadata": {},
   "outputs": [],
   "source": [
    "time_windows_doc_topics = time_windows_doc_topics.drop('most_commont', axis=\"columns\")"
   ]
  },
  {
   "cell_type": "code",
   "execution_count": null,
   "metadata": {},
   "outputs": [],
   "source": [
    "U.shape"
   ]
  },
  {
   "cell_type": "code",
   "execution_count": null,
   "metadata": {},
   "outputs": [],
   "source": [
    "fig, ax = plt.subplots(figsize=(50/2, 25/2))\n",
    "im = ax.imshow(time_windows_doc_topics.values)\n",
    "ax.set_xticks(np.arange(time_windows_doc_topics.shape[1]))\n",
    "ax.set_yticks(np.arange(time_windows_doc_topics.shape[0]))\n",
    "ax.set_xticklabels(time_windows_doc_topics.columns)\n",
    "ax.set_yticklabels(time_windows_doc_topics.index)\n",
    "plt.setp(ax.get_xticklabels(), rotation=45, ha=\"right\",\n",
    "         rotation_mode=\"anchor\")\n",
    "# Loop over data dimensions and create text annotations.\n",
    "for i in range(time_windows_doc_topics.shape[0]):\n",
    "    for j in range(time_windows_doc_topics.shape[1]):\n",
    "        text = ax.text(j, i, time_windows_doc_topics.values[i, j].round(2),\n",
    "                       ha=\"center\", va=\"center\", color=\"w\")\n",
    "ax.set_title(\"topic weight per time windows\")\n",
    "fig.tight_layout()\n",
    "plt.show()"
   ]
  },
  {
   "cell_type": "code",
   "execution_count": null,
   "metadata": {},
   "outputs": [],
   "source": [
    "from collections import Counter\n",
    "words_counter = set()"
   ]
  },
  {
   "cell_type": "code",
   "execution_count": null,
   "metadata": {},
   "outputs": [],
   "source": [
    "data_summary = windows_groups.agg({'created_at': lambda x : f\"{x.min().strftime('%d/%m/%Y')} - {x.max().strftime('%d/%m/%Y')}\" if not x.empty else 0, \n",
    "                                   'cleanned_text': [lambda x: x.shape[0], lambda x: x.str.split().explode().nunique()]})"
   ]
  },
  {
   "cell_type": "code",
   "execution_count": null,
   "metadata": {},
   "outputs": [],
   "source": [
    "data_summary.columns = ['timeframe', 'number of tweets', 'vocabulary size']"
   ]
  },
  {
   "cell_type": "code",
   "execution_count": null,
   "metadata": {},
   "outputs": [],
   "source": [
    "data_summary = data_summary.reset_index(drop=True)"
   ]
  },
  {
   "cell_type": "code",
   "execution_count": null,
   "metadata": {},
   "outputs": [],
   "source": [
    "data_summary.to_latex(index=False)"
   ]
  },
  {
   "cell_type": "code",
   "execution_count": null,
   "metadata": {},
   "outputs": [],
   "source": [
    "data_summary.replace(0, np.nan).dropna(axis=\"rows\").to_latex(index=False, float_format=\"{:0.0f}\".format)"
   ]
  },
  {
   "cell_type": "code",
   "execution_count": null,
   "metadata": {},
   "outputs": [],
   "source": [
    "data_summary.head()"
   ]
  },
  {
   "cell_type": "code",
   "execution_count": null,
   "metadata": {},
   "outputs": [],
   "source": []
  }
 ],
 "metadata": {
  "kernelspec": {
   "display_name": "nlp-course-venv-v2",
   "language": "python",
   "name": "nlp-course-venv-v2"
  },
  "language_info": {
   "codemirror_mode": {
    "name": "ipython",
    "version": 3
   },
   "file_extension": ".py",
   "mimetype": "text/x-python",
   "name": "python",
   "nbconvert_exporter": "python",
   "pygments_lexer": "ipython3",
   "version": "3.6.5"
  }
 },
 "nbformat": 4,
 "nbformat_minor": 4
}
