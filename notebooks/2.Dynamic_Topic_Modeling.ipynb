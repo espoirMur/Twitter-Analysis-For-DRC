{
 "cells": [
  {
   "cell_type": "markdown",
   "metadata": {},
   "source": [
    "<div class=\"cite2c-biblio\"></div><div class=\"cite2c-biblio\"></div># Topic Modeling "
   ]
  },
  {
   "cell_type": "markdown",
   "metadata": {},
   "source": [
    "In this notebook we wiil texplain what we first understand by topic modelling, what are the most used methods for topic modelling and I will conclude with dynamic topic modeling."
   ]
  },
  {
   "cell_type": "markdown",
   "metadata": {},
   "source": [
    "### Topic Modelling Definition"
   ]
  },
  {
   "cell_type": "markdown",
   "metadata": {},
   "source": [
    "### Topic Modelling Methods"
   ]
  },
  {
   "cell_type": "markdown",
   "metadata": {},
   "source": [
    "### Dynamic Topic Modelling"
   ]
  },
  {
   "cell_type": "markdown",
   "metadata": {},
   "source": [
    "In standard topic modelling we assume the order of document does not matter and therfore this approach is not suitable for time-stamped data. \n",
    "Dynamic topic modelling on the other end approach to track how languages and topic changes in a time-stamped corpus.\n",
    "\n",
    "_cite this paper from Derek Greene here_"
   ]
  },
  {
   "cell_type": "markdown",
   "metadata": {},
   "source": [
    "### Approach for the topic modelling "
   ]
  },
  {
   "cell_type": "markdown",
   "metadata": {},
   "source": [
    "The proposed approach is a two level one "
   ]
  },
  {
   "cell_type": "markdown",
   "metadata": {},
   "source": [
    "the first step is to divide the corpus into n time windows of equals durations for example days, hours, and any other time windows we want "
   ]
  },
  {
   "cell_type": "markdown",
   "metadata": {},
   "source": [
    "- On the first we apply the topic modelling techic to the document in each time windows to produce windows topics. As per the topic modelling definition the result of this step generate n windowfs topics matrix and each windows we have 2 differents matrix one is the document term matrix $W$ and the other one is the topic term matrix $H$.\n",
    "\n",
    "\n",
    "- On the second  level  we apply another MNF to all topic from step one to find dynamic topic which span multiple times windows. In this step we bacically take the most important topic in each $H$ matrix form step one and stack them row wise to have another topic per time windows and term matrix which we consider as an input matrix after another NMF decomposition of this matrix we have the time topic matrix and another topic term matrix."
   ]
  },
  {
   "cell_type": "markdown",
   "metadata": {},
   "source": [
    "The dynaminc algorithm can be represented in the fololwing steps : "
   ]
  },
  {
   "cell_type": "markdown",
   "metadata": {},
   "source": [
    "- we start with an empty matrix $B$ \n",
    "- for each windows topic model $M_t$: \n",
    "    - for each row in the $M_t$ matrix select $n$ top - ranked topic term and fill the other row with zeroes\n",
    "    - add the vector as a new vector of $B$\n",
    "- Once all the row have been added removed all the colums with zeros everywhere"
   ]
  },
  {
   "cell_type": "markdown",
   "metadata": {},
   "source": [
    "The $B$ resulted from this operation is an $i$ x $m'$ matrix where  i is the number of all the topic documents and m' is the number of most used terms in those topics . from the last step of our algo we can see that $m' <<< m $ with this we can see that we have removed all the terms which are not most used in our timeline"
   ]
  },
  {
   "cell_type": "markdown",
   "metadata": {},
   "source": [
    "#### Analysis of the B matrix "
   ]
  },
  {
   "cell_type": "markdown",
   "metadata": {},
   "source": [
    "We all know that the row of the $B$ matrix are the time windows topic and the columns are the top terms in each time windows topic."
   ]
  },
  {
   "cell_type": "markdown",
   "metadata": {},
   "source": [
    "Having the new $B$ matrix we can now apply another $NMF$  factorization to get the evolution of the dynamic topic over the time. \n",
    "\n",
    "He factorization will of B will yield the following result $B = UV$ , in this decompozition we have 2 matrixes $U$ and $V$.\n",
    "\n",
    "What do we have in those matrixes ? \n",
    "\n",
    "$U$ : the row of this matrix are the time windows topic, and the colums we have the weight of the of each dynamic topic.\n",
    "\n",
    "$V$ : the values in the row are the dynamic topic themselves and the colums are the terms describing the dynamic topics and their weights "
   ]
  },
  {
   "cell_type": "markdown",
   "metadata": {},
   "source": [
    "We can use the weight of the dynamics topic in $U$ to track the evolution of topic over time in our document we can find when it appear and when it when it disapear in the corpus "
   ]
  },
  {
   "cell_type": "markdown",
   "metadata": {},
   "source": [
    "Now let move to the application of those methods and see what result we will get ."
   ]
  },
  {
   "cell_type": "markdown",
   "metadata": {},
   "source": [
    "##### Coding the dynamic topic modelling"
   ]
  },
  {
   "cell_type": "markdown",
   "metadata": {},
   "source": [
    "#### Loading the data"
   ]
  },
  {
   "cell_type": "markdown",
   "metadata": {},
   "source": [
    "In the previous notebook about data cleanning we saved our cleanned dataset under `../data/cleanned_tweets_2021.csv`\n",
    "\n",
    "Here we will just load it and apply a tfid vectorizer to it to get our documend term matrix that we will split into the different time windows "
   ]
  },
  {
   "cell_type": "code",
   "execution_count": 2,
   "metadata": {},
   "outputs": [],
   "source": [
    "import pandas as pd \n",
    "import numpy as np "
   ]
  },
  {
   "cell_type": "code",
   "execution_count": 4,
   "metadata": {},
   "outputs": [],
   "source": [
    "data = pd.read_csv('../data/cleanned_tweets_2021.csv', index_col='id', parse_dates=['created_at'])[['created_at', 'cleanned_text']]"
   ]
  },
  {
   "cell_type": "markdown",
   "metadata": {},
   "source": [
    "Step one split the data into time windows "
   ]
  },
  {
   "cell_type": "code",
   "execution_count": 5,
   "metadata": {},
   "outputs": [],
   "source": [
    "min_date = data.created_at.min().strftime('%d-%b-%Y')"
   ]
  },
  {
   "cell_type": "code",
   "execution_count": 6,
   "metadata": {},
   "outputs": [],
   "source": [
    "max_date = data.created_at.max().strftime('%d-%b-%Y')"
   ]
  },
  {
   "cell_type": "markdown",
   "metadata": {
    "variables": {
     "max_date": "19-Dec-2020",
     "min_date": "13-May-2020"
    }
   },
   "source": [
    "From this we can see that our data where collected from {{min_date}} to {{max_date}}"
   ]
  },
  {
   "cell_type": "code",
   "execution_count": 7,
   "metadata": {},
   "outputs": [
    {
     "data": {
      "text/plain": [
       "(1214425, 2)"
      ]
     },
     "execution_count": 7,
     "metadata": {},
     "output_type": "execute_result"
    }
   ],
   "source": [
    "data.shape"
   ]
  },
  {
   "cell_type": "markdown",
   "metadata": {},
   "source": [
    "let us now split it into differend time windows of different using the week as the time measurement "
   ]
  },
  {
   "cell_type": "code",
   "execution_count": 8,
   "metadata": {},
   "outputs": [],
   "source": [
    "windows_groups = data.groupby(pd.Grouper(key=\"created_at\", freq=\"1W\"))"
   ]
  },
  {
   "cell_type": "code",
   "execution_count": 9,
   "metadata": {},
   "outputs": [],
   "source": [
    "windows_data = [df for time, df in windows_groups if not df.empty]"
   ]
  },
  {
   "cell_type": "code",
   "execution_count": 10,
   "metadata": {},
   "outputs": [
    {
     "data": {
      "text/plain": [
       "15"
      ]
     },
     "execution_count": 10,
     "metadata": {},
     "output_type": "execute_result"
    }
   ],
   "source": [
    "len(windows_data)"
   ]
  },
  {
   "cell_type": "code",
   "execution_count": 11,
   "metadata": {},
   "outputs": [
    {
     "data": {
      "text/html": [
       "<div>\n",
       "<style scoped>\n",
       "    .dataframe tbody tr th:only-of-type {\n",
       "        vertical-align: middle;\n",
       "    }\n",
       "\n",
       "    .dataframe tbody tr th {\n",
       "        vertical-align: top;\n",
       "    }\n",
       "\n",
       "    .dataframe thead th {\n",
       "        text-align: right;\n",
       "    }\n",
       "</style>\n",
       "<table border=\"1\" class=\"dataframe\">\n",
       "  <thead>\n",
       "    <tr style=\"text-align: right;\">\n",
       "      <th></th>\n",
       "      <th>created_at</th>\n",
       "      <th>cleanned_text</th>\n",
       "    </tr>\n",
       "    <tr>\n",
       "      <th>id</th>\n",
       "      <th></th>\n",
       "      <th></th>\n",
       "    </tr>\n",
       "  </thead>\n",
       "  <tbody>\n",
       "    <tr>\n",
       "      <th>1305295242875330560</th>\n",
       "      <td>2020-09-14 00:00:11</td>\n",
       "      <td>viemo pra</td>\n",
       "    </tr>\n",
       "    <tr>\n",
       "      <th>1305295372999421953</th>\n",
       "      <td>2020-09-14 00:00:42</td>\n",
       "      <td>qeum esser</td>\n",
       "    </tr>\n",
       "    <tr>\n",
       "      <th>1305295388610568193</th>\n",
       "      <td>2020-09-14 00:00:46</td>\n",
       "      <td>politique senser transformer positivemer vie p...</td>\n",
       "    </tr>\n",
       "    <tr>\n",
       "      <th>1305295468507934721</th>\n",
       "      <td>2020-09-14 00:01:05</td>\n",
       "      <td>NaN</td>\n",
       "    </tr>\n",
       "    <tr>\n",
       "      <th>1305295505937829889</th>\n",
       "      <td>2020-09-14 00:01:14</td>\n",
       "      <td>girl</td>\n",
       "    </tr>\n",
       "    <tr>\n",
       "      <th>...</th>\n",
       "      <td>...</td>\n",
       "      <td>...</td>\n",
       "    </tr>\n",
       "    <tr>\n",
       "      <th>1307831680040755200</th>\n",
       "      <td>2020-09-20 23:59:05</td>\n",
       "      <td>NaN</td>\n",
       "    </tr>\n",
       "    <tr>\n",
       "      <th>1307831730024390657</th>\n",
       "      <td>2020-09-20 23:59:17</td>\n",
       "      <td>found banking secret politician public figure ...</td>\n",
       "    </tr>\n",
       "    <tr>\n",
       "      <th>1307831752946315270</th>\n",
       "      <td>2020-09-20 23:59:22</td>\n",
       "      <td>retrouvonsnou lundi préparer marche eulsezvinc...</td>\n",
       "    </tr>\n",
       "    <tr>\n",
       "      <th>1307831791919730688</th>\n",
       "      <td>2020-09-20 23:59:32</td>\n",
       "      <td>ndeko rivièr kalamu motuna eza boy bakonzi mbo...</td>\n",
       "    </tr>\n",
       "    <tr>\n",
       "      <th>1307831816452177922</th>\n",
       "      <td>2020-09-20 23:59:38</td>\n",
       "      <td>moteur avion transporter équipe avanc partance...</td>\n",
       "    </tr>\n",
       "  </tbody>\n",
       "</table>\n",
       "<p>115086 rows × 2 columns</p>\n",
       "</div>"
      ],
      "text/plain": [
       "                             created_at  \\\n",
       "id                                        \n",
       "1305295242875330560 2020-09-14 00:00:11   \n",
       "1305295372999421953 2020-09-14 00:00:42   \n",
       "1305295388610568193 2020-09-14 00:00:46   \n",
       "1305295468507934721 2020-09-14 00:01:05   \n",
       "1305295505937829889 2020-09-14 00:01:14   \n",
       "...                                 ...   \n",
       "1307831680040755200 2020-09-20 23:59:05   \n",
       "1307831730024390657 2020-09-20 23:59:17   \n",
       "1307831752946315270 2020-09-20 23:59:22   \n",
       "1307831791919730688 2020-09-20 23:59:32   \n",
       "1307831816452177922 2020-09-20 23:59:38   \n",
       "\n",
       "                                                         cleanned_text  \n",
       "id                                                                      \n",
       "1305295242875330560                                          viemo pra  \n",
       "1305295372999421953                                         qeum esser  \n",
       "1305295388610568193  politique senser transformer positivemer vie p...  \n",
       "1305295468507934721                                                NaN  \n",
       "1305295505937829889                                               girl  \n",
       "...                                                                ...  \n",
       "1307831680040755200                                                NaN  \n",
       "1307831730024390657  found banking secret politician public figure ...  \n",
       "1307831752946315270  retrouvonsnou lundi préparer marche eulsezvinc...  \n",
       "1307831791919730688  ndeko rivièr kalamu motuna eza boy bakonzi mbo...  \n",
       "1307831816452177922  moteur avion transporter équipe avanc partance...  \n",
       "\n",
       "[115086 rows x 2 columns]"
      ]
     },
     "execution_count": 11,
     "metadata": {},
     "output_type": "execute_result"
    }
   ],
   "source": [
    "windows_data[-10]"
   ]
  },
  {
   "cell_type": "markdown",
   "metadata": {
    "variables": {
     "len(windows_data)": "15"
    }
   },
   "source": [
    "After splitting we can find that our dataset is splited in time windows of {{len(windows_data)}} weeks , with the splitting done we can continue with the topic modelling"
   ]
  },
  {
   "cell_type": "markdown",
   "metadata": {},
   "source": [
    "Okay what is next is to start analyzing the topic in each time windows and build a pipeline to cobine the results"
   ]
  },
  {
   "cell_type": "markdown",
   "metadata": {},
   "source": [
    "Should I build the vectorizer for all the topic or for each time windows I need to build  a tokenizer ? "
   ]
  },
  {
   "cell_type": "markdown",
   "metadata": {},
   "source": [
    "Dereek suggest to apply the preproccessing for each time windows , we are going to build the documend term matrix for every timewindows and return the document term matrix for each time windows."
   ]
  },
  {
   "cell_type": "code",
   "execution_count": 12,
   "metadata": {},
   "outputs": [],
   "source": [
    "from sklearn.feature_extraction.text import TfidfVectorizer"
   ]
  },
  {
   "cell_type": "code",
   "execution_count": 13,
   "metadata": {},
   "outputs": [],
   "source": [
    "vectorizer = TfidfVectorizer(lowercase=True, \n",
    "                             strip_accents=\"unicode\", \n",
    "                             ngram_range = (1, 2)) "
   ]
  },
  {
   "cell_type": "code",
   "execution_count": 14,
   "metadata": {},
   "outputs": [
    {
     "data": {
      "text/html": [
       "<div>\n",
       "<style scoped>\n",
       "    .dataframe tbody tr th:only-of-type {\n",
       "        vertical-align: middle;\n",
       "    }\n",
       "\n",
       "    .dataframe tbody tr th {\n",
       "        vertical-align: top;\n",
       "    }\n",
       "\n",
       "    .dataframe thead th {\n",
       "        text-align: right;\n",
       "    }\n",
       "</style>\n",
       "<table border=\"1\" class=\"dataframe\">\n",
       "  <thead>\n",
       "    <tr style=\"text-align: right;\">\n",
       "      <th></th>\n",
       "      <th>created_at</th>\n",
       "      <th>cleanned_text</th>\n",
       "    </tr>\n",
       "    <tr>\n",
       "      <th>id</th>\n",
       "      <th></th>\n",
       "      <th></th>\n",
       "    </tr>\n",
       "  </thead>\n",
       "  <tbody>\n",
       "    <tr>\n",
       "      <th>1266062762716905473</th>\n",
       "      <td>2020-05-28 17:44:19</td>\n",
       "      <td>rwander delegation agreed continuer bilateral ...</td>\n",
       "    </tr>\n",
       "    <tr>\n",
       "      <th>1266062761462767618</th>\n",
       "      <td>2020-05-28 17:44:19</td>\n",
       "      <td>jacquemain shabani appeler jeanmarc kabund tir...</td>\n",
       "    </tr>\n",
       "    <tr>\n",
       "      <th>1266062772405747714</th>\n",
       "      <td>2020-05-28 17:44:21</td>\n",
       "      <td>udps refuser designer candidat remplacer poste...</td>\n",
       "    </tr>\n",
       "    <tr>\n",
       "      <th>1266062774578413568</th>\n",
       "      <td>2020-05-28 17:44:22</td>\n",
       "      <td>jacquemain shabani appeler jeanmarc kabund tir...</td>\n",
       "    </tr>\n",
       "    <tr>\n",
       "      <th>1266062782581047296</th>\n",
       "      <td>2020-05-28 17:44:24</td>\n",
       "      <td>today delegations rwanda meet enhance transbor...</td>\n",
       "    </tr>\n",
       "    <tr>\n",
       "      <th>...</th>\n",
       "      <td>...</td>\n",
       "      <td>...</td>\n",
       "    </tr>\n",
       "    <tr>\n",
       "      <th>1266095024183410693</th>\n",
       "      <td>2020-05-28 19:52:31</td>\n",
       "      <td>quotidien kinshasa chance</td>\n",
       "    </tr>\n",
       "    <tr>\n",
       "      <th>1266095048493498369</th>\n",
       "      <td>2020-05-28 19:52:37</td>\n",
       "      <td>che frega loro hanno tasca nessuno che obbliga...</td>\n",
       "    </tr>\n",
       "    <tr>\n",
       "      <th>1266095057628585984</th>\n",
       "      <td>2020-05-28 19:52:39</td>\n",
       "      <td>chauffeur kényan positif covid rechercher auto...</td>\n",
       "    </tr>\n",
       "    <tr>\n",
       "      <th>1266095082991685632</th>\n",
       "      <td>2020-05-28 19:52:45</td>\n",
       "      <td>grazie vito uno strumento per dignità ogni sin...</td>\n",
       "    </tr>\n",
       "    <tr>\n",
       "      <th>1266095113337528327</th>\n",
       "      <td>2020-05-28 19:52:52</td>\n",
       "      <td>NaN</td>\n",
       "    </tr>\n",
       "  </tbody>\n",
       "</table>\n",
       "<p>2000 rows × 2 columns</p>\n",
       "</div>"
      ],
      "text/plain": [
       "                             created_at  \\\n",
       "id                                        \n",
       "1266062762716905473 2020-05-28 17:44:19   \n",
       "1266062761462767618 2020-05-28 17:44:19   \n",
       "1266062772405747714 2020-05-28 17:44:21   \n",
       "1266062774578413568 2020-05-28 17:44:22   \n",
       "1266062782581047296 2020-05-28 17:44:24   \n",
       "...                                 ...   \n",
       "1266095024183410693 2020-05-28 19:52:31   \n",
       "1266095048493498369 2020-05-28 19:52:37   \n",
       "1266095057628585984 2020-05-28 19:52:39   \n",
       "1266095082991685632 2020-05-28 19:52:45   \n",
       "1266095113337528327 2020-05-28 19:52:52   \n",
       "\n",
       "                                                         cleanned_text  \n",
       "id                                                                      \n",
       "1266062762716905473  rwander delegation agreed continuer bilateral ...  \n",
       "1266062761462767618  jacquemain shabani appeler jeanmarc kabund tir...  \n",
       "1266062772405747714  udps refuser designer candidat remplacer poste...  \n",
       "1266062774578413568  jacquemain shabani appeler jeanmarc kabund tir...  \n",
       "1266062782581047296  today delegations rwanda meet enhance transbor...  \n",
       "...                                                                ...  \n",
       "1266095024183410693                          quotidien kinshasa chance  \n",
       "1266095048493498369  che frega loro hanno tasca nessuno che obbliga...  \n",
       "1266095057628585984  chauffeur kényan positif covid rechercher auto...  \n",
       "1266095082991685632  grazie vito uno strumento per dignità ogni sin...  \n",
       "1266095113337528327                                                NaN  \n",
       "\n",
       "[2000 rows x 2 columns]"
      ]
     },
     "execution_count": 14,
     "metadata": {},
     "output_type": "execute_result"
    }
   ],
   "source": [
    "windows_data[1]"
   ]
  },
  {
   "cell_type": "code",
   "execution_count": 15,
   "metadata": {},
   "outputs": [],
   "source": [
    "windows_data = list(filter( lambda x: not x.empty, windows_data))"
   ]
  },
  {
   "cell_type": "code",
   "execution_count": 16,
   "metadata": {},
   "outputs": [
    {
     "data": {
      "text/plain": [
       "15"
      ]
     },
     "execution_count": 16,
     "metadata": {},
     "output_type": "execute_result"
    }
   ],
   "source": [
    "len(windows_data)"
   ]
  },
  {
   "cell_type": "code",
   "execution_count": 17,
   "metadata": {},
   "outputs": [
    {
     "data": {
      "text/plain": [
       "'présidence cabinet chef cabinet conseiller spécial chef etat matir'"
      ]
     },
     "execution_count": 17,
     "metadata": {},
     "output_type": "execute_result"
    }
   ],
   "source": [
    "windows_data[2].head(49).iloc[1].cleanned_text"
   ]
  },
  {
   "cell_type": "code",
   "execution_count": 18,
   "metadata": {
    "scrolled": true
   },
   "outputs": [],
   "source": [
    "vectorizer = TfidfVectorizer(lowercase=True, \n",
    "                             strip_accents=\"unicode\", \n",
    "                             ngram_range = (1, 2)) \n",
    "doc_term_matrix = vectorizer.fit_transform(windows_data[0].cleanned_text.dropna())"
   ]
  },
  {
   "cell_type": "code",
   "execution_count": 19,
   "metadata": {
    "scrolled": false
   },
   "outputs": [
    {
     "data": {
      "text/plain": [
       "(14561, 53641)"
      ]
     },
     "execution_count": 19,
     "metadata": {},
     "output_type": "execute_result"
    }
   ],
   "source": [
    "doc_term_matrix.shape"
   ]
  },
  {
   "cell_type": "code",
   "execution_count": 20,
   "metadata": {},
   "outputs": [],
   "source": [
    "terms = vectorizer.get_feature_names()"
   ]
  },
  {
   "cell_type": "markdown",
   "metadata": {
    "variables": {
     "doc_term_matrix.shape[0]": "14561",
     "doc_term_matrix.shape[1]": "53641"
    }
   },
   "source": [
    "we have the for the first time windows the a tdifdf matrix of {{doc_term_matrix.shape[0]}} rows and {{doc_term_matrix.shape[1]}} colunms, those columns are the number of words and bi_grams we have in our corpus"
   ]
  },
  {
   "cell_type": "markdown",
   "metadata": {},
   "source": [
    "We can do futher preprocessing by looking into the most common ngrams we have in our corpus by using the following function "
   ]
  },
  {
   "cell_type": "code",
   "execution_count": 21,
   "metadata": {},
   "outputs": [],
   "source": [
    "from operator import itemgetter\n",
    "def rank_terms( doc_term_matrix, terms ):\n",
    "    # get the sums over each column\n",
    "    sums = doc_term_matrix.sum(axis=0)\n",
    "    # map weights to the terms\n",
    "    weights = {}\n",
    "    for col, term in enumerate(terms):\n",
    "        weights[term] = sums[0,col]\n",
    "    # rank the terms by their weight over all documents\n",
    "    return sorted(weights.items(), key=itemgetter(1), reverse=True)"
   ]
  },
  {
   "cell_type": "code",
   "execution_count": 22,
   "metadata": {},
   "outputs": [
    {
     "data": {
      "text/plain": [
       "[('thread', 218.83351691982568),\n",
       " ('zair', 217.28855207461424),\n",
       " ('anecdote', 214.5299626363258),\n",
       " ('anecdote zair', 214.5299626363258),\n",
       " ('thread anecdote', 214.5299626363258),\n",
       " ('covid', 96.90122318562476),\n",
       " ('mai', 91.11460570791263),\n",
       " ('pays', 81.31555017712598),\n",
       " ('jour', 72.42982024090871),\n",
       " ('ministre', 61.22501661962492),\n",
       " ('cas', 60.341136153752345),\n",
       " ('tshisekedi', 59.57607977234457),\n",
       " ('kabila', 56.10635901834737),\n",
       " ('kinshasa', 55.67061650966388),\n",
       " ('general', 54.4249999633158),\n",
       " ('president', 54.33813823016058),\n",
       " ('dire', 48.45230863613515),\n",
       " ('felix', 47.58595614377553),\n",
       " ('national', 46.989097460364775),\n",
       " ('demande', 46.66212030084455),\n",
       " ('passeport', 46.48247484132089),\n",
       " ('arreter', 46.340508559153186),\n",
       " ('felix tshisekedi', 45.19220772334301),\n",
       " ('justice', 44.06933342729221),\n",
       " ('creer', 43.74798354294154),\n",
       " ('pouvoir', 43.652306778435666),\n",
       " ('passer', 41.289866489392864),\n",
       " ('nouveau', 40.89890882983724),\n",
       " ('monde', 40.14428955122549),\n",
       " ('jeune', 39.82796088655963)]"
      ]
     },
     "execution_count": 22,
     "metadata": {},
     "output_type": "execute_result"
    }
   ],
   "source": [
    "rank_terms(doc_term_matrix, terms)[:30]"
   ]
  },
  {
   "cell_type": "markdown",
   "metadata": {},
   "source": [
    "Here we have the twenty most recent terms in the first time windows , let us know apply the topic modelling to it to see how what will result from it"
   ]
  },
  {
   "cell_type": "code",
   "execution_count": 23,
   "metadata": {},
   "outputs": [],
   "source": [
    "k = 15"
   ]
  },
  {
   "cell_type": "markdown",
   "metadata": {
    "variables": {
     "k": "15"
    }
   },
   "source": [
    "let us start with a k = {{k}} and then we will incorporate modele selection and performance measurenment metrics later "
   ]
  },
  {
   "cell_type": "markdown",
   "metadata": {},
   "source": [
    "Non svd is recomend to because it provide more reliable results (cite: https://www.sciencedirect.com/science/article/abs/pii/S0031320307004359?via%3Dihub)\n"
   ]
  },
  {
   "cell_type": "code",
   "execution_count": 24,
   "metadata": {},
   "outputs": [],
   "source": [
    "from sklearn.decomposition import NMF\n",
    "model = NMF(n_components=k, init=\"nndsvd\", random_state=0)"
   ]
  },
  {
   "cell_type": "code",
   "execution_count": 25,
   "metadata": {},
   "outputs": [],
   "source": [
    "model = NMF(n_components=k, init=\"nndsvd\", random_state=0)\n",
    "W = model.fit_transform(doc_term_matrix)\n",
    "H = model.components_"
   ]
  },
  {
   "cell_type": "code",
   "execution_count": 26,
   "metadata": {},
   "outputs": [
    {
     "data": {
      "text/plain": [
       "(14561, 15)"
      ]
     },
     "execution_count": 26,
     "metadata": {},
     "output_type": "execute_result"
    }
   ],
   "source": [
    "W.shape"
   ]
  },
  {
   "cell_type": "code",
   "execution_count": 27,
   "metadata": {},
   "outputs": [
    {
     "data": {
      "text/plain": [
       "array([0.   , 0.   , 0.   , 0.   , 0.   , 0.   , 0.   , 0.014, 0.015,\n",
       "       0.   , 0.   , 0.   , 0.003, 0.   , 0.001])"
      ]
     },
     "execution_count": 27,
     "metadata": {},
     "output_type": "execute_result"
    }
   ],
   "source": [
    "W[3,:].round(3)"
   ]
  },
  {
   "cell_type": "code",
   "execution_count": 28,
   "metadata": {},
   "outputs": [
    {
     "data": {
      "text/plain": [
       "(15, 53641)"
      ]
     },
     "execution_count": 28,
     "metadata": {},
     "output_type": "execute_result"
    }
   ],
   "source": [
    "H.shape"
   ]
  },
  {
   "cell_type": "markdown",
   "metadata": {},
   "source": [
    "H contains the term weight for all topic and in from that we can pick one term and check how it is weigthed in each topic "
   ]
  },
  {
   "cell_type": "code",
   "execution_count": 29,
   "metadata": {},
   "outputs": [
    {
     "data": {
      "text/plain": [
       "array([0.   , 0.   , 0.005, 0.002, 0.   , 0.006, 0.   , 0.   , 0.   ,\n",
       "       0.   , 0.002, 0.   , 0.026, 0.306, 0.   ])"
      ]
     },
     "execution_count": 29,
     "metadata": {},
     "output_type": "execute_result"
    }
   ],
   "source": [
    "term_index = terms.index('passeport')\n",
    "H[:, term_index].round(3)"
   ]
  },
  {
   "cell_type": "markdown",
   "metadata": {},
   "source": [
    "In this we can find that the term passeport is highly linked with approximately 3 topics"
   ]
  },
  {
   "cell_type": "markdown",
   "metadata": {},
   "source": [
    "Let see if now our topic make senses , we will use a functin called topic descriptor , for each topic it will return the top most ranked term in it."
   ]
  },
  {
   "cell_type": "code",
   "execution_count": null,
   "metadata": {},
   "outputs": [],
   "source": []
  },
  {
   "cell_type": "code",
   "execution_count": 30,
   "metadata": {},
   "outputs": [],
   "source": [
    "def get_descriptor( terms, H, topic_index, top ):\n",
    "    # reverse sort the values to sort the indices\n",
    "    top_indices = np.argsort( H[topic_index,:] )[::-1]\n",
    "    # now get the terms corresponding to the top-ranked indices\n",
    "    top_terms = []\n",
    "    for term_index in top_indices[0:top]:\n",
    "        top_terms.append( (terms[term_index], H[topic_index, term_index].round(2)) )\n",
    "    return top_terms"
   ]
  },
  {
   "cell_type": "code",
   "execution_count": 31,
   "metadata": {},
   "outputs": [],
   "source": [
    "def print_topic_descriptor(H, terms):\n",
    "    '''\n",
    "    given the H term print the topic descriptor\n",
    "    '''\n",
    "    descriptors = []\n",
    "    for topic_index in range(H.shape[0]):\n",
    "        descriptor = get_descriptor( terms, H, topic_index, 10 ) \n",
    "        descriptor = [f\"{x[0]}=:{x[1]}\" for x in descriptor]\n",
    "        descriptor = ', '.join(descriptor)\n",
    "        current_topic = topic_index+1\n",
    "        print(f\"Topic {current_topic:.1f} === describe by : {descriptor}\")\n",
    "        print('=:'*20)"
   ]
  },
  {
   "cell_type": "code",
   "execution_count": 32,
   "metadata": {},
   "outputs": [
    {
     "data": {
      "text/plain": [
       "(15, 53641)"
      ]
     },
     "execution_count": 32,
     "metadata": {},
     "output_type": "execute_result"
    }
   ],
   "source": [
    "H.shape"
   ]
  },
  {
   "cell_type": "code",
   "execution_count": 33,
   "metadata": {
    "scrolled": true
   },
   "outputs": [
    {
     "name": "stdout",
     "output_type": "stream",
     "text": [
      "Topic 1.0 === describe by : thread=:2.1, anecdote zair=:2.1, anecdote=:2.1, thread anecdote=:2.1, zair=:2.06, malheur boot=:0.01, zair malheur=:0.01, jour symboliser=:0.01, boot=:0.01, boot puant=:0.01\n",
      "=:=:=:=:=:=:=:=:=:=:=:=:=:=:=:=:=:=:=:=:\n",
      "Topic 2.0 === describe by : leav villag=:0.8, african pygmie=:0.8, world shortest=:0.8, never leav=:0.8, pygmie world=:0.8, shortest set=:0.8, shortest=:0.8, people friendly=:0.8, friendly=:0.8, friendly never=:0.8\n",
      "=:=:=:=:=:=:=:=:=:=:=:=:=:=:=:=:=:=:=:=:\n",
      "Topic 3.0 === describe by : rappeur damso=:0.83, creer fondation=:0.83, damso creer=:0.83, lutter vol=:0.83, vol ressource=:0.83, rappeur=:0.83, fondation afin=:0.83, afin lutter=:0.83, damso=:0.83, ressource naturel=:0.83\n",
      "=:=:=:=:=:=:=:=:=:=:=:=:=:=:=:=:=:=:=:=:\n",
      "Topic 4.0 === describe by : felix tshisekedi=:0.76, felix=:0.76, dossier jour=:0.75, tshisekedi demande=:0.74, general financ=:0.74, demande audit=:0.74, audit inspection=:0.74, inspection=:0.74, financ ministre=:0.74, inspection general=:0.74\n",
      "=:=:=:=:=:=:=:=:=:=:=:=:=:=:=:=:=:=:=:=:\n",
      "Topic 5.0 === describe by : zinc=:0.67, composer cuivre=:0.67, soussol richess=:0.67, richess composer=:0.67, cobalt zinc=:0.67, cuivre=:0.67, cuivre cobalt=:0.67, richesse soussol=:0.67, fer coltan=:0.67, soussol=:0.67\n",
      "=:=:=:=:=:=:=:=:=:=:=:=:=:=:=:=:=:=:=:=:\n",
      "Topic 6.0 === describe by : revolte=:0.67, passer france=:0.67, election miss=:0.67, europe derouler=:0.67, derouler kinshasa=:0.67, derouler=:0.67, france cause=:0.67, kinshasa lieu=:0.67, cause revolte=:0.67, lieu passer=:0.67\n",
      "=:=:=:=:=:=:=:=:=:=:=:=:=:=:=:=:=:=:=:=:\n",
      "Topic 7.0 === describe by : enquete judiciaire=:0.69, jouer dilatoire=:0.68, dilatoire=:0.68, dilatoire enquete=:0.68, soupconner=:0.68, soupconner ministre=:0.67, justice jouer=:0.67, acaj soupconner=:0.67, enquete=:0.67, judiciaire=:0.67\n",
      "=:=:=:=:=:=:=:=:=:=:=:=:=:=:=:=:=:=:=:=:\n",
      "Topic 8.0 === describe by : pari=:0.6, pari mettre=:0.6, france atteri=:0.6, quarantain pouvonsnou=:0.6, mettre quarantain=:0.6, hier provenance=:0.6, atteri=:0.6, passager avion=:0.6, pouvonsnou=:0.6, atteri hier=:0.6\n",
      "=:=:=:=:=:=:=:=:=:=:=:=:=:=:=:=:=:=:=:=:\n",
      "Topic 9.0 === describe by : mai=:0.93, mai jour=:0.91, pose souvent=:0.84, jour ferie=:0.84, ferie pose=:0.84, constat mai=:0.84, ferie=:0.84, souvent savoir=:0.84, constat=:0.84, pose=:0.81\n",
      "=:=:=:=:=:=:=:=:=:=:=:=:=:=:=:=:=:=:=:=:\n",
      "Topic 10.0 === describe by : ministere=:1.53, defense demande=:0.84, obsequ=:0.83, obsequ general=:0.83, defense=:0.8, demande ministere=:0.79, ministere financ=:0.78, financ obsequ=:0.78, ministere defense=:0.77, general=:0.73\n",
      "=:=:=:=:=:=:=:=:=:=:=:=:=:=:=:=:=:=:=:=:\n",
      "Topic 11.0 === describe by : pays=:1.21, terre=:0.76, monde=:0.58, monde qualifier=:0.55, mega octet=:0.55, compte pays=:0.55, qualifier mega=:0.55, octet=:0.55, octet biodiversite=:0.55, pays monde=:0.55\n",
      "=:=:=:=:=:=:=:=:=:=:=:=:=:=:=:=:=:=:=:=:\n",
      "Topic 12.0 === describe by : avatar=:1.18, avatar asap=:0.59, get hood=:0.59, hood=:0.59, asap=:0.59, avatar netflix=:0.59, asap street=:0.59, hood avatar=:0.59, everyone get=:0.59, street hungr=:0.59\n",
      "=:=:=:=:=:=:=:=:=:=:=:=:=:=:=:=:=:=:=:=:\n",
      "Topic 13.0 === describe by : cas=:1.3, confirmer=:0.96, cas confirmer=:0.89, covid=:0.89, total=:0.56, samedi=:0.55, confirmer samedi=:0.53, kongocentral=:0.5, covid cas=:0.5, kinshasa=:0.47\n",
      "=:=:=:=:=:=:=:=:=:=:=:=:=:=:=:=:=:=:=:=:\n",
      "Topic 14.0 === describe by : decision=:0.55, confrontation=:0.48, bruit=:0.46, decision prise=:0.46, diffuser=:0.46, bruit diffuser=:0.46, contrairement bruit=:0.46, aucun decision=:0.46, diffuser aucun=:0.46, contrairement=:0.45\n",
      "=:=:=:=:=:=:=:=:=:=:=:=:=:=:=:=:=:=:=:=:\n",
      "Topic 15.0 === describe by : soutien=:0.76, udp=:0.75, soutien udp=:0.74, menacer petition=:0.71, prison apport=:0.7, apport soutien=:0.7, apport=:0.7, udp menacer=:0.7, petition=:0.69, menacer=:0.67\n",
      "=:=:=:=:=:=:=:=:=:=:=:=:=:=:=:=:=:=:=:=:\n"
     ]
    }
   ],
   "source": [
    "print_topic_descriptor(H, terms)"
   ]
  },
  {
   "cell_type": "markdown",
   "metadata": {},
   "source": [
    "From a human evaluation percepective the topic and the description make sense we can now see how the. enmbedding train in our corpus make sense in for those"
   ]
  },
  {
   "cell_type": "markdown",
   "metadata": {},
   "source": [
    "### Evaluation of our models and parameter selection "
   ]
  },
  {
   "cell_type": "markdown",
   "metadata": {},
   "source": [
    "In this we will use coherence measures using embeddings to detects how good are our generated topics. \n",
    "\n",
    "what are those coherence measures? \n",
    "\n",
    "Here we will define the topice coherence which the sum of pair wise similaries of words that describes a topic? _why not weigthed it by topic weigth?_\n",
    "\n",
    "Basically it is define as \n",
    "\n",
    "\n",
    "For each topic we can do :\n",
    "\n",
    "$TC =  \\sum_{j=2}^{N}\\sum_{i=2}^{j-1}{similarity(w_i, w_j)}$\n",
    "\n",
    "\n",
    "For all the topics we define it as : \n",
    "\n",
    "it is the mean of TC for all the topic in the $H$ matrix "
   ]
  },
  {
   "cell_type": "markdown",
   "metadata": {},
   "source": [
    "The similarity measure we use is the cosine distance between the enmbeddings of words we have in our corpus. We can use any enmbedding techinc but here we suggest to learn embedding for our corpus since we have many term specific to the congolese context which are not in the well know enmbeddings "
   ]
  },
  {
   "cell_type": "markdown",
   "metadata": {},
   "source": [
    "#### Learning words embeddings"
   ]
  },
  {
   "cell_type": "markdown",
   "metadata": {},
   "source": [
    "We are planning to use pmi mutual information to train our word embeddings , and we evaluate the results and how they perform for mostly misspeled words if they are not performing well we will try to train a custom character level embeddings"
   ]
  },
  {
   "cell_type": "markdown",
   "metadata": {},
   "source": [
    "We need to check [this](https://towardsdatascience.com/embedding-for-spelling-correction-92c93f835d79) to check how we can improve our embeddings to take into consideration misspled words "
   ]
  },
  {
   "cell_type": "markdown",
   "metadata": {},
   "source": [
    "Cite the facebook paper where they build a model to check for misspled charactere\n",
    "\n",
    "This one : __*arXiv:1905.09755v1 [cs.CL] 23 May 2019*__"
   ]
  },
  {
   "cell_type": "markdown",
   "metadata": {},
   "source": [
    "continue wih this research to complete the embedding trainning \n",
    "\n",
    "https://www.kaggle.com/alexklibisz/simple-word-vectors-with-co-occurrence-pmi-and-svd"
   ]
  },
  {
   "cell_type": "markdown",
   "metadata": {},
   "source": [
    "We are planning to use to train the charactere n-gram embedding"
   ]
  },
  {
   "cell_type": "markdown",
   "metadata": {},
   "source": [
    "@article{bojanowski2017enriching,\n",
    "  title={Enriching Word Vectors with Subword Information},\n",
    "  author={Bojanowski, Piotr and Grave, Edouard and Joulin, Armand and Mikolov, Tomas},\n",
    "  journal={Transactions of the Association for Computational Linguistics},\n",
    "  volume={5},\n",
    "  year={2017},\n",
    "  issn={2307-387X},\n",
    "  pages={135--146}\n",
    "}"
   ]
  },
  {
   "cell_type": "markdown",
   "metadata": {},
   "source": [
    "#### Creating The Topics "
   ]
  },
  {
   "cell_type": "markdown",
   "metadata": {},
   "source": [
    "First let us create a number of differents topics models with differents k as the number of topics"
   ]
  },
  {
   "cell_type": "code",
   "execution_count": 34,
   "metadata": {},
   "outputs": [],
   "source": [
    "k_min = 4\n",
    "k_max = 20\n",
    "topic_models = []\n",
    "# try each value of k\n",
    "for k in range(k_min, k_max):\n",
    "    model = NMF(n_components=k, init=\"nndsvd\", random_state=0)\n",
    "    W = model.fit_transform(doc_term_matrix)\n",
    "    H = model.components_\n",
    "    topic_models.append( (k,W,H) )"
   ]
  },
  {
   "cell_type": "markdown",
   "metadata": {},
   "source": [
    "#### Loading words Embeddings"
   ]
  },
  {
   "cell_type": "markdown",
   "metadata": {},
   "source": [
    "In the previous notebook we trained a words embedding on our corpus of tweets, let us load the emdedding model we trained and use it to calculate word similarity."
   ]
  },
  {
   "cell_type": "code",
   "execution_count": 35,
   "metadata": {},
   "outputs": [],
   "source": [
    "from gensim.models.fasttext import FastText as FT_gensim\n",
    "from gensim.test.utils import datapath\n",
    "from pathlib import Path"
   ]
  },
  {
   "cell_type": "code",
   "execution_count": 36,
   "metadata": {},
   "outputs": [],
   "source": [
    "model_path = Path.cwd().parent.joinpath('models', 'embeddings_one_gram_fast_tweets_only').__str__()\n",
    "model_gensim = FT_gensim.load(model_path)"
   ]
  },
  {
   "cell_type": "markdown",
   "metadata": {},
   "source": [
    "to evaluate word embeding for our words we will be using the model.wv function that return the words vector as a numpy array."
   ]
  },
  {
   "cell_type": "markdown",
   "metadata": {},
   "source": [
    "let also build a function that return the vector enmbdding for a bigram as an average of the two words it is build with "
   ]
  },
  {
   "cell_type": "code",
   "execution_count": 37,
   "metadata": {},
   "outputs": [
    {
     "data": {
      "text/plain": [
       "['thisisanunigram']"
      ]
     },
     "execution_count": 37,
     "metadata": {},
     "output_type": "execute_result"
    }
   ],
   "source": [
    "'thisisanunigram'.split(' ')"
   ]
  },
  {
   "cell_type": "code",
   "execution_count": 38,
   "metadata": {},
   "outputs": [],
   "source": [
    "def check_bigram(word):\n",
    "    '''\n",
    "    check if the given word passed in parameter is a bigram or not\n",
    "    '''\n",
    "    if len(word.split(' ')) == 2:\n",
    "        return True\n",
    "    return False"
   ]
  },
  {
   "cell_type": "code",
   "execution_count": 39,
   "metadata": {},
   "outputs": [],
   "source": [
    "def get_bi_grams_vector(string):\n",
    "    word1, words2 = string.split(' ')\n",
    "    bigram_vector = np.mean([model_gensim.wv.get_vector(word1),  model_gensim.wv.get_vector(words2)], axis=0)\n",
    "    return bigram_vector"
   ]
  },
  {
   "cell_type": "code",
   "execution_count": 40,
   "metadata": {
    "scrolled": true
   },
   "outputs": [
    {
     "data": {
      "text/plain": [
       "array([ 2.12900341e-01, -3.69229388e+00, -5.72192955e+00,  2.51046181e+00,\n",
       "       -6.66270161e+00, -6.05328083e-01, -2.96665549e+00, -7.59294569e-01,\n",
       "       -3.16830492e+00, -9.70456064e-01, -1.73490787e+00,  8.57101023e-01,\n",
       "       -1.16333224e-01, -1.75394261e+00, -3.08472729e+00, -2.72420144e+00,\n",
       "        1.62344599e+00,  1.66454208e+00, -2.64385402e-01,  9.97361541e-01,\n",
       "       -7.18931794e-01, -3.04594904e-01, -7.49851346e-01, -2.44171079e-02,\n",
       "       -1.96199679e+00, -2.65796733e+00,  6.13955548e-03, -1.62095356e+00,\n",
       "       -4.67886877e+00, -3.27848721e+00, -7.02117682e-01,  3.15442562e+00,\n",
       "       -4.45284694e-01, -2.11127138e+00,  7.33822227e-01,  2.11628199e+00,\n",
       "       -2.49914694e+00,  6.66608751e-01, -1.94228089e+00,  1.49817371e+00,\n",
       "        2.85460025e-01,  2.29619169e+00, -4.94098485e-01,  4.51592684e+00,\n",
       "       -1.97364056e+00,  3.65440893e+00,  1.33995616e+00, -2.40125179e+00,\n",
       "        8.41637015e-01, -5.86910105e+00], dtype=float32)"
      ]
     },
     "execution_count": 40,
     "metadata": {},
     "output_type": "execute_result"
    }
   ],
   "source": [
    "model_gensim.wv.get_vector('president')"
   ]
  },
  {
   "cell_type": "code",
   "execution_count": 41,
   "metadata": {
    "scrolled": true
   },
   "outputs": [
    {
     "data": {
      "text/plain": [
       "(50, 1)"
      ]
     },
     "execution_count": 41,
     "metadata": {},
     "output_type": "execute_result"
    }
   ],
   "source": [
    "get_bi_grams_vector('felix tshisekedi').reshape(-1, 1).shape"
   ]
  },
  {
   "cell_type": "code",
   "execution_count": 42,
   "metadata": {},
   "outputs": [
    {
     "ename": "NameError",
     "evalue": "name 'w' is not defined",
     "output_type": "error",
     "traceback": [
      "\u001b[0;31m---------------------\u001b[0m",
      "\u001b[0;31mNameError\u001b[0mTraceback (most recent call last)",
      "\u001b[0;32m<ipython-input-42-74c7db5447c3>\u001b[0m in \u001b[0;36m<module>\u001b[0;34m\u001b[0m\n\u001b[0;32m----> 1\u001b[0;31m \u001b[0mw\u001b[0m\u001b[0;34m\u001b[0m\u001b[0m\n\u001b[0m",
      "\u001b[0;31mNameError\u001b[0m: name 'w' is not defined"
     ]
    }
   ],
   "source": [
    "w"
   ]
  },
  {
   "cell_type": "code",
   "execution_count": 43,
   "metadata": {},
   "outputs": [
    {
     "ename": "NameError",
     "evalue": "name 'compute_cosine_similarity' is not defined",
     "output_type": "error",
     "traceback": [
      "\u001b[0;31m---------------------\u001b[0m",
      "\u001b[0;31mNameError\u001b[0mTraceback (most recent call last)",
      "\u001b[0;32m<ipython-input-43-911aeba132fd>\u001b[0m in \u001b[0;36m<module>\u001b[0;34m\u001b[0m\n\u001b[0;32m----> 1\u001b[0;31m \u001b[0mcompute_cosine_similarity\u001b[0m\u001b[0;34m(\u001b[0m\u001b[0mget_bi_grams_vector\u001b[0m\u001b[0;34m(\u001b[0m\u001b[0;34m'felix tshisekedi'\u001b[0m\u001b[0;34m)\u001b[0m\u001b[0;34m,\u001b[0m \u001b[0mmodel_gensim\u001b[0m\u001b[0;34m.\u001b[0m\u001b[0mwv\u001b[0m\u001b[0;34m.\u001b[0m\u001b[0mget_vector\u001b[0m\u001b[0;34m(\u001b[0m\u001b[0;34m'president'\u001b[0m\u001b[0;34m)\u001b[0m\u001b[0;34m)\u001b[0m\u001b[0;34m\u001b[0m\u001b[0m\n\u001b[0m",
      "\u001b[0;31mNameError\u001b[0m: name 'compute_cosine_similarity' is not defined"
     ]
    }
   ],
   "source": [
    "compute_cosine_similarity(get_bi_grams_vector('felix tshisekedi'), model_gensim.wv.get_vector('president'))"
   ]
  },
  {
   "cell_type": "code",
   "execution_count": 44,
   "metadata": {},
   "outputs": [],
   "source": [
    "def get_word_vector(word):\n",
    "    \"\"\"\n",
    "    chef if a word is a bigram and return the correponding enmbeddings\n",
    "    \"\"\"\n",
    "    if check_bigram(word):\n",
    "        return get_bi_grams_vector(word)\n",
    "    return model_gensim.wv.get_vector(word)"
   ]
  },
  {
   "cell_type": "code",
   "execution_count": 45,
   "metadata": {},
   "outputs": [],
   "source": [
    "### Todos : all those function should be put in a class topic descriptor"
   ]
  },
  {
   "cell_type": "code",
   "execution_count": 46,
   "metadata": {},
   "outputs": [],
   "source": [
    "from itertools import combinations"
   ]
  },
  {
   "cell_type": "code",
   "execution_count": 47,
   "metadata": {},
   "outputs": [
    {
     "ename": "NameError",
     "evalue": "name 'topic_index' is not defined",
     "output_type": "error",
     "traceback": [
      "\u001b[0;31m---------------------\u001b[0m",
      "\u001b[0;31mNameError\u001b[0mTraceback (most recent call last)",
      "\u001b[0;32m<ipython-input-47-721d4ac13706>\u001b[0m in \u001b[0;36m<module>\u001b[0;34m\u001b[0m\n\u001b[0;32m----> 1\u001b[0;31m \u001b[0mtopic_descriptor\u001b[0m \u001b[0;34m=\u001b[0m \u001b[0mget_descriptor\u001b[0m\u001b[0;34m(\u001b[0m \u001b[0mterms\u001b[0m\u001b[0;34m,\u001b[0m \u001b[0mH\u001b[0m\u001b[0;34m,\u001b[0m \u001b[0mtopic_index\u001b[0m\u001b[0;34m,\u001b[0m \u001b[0;36m15\u001b[0m\u001b[0;34m)\u001b[0m\u001b[0;34m\u001b[0m\u001b[0m\n\u001b[0m",
      "\u001b[0;31mNameError\u001b[0m: name 'topic_index' is not defined"
     ]
    }
   ],
   "source": [
    "topic_descriptor = get_descriptor( terms, H, topic_index, 15) "
   ]
  },
  {
   "cell_type": "code",
   "execution_count": 48,
   "metadata": {},
   "outputs": [],
   "source": [
    "def calculate_topic_coherence(topic_descriptor):\n",
    "    \"\"\"\n",
    "    take the term ranking and compute the corherence between the term\n",
    "    \"\"\"\n",
    "    topics_terms = [x[0] for x in topic_descriptor]\n",
    "    pairs_array = np.array(list(combinations(topics_terms, 2)))\n",
    "    pairs_vectors = np.apply_along_axis(compute_cosine_similarity, 1, pairs_array)\n",
    "    return pairs_vectors.mean()"
   ]
  },
  {
   "cell_type": "code",
   "execution_count": 49,
   "metadata": {},
   "outputs": [],
   "source": [
    "def compute_overhall_topic_coherence(H):\n",
    "    '''\n",
    "    compute the overhall topic cohence for a topic model\n",
    "    H is the topic term matrix\n",
    "    '''\n",
    "    overhall_coherence = []\n",
    "    for topic_index in range(H.shape[0]):\n",
    "        topic_descriptor = get_descriptor(terms, H, topic_index, 10)\n",
    "        coherence = calculate_topic_coherence(topic_descriptor)\n",
    "        overhall_coherence.append(coherence)\n",
    "    return np.array(overhall_coherence).mean()\n",
    "        \n",
    "    "
   ]
  },
  {
   "cell_type": "code",
   "execution_count": 50,
   "metadata": {},
   "outputs": [],
   "source": [
    "def get_best_coherence(topic_models):\n",
    "    \"\"\"\n",
    "    return a dict of the k and the coresponding topic for ploting purpose\n",
    "    \"\"\"\n",
    "    coherences_k = dict()\n",
    "    for (k,W,H) in topic_models:\n",
    "        coherence = compute_overhall_topic_coherence(H)\n",
    "        coherences_k[k] = coherence\n",
    "        print(\"for k = {} the coherence is {:.2f}\".format(k, coherence))\n",
    "    return coherences_k"
   ]
  },
  {
   "cell_type": "code",
   "execution_count": 51,
   "metadata": {},
   "outputs": [],
   "source": [
    "%matplotlib inline\n",
    "import matplotlib\n",
    "import matplotlib.pyplot as plt\n",
    "plt.style.use(\"ggplot\")\n",
    "matplotlib.rcParams.update({\"font.size\": 14})"
   ]
  },
  {
   "cell_type": "code",
   "execution_count": 52,
   "metadata": {},
   "outputs": [],
   "source": [
    "def plot_topic_coherence(coherences_k):\n",
    "    '''\n",
    "    plot the coherence for each k in the topic model\n",
    "    '''\n",
    "    fig = plt.figure(figsize=(13,7))\n",
    "    # create the line plot\n",
    "    ax = plt.plot(coherences_k.keys(), coherences_k.values() )\n",
    "    plt.xticks(list(coherences_k.keys()))\n",
    "    plt.xlabel(\"Number of Topics\")\n",
    "    plt.ylabel(\"Mean Coherence\")\n",
    "    # add the points\n",
    "    plt.scatter(coherences_k.keys(), coherences_k.values(), s=120)\n",
    "    # find and annotate the maximum point on the plot\n",
    "    ymax = max(coherences_k.values())\n",
    "    best_k =  max(coherences_k, key=coherences_k.get)\n",
    "    plt.annotate( \"k={}\".format(best_k), xy=(best_k, ymax), xytext=(best_k, ymax), textcoords=\"offset points\", fontsize=16)\n",
    "    # show the plot\n",
    "    plt.show()"
   ]
  },
  {
   "cell_type": "code",
   "execution_count": 53,
   "metadata": {},
   "outputs": [
    {
     "ename": "NameError",
     "evalue": "name 'compute_cosine_similarity' is not defined",
     "output_type": "error",
     "traceback": [
      "\u001b[0;31m---------------------\u001b[0m",
      "\u001b[0;31mNameError\u001b[0mTraceback (most recent call last)",
      "\u001b[0;32m<ipython-input-53-845d0f3ea953>\u001b[0m in \u001b[0;36m<module>\u001b[0;34m\u001b[0m\n\u001b[0;32m----> 1\u001b[0;31m \u001b[0mcoherences_k\u001b[0m \u001b[0;34m=\u001b[0m \u001b[0mget_best_coherence\u001b[0m\u001b[0;34m(\u001b[0m\u001b[0mtopic_models\u001b[0m\u001b[0;34m)\u001b[0m\u001b[0;34m\u001b[0m\u001b[0m\n\u001b[0m",
      "\u001b[0;32m<ipython-input-50-97626a035daf>\u001b[0m in \u001b[0;36mget_best_coherence\u001b[0;34m(topic_models)\u001b[0m\n\u001b[1;32m      5\u001b[0m     \u001b[0mcoherences_k\u001b[0m \u001b[0;34m=\u001b[0m \u001b[0mdict\u001b[0m\u001b[0;34m(\u001b[0m\u001b[0;34m)\u001b[0m\u001b[0;34m\u001b[0m\u001b[0m\n\u001b[1;32m      6\u001b[0m     \u001b[0;32mfor\u001b[0m \u001b[0;34m(\u001b[0m\u001b[0mk\u001b[0m\u001b[0;34m,\u001b[0m\u001b[0mW\u001b[0m\u001b[0;34m,\u001b[0m\u001b[0mH\u001b[0m\u001b[0;34m)\u001b[0m \u001b[0;32min\u001b[0m \u001b[0mtopic_models\u001b[0m\u001b[0;34m:\u001b[0m\u001b[0;34m\u001b[0m\u001b[0m\n\u001b[0;32m----> 7\u001b[0;31m         \u001b[0mcoherence\u001b[0m \u001b[0;34m=\u001b[0m \u001b[0mcompute_overhall_topic_coherence\u001b[0m\u001b[0;34m(\u001b[0m\u001b[0mH\u001b[0m\u001b[0;34m)\u001b[0m\u001b[0;34m\u001b[0m\u001b[0m\n\u001b[0m\u001b[1;32m      8\u001b[0m         \u001b[0mcoherences_k\u001b[0m\u001b[0;34m[\u001b[0m\u001b[0mk\u001b[0m\u001b[0;34m]\u001b[0m \u001b[0;34m=\u001b[0m \u001b[0mcoherence\u001b[0m\u001b[0;34m\u001b[0m\u001b[0m\n\u001b[1;32m      9\u001b[0m         \u001b[0mprint\u001b[0m\u001b[0;34m(\u001b[0m\u001b[0;34m\"for k = {} the coherence is {:.2f}\"\u001b[0m\u001b[0;34m.\u001b[0m\u001b[0mformat\u001b[0m\u001b[0;34m(\u001b[0m\u001b[0mk\u001b[0m\u001b[0;34m,\u001b[0m \u001b[0mcoherence\u001b[0m\u001b[0;34m)\u001b[0m\u001b[0;34m)\u001b[0m\u001b[0;34m\u001b[0m\u001b[0m\n",
      "\u001b[0;32m<ipython-input-49-bd80f2113345>\u001b[0m in \u001b[0;36mcompute_overhall_topic_coherence\u001b[0;34m(H)\u001b[0m\n\u001b[1;32m      7\u001b[0m     \u001b[0;32mfor\u001b[0m \u001b[0mtopic_index\u001b[0m \u001b[0;32min\u001b[0m \u001b[0mrange\u001b[0m\u001b[0;34m(\u001b[0m\u001b[0mH\u001b[0m\u001b[0;34m.\u001b[0m\u001b[0mshape\u001b[0m\u001b[0;34m[\u001b[0m\u001b[0;36m0\u001b[0m\u001b[0;34m]\u001b[0m\u001b[0;34m)\u001b[0m\u001b[0;34m:\u001b[0m\u001b[0;34m\u001b[0m\u001b[0m\n\u001b[1;32m      8\u001b[0m         \u001b[0mtopic_descriptor\u001b[0m \u001b[0;34m=\u001b[0m \u001b[0mget_descriptor\u001b[0m\u001b[0;34m(\u001b[0m\u001b[0mterms\u001b[0m\u001b[0;34m,\u001b[0m \u001b[0mH\u001b[0m\u001b[0;34m,\u001b[0m \u001b[0mtopic_index\u001b[0m\u001b[0;34m,\u001b[0m \u001b[0;36m10\u001b[0m\u001b[0;34m)\u001b[0m\u001b[0;34m\u001b[0m\u001b[0m\n\u001b[0;32m----> 9\u001b[0;31m         \u001b[0mcoherence\u001b[0m \u001b[0;34m=\u001b[0m \u001b[0mcalculate_topic_coherence\u001b[0m\u001b[0;34m(\u001b[0m\u001b[0mtopic_descriptor\u001b[0m\u001b[0;34m)\u001b[0m\u001b[0;34m\u001b[0m\u001b[0m\n\u001b[0m\u001b[1;32m     10\u001b[0m         \u001b[0moverhall_coherence\u001b[0m\u001b[0;34m.\u001b[0m\u001b[0mappend\u001b[0m\u001b[0;34m(\u001b[0m\u001b[0mcoherence\u001b[0m\u001b[0;34m)\u001b[0m\u001b[0;34m\u001b[0m\u001b[0m\n\u001b[1;32m     11\u001b[0m     \u001b[0;32mreturn\u001b[0m \u001b[0mnp\u001b[0m\u001b[0;34m.\u001b[0m\u001b[0marray\u001b[0m\u001b[0;34m(\u001b[0m\u001b[0moverhall_coherence\u001b[0m\u001b[0;34m)\u001b[0m\u001b[0;34m.\u001b[0m\u001b[0mmean\u001b[0m\u001b[0;34m(\u001b[0m\u001b[0;34m)\u001b[0m\u001b[0;34m\u001b[0m\u001b[0m\n",
      "\u001b[0;32m<ipython-input-48-f170cc975262>\u001b[0m in \u001b[0;36mcalculate_topic_coherence\u001b[0;34m(topic_descriptor)\u001b[0m\n\u001b[1;32m      5\u001b[0m     \u001b[0mtopics_terms\u001b[0m \u001b[0;34m=\u001b[0m \u001b[0;34m[\u001b[0m\u001b[0mx\u001b[0m\u001b[0;34m[\u001b[0m\u001b[0;36m0\u001b[0m\u001b[0;34m]\u001b[0m \u001b[0;32mfor\u001b[0m \u001b[0mx\u001b[0m \u001b[0;32min\u001b[0m \u001b[0mtopic_descriptor\u001b[0m\u001b[0;34m]\u001b[0m\u001b[0;34m\u001b[0m\u001b[0m\n\u001b[1;32m      6\u001b[0m     \u001b[0mpairs_array\u001b[0m \u001b[0;34m=\u001b[0m \u001b[0mnp\u001b[0m\u001b[0;34m.\u001b[0m\u001b[0marray\u001b[0m\u001b[0;34m(\u001b[0m\u001b[0mlist\u001b[0m\u001b[0;34m(\u001b[0m\u001b[0mcombinations\u001b[0m\u001b[0;34m(\u001b[0m\u001b[0mtopics_terms\u001b[0m\u001b[0;34m,\u001b[0m \u001b[0;36m2\u001b[0m\u001b[0;34m)\u001b[0m\u001b[0;34m)\u001b[0m\u001b[0;34m)\u001b[0m\u001b[0;34m\u001b[0m\u001b[0m\n\u001b[0;32m----> 7\u001b[0;31m     \u001b[0mpairs_vectors\u001b[0m \u001b[0;34m=\u001b[0m \u001b[0mnp\u001b[0m\u001b[0;34m.\u001b[0m\u001b[0mapply_along_axis\u001b[0m\u001b[0;34m(\u001b[0m\u001b[0mcompute_cosine_similarity\u001b[0m\u001b[0;34m,\u001b[0m \u001b[0;36m1\u001b[0m\u001b[0;34m,\u001b[0m \u001b[0mpairs_array\u001b[0m\u001b[0;34m)\u001b[0m\u001b[0;34m\u001b[0m\u001b[0m\n\u001b[0m\u001b[1;32m      8\u001b[0m     \u001b[0;32mreturn\u001b[0m \u001b[0mpairs_vectors\u001b[0m\u001b[0;34m.\u001b[0m\u001b[0mmean\u001b[0m\u001b[0;34m(\u001b[0m\u001b[0;34m)\u001b[0m\u001b[0;34m\u001b[0m\u001b[0m\n",
      "\u001b[0;31mNameError\u001b[0m: name 'compute_cosine_similarity' is not defined"
     ]
    }
   ],
   "source": [
    "coherences_k = get_best_coherence(topic_models)"
   ]
  },
  {
   "cell_type": "code",
   "execution_count": 54,
   "metadata": {},
   "outputs": [
    {
     "ename": "NameError",
     "evalue": "name 'coherences_k' is not defined",
     "output_type": "error",
     "traceback": [
      "\u001b[0;31m---------------------\u001b[0m",
      "\u001b[0;31mNameError\u001b[0mTraceback (most recent call last)",
      "\u001b[0;32m<ipython-input-54-cae926ec9739>\u001b[0m in \u001b[0;36m<module>\u001b[0;34m\u001b[0m\n\u001b[0;32m----> 1\u001b[0;31m \u001b[0mcoherences_k\u001b[0m\u001b[0;34m\u001b[0m\u001b[0m\n\u001b[0m",
      "\u001b[0;31mNameError\u001b[0m: name 'coherences_k' is not defined"
     ]
    }
   ],
   "source": [
    "coherences_k"
   ]
  },
  {
   "cell_type": "code",
   "execution_count": 55,
   "metadata": {
    "scrolled": true
   },
   "outputs": [
    {
     "ename": "NameError",
     "evalue": "name 'coherences_k' is not defined",
     "output_type": "error",
     "traceback": [
      "\u001b[0;31m---------------------\u001b[0m",
      "\u001b[0;31mNameError\u001b[0mTraceback (most recent call last)",
      "\u001b[0;32m<ipython-input-55-4e4195e30e81>\u001b[0m in \u001b[0;36m<module>\u001b[0;34m\u001b[0m\n\u001b[0;32m----> 1\u001b[0;31m \u001b[0mplot_topic_coherence\u001b[0m\u001b[0;34m(\u001b[0m\u001b[0mcoherences_k\u001b[0m\u001b[0;34m)\u001b[0m\u001b[0;34m\u001b[0m\u001b[0m\n\u001b[0m",
      "\u001b[0;31mNameError\u001b[0m: name 'coherences_k' is not defined"
     ]
    }
   ],
   "source": [
    "plot_topic_coherence(coherences_k)"
   ]
  },
  {
   "cell_type": "markdown",
   "metadata": {},
   "source": [
    "- Here we are done with the coherence measure for the topic porject , \n",
    "\n",
    "Here are the questions that arises,\n",
    "\n",
    "Why not combining the weigthed correlation to get the coherences in topics \n",
    "- combine also with the choice of topics by the number of words in the topic terms or take all and calculate "
   ]
  },
  {
   "cell_type": "code",
   "execution_count": 250,
   "metadata": {},
   "outputs": [],
   "source": [
    "def create_topic_model(windows_doc):\n",
    "    \"\"\"\n",
    "    given a a dataframe of time windows generate an array of topic models\n",
    "    return the list of all terms and the list of different topics models for different k\n",
    "    \"\"\"\n",
    "    vectorizer = TfidfVectorizer(lowercase=True, \n",
    "                                 strip_accents=\"unicode\", \n",
    "                                 ngram_range = (1, 2)) \n",
    "    doc_term_matrix = vectorizer.fit_transform(windows_doc.cleanned_text.dropna())\n",
    "    terms = vectorizer.get_feature_names()\n",
    "    k_min = 4\n",
    "    k_max = 20\n",
    "    topic_models = []\n",
    "    # try each value of k\n",
    "    for k in range(k_min, k_max):\n",
    "        model = NMF(n_components=k, init=\"nndsvd\", random_state=0)\n",
    "        W = model.fit_transform(doc_term_matrix)\n",
    "        H = model.components_\n",
    "        topic_models.append( (k,W,H) )\n",
    "    return topic_models, terms"
   ]
  },
  {
   "cell_type": "markdown",
   "metadata": {},
   "source": [
    "### Putting everything together "
   ]
  },
  {
   "cell_type": "code",
   "execution_count": 56,
   "metadata": {},
   "outputs": [],
   "source": [
    "# %load ../topic_modeling/dynamic_nmf.py\n",
    "\"\"\"\n",
    "this package hold the code for the dynamic topic modeling with the nmf\n",
    "\"\"\"\n",
    "import pandas as pd\n",
    "import numpy as np\n",
    "from pathlib import Path\n",
    "from gensim.models.fasttext import FastText as FT_gensim\n",
    "from gensim.test.utils import datapath\n",
    "from sklearn.feature_extraction.text import TfidfVectorizer\n",
    "from sklearn.decomposition import NMF\n",
    "from itertools import combinations\n",
    "import matplotlib\n",
    "import matplotlib.pyplot as plt\n",
    "plt.style.use(\"ggplot\")\n",
    "matplotlib.rcParams.update({\"font.size\": 14})\n",
    "\n",
    "\n",
    "class DynamicNMF:\n",
    "    def __init__(self):\n",
    "        self.read_data()\n",
    "        self.min_date = self.data.created_at.min().strftime('%d-%b-%Y')\n",
    "        self.max_date = self.data.created_at.max().strftime('%d-%b-%Y')\n",
    "        self.split_into_windows_docs()\n",
    "\n",
    "    def read_data(self, dataset_name='cleanned_tweets_2021.csv'):\n",
    "        \"\"\"\n",
    "        read the dataset and return it in a pandas dataframe\n",
    "\n",
    "        Args:\n",
    "            dataset_name (str, optional): [description]. Defaults to\n",
    "            'cleanned_tweets_2021.csv'.\n",
    "        \"\"\"\n",
    "        self.data_path = Path.cwd().parent.joinpath('data', dataset_name)\n",
    "        self.data = pd.read_csv(self.data_path, index_col='id', \n",
    "                                parse_dates=['created_at'])\n",
    "        self.data = self.data[['created_at', 'cleanned_text']]\n",
    "    \n",
    "    def split_into_windows_docs(self, freq='1W'):\n",
    "        \"\"\"\n",
    "        split the data into different windows document of the given length\n",
    "\n",
    "        Args:\n",
    "            freq (str, optional): [description]. Defaults to '1W'.\n",
    "        \"\"\"\n",
    "        self.windows_groups = self.data.groupby(pd.Grouper(key=\"created_at\",\n",
    "                                                           freq=freq))\n",
    "        self.windows_data = [df for time, df in self.windows_groups if not df.empty]\n",
    "    \n",
    "    def create_topic_model(self, windows_doc):\n",
    "        \"\"\"\n",
    "        given a a dataframe of time windows generate an array of topic models\n",
    "        return the list of all terms and the list of different topics models\n",
    "        for different k\n",
    "        \"\"\"\n",
    "        vectorizer = TfidfVectorizer(lowercase=True,\n",
    "                                     strip_accents=\"unicode\",\n",
    "                                     ngram_range=(1, 2))\n",
    "        doc_term_matrix = vectorizer\\\n",
    "            .fit_transform(windows_doc.cleanned_text.dropna())\n",
    "        terms = vectorizer.get_feature_names()\n",
    "        k_min = 4\n",
    "        k_max = 20\n",
    "        topic_models = []\n",
    "        # try each value of k\n",
    "        for k in range(k_min, k_max):\n",
    "            model = NMF(n_components=k, init=\"nndsvd\", random_state=0)\n",
    "            W = model.fit_transform(doc_term_matrix)\n",
    "            H = model.components_\n",
    "            topic_models.append((k, W, H))\n",
    "        return {\"topic_models\": topic_models, \"terms\": terms}\n",
    "    \n",
    "    def get_descriptor(self, terms, H, topic_index, top):\n",
    "        \"\"\"\n",
    "        get the topic descriptor for the given term\n",
    "\n",
    "        Args:\n",
    "            terms ([type]): [description]\n",
    "            H ([type]): [description]\n",
    "            topic_index ([type]): [description]\n",
    "            top ([type]): [description]\n",
    "\n",
    "        Returns:\n",
    "            [type]: [description]\n",
    "        \"\"\"\n",
    "        # reverse sort the values to sort the indices\n",
    "        top_indices = np.argsort(H[topic_index, :])[::-1]\n",
    "        # now get the terms corresponding to the top-ranked indices\n",
    "        top_terms = []\n",
    "        for term_index in top_indices[0:top]:\n",
    "            top_terms.append((terms[term_index], \n",
    "                              H[topic_index, term_index].round(2)))\n",
    "        return top_terms\n",
    "\n",
    "    def read_wv_model(self, model_name='embeddings_one_gram_fast_tweets_only'):\n",
    "        \"\"\"\n",
    "        read the word to vv embedding model passed in parameter\n",
    "\n",
    "        Args:\n",
    "            path ([type]): [description]\n",
    "        \"\"\"\n",
    "        model_path = Path.cwd().parent.joinpath('models', model_name).__str__()\n",
    "        self.model_gensim = FT_gensim.load(model_path)\n",
    "\n",
    "    def check_bigram(self, word):\n",
    "        \"\"\"\n",
    "        check if the given word passed in parameter is a bigram or not\n",
    "        \"\"\"\n",
    "        if len(word.split(' ')) == 2:\n",
    "            return True\n",
    "        return False\n",
    "    \n",
    "    def get_bi_grams_vector(self, string):\n",
    "        \"\"\"\n",
    "        get the vector of the bigram passed in parameter,\n",
    "        this is done by using the average of the two words building the vector\n",
    "\n",
    "        Args:\n",
    "            string ([type]): [description]\n",
    "\n",
    "        Returns:\n",
    "            [type]: [description]\n",
    "        \"\"\"\n",
    "        word1, words2 = string.split(' ')\n",
    "        bigram_vector = np.mean([self.model_gensim.wv.get_vector(word1),\n",
    "                                 self.model_gensim.wv.get_vector(words2)],\\\n",
    "                                     axis=0)\n",
    "        return bigram_vector\n",
    "\n",
    "    def compute_cosine_similarity(self, words):\n",
    "        \"\"\"\n",
    "        This code use numpy to compute the\n",
    "        cosine similarity between two given vectors\n",
    "        params:\n",
    "        words : a 2 d array with 2 words we are calculating the similarity for\n",
    "        \"\"\"\n",
    "        word_1, word_2 = words[0], words[1]\n",
    "        vector_1 = self.get_word_vector(word_1)\n",
    "        vector_2 = self.get_word_vector(word_2)\n",
    "        ma = np.linalg.norm(vector_1)\n",
    "        mb = np.linalg.norm(vector_2)\n",
    "        cosine_distance = (np.matmul(vector_1, vector_2))/(ma*mb)\n",
    "        return cosine_distance\n",
    "\n",
    "    def get_word_vector(self, word):\n",
    "        \"\"\"\n",
    "        return the word vector for the corresponding word or bigram\n",
    "\n",
    "        Args:\n",
    "            word ([type]): [description]\n",
    "        \"\"\"\n",
    "        if self.check_bigram(word):\n",
    "            return self.get_bi_grams_vector(word)\n",
    "        return self.model_gensim.wv.get_vector(word)\n",
    "\n",
    "    def calculate_topic_coherence(self, topic_descriptor):\n",
    "        \"\"\"\n",
    "        take the term ranking and compute the coherence between the term\n",
    "        \"\"\"\n",
    "        topics_terms = [x[0] for x in topic_descriptor]\n",
    "        pairs_array = np.array(list(combinations(topics_terms, 2)))\n",
    "        pairs_vectors = np.apply_along_axis(self.compute_cosine_similarity, 1,\n",
    "                                            pairs_array)\n",
    "        return pairs_vectors.mean()\n",
    "\n",
    "    def compute_overhall_topic_coherence(self, H, terms):\n",
    "        '''\n",
    "        compute the overhall topic coherence for a topic model\n",
    "        H is the topic term matrix\n",
    "        '''\n",
    "        overhall_coherence = []\n",
    "        for topic_index in range(H.shape[0]):\n",
    "            topic_descriptor = self.get_descriptor(terms,\n",
    "                                                   H,\n",
    "                                                   topic_index, 10)\n",
    "            coherence = self.calculate_topic_coherence(topic_descriptor)\n",
    "            overhall_coherence.append(coherence)\n",
    "        return np.array(overhall_coherence).mean()\n",
    "    \n",
    "    def get_best_coherence(self, topic_models, terms):\n",
    "        \"\"\"\n",
    "        return a dict of the k\n",
    "        and the coresponding topic for ploting purpose\n",
    "        \"\"\"\n",
    "        coherence_k = dict()\n",
    "        for (k, W, H) in topic_models:\n",
    "            coherence = self.compute_overhall_topic_coherence(H, terms)\n",
    "            coherence_k[k] = coherence\n",
    "            print(\"for k = {} the coherence is {:.2f}\".format(k, coherence))\n",
    "        return coherence_k\n",
    "    \n",
    "    def plot_topic_coherence(self, coherences_k, axe):\n",
    "        \"\"\"\n",
    "        plot the coherence for each k in the topic model\n",
    "        \"\"\"\n",
    "        axe.plot(coherences_k.keys(), coherences_k.values())\n",
    "        axe.set_xticks(list(coherences_k.keys()))\n",
    "        axe.set_xlabel(\"Number of Topics\")\n",
    "        axe.set_ylabel(\"Mean Coherence\")\n",
    "        # add the points\n",
    "        axe.scatter(coherences_k.keys(), coherences_k.values(), s=120)\n",
    "        # find and annotate the maximum point on the plot\n",
    "        ymax = max(coherences_k.values())\n",
    "        best_k = max(coherences_k, key=coherences_k.get)\n",
    "        axe.annotate(\"k={}\".format(best_k),\n",
    "                     xy=(best_k, ymax),\n",
    "                     xytext=(best_k, ymax),\n",
    "                     textcoords=\"offset points\", fontsize=16)\n",
    "\n",
    "    def plot_all_coherences(self, all_coherences_k):\n",
    "        \"\"\"\n",
    "        plot for all windows topic model the evolution of coherence measure\n",
    "        \"\"\"\n",
    "        fig, axes = plt.subplots(nrows=3, ncols=5, figsize=(8, 4))\n",
    "        axes = axes.flatten()\n",
    "        for coherences_k, axe in zip(all_coherences_k, axes):\n",
    "            self.plot_topic_coherence(coherences_k, axe)\n"
   ]
  },
  {
   "cell_type": "markdown",
   "metadata": {},
   "source": [
    "with all the function in one machine, we can now use it to create a new topic modeling and apply the suggested method to generate the dynamic NMF"
   ]
  },
  {
   "cell_type": "code",
   "execution_count": 57,
   "metadata": {},
   "outputs": [],
   "source": [
    "%matplotlib inline\n",
    "import matplotlib\n",
    "import matplotlib.pyplot as plt\n",
    "plt.style.use(\"ggplot\")\n",
    "matplotlib.rcParams.update({\"font.size\": 14})"
   ]
  },
  {
   "cell_type": "code",
   "execution_count": 58,
   "metadata": {},
   "outputs": [
    {
     "name": "stderr",
     "output_type": "stream",
     "text": [
      "/Users/es.py/Projects/Personal/nlp_course_coursera_russia_uni/.venv/lib/python3.6/site-packages/numpy/lib/arraysetops.py:569: FutureWarning: elementwise comparison failed; returning scalar instead, but in the future will perform elementwise comparison\n",
      "  mask |= (ar1 == a)\n"
     ]
    }
   ],
   "source": [
    "dynamic_nmf = DynamicNMF()\n",
    "dynamic_nmf.split_into_windows_docs()\n",
    "dynamic_nmf.read_wv_model()"
   ]
  },
  {
   "cell_type": "code",
   "execution_count": 59,
   "metadata": {},
   "outputs": [
    {
     "name": "stdout",
     "output_type": "stream",
     "text": [
      "for k = 4 the coherence is 0.42\n",
      "for k = 5 the coherence is 0.44\n",
      "for k = 6 the coherence is 0.43\n",
      "for k = 7 the coherence is 0.46\n",
      "for k = 8 the coherence is 0.45\n",
      "for k = 9 the coherence is 0.46\n",
      "for k = 10 the coherence is 0.46\n",
      "for k = 11 the coherence is 0.45\n",
      "for k = 12 the coherence is 0.46\n",
      "for k = 13 the coherence is 0.45\n",
      "for k = 14 the coherence is 0.46\n",
      "for k = 15 the coherence is 0.48\n",
      "for k = 16 the coherence is 0.47\n",
      "for k = 17 the coherence is 0.47\n",
      "for k = 18 the coherence is 0.47\n",
      "for k = 19 the coherence is 0.47\n",
      "for k = 4 the coherence is 0.49\n",
      "for k = 5 the coherence is 0.47\n",
      "for k = 6 the coherence is 0.47\n",
      "for k = 7 the coherence is 0.48\n",
      "for k = 8 the coherence is 0.48\n",
      "for k = 9 the coherence is 0.49\n",
      "for k = 10 the coherence is 0.49\n",
      "for k = 11 the coherence is 0.48\n",
      "for k = 12 the coherence is 0.48\n",
      "for k = 13 the coherence is 0.47\n",
      "for k = 14 the coherence is 0.48\n",
      "for k = 15 the coherence is 0.48\n",
      "for k = 16 the coherence is 0.47\n",
      "for k = 17 the coherence is 0.49\n",
      "for k = 18 the coherence is 0.49\n",
      "for k = 19 the coherence is 0.49\n",
      "for k = 4 the coherence is 0.51\n",
      "for k = 5 the coherence is 0.50\n",
      "for k = 6 the coherence is 0.53\n",
      "for k = 7 the coherence is 0.51\n",
      "for k = 8 the coherence is 0.51\n",
      "for k = 9 the coherence is 0.49\n",
      "for k = 10 the coherence is 0.49\n",
      "for k = 11 the coherence is 0.49\n",
      "for k = 12 the coherence is 0.50\n",
      "for k = 13 the coherence is 0.50\n",
      "for k = 14 the coherence is 0.50\n",
      "for k = 15 the coherence is 0.51\n",
      "for k = 16 the coherence is 0.50\n",
      "for k = 17 the coherence is 0.50\n",
      "for k = 18 the coherence is 0.50\n",
      "for k = 19 the coherence is 0.51\n",
      "for k = 4 the coherence is 0.41\n",
      "for k = 5 the coherence is 0.43\n",
      "for k = 6 the coherence is 0.42\n",
      "for k = 7 the coherence is 0.43\n",
      "for k = 8 the coherence is 0.44\n",
      "for k = 9 the coherence is 0.43\n",
      "for k = 10 the coherence is 0.42\n",
      "for k = 11 the coherence is 0.44\n",
      "for k = 12 the coherence is 0.42\n",
      "for k = 13 the coherence is 0.45\n",
      "for k = 14 the coherence is 0.43\n",
      "for k = 15 the coherence is 0.43\n",
      "for k = 16 the coherence is 0.41\n",
      "for k = 17 the coherence is 0.41\n",
      "for k = 18 the coherence is 0.42\n",
      "for k = 19 the coherence is 0.44\n",
      "for k = 4 the coherence is 0.51\n",
      "for k = 5 the coherence is 0.54\n",
      "for k = 6 the coherence is 0.52\n",
      "for k = 7 the coherence is 0.53\n",
      "for k = 8 the coherence is 0.51\n",
      "for k = 9 the coherence is 0.49\n",
      "for k = 10 the coherence is 0.50\n",
      "for k = 11 the coherence is 0.50\n",
      "for k = 12 the coherence is 0.49\n",
      "for k = 13 the coherence is 0.49\n",
      "for k = 14 the coherence is 0.49\n",
      "for k = 15 the coherence is 0.50\n",
      "for k = 16 the coherence is 0.50\n",
      "for k = 17 the coherence is 0.50\n",
      "for k = 18 the coherence is 0.52\n",
      "for k = 19 the coherence is 0.51\n",
      "for k = 4 the coherence is 0.53\n",
      "for k = 5 the coherence is 0.51\n",
      "for k = 6 the coherence is 0.50\n",
      "for k = 7 the coherence is 0.50\n",
      "for k = 8 the coherence is 0.50\n",
      "for k = 9 the coherence is 0.51\n",
      "for k = 10 the coherence is 0.50\n",
      "for k = 11 the coherence is 0.49\n",
      "for k = 12 the coherence is 0.50\n",
      "for k = 13 the coherence is 0.49\n",
      "for k = 14 the coherence is 0.50\n",
      "for k = 15 the coherence is 0.49\n",
      "for k = 16 the coherence is 0.50\n",
      "for k = 17 the coherence is 0.48\n",
      "for k = 18 the coherence is 0.48\n",
      "for k = 19 the coherence is 0.50\n",
      "for k = 4 the coherence is 0.54\n",
      "for k = 5 the coherence is 0.53\n",
      "for k = 6 the coherence is 0.54\n",
      "for k = 7 the coherence is 0.55\n",
      "for k = 8 the coherence is 0.55\n",
      "for k = 9 the coherence is 0.53\n",
      "for k = 10 the coherence is 0.54\n",
      "for k = 11 the coherence is 0.53\n",
      "for k = 12 the coherence is 0.54\n",
      "for k = 13 the coherence is 0.54\n",
      "for k = 14 the coherence is 0.52\n",
      "for k = 15 the coherence is 0.52\n",
      "for k = 16 the coherence is 0.51\n",
      "for k = 17 the coherence is 0.51\n",
      "for k = 18 the coherence is 0.51\n",
      "for k = 19 the coherence is 0.50\n",
      "for k = 4 the coherence is 0.53\n",
      "for k = 5 the coherence is 0.51\n",
      "for k = 6 the coherence is 0.50\n",
      "for k = 7 the coherence is 0.53\n",
      "for k = 8 the coherence is 0.53\n",
      "for k = 9 the coherence is 0.53\n",
      "for k = 10 the coherence is 0.52\n",
      "for k = 11 the coherence is 0.51\n",
      "for k = 12 the coherence is 0.51\n",
      "for k = 13 the coherence is 0.51\n",
      "for k = 14 the coherence is 0.51\n",
      "for k = 15 the coherence is 0.51\n",
      "for k = 16 the coherence is 0.51\n",
      "for k = 17 the coherence is 0.50\n",
      "for k = 18 the coherence is 0.49\n",
      "for k = 19 the coherence is 0.49\n",
      "for k = 4 the coherence is 0.52\n",
      "for k = 5 the coherence is 0.49\n",
      "for k = 6 the coherence is 0.50\n",
      "for k = 7 the coherence is 0.50\n",
      "for k = 8 the coherence is 0.52\n",
      "for k = 9 the coherence is 0.52\n",
      "for k = 10 the coherence is 0.51\n",
      "for k = 11 the coherence is 0.52\n",
      "for k = 12 the coherence is 0.51\n",
      "for k = 13 the coherence is 0.50\n",
      "for k = 14 the coherence is 0.50\n",
      "for k = 15 the coherence is 0.49\n",
      "for k = 16 the coherence is 0.50\n",
      "for k = 17 the coherence is 0.51\n",
      "for k = 18 the coherence is 0.50\n",
      "for k = 19 the coherence is 0.50\n",
      "for k = 4 the coherence is 0.51\n",
      "for k = 5 the coherence is 0.50\n",
      "for k = 6 the coherence is 0.51\n",
      "for k = 7 the coherence is 0.52\n",
      "for k = 8 the coherence is 0.52\n",
      "for k = 9 the coherence is 0.53\n",
      "for k = 10 the coherence is 0.52\n",
      "for k = 11 the coherence is 0.53\n",
      "for k = 12 the coherence is 0.53\n",
      "for k = 13 the coherence is 0.52\n",
      "for k = 14 the coherence is 0.52\n",
      "for k = 15 the coherence is 0.51\n",
      "for k = 16 the coherence is 0.52\n",
      "for k = 17 the coherence is 0.52\n",
      "for k = 18 the coherence is 0.52\n",
      "for k = 19 the coherence is 0.53\n",
      "for k = 4 the coherence is 0.46\n",
      "for k = 5 the coherence is 0.45\n",
      "for k = 6 the coherence is 0.46\n",
      "for k = 7 the coherence is 0.46\n",
      "for k = 8 the coherence is 0.46\n",
      "for k = 9 the coherence is 0.46\n",
      "for k = 10 the coherence is 0.48\n",
      "for k = 11 the coherence is 0.49\n",
      "for k = 12 the coherence is 0.48\n",
      "for k = 13 the coherence is 0.47\n",
      "for k = 14 the coherence is 0.47\n",
      "for k = 15 the coherence is 0.47\n",
      "for k = 16 the coherence is 0.49\n",
      "for k = 17 the coherence is 0.49\n",
      "for k = 18 the coherence is 0.49\n",
      "for k = 19 the coherence is 0.49\n",
      "for k = 4 the coherence is 0.48\n",
      "for k = 5 the coherence is 0.46\n",
      "for k = 6 the coherence is 0.49\n",
      "for k = 7 the coherence is 0.48\n",
      "for k = 8 the coherence is 0.50\n",
      "for k = 9 the coherence is 0.53\n",
      "for k = 10 the coherence is 0.52\n",
      "for k = 11 the coherence is 0.51\n",
      "for k = 12 the coherence is 0.52\n",
      "for k = 13 the coherence is 0.51\n",
      "for k = 14 the coherence is 0.51\n",
      "for k = 15 the coherence is 0.53\n",
      "for k = 16 the coherence is 0.52\n",
      "for k = 17 the coherence is 0.52\n",
      "for k = 18 the coherence is 0.51\n",
      "for k = 19 the coherence is 0.52\n",
      "for k = 4 the coherence is 0.53\n",
      "for k = 5 the coherence is 0.51\n",
      "for k = 6 the coherence is 0.52\n",
      "for k = 7 the coherence is 0.54\n",
      "for k = 8 the coherence is 0.53\n",
      "for k = 9 the coherence is 0.54\n",
      "for k = 10 the coherence is 0.53\n",
      "for k = 11 the coherence is 0.53\n",
      "for k = 12 the coherence is 0.54\n",
      "for k = 13 the coherence is 0.55\n",
      "for k = 14 the coherence is 0.54\n",
      "for k = 15 the coherence is 0.55\n",
      "for k = 16 the coherence is 0.54\n",
      "for k = 17 the coherence is 0.54\n",
      "for k = 18 the coherence is 0.54\n",
      "for k = 19 the coherence is 0.55\n",
      "for k = 4 the coherence is 0.53\n",
      "for k = 5 the coherence is 0.49\n",
      "for k = 6 the coherence is 0.52\n",
      "for k = 7 the coherence is 0.55\n",
      "for k = 8 the coherence is 0.52\n",
      "for k = 9 the coherence is 0.53\n",
      "for k = 10 the coherence is 0.51\n",
      "for k = 11 the coherence is 0.52\n",
      "for k = 12 the coherence is 0.52\n",
      "for k = 13 the coherence is 0.51\n",
      "for k = 14 the coherence is 0.51\n",
      "for k = 15 the coherence is 0.52\n",
      "for k = 16 the coherence is 0.52\n",
      "for k = 17 the coherence is 0.52\n",
      "for k = 18 the coherence is 0.51\n",
      "for k = 19 the coherence is 0.51\n",
      "for k = 4 the coherence is 0.53\n",
      "for k = 5 the coherence is 0.49\n",
      "for k = 6 the coherence is 0.51\n",
      "for k = 7 the coherence is 0.53\n",
      "for k = 8 the coherence is 0.52\n",
      "for k = 9 the coherence is 0.52\n",
      "for k = 10 the coherence is 0.51\n",
      "for k = 11 the coherence is 0.52\n",
      "for k = 12 the coherence is 0.50\n",
      "for k = 13 the coherence is 0.50\n",
      "for k = 14 the coherence is 0.49\n",
      "for k = 15 the coherence is 0.50\n",
      "for k = 16 the coherence is 0.51\n",
      "for k = 17 the coherence is 0.50\n",
      "for k = 18 the coherence is 0.51\n",
      "for k = 19 the coherence is 0.51\n"
     ]
    },
    {
     "data": {
      "image/png": "[encoded data removed]",
      "text/plain": [
       "<Figure size 576x288 with 15 Axes>"
      ]
     },
     "metadata": {},
     "output_type": "display_data"
    }
   ],
   "source": [
    "all_coherences = []\n",
    "all_topic_models = list()\n",
    "for window_data in dynamic_nmf.windows_data:\n",
    "    results = dynamic_nmf.create_topic_model(window_data)\n",
    "    topic_models = results.get('topic_models')\n",
    "    terms = results.get('terms')\n",
    "    coherences_k = dynamic_nmf.get_best_coherence(topic_models, terms)\n",
    "    best_coherence = max(coherences_k, key=coherences_k.get)\n",
    "    all_topic_models.append({\"terms\":terms, \"models\":topic_models, \"best_k\":best_coherence})\n",
    "    all_coherences.append(coherences_k)\n",
    "dynamic_nmf.plot_all_coherences(all_coherences)"
   ]
  },
  {
   "cell_type": "code",
   "execution_count": 60,
   "metadata": {},
   "outputs": [],
   "source": [
    "def get_best_model(all_topic_models):\n",
    "    '''\n",
    "    loop trough all the topic models and return the best one wiht the corresponding terms \n",
    "    '''\n",
    "    for topic_model in all_topic_models:\n",
    "        best_k = topic_model.get('best_k')\n",
    "        best_model = topic_model.get('models')[best_k-4]\n",
    "        assert best_model[0] == best_k\n",
    "        H = best_model[2]\n",
    "        terms = topic_model.get('terms')\n",
    "        yield {'terms': terms, 'model':H, \"best_k\":best_k}"
   ]
  },
  {
   "cell_type": "code",
   "execution_count": 61,
   "metadata": {},
   "outputs": [
    {
     "data": {
      "text/plain": [
       "(19, 53641)"
      ]
     },
     "execution_count": 61,
     "metadata": {},
     "output_type": "execute_result"
    }
   ],
   "source": [
    "H.shape"
   ]
  },
  {
   "cell_type": "code",
   "execution_count": 65,
   "metadata": {},
   "outputs": [],
   "source": [
    "terms_array = np.array(terms, dtype=np.str)"
   ]
  },
  {
   "cell_type": "code",
   "execution_count": 67,
   "metadata": {},
   "outputs": [],
   "source": [
    "def get_top_terms_per_model(H, terms, top_terms=15):\n",
    "    '''\n",
    "    given an H matrix and the terms return n tops terms in for each topic in the matrix in \n",
    "    '''\n",
    "    top_indices = np.flip(np.argsort(H))\n",
    "    terms_array = np.array(terms, dtype=np.str)\n",
    "    top_terms = np.take(terms_array, top_indices)[::-1, :top_terms]\n",
    "    return top_terms"
   ]
  },
  {
   "cell_type": "code",
   "execution_count": 325,
   "metadata": {},
   "outputs": [],
   "source": [
    "top_indices = np.flip(np.argsort(H))"
   ]
  },
  {
   "cell_type": "code",
   "execution_count": 68,
   "metadata": {},
   "outputs": [],
   "source": [
    "def build_time_windows_matrix(all_topic_models):\n",
    "    \"\"\"\n",
    "    this build the $B$ matrix for the dynamic topic modelling \n",
    "    \"\"\"\n",
    "    best_models = get_best_model(all_topic_models)\n",
    "    all_topic_matrix = list()\n",
    "    for best_model in best_models:\n",
    "        H = best_model.get('model')\n",
    "        terms = best_model.get('terms')\n",
    "        top_terms = get_top_terms_per_model(H, terms)\n",
    "        all_topic_matrix.append(top_terms)\n",
    "    return np.concatenate(all_topic_matrix, axis=0)"
   ]
  },
  {
   "cell_type": "code",
   "execution_count": 69,
   "metadata": {
    "scrolled": true
   },
   "outputs": [],
   "source": [
    "matrix_b = build_time_windows_matrix(all_topic_models)"
   ]
  },
  {
   "cell_type": "code",
   "execution_count": 70,
   "metadata": {},
   "outputs": [
    {
     "data": {
      "text/plain": [
       "(148, 15)"
      ]
     },
     "execution_count": 70,
     "metadata": {},
     "output_type": "execute_result"
    }
   ],
   "source": [
    "matrix_b.shape"
   ]
  },
  {
   "cell_type": "code",
   "execution_count": 71,
   "metadata": {},
   "outputs": [],
   "source": [
    "def remove_space_in_bigram(matrix_b):\n",
    "    return np.vectorize(lambda x: x.replace(' ', '_'))(matrix_b)"
   ]
  },
  {
   "cell_type": "code",
   "execution_count": 72,
   "metadata": {
    "scrolled": true
   },
   "outputs": [],
   "source": [
    "matrix_b = remove_space_in_bigram(matrix_b)"
   ]
  },
  {
   "cell_type": "code",
   "execution_count": 73,
   "metadata": {},
   "outputs": [],
   "source": [
    "def matrix_to_sentence(matrix_b):\n",
    "    return np.apply_along_axis(lambda x : ' '.join(x), 1, matrix_b)"
   ]
  },
  {
   "cell_type": "code",
   "execution_count": 74,
   "metadata": {
    "scrolled": false
   },
   "outputs": [],
   "source": [
    "matrix_b = matrix_to_sentence(matrix_b)"
   ]
  },
  {
   "cell_type": "code",
   "execution_count": 75,
   "metadata": {},
   "outputs": [
    {
     "data": {
      "text/plain": [
       "(148,)"
      ]
     },
     "execution_count": 75,
     "metadata": {},
     "output_type": "execute_result"
    }
   ],
   "source": [
    "matrix_b.shape"
   ]
  },
  {
   "cell_type": "code",
   "execution_count": 76,
   "metadata": {},
   "outputs": [],
   "source": [
    "vectorizer_all_topics = TfidfVectorizer(lowercase=True, \n",
    "                             strip_accents=\"unicode\", \n",
    "                             ngram_range = (1, 1)) \n",
    "all_doc_term_matrix = vectorizer_all_topics.fit_transform(matrix_b)"
   ]
  },
  {
   "cell_type": "code",
   "execution_count": 77,
   "metadata": {},
   "outputs": [],
   "source": [
    "dynamic_model = NMF(n_components=14, init=\"nndsvd\", random_state=0)\n",
    "U = dynamic_model.fit_transform(all_doc_term_matrix)\n",
    "V = dynamic_model.components_"
   ]
  },
  {
   "cell_type": "code",
   "execution_count": 78,
   "metadata": {},
   "outputs": [],
   "source": [
    "dynamic_terms = vectorizer_all_topics.get_feature_names()"
   ]
  },
  {
   "cell_type": "code",
   "execution_count": 79,
   "metadata": {},
   "outputs": [
    {
     "data": {
      "text/plain": [
       "(14, 1863)"
      ]
     },
     "execution_count": 79,
     "metadata": {},
     "output_type": "execute_result"
    }
   ],
   "source": [
    "V.shape"
   ]
  },
  {
   "cell_type": "code",
   "execution_count": 80,
   "metadata": {},
   "outputs": [
    {
     "name": "stdout",
     "output_type": "stream",
     "text": [
      "Topic 1.0 === describe by : felix_tshisekedi=:0.45, felix=:0.45, tshisekedi=:0.44, tshilombo=:0.42, tshisekedi_tshilombo=:0.42, felixantoin_tshisekedi=:0.39, felixantoin=:0.39, chef_felixantoin=:0.39, chef=:0.27, felixantoine=:0.18\n",
      "=:=:=:=:=:=:=:=:=:=:=:=:=:=:=:=:=:=:=:=:\n",
      "Topic 2.0 === describe by : rtvnews_rtvonlin=:0.35, breakingnews_newsupdat=:0.35, breakingnew=:0.35, new=:0.35, new_rtvnews=:0.35, rtv=:0.35, rtv_new=:0.35, newsupdat=:0.35, breakingnews=:0.35, rtvnews=:0.35\n",
      "=:=:=:=:=:=:=:=:=:=:=:=:=:=:=:=:=:=:=:=:\n",
      "Topic 3.0 === describe by : pretendre_combattre=:0.32, evangeliste_pretendre=:0.32, accuser_enfant=:0.32, sorcier_pretre=:0.32, evangeliste=:0.32, sorcier=:0.32, combattre_demon=:0.32, demon_kinshaser=:0.32, demon=:0.32, enfant_sorcier=:0.32\n",
      "=:=:=:=:=:=:=:=:=:=:=:=:=:=:=:=:=:=:=:=:\n",
      "Topic 4.0 === describe by : siler_holocaust=:0.34, one_talking=:0.34, siler=:0.34, hold=:0.34, holocaust=:0.34, holocaust_happening=:0.34, nigerier_siler=:0.34, happening_one=:0.34, talking_hold=:0.34, talking=:0.34\n",
      "=:=:=:=:=:=:=:=:=:=:=:=:=:=:=:=:=:=:=:=:\n",
      "Topic 5.0 === describe by : voyon_nigeria=:0.31, propos=:0.31, propos_voyon=:0.31, namibie=:0.31, retweet_propos=:0.31, sensibilison=:0.31, voyon=:0.31, sensibilison_retweet=:0.31, nigeria_namibie=:0.31, nigeria_endsar=:0.31\n",
      "=:=:=:=:=:=:=:=:=:=:=:=:=:=:=:=:=:=:=:=:\n",
      "Topic 6.0 === describe by : assemblee_national=:0.39, assemblee=:0.39, national=:0.39, bureau=:0.35, petition=:0.29, depute=:0.28, mabunda=:0.26, bureau_assemblee=:0.24, general=:0.16, jeanin=:0.14\n",
      "=:=:=:=:=:=:=:=:=:=:=:=:=:=:=:=:=:=:=:=:\n",
      "Topic 7.0 === describe by : zimbabwe=:0.36, suffered=:0.33, zimbabweanlivesmatter_nigerier=:0.33, zimbabweanlivesmatter=:0.33, zimbabwe_zimbabweanlivesmatter=:0.33, enough=:0.33, enough_zimbabwe=:0.33, suffered_enough=:0.33, nigeri=:0.22, nigerier=:0.19\n",
      "=:=:=:=:=:=:=:=:=:=:=:=:=:=:=:=:=:=:=:=:\n",
      "Topic 8.0 === describe by : app=:0.32, download_fre=:0.32, app_listen=:0.32, fre_app=:0.32, fre=:0.32, allaboutluv_download=:0.32, allaboutluv=:0.32, listen=:0.32, download=:0.32, condamner_propo=:0.17\n",
      "=:=:=:=:=:=:=:=:=:=:=:=:=:=:=:=:=:=:=:=:\n",
      "Topic 9.0 === describe by : genocid=:0.39, continuer_toujours=:0.3, toujours_bon=:0.3, bonjour_genocid=:0.3, genocid_continuer=:0.3, genocide=:0.29, genocid_genocid=:0.26, genocide_genocid=:0.26, journee=:0.22, justice=:0.22\n",
      "=:=:=:=:=:=:=:=:=:=:=:=:=:=:=:=:=:=:=:=:\n",
      "Topic 10.0 === describe by : joseph=:0.38, president=:0.33, kabiler=:0.29, joseph_kabiler=:0.29, joseph_kabila=:0.27, kabila=:0.27, lubumbashi=:0.18, annulation_deplacement=:0.17, ancien_president=:0.17, ancien=:0.17\n",
      "=:=:=:=:=:=:=:=:=:=:=:=:=:=:=:=:=:=:=:=:\n",
      "Topic 11.0 === describe by : genocidecongo=:0.36, congoisbleeding=:0.35, congogenocid=:0.34, happening_congoisbleeding=:0.34, congoisbleeding_congogenocid=:0.34, happening=:0.31, congoisbleeding_n=:0.19, endsar_congoisbleeding=:0.19, afriqu_nigeria=:0.19, actuel_afriqu=:0.19\n",
      "=:=:=:=:=:=:=:=:=:=:=:=:=:=:=:=:=:=:=:=:\n",
      "Topic 12.0 === describe by : boot_puant=:0.31, zair_malheur=:0.31, jour=:0.23, savoir=:0.2, ferie=:0.18, constat=:0.18, mai_jour=:0.18, ferie_pose=:0.18, souvent_savoir=:0.18, souvent=:0.18\n",
      "=:=:=:=:=:=:=:=:=:=:=:=:=:=:=:=:=:=:=:=:\n",
      "Topic 13.0 === describe by : aujourd_hui=:0.29, aujourd=:0.29, hui=:0.29, massacre=:0.26, an=:0.22, jeune=:0.21, retweet_encourager=:0.18, encourager_jeune=:0.18, jeune_pilote=:0.18, pilote=:0.18\n",
      "=:=:=:=:=:=:=:=:=:=:=:=:=:=:=:=:=:=:=:=:\n",
      "Topic 14.0 === describe by : fcccach=:0.27, coalition=:0.27, coalition_fcccach=:0.27, fin=:0.2, annoncer=:0.19, dissolution=:0.16, tshisekedi_annoncer=:0.16, convergence_fin=:0.16, principal_point=:0.16, point_convergence=:0.16\n",
      "=:=:=:=:=:=:=:=:=:=:=:=:=:=:=:=:=:=:=:=:\n"
     ]
    }
   ],
   "source": [
    "print_topic_descriptor(V, dynamic_terms)"
   ]
  },
  {
   "cell_type": "code",
   "execution_count": 81,
   "metadata": {},
   "outputs": [
    {
     "data": {
      "text/plain": [
       "array([[ 0,  1,  2, ..., 12, 13, 11],\n",
       "       [ 0,  1,  2, ..., 12, 13, 11],\n",
       "       [ 0,  1,  2, ...,  7, 12, 11],\n",
       "       ...,\n",
       "       [ 0,  1,  2, ..., 13,  4, 12],\n",
       "       [ 0,  1,  2, ..., 13,  6,  9],\n",
       "       [ 0,  1,  2, ..., 12, 13, 11]])"
      ]
     },
     "execution_count": 81,
     "metadata": {},
     "output_type": "execute_result"
    }
   ],
   "source": [
    "U.argsort()"
   ]
  },
  {
   "cell_type": "code",
   "execution_count": 82,
   "metadata": {},
   "outputs": [
    {
     "data": {
      "text/plain": [
       "array([11, 13, 12, 10,  9,  8,  7,  6,  5,  4,  3,  2,  1,  0])"
      ]
     },
     "execution_count": 82,
     "metadata": {},
     "output_type": "execute_result"
    }
   ],
   "source": [
    "np.flip(U.argsort())[::-1][0]"
   ]
  },
  {
   "cell_type": "code",
   "execution_count": 83,
   "metadata": {},
   "outputs": [
    {
     "data": {
      "text/plain": [
       "array([[0.        , 0.        , 0.        , ..., 0.        , 0.        ,\n",
       "        0.59689515],\n",
       "       [0.        , 0.        , 0.        , ..., 0.        , 0.        ,\n",
       "        0.59689515],\n",
       "       [0.        , 0.        , 0.        , ..., 0.        , 0.        ,\n",
       "        0.59689515],\n",
       "       ...,\n",
       "       [0.        , 0.        , 0.        , ..., 0.        , 0.        ,\n",
       "        0.        ],\n",
       "       [0.        , 0.        , 0.        , ..., 0.        , 0.        ,\n",
       "        0.        ],\n",
       "       [0.        , 0.        , 0.        , ..., 0.        , 0.        ,\n",
       "        0.59689515]])"
      ]
     },
     "execution_count": 83,
     "metadata": {},
     "output_type": "execute_result"
    }
   ],
   "source": [
    "np.take(U, U.argsort())"
   ]
  },
  {
   "cell_type": "markdown",
   "metadata": {},
   "source": [
    "### next step is the analysis of the dynamic topics"
   ]
  },
  {
   "cell_type": "markdown",
   "metadata": {},
   "source": [
    "In this step we will analyse the topic generated by applying the topic modeling to the $B$"
   ]
  },
  {
   "cell_type": "markdown",
   "metadata": {},
   "source": [
    "Let us plot the topics per timewindows documents matrixes"
   ]
  },
  {
   "cell_type": "code",
   "execution_count": 84,
   "metadata": {},
   "outputs": [],
   "source": [
    "best_models = get_best_model(all_topic_models)\n",
    "all_best_k = [model.get('best_k') for model in best_models]"
   ]
  },
  {
   "cell_type": "code",
   "execution_count": 85,
   "metadata": {},
   "outputs": [],
   "source": [
    "from itertools import accumulate"
   ]
  },
  {
   "cell_type": "code",
   "execution_count": 86,
   "metadata": {},
   "outputs": [
    {
     "data": {
      "text/plain": [
       "[15, 19, 6, 13, 5, 4, 7, 4, 8, 9, 16, 9, 19, 7, 7]"
      ]
     },
     "execution_count": 86,
     "metadata": {},
     "output_type": "execute_result"
    }
   ],
   "source": [
    "all_best_k"
   ]
  },
  {
   "cell_type": "code",
   "execution_count": 87,
   "metadata": {
    "scrolled": true
   },
   "outputs": [],
   "source": [
    "cumm_best_k = list(accumulate(all_best_k))"
   ]
  },
  {
   "cell_type": "code",
   "execution_count": 88,
   "metadata": {
    "scrolled": true
   },
   "outputs": [],
   "source": [
    "time_windows_doc_topics = pd.DataFrame(data=U.round(3), columns=[f\"topic_{i+1}\" for i in range(U.shape[1])])"
   ]
  },
  {
   "cell_type": "code",
   "execution_count": 89,
   "metadata": {},
   "outputs": [],
   "source": [
    "time_windows_doc_topics.index.name = \"time_windows_topic\""
   ]
  },
  {
   "cell_type": "code",
   "execution_count": 90,
   "metadata": {},
   "outputs": [
    {
     "data": {
      "text/plain": [
       "RangeIndex(start=0, stop=148, step=1, name='time_windows_topic')"
      ]
     },
     "execution_count": 90,
     "metadata": {},
     "output_type": "execute_result"
    }
   ],
   "source": [
    "time_windows_doc_topics.index"
   ]
  },
  {
   "cell_type": "code",
   "execution_count": 91,
   "metadata": {
    "scrolled": true
   },
   "outputs": [],
   "source": [
    "time_windows_doc_topics['time_windows'] = pd.cut(time_windows_doc_topics.index, bins=cumm_best_k, labels=[f\"time_windows_{i+2}\" for i in range(len(all_best_k)-1)])"
   ]
  },
  {
   "cell_type": "code",
   "execution_count": 92,
   "metadata": {},
   "outputs": [],
   "source": [
    "time_windows_doc_topics['time_windows'] = time_windows_doc_topics['time_windows'].astype(str).replace({\"nan\": f\"time_windows_{1}\"})"
   ]
  },
  {
   "cell_type": "code",
   "execution_count": 93,
   "metadata": {},
   "outputs": [
    {
     "data": {
      "text/html": [
       "<div>\n",
       "<style scoped>\n",
       "    .dataframe tbody tr th:only-of-type {\n",
       "        vertical-align: middle;\n",
       "    }\n",
       "\n",
       "    .dataframe tbody tr th {\n",
       "        vertical-align: top;\n",
       "    }\n",
       "\n",
       "    .dataframe thead th {\n",
       "        text-align: right;\n",
       "    }\n",
       "</style>\n",
       "<table border=\"1\" class=\"dataframe\">\n",
       "  <thead>\n",
       "    <tr style=\"text-align: right;\">\n",
       "      <th></th>\n",
       "      <th>topic_1</th>\n",
       "      <th>topic_2</th>\n",
       "      <th>topic_3</th>\n",
       "      <th>topic_4</th>\n",
       "      <th>topic_5</th>\n",
       "      <th>topic_6</th>\n",
       "      <th>topic_7</th>\n",
       "      <th>topic_8</th>\n",
       "      <th>topic_9</th>\n",
       "      <th>topic_10</th>\n",
       "      <th>topic_11</th>\n",
       "      <th>topic_12</th>\n",
       "      <th>topic_13</th>\n",
       "      <th>topic_14</th>\n",
       "      <th>time_windows</th>\n",
       "    </tr>\n",
       "    <tr>\n",
       "      <th>time_windows_topic</th>\n",
       "      <th></th>\n",
       "      <th></th>\n",
       "      <th></th>\n",
       "      <th></th>\n",
       "      <th></th>\n",
       "      <th></th>\n",
       "      <th></th>\n",
       "      <th></th>\n",
       "      <th></th>\n",
       "      <th></th>\n",
       "      <th></th>\n",
       "      <th></th>\n",
       "      <th></th>\n",
       "      <th></th>\n",
       "      <th></th>\n",
       "    </tr>\n",
       "  </thead>\n",
       "  <tbody>\n",
       "    <tr>\n",
       "      <th>0</th>\n",
       "      <td>0.000</td>\n",
       "      <td>0.0</td>\n",
       "      <td>0.000</td>\n",
       "      <td>0.0</td>\n",
       "      <td>0.0</td>\n",
       "      <td>0.000</td>\n",
       "      <td>0.000</td>\n",
       "      <td>0.0</td>\n",
       "      <td>0.000</td>\n",
       "      <td>0.000</td>\n",
       "      <td>0.00</td>\n",
       "      <td>0.597</td>\n",
       "      <td>0.0</td>\n",
       "      <td>0.000</td>\n",
       "      <td>time_windows_1</td>\n",
       "    </tr>\n",
       "    <tr>\n",
       "      <th>1</th>\n",
       "      <td>0.000</td>\n",
       "      <td>0.0</td>\n",
       "      <td>0.000</td>\n",
       "      <td>0.0</td>\n",
       "      <td>0.0</td>\n",
       "      <td>0.000</td>\n",
       "      <td>0.000</td>\n",
       "      <td>0.0</td>\n",
       "      <td>0.000</td>\n",
       "      <td>0.000</td>\n",
       "      <td>0.00</td>\n",
       "      <td>0.000</td>\n",
       "      <td>0.0</td>\n",
       "      <td>0.000</td>\n",
       "      <td>time_windows_1</td>\n",
       "    </tr>\n",
       "    <tr>\n",
       "      <th>2</th>\n",
       "      <td>0.000</td>\n",
       "      <td>0.0</td>\n",
       "      <td>0.000</td>\n",
       "      <td>0.0</td>\n",
       "      <td>0.0</td>\n",
       "      <td>0.000</td>\n",
       "      <td>0.000</td>\n",
       "      <td>0.0</td>\n",
       "      <td>0.000</td>\n",
       "      <td>0.000</td>\n",
       "      <td>0.00</td>\n",
       "      <td>0.011</td>\n",
       "      <td>0.0</td>\n",
       "      <td>0.000</td>\n",
       "      <td>time_windows_1</td>\n",
       "    </tr>\n",
       "    <tr>\n",
       "      <th>3</th>\n",
       "      <td>0.201</td>\n",
       "      <td>0.0</td>\n",
       "      <td>0.000</td>\n",
       "      <td>0.0</td>\n",
       "      <td>0.0</td>\n",
       "      <td>0.000</td>\n",
       "      <td>0.000</td>\n",
       "      <td>0.0</td>\n",
       "      <td>0.000</td>\n",
       "      <td>0.000</td>\n",
       "      <td>0.00</td>\n",
       "      <td>0.000</td>\n",
       "      <td>0.0</td>\n",
       "      <td>0.000</td>\n",
       "      <td>time_windows_1</td>\n",
       "    </tr>\n",
       "    <tr>\n",
       "      <th>4</th>\n",
       "      <td>0.000</td>\n",
       "      <td>0.0</td>\n",
       "      <td>0.000</td>\n",
       "      <td>0.0</td>\n",
       "      <td>0.0</td>\n",
       "      <td>0.000</td>\n",
       "      <td>0.000</td>\n",
       "      <td>0.0</td>\n",
       "      <td>0.000</td>\n",
       "      <td>0.000</td>\n",
       "      <td>0.00</td>\n",
       "      <td>0.049</td>\n",
       "      <td>0.0</td>\n",
       "      <td>0.000</td>\n",
       "      <td>time_windows_1</td>\n",
       "    </tr>\n",
       "    <tr>\n",
       "      <th>5</th>\n",
       "      <td>0.000</td>\n",
       "      <td>0.0</td>\n",
       "      <td>0.000</td>\n",
       "      <td>0.0</td>\n",
       "      <td>0.0</td>\n",
       "      <td>0.000</td>\n",
       "      <td>0.000</td>\n",
       "      <td>0.0</td>\n",
       "      <td>0.000</td>\n",
       "      <td>0.000</td>\n",
       "      <td>0.00</td>\n",
       "      <td>0.010</td>\n",
       "      <td>0.0</td>\n",
       "      <td>0.000</td>\n",
       "      <td>time_windows_1</td>\n",
       "    </tr>\n",
       "    <tr>\n",
       "      <th>6</th>\n",
       "      <td>0.000</td>\n",
       "      <td>0.0</td>\n",
       "      <td>0.000</td>\n",
       "      <td>0.0</td>\n",
       "      <td>0.0</td>\n",
       "      <td>0.000</td>\n",
       "      <td>0.000</td>\n",
       "      <td>0.0</td>\n",
       "      <td>0.102</td>\n",
       "      <td>0.011</td>\n",
       "      <td>0.00</td>\n",
       "      <td>0.000</td>\n",
       "      <td>0.0</td>\n",
       "      <td>0.000</td>\n",
       "      <td>time_windows_1</td>\n",
       "    </tr>\n",
       "    <tr>\n",
       "      <th>7</th>\n",
       "      <td>0.000</td>\n",
       "      <td>0.0</td>\n",
       "      <td>0.000</td>\n",
       "      <td>0.0</td>\n",
       "      <td>0.0</td>\n",
       "      <td>0.000</td>\n",
       "      <td>0.000</td>\n",
       "      <td>0.0</td>\n",
       "      <td>0.000</td>\n",
       "      <td>0.000</td>\n",
       "      <td>0.00</td>\n",
       "      <td>0.000</td>\n",
       "      <td>0.0</td>\n",
       "      <td>0.000</td>\n",
       "      <td>time_windows_1</td>\n",
       "    </tr>\n",
       "    <tr>\n",
       "      <th>8</th>\n",
       "      <td>0.000</td>\n",
       "      <td>0.0</td>\n",
       "      <td>0.000</td>\n",
       "      <td>0.0</td>\n",
       "      <td>0.0</td>\n",
       "      <td>0.000</td>\n",
       "      <td>0.000</td>\n",
       "      <td>0.0</td>\n",
       "      <td>0.000</td>\n",
       "      <td>0.000</td>\n",
       "      <td>0.00</td>\n",
       "      <td>0.689</td>\n",
       "      <td>0.0</td>\n",
       "      <td>0.000</td>\n",
       "      <td>time_windows_1</td>\n",
       "    </tr>\n",
       "    <tr>\n",
       "      <th>9</th>\n",
       "      <td>0.000</td>\n",
       "      <td>0.0</td>\n",
       "      <td>0.003</td>\n",
       "      <td>0.0</td>\n",
       "      <td>0.0</td>\n",
       "      <td>0.057</td>\n",
       "      <td>0.000</td>\n",
       "      <td>0.0</td>\n",
       "      <td>0.000</td>\n",
       "      <td>0.000</td>\n",
       "      <td>0.00</td>\n",
       "      <td>0.049</td>\n",
       "      <td>0.0</td>\n",
       "      <td>0.000</td>\n",
       "      <td>time_windows_1</td>\n",
       "    </tr>\n",
       "    <tr>\n",
       "      <th>10</th>\n",
       "      <td>0.000</td>\n",
       "      <td>0.0</td>\n",
       "      <td>0.000</td>\n",
       "      <td>0.0</td>\n",
       "      <td>0.0</td>\n",
       "      <td>0.000</td>\n",
       "      <td>0.000</td>\n",
       "      <td>0.0</td>\n",
       "      <td>0.000</td>\n",
       "      <td>0.000</td>\n",
       "      <td>0.02</td>\n",
       "      <td>0.090</td>\n",
       "      <td>0.0</td>\n",
       "      <td>0.000</td>\n",
       "      <td>time_windows_1</td>\n",
       "    </tr>\n",
       "    <tr>\n",
       "      <th>11</th>\n",
       "      <td>0.000</td>\n",
       "      <td>0.0</td>\n",
       "      <td>0.000</td>\n",
       "      <td>0.0</td>\n",
       "      <td>0.0</td>\n",
       "      <td>0.000</td>\n",
       "      <td>0.025</td>\n",
       "      <td>0.0</td>\n",
       "      <td>0.000</td>\n",
       "      <td>0.000</td>\n",
       "      <td>0.00</td>\n",
       "      <td>0.000</td>\n",
       "      <td>0.0</td>\n",
       "      <td>0.000</td>\n",
       "      <td>time_windows_1</td>\n",
       "    </tr>\n",
       "    <tr>\n",
       "      <th>12</th>\n",
       "      <td>0.000</td>\n",
       "      <td>0.0</td>\n",
       "      <td>0.000</td>\n",
       "      <td>0.0</td>\n",
       "      <td>0.0</td>\n",
       "      <td>0.000</td>\n",
       "      <td>0.000</td>\n",
       "      <td>0.0</td>\n",
       "      <td>0.000</td>\n",
       "      <td>0.016</td>\n",
       "      <td>0.00</td>\n",
       "      <td>0.000</td>\n",
       "      <td>0.0</td>\n",
       "      <td>0.021</td>\n",
       "      <td>time_windows_1</td>\n",
       "    </tr>\n",
       "    <tr>\n",
       "      <th>13</th>\n",
       "      <td>0.000</td>\n",
       "      <td>0.0</td>\n",
       "      <td>0.000</td>\n",
       "      <td>0.0</td>\n",
       "      <td>0.0</td>\n",
       "      <td>0.000</td>\n",
       "      <td>0.000</td>\n",
       "      <td>0.0</td>\n",
       "      <td>0.000</td>\n",
       "      <td>0.002</td>\n",
       "      <td>0.00</td>\n",
       "      <td>0.008</td>\n",
       "      <td>0.0</td>\n",
       "      <td>0.000</td>\n",
       "      <td>time_windows_1</td>\n",
       "    </tr>\n",
       "    <tr>\n",
       "      <th>14</th>\n",
       "      <td>0.000</td>\n",
       "      <td>0.0</td>\n",
       "      <td>0.000</td>\n",
       "      <td>0.0</td>\n",
       "      <td>0.0</td>\n",
       "      <td>0.193</td>\n",
       "      <td>0.000</td>\n",
       "      <td>0.0</td>\n",
       "      <td>0.011</td>\n",
       "      <td>0.000</td>\n",
       "      <td>0.00</td>\n",
       "      <td>0.000</td>\n",
       "      <td>0.0</td>\n",
       "      <td>0.000</td>\n",
       "      <td>time_windows_1</td>\n",
       "    </tr>\n",
       "  </tbody>\n",
       "</table>\n",
       "</div>"
      ],
      "text/plain": [
       "                    topic_1  topic_2  topic_3  topic_4  topic_5  topic_6  \\\n",
       "time_windows_topic                                                         \n",
       "0                     0.000      0.0    0.000      0.0      0.0    0.000   \n",
       "1                     0.000      0.0    0.000      0.0      0.0    0.000   \n",
       "2                     0.000      0.0    0.000      0.0      0.0    0.000   \n",
       "3                     0.201      0.0    0.000      0.0      0.0    0.000   \n",
       "4                     0.000      0.0    0.000      0.0      0.0    0.000   \n",
       "5                     0.000      0.0    0.000      0.0      0.0    0.000   \n",
       "6                     0.000      0.0    0.000      0.0      0.0    0.000   \n",
       "7                     0.000      0.0    0.000      0.0      0.0    0.000   \n",
       "8                     0.000      0.0    0.000      0.0      0.0    0.000   \n",
       "9                     0.000      0.0    0.003      0.0      0.0    0.057   \n",
       "10                    0.000      0.0    0.000      0.0      0.0    0.000   \n",
       "11                    0.000      0.0    0.000      0.0      0.0    0.000   \n",
       "12                    0.000      0.0    0.000      0.0      0.0    0.000   \n",
       "13                    0.000      0.0    0.000      0.0      0.0    0.000   \n",
       "14                    0.000      0.0    0.000      0.0      0.0    0.193   \n",
       "\n",
       "                    topic_7  topic_8  topic_9  topic_10  topic_11  topic_12  \\\n",
       "time_windows_topic                                                            \n",
       "0                     0.000      0.0    0.000     0.000      0.00     0.597   \n",
       "1                     0.000      0.0    0.000     0.000      0.00     0.000   \n",
       "2                     0.000      0.0    0.000     0.000      0.00     0.011   \n",
       "3                     0.000      0.0    0.000     0.000      0.00     0.000   \n",
       "4                     0.000      0.0    0.000     0.000      0.00     0.049   \n",
       "5                     0.000      0.0    0.000     0.000      0.00     0.010   \n",
       "6                     0.000      0.0    0.102     0.011      0.00     0.000   \n",
       "7                     0.000      0.0    0.000     0.000      0.00     0.000   \n",
       "8                     0.000      0.0    0.000     0.000      0.00     0.689   \n",
       "9                     0.000      0.0    0.000     0.000      0.00     0.049   \n",
       "10                    0.000      0.0    0.000     0.000      0.02     0.090   \n",
       "11                    0.025      0.0    0.000     0.000      0.00     0.000   \n",
       "12                    0.000      0.0    0.000     0.016      0.00     0.000   \n",
       "13                    0.000      0.0    0.000     0.002      0.00     0.008   \n",
       "14                    0.000      0.0    0.011     0.000      0.00     0.000   \n",
       "\n",
       "                    topic_13  topic_14    time_windows  \n",
       "time_windows_topic                                      \n",
       "0                        0.0     0.000  time_windows_1  \n",
       "1                        0.0     0.000  time_windows_1  \n",
       "2                        0.0     0.000  time_windows_1  \n",
       "3                        0.0     0.000  time_windows_1  \n",
       "4                        0.0     0.000  time_windows_1  \n",
       "5                        0.0     0.000  time_windows_1  \n",
       "6                        0.0     0.000  time_windows_1  \n",
       "7                        0.0     0.000  time_windows_1  \n",
       "8                        0.0     0.000  time_windows_1  \n",
       "9                        0.0     0.000  time_windows_1  \n",
       "10                       0.0     0.000  time_windows_1  \n",
       "11                       0.0     0.000  time_windows_1  \n",
       "12                       0.0     0.021  time_windows_1  \n",
       "13                       0.0     0.000  time_windows_1  \n",
       "14                       0.0     0.000  time_windows_1  "
      ]
     },
     "execution_count": 93,
     "metadata": {},
     "output_type": "execute_result"
    }
   ],
   "source": [
    "time_windows_doc_topics.head(cumm_best_k[0])"
   ]
  },
  {
   "cell_type": "code",
   "execution_count": 94,
   "metadata": {},
   "outputs": [],
   "source": [
    "time_windows_doc_topics = time_windows_doc_topics.groupby(\"time_windows\").agg(sum)"
   ]
  },
  {
   "cell_type": "code",
   "execution_count": 95,
   "metadata": {},
   "outputs": [],
   "source": [
    "time_windows_doc_topics['index'] = time_windows_doc_topics.index.map(lambda x: x.split('_')[2]).astype(int)"
   ]
  },
  {
   "cell_type": "code",
   "execution_count": 96,
   "metadata": {},
   "outputs": [],
   "source": [
    "time_windows_doc_topics = time_windows_doc_topics.sort_values(\"index\").drop('index', axis=\"columns\")"
   ]
  },
  {
   "cell_type": "code",
   "execution_count": 97,
   "metadata": {},
   "outputs": [],
   "source": [
    "time_windows_doc_topics[\"most_commont\"]  = time_windows_doc_topics.idxmax(axis='columns', skipna=True)"
   ]
  },
  {
   "cell_type": "code",
   "execution_count": 98,
   "metadata": {},
   "outputs": [
    {
     "data": {
      "text/html": [
       "<div>\n",
       "<style scoped>\n",
       "    .dataframe tbody tr th:only-of-type {\n",
       "        vertical-align: middle;\n",
       "    }\n",
       "\n",
       "    .dataframe tbody tr th {\n",
       "        vertical-align: top;\n",
       "    }\n",
       "\n",
       "    .dataframe thead th {\n",
       "        text-align: right;\n",
       "    }\n",
       "</style>\n",
       "<table border=\"1\" class=\"dataframe\">\n",
       "  <thead>\n",
       "    <tr style=\"text-align: right;\">\n",
       "      <th></th>\n",
       "      <th>topic_1</th>\n",
       "      <th>topic_2</th>\n",
       "      <th>topic_3</th>\n",
       "      <th>topic_4</th>\n",
       "      <th>topic_5</th>\n",
       "      <th>topic_6</th>\n",
       "      <th>topic_7</th>\n",
       "      <th>topic_8</th>\n",
       "      <th>topic_9</th>\n",
       "      <th>topic_10</th>\n",
       "      <th>topic_11</th>\n",
       "      <th>topic_12</th>\n",
       "      <th>topic_13</th>\n",
       "      <th>topic_14</th>\n",
       "      <th>most_commont</th>\n",
       "    </tr>\n",
       "    <tr>\n",
       "      <th>time_windows</th>\n",
       "      <th></th>\n",
       "      <th></th>\n",
       "      <th></th>\n",
       "      <th></th>\n",
       "      <th></th>\n",
       "      <th></th>\n",
       "      <th></th>\n",
       "      <th></th>\n",
       "      <th></th>\n",
       "      <th></th>\n",
       "      <th></th>\n",
       "      <th></th>\n",
       "      <th></th>\n",
       "      <th></th>\n",
       "      <th></th>\n",
       "    </tr>\n",
       "  </thead>\n",
       "  <tbody>\n",
       "    <tr>\n",
       "      <th>time_windows_1</th>\n",
       "      <td>0.489</td>\n",
       "      <td>0.000</td>\n",
       "      <td>0.003</td>\n",
       "      <td>0.000</td>\n",
       "      <td>0.000</td>\n",
       "      <td>0.250</td>\n",
       "      <td>0.025</td>\n",
       "      <td>0.000</td>\n",
       "      <td>0.113</td>\n",
       "      <td>0.029</td>\n",
       "      <td>0.020</td>\n",
       "      <td>1.519</td>\n",
       "      <td>0.000</td>\n",
       "      <td>0.021</td>\n",
       "      <td>topic_12</td>\n",
       "    </tr>\n",
       "    <tr>\n",
       "      <th>time_windows_2</th>\n",
       "      <td>0.199</td>\n",
       "      <td>0.000</td>\n",
       "      <td>0.000</td>\n",
       "      <td>0.000</td>\n",
       "      <td>0.000</td>\n",
       "      <td>0.550</td>\n",
       "      <td>0.000</td>\n",
       "      <td>0.000</td>\n",
       "      <td>0.178</td>\n",
       "      <td>0.289</td>\n",
       "      <td>0.000</td>\n",
       "      <td>0.022</td>\n",
       "      <td>0.850</td>\n",
       "      <td>0.791</td>\n",
       "      <td>topic_13</td>\n",
       "    </tr>\n",
       "    <tr>\n",
       "      <th>time_windows_3</th>\n",
       "      <td>0.000</td>\n",
       "      <td>0.000</td>\n",
       "      <td>0.000</td>\n",
       "      <td>0.000</td>\n",
       "      <td>0.000</td>\n",
       "      <td>0.003</td>\n",
       "      <td>0.000</td>\n",
       "      <td>0.792</td>\n",
       "      <td>0.000</td>\n",
       "      <td>0.004</td>\n",
       "      <td>0.000</td>\n",
       "      <td>0.000</td>\n",
       "      <td>0.032</td>\n",
       "      <td>0.276</td>\n",
       "      <td>topic_8</td>\n",
       "    </tr>\n",
       "    <tr>\n",
       "      <th>time_windows_4</th>\n",
       "      <td>0.094</td>\n",
       "      <td>0.000</td>\n",
       "      <td>0.000</td>\n",
       "      <td>0.000</td>\n",
       "      <td>0.000</td>\n",
       "      <td>0.017</td>\n",
       "      <td>0.000</td>\n",
       "      <td>0.792</td>\n",
       "      <td>0.000</td>\n",
       "      <td>0.321</td>\n",
       "      <td>0.000</td>\n",
       "      <td>0.363</td>\n",
       "      <td>0.000</td>\n",
       "      <td>0.079</td>\n",
       "      <td>topic_8</td>\n",
       "    </tr>\n",
       "    <tr>\n",
       "      <th>time_windows_5</th>\n",
       "      <td>0.000</td>\n",
       "      <td>0.000</td>\n",
       "      <td>0.000</td>\n",
       "      <td>0.000</td>\n",
       "      <td>0.000</td>\n",
       "      <td>0.000</td>\n",
       "      <td>0.000</td>\n",
       "      <td>0.000</td>\n",
       "      <td>0.000</td>\n",
       "      <td>0.000</td>\n",
       "      <td>0.000</td>\n",
       "      <td>0.000</td>\n",
       "      <td>0.068</td>\n",
       "      <td>0.249</td>\n",
       "      <td>topic_14</td>\n",
       "    </tr>\n",
       "    <tr>\n",
       "      <th>time_windows_6</th>\n",
       "      <td>0.000</td>\n",
       "      <td>0.000</td>\n",
       "      <td>0.836</td>\n",
       "      <td>0.000</td>\n",
       "      <td>0.000</td>\n",
       "      <td>0.053</td>\n",
       "      <td>0.000</td>\n",
       "      <td>0.000</td>\n",
       "      <td>0.000</td>\n",
       "      <td>0.530</td>\n",
       "      <td>0.000</td>\n",
       "      <td>0.000</td>\n",
       "      <td>0.053</td>\n",
       "      <td>0.000</td>\n",
       "      <td>topic_3</td>\n",
       "    </tr>\n",
       "    <tr>\n",
       "      <th>time_windows_7</th>\n",
       "      <td>0.000</td>\n",
       "      <td>0.000</td>\n",
       "      <td>0.836</td>\n",
       "      <td>0.000</td>\n",
       "      <td>0.000</td>\n",
       "      <td>0.000</td>\n",
       "      <td>0.000</td>\n",
       "      <td>0.000</td>\n",
       "      <td>0.187</td>\n",
       "      <td>0.000</td>\n",
       "      <td>0.019</td>\n",
       "      <td>0.233</td>\n",
       "      <td>0.001</td>\n",
       "      <td>0.000</td>\n",
       "      <td>topic_3</td>\n",
       "    </tr>\n",
       "    <tr>\n",
       "      <th>time_windows_8</th>\n",
       "      <td>0.000</td>\n",
       "      <td>0.000</td>\n",
       "      <td>0.000</td>\n",
       "      <td>0.000</td>\n",
       "      <td>0.000</td>\n",
       "      <td>0.000</td>\n",
       "      <td>0.000</td>\n",
       "      <td>0.000</td>\n",
       "      <td>0.000</td>\n",
       "      <td>0.000</td>\n",
       "      <td>0.000</td>\n",
       "      <td>0.000</td>\n",
       "      <td>0.219</td>\n",
       "      <td>0.000</td>\n",
       "      <td>topic_13</td>\n",
       "    </tr>\n",
       "    <tr>\n",
       "      <th>time_windows_9</th>\n",
       "      <td>0.600</td>\n",
       "      <td>0.000</td>\n",
       "      <td>0.000</td>\n",
       "      <td>0.758</td>\n",
       "      <td>0.000</td>\n",
       "      <td>0.002</td>\n",
       "      <td>0.000</td>\n",
       "      <td>0.000</td>\n",
       "      <td>0.000</td>\n",
       "      <td>0.000</td>\n",
       "      <td>0.002</td>\n",
       "      <td>0.010</td>\n",
       "      <td>0.464</td>\n",
       "      <td>0.000</td>\n",
       "      <td>topic_4</td>\n",
       "    </tr>\n",
       "    <tr>\n",
       "      <th>time_windows_10</th>\n",
       "      <td>0.000</td>\n",
       "      <td>0.000</td>\n",
       "      <td>0.000</td>\n",
       "      <td>0.055</td>\n",
       "      <td>0.811</td>\n",
       "      <td>0.000</td>\n",
       "      <td>0.290</td>\n",
       "      <td>0.000</td>\n",
       "      <td>0.480</td>\n",
       "      <td>0.000</td>\n",
       "      <td>0.854</td>\n",
       "      <td>0.071</td>\n",
       "      <td>0.000</td>\n",
       "      <td>0.000</td>\n",
       "      <td>topic_11</td>\n",
       "    </tr>\n",
       "    <tr>\n",
       "      <th>time_windows_11</th>\n",
       "      <td>0.204</td>\n",
       "      <td>0.000</td>\n",
       "      <td>0.000</td>\n",
       "      <td>0.762</td>\n",
       "      <td>0.811</td>\n",
       "      <td>0.016</td>\n",
       "      <td>0.796</td>\n",
       "      <td>0.000</td>\n",
       "      <td>1.358</td>\n",
       "      <td>0.067</td>\n",
       "      <td>1.188</td>\n",
       "      <td>0.375</td>\n",
       "      <td>0.068</td>\n",
       "      <td>0.000</td>\n",
       "      <td>topic_9</td>\n",
       "    </tr>\n",
       "    <tr>\n",
       "      <th>time_windows_12</th>\n",
       "      <td>0.727</td>\n",
       "      <td>0.000</td>\n",
       "      <td>0.000</td>\n",
       "      <td>0.017</td>\n",
       "      <td>0.000</td>\n",
       "      <td>0.000</td>\n",
       "      <td>0.821</td>\n",
       "      <td>0.000</td>\n",
       "      <td>0.309</td>\n",
       "      <td>0.439</td>\n",
       "      <td>0.000</td>\n",
       "      <td>0.002</td>\n",
       "      <td>0.000</td>\n",
       "      <td>0.000</td>\n",
       "      <td>topic_7</td>\n",
       "    </tr>\n",
       "    <tr>\n",
       "      <th>time_windows_13</th>\n",
       "      <td>0.270</td>\n",
       "      <td>0.761</td>\n",
       "      <td>0.126</td>\n",
       "      <td>0.098</td>\n",
       "      <td>0.000</td>\n",
       "      <td>1.190</td>\n",
       "      <td>0.000</td>\n",
       "      <td>0.000</td>\n",
       "      <td>0.133</td>\n",
       "      <td>1.001</td>\n",
       "      <td>0.000</td>\n",
       "      <td>0.159</td>\n",
       "      <td>0.000</td>\n",
       "      <td>0.948</td>\n",
       "      <td>topic_6</td>\n",
       "    </tr>\n",
       "    <tr>\n",
       "      <th>time_windows_14</th>\n",
       "      <td>0.564</td>\n",
       "      <td>0.761</td>\n",
       "      <td>0.000</td>\n",
       "      <td>0.098</td>\n",
       "      <td>0.000</td>\n",
       "      <td>0.631</td>\n",
       "      <td>0.000</td>\n",
       "      <td>0.000</td>\n",
       "      <td>0.000</td>\n",
       "      <td>0.056</td>\n",
       "      <td>0.000</td>\n",
       "      <td>0.001</td>\n",
       "      <td>0.000</td>\n",
       "      <td>0.023</td>\n",
       "      <td>topic_2</td>\n",
       "    </tr>\n",
       "    <tr>\n",
       "      <th>time_windows_15</th>\n",
       "      <td>0.566</td>\n",
       "      <td>0.725</td>\n",
       "      <td>0.000</td>\n",
       "      <td>0.000</td>\n",
       "      <td>0.032</td>\n",
       "      <td>0.009</td>\n",
       "      <td>0.000</td>\n",
       "      <td>0.000</td>\n",
       "      <td>0.000</td>\n",
       "      <td>0.058</td>\n",
       "      <td>0.000</td>\n",
       "      <td>0.000</td>\n",
       "      <td>0.720</td>\n",
       "      <td>0.000</td>\n",
       "      <td>topic_2</td>\n",
       "    </tr>\n",
       "  </tbody>\n",
       "</table>\n",
       "</div>"
      ],
      "text/plain": [
       "                 topic_1  topic_2  topic_3  topic_4  topic_5  topic_6  \\\n",
       "time_windows                                                            \n",
       "time_windows_1     0.489    0.000    0.003    0.000    0.000    0.250   \n",
       "time_windows_2     0.199    0.000    0.000    0.000    0.000    0.550   \n",
       "time_windows_3     0.000    0.000    0.000    0.000    0.000    0.003   \n",
       "time_windows_4     0.094    0.000    0.000    0.000    0.000    0.017   \n",
       "time_windows_5     0.000    0.000    0.000    0.000    0.000    0.000   \n",
       "time_windows_6     0.000    0.000    0.836    0.000    0.000    0.053   \n",
       "time_windows_7     0.000    0.000    0.836    0.000    0.000    0.000   \n",
       "time_windows_8     0.000    0.000    0.000    0.000    0.000    0.000   \n",
       "time_windows_9     0.600    0.000    0.000    0.758    0.000    0.002   \n",
       "time_windows_10    0.000    0.000    0.000    0.055    0.811    0.000   \n",
       "time_windows_11    0.204    0.000    0.000    0.762    0.811    0.016   \n",
       "time_windows_12    0.727    0.000    0.000    0.017    0.000    0.000   \n",
       "time_windows_13    0.270    0.761    0.126    0.098    0.000    1.190   \n",
       "time_windows_14    0.564    0.761    0.000    0.098    0.000    0.631   \n",
       "time_windows_15    0.566    0.725    0.000    0.000    0.032    0.009   \n",
       "\n",
       "                 topic_7  topic_8  topic_9  topic_10  topic_11  topic_12  \\\n",
       "time_windows                                                               \n",
       "time_windows_1     0.025    0.000    0.113     0.029     0.020     1.519   \n",
       "time_windows_2     0.000    0.000    0.178     0.289     0.000     0.022   \n",
       "time_windows_3     0.000    0.792    0.000     0.004     0.000     0.000   \n",
       "time_windows_4     0.000    0.792    0.000     0.321     0.000     0.363   \n",
       "time_windows_5     0.000    0.000    0.000     0.000     0.000     0.000   \n",
       "time_windows_6     0.000    0.000    0.000     0.530     0.000     0.000   \n",
       "time_windows_7     0.000    0.000    0.187     0.000     0.019     0.233   \n",
       "time_windows_8     0.000    0.000    0.000     0.000     0.000     0.000   \n",
       "time_windows_9     0.000    0.000    0.000     0.000     0.002     0.010   \n",
       "time_windows_10    0.290    0.000    0.480     0.000     0.854     0.071   \n",
       "time_windows_11    0.796    0.000    1.358     0.067     1.188     0.375   \n",
       "time_windows_12    0.821    0.000    0.309     0.439     0.000     0.002   \n",
       "time_windows_13    0.000    0.000    0.133     1.001     0.000     0.159   \n",
       "time_windows_14    0.000    0.000    0.000     0.056     0.000     0.001   \n",
       "time_windows_15    0.000    0.000    0.000     0.058     0.000     0.000   \n",
       "\n",
       "                 topic_13  topic_14 most_commont  \n",
       "time_windows                                      \n",
       "time_windows_1      0.000     0.021     topic_12  \n",
       "time_windows_2      0.850     0.791     topic_13  \n",
       "time_windows_3      0.032     0.276      topic_8  \n",
       "time_windows_4      0.000     0.079      topic_8  \n",
       "time_windows_5      0.068     0.249     topic_14  \n",
       "time_windows_6      0.053     0.000      topic_3  \n",
       "time_windows_7      0.001     0.000      topic_3  \n",
       "time_windows_8      0.219     0.000     topic_13  \n",
       "time_windows_9      0.464     0.000      topic_4  \n",
       "time_windows_10     0.000     0.000     topic_11  \n",
       "time_windows_11     0.068     0.000      topic_9  \n",
       "time_windows_12     0.000     0.000      topic_7  \n",
       "time_windows_13     0.000     0.948      topic_6  \n",
       "time_windows_14     0.000     0.023      topic_2  \n",
       "time_windows_15     0.720     0.000      topic_2  "
      ]
     },
     "execution_count": 98,
     "metadata": {},
     "output_type": "execute_result"
    }
   ],
   "source": [
    "time_windows_doc_topics"
   ]
  },
  {
   "cell_type": "code",
   "execution_count": 99,
   "metadata": {},
   "outputs": [
    {
     "name": "stdout",
     "output_type": "stream",
     "text": [
      "Topic 1.0 === describe by : felix_tshisekedi=:0.45, felix=:0.45, tshisekedi=:0.44, tshilombo=:0.42, tshisekedi_tshilombo=:0.42, felixantoin_tshisekedi=:0.39, felixantoin=:0.39, chef_felixantoin=:0.39, chef=:0.27, felixantoine=:0.18\n",
      "=:=:=:=:=:=:=:=:=:=:=:=:=:=:=:=:=:=:=:=:\n",
      "Topic 2.0 === describe by : rtvnews_rtvonlin=:0.35, breakingnews_newsupdat=:0.35, breakingnew=:0.35, new=:0.35, new_rtvnews=:0.35, rtv=:0.35, rtv_new=:0.35, newsupdat=:0.35, breakingnews=:0.35, rtvnews=:0.35\n",
      "=:=:=:=:=:=:=:=:=:=:=:=:=:=:=:=:=:=:=:=:\n",
      "Topic 3.0 === describe by : pretendre_combattre=:0.32, evangeliste_pretendre=:0.32, accuser_enfant=:0.32, sorcier_pretre=:0.32, evangeliste=:0.32, sorcier=:0.32, combattre_demon=:0.32, demon_kinshaser=:0.32, demon=:0.32, enfant_sorcier=:0.32\n",
      "=:=:=:=:=:=:=:=:=:=:=:=:=:=:=:=:=:=:=:=:\n",
      "Topic 4.0 === describe by : siler_holocaust=:0.34, one_talking=:0.34, siler=:0.34, hold=:0.34, holocaust=:0.34, holocaust_happening=:0.34, nigerier_siler=:0.34, happening_one=:0.34, talking_hold=:0.34, talking=:0.34\n",
      "=:=:=:=:=:=:=:=:=:=:=:=:=:=:=:=:=:=:=:=:\n",
      "Topic 5.0 === describe by : voyon_nigeria=:0.31, propos=:0.31, propos_voyon=:0.31, namibie=:0.31, retweet_propos=:0.31, sensibilison=:0.31, voyon=:0.31, sensibilison_retweet=:0.31, nigeria_namibie=:0.31, nigeria_endsar=:0.31\n",
      "=:=:=:=:=:=:=:=:=:=:=:=:=:=:=:=:=:=:=:=:\n",
      "Topic 6.0 === describe by : assemblee_national=:0.39, assemblee=:0.39, national=:0.39, bureau=:0.35, petition=:0.29, depute=:0.28, mabunda=:0.26, bureau_assemblee=:0.24, general=:0.16, jeanin=:0.14\n",
      "=:=:=:=:=:=:=:=:=:=:=:=:=:=:=:=:=:=:=:=:\n",
      "Topic 7.0 === describe by : zimbabwe=:0.36, suffered=:0.33, zimbabweanlivesmatter_nigerier=:0.33, zimbabweanlivesmatter=:0.33, zimbabwe_zimbabweanlivesmatter=:0.33, enough=:0.33, enough_zimbabwe=:0.33, suffered_enough=:0.33, nigeri=:0.22, nigerier=:0.19\n",
      "=:=:=:=:=:=:=:=:=:=:=:=:=:=:=:=:=:=:=:=:\n",
      "Topic 8.0 === describe by : app=:0.32, download_fre=:0.32, app_listen=:0.32, fre_app=:0.32, fre=:0.32, allaboutluv_download=:0.32, allaboutluv=:0.32, listen=:0.32, download=:0.32, condamner_propo=:0.17\n",
      "=:=:=:=:=:=:=:=:=:=:=:=:=:=:=:=:=:=:=:=:\n",
      "Topic 9.0 === describe by : genocid=:0.39, continuer_toujours=:0.3, toujours_bon=:0.3, bonjour_genocid=:0.3, genocid_continuer=:0.3, genocide=:0.29, genocid_genocid=:0.26, genocide_genocid=:0.26, journee=:0.22, justice=:0.22\n",
      "=:=:=:=:=:=:=:=:=:=:=:=:=:=:=:=:=:=:=:=:\n",
      "Topic 10.0 === describe by : joseph=:0.38, president=:0.33, kabiler=:0.29, joseph_kabiler=:0.29, joseph_kabila=:0.27, kabila=:0.27, lubumbashi=:0.18, annulation_deplacement=:0.17, ancien_president=:0.17, ancien=:0.17\n",
      "=:=:=:=:=:=:=:=:=:=:=:=:=:=:=:=:=:=:=:=:\n",
      "Topic 11.0 === describe by : genocidecongo=:0.36, congoisbleeding=:0.35, congogenocid=:0.34, happening_congoisbleeding=:0.34, congoisbleeding_congogenocid=:0.34, happening=:0.31, congoisbleeding_n=:0.19, endsar_congoisbleeding=:0.19, afriqu_nigeria=:0.19, actuel_afriqu=:0.19\n",
      "=:=:=:=:=:=:=:=:=:=:=:=:=:=:=:=:=:=:=:=:\n",
      "Topic 12.0 === describe by : boot_puant=:0.31, zair_malheur=:0.31, jour=:0.23, savoir=:0.2, ferie=:0.18, constat=:0.18, mai_jour=:0.18, ferie_pose=:0.18, souvent_savoir=:0.18, souvent=:0.18\n",
      "=:=:=:=:=:=:=:=:=:=:=:=:=:=:=:=:=:=:=:=:\n",
      "Topic 13.0 === describe by : aujourd_hui=:0.29, aujourd=:0.29, hui=:0.29, massacre=:0.26, an=:0.22, jeune=:0.21, retweet_encourager=:0.18, encourager_jeune=:0.18, jeune_pilote=:0.18, pilote=:0.18\n",
      "=:=:=:=:=:=:=:=:=:=:=:=:=:=:=:=:=:=:=:=:\n",
      "Topic 14.0 === describe by : fcccach=:0.27, coalition=:0.27, coalition_fcccach=:0.27, fin=:0.2, annoncer=:0.19, dissolution=:0.16, tshisekedi_annoncer=:0.16, convergence_fin=:0.16, principal_point=:0.16, point_convergence=:0.16\n",
      "=:=:=:=:=:=:=:=:=:=:=:=:=:=:=:=:=:=:=:=:\n"
     ]
    }
   ],
   "source": [
    "print_topic_descriptor(V, dynamic_terms)"
   ]
  },
  {
   "cell_type": "markdown",
   "metadata": {},
   "source": [
    "let us build the datframe for our topic windows document "
   ]
  },
  {
   "cell_type": "code",
   "execution_count": 100,
   "metadata": {},
   "outputs": [],
   "source": [
    "time_windows_doc_topics = time_windows_doc_topics.drop('most_commont', axis=\"columns\")"
   ]
  },
  {
   "cell_type": "code",
   "execution_count": 101,
   "metadata": {},
   "outputs": [
    {
     "data": {
      "text/plain": [
       "(148, 14)"
      ]
     },
     "execution_count": 101,
     "metadata": {},
     "output_type": "execute_result"
    }
   ],
   "source": [
    "U.shape"
   ]
  },
  {
   "cell_type": "code",
   "execution_count": 102,
   "metadata": {},
   "outputs": [
    {
     "data": {
      "image/png": "[encoded data removed]",
      "text/plain": [
       "<Figure size 1800x900 with 1 Axes>"
      ]
     },
     "metadata": {},
     "output_type": "display_data"
    }
   ],
   "source": [
    "fig, ax = plt.subplots(figsize=(50/2, 25/2))\n",
    "im = ax.imshow(time_windows_doc_topics.values)\n",
    "ax.set_xticks(np.arange(time_windows_doc_topics.shape[1]))\n",
    "ax.set_yticks(np.arange(time_windows_doc_topics.shape[0]))\n",
    "ax.set_xticklabels(time_windows_doc_topics.columns)\n",
    "ax.set_yticklabels(time_windows_doc_topics.index)\n",
    "plt.setp(ax.get_xticklabels(), rotation=45, ha=\"right\",\n",
    "         rotation_mode=\"anchor\")\n",
    "# Loop over data dimensions and create text annotations.\n",
    "for i in range(time_windows_doc_topics.shape[0]):\n",
    "    for j in range(time_windows_doc_topics.shape[1]):\n",
    "        text = ax.text(j, i, time_windows_doc_topics.values[i, j].round(2),\n",
    "                       ha=\"center\", va=\"center\", color=\"w\")\n",
    "ax.set_title(\"topic weight per time windows\")\n",
    "fig.tight_layout()\n",
    "plt.show()"
   ]
  },
  {
   "cell_type": "code",
   "execution_count": 124,
   "metadata": {},
   "outputs": [],
   "source": [
    "from collections import Counter\n",
    "words_counter = set()"
   ]
  },
  {
   "cell_type": "code",
   "execution_count": 139,
   "metadata": {},
   "outputs": [],
   "source": [
    "data_summary = windows_groups.agg({'created_at': lambda x : f\"{x.min().strftime('%d/%m/%Y')} - {x.max().strftime('%d/%m/%Y')}\" if not x.empty else 0, \n",
    "                                   'cleanned_text': [lambda x: x.shape[0], lambda x: x.str.split().explode().nunique()]})"
   ]
  },
  {
   "cell_type": "code",
   "execution_count": 146,
   "metadata": {},
   "outputs": [],
   "source": [
    "data_summary.columns = ['timeframe', 'number of tweets', 'vocabulary size']"
   ]
  },
  {
   "cell_type": "code",
   "execution_count": 150,
   "metadata": {},
   "outputs": [],
   "source": [
    "data_summary = data_summary.reset_index(drop=True)"
   ]
  },
  {
   "cell_type": "code",
   "execution_count": 151,
   "metadata": {},
   "outputs": [
    {
     "data": {
      "text/plain": [
       "'\\\\begin{tabular}{lrr}\\n\\\\toprule\\n               timeframe &  number of tweets &  vocabulary size \\\\\\\\\\n\\\\midrule\\n 13/05/2020 - 17/05/2020 &             16633 &            16848 \\\\\\\\\\n                       0 &                 0 &                0 \\\\\\\\\\n 28/05/2020 - 28/05/2020 &              2000 &             3911 \\\\\\\\\\n                       0 &                 0 &                0 \\\\\\\\\\n                       0 &                 0 &                0 \\\\\\\\\\n                       0 &                 0 &                0 \\\\\\\\\\n                       0 &                 0 &                0 \\\\\\\\\\n                       0 &                 0 &                0 \\\\\\\\\\n                       0 &                 0 &                0 \\\\\\\\\\n                       0 &                 0 &                0 \\\\\\\\\\n                       0 &                 0 &                0 \\\\\\\\\\n                       0 &                 0 &                0 \\\\\\\\\\n                       0 &                 0 &                0 \\\\\\\\\\n                       0 &                 0 &                0 \\\\\\\\\\n                       0 &                 0 &                0 \\\\\\\\\\n 26/08/2020 - 30/08/2020 &             63794 &            36293 \\\\\\\\\\n 31/08/2020 - 31/08/2020 &               637 &             2247 \\\\\\\\\\n 08/09/2020 - 13/09/2020 &             81171 &            43738 \\\\\\\\\\n 14/09/2020 - 20/09/2020 &            115086 &            56887 \\\\\\\\\\n 21/09/2020 - 27/09/2020 &             98984 &            51623 \\\\\\\\\\n 28/09/2020 - 04/10/2020 &            114615 &            56671 \\\\\\\\\\n 05/10/2020 - 11/10/2020 &            109191 &            51339 \\\\\\\\\\n 12/10/2020 - 18/10/2020 &            170758 &            53706 \\\\\\\\\\n 19/10/2020 - 25/10/2020 &            181669 &            57449 \\\\\\\\\\n 26/10/2020 - 27/10/2020 &             18523 &            15648 \\\\\\\\\\n                       0 &                 0 &                0 \\\\\\\\\\n                       0 &                 0 &                0 \\\\\\\\\\n                       0 &                 0 &                0 \\\\\\\\\\n                       0 &                 0 &                0 \\\\\\\\\\n 05/12/2020 - 06/12/2020 &             26914 &            19853 \\\\\\\\\\n 07/12/2020 - 13/12/2020 &            135438 &            53708 \\\\\\\\\\n 14/12/2020 - 19/12/2020 &             79012 &            43112 \\\\\\\\\\n\\\\bottomrule\\n\\\\end{tabular}\\n'"
      ]
     },
     "execution_count": 151,
     "metadata": {},
     "output_type": "execute_result"
    }
   ],
   "source": [
    "data_summary.to_latex(index=False)"
   ]
  },
  {
   "cell_type": "code",
   "execution_count": 157,
   "metadata": {},
   "outputs": [
    {
     "data": {
      "text/plain": [
       "'\\\\begin{tabular}{lrr}\\n\\\\toprule\\n               timeframe &  number of tweets &  vocabulary size \\\\\\\\\\n\\\\midrule\\n 13/05/2020 - 17/05/2020 &             16633 &            16848 \\\\\\\\\\n 28/05/2020 - 28/05/2020 &              2000 &             3911 \\\\\\\\\\n 26/08/2020 - 30/08/2020 &             63794 &            36293 \\\\\\\\\\n 31/08/2020 - 31/08/2020 &               637 &             2247 \\\\\\\\\\n 08/09/2020 - 13/09/2020 &             81171 &            43738 \\\\\\\\\\n 14/09/2020 - 20/09/2020 &            115086 &            56887 \\\\\\\\\\n 21/09/2020 - 27/09/2020 &             98984 &            51623 \\\\\\\\\\n 28/09/2020 - 04/10/2020 &            114615 &            56671 \\\\\\\\\\n 05/10/2020 - 11/10/2020 &            109191 &            51339 \\\\\\\\\\n 12/10/2020 - 18/10/2020 &            170758 &            53706 \\\\\\\\\\n 19/10/2020 - 25/10/2020 &            181669 &            57449 \\\\\\\\\\n 26/10/2020 - 27/10/2020 &             18523 &            15648 \\\\\\\\\\n 05/12/2020 - 06/12/2020 &             26914 &            19853 \\\\\\\\\\n 07/12/2020 - 13/12/2020 &            135438 &            53708 \\\\\\\\\\n 14/12/2020 - 19/12/2020 &             79012 &            43112 \\\\\\\\\\n\\\\bottomrule\\n\\\\end{tabular}\\n'"
      ]
     },
     "execution_count": 157,
     "metadata": {},
     "output_type": "execute_result"
    }
   ],
   "source": [
    "data_summary.replace(0, np.nan).dropna(axis=\"rows\").to_latex(index=False, float_format=\"{:0.0f}\".format)"
   ]
  },
  {
   "cell_type": "code",
   "execution_count": 158,
   "metadata": {},
   "outputs": [
    {
     "data": {
      "text/html": [
       "<div>\n",
       "<style scoped>\n",
       "    .dataframe tbody tr th:only-of-type {\n",
       "        vertical-align: middle;\n",
       "    }\n",
       "\n",
       "    .dataframe tbody tr th {\n",
       "        vertical-align: top;\n",
       "    }\n",
       "\n",
       "    .dataframe thead th {\n",
       "        text-align: right;\n",
       "    }\n",
       "</style>\n",
       "<table border=\"1\" class=\"dataframe\">\n",
       "  <thead>\n",
       "    <tr style=\"text-align: right;\">\n",
       "      <th></th>\n",
       "      <th>timeframe</th>\n",
       "      <th>number of tweets</th>\n",
       "      <th>vocabulary size</th>\n",
       "    </tr>\n",
       "  </thead>\n",
       "  <tbody>\n",
       "    <tr>\n",
       "      <th>0</th>\n",
       "      <td>13/05/2020 - 17/05/2020</td>\n",
       "      <td>16633</td>\n",
       "      <td>16848</td>\n",
       "    </tr>\n",
       "    <tr>\n",
       "      <th>1</th>\n",
       "      <td>0</td>\n",
       "      <td>0</td>\n",
       "      <td>0</td>\n",
       "    </tr>\n",
       "    <tr>\n",
       "      <th>2</th>\n",
       "      <td>28/05/2020 - 28/05/2020</td>\n",
       "      <td>2000</td>\n",
       "      <td>3911</td>\n",
       "    </tr>\n",
       "    <tr>\n",
       "      <th>3</th>\n",
       "      <td>0</td>\n",
       "      <td>0</td>\n",
       "      <td>0</td>\n",
       "    </tr>\n",
       "    <tr>\n",
       "      <th>4</th>\n",
       "      <td>0</td>\n",
       "      <td>0</td>\n",
       "      <td>0</td>\n",
       "    </tr>\n",
       "  </tbody>\n",
       "</table>\n",
       "</div>"
      ],
      "text/plain": [
       "                 timeframe  number of tweets  vocabulary size\n",
       "0  13/05/2020 - 17/05/2020             16633            16848\n",
       "1                        0                 0                0\n",
       "2  28/05/2020 - 28/05/2020              2000             3911\n",
       "3                        0                 0                0\n",
       "4                        0                 0                0"
      ]
     },
     "execution_count": 158,
     "metadata": {},
     "output_type": "execute_result"
    }
   ],
   "source": [
    "data_summary.head()"
   ]
  },
  {
   "cell_type": "code",
   "execution_count": null,
   "metadata": {},
   "outputs": [],
   "source": []
  }
 ],
 "metadata": {
  "kernelspec": {
   "display_name": "nlp-course-venv-v2",
   "language": "python",
   "name": "nlp-course-venv-v2"
  },
  "language_info": {
   "codemirror_mode": {
    "name": "ipython",
    "version": 3
   },
   "file_extension": ".py",
   "mimetype": "text/x-python",
   "name": "python",
   "nbconvert_exporter": "python",
   "pygments_lexer": "ipython3",
   "version": "3.6.5"
  }
 },
 "nbformat": 4,
 "nbformat_minor": 4
}
