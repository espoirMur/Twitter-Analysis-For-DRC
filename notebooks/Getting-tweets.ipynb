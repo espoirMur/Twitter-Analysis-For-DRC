{
 "cells": [
  {
   "cell_type": "markdown",
   "metadata": {},
   "source": [
    "In this notebook we will call the twitter api and check the data we can retrieve from it."
   ]
  },
  {
   "cell_type": "code",
   "execution_count": 7,
   "metadata": {},
   "outputs": [],
   "source": [
    "from tweepy import Cursor"
   ]
  },
  {
   "cell_type": "code",
   "execution_count": 8,
   "metadata": {},
   "outputs": [],
   "source": [
    "from tweets_queries.twitter_query_data import query_tweets\n",
    "from tweets_queries.twitter_client import get_twitter_client"
   ]
  },
  {
   "cell_type": "code",
   "execution_count": 9,
   "metadata": {
    "scrolled": true
   },
   "outputs": [
    {
     "name": "stdout",
     "output_type": "stream",
     "text": [
      "Twitter error response: status code = 403 **********\n"
     ]
    },
    {
     "ename": "TweepError",
     "evalue": "Twitter error response: status code = 403",
     "output_type": "error",
     "traceback": [
      "\u001b[0;31m---------------------------------------------------------------------------\u001b[0m",
      "\u001b[0;31mTweepError\u001b[0m                                Traceback (most recent call last)",
      "Cell \u001b[0;32mIn[9], line 2\u001b[0m\n\u001b[1;32m      1\u001b[0m client \u001b[39m=\u001b[39m get_twitter_client() \n\u001b[0;32m----> 2\u001b[0m \u001b[39mfor\u001b[39;00m status \u001b[39min\u001b[39;00m Cursor(client\u001b[39m.\u001b[39mhome_timeline)\u001b[39m.\u001b[39mitems(\u001b[39m10\u001b[39m): \n\u001b[1;32m      3\u001b[0m     \u001b[39m# Process a single status \u001b[39;00m\n\u001b[1;32m      4\u001b[0m     \u001b[39mprint\u001b[39m(status\u001b[39m.\u001b[39mtext)\n\u001b[1;32m      5\u001b[0m     \u001b[39mprint\u001b[39m(\u001b[39m'\u001b[39m\u001b[39m======\u001b[39m\u001b[39m'\u001b[39m)\n",
      "File \u001b[0;32m~/Projects/Personal/balobi_nini/.venv/lib/python3.10/site-packages/tweepy/cursor.py:49\u001b[0m, in \u001b[0;36mBaseIterator.__next__\u001b[0;34m(self)\u001b[0m\n\u001b[1;32m     48\u001b[0m \u001b[39mdef\u001b[39;00m \u001b[39m__next__\u001b[39m(\u001b[39mself\u001b[39m):\n\u001b[0;32m---> 49\u001b[0m     \u001b[39mreturn\u001b[39;00m \u001b[39mself\u001b[39;49m\u001b[39m.\u001b[39;49mnext()\n",
      "File \u001b[0;32m~/Projects/Personal/balobi_nini/.venv/lib/python3.10/site-packages/tweepy/cursor.py:197\u001b[0m, in \u001b[0;36mItemIterator.next\u001b[0;34m(self)\u001b[0m\n\u001b[1;32m    194\u001b[0m         \u001b[39mraise\u001b[39;00m \u001b[39mStopIteration\u001b[39;00m\n\u001b[1;32m    195\u001b[0m \u001b[39mif\u001b[39;00m \u001b[39mself\u001b[39m\u001b[39m.\u001b[39mcurrent_page \u001b[39mis\u001b[39;00m \u001b[39mNone\u001b[39;00m \u001b[39mor\u001b[39;00m \u001b[39mself\u001b[39m\u001b[39m.\u001b[39mpage_index \u001b[39m==\u001b[39m \u001b[39mlen\u001b[39m(\u001b[39mself\u001b[39m\u001b[39m.\u001b[39mcurrent_page) \u001b[39m-\u001b[39m \u001b[39m1\u001b[39m:\n\u001b[1;32m    196\u001b[0m     \u001b[39m# Reached end of current page, get the next page...\u001b[39;00m\n\u001b[0;32m--> 197\u001b[0m     \u001b[39mself\u001b[39m\u001b[39m.\u001b[39mcurrent_page \u001b[39m=\u001b[39m \u001b[39mself\u001b[39;49m\u001b[39m.\u001b[39;49mpage_iterator\u001b[39m.\u001b[39;49mnext()\n\u001b[1;32m    198\u001b[0m     \u001b[39mself\u001b[39m\u001b[39m.\u001b[39mpage_index \u001b[39m=\u001b[39m \u001b[39m-\u001b[39m\u001b[39m1\u001b[39m\n\u001b[1;32m    199\u001b[0m \u001b[39mself\u001b[39m\u001b[39m.\u001b[39mpage_index \u001b[39m+\u001b[39m\u001b[39m=\u001b[39m \u001b[39m1\u001b[39m\n",
      "File \u001b[0;32m~/Projects/Personal/balobi_nini/.venv/lib/python3.10/site-packages/tweepy/cursor.py:108\u001b[0m, in \u001b[0;36mIdIterator.next\u001b[0;34m(self)\u001b[0m\n\u001b[1;32m    105\u001b[0m     \u001b[39mraise\u001b[39;00m \u001b[39mStopIteration\u001b[39;00m\n\u001b[1;32m    107\u001b[0m \u001b[39mif\u001b[39;00m \u001b[39mself\u001b[39m\u001b[39m.\u001b[39mindex \u001b[39m>\u001b[39m\u001b[39m=\u001b[39m \u001b[39mlen\u001b[39m(\u001b[39mself\u001b[39m\u001b[39m.\u001b[39mresults) \u001b[39m-\u001b[39m \u001b[39m1\u001b[39m:\n\u001b[0;32m--> 108\u001b[0m     data \u001b[39m=\u001b[39m \u001b[39mself\u001b[39;49m\u001b[39m.\u001b[39;49mmethod(max_id\u001b[39m=\u001b[39;49m\u001b[39mself\u001b[39;49m\u001b[39m.\u001b[39;49mmax_id, parser\u001b[39m=\u001b[39;49mRawParser(), \u001b[39m*\u001b[39;49m\u001b[39mself\u001b[39;49m\u001b[39m.\u001b[39;49margs, \u001b[39m*\u001b[39;49m\u001b[39m*\u001b[39;49m\u001b[39mself\u001b[39;49m\u001b[39m.\u001b[39;49mkargs)\n\u001b[1;32m    110\u001b[0m     \u001b[39mif\u001b[39;00m \u001b[39mhasattr\u001b[39m(\u001b[39mself\u001b[39m\u001b[39m.\u001b[39mmethod, \u001b[39m'\u001b[39m\u001b[39m__self__\u001b[39m\u001b[39m'\u001b[39m):\n\u001b[1;32m    111\u001b[0m         old_parser \u001b[39m=\u001b[39m \u001b[39mself\u001b[39m\u001b[39m.\u001b[39mmethod\u001b[39m.\u001b[39m\u001b[39m__self__\u001b[39m\u001b[39m.\u001b[39mparser\n",
      "File \u001b[0;32m~/Projects/Personal/balobi_nini/.venv/lib/python3.10/site-packages/tweepy/binder.py:251\u001b[0m, in \u001b[0;36mbind_api.<locals>._call\u001b[0;34m(*args, **kwargs)\u001b[0m\n\u001b[1;32m    249\u001b[0m     \u001b[39mreturn\u001b[39;00m method\n\u001b[1;32m    250\u001b[0m \u001b[39melse\u001b[39;00m:\n\u001b[0;32m--> 251\u001b[0m     \u001b[39mreturn\u001b[39;00m method\u001b[39m.\u001b[39;49mexecute()\n",
      "File \u001b[0;32m~/Projects/Personal/balobi_nini/.venv/lib/python3.10/site-packages/tweepy/binder.py:235\u001b[0m, in \u001b[0;36mbind_api.<locals>.APIMethod.execute\u001b[0;34m(self)\u001b[0m\n\u001b[1;32m    233\u001b[0m     \u001b[39melse\u001b[39;00m:\n\u001b[1;32m    234\u001b[0m         \u001b[39mprint\u001b[39m(error_msg, \u001b[39m10\u001b[39m \u001b[39m*\u001b[39m \u001b[39m'\u001b[39m\u001b[39m*\u001b[39m\u001b[39m'\u001b[39m)\n\u001b[0;32m--> 235\u001b[0m         \u001b[39mraise\u001b[39;00m TweepError(error_msg, resp, api_code\u001b[39m=\u001b[39mapi_error_code)\n\u001b[1;32m    237\u001b[0m \u001b[39m# Parse the response payload\u001b[39;00m\n\u001b[1;32m    238\u001b[0m result \u001b[39m=\u001b[39m \u001b[39mself\u001b[39m\u001b[39m.\u001b[39mparser\u001b[39m.\u001b[39mparse(\u001b[39mself\u001b[39m, resp\u001b[39m.\u001b[39mtext)\n",
      "\u001b[0;31mTweepError\u001b[0m: Twitter error response: status code = 403"
     ]
    }
   ],
   "source": [
    "client = get_twitter_client() \n",
    "for status in Cursor(client.home_timeline).items(10): \n",
    "    # Process a single status \n",
    "    print(status.text)\n",
    "    print('======')"
   ]
  },
  {
   "cell_type": "code",
   "execution_count": null,
   "metadata": {},
   "outputs": [],
   "source": []
  }
 ],
 "metadata": {
  "kernelspec": {
   "display_name": "Python 3",
   "language": "python",
   "name": "python3"
  },
  "language_info": {
   "codemirror_mode": {
    "name": "ipython",
    "version": 3
   },
   "file_extension": ".py",
   "mimetype": "text/x-python",
   "name": "python",
   "nbconvert_exporter": "python",
   "pygments_lexer": "ipython3",
   "version": "3.10.4"
  }
 },
 "nbformat": 4,
 "nbformat_minor": 2
}
