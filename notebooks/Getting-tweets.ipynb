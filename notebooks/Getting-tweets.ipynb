{
 "cells": [
  {
   "cell_type": "markdown",
   "metadata": {},
   "source": [
    "In this notebook we will call the twitter api and check the data we can retrieve from it."
   ]
  },
  {
   "cell_type": "code",
   "execution_count": 2,
   "metadata": {},
   "outputs": [],
   "source": [
    "from tweepy import Cursor"
   ]
  },
  {
   "cell_type": "code",
   "execution_count": 3,
   "metadata": {},
   "outputs": [],
   "source": [
    "# %load ../scripts/twitter_client.py\n",
    "# Chap02-03/twitter_client.py\n",
    "import os\n",
    "import sys\n",
    "import json\n",
    "from tweepy import API\n",
    "from tweepy import OAuthHandler\n",
    "\n",
    "\n",
    "def read_credential(filename):\n",
    "    \"\"\"\n",
    "    read json file with twitter credentials into a python dictionary\n",
    "    \"\"\"\n",
    "    with open(filename) as f_in:\n",
    "        return(json.load(f_in))\n",
    "\n",
    "\n",
    "def get_twitter_auth():\n",
    "    \"\"\"Setup Twitter authentication.\n",
    "\n",
    "    Return: tweepy.OAuthHandler object\n",
    "    \"\"\"\n",
    "    try:\n",
    "        credentials = read_credential('credentials.json')\n",
    "        consumer_key = credentials['TWITTER_CONSUMER_KEY']\n",
    "        consumer_secret = credentials['TWITTER_CONSUMER_SECRET']\n",
    "        access_token = credentials['TWITTER_ACCESS_TOKEN']\n",
    "        access_secret = credentials['TWITTER_ACCESS_SECRET']\n",
    "    except KeyError:\n",
    "        sys.stderr.write(\"TWITTER_*  not found\\n\")\n",
    "        sys.exit(1)\n",
    "    auth = OAuthHandler(consumer_key, consumer_secret)\n",
    "    auth.set_access_token(access_token, access_secret)\n",
    "    return auth\n",
    "\n",
    "\n",
    "def get_twitter_client():\n",
    "    \"\"\"Setup Twitter API client.\n",
    "\n",
    "    Return: tweepy.API object\n",
    "    \"\"\"\n",
    "    auth = get_twitter_auth()\n",
    "    client = API(auth)\n",
    "    return client\n"
   ]
  },
  {
   "cell_type": "code",
   "execution_count": 17,
   "metadata": {
    "scrolled": true
   },
   "outputs": [
    {
     "name": "stdout",
     "output_type": "stream",
     "text": [
      "Can #statistics help us be healthier? Absolutely! https://t.co/Fw7IVupmsQ\n",
      "======\n",
      "Local StartUps to Turn Prototype into Businesses  https://t.co/wFJhAt8rom @ejobu_rw\n",
      "======\n",
      "What a week! Thanks #KubeCon it's been a blast 🌩 https://t.co/HHwD9lfuey\n",
      "======\n",
      "#PL clubs have been busy announcing their summer plans 😎\n",
      "\n",
      "Here's where they're heading... https://t.co/7rAElpbtBu\n",
      "======\n",
      "David Silva addresses Man City future #mcfc https://t.co/iDZAChrewE\n",
      "======\n",
      "The #U20WC 🏆 is about to start and our Fan Movement members in Poland 🇵🇱 want to welcome everyone to their country… https://t.co/KF2yOZUDRT\n",
      "======\n",
      "\"Sovereignty through mathematics CHAPTER FIVE\" by @knutsvanholm https://t.co/7lTn4ZCOcp #bitcoin #sovereignty\n",
      "======\n",
      "RT @JasonSlavik: @MarkCCrowley Great info @MarkCCrowley Take away - if your senior manager gets uncomfortable when \"their\" seat is taken th…\n",
      "======\n",
      "Watch out, @JesseLingard 😂 https://t.co/rJSCdssRa9\n",
      "======\n",
      "Chocolat du Kivu fair-trade 😊 tu achètes le chocolat emballé dans un super dessin d’artistes locaux! https://t.co/xv4Kwav0Tg\n",
      "======\n"
     ]
    }
   ],
   "source": [
    "client = get_twitter_client() \n",
    "for status in Cursor(client.home_timeline).items(10): \n",
    "    # Process a single status \n",
    "    print(status.text)\n",
    "    print('======')"
   ]
  },
  {
   "cell_type": "code",
   "execution_count": null,
   "metadata": {},
   "outputs": [],
   "source": []
  }
 ],
 "metadata": {
  "kernelspec": {
   "display_name": "Python 3",
   "language": "python",
   "name": "python3"
  },
  "language_info": {
   "codemirror_mode": {
    "name": "ipython",
    "version": 3
   },
   "file_extension": ".py",
   "mimetype": "text/x-python",
   "name": "python",
   "nbconvert_exporter": "python",
   "pygments_lexer": "ipython3",
   "version": "3.6.5"
  }
 },
 "nbformat": 4,
 "nbformat_minor": 2
}
