{
 "cells": [
  {
   "cell_type": "markdown",
   "metadata": {},
   "source": [
    "#### Train Embedding on Congo News Dataset\n",
    "\n",
    "In this notebook I will finetune the camebert model on the congo news dataset. The end goal will be to have a model which is fined tune on the congo news dataset and can be used for various NLP tasks. But with a focus on topic modeling.\n",
    "\n",
    "The first step will consist of reading the data from the database where it saved and preprocess it in paragraphs.\n"
   ]
  },
  {
   "cell_type": "code",
   "execution_count": 3,
   "metadata": {},
   "outputs": [],
   "source": [
    "from os import getenv\n",
    "from dotenv import load_dotenv, find_dotenv\n",
    "from sqlalchemy import create_engine\n",
    "from sqlalchemy.orm import sessionmaker\n",
    "from urllib.parse import quote\n"
   ]
  },
  {
   "cell_type": "code",
   "execution_count": 4,
   "metadata": {},
   "outputs": [],
   "source": [
    "load_dotenv()\n",
    "database_url = database_url = 'postgresql+psycopg2://{user}:{password}@{host}:{port}/{database}'\\\n",
    "        .format(user=getenv('POSTGRES_USER'),\n",
    "                password=quote(getenv('POSTGRES_PASSWORD')),\n",
    "                host=getenv('POSTGRES_HOST'),\n",
    "                database=getenv('POSTGRES_DB'),\n",
    "                port=getenv('POSTGRES_PORT'))"
   ]
  },
  {
   "cell_type": "code",
   "execution_count": 5,
   "metadata": {},
   "outputs": [],
   "source": [
    "engine = create_engine(database_url)\n",
    "Session = sessionmaker(bind=engine)\n",
    "session = Session()"
   ]
  },
  {
   "cell_type": "code",
   "execution_count": 8,
   "metadata": {},
   "outputs": [],
   "source": [
    "query = \"select title, content, summary, posted_at, website_origin from article\""
   ]
  },
  {
   "cell_type": "markdown",
   "metadata": {},
   "source": [
    "After collecting the data from our database, let process it. We will leverage the processing function define in Haystack."
   ]
  },
  {
   "cell_type": "code",
   "execution_count": 6,
   "metadata": {},
   "outputs": [],
   "source": [
    "import pandas as pd"
   ]
  },
  {
   "cell_type": "code",
   "execution_count": 9,
   "metadata": {},
   "outputs": [],
   "source": [
    "with engine.connect() as connection:\n",
    "    data = pd.read_sql_query(sql=query, con=connection, parse_dates=['posted_at'])"
   ]
  },
  {
   "cell_type": "code",
   "execution_count": 10,
   "metadata": {},
   "outputs": [
    {
     "data": {
      "text/html": [
       "<div>\n",
       "<style scoped>\n",
       "    .dataframe tbody tr th:only-of-type {\n",
       "        vertical-align: middle;\n",
       "    }\n",
       "\n",
       "    .dataframe tbody tr th {\n",
       "        vertical-align: top;\n",
       "    }\n",
       "\n",
       "    .dataframe thead th {\n",
       "        text-align: right;\n",
       "    }\n",
       "</style>\n",
       "<table border=\"1\" class=\"dataframe\">\n",
       "  <thead>\n",
       "    <tr style=\"text-align: right;\">\n",
       "      <th></th>\n",
       "      <th>title</th>\n",
       "      <th>content</th>\n",
       "      <th>summary</th>\n",
       "      <th>posted_at</th>\n",
       "      <th>website_origin</th>\n",
       "    </tr>\n",
       "  </thead>\n",
       "  <tbody>\n",
       "    <tr>\n",
       "      <th>0</th>\n",
       "      <td>RDC : Les Jeux de la Francophonie ont stimulé ...</td>\n",
       "      <td>« En plus des résultats plus que satisfaisants...</td>\n",
       "      <td>None</td>\n",
       "      <td>NaT</td>\n",
       "      <td>https://www.7sur7.cd</td>\n",
       "    </tr>\n",
       "    <tr>\n",
       "      <th>1</th>\n",
       "      <td>Ituri : 3 civils tués par des miliciens CODECO...</td>\n",
       "      <td>Trois (3) civils ont été tués et 2 autres griè...</td>\n",
       "      <td>None</td>\n",
       "      <td>NaT</td>\n",
       "      <td>https://www.7sur7.cd</td>\n",
       "    </tr>\n",
       "    <tr>\n",
       "      <th>2</th>\n",
       "      <td>RDC : Le succès des Jeux de la Francophonie pr...</td>\n",
       "      <td>Cette Organisation de la société civile félici...</td>\n",
       "      <td>None</td>\n",
       "      <td>NaT</td>\n",
       "      <td>https://www.7sur7.cd</td>\n",
       "    </tr>\n",
       "    <tr>\n",
       "      <th>3</th>\n",
       "      <td>Beni : 2 ADF de nationalité ougandaise tués pa...</td>\n",
       "      <td>Selon le porte-parole du secteur opérationnel ...</td>\n",
       "      <td>None</td>\n",
       "      <td>NaT</td>\n",
       "      <td>https://www.7sur7.cd</td>\n",
       "    </tr>\n",
       "    <tr>\n",
       "      <th>4</th>\n",
       "      <td>Kinshasa : 5 morts dans l’incendie provoqué pa...</td>\n",
       "      <td>C'est ce qu'a affirmé le vice-gouverneur de la...</td>\n",
       "      <td>None</td>\n",
       "      <td>NaT</td>\n",
       "      <td>https://www.7sur7.cd</td>\n",
       "    </tr>\n",
       "  </tbody>\n",
       "</table>\n",
       "</div>"
      ],
      "text/plain": [
       "                                               title  \\\n",
       "0  RDC : Les Jeux de la Francophonie ont stimulé ...   \n",
       "1  Ituri : 3 civils tués par des miliciens CODECO...   \n",
       "2  RDC : Le succès des Jeux de la Francophonie pr...   \n",
       "3  Beni : 2 ADF de nationalité ougandaise tués pa...   \n",
       "4  Kinshasa : 5 morts dans l’incendie provoqué pa...   \n",
       "\n",
       "                                             content summary posted_at  \\\n",
       "0  « En plus des résultats plus que satisfaisants...    None       NaT   \n",
       "1  Trois (3) civils ont été tués et 2 autres griè...    None       NaT   \n",
       "2  Cette Organisation de la société civile félici...    None       NaT   \n",
       "3  Selon le porte-parole du secteur opérationnel ...    None       NaT   \n",
       "4  C'est ce qu'a affirmé le vice-gouverneur de la...    None       NaT   \n",
       "\n",
       "         website_origin  \n",
       "0  https://www.7sur7.cd  \n",
       "1  https://www.7sur7.cd  \n",
       "2  https://www.7sur7.cd  \n",
       "3  https://www.7sur7.cd  \n",
       "4  https://www.7sur7.cd  "
      ]
     },
     "execution_count": 10,
     "metadata": {},
     "output_type": "execute_result"
    }
   ],
   "source": [
    "data.head()"
   ]
  },
  {
   "cell_type": "code",
   "execution_count": 11,
   "metadata": {},
   "outputs": [],
   "source": [
    "data.content = data.content.str.replace(u'\\xa0', u' ').str.split(\"  \")"
   ]
  },
  {
   "cell_type": "code",
   "execution_count": 12,
   "metadata": {},
   "outputs": [
    {
     "data": {
      "text/plain": [
       "(66570, 5)"
      ]
     },
     "execution_count": 12,
     "metadata": {},
     "output_type": "execute_result"
    }
   ],
   "source": [
    "data.shape"
   ]
  },
  {
   "cell_type": "code",
   "execution_count": 13,
   "metadata": {},
   "outputs": [],
   "source": [
    "data = data.explode(\"content\")"
   ]
  },
  {
   "cell_type": "code",
   "execution_count": 14,
   "metadata": {},
   "outputs": [
    {
     "data": {
      "text/plain": [
       "(182985, 5)"
      ]
     },
     "execution_count": 14,
     "metadata": {},
     "output_type": "execute_result"
    }
   ],
   "source": [
    "data.shape"
   ]
  },
  {
   "cell_type": "code",
   "execution_count": 15,
   "metadata": {},
   "outputs": [],
   "source": [
    "import re\n",
    "from unicodedata import normalize as unicode_normalize, category as unicode_category\n"
   ]
  },
  {
   "cell_type": "code",
   "execution_count": 16,
   "metadata": {},
   "outputs": [],
   "source": [
    "def deaccent(text):\n",
    "    \"\"\"\n",
    "    Remove accentuation from the given string. Input text is either a unicode string or utf8 encoded bytestring.\n",
    "\n",
    "    Return input string with accents removed, as unicode.\n",
    "\n",
    "    >>> deaccent(\"Šéf chomutovských komunistů dostal poštou bílý prášek\")\n",
    "    u'Sef chomutovskych komunistu dostal postou bily prasek'\n",
    "\n",
    "    \"\"\"\n",
    "    if not isinstance(text, str):\n",
    "        # assume utf8 for byte strings, use default (strict) error handling\n",
    "        text = text.decode('utf8')\n",
    "    norm = unicode_normalize(\"NFD\", text)\n",
    "    result = str('').join(ch for ch in norm if unicode_category(ch) != 'Mn')\n",
    "    return unicode_normalize(\"NFC\", result)\n"
   ]
  },
  {
   "cell_type": "code",
   "execution_count": 60,
   "metadata": {},
   "outputs": [],
   "source": [
    "def replace_point(document):\n",
    "    \"\"\"replace the point with the wwt.www with space point before tokenizing the document .\n",
    "    TOdos : this may have a a downside when the point is in the middle of a words\n",
    "    Args:\n",
    "        document (_type_): _description_\n",
    "    \"\"\"\n",
    "    result = re.sub(r\"(\\S)\\.(\\S)\", r\"\\1 . \\2\", document)\n",
    "    return result\n",
    "\n",
    "def replace_website_name(document):\n",
    "    \"\"\"sometimes the doucment has the name politico.cd or 7sur7.cd or actualite.cd, we would like to replace them by the \n",
    "    actual name of the website. before proper cleaning\n",
    "\n",
    "    Args:\n",
    "        document (_type_): _description_\n",
    "    \"\"\"\n",
    "    # @TODO : not sure if this will work but , way better replace by the first line of match.\n",
    "    \n",
    "    result = re.sub(r\"7SUR7.CD|politico.cd|actualite.cd|mediacongo.net\", r\"SITE_WEB\", document, flags=re.IGNORECASE)\n",
    "    return result\n",
    "\n",
    "def remove_accents(document):\n",
    "    input_without_accent = deaccent(document)\n",
    "    return input_without_accent\n",
    "\n",
    "def pre_clean_document(document):\n",
    "    \"\"\"pre clean the document by removing the accents and replacing the point with the wwt.www with space point before tokenizing the document .\n",
    "    TOdos : this may have a a downside when the point is in the middle of a words\n",
    "    and any other side of cleaning that we want to do .\n",
    "    Args:\n",
    "        document (_type_): _description_\n",
    "    \"\"\"\n",
    "    result = remove_accents(document)\n",
    "    result =  replace_website_name(result)\n",
    "    result = replace_point(result)\n",
    "    result = re.sub(r\"This post has already been read \\d+ times!\", \"\", result) # remove unwanted text\n",
    "    result = unicode_normalize(\"NFKD\", result)\n",
    "    return result"
   ]
  },
  {
   "cell_type": "code",
   "execution_count": 61,
   "metadata": {},
   "outputs": [],
   "source": [
    "import numpy as np"
   ]
  },
  {
   "cell_type": "code",
   "execution_count": 2,
   "metadata": {},
   "outputs": [
    {
     "ename": "NameError",
     "evalue": "name 'data' is not defined",
     "output_type": "error",
     "traceback": [
      "\u001b[0;31m---------------------------------------------------------------------------\u001b[0m",
      "\u001b[0;31mNameError\u001b[0m                                 Traceback (most recent call last)",
      "Cell \u001b[0;32mIn[2], line 1\u001b[0m\n\u001b[0;32m----> 1\u001b[0m data\u001b[39m.\u001b[39mshape()\n",
      "\u001b[0;31mNameError\u001b[0m: name 'data' is not defined"
     ]
    }
   ],
   "source": [
    "data.shape()"
   ]
  },
  {
   "cell_type": "code",
   "execution_count": 21,
   "metadata": {},
   "outputs": [],
   "source": [
    "# this can be improved.\n",
    "data.content = data.content.\\\n",
    "    str.replace(r\"(\\S)\\.(\\S)\", r\"\\1 . \\2\", regex=True)\\\n",
    "    .str.replace(r\"7SUR7.CD|politico.cd|actualite.cd|mediacongo.net\", r\"SITE_WEB\", flags=re.IGNORECASE, regex=True)\\\n",
    "    .str.replace(r\"This post has already been read \\d+ times!\", \"\", regex=True)"
   ]
  },
  {
   "cell_type": "code",
   "execution_count": 22,
   "metadata": {},
   "outputs": [],
   "source": [
    "from datasets import Dataset"
   ]
  },
  {
   "cell_type": "code",
   "execution_count": 23,
   "metadata": {},
   "outputs": [],
   "source": [
    "dataset = Dataset.from_pandas(data)"
   ]
  },
  {
   "cell_type": "code",
   "execution_count": 24,
   "metadata": {},
   "outputs": [
    {
     "data": {
      "text/plain": [
       "(182985, 6)"
      ]
     },
     "execution_count": 24,
     "metadata": {},
     "output_type": "execute_result"
    }
   ],
   "source": [
    "dataset.shape"
   ]
  },
  {
   "cell_type": "code",
   "execution_count": null,
   "metadata": {},
   "outputs": [],
   "source": []
  }
 ],
 "metadata": {
  "kernelspec": {
   "display_name": ".venv",
   "language": "python",
   "name": "python3"
  },
  "language_info": {
   "codemirror_mode": {
    "name": "ipython",
    "version": 3
   },
   "file_extension": ".py",
   "mimetype": "text/x-python",
   "name": "python",
   "nbconvert_exporter": "python",
   "pygments_lexer": "ipython3",
   "version": "3.10.4"
  },
  "orig_nbformat": 4
 },
 "nbformat": 4,
 "nbformat_minor": 2
}
