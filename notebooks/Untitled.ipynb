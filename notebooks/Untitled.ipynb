{
 "cells": [
  {
   "cell_type": "code",
   "execution_count": 1,
   "metadata": {},
   "outputs": [],
   "source": [
    "import pandas as pd"
   ]
  },
  {
   "cell_type": "code",
   "execution_count": 2,
   "metadata": {},
   "outputs": [
    {
     "name": "stdout",
     "output_type": "stream",
     "text": [
      "/Users/espoir-mur/Projects/Personnal/twitter-anaylis/notebooks\r\n"
     ]
    }
   ],
   "source": [
    "!pwd"
   ]
  },
  {
   "cell_type": "code",
   "execution_count": 5,
   "metadata": {
    "scrolled": false
   },
   "outputs": [],
   "source": [
    "data = pd.read_csv('../../house-rwanda-webscrap/data/houses_sample_with_details.csv')"
   ]
  },
  {
   "cell_type": "code",
   "execution_count": 6,
   "metadata": {},
   "outputs": [
    {
     "data": {
      "text/plain": [
       "Index(['Unnamed: 0', 'city', 'date_posted', 'details', 'price', 'title',\n",
       "       'url'],\n",
       "      dtype='object')"
      ]
     },
     "execution_count": 6,
     "metadata": {},
     "output_type": "execute_result"
    }
   ],
   "source": [
    "data.columns"
   ]
  },
  {
   "cell_type": "code",
   "execution_count": 7,
   "metadata": {},
   "outputs": [
    {
     "data": {
      "text/plain": [
       "0         kicukiro, house for sale . . . \n",
       "1                                 kigali \n",
       "2                                 kigali \n",
       "3                                  kigali\n",
       "4                      Kigali dealers ltd\n",
       "5                 kanombe @55.000.000 Rwf\n",
       "6                 kanombe @50.000.000 Rwf\n",
       "7                                  kigali\n",
       "8                          Kigali dealers\n",
       "9         karuruma house for sale@ . . . \n",
       "10          kabuga house for sale@ . . . \n",
       "11                    Gasogi ndera kigali\n",
       "12                    Kimisagara-Kamuhoza\n",
       "13                                 Kigali\n",
       "14                                 Kigali\n",
       "15        kicukiro, house for sale . . . \n",
       "16        kicukiro, house for sale . . . \n",
       "17        kicukiro, house for sale . . . \n",
       "18      kimironko house for sale 4 . . . \n",
       "19      kimironko house for sale 4 . . . \n",
       "20      kimironko house for sale 4 . . . \n",
       "21                       kigali kimironko\n",
       "22                             Kimihurura\n",
       "23                      kigali kibagabaga\n",
       "24      kimironko house for sale 4 . . . \n",
       "25                         Kigali gikomdo\n",
       "26        kicukiro, house for sale . . . \n",
       "27                                kigali \n",
       "28                                kigali \n",
       "29                                 kigali\n",
       "                      ...                \n",
       "467                        Kigali gikomdo\n",
       "468       kicukiro, house for sale . . . \n",
       "469                               kigali \n",
       "470                               kigali \n",
       "471                                kigali\n",
       "472                    Kigali dealers ltd\n",
       "473               kanombe @55.000.000 Rwf\n",
       "474               kanombe @50.000.000 Rwf\n",
       "475                                kigali\n",
       "476                        Kigali dealers\n",
       "477       karuruma house for sale@ . . . \n",
       "478         kabuga house for sale@ . . . \n",
       "479                   Gasogi ndera kigali\n",
       "480                   Kimisagara-Kamuhoza\n",
       "481                                Kigali\n",
       "482                                Kigali\n",
       "483       kicukiro, house for sale . . . \n",
       "484       kicukiro, house for sale . . . \n",
       "485       kicukiro, house for sale . . . \n",
       "486     kimironko house for sale 4 . . . \n",
       "487     kimironko house for sale 4 . . . \n",
       "488     kimironko house for sale 4 . . . \n",
       "489                      kigali kimironko\n",
       "490                            Kimihurura\n",
       "491                     kigali kibagabaga\n",
       "492     kimironko house for sale 4 . . . \n",
       "493                        Kigali gikomdo\n",
       "494       kicukiro, house for sale . . . \n",
       "495                               kigali \n",
       "496                               kigali \n",
       "Name: city, Length: 497, dtype: object"
      ]
     },
     "execution_count": 7,
     "metadata": {},
     "output_type": "execute_result"
    }
   ],
   "source": [
    "data.get('city')"
   ]
  },
  {
   "cell_type": "code",
   "execution_count": null,
   "metadata": {},
   "outputs": [],
   "source": []
  }
 ],
 "metadata": {
  "kernelspec": {
   "display_name": "Python 3",
   "language": "python",
   "name": "python3"
  },
  "language_info": {
   "codemirror_mode": {
    "name": "ipython",
    "version": 3
   },
   "file_extension": ".py",
   "mimetype": "text/x-python",
   "name": "python",
   "nbconvert_exporter": "python",
   "pygments_lexer": "ipython3",
   "version": "3.6.5"
  }
 },
 "nbformat": 4,
 "nbformat_minor": 2
}
