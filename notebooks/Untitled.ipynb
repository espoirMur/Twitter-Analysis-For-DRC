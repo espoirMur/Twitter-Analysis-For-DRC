{
 "cells": [
  {
   "cell_type": "code",
   "execution_count": 1,
   "metadata": {},
   "outputs": [
    {
     "data": {
      "text/plain": [
       "[0, 0, 0, 0]"
      ]
     },
     "execution_count": 1,
     "metadata": {},
     "output_type": "execute_result"
    }
   ],
   "source": [
    "[0] * (3 + 1)"
   ]
  },
  {
   "cell_type": "code",
   "execution_count": 135,
   "metadata": {},
   "outputs": [],
   "source": [
    "import json\n",
    "\n",
    "\n",
    "class SearchByTag:\n",
    "\n",
    "    def __init__(self, data_file, query_tag):\n",
    "        self._data = data_file\n",
    "        self.query = query_tag\n",
    "\n",
    "    def search(self):\n",
    "        if self._data.get('items'):\n",
    "            for data in self._data.get('items'):\n",
    "                if  data.get('tags') and  self.query in data.get('tags'):\n",
    "                    yield data\n",
    "\n",
    "    def first(self):\n",
    "        next()\n"
   ]
  },
  {
   "cell_type": "code",
   "execution_count": 136,
   "metadata": {},
   "outputs": [],
   "source": [
    "data = { \"items\": [\n",
    " {\"name\": \"The Shawshank Redemption\", },\n",
    " {\"name\": \"The Godfather\", \"tags\": [\"70s\", \"drama\", \"crime\"]},\n",
    " {\"name\": \"The Dark Knight\", \"tags\": [\"action\", \"crime\", \"drama\"]},\n",
    " {\"name\": \"The Godfather: Part II\", \"tags\": [\"70s\", \"crime\", \"drama\"]},\n",
    " {\"name\": \"M1\", \"tags\": [\"france\", \"80s\", \"drama\"]}\n",
    "]}"
   ]
  },
  {
   "cell_type": "code",
   "execution_count": 137,
   "metadata": {
    "scrolled": true
   },
   "outputs": [],
   "source": [
    "search = SearchByTag(data, 'france')"
   ]
  },
  {
   "cell_type": "code",
   "execution_count": 138,
   "metadata": {},
   "outputs": [],
   "source": [
    "results = search.search()"
   ]
  },
  {
   "cell_type": "code",
   "execution_count": 139,
   "metadata": {
    "scrolled": true
   },
   "outputs": [
    {
     "data": {
      "text/plain": [
       "{'name': 'M1', 'tags': ['france', '80s', 'drama']}"
      ]
     },
     "execution_count": 139,
     "metadata": {},
     "output_type": "execute_result"
    }
   ],
   "source": [
    "next(results)"
   ]
  },
  {
   "cell_type": "code",
   "execution_count": 122,
   "metadata": {},
   "outputs": [
    {
     "data": {
      "text/plain": [
       "({'name': 'M1', 'tags': ['france', '80s', 'drama']},)"
      ]
     },
     "execution_count": 122,
     "metadata": {},
     "output_type": "execute_result"
    }
   ],
   "source": [
    "tuple(search.search())"
   ]
  },
  {
   "cell_type": "code",
   "execution_count": 35,
   "metadata": {},
   "outputs": [],
   "source": [
    "import string"
   ]
  },
  {
   "cell_type": "code",
   "execution_count": 38,
   "metadata": {},
   "outputs": [],
   "source": [
    "alphabet = list(string.ascii_lowercase)"
   ]
  },
  {
   "cell_type": "code",
   "execution_count": 41,
   "metadata": {},
   "outputs": [
    {
     "data": {
      "text/plain": [
       "0"
      ]
     },
     "execution_count": 41,
     "metadata": {},
     "output_type": "execute_result"
    }
   ],
   "source": [
    "alphabet.index('a')"
   ]
  },
  {
   "cell_type": "code",
   "execution_count": 68,
   "metadata": {},
   "outputs": [],
   "source": [
    "def find_consecutive_letter(word):\n",
    "    sequence = []\n",
    "    indexes = []\n",
    "    for i in range(0, len(word)-1):\n",
    "        print('====>',word[i],  word[i+1])\n",
    "        if alphabet.index(word[i+1]) - alphabet.index(word[i]) in (0, 1):\n",
    "            sequence.append(\"{}{}\".format(word[i], word[i+1]))\n",
    "            indexes.append(i+1)\n",
    "            print(\"sequence found \", word[i], word[i+1])\n",
    "    return zip(sequence, indexes)"
   ]
  },
  {
   "cell_type": "code",
   "execution_count": 105,
   "metadata": {
    "scrolled": true
   },
   "outputs": [
    {
     "name": "stdout",
     "output_type": "stream",
     "text": [
      "====> c o\n",
      "====> o d\n",
      "====> d i\n",
      "====> i l\n",
      "====> l i\n",
      "====> i t\n",
      "====> t y\n"
     ]
    }
   ],
   "source": [
    "matches = tuple(find_consecutive_letter(\"codility\"))"
   ]
  },
  {
   "cell_type": "code",
   "execution_count": 106,
   "metadata": {},
   "outputs": [
    {
     "data": {
      "text/plain": [
       "()"
      ]
     },
     "execution_count": 106,
     "metadata": {},
     "output_type": "execute_result"
    }
   ],
   "source": [
    "matches"
   ]
  },
  {
   "cell_type": "code",
   "execution_count": 96,
   "metadata": {},
   "outputs": [],
   "source": [
    "from collections import defaultdict\n",
    "res = defaultdict(list)\n",
    "for k, v in matches: res[k].append(v)"
   ]
  },
  {
   "cell_type": "code",
   "execution_count": 97,
   "metadata": {
    "scrolled": true
   },
   "outputs": [
    {
     "data": {
      "text/plain": [
       "{'aa': [1, 5], 'ab': [2, 6, 9], 'bc': [3, 7]}"
      ]
     },
     "execution_count": 97,
     "metadata": {},
     "output_type": "execute_result"
    }
   ],
   "source": [
    "dict(res)"
   ]
  },
  {
   "cell_type": "code",
   "execution_count": 98,
   "metadata": {},
   "outputs": [],
   "source": [
    "for digrames , list_ in res.items():\n",
    "    res[digrames] = max(list_) - min(list_)"
   ]
  },
  {
   "cell_type": "code",
   "execution_count": 104,
   "metadata": {
    "scrolled": false
   },
   "outputs": [
    {
     "data": {
      "text/plain": [
       "7"
      ]
     },
     "execution_count": 104,
     "metadata": {},
     "output_type": "execute_result"
    }
   ],
   "source": [
    "res[max(res, key=res.get)]"
   ]
  },
  {
   "cell_type": "code",
   "execution_count": 109,
   "metadata": {},
   "outputs": [],
   "source": [
    "def solution(S):\n",
    "    # write your code in Python 3.6\n",
    "    sequence = []\n",
    "    indexes = []\n",
    "    for i in range(0, len(S)-1):\n",
    "        print('====>',S[i],  S[i+1])\n",
    "        if alphabet.index(S[i+1]) - alphabet.index(S[i]) in (0, 1):\n",
    "            sequence.append(\"{}{}\".format(S[i], S[i+1]))\n",
    "            indexes.append(i+1)\n",
    "            print(\"sequence found \", S[i], S[i+1])\n",
    "    matches = tuple(zip(sequence, indexes))\n",
    "    if matches:\n",
    "        print(match)\n",
    "        res = defaultdict(list)\n",
    "        for k, v in matches: res[k].append(v)\n",
    "        for digrames , list_ in res.items():\n",
    "            res[digrames] = max(list_) - min(list_)\n",
    "        return res[max(res, key=res.get)]\n",
    "    else:\n",
    "        return -1"
   ]
  },
  {
   "cell_type": "code",
   "execution_count": 110,
   "metadata": {
    "scrolled": false
   },
   "outputs": [
    {
     "name": "stdout",
     "output_type": "stream",
     "text": [
      "====> c o\n",
      "====> o d\n",
      "====> d i\n",
      "====> i l\n",
      "====> l i\n",
      "====> i t\n",
      "====> t y\n"
     ]
    },
    {
     "data": {
      "text/plain": [
       "-1"
      ]
     },
     "execution_count": 110,
     "metadata": {},
     "output_type": "execute_result"
    }
   ],
   "source": [
    "solution('codility')"
   ]
  },
  {
   "cell_type": "code",
   "execution_count": 111,
   "metadata": {},
   "outputs": [
    {
     "data": {
      "text/plain": [
       "[0, 0, 0, 0, 0, 0, 0]"
      ]
     },
     "execution_count": 111,
     "metadata": {},
     "output_type": "execute_result"
    }
   ],
   "source": [
    "count = [0] * (6 + 1)\n",
    "count"
   ]
  },
  {
   "cell_type": "code",
   "execution_count": 112,
   "metadata": {},
   "outputs": [],
   "source": [
    "def most_frequent(List): \n",
    "    dict = {} \n",
    "    count, itm = 0, '' \n",
    "    for item in reversed(List): \n",
    "        dict[item] = dict.get(item, 0) + 1\n",
    "        if dict[item] >= count : \n",
    "            count, itm = dict[item], item \n",
    "    return(itm) "
   ]
  },
  {
   "cell_type": "code",
   "execution_count": null,
   "metadata": {},
   "outputs": [],
   "source": [
    "def solution(M, A):\n",
    "    N = len(A)\n",
    "    count = [0] * (M + 1)\n",
    "    maxOccurence = 1\n",
    "    index = -1\n",
    "    for i in range(N):\n",
    "        if count[A[i]] > 0:\n",
    "            tmp = count[A[i]]\n",
    "            if tmp > maxOccurence:\n",
    "                maxOccurence = tmp\n",
    "                index = i\n",
    "            count[A[i]] = tmp + 1\n",
    "        else:\n",
    "            count[A[i]] = 1\n",
    "    return A[index]"
   ]
  },
  {
   "cell_type": "code",
   "execution_count": 14,
   "metadata": {},
   "outputs": [
    {
     "data": {
      "text/plain": [
       "'deleveleD'"
      ]
     },
     "execution_count": 14,
     "metadata": {},
     "output_type": "execute_result"
    }
   ],
   "source": [
    "''.join(list(reversed(list(\"Deleveled\"))))"
   ]
  },
  {
   "cell_type": "code",
   "execution_count": null,
   "metadata": {},
   "outputs": [],
   "source": [
    "a = 1"
   ]
  },
  {
   "cell_type": "code",
   "execution_count": null,
   "metadata": {},
   "outputs": [],
   "source": []
  }
 ],
 "metadata": {
  "kernelspec": {
   "display_name": "Python 3",
   "language": "python",
   "name": "python3"
  },
  "language_info": {
   "codemirror_mode": {
    "name": "ipython",
    "version": 3
   },
   "file_extension": ".py",
   "mimetype": "text/x-python",
   "name": "python",
   "nbconvert_exporter": "python",
   "pygments_lexer": "ipython3",
   "version": "3.6.5"
  }
 },
 "nbformat": 4,
 "nbformat_minor": 2
}
