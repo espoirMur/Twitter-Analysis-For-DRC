{
 "cells": [
  {
   "cell_type": "code",
   "execution_count": 194,
   "metadata": {},
   "outputs": [],
   "source": [
    "import pandas as pd\n",
    "import numpy as np"
   ]
  },
  {
   "cell_type": "code",
   "execution_count": 195,
   "metadata": {
    "scrolled": true
   },
   "outputs": [
    {
     "name": "stdout",
     "output_type": "stream",
     "text": [
      "Requirement already satisfied: xlrd in /Users/espoir-mur/Projects/Personnal/twitter-analysis/.venv3/lib/python3.6/site-packages (1.2.0)\r\n"
     ]
    }
   ],
   "source": [
    "!pip install xlrd"
   ]
  },
  {
   "cell_type": "code",
   "execution_count": 196,
   "metadata": {},
   "outputs": [],
   "source": [
    "# !pwd"
   ]
  },
  {
   "cell_type": "code",
   "execution_count": 209,
   "metadata": {
    "scrolled": false
   },
   "outputs": [],
   "source": [
    "# change the path according to your problem\n",
    "loaded_sheet = pd.read_excel(\"/Users/espoir-mur/Downloads/Flow problem (1).xlsx\",\n",
    "              index_col=0,\n",
    "              names=['Time', 'Pump_A', 'Pump_B', 'Flow'],\n",
    "              usecols=[0,1,2,3])"
   ]
  },
  {
   "cell_type": "code",
   "execution_count": 198,
   "metadata": {},
   "outputs": [],
   "source": [
    "value = (0,)"
   ]
  },
  {
   "cell_type": "code",
   "execution_count": 199,
   "metadata": {
    "scrolled": true
   },
   "outputs": [
    {
     "data": {
      "text/html": [
       "<div>\n",
       "<style scoped>\n",
       "    .dataframe tbody tr th:only-of-type {\n",
       "        vertical-align: middle;\n",
       "    }\n",
       "\n",
       "    .dataframe tbody tr th {\n",
       "        vertical-align: top;\n",
       "    }\n",
       "\n",
       "    .dataframe thead th {\n",
       "        text-align: right;\n",
       "    }\n",
       "</style>\n",
       "<table border=\"1\" class=\"dataframe\">\n",
       "  <thead>\n",
       "    <tr style=\"text-align: right;\">\n",
       "      <th></th>\n",
       "      <th>Pump_A</th>\n",
       "      <th>Pump_B</th>\n",
       "      <th>Flow</th>\n",
       "    </tr>\n",
       "    <tr>\n",
       "      <th>Time</th>\n",
       "      <th></th>\n",
       "      <th></th>\n",
       "      <th></th>\n",
       "    </tr>\n",
       "  </thead>\n",
       "  <tbody>\n",
       "    <tr>\n",
       "      <th>05:00:00</th>\n",
       "      <td>0</td>\n",
       "      <td>0</td>\n",
       "      <td>8</td>\n",
       "    </tr>\n",
       "  </tbody>\n",
       "</table>\n",
       "</div>"
      ],
      "text/plain": [
       "          Pump_A  Pump_B  Flow\n",
       "Time                          \n",
       "05:00:00       0       0     8"
      ]
     },
     "execution_count": 199,
     "metadata": {},
     "output_type": "execute_result"
    }
   ],
   "source": [
    "filtered_dataframe = loaded_sheet[loaded_sheet.Pump_A.isin(value) & loaded_sheet.Pump_B.isin(value)]\n",
    "# query the rows where columns Pump_A & Pump_B is zero\n",
    "filtered_dataframe.head(1)"
   ]
  },
  {
   "cell_type": "code",
   "execution_count": 208,
   "metadata": {},
   "outputs": [],
   "source": [
    "# reference : https://stackoverflow.com/a/46008267/4683950"
   ]
  },
  {
   "cell_type": "code",
   "execution_count": 200,
   "metadata": {
    "scrolled": true
   },
   "outputs": [],
   "source": [
    "loaded_sheet.replace(0, np.nan, inplace=True)"
   ]
  },
  {
   "cell_type": "code",
   "execution_count": 201,
   "metadata": {
    "scrolled": false
   },
   "outputs": [],
   "source": [
    "loaded_sheet['count']=~(loaded_sheet.Pump_A.isnull() & loaded_sheet.Pump_B.isnull())"
   ]
  },
  {
   "cell_type": "code",
   "execution_count": 202,
   "metadata": {
    "scrolled": false
   },
   "outputs": [],
   "source": [
    "loaded_sheet['count'] = loaded_sheet['count'].astype(int)"
   ]
  },
  {
   "cell_type": "code",
   "execution_count": 203,
   "metadata": {
    "scrolled": false
   },
   "outputs": [],
   "source": [
    "loaded_sheet['count'] = loaded_sheet['count'].cumsum()"
   ]
  },
  {
   "cell_type": "code",
   "execution_count": 204,
   "metadata": {
    "scrolled": false
   },
   "outputs": [],
   "source": [
    "loaded_sheet['Group'] = loaded_sheet['count']"
   ]
  },
  {
   "cell_type": "code",
   "execution_count": 205,
   "metadata": {
    "scrolled": false
   },
   "outputs": [],
   "source": [
    "loaded_sheet = loaded_sheet[loaded_sheet.Pump_A.isnull() & loaded_sheet.Pump_B.isnull()]"
   ]
  },
  {
   "cell_type": "code",
   "execution_count": 206,
   "metadata": {},
   "outputs": [],
   "source": [
    "def get_empty_row(group):\n",
    "    print(group)\n",
    "    return list(group.Time)[0], list(group.Time)[-1], np.average(group.Flow)"
   ]
  },
  {
   "cell_type": "code",
   "execution_count": 207,
   "metadata": {
    "scrolled": true
   },
   "outputs": [
    {
     "name": "stdout",
     "output_type": "stream",
     "text": [
      "       Time  Pump_A  Pump_B  Flow  count  Group\n",
      "0  05:00:00     NaN     NaN   8.0      5      5\n",
      "1  06:00:00     NaN     NaN   6.0      5      5\n",
      "       Time  Pump_A  Pump_B  Flow  count  Group\n",
      "0  05:00:00     NaN     NaN   8.0      5      5\n",
      "1  06:00:00     NaN     NaN   6.0      5      5\n",
      "       Time  Pump_A  Pump_B  Flow  count  Group\n",
      "2  08:00:00     NaN     NaN   5.0      6      6\n",
      "3  09:00:00     NaN     NaN   7.0      6      6\n",
      "       Time  Pump_A  Pump_B  Flow  count  Group\n",
      "4  14:00:00     NaN     NaN   5.0     10     10\n",
      "5  15:00:00     NaN     NaN   7.0     10     10\n",
      "6  16:00:00     NaN     NaN   6.0     10     10\n",
      "       Time  Pump_A  Pump_B  Flow  count  Group\n",
      "7  19:00:00     NaN     NaN   5.0     12     12\n",
      "       Time  Pump_A  Pump_B  Flow  count  Group\n",
      "8  21:00:00     NaN     NaN   8.0     13     13\n",
      "9  22:00:00     NaN     NaN   6.0     13     13\n"
     ]
    },
    {
     "data": {
      "text/plain": [
       "Group\n",
       "5     (05:00:00, 06:00:00, 7.0)\n",
       "6     (08:00:00, 09:00:00, 6.0)\n",
       "10    (14:00:00, 16:00:00, 6.0)\n",
       "12    (19:00:00, 19:00:00, 5.0)\n",
       "13    (21:00:00, 22:00:00, 7.0)\n",
       "dtype: object"
      ]
     },
     "execution_count": 207,
     "metadata": {},
     "output_type": "execute_result"
    }
   ],
   "source": [
    "loaded_sheet.reset_index().groupby('Group').apply(get_empty_row)"
   ]
  },
  {
   "cell_type": "code",
   "execution_count": null,
   "metadata": {},
   "outputs": [],
   "source": []
  }
 ],
 "metadata": {
  "kernelspec": {
   "display_name": "Python 3",
   "language": "python",
   "name": "python3"
  },
  "language_info": {
   "codemirror_mode": {
    "name": "ipython",
    "version": 3
   },
   "file_extension": ".py",
   "mimetype": "text/x-python",
   "name": "python",
   "nbconvert_exporter": "python",
   "pygments_lexer": "ipython3",
   "version": "3.6.5"
  }
 },
 "nbformat": 4,
 "nbformat_minor": 2
}
